{
 "cells": [
  {
   "cell_type": "markdown",
   "id": "14315d5a",
   "metadata": {},
   "source": [
    "# End to End Matching Example"
   ]
  },
  {
   "cell_type": "markdown",
   "id": "3080847d",
   "metadata": {},
   "source": [
    "Please run [Record-Linkage-Example.ipynb](Record-Linkage-Example.ipynb) before this one in order to get the trained model and data."
   ]
  },
  {
   "cell_type": "markdown",
   "id": "2eae51fb",
   "metadata": {},
   "source": [
    "## Boilerplate"
   ]
  },
  {
   "cell_type": "code",
   "execution_count": 1,
   "id": "e6be39ff",
   "metadata": {},
   "outputs": [],
   "source": [
    "%load_ext autoreload\n",
    "%autoreload 2"
   ]
  },
  {
   "cell_type": "code",
   "execution_count": 2,
   "id": "41394338",
   "metadata": {},
   "outputs": [],
   "source": [
    "from importlib import reload\n",
    "import logging\n",
    "reload(logging)\n",
    "logging.basicConfig(format='%(asctime)s %(levelname)s:%(message)s', level=logging.INFO, datefmt='%H:%M:%S')"
   ]
  },
  {
   "cell_type": "code",
   "execution_count": 3,
   "id": "96e239b1",
   "metadata": {},
   "outputs": [],
   "source": [
    "import sys\n",
    "\n",
    "sys.path.insert(0, '..')"
   ]
  },
  {
   "cell_type": "code",
   "execution_count": 4,
   "id": "23bdf412",
   "metadata": {},
   "outputs": [],
   "source": [
    "import entity_embed"
   ]
  },
  {
   "cell_type": "code",
   "execution_count": 5,
   "id": "d581925f",
   "metadata": {},
   "outputs": [],
   "source": [
    "import torch\n",
    "import numpy as np\n",
    "\n",
    "random_seed = 42\n",
    "torch.manual_seed(random_seed)\n",
    "np.random.seed(random_seed)"
   ]
  },
  {
   "cell_type": "markdown",
   "id": "a81e6680",
   "metadata": {},
   "source": [
    "## Loading Test Data"
   ]
  },
  {
   "cell_type": "code",
   "execution_count": 6,
   "id": "105a7df5",
   "metadata": {},
   "outputs": [],
   "source": [
    "import json\n",
    "from ordered_set import OrderedSet\n",
    "\n",
    "def load_pair_set(filepath):\n",
    "    with open(filepath, 'r') as f:\n",
    "        test_pos_pair_set = json.load(f)\n",
    "        return OrderedSet(tuple(pair) for pair in test_pos_pair_set)\n",
    "\n",
    "train_pos_pair_set = load_pair_set('../trained-models/notebooks/rl/rl-train-pos-pairs.json')\n",
    "valid_pos_pair_set = load_pair_set('../trained-models/notebooks/rl/rl-valid-pos-pairs.json')\n",
    "test_pos_pair_set = load_pair_set('../trained-models/notebooks/rl/rl-test-pos-pairs.json')"
   ]
  },
  {
   "cell_type": "code",
   "execution_count": 7,
   "id": "0af3fb30",
   "metadata": {},
   "outputs": [],
   "source": [
    "import json\n",
    "\n",
    "def load_record_dict(filepath):\n",
    "    with open(filepath, 'r') as f:\n",
    "        record_dict = json.load(f)\n",
    "        return {int(id_): record for id_, record in record_dict.items()}\n",
    "\n",
    "train_record_dict = load_record_dict('../trained-models/notebooks/rl/rl-train-records.json')\n",
    "valid_record_dict = load_record_dict('../trained-models/notebooks/rl/rl-valid-records.json')\n",
    "test_record_dict = load_record_dict('../trained-models/notebooks/rl/rl-test-records.json')"
   ]
  },
  {
   "cell_type": "markdown",
   "id": "9e691355",
   "metadata": {},
   "source": [
    "## Loading Model"
   ]
  },
  {
   "cell_type": "code",
   "execution_count": 8,
   "id": "9a29f154",
   "metadata": {},
   "outputs": [],
   "source": [
    "from entity_embed import LinkageEmbed\n",
    "\n",
    "model = LinkageEmbed.load_from_checkpoint('../trained-models/notebooks/rl/rl-model.ckpt')\n",
    "model = model.to(torch.device('cuda'))"
   ]
  },
  {
   "cell_type": "markdown",
   "id": "43e1861a",
   "metadata": {},
   "source": [
    "## Blocking"
   ]
  },
  {
   "cell_type": "markdown",
   "id": "e9287762",
   "metadata": {},
   "source": [
    "Use `sim_threshold = 0.375` to have ~6k pairs in `train_found_pair_set` and have a fair comparison with [baseline-models/End-to-End-Matching-Baseline.ipynb](./baseline-models/End-to-End-Matching-Baseline.ipynb)"
   ]
  },
  {
   "cell_type": "code",
   "execution_count": 9,
   "id": "00a07f05",
   "metadata": {},
   "outputs": [
    {
     "data": {
      "application/vnd.jupyter.widget-view+json": {
       "model_id": "1b5b2000d8ee44ba8539b502504be284",
       "version_major": 2,
       "version_minor": 0
      },
      "text/plain": [
       "# batch embedding:   0%|          | 0/37 [00:00<?, ?it/s]"
      ]
     },
     "metadata": {},
     "output_type": "display_data"
    },
    {
     "name": "stdout",
     "output_type": "stream",
     "text": [
      "CPU times: user 2.55 s, sys: 413 ms, total: 2.96 s\n",
      "Wall time: 1.66 s\n"
     ]
    },
    {
     "data": {
      "text/plain": [
       "5732"
      ]
     },
     "execution_count": 9,
     "metadata": {},
     "output_type": "execute_result"
    }
   ],
   "source": [
    "%%time\n",
    "\n",
    "eval_batch_size = 64\n",
    "ann_k = 100\n",
    "sim_threshold = 0.375\n",
    "\n",
    "train_found_pair_set, train_left_field_vector_dict, train_right_field_vector_dict = model.predict_pairs(\n",
    "    record_dict=train_record_dict,\n",
    "    batch_size=eval_batch_size,\n",
    "    ann_k=ann_k,\n",
    "    sim_threshold=sim_threshold,\n",
    "    show_progress=True,\n",
    "    return_field_embeddings=True\n",
    ")\n",
    "len(train_found_pair_set)"
   ]
  },
  {
   "cell_type": "code",
   "execution_count": 10,
   "id": "2739357b",
   "metadata": {},
   "outputs": [
    {
     "data": {
      "application/vnd.jupyter.widget-view+json": {
       "model_id": "fa6f7909317f47e7a45975371da20fb8",
       "version_major": 2,
       "version_minor": 0
      },
      "text/plain": [
       "# batch embedding:   0%|          | 0/15 [00:00<?, ?it/s]"
      ]
     },
     "metadata": {},
     "output_type": "display_data"
    },
    {
     "name": "stdout",
     "output_type": "stream",
     "text": [
      "CPU times: user 1.22 s, sys: 401 ms, total: 1.62 s\n",
      "Wall time: 904 ms\n"
     ]
    },
    {
     "data": {
      "text/plain": [
       "1016"
      ]
     },
     "execution_count": 10,
     "metadata": {},
     "output_type": "execute_result"
    }
   ],
   "source": [
    "%%time\n",
    "\n",
    "valid_found_pair_set, valid_left_field_vector_dict, valid_right_field_vector_dict = model.predict_pairs(\n",
    "    record_dict=valid_record_dict,\n",
    "    batch_size=eval_batch_size,\n",
    "    ann_k=ann_k,\n",
    "    sim_threshold=sim_threshold,\n",
    "    show_progress=True,\n",
    "    return_field_embeddings=True\n",
    ")\n",
    "len(valid_found_pair_set)"
   ]
  },
  {
   "cell_type": "code",
   "execution_count": 11,
   "id": "5d16e8ab",
   "metadata": {},
   "outputs": [
    {
     "data": {
      "application/vnd.jupyter.widget-view+json": {
       "model_id": "64667a8dbe714185af6d3ad33ab24850",
       "version_major": 2,
       "version_minor": 0
      },
      "text/plain": [
       "# batch embedding:   0%|          | 0/22 [00:00<?, ?it/s]"
      ]
     },
     "metadata": {},
     "output_type": "display_data"
    },
    {
     "name": "stdout",
     "output_type": "stream",
     "text": [
      "CPU times: user 1.53 s, sys: 423 ms, total: 1.95 s\n",
      "Wall time: 1.09 s\n"
     ]
    },
    {
     "data": {
      "text/plain": [
       "2039"
      ]
     },
     "execution_count": 11,
     "metadata": {},
     "output_type": "execute_result"
    }
   ],
   "source": [
    "%%time\n",
    "\n",
    "test_found_pair_set, test_left_field_vector_dict, test_right_field_vector_dict = model.predict_pairs(\n",
    "    record_dict=test_record_dict,\n",
    "    batch_size=eval_batch_size,\n",
    "    ann_k=ann_k,\n",
    "    sim_threshold=sim_threshold,\n",
    "    show_progress=True,\n",
    "    return_field_embeddings=True\n",
    ")\n",
    "len(test_found_pair_set)"
   ]
  },
  {
   "cell_type": "code",
   "execution_count": 12,
   "id": "69257b71",
   "metadata": {},
   "outputs": [
    {
     "data": {
      "application/vnd.jupyter.widget-view+json": {
       "model_id": "d6147c4d680945c0a3d0ef08f7005489",
       "version_major": 2,
       "version_minor": 0
      },
      "text/plain": [
       "# batch embedding:   0%|          | 0/22 [00:00<?, ?it/s]"
      ]
     },
     "metadata": {},
     "output_type": "display_data"
    }
   ],
   "source": [
    "test_attn_scores_dict = model.interpret_attention(\n",
    "    record_dict=test_record_dict,\n",
    "    batch_size=eval_batch_size,\n",
    "    field='title',\n",
    ")"
   ]
  },
  {
   "cell_type": "code",
   "execution_count": 13,
   "id": "75b09386",
   "metadata": {},
   "outputs": [
    {
     "data": {
      "text/plain": [
       "1.4894083272461651"
      ]
     },
     "execution_count": 13,
     "metadata": {},
     "output_type": "execute_result"
    }
   ],
   "source": [
    "from entity_embed.evaluation import pair_entity_ratio\n",
    "\n",
    "pair_entity_ratio(len(test_found_pair_set), len(test_record_dict))"
   ]
  },
  {
   "cell_type": "code",
   "execution_count": 14,
   "id": "3ad9d6e6",
   "metadata": {},
   "outputs": [
    {
     "data": {
      "text/plain": [
       "(0.18293281020107896, 0.979002624671916)"
      ]
     },
     "execution_count": 14,
     "metadata": {},
     "output_type": "execute_result"
    }
   ],
   "source": [
    "from entity_embed.evaluation import precision_and_recall\n",
    "\n",
    "precision_and_recall(test_found_pair_set, test_pos_pair_set)"
   ]
  },
  {
   "cell_type": "markdown",
   "id": "1bb67907",
   "metadata": {},
   "source": [
    "Complement the train/valid `found_pair_set` with `pos_pair_set` for training.  \n",
    "Leave test untoched, to reproduce production behavior:"
   ]
  },
  {
   "cell_type": "code",
   "execution_count": 15,
   "id": "ad6cd20d",
   "metadata": {},
   "outputs": [],
   "source": [
    "train_found_pair_set |= train_pos_pair_set\n",
    "valid_found_pair_set |= valid_pos_pair_set"
   ]
  },
  {
   "cell_type": "markdown",
   "id": "9e6925ac",
   "metadata": {},
   "source": [
    "## Matching: Compare"
   ]
  },
  {
   "cell_type": "markdown",
   "id": "93d29e62",
   "metadata": {},
   "source": [
    "Make a dataframe `df` with all records (train, valid, test) to add additional features:"
   ]
  },
  {
   "cell_type": "code",
   "execution_count": 16,
   "id": "14577317",
   "metadata": {},
   "outputs": [],
   "source": [
    "record_dict = {**train_record_dict, **valid_record_dict, **test_record_dict}"
   ]
  },
  {
   "cell_type": "code",
   "execution_count": 17,
   "id": "cc03d21f",
   "metadata": {},
   "outputs": [],
   "source": [
    "import pandas as pd\n",
    "\n",
    "df = pd.DataFrame.from_dict(record_dict, orient='index')\n",
    "df = df.drop(columns='id')"
   ]
  },
  {
   "cell_type": "code",
   "execution_count": 18,
   "id": "8e3e72de",
   "metadata": {},
   "outputs": [
    {
     "data": {
      "text/html": [
       "<div>\n",
       "<style scoped>\n",
       "    .dataframe tbody tr th:only-of-type {\n",
       "        vertical-align: middle;\n",
       "    }\n",
       "\n",
       "    .dataframe tbody tr th {\n",
       "        vertical-align: top;\n",
       "    }\n",
       "\n",
       "    .dataframe thead th {\n",
       "        text-align: right;\n",
       "    }\n",
       "</style>\n",
       "<table border=\"1\" class=\"dataframe\">\n",
       "  <thead>\n",
       "    <tr style=\"text-align: right;\">\n",
       "      <th></th>\n",
       "      <th>manufacturer</th>\n",
       "      <th>price</th>\n",
       "      <th>title</th>\n",
       "      <th>__source</th>\n",
       "      <th>all</th>\n",
       "    </tr>\n",
       "  </thead>\n",
       "  <tbody>\n",
       "    <tr>\n",
       "      <th>1728</th>\n",
       "      <td></td>\n",
       "      <td>1149.00</td>\n",
       "      <td>filemaker pro 8.5 5-user pack</td>\n",
       "      <td>google</td>\n",
       "      <td>filemaker pro 8.5 5-user pack -  - 1149</td>\n",
       "    </tr>\n",
       "    <tr>\n",
       "      <th>255</th>\n",
       "      <td>diskeeper corporation</td>\n",
       "      <td>736.66</td>\n",
       "      <td>diskeeper 2007 pro premier 5-lic pack</td>\n",
       "      <td>amazon</td>\n",
       "      <td>diskeeper 2007 pro premier 5-lic pack - diskee...</td>\n",
       "    </tr>\n",
       "    <tr>\n",
       "      <th>2889</th>\n",
       "      <td></td>\n",
       "      <td>16.00</td>\n",
       "      <td>emc securid appl mnt - ent/ std 17mo per u 2k5...</td>\n",
       "      <td>google</td>\n",
       "      <td>emc securid appl mnt - ent/ std 17mo per u 2k5...</td>\n",
       "    </tr>\n",
       "  </tbody>\n",
       "</table>\n",
       "</div>"
      ],
      "text/plain": [
       "               manufacturer    price  \\\n",
       "1728                         1149.00   \n",
       "255   diskeeper corporation   736.66   \n",
       "2889                           16.00   \n",
       "\n",
       "                                                  title __source  \\\n",
       "1728                      filemaker pro 8.5 5-user pack   google   \n",
       "255               diskeeper 2007 pro premier 5-lic pack   amazon   \n",
       "2889  emc securid appl mnt - ent/ std 17mo per u 2k5...   google   \n",
       "\n",
       "                                                    all  \n",
       "1728            filemaker pro 8.5 5-user pack -  - 1149  \n",
       "255   diskeeper 2007 pro premier 5-lic pack - diskee...  \n",
       "2889  emc securid appl mnt - ent/ std 17mo per u 2k5...  "
      ]
     },
     "execution_count": 18,
     "metadata": {},
     "output_type": "execute_result"
    }
   ],
   "source": [
    "df['all'] = df.agg('{0[title]} - {0[manufacturer]} - {0[price]}'.format, axis=1)\n",
    "df['price'] = pd.to_numeric(df['price'].str.replace(' ', ''), errors='coerce')\n",
    "del df['cluster']\n",
    "df.head(3)"
   ]
  },
  {
   "cell_type": "markdown",
   "id": "e1789693",
   "metadata": {},
   "source": [
    "Replace all `record_dict`s (train, valid, test) to add additional features:"
   ]
  },
  {
   "cell_type": "code",
   "execution_count": 19,
   "id": "f1732a76",
   "metadata": {},
   "outputs": [],
   "source": [
    "train_record_dict = df.loc[train_record_dict.keys()].to_dict(orient='index')\n",
    "valid_record_dict = df.loc[valid_record_dict.keys()].to_dict(orient='index')\n",
    "test_record_dict = df.loc[test_record_dict.keys()].to_dict(orient='index')"
   ]
  },
  {
   "cell_type": "code",
   "execution_count": 20,
   "id": "986bef99",
   "metadata": {},
   "outputs": [],
   "source": [
    "import textdistance as td\n",
    "import math\n",
    "\n",
    "def exact_eq(x, y):\n",
    "    return float(x == y)\n",
    "\n",
    "def token_ops(func):\n",
    "    def new_func(x, y):\n",
    "        return func(x.split(), y.split())    \n",
    "    return new_func\n",
    "\n",
    "def abs_diff(x, y):\n",
    "    return abs(x - y)\n",
    "\n",
    "def abs_diff_log10(x, y):\n",
    "    diff = abs_diff(x, y)\n",
    "    if diff > 1:\n",
    "        return math.log10(diff)\n",
    "    else:\n",
    "        return 0.0\n",
    "\n",
    "SIM_FUNC_DICT = {\n",
    "    (\"all\", \"jaccard\"): token_ops(td.jaccard.normalized_similarity),\n",
    "    (\"all\", \"overlap\"): token_ops(td.overlap.normalized_similarity),\n",
    "    (\"all\", \"damerau_levenshtein\"): td.damerau_levenshtein.normalized_similarity,\n",
    "    (\"all\", \"jaro_winkler\"): td.jaro_winkler.normalized_similarity,\n",
    "    (\"manufacturer\", \"jaccard\"): token_ops(td.jaccard.normalized_similarity),\n",
    "    (\"manufacturer\", \"overlap\"): token_ops(td.overlap.normalized_similarity),\n",
    "    (\"manufacturer\", \"damerau_levenshtein\"): td.damerau_levenshtein.normalized_similarity,\n",
    "    (\"manufacturer\", \"jaro_winkler\"): td.jaro_winkler.normalized_similarity,\n",
    "    (\"title\", \"jaccard\"): token_ops(td.jaccard.normalized_similarity),\n",
    "    (\"title\", \"overlap\"): token_ops(td.overlap.normalized_similarity),\n",
    "    (\"title\", \"damerau_levenshtein\"): td.damerau_levenshtein.normalized_similarity,\n",
    "    (\"title\", \"jaro_winkler\"): td.jaro_winkler.normalized_similarity,\n",
    "    (\"price\", \"abs_diff\"): abs_diff,\n",
    "    (\"price\", \"abs_diff_log10\"): abs_diff_log10,\n",
    "}\n",
    "\n",
    "def record_sim_func(record_pair):\n",
    "    record_left, record_right = record_pair\n",
    "    feature_dict = {}\n",
    "    \n",
    "    for (field, sim_func_name), sim_func in SIM_FUNC_DICT.items():\n",
    "        x = record_left[field]\n",
    "        y = record_right[field]\n",
    "        if x and y:\n",
    "            if sim_func_name.startswith('abs_diff') and (math.isnan(x) or math.isnan(y)):\n",
    "                sim = -1.0\n",
    "            else:\n",
    "                sim = sim_func(x, y)\n",
    "        else:\n",
    "            sim = -1.0\n",
    "        feature_dict[f\"{field}_{sim_func_name}\"] = sim\n",
    "    \n",
    "    return feature_dict"
   ]
  },
  {
   "cell_type": "code",
   "execution_count": 21,
   "id": "9789cd55",
   "metadata": {},
   "outputs": [
    {
     "name": "stdout",
     "output_type": "stream",
     "text": [
      "CPU times: user 5.59 ms, sys: 686 µs, total: 6.28 ms\n",
      "Wall time: 6.15 ms\n"
     ]
    },
    {
     "data": {
      "text/plain": [
       "{'all_jaccard': 0.41666666666666674,\n",
       " 'all_overlap': 0.625,\n",
       " 'all_damerau_levenshtein': 0.7222222222222222,\n",
       " 'all_jaro_winkler': 0.9258397932816538,\n",
       " 'manufacturer_jaccard': -1.0,\n",
       " 'manufacturer_overlap': -1.0,\n",
       " 'manufacturer_damerau_levenshtein': -1.0,\n",
       " 'manufacturer_jaro_winkler': -1.0,\n",
       " 'title_jaccard': 0.4285714285714286,\n",
       " 'title_overlap': 0.6,\n",
       " 'title_damerau_levenshtein': 0.9411764705882353,\n",
       " 'title_jaro_winkler': 0.9882352941176471,\n",
       " 'price_abs_diff': 14.709999999999994,\n",
       " 'price_abs_diff_log10': 1.16761267272753}"
      ]
     },
     "execution_count": 21,
     "metadata": {},
     "output_type": "execute_result"
    }
   ],
   "source": [
    "%%time\n",
    "\n",
    "pair = next(iter(test_pos_pair_set))\n",
    "id_left, id_right = pair\n",
    "feature_dict = record_sim_func((test_record_dict[id_left], test_record_dict[id_right]))\n",
    "\n",
    "# display(test_record_dict[id_left], test_record_dict[id_right])\n",
    "feature_dict"
   ]
  },
  {
   "cell_type": "code",
   "execution_count": 22,
   "id": "29ad8dfb",
   "metadata": {},
   "outputs": [],
   "source": [
    "from collections import defaultdict\n",
    "import multiprocessing\n",
    "from tqdm.auto import tqdm\n",
    "\n",
    "def compare_pairs(record_dict, found_pair_set):\n",
    "    all_feature_dict = defaultdict(list)\n",
    "    chunksize = 100\n",
    "    tasks = (\n",
    "        (record_dict[id_left], record_dict[id_right])\n",
    "        for (id_left, id_right)\n",
    "        in found_pair_set\n",
    "    )\n",
    "\n",
    "    with multiprocessing.Pool() as pool:\n",
    "        for feature_dict in tqdm(\n",
    "            pool.imap(record_sim_func, tasks, chunksize=chunksize),\n",
    "            total=len(found_pair_set)\n",
    "        ):\n",
    "            for feature, val in feature_dict.items():\n",
    "                all_feature_dict[feature].append(val)\n",
    "\n",
    "        pool.close()\n",
    "        pool.join()\n",
    "    \n",
    "    return pd.DataFrame(all_feature_dict, index=pd.MultiIndex.from_tuples(found_pair_set))"
   ]
  },
  {
   "cell_type": "code",
   "execution_count": 23,
   "id": "c73ff3a8",
   "metadata": {},
   "outputs": [
    {
     "data": {
      "application/vnd.jupyter.widget-view+json": {
       "model_id": "5db4b12f6fc5415ca20949471db61193",
       "version_major": 2,
       "version_minor": 0
      },
      "text/plain": [
       "  0%|          | 0/5732 [00:00<?, ?it/s]"
      ]
     },
     "metadata": {},
     "output_type": "display_data"
    },
    {
     "name": "stdout",
     "output_type": "stream",
     "text": [
      "CPU times: user 451 ms, sys: 368 ms, total: 819 ms\n",
      "Wall time: 11.1 s\n"
     ]
    },
    {
     "data": {
      "text/plain": [
       "5732"
      ]
     },
     "execution_count": 23,
     "metadata": {},
     "output_type": "execute_result"
    }
   ],
   "source": [
    "%%time\n",
    "\n",
    "train_feature_df = compare_pairs(train_record_dict, train_found_pair_set)\n",
    "assert len(train_feature_df) == len(train_found_pair_set)\n",
    "len(train_found_pair_set)"
   ]
  },
  {
   "cell_type": "code",
   "execution_count": 24,
   "id": "1bf8bb26",
   "metadata": {},
   "outputs": [
    {
     "data": {
      "application/vnd.jupyter.widget-view+json": {
       "model_id": "6d7d56a189e146a5b1ad8e4b6d37a682",
       "version_major": 2,
       "version_minor": 0
      },
      "text/plain": [
       "  0%|          | 0/1018 [00:00<?, ?it/s]"
      ]
     },
     "metadata": {},
     "output_type": "display_data"
    },
    {
     "name": "stdout",
     "output_type": "stream",
     "text": [
      "CPU times: user 46.5 ms, sys: 337 ms, total: 383 ms\n",
      "Wall time: 2.45 s\n"
     ]
    },
    {
     "data": {
      "text/plain": [
       "1018"
      ]
     },
     "execution_count": 24,
     "metadata": {},
     "output_type": "execute_result"
    }
   ],
   "source": [
    "%%time\n",
    "\n",
    "valid_feature_df = compare_pairs(valid_record_dict, valid_found_pair_set)\n",
    "assert len(valid_feature_df) == len(valid_found_pair_set)\n",
    "len(valid_found_pair_set)"
   ]
  },
  {
   "cell_type": "code",
   "execution_count": 25,
   "id": "d7e8c66d",
   "metadata": {},
   "outputs": [
    {
     "data": {
      "application/vnd.jupyter.widget-view+json": {
       "model_id": "d888dd1602574efe8992ba273ecfa319",
       "version_major": 2,
       "version_minor": 0
      },
      "text/plain": [
       "  0%|          | 0/2039 [00:00<?, ?it/s]"
      ]
     },
     "metadata": {},
     "output_type": "display_data"
    },
    {
     "name": "stdout",
     "output_type": "stream",
     "text": [
      "CPU times: user 108 ms, sys: 344 ms, total: 451 ms\n",
      "Wall time: 4.45 s\n"
     ]
    },
    {
     "data": {
      "text/plain": [
       "2039"
      ]
     },
     "execution_count": 25,
     "metadata": {},
     "output_type": "execute_result"
    }
   ],
   "source": [
    "%%time\n",
    "\n",
    "test_feature_df = compare_pairs(test_record_dict, test_found_pair_set)\n",
    "assert len(test_feature_df) == len(test_found_pair_set)\n",
    "len(test_found_pair_set)"
   ]
  },
  {
   "cell_type": "markdown",
   "id": "dbe58af0",
   "metadata": {},
   "source": [
    "## Matching: Compare - TFIDF Feature"
   ]
  },
  {
   "cell_type": "code",
   "execution_count": 26,
   "id": "871df4b0",
   "metadata": {},
   "outputs": [
    {
     "data": {
      "text/plain": [
       "TfidfVectorizer(analyzer='char', min_df=2, ngram_range=(2, 4))"
      ]
     },
     "execution_count": 26,
     "metadata": {},
     "output_type": "execute_result"
    }
   ],
   "source": [
    "from sklearn.feature_extraction.text import TfidfVectorizer\n",
    "\n",
    "def get_tfidf_vectorizer(train_record_dict, valid_record_dict, field='all'):\n",
    "    tfidf_vectorizer = TfidfVectorizer(\n",
    "        analyzer='char',\n",
    "        ngram_range=(2,4),\n",
    "        min_df=2\n",
    "    )\n",
    "    train_valid_record_dict = {**train_record_dict, **valid_record_dict}\n",
    "    tfidf_vectorizer.fit(record[field] for record in train_valid_record_dict.values())\n",
    "    return tfidf_vectorizer\n",
    "\n",
    "tfidf_vectorizer = get_tfidf_vectorizer(train_record_dict, valid_record_dict)\n",
    "tfidf_vectorizer"
   ]
  },
  {
   "cell_type": "code",
   "execution_count": 27,
   "id": "bef71ffb",
   "metadata": {},
   "outputs": [],
   "source": [
    "import numpy as np\n",
    "\n",
    "def add_tfidf_feature(tfidf_vectorizer, feature_df, record_dict, found_pair_set, field='all'):\n",
    "    tfidf_matrix = tfidf_vectorizer.transform(record[field] for record in record_dict.values())\n",
    "\n",
    "    id_to_idx = {id_: idx for idx, id_ in enumerate(record_dict.keys())}\n",
    "    left_idx = [id_to_idx[left_id] for left_id, __ in found_pair_set]\n",
    "    right_idx = [id_to_idx[right_id] for __, right_id in found_pair_set]\n",
    "    tfidf_sim = tfidf_matrix[left_idx].multiply(tfidf_matrix[right_idx]).sum(axis=1)  # cos per row\n",
    "\n",
    "    feature_df[f'{field}_tfidf'] = tfidf_sim"
   ]
  },
  {
   "cell_type": "code",
   "execution_count": 28,
   "id": "3c6f5af1",
   "metadata": {},
   "outputs": [
    {
     "name": "stdout",
     "output_type": "stream",
     "text": [
      "CPU times: user 188 ms, sys: 3.95 ms, total: 192 ms\n",
      "Wall time: 192 ms\n"
     ]
    }
   ],
   "source": [
    "%%time\n",
    "\n",
    "add_tfidf_feature(tfidf_vectorizer, train_feature_df, train_record_dict, train_found_pair_set)"
   ]
  },
  {
   "cell_type": "code",
   "execution_count": 29,
   "id": "4bfc48a2",
   "metadata": {},
   "outputs": [
    {
     "name": "stdout",
     "output_type": "stream",
     "text": [
      "CPU times: user 80.5 ms, sys: 210 µs, total: 80.7 ms\n",
      "Wall time: 80.3 ms\n"
     ]
    }
   ],
   "source": [
    "%%time\n",
    "\n",
    "add_tfidf_feature(tfidf_vectorizer, valid_feature_df, valid_record_dict, valid_found_pair_set)"
   ]
  },
  {
   "cell_type": "code",
   "execution_count": 30,
   "id": "bdb7247c",
   "metadata": {},
   "outputs": [
    {
     "name": "stdout",
     "output_type": "stream",
     "text": [
      "CPU times: user 112 ms, sys: 3.83 ms, total: 116 ms\n",
      "Wall time: 115 ms\n"
     ]
    }
   ],
   "source": [
    "%%time\n",
    "\n",
    "add_tfidf_feature(tfidf_vectorizer, test_feature_df, test_record_dict, test_found_pair_set)"
   ]
  },
  {
   "cell_type": "markdown",
   "id": "e3a02e01",
   "metadata": {},
   "source": [
    "## Matching: Compare - Embedding Cosine Feature "
   ]
  },
  {
   "cell_type": "code",
   "execution_count": 31,
   "id": "772f99fc",
   "metadata": {},
   "outputs": [],
   "source": [
    "import numpy as np\n",
    "from sklearn.preprocessing import normalize\n",
    "\n",
    "def add_embed_cos_features(feature_df, left_field_vector_dict, right_field_vector_dict, found_pair_set):\n",
    "    fields = next(iter(left_field_vector_dict.values())).keys()\n",
    "    \n",
    "    for field in fields:\n",
    "        left_embed = np.stack([left_field_vector_dict[left_id][field] for left_id, __ in found_pair_set])\n",
    "        right_embed = np.stack([right_field_vector_dict[right_id][field] for __, right_id in found_pair_set])\n",
    "        normalize(left_embed, copy=False)\n",
    "        normalize(right_embed, copy=False)\n",
    "        sim = np.multiply(left_embed, right_embed).sum(axis=1)  # cos per row\n",
    "        feature_df[f'embed_{field}_cos'] = sim"
   ]
  },
  {
   "cell_type": "code",
   "execution_count": 32,
   "id": "967964d8",
   "metadata": {},
   "outputs": [
    {
     "name": "stdout",
     "output_type": "stream",
     "text": [
      "CPU times: user 71.7 ms, sys: 3.87 ms, total: 75.6 ms\n",
      "Wall time: 75.3 ms\n"
     ]
    }
   ],
   "source": [
    "%%time\n",
    "\n",
    "add_embed_cos_features(\n",
    "    train_feature_df,\n",
    "    train_left_field_vector_dict,\n",
    "    train_right_field_vector_dict,\n",
    "    train_found_pair_set)"
   ]
  },
  {
   "cell_type": "code",
   "execution_count": 33,
   "id": "9549bc72",
   "metadata": {},
   "outputs": [
    {
     "name": "stdout",
     "output_type": "stream",
     "text": [
      "CPU times: user 15.2 ms, sys: 0 ns, total: 15.2 ms\n",
      "Wall time: 14.8 ms\n"
     ]
    }
   ],
   "source": [
    "%%time\n",
    "\n",
    "add_embed_cos_features(\n",
    "    valid_feature_df,\n",
    "    valid_left_field_vector_dict,\n",
    "    valid_right_field_vector_dict,\n",
    "    valid_found_pair_set)"
   ]
  },
  {
   "cell_type": "code",
   "execution_count": 34,
   "id": "b1cccd31",
   "metadata": {},
   "outputs": [
    {
     "name": "stdout",
     "output_type": "stream",
     "text": [
      "CPU times: user 27.8 ms, sys: 0 ns, total: 27.8 ms\n",
      "Wall time: 27.5 ms\n"
     ]
    }
   ],
   "source": [
    "%%time\n",
    "\n",
    "add_embed_cos_features(\n",
    "    test_feature_df,\n",
    "    test_left_field_vector_dict,\n",
    "    test_right_field_vector_dict,\n",
    "    test_found_pair_set)"
   ]
  },
  {
   "cell_type": "markdown",
   "id": "4dd1185e",
   "metadata": {},
   "source": [
    "## Matching: Classify"
   ]
  },
  {
   "cell_type": "code",
   "execution_count": 35,
   "id": "f6f60ac7",
   "metadata": {},
   "outputs": [
    {
     "data": {
      "text/html": [
       "<div>\n",
       "<style scoped>\n",
       "    .dataframe tbody tr th:only-of-type {\n",
       "        vertical-align: middle;\n",
       "    }\n",
       "\n",
       "    .dataframe tbody tr th {\n",
       "        vertical-align: top;\n",
       "    }\n",
       "\n",
       "    .dataframe thead th {\n",
       "        text-align: right;\n",
       "    }\n",
       "</style>\n",
       "<table border=\"1\" class=\"dataframe\">\n",
       "  <thead>\n",
       "    <tr style=\"text-align: right;\">\n",
       "      <th></th>\n",
       "      <th></th>\n",
       "      <th>all_jaccard</th>\n",
       "      <th>all_overlap</th>\n",
       "      <th>all_damerau_levenshtein</th>\n",
       "      <th>all_jaro_winkler</th>\n",
       "      <th>manufacturer_jaccard</th>\n",
       "      <th>manufacturer_overlap</th>\n",
       "      <th>manufacturer_damerau_levenshtein</th>\n",
       "      <th>manufacturer_jaro_winkler</th>\n",
       "      <th>title_jaccard</th>\n",
       "      <th>title_overlap</th>\n",
       "      <th>title_damerau_levenshtein</th>\n",
       "      <th>title_jaro_winkler</th>\n",
       "      <th>price_abs_diff</th>\n",
       "      <th>price_abs_diff_log10</th>\n",
       "      <th>all_tfidf</th>\n",
       "      <th>embed_title_cos</th>\n",
       "      <th>embed_title_semantic_cos</th>\n",
       "      <th>embed_manufacturer_cos</th>\n",
       "      <th>embed_price_cos</th>\n",
       "    </tr>\n",
       "  </thead>\n",
       "  <tbody>\n",
       "    <tr>\n",
       "      <th>272</th>\n",
       "      <th>3735</th>\n",
       "      <td>0.357143</td>\n",
       "      <td>0.714286</td>\n",
       "      <td>0.365854</td>\n",
       "      <td>0.671396</td>\n",
       "      <td>-1.0</td>\n",
       "      <td>-1.0</td>\n",
       "      <td>-1.0</td>\n",
       "      <td>-1.0</td>\n",
       "      <td>0.333333</td>\n",
       "      <td>1.000000</td>\n",
       "      <td>0.257143</td>\n",
       "      <td>0.851429</td>\n",
       "      <td>0.05</td>\n",
       "      <td>0.000000</td>\n",
       "      <td>0.504547</td>\n",
       "      <td>0.993383</td>\n",
       "      <td>0.992655</td>\n",
       "      <td>0.0</td>\n",
       "      <td>0.758879</td>\n",
       "    </tr>\n",
       "    <tr>\n",
       "      <th>938</th>\n",
       "      <th>2238</th>\n",
       "      <td>0.538462</td>\n",
       "      <td>0.700000</td>\n",
       "      <td>0.181818</td>\n",
       "      <td>0.714776</td>\n",
       "      <td>-1.0</td>\n",
       "      <td>-1.0</td>\n",
       "      <td>-1.0</td>\n",
       "      <td>-1.0</td>\n",
       "      <td>0.333333</td>\n",
       "      <td>0.600000</td>\n",
       "      <td>0.346154</td>\n",
       "      <td>0.690654</td>\n",
       "      <td>3.15</td>\n",
       "      <td>0.498311</td>\n",
       "      <td>0.636458</td>\n",
       "      <td>0.991627</td>\n",
       "      <td>0.968174</td>\n",
       "      <td>0.0</td>\n",
       "      <td>0.694634</td>\n",
       "    </tr>\n",
       "    <tr>\n",
       "      <th>352</th>\n",
       "      <th>4234</th>\n",
       "      <td>0.545455</td>\n",
       "      <td>0.857143</td>\n",
       "      <td>0.410714</td>\n",
       "      <td>0.657091</td>\n",
       "      <td>-1.0</td>\n",
       "      <td>-1.0</td>\n",
       "      <td>-1.0</td>\n",
       "      <td>-1.0</td>\n",
       "      <td>0.400000</td>\n",
       "      <td>0.666667</td>\n",
       "      <td>0.375000</td>\n",
       "      <td>0.719444</td>\n",
       "      <td>0.00</td>\n",
       "      <td>0.000000</td>\n",
       "      <td>0.467429</td>\n",
       "      <td>0.905583</td>\n",
       "      <td>0.974405</td>\n",
       "      <td>0.0</td>\n",
       "      <td>1.000000</td>\n",
       "    </tr>\n",
       "  </tbody>\n",
       "</table>\n",
       "</div>"
      ],
      "text/plain": [
       "          all_jaccard  all_overlap  all_damerau_levenshtein  all_jaro_winkler  \\\n",
       "272 3735     0.357143     0.714286                 0.365854          0.671396   \n",
       "938 2238     0.538462     0.700000                 0.181818          0.714776   \n",
       "352 4234     0.545455     0.857143                 0.410714          0.657091   \n",
       "\n",
       "          manufacturer_jaccard  manufacturer_overlap  \\\n",
       "272 3735                  -1.0                  -1.0   \n",
       "938 2238                  -1.0                  -1.0   \n",
       "352 4234                  -1.0                  -1.0   \n",
       "\n",
       "          manufacturer_damerau_levenshtein  manufacturer_jaro_winkler  \\\n",
       "272 3735                              -1.0                       -1.0   \n",
       "938 2238                              -1.0                       -1.0   \n",
       "352 4234                              -1.0                       -1.0   \n",
       "\n",
       "          title_jaccard  title_overlap  title_damerau_levenshtein  \\\n",
       "272 3735       0.333333       1.000000                   0.257143   \n",
       "938 2238       0.333333       0.600000                   0.346154   \n",
       "352 4234       0.400000       0.666667                   0.375000   \n",
       "\n",
       "          title_jaro_winkler  price_abs_diff  price_abs_diff_log10  all_tfidf  \\\n",
       "272 3735            0.851429            0.05              0.000000   0.504547   \n",
       "938 2238            0.690654            3.15              0.498311   0.636458   \n",
       "352 4234            0.719444            0.00              0.000000   0.467429   \n",
       "\n",
       "          embed_title_cos  embed_title_semantic_cos  embed_manufacturer_cos  \\\n",
       "272 3735         0.993383                  0.992655                     0.0   \n",
       "938 2238         0.991627                  0.968174                     0.0   \n",
       "352 4234         0.905583                  0.974405                     0.0   \n",
       "\n",
       "          embed_price_cos  \n",
       "272 3735         0.758879  \n",
       "938 2238         0.694634  \n",
       "352 4234         1.000000  "
      ]
     },
     "execution_count": 35,
     "metadata": {},
     "output_type": "execute_result"
    }
   ],
   "source": [
    "train_valid_feature_df = pd.concat([train_feature_df, valid_feature_df])\n",
    "train_valid_feature_df.head(3)"
   ]
  },
  {
   "cell_type": "code",
   "execution_count": 36,
   "id": "f4e3eda5",
   "metadata": {},
   "outputs": [],
   "source": [
    "train_true_y = np.array([pair in train_pos_pair_set for pair in train_found_pair_set], dtype='i4')\n",
    "valid_true_y = np.array([pair in valid_pos_pair_set for pair in valid_found_pair_set], dtype='i4')\n",
    "test_true_y = np.array([pair in test_pos_pair_set for pair in test_found_pair_set], dtype='i4')"
   ]
  },
  {
   "cell_type": "code",
   "execution_count": 37,
   "id": "471adca2",
   "metadata": {},
   "outputs": [],
   "source": [
    "train_valid_true_y = np.concatenate([train_true_y, valid_true_y])"
   ]
  },
  {
   "cell_type": "code",
   "execution_count": 38,
   "id": "d98c3077",
   "metadata": {
    "scrolled": true
   },
   "outputs": [
    {
     "name": "stdout",
     "output_type": "stream",
     "text": [
      "Fitting 1 folds for each of 45 candidates, totalling 45 fits\n",
      "CPU times: user 252 ms, sys: 481 ms, total: 733 ms\n",
      "Wall time: 7.52 s\n"
     ]
    },
    {
     "name": "stderr",
     "output_type": "stream",
     "text": [
      "/home/fjsj/workspace/entity-embed/venv/lib/python3.8/site-packages/sklearn/ensemble/_forest.py:541: UserWarning: Some inputs do not have OOB scores. This probably means too few trees were used to compute any reliable oob estimates.\n",
      "  warn(\"Some inputs do not have OOB scores. \"\n",
      "/home/fjsj/workspace/entity-embed/venv/lib/python3.8/site-packages/sklearn/ensemble/_forest.py:545: RuntimeWarning: invalid value encountered in true_divide\n",
      "  decision = (predictions[k] /\n"
     ]
    },
    {
     "data": {
      "text/plain": [
       "GridSearchCV(cv=PredefinedSplit(test_fold=array([-1, -1, ...,  0,  0])),\n",
       "             estimator=RandomForestClassifier(oob_score=True, random_state=42),\n",
       "             n_jobs=-1,\n",
       "             param_grid={'max_depth': [5, 10, 25, 50, None],\n",
       "                         'min_samples_leaf': [1, 3, 5],\n",
       "                         'n_estimators': [10, 100, 200]},\n",
       "             scoring='f1', verbose=10)"
      ]
     },
     "execution_count": 38,
     "metadata": {},
     "output_type": "execute_result"
    }
   ],
   "source": [
    "%%time\n",
    "\n",
    "from sklearn.ensemble import RandomForestClassifier\n",
    "from sklearn.model_selection import PredefinedSplit, GridSearchCV\n",
    "\n",
    "cv = PredefinedSplit(\n",
    "    np.concatenate([\n",
    "        np.full(train_true_y.shape[0], -1 ,dtype='i4'),\n",
    "        np.zeros(valid_true_y.shape[0], dtype='i4')\n",
    "    ])\n",
    ")\n",
    "param_grid = {\n",
    "    'n_estimators': [10, 100, 200],\n",
    "    'max_depth': [5, 10, 25, 50, None],\n",
    "    'min_samples_leaf': [1, 3, 5],\n",
    "}\n",
    "clf = RandomForestClassifier(oob_score=True, random_state=random_seed)\n",
    "clf = GridSearchCV(clf, param_grid, scoring='f1', cv=cv, verbose=10, n_jobs=-1)\n",
    "clf.fit(train_valid_feature_df, train_valid_true_y);"
   ]
  },
  {
   "cell_type": "code",
   "execution_count": 39,
   "id": "76241b3d",
   "metadata": {},
   "outputs": [
    {
     "data": {
      "text/plain": [
       "{'max_depth': 5, 'min_samples_leaf': 1, 'n_estimators': 10}"
      ]
     },
     "execution_count": 39,
     "metadata": {},
     "output_type": "execute_result"
    }
   ],
   "source": [
    "clf.best_params_"
   ]
  },
  {
   "cell_type": "code",
   "execution_count": 40,
   "id": "ce5861cd",
   "metadata": {},
   "outputs": [
    {
     "data": {
      "text/plain": [
       "0.7186761229314421"
      ]
     },
     "execution_count": 40,
     "metadata": {},
     "output_type": "execute_result"
    }
   ],
   "source": [
    "clf.best_score_"
   ]
  },
  {
   "cell_type": "code",
   "execution_count": 41,
   "id": "8f8f2c87",
   "metadata": {},
   "outputs": [
    {
     "data": {
      "text/plain": [
       "0.9277037037037037"
      ]
     },
     "execution_count": 41,
     "metadata": {},
     "output_type": "execute_result"
    }
   ],
   "source": [
    "clf.best_estimator_.oob_score_"
   ]
  },
  {
   "cell_type": "code",
   "execution_count": 42,
   "id": "8b20dd9c",
   "metadata": {
    "scrolled": false
   },
   "outputs": [
    {
     "data": {
      "text/plain": [
       "[('embed_title_cos', 0.278665454291294),\n",
       " ('all_tfidf', 0.1765587833850043),\n",
       " ('embed_title_semantic_cos', 0.12208608385798884),\n",
       " ('all_overlap', 0.0809528602999686),\n",
       " ('all_jaccard', 0.07854227474424569),\n",
       " ('title_overlap', 0.06634698495972174),\n",
       " ('all_damerau_levenshtein', 0.03865601349319059),\n",
       " ('title_jaro_winkler', 0.029972568285079573),\n",
       " ('price_abs_diff', 0.028627833402167645),\n",
       " ('embed_price_cos', 0.023682788721764342),\n",
       " ('all_jaro_winkler', 0.022244048872592095),\n",
       " ('price_abs_diff_log10', 0.021806079896758625),\n",
       " ('title_damerau_levenshtein', 0.013862294466713661),\n",
       " ('title_jaccard', 0.011964280646793097),\n",
       " ('manufacturer_damerau_levenshtein', 0.0022479035784955556),\n",
       " ('embed_manufacturer_cos', 0.002149129523903257),\n",
       " ('manufacturer_jaccard', 0.0011220656563120227),\n",
       " ('manufacturer_jaro_winkler', 0.0002890823326553552),\n",
       " ('manufacturer_overlap', 0.0002234695853511295)]"
      ]
     },
     "execution_count": 42,
     "metadata": {},
     "output_type": "execute_result"
    }
   ],
   "source": [
    "feature_importances = dict(zip(train_valid_feature_df.columns, clf.best_estimator_.feature_importances_))\n",
    "sorted(feature_importances.items(), key=lambda kv: kv[1], reverse=True)"
   ]
  },
  {
   "cell_type": "code",
   "execution_count": 43,
   "id": "dde175ac",
   "metadata": {},
   "outputs": [
    {
     "data": {
      "text/plain": [
       "0.9327407407407408"
      ]
     },
     "execution_count": 43,
     "metadata": {},
     "output_type": "execute_result"
    }
   ],
   "source": [
    "from sklearn.metrics import accuracy_score\n",
    "\n",
    "cls_threshold = 0.3\n",
    "train_valid_pred_y = clf.predict_proba(train_valid_feature_df)\n",
    "train_valid_pred_y[train_valid_pred_y >= cls_threshold] = 1\n",
    "train_valid_pred_y[train_valid_pred_y < cls_threshold] = 0\n",
    "train_valid_pred_y = train_valid_pred_y[:, 1]\n",
    "accuracy_score(train_valid_pred_y, train_valid_true_y)"
   ]
  },
  {
   "cell_type": "code",
   "execution_count": 44,
   "id": "e6a1a542",
   "metadata": {},
   "outputs": [
    {
     "data": {
      "text/plain": [
       "(array([0.8313253]), array([0.73994638]), array([0.78297872]), array([373]))"
      ]
     },
     "execution_count": 44,
     "metadata": {},
     "output_type": "execute_result"
    }
   ],
   "source": [
    "from sklearn.metrics import precision_recall_fscore_support\n",
    "\n",
    "prob_y = clf.predict_proba(test_feature_df)\n",
    "pred_y = np.copy(prob_y)\n",
    "pred_y[pred_y >= cls_threshold] = 1\n",
    "pred_y[pred_y < cls_threshold] = 0\n",
    "pred_y = pred_y[:, 1]\n",
    "precision_recall_fscore_support(test_true_y, pred_y, labels=[1])"
   ]
  },
  {
   "cell_type": "code",
   "execution_count": 45,
   "id": "e378f9fb",
   "metadata": {},
   "outputs": [
    {
     "data": {
      "text/plain": [
       "(0.8313253012048193, 0.7244094488188977)"
      ]
     },
     "execution_count": 45,
     "metadata": {},
     "output_type": "execute_result"
    }
   ],
   "source": [
    "cls_found_pair_set = OrderedSet(test_feature_df[pred_y.astype(bool)].index)\n",
    "\n",
    "precision_and_recall(cls_found_pair_set, test_pos_pair_set)"
   ]
  },
  {
   "cell_type": "markdown",
   "id": "b137b59d",
   "metadata": {},
   "source": [
    "False negatives:"
   ]
  },
  {
   "cell_type": "code",
   "execution_count": 46,
   "id": "0df0cb98",
   "metadata": {
    "scrolled": false
   },
   "outputs": [
    {
     "name": "stdout",
     "output_type": "stream",
     "text": [
      "[[0.85731841 0.14268159]]\n"
     ]
    },
    {
     "data": {
      "text/html": [
       "<div>\n",
       "<style scoped>\n",
       "    .dataframe tbody tr th:only-of-type {\n",
       "        vertical-align: middle;\n",
       "    }\n",
       "\n",
       "    .dataframe tbody tr th {\n",
       "        vertical-align: top;\n",
       "    }\n",
       "\n",
       "    .dataframe thead th {\n",
       "        text-align: right;\n",
       "    }\n",
       "</style>\n",
       "<table border=\"1\" class=\"dataframe\">\n",
       "  <thead>\n",
       "    <tr style=\"text-align: right;\">\n",
       "      <th></th>\n",
       "      <th>manufacturer</th>\n",
       "      <th>price</th>\n",
       "      <th>title</th>\n",
       "      <th>__source</th>\n",
       "      <th>all</th>\n",
       "    </tr>\n",
       "  </thead>\n",
       "  <tbody>\n",
       "    <tr>\n",
       "      <th>598</th>\n",
       "      <td>adobe</td>\n",
       "      <td>138.45</td>\n",
       "      <td>adobe pagemaker v7.0.2 cd mac-upg ( 17530402 )</td>\n",
       "      <td>amazon</td>\n",
       "      <td>adobe pagemaker v7.0.2 cd mac-upg ( 17530402 )...</td>\n",
       "    </tr>\n",
       "    <tr>\n",
       "      <th>2318</th>\n",
       "      <td></td>\n",
       "      <td>79.99</td>\n",
       "      <td>adobe pagemaker 7.0 for mac version upgrade</td>\n",
       "      <td>google</td>\n",
       "      <td>adobe pagemaker 7.0 for mac version upgrade - ...</td>\n",
       "    </tr>\n",
       "  </tbody>\n",
       "</table>\n",
       "</div>"
      ],
      "text/plain": [
       "     manufacturer   price                                           title  \\\n",
       "598         adobe  138.45  adobe pagemaker v7.0.2 cd mac-upg ( 17530402 )   \n",
       "2318                79.99     adobe pagemaker 7.0 for mac version upgrade   \n",
       "\n",
       "     __source                                                all  \n",
       "598    amazon  adobe pagemaker v7.0.2 cd mac-upg ( 17530402 )...  \n",
       "2318   google  adobe pagemaker 7.0 for mac version upgrade - ...  "
      ]
     },
     "metadata": {},
     "output_type": "display_data"
    },
    {
     "name": "stdout",
     "output_type": "stream",
     "text": [
      "[[0.88419709 0.11580291]]\n"
     ]
    },
    {
     "data": {
      "text/html": [
       "<div>\n",
       "<style scoped>\n",
       "    .dataframe tbody tr th:only-of-type {\n",
       "        vertical-align: middle;\n",
       "    }\n",
       "\n",
       "    .dataframe tbody tr th {\n",
       "        vertical-align: top;\n",
       "    }\n",
       "\n",
       "    .dataframe thead th {\n",
       "        text-align: right;\n",
       "    }\n",
       "</style>\n",
       "<table border=\"1\" class=\"dataframe\">\n",
       "  <thead>\n",
       "    <tr style=\"text-align: right;\">\n",
       "      <th></th>\n",
       "      <th>manufacturer</th>\n",
       "      <th>price</th>\n",
       "      <th>title</th>\n",
       "      <th>__source</th>\n",
       "      <th>all</th>\n",
       "    </tr>\n",
       "  </thead>\n",
       "  <tbody>\n",
       "    <tr>\n",
       "      <th>840</th>\n",
       "      <td>sony pictures digital entertainment</td>\n",
       "      <td>49.35</td>\n",
       "      <td>digital video and audio production book for ve...</td>\n",
       "      <td>amazon</td>\n",
       "      <td>digital video and audio production book for ve...</td>\n",
       "    </tr>\n",
       "    <tr>\n",
       "      <th>4304</th>\n",
       "      <td>sony creative software</td>\n",
       "      <td>27.99</td>\n",
       "      <td>digital video&amp; audio prod book</td>\n",
       "      <td>google</td>\n",
       "      <td>digital video&amp; audio prod book - sony creative...</td>\n",
       "    </tr>\n",
       "  </tbody>\n",
       "</table>\n",
       "</div>"
      ],
      "text/plain": [
       "                             manufacturer  price  \\\n",
       "840   sony pictures digital entertainment  49.35   \n",
       "4304               sony creative software  27.99   \n",
       "\n",
       "                                                  title __source  \\\n",
       "840   digital video and audio production book for ve...   amazon   \n",
       "4304                     digital video& audio prod book   google   \n",
       "\n",
       "                                                    all  \n",
       "840   digital video and audio production book for ve...  \n",
       "4304  digital video& audio prod book - sony creative...  "
      ]
     },
     "metadata": {},
     "output_type": "display_data"
    },
    {
     "name": "stdout",
     "output_type": "stream",
     "text": [
      "[[0.74436539 0.25563461]]\n"
     ]
    },
    {
     "data": {
      "text/html": [
       "<div>\n",
       "<style scoped>\n",
       "    .dataframe tbody tr th:only-of-type {\n",
       "        vertical-align: middle;\n",
       "    }\n",
       "\n",
       "    .dataframe tbody tr th {\n",
       "        vertical-align: top;\n",
       "    }\n",
       "\n",
       "    .dataframe thead th {\n",
       "        text-align: right;\n",
       "    }\n",
       "</style>\n",
       "<table border=\"1\" class=\"dataframe\">\n",
       "  <thead>\n",
       "    <tr style=\"text-align: right;\">\n",
       "      <th></th>\n",
       "      <th>manufacturer</th>\n",
       "      <th>price</th>\n",
       "      <th>title</th>\n",
       "      <th>__source</th>\n",
       "      <th>all</th>\n",
       "    </tr>\n",
       "  </thead>\n",
       "  <tbody>\n",
       "    <tr>\n",
       "      <th>855</th>\n",
       "      <td>micromat</td>\n",
       "      <td>69.00</td>\n",
       "      <td>micromat podlock (mac)</td>\n",
       "      <td>amazon</td>\n",
       "      <td>micromat podlock (mac) - micromat - 69</td>\n",
       "    </tr>\n",
       "    <tr>\n",
       "      <th>1552</th>\n",
       "      <td></td>\n",
       "      <td>39.99</td>\n",
       "      <td>micromat podlock ipod utility software</td>\n",
       "      <td>google</td>\n",
       "      <td>micromat podlock ipod utility software -  - 39.99</td>\n",
       "    </tr>\n",
       "  </tbody>\n",
       "</table>\n",
       "</div>"
      ],
      "text/plain": [
       "     manufacturer  price                                   title __source  \\\n",
       "855      micromat  69.00                  micromat podlock (mac)   amazon   \n",
       "1552               39.99  micromat podlock ipod utility software   google   \n",
       "\n",
       "                                                    all  \n",
       "855              micromat podlock (mac) - micromat - 69  \n",
       "1552  micromat podlock ipod utility software -  - 39.99  "
      ]
     },
     "metadata": {},
     "output_type": "display_data"
    },
    {
     "name": "stdout",
     "output_type": "stream",
     "text": [
      "[[0.91474921 0.08525079]]\n"
     ]
    },
    {
     "data": {
      "text/html": [
       "<div>\n",
       "<style scoped>\n",
       "    .dataframe tbody tr th:only-of-type {\n",
       "        vertical-align: middle;\n",
       "    }\n",
       "\n",
       "    .dataframe tbody tr th {\n",
       "        vertical-align: top;\n",
       "    }\n",
       "\n",
       "    .dataframe thead th {\n",
       "        text-align: right;\n",
       "    }\n",
       "</style>\n",
       "<table border=\"1\" class=\"dataframe\">\n",
       "  <thead>\n",
       "    <tr style=\"text-align: right;\">\n",
       "      <th></th>\n",
       "      <th>manufacturer</th>\n",
       "      <th>price</th>\n",
       "      <th>title</th>\n",
       "      <th>__source</th>\n",
       "      <th>all</th>\n",
       "    </tr>\n",
       "  </thead>\n",
       "  <tbody>\n",
       "    <tr>\n",
       "      <th>1340</th>\n",
       "      <td>makemusic!</td>\n",
       "      <td>375.00</td>\n",
       "      <td>make music allegro 2007 labpack - 5 user</td>\n",
       "      <td>amazon</td>\n",
       "      <td>make music allegro 2007 labpack - 5 user - mak...</td>\n",
       "    </tr>\n",
       "    <tr>\n",
       "      <th>2011</th>\n",
       "      <td></td>\n",
       "      <td>272.94</td>\n",
       "      <td>hal leonard allegro 2007 5-user labpack</td>\n",
       "      <td>google</td>\n",
       "      <td>hal leonard allegro 2007 5-user labpack -  - 2...</td>\n",
       "    </tr>\n",
       "  </tbody>\n",
       "</table>\n",
       "</div>"
      ],
      "text/plain": [
       "     manufacturer   price                                     title __source  \\\n",
       "1340   makemusic!  375.00  make music allegro 2007 labpack - 5 user   amazon   \n",
       "2011               272.94   hal leonard allegro 2007 5-user labpack   google   \n",
       "\n",
       "                                                    all  \n",
       "1340  make music allegro 2007 labpack - 5 user - mak...  \n",
       "2011  hal leonard allegro 2007 5-user labpack -  - 2...  "
      ]
     },
     "metadata": {},
     "output_type": "display_data"
    },
    {
     "name": "stdout",
     "output_type": "stream",
     "text": [
      "[[0.98374669 0.01625331]]\n"
     ]
    },
    {
     "data": {
      "text/html": [
       "<div>\n",
       "<style scoped>\n",
       "    .dataframe tbody tr th:only-of-type {\n",
       "        vertical-align: middle;\n",
       "    }\n",
       "\n",
       "    .dataframe tbody tr th {\n",
       "        vertical-align: top;\n",
       "    }\n",
       "\n",
       "    .dataframe thead th {\n",
       "        text-align: right;\n",
       "    }\n",
       "</style>\n",
       "<table border=\"1\" class=\"dataframe\">\n",
       "  <thead>\n",
       "    <tr style=\"text-align: right;\">\n",
       "      <th></th>\n",
       "      <th>manufacturer</th>\n",
       "      <th>price</th>\n",
       "      <th>title</th>\n",
       "      <th>__source</th>\n",
       "      <th>all</th>\n",
       "    </tr>\n",
       "  </thead>\n",
       "  <tbody>\n",
       "    <tr>\n",
       "      <th>423</th>\n",
       "      <td>microsoft licenses</td>\n",
       "      <td>205.73</td>\n",
       "      <td>microsoft licenses word olp c (05903871)</td>\n",
       "      <td>amazon</td>\n",
       "      <td>microsoft licenses word olp c (05903871) - mic...</td>\n",
       "    </tr>\n",
       "    <tr>\n",
       "      <th>3727</th>\n",
       "      <td></td>\n",
       "      <td>111.78</td>\n",
       "      <td>microsoft 059-03871 molpc word sa</td>\n",
       "      <td>google</td>\n",
       "      <td>microsoft 059-03871 molpc word sa -  - 111.78</td>\n",
       "    </tr>\n",
       "  </tbody>\n",
       "</table>\n",
       "</div>"
      ],
      "text/plain": [
       "            manufacturer   price                                     title  \\\n",
       "423   microsoft licenses  205.73  microsoft licenses word olp c (05903871)   \n",
       "3727                      111.78         microsoft 059-03871 molpc word sa   \n",
       "\n",
       "     __source                                                all  \n",
       "423    amazon  microsoft licenses word olp c (05903871) - mic...  \n",
       "3727   google      microsoft 059-03871 molpc word sa -  - 111.78  "
      ]
     },
     "metadata": {},
     "output_type": "display_data"
    }
   ],
   "source": [
    "for x, y in list(test_pos_pair_set - cls_found_pair_set)[:5]:\n",
    "    print(clf.predict_proba(test_feature_df.loc[[(x, y)]]))\n",
    "    display(df.loc[[x, y]])"
   ]
  },
  {
   "cell_type": "code",
   "execution_count": 47,
   "id": "edcef2d2",
   "metadata": {},
   "outputs": [
    {
     "data": {
      "text/html": [
       "<div>\n",
       "<style scoped>\n",
       "    .dataframe tbody tr th:only-of-type {\n",
       "        vertical-align: middle;\n",
       "    }\n",
       "\n",
       "    .dataframe tbody tr th {\n",
       "        vertical-align: top;\n",
       "    }\n",
       "\n",
       "    .dataframe thead th {\n",
       "        text-align: right;\n",
       "    }\n",
       "</style>\n",
       "<table border=\"1\" class=\"dataframe\">\n",
       "  <thead>\n",
       "    <tr style=\"text-align: right;\">\n",
       "      <th></th>\n",
       "      <th></th>\n",
       "      <th>all_jaccard</th>\n",
       "      <th>all_overlap</th>\n",
       "      <th>all_damerau_levenshtein</th>\n",
       "      <th>all_jaro_winkler</th>\n",
       "      <th>manufacturer_jaccard</th>\n",
       "      <th>manufacturer_overlap</th>\n",
       "      <th>manufacturer_damerau_levenshtein</th>\n",
       "      <th>manufacturer_jaro_winkler</th>\n",
       "      <th>title_jaccard</th>\n",
       "      <th>title_overlap</th>\n",
       "      <th>title_damerau_levenshtein</th>\n",
       "      <th>title_jaro_winkler</th>\n",
       "      <th>price_abs_diff</th>\n",
       "      <th>price_abs_diff_log10</th>\n",
       "      <th>all_tfidf</th>\n",
       "      <th>embed_title_cos</th>\n",
       "      <th>embed_title_semantic_cos</th>\n",
       "      <th>embed_manufacturer_cos</th>\n",
       "      <th>embed_price_cos</th>\n",
       "    </tr>\n",
       "  </thead>\n",
       "  <tbody>\n",
       "    <tr>\n",
       "      <th>725</th>\n",
       "      <th>1803</th>\n",
       "      <td>0.444444</td>\n",
       "      <td>0.666667</td>\n",
       "      <td>0.625</td>\n",
       "      <td>0.874259</td>\n",
       "      <td>-1.0</td>\n",
       "      <td>-1.0</td>\n",
       "      <td>-1.0</td>\n",
       "      <td>-1.0</td>\n",
       "      <td>0.25</td>\n",
       "      <td>0.5</td>\n",
       "      <td>0.916667</td>\n",
       "      <td>0.94697</td>\n",
       "      <td>6.0</td>\n",
       "      <td>0.778151</td>\n",
       "      <td>0.601628</td>\n",
       "      <td>0.58145</td>\n",
       "      <td>0.589763</td>\n",
       "      <td>0.0</td>\n",
       "      <td>0.903231</td>\n",
       "    </tr>\n",
       "  </tbody>\n",
       "</table>\n",
       "</div>"
      ],
      "text/plain": [
       "          all_jaccard  all_overlap  all_damerau_levenshtein  all_jaro_winkler  \\\n",
       "725 1803     0.444444     0.666667                    0.625          0.874259   \n",
       "\n",
       "          manufacturer_jaccard  manufacturer_overlap  \\\n",
       "725 1803                  -1.0                  -1.0   \n",
       "\n",
       "          manufacturer_damerau_levenshtein  manufacturer_jaro_winkler  \\\n",
       "725 1803                              -1.0                       -1.0   \n",
       "\n",
       "          title_jaccard  title_overlap  title_damerau_levenshtein  \\\n",
       "725 1803           0.25            0.5                   0.916667   \n",
       "\n",
       "          title_jaro_winkler  price_abs_diff  price_abs_diff_log10  all_tfidf  \\\n",
       "725 1803             0.94697             6.0              0.778151   0.601628   \n",
       "\n",
       "          embed_title_cos  embed_title_semantic_cos  embed_manufacturer_cos  \\\n",
       "725 1803          0.58145                  0.589763                     0.0   \n",
       "\n",
       "          embed_price_cos  \n",
       "725 1803         0.903231  "
      ]
     },
     "metadata": {},
     "output_type": "display_data"
    },
    {
     "data": {
      "text/plain": [
       "array([[0.74488247, 0.25511753]])"
      ]
     },
     "execution_count": 47,
     "metadata": {},
     "output_type": "execute_result"
    }
   ],
   "source": [
    "pair = (725, 1803)\n",
    "display(test_feature_df.loc[[pair]])\n",
    "clf.predict_proba(test_feature_df.loc[[pair]])"
   ]
  },
  {
   "cell_type": "markdown",
   "id": "34dde2b4",
   "metadata": {},
   "source": [
    "Hard cases attention:"
   ]
  },
  {
   "cell_type": "code",
   "execution_count": 48,
   "id": "39fa4c3e",
   "metadata": {},
   "outputs": [
    {
     "data": {
      "text/html": [
       "<div>\n",
       "<style scoped>\n",
       "    .dataframe tbody tr th:only-of-type {\n",
       "        vertical-align: middle;\n",
       "    }\n",
       "\n",
       "    .dataframe tbody tr th {\n",
       "        vertical-align: top;\n",
       "    }\n",
       "\n",
       "    .dataframe thead th {\n",
       "        text-align: right;\n",
       "    }\n",
       "</style>\n",
       "<table border=\"1\" class=\"dataframe\">\n",
       "  <thead>\n",
       "    <tr style=\"text-align: right;\">\n",
       "      <th></th>\n",
       "      <th></th>\n",
       "      <th>prob</th>\n",
       "    </tr>\n",
       "  </thead>\n",
       "  <tbody>\n",
       "    <tr>\n",
       "      <th>939</th>\n",
       "      <th>3637</th>\n",
       "      <td>0.308087</td>\n",
       "    </tr>\n",
       "    <tr>\n",
       "      <th>735</th>\n",
       "      <th>4294</th>\n",
       "      <td>0.304537</td>\n",
       "    </tr>\n",
       "  </tbody>\n",
       "</table>\n",
       "</div>"
      ],
      "text/plain": [
       "              prob\n",
       "939 3637  0.308087\n",
       "735 4294  0.304537"
      ]
     },
     "execution_count": 48,
     "metadata": {},
     "output_type": "execute_result"
    }
   ],
   "source": [
    "prob_df = pd.DataFrame(prob_y[:,1], columns=['prob'], index=test_feature_df.index)\n",
    "hard_prob_df = prob_df.loc[(prob_df['prob'] >= cls_threshold) & (prob_df['prob'] <= cls_threshold + 0.01)]\n",
    "hard_prob_df = hard_prob_df.loc[hard_prob_df.index.intersection(test_pos_pair_set)]\n",
    "hard_prob_df"
   ]
  },
  {
   "cell_type": "code",
   "execution_count": 49,
   "id": "207f5d89",
   "metadata": {},
   "outputs": [
    {
     "data": {
      "text/html": [
       "<style  type=\"text/css\" >\n",
       "#T_cf58f_row0_col0{\n",
       "            background-color:  #fc3a3a;\n",
       "            color:  #f1f1f1;\n",
       "        }#T_cf58f_row0_col1{\n",
       "            background-color:  #ff0000;\n",
       "            color:  #f1f1f1;\n",
       "        }#T_cf58f_row0_col2{\n",
       "            background-color:  #f96e6e;\n",
       "            color:  #000000;\n",
       "        }#T_cf58f_row0_col3{\n",
       "            background-color:  #f89191;\n",
       "            color:  #000000;\n",
       "        }#T_cf58f_row0_col4{\n",
       "            background-color:  #f4e0e0;\n",
       "            color:  #000000;\n",
       "        }#T_cf58f_row0_col5{\n",
       "            background-color:  #f3f0f0;\n",
       "            color:  #000000;\n",
       "        }#T_cf58f_row0_col6{\n",
       "            background-color:  #f3e5e5;\n",
       "            color:  #000000;\n",
       "        }</style><table id=\"T_cf58f_\" ><thead>    <tr>        <th class=\"blank level0\" ></th>        <th class=\"col_heading level0 col0\" >bias</th>        <th class=\"col_heading level0 col1\" >peak</th>        <th class=\"col_heading level0 col2\" >pro</th>        <th class=\"col_heading level0 col3\" >5</th>        <th class=\"col_heading level0 col4\" >(</th>        <th class=\"col_heading level0 col5\" >macintosh</th>        <th class=\"col_heading level0 col6\" >)</th>    </tr></thead><tbody>\n",
       "                <tr>\n",
       "                        <th id=\"T_cf58f_level0_row0\" class=\"row_heading level0 row0\" >939</th>\n",
       "                        <td id=\"T_cf58f_row0_col0\" class=\"data row0 col0\" >0.205619</td>\n",
       "                        <td id=\"T_cf58f_row0_col1\" class=\"data row0 col1\" >0.262827</td>\n",
       "                        <td id=\"T_cf58f_row0_col2\" class=\"data row0 col2\" >0.155535</td>\n",
       "                        <td id=\"T_cf58f_row0_col3\" class=\"data row0 col3\" >0.121492</td>\n",
       "                        <td id=\"T_cf58f_row0_col4\" class=\"data row0 col4\" >0.044119</td>\n",
       "                        <td id=\"T_cf58f_row0_col5\" class=\"data row0 col5\" >0.028114</td>\n",
       "                        <td id=\"T_cf58f_row0_col6\" class=\"data row0 col6\" >0.039309</td>\n",
       "            </tr>\n",
       "    </tbody></table>"
      ],
      "text/plain": [
       "<pandas.io.formats.style.Styler at 0x7fa7401587c0>"
      ]
     },
     "metadata": {},
     "output_type": "display_data"
    },
    {
     "data": {
      "text/html": [
       "<style  type=\"text/css\" >\n",
       "#T_fc7c8_row0_col0{\n",
       "            background-color:  #fd2828;\n",
       "            color:  #f1f1f1;\n",
       "        }#T_fc7c8_row0_col1{\n",
       "            background-color:  #ff0000;\n",
       "            color:  #f1f1f1;\n",
       "        }#T_fc7c8_row0_col2{\n",
       "            background-color:  #f97d7d;\n",
       "            color:  #000000;\n",
       "        }#T_fc7c8_row0_col3{\n",
       "            background-color:  #f6aeae;\n",
       "            color:  #000000;\n",
       "        }#T_fc7c8_row0_col4{\n",
       "            background-color:  #f3f0f0;\n",
       "            color:  #000000;\n",
       "        }#T_fc7c8_row0_col5{\n",
       "            background-color:  #f3e3e3;\n",
       "            color:  #000000;\n",
       "        }#T_fc7c8_row0_col6{\n",
       "            background-color:  #f3eded;\n",
       "            color:  #000000;\n",
       "        }</style><table id=\"T_fc7c8_\" ><thead>    <tr>        <th class=\"blank level0\" ></th>        <th class=\"col_heading level0 col0\" >bias</th>        <th class=\"col_heading level0 col1\" >peak</th>        <th class=\"col_heading level0 col2\" >pro</th>        <th class=\"col_heading level0 col3\" >5</th>        <th class=\"col_heading level0 col4\" >software</th>        <th class=\"col_heading level0 col5\" >music</th>        <th class=\"col_heading level0 col6\" >production</th>    </tr></thead><tbody>\n",
       "                <tr>\n",
       "                        <th id=\"T_fc7c8_level0_row0\" class=\"row_heading level0 row0\" >3637</th>\n",
       "                        <td id=\"T_fc7c8_row0_col0\" class=\"data row0 col0\" >0.215264</td>\n",
       "                        <td id=\"T_fc7c8_row0_col1\" class=\"data row0 col1\" >0.258460</td>\n",
       "                        <td id=\"T_fc7c8_row0_col2\" class=\"data row0 col2\" >0.126731</td>\n",
       "                        <td id=\"T_fc7c8_row0_col3\" class=\"data row0 col3\" >0.075354</td>\n",
       "                        <td id=\"T_fc7c8_row0_col4\" class=\"data row0 col4\" >0.005243</td>\n",
       "                        <td id=\"T_fc7c8_row0_col5\" class=\"data row0 col5\" >0.019798</td>\n",
       "                        <td id=\"T_fc7c8_row0_col6\" class=\"data row0 col6\" >0.008278</td>\n",
       "            </tr>\n",
       "    </tbody></table>"
      ],
      "text/plain": [
       "<pandas.io.formats.style.Styler at 0x7fa696b66400>"
      ]
     },
     "metadata": {},
     "output_type": "display_data"
    },
    {
     "data": {
      "text/html": [
       "<style  type=\"text/css\" >\n",
       "#T_58a8b_row0_col0{\n",
       "            background-color:  #f3f0f0;\n",
       "            color:  #000000;\n",
       "        }#T_58a8b_row0_col1{\n",
       "            background-color:  #ff0000;\n",
       "            color:  #f1f1f1;\n",
       "        }#T_58a8b_row0_col2{\n",
       "            background-color:  #fe1010;\n",
       "            color:  #f1f1f1;\n",
       "        }#T_58a8b_row0_col3{\n",
       "            background-color:  #fc3434;\n",
       "            color:  #f1f1f1;\n",
       "        }#T_58a8b_row0_col4{\n",
       "            background-color:  #f6baba;\n",
       "            color:  #000000;\n",
       "        }</style><table id=\"T_58a8b_\" ><thead>    <tr>        <th class=\"blank level0\" ></th>        <th class=\"col_heading level0 col0\" >adventure</th>        <th class=\"col_heading level0 col1\" >workshop</th>        <th class=\"col_heading level0 col2\" >preschool</th>        <th class=\"col_heading level0 col3\" >(jewel</th>        <th class=\"col_heading level0 col4\" >case)</th>    </tr></thead><tbody>\n",
       "                <tr>\n",
       "                        <th id=\"T_58a8b_level0_row0\" class=\"row_heading level0 row0\" >735</th>\n",
       "                        <td id=\"T_58a8b_row0_col0\" class=\"data row0 col0\" >0.059769</td>\n",
       "                        <td id=\"T_58a8b_row0_col1\" class=\"data row0 col1\" >0.219299</td>\n",
       "                        <td id=\"T_58a8b_row0_col2\" class=\"data row0 col2\" >0.208518</td>\n",
       "                        <td id=\"T_58a8b_row0_col3\" class=\"data row0 col3\" >0.184682</td>\n",
       "                        <td id=\"T_58a8b_row0_col4\" class=\"data row0 col4\" >0.095319</td>\n",
       "            </tr>\n",
       "    </tbody></table>"
      ],
      "text/plain": [
       "<pandas.io.formats.style.Styler at 0x7fa696b662e0>"
      ]
     },
     "metadata": {},
     "output_type": "display_data"
    },
    {
     "data": {
      "text/html": [
       "<style  type=\"text/css\" >\n",
       "#T_5dd76_row0_col0{\n",
       "            background-color:  #f3e9e9;\n",
       "            color:  #000000;\n",
       "        }#T_5dd76_row0_col1{\n",
       "            background-color:  #f3f0f0;\n",
       "            color:  #000000;\n",
       "        }#T_5dd76_row0_col2{\n",
       "            background-color:  #f5c2c2;\n",
       "            color:  #000000;\n",
       "        }#T_5dd76_row0_col3{\n",
       "            background-color:  #f6b7b7;\n",
       "            color:  #000000;\n",
       "        }#T_5dd76_row0_col4{\n",
       "            background-color:  #f7a2a2;\n",
       "            color:  #000000;\n",
       "        }#T_5dd76_row0_col5{\n",
       "            background-color:  #ff0000;\n",
       "            color:  #f1f1f1;\n",
       "        }#T_5dd76_row0_col6{\n",
       "            background-color:  #fe1010;\n",
       "            color:  #f1f1f1;\n",
       "        }#T_5dd76_row0_col7{\n",
       "            background-color:  #ff0606;\n",
       "            color:  #f1f1f1;\n",
       "        }#T_5dd76_row0_col8{\n",
       "            background-color:  #f96d6d;\n",
       "            color:  #000000;\n",
       "        }#T_5dd76_row0_col9{\n",
       "            background-color:  #f88484;\n",
       "            color:  #000000;\n",
       "        }#T_5dd76_row0_col10{\n",
       "            background-color:  #f79898;\n",
       "            color:  #000000;\n",
       "        }#T_5dd76_row0_col11{\n",
       "            background-color:  #f5c4c4;\n",
       "            color:  #000000;\n",
       "        }</style><table id=\"T_5dd76_\" ><thead>    <tr>        <th class=\"blank level0\" ></th>        <th class=\"col_heading level0 col0\" >encore</th>        <th class=\"col_heading level0 col1\" >software</th>        <th class=\"col_heading level0 col2\" >10538</th>        <th class=\"col_heading level0 col3\" >-</th>        <th class=\"col_heading level0 col4\" >adventure</th>        <th class=\"col_heading level0 col5\" >workshop</th>        <th class=\"col_heading level0 col6\" >preschool</th>        <th class=\"col_heading level0 col7\" >7</th>        <th class=\"col_heading level0 col8\" >by</th>        <th class=\"col_heading level0 col9\" >the</th>        <th class=\"col_heading level0 col10\" >learning</th>        <th class=\"col_heading level0 col11\" >company</th>    </tr></thead><tbody>\n",
       "                <tr>\n",
       "                        <th id=\"T_5dd76_level0_row0\" class=\"row_heading level0 row0\" >4294</th>\n",
       "                        <td id=\"T_5dd76_row0_col0\" class=\"data row0 col0\" >0.008574</td>\n",
       "                        <td id=\"T_5dd76_row0_col1\" class=\"data row0 col1\" >0.003393</td>\n",
       "                        <td id=\"T_5dd76_row0_col2\" class=\"data row0 col2\" >0.038706</td>\n",
       "                        <td id=\"T_5dd76_row0_col3\" class=\"data row0 col3\" >0.047151</td>\n",
       "                        <td id=\"T_5dd76_row0_col4\" class=\"data row0 col4\" >0.063056</td>\n",
       "                        <td id=\"T_5dd76_row0_col5\" class=\"data row0 col5\" >0.186583</td>\n",
       "                        <td id=\"T_5dd76_row0_col6\" class=\"data row0 col6\" >0.173981</td>\n",
       "                        <td id=\"T_5dd76_row0_col7\" class=\"data row0 col7\" >0.181678</td>\n",
       "                        <td id=\"T_5dd76_row0_col8\" class=\"data row0 col8\" >0.103089</td>\n",
       "                        <td id=\"T_5dd76_row0_col9\" class=\"data row0 col9\" >0.085907</td>\n",
       "                        <td id=\"T_5dd76_row0_col10\" class=\"data row0 col10\" >0.070364</td>\n",
       "                        <td id=\"T_5dd76_row0_col11\" class=\"data row0 col11\" >0.037517</td>\n",
       "            </tr>\n",
       "    </tbody></table>"
      ],
      "text/plain": [
       "<pandas.io.formats.style.Styler at 0x7fa696b87d00>"
      ]
     },
     "metadata": {},
     "output_type": "display_data"
    }
   ],
   "source": [
    "import seaborn as sns\n",
    "\n",
    "def display_attention(id_, field):\n",
    "    val = test_record_dict[id_][field]\n",
    "    attn_scores = test_attn_scores_dict[id_][:len(val.split())]\n",
    "    attn_df = pd.DataFrame(dict(zip(val.split(), attn_scores)), index=[id_])\n",
    "    cm = sns.light_palette(\"red\", as_cmap=True)\n",
    "    display(attn_df.style.background_gradient(cmap=cm, axis=1))\n",
    "\n",
    "def display_pair_attention(pair, field):\n",
    "    left_id, right_id = pair\n",
    "    display_attention(left_id, field)\n",
    "    display_attention(right_id, field)\n",
    "\n",
    "for pair in hard_prob_df.index:\n",
    "    display_pair_attention(pair, 'title')"
   ]
  },
  {
   "cell_type": "code",
   "execution_count": 50,
   "id": "01227cba",
   "metadata": {},
   "outputs": [
    {
     "data": {
      "text/plain": [
       "<Figure size 1152x720 with 0 Axes>"
      ]
     },
     "metadata": {},
     "output_type": "display_data"
    },
    {
     "data": {
      "image/png": "[encoded data removed]",
      "text/plain": [
       "<Figure size 432x288 with 1 Axes>"
      ]
     },
     "metadata": {
      "needs_background": "light"
     },
     "output_type": "display_data"
    }
   ],
   "source": [
    "%matplotlib inline\n",
    "import matplotlib.pyplot as plt\n",
    "from sklearn.metrics import plot_precision_recall_curve\n",
    "from sklearn.metrics import average_precision_score\n",
    "\n",
    "plt.figure(figsize=(16,10))\n",
    "\n",
    "disp = plot_precision_recall_curve(clf, test_feature_df, test_true_y)"
   ]
  }
 ],
 "metadata": {
  "kernelspec": {
   "display_name": "Python 3",
   "language": "python",
   "name": "python3"
  },
  "language_info": {
   "codemirror_mode": {
    "name": "ipython",
    "version": 3
   },
   "file_extension": ".py",
   "mimetype": "text/x-python",
   "name": "python",
   "nbconvert_exporter": "python",
   "pygments_lexer": "ipython3",
   "version": "3.8.6"
  }
 },
 "nbformat": 4,
 "nbformat_minor": 5
}
