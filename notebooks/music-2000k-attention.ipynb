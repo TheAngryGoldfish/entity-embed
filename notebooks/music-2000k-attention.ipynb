{
 "cells": [
  {
   "cell_type": "markdown",
   "metadata": {},
   "source": [
    "**TODO**\n",
    "- Properly handle empty attributes"
   ]
  },
  {
   "cell_type": "markdown",
   "metadata": {},
   "source": [
    "## Load Dataset"
   ]
  },
  {
   "cell_type": "code",
   "execution_count": 1,
   "metadata": {},
   "outputs": [],
   "source": [
    "%load_ext autoreload\n",
    "%autoreload 2"
   ]
  },
  {
   "cell_type": "code",
   "execution_count": 2,
   "metadata": {},
   "outputs": [],
   "source": [
    "import sys\n",
    "\n",
    "sys.path.insert(0, '..')"
   ]
  },
  {
   "cell_type": "code",
   "execution_count": 3,
   "metadata": {},
   "outputs": [],
   "source": [
    "# TODO: import here, conflict with libgomp from pytorch\n",
    "from n2 import HnswIndex\n",
    "import os"
   ]
  },
  {
   "cell_type": "code",
   "execution_count": 4,
   "metadata": {},
   "outputs": [],
   "source": [
    "import os\n",
    "home_dir = os.getenv('HOME')"
   ]
  },
  {
   "cell_type": "markdown",
   "metadata": {},
   "source": [
    "https://dbs.uni-leipzig.de/research/projects/object_matching/benchmark_datasets_for_entity_resolution\n",
    "\n",
    "https://www.informatik.uni-leipzig.de/~saeedi/musicBrainz_readme.txt"
   ]
  },
  {
   "cell_type": "markdown",
   "metadata": {},
   "source": [
    "```\n",
    "5 sources\n",
    "---------- \n",
    "TID: a unique record's id (in the complete dataset).\n",
    "CID: cluster id (records having the same CID are duplicate)\n",
    "CTID: a unique id within a cluster (if two records belong to the same cluster they will have the same CID but different CTIDs). These ids (CTID) start with 1 and grow until cluster size.\n",
    "SourceID: identifies to which source a record belongs (there are five sources). The sources are deduplicated.\n",
    "Id: the original id from the source. Each source has its own Id-Format. Uniqueness is not guaranteed!! (can be ignored).\n",
    "number: track or song number in the album.\n",
    "length: the length of the track.\n",
    "artist: the interpreter (artist or band) of the track.\n",
    "year: date of publication.\n",
    "language: language of the track.\n",
    "```"
   ]
  },
  {
   "cell_type": "code",
   "execution_count": 5,
   "metadata": {},
   "outputs": [
    {
     "name": "stderr",
     "output_type": "stream",
     "text": [
      "100%|██████████| 1937500/1937500 [00:08<00:00, 231309.90it/s]\n"
     ]
    }
   ],
   "source": [
    "import glob\n",
    "import csv\n",
    "import tqdm\n",
    "\n",
    "current_row_id = 0\n",
    "row_dict = {}\n",
    "rows_total = 1937500\n",
    "cluster_id_attr = 'CID'\n",
    "\n",
    "with tqdm.tqdm(total=rows_total) as pbar:\n",
    "    for filename in glob.glob(f'{home_dir}/Downloads/musicbrainz-2000-A01.csv.dapo'):\n",
    "        with open(filename) as f:\n",
    "            for row in csv.DictReader(f):\n",
    "                row['id'] = current_row_id\n",
    "                row[cluster_id_attr] = int(row[cluster_id_attr])  # convert cluster_id_attr to int\n",
    "                row_dict[current_row_id] = row\n",
    "                current_row_id += 1\n",
    "                pbar.update(1)"
   ]
  },
  {
   "cell_type": "code",
   "execution_count": 6,
   "metadata": {},
   "outputs": [
    {
     "data": {
      "text/plain": [
       "{'TID': '2',\n",
       " 'CID': 2,\n",
       " 'CTID': '1',\n",
       " 'SourceID': '5',\n",
       " 'id': 1,\n",
       " 'number': '17',\n",
       " 'title': 'Mustard Gas',\n",
       " 'length': '129000',\n",
       " 'artist': 'Action Painting!',\n",
       " 'album': 'There and Back Again Lane',\n",
       " 'year': '1995',\n",
       " 'language': 'English'}"
      ]
     },
     "execution_count": 6,
     "metadata": {},
     "output_type": "execute_result"
    }
   ],
   "source": [
    "row_dict[1]"
   ]
  },
  {
   "cell_type": "code",
   "execution_count": 7,
   "metadata": {},
   "outputs": [],
   "source": [
    "attr_list = ['title', 'artist', 'album']\n",
    "is_multitoken_attr_list = ['title', 'artist', 'album']"
   ]
  },
  {
   "cell_type": "markdown",
   "metadata": {},
   "source": [
    "preprocess:"
   ]
  },
  {
   "cell_type": "code",
   "execution_count": 8,
   "metadata": {},
   "outputs": [],
   "source": [
    "import unidecode\n",
    "from entity_embed.data_utils.one_hot_encoders import _default_tokenizer_fn\n",
    "\n",
    "def clean_str(s):\n",
    "    s = unidecode.unidecode(s).lower().strip()\n",
    "    return ' '.join(s_part[:30] for s_part in _default_tokenizer_fn(s))[:100]\n",
    "\n",
    "for row in row_dict.values():\n",
    "    for attr in attr_list:\n",
    "        row[attr] = clean_str(row[attr])"
   ]
  },
  {
   "cell_type": "code",
   "execution_count": 9,
   "metadata": {
    "scrolled": true
   },
   "outputs": [
    {
     "data": {
      "text/plain": [
       "1000000"
      ]
     },
     "execution_count": 9,
     "metadata": {},
     "output_type": "execute_result"
    }
   ],
   "source": [
    "len(set(r[cluster_id_attr] for r in row_dict.values()))"
   ]
  },
  {
   "cell_type": "code",
   "execution_count": 10,
   "metadata": {},
   "outputs": [],
   "source": [
    "row_list = list(row_dict.values())\n",
    "row_list.sort(key=lambda row: (row[cluster_id_attr]))"
   ]
  },
  {
   "cell_type": "code",
   "execution_count": 11,
   "metadata": {},
   "outputs": [
    {
     "data": {
      "text/plain": [
       "1625000"
      ]
     },
     "execution_count": 11,
     "metadata": {},
     "output_type": "execute_result"
    }
   ],
   "source": [
    "from ordered_set import OrderedSet  # ensure reproducibility\n",
    "import itertools\n",
    "\n",
    "true_pair_set = OrderedSet(\n",
    "    tuple(sorted((row_left['id'], row_right['id'])))\n",
    "    for __, row_cluster_list in itertools.groupby(row_list, key=lambda row: row[cluster_id_attr])\n",
    "    for row_left, row_right in itertools.combinations(row_cluster_list, 2)\n",
    ")\n",
    "len(true_pair_set)"
   ]
  },
  {
   "cell_type": "code",
   "execution_count": 12,
   "metadata": {},
   "outputs": [
    {
     "data": {
      "text/plain": [
       "[{'TID': '1',\n",
       "  'CID': 1,\n",
       "  'CTID': '1',\n",
       "  'SourceID': '5',\n",
       "  'id': 0,\n",
       "  'number': '9',\n",
       "  'title': \"l ' enfant aux yeux d ' italie\",\n",
       "  'length': '219800',\n",
       "  'artist': 'daniel balavoine',\n",
       "  'album': 'de vous a elle en passant par moi',\n",
       "  'year': '1975',\n",
       "  'language': 'French'},\n",
       " {'TID': '262214',\n",
       "  'CID': 1,\n",
       "  'CTID': '2',\n",
       "  'SourceID': '1',\n",
       "  'id': 262213,\n",
       "  'number': '009',\n",
       "  'title': \"l ' enfant aux yeux d ' italie ( de vous a elle en passant par moi )\",\n",
       "  'length': '03:39',\n",
       "  'artist': 'daniel balavoine',\n",
       "  'album': 'de vous a elle en passant par moi',\n",
       "  'year': '1975',\n",
       "  'language': ''}]"
      ]
     },
     "execution_count": 12,
     "metadata": {},
     "output_type": "execute_result"
    }
   ],
   "source": [
    "[row_dict[id_] for id_ in next(iter(true_pair_set))]"
   ]
  },
  {
   "cell_type": "code",
   "execution_count": 13,
   "metadata": {},
   "outputs": [],
   "source": [
    "from entity_embed.evaluation import precision_and_recall"
   ]
  },
  {
   "cell_type": "markdown",
   "metadata": {},
   "source": [
    "## Pairs"
   ]
  },
  {
   "cell_type": "code",
   "execution_count": 14,
   "metadata": {},
   "outputs": [],
   "source": [
    "import random\n",
    "\n",
    "random_seed = 42\n",
    "random.seed(random_seed)"
   ]
  },
  {
   "cell_type": "code",
   "execution_count": 15,
   "metadata": {},
   "outputs": [
    {
     "data": {
      "text/plain": [
       "1625000"
      ]
     },
     "execution_count": 15,
     "metadata": {},
     "output_type": "execute_result"
    }
   ],
   "source": [
    "len(true_pair_set)"
   ]
  },
  {
   "cell_type": "code",
   "execution_count": 16,
   "metadata": {},
   "outputs": [
    {
     "name": "stdout",
     "output_type": "stream",
     "text": [
      "5000\n",
      "1620000\n"
     ]
    }
   ],
   "source": [
    "import random\n",
    "\n",
    "train_len = 5_000\n",
    "train_pair_set = OrderedSet(random.sample(true_pair_set, train_len))\n",
    "valid_pair_set = true_pair_set - train_pair_set\n",
    "\n",
    "print(len(train_pair_set))\n",
    "print(len(valid_pair_set))"
   ]
  },
  {
   "cell_type": "code",
   "execution_count": 17,
   "metadata": {},
   "outputs": [
    {
     "data": {
      "text/plain": [
       "9962"
      ]
     },
     "execution_count": 17,
     "metadata": {},
     "output_type": "execute_result"
    }
   ],
   "source": [
    "train_id_set = OrderedSet(id_ for pair in train_pair_set for id_ in pair)\n",
    "len(train_id_set)"
   ]
  },
  {
   "cell_type": "code",
   "execution_count": 18,
   "metadata": {},
   "outputs": [
    {
     "data": {
      "text/plain": [
       "9962"
      ]
     },
     "execution_count": 18,
     "metadata": {},
     "output_type": "execute_result"
    }
   ],
   "source": [
    "train_row_dict = {id_: row_dict[id_] for id_ in train_id_set}\n",
    "len(train_row_dict)"
   ]
  },
  {
   "cell_type": "code",
   "execution_count": 19,
   "metadata": {},
   "outputs": [
    {
     "data": {
      "text/plain": [
       "1435997"
      ]
     },
     "execution_count": 19,
     "metadata": {},
     "output_type": "execute_result"
    }
   ],
   "source": [
    "valid_id_set = OrderedSet(id_ for pair in valid_pair_set for id_ in pair)\n",
    "len(valid_id_set)"
   ]
  },
  {
   "cell_type": "code",
   "execution_count": 20,
   "metadata": {
    "scrolled": true
   },
   "outputs": [
    {
     "data": {
      "text/plain": [
       "1435997"
      ]
     },
     "execution_count": 20,
     "metadata": {},
     "output_type": "execute_result"
    }
   ],
   "source": [
    "valid_row_dict = {id_: row_dict[id_] for id_ in valid_id_set}\n",
    "len(valid_row_dict)"
   ]
  },
  {
   "cell_type": "markdown",
   "metadata": {},
   "source": [
    "## Self-training"
   ]
  },
  {
   "cell_type": "code",
   "execution_count": 21,
   "metadata": {},
   "outputs": [],
   "source": [
    "import torch\n",
    "import numpy as np"
   ]
  },
  {
   "cell_type": "code",
   "execution_count": 22,
   "metadata": {},
   "outputs": [],
   "source": [
    "torch.manual_seed(random_seed)\n",
    "np.random.seed(random_seed)"
   ]
  },
  {
   "cell_type": "code",
   "execution_count": 23,
   "metadata": {},
   "outputs": [
    {
     "name": "stderr",
     "output_type": "stream",
     "text": [
      "100%|██████████| 3/3 [00:11<00:00,  3.84s/it]\n"
     ]
    }
   ],
   "source": [
    "from entity_embed.data_utils.one_hot_encoders import RowOneHotEncoder\n",
    "\n",
    "row_encoder = RowOneHotEncoder(\n",
    "    row_dict,\n",
    "    attr_list=attr_list,\n",
    "    is_multitoken_attr_list=is_multitoken_attr_list,\n",
    "    tokenizer_fn=lambda s: s.split(),\n",
    "    alphabet=list('0123456789abcdefghijklmnopqrstuvwxyz!\"#$%&\\'()*+,-./:;<=>?@[\\\\]^_`{|}~ '),\n",
    "    show_progress=True,\n",
    ")"
   ]
  },
  {
   "cell_type": "code",
   "execution_count": 24,
   "metadata": {},
   "outputs": [],
   "source": [
    "from entity_embed.data_utils.datasets import PairDataset\n",
    "\n",
    "pos_pair_batch_size = 45\n",
    "neg_pair_batch_size = 1225\n",
    "\n",
    "train_dataset = PairDataset(\n",
    "    row_dict=train_row_dict,\n",
    "    cluster_attr=cluster_id_attr, \n",
    "    row_encoder=row_encoder,\n",
    "    pos_pair_batch_size=pos_pair_batch_size,\n",
    "    neg_pair_batch_size=neg_pair_batch_size\n",
    ")"
   ]
  },
  {
   "cell_type": "code",
   "execution_count": 25,
   "metadata": {},
   "outputs": [],
   "source": [
    "import os\n",
    "\n",
    "train_loader = torch.utils.data.DataLoader(\n",
    "    train_dataset,\n",
    "    batch_size=None,\n",
    "    shuffle=True,\n",
    "    num_workers=os.cpu_count(),\n",
    "    multiprocessing_context='fork'\n",
    ")"
   ]
  },
  {
   "cell_type": "code",
   "execution_count": 26,
   "metadata": {},
   "outputs": [
    {
     "data": {
      "text/plain": [
       "device(type='cuda')"
      ]
     },
     "execution_count": 26,
     "metadata": {},
     "output_type": "execute_result"
    }
   ],
   "source": [
    "if torch.cuda.is_available():\n",
    "    device = torch.device(\"cuda\")\n",
    "else:\n",
    "    device = torch.device(\"cpu\")\n",
    "\n",
    "device"
   ]
  },
  {
   "cell_type": "code",
   "execution_count": 27,
   "metadata": {},
   "outputs": [],
   "source": [
    "epochs = 20"
   ]
  },
  {
   "cell_type": "code",
   "execution_count": 28,
   "metadata": {
    "scrolled": true
   },
   "outputs": [
    {
     "name": "stderr",
     "output_type": "stream",
     "text": [
      "# Train Epoch:   0 Time: 12.547 Loss: 0.191:   5%|▌         | 114/2280 [00:12<03:27, 10.46it/s]"
     ]
    },
    {
     "name": "stdout",
     "output_type": "stream",
     "text": [
      "[('title', tensor(0.3438, device='cuda:0')), ('artist', tensor(0.3151, device='cuda:0')), ('album', tensor(0.3411, device='cuda:0'))]\n"
     ]
    },
    {
     "name": "stderr",
     "output_type": "stream",
     "text": [
      "# Train Epoch:   1 Time: 12.531 Loss: 0.042:  10%|█         | 228/2280 [00:25<03:17, 10.37it/s]"
     ]
    },
    {
     "name": "stdout",
     "output_type": "stream",
     "text": [
      "[('title', tensor(0.3489, device='cuda:0')), ('artist', tensor(0.3123, device='cuda:0')), ('album', tensor(0.3388, device='cuda:0'))]\n"
     ]
    },
    {
     "name": "stderr",
     "output_type": "stream",
     "text": [
      "# Train Epoch:   2 Time: 12.435 Loss: 0.025:  15%|█▌        | 342/2280 [00:37<03:00, 10.71it/s]"
     ]
    },
    {
     "name": "stdout",
     "output_type": "stream",
     "text": [
      "[('title', tensor(0.3503, device='cuda:0')), ('artist', tensor(0.3108, device='cuda:0')), ('album', tensor(0.3389, device='cuda:0'))]\n"
     ]
    },
    {
     "name": "stderr",
     "output_type": "stream",
     "text": [
      "# Train Epoch:   3 Time: 12.545 Loss: 0.018:  20%|██        | 456/2280 [00:50<02:52, 10.55it/s]"
     ]
    },
    {
     "name": "stdout",
     "output_type": "stream",
     "text": [
      "[('title', tensor(0.3509, device='cuda:0')), ('artist', tensor(0.3092, device='cuda:0')), ('album', tensor(0.3398, device='cuda:0'))]\n"
     ]
    },
    {
     "name": "stderr",
     "output_type": "stream",
     "text": [
      "# Train Epoch:   4 Time: 12.508 Loss: 0.015:  25%|██▌       | 570/2280 [01:03<02:43, 10.43it/s]"
     ]
    },
    {
     "name": "stdout",
     "output_type": "stream",
     "text": [
      "[('title', tensor(0.3525, device='cuda:0')), ('artist', tensor(0.3093, device='cuda:0')), ('album', tensor(0.3382, device='cuda:0'))]\n"
     ]
    },
    {
     "name": "stderr",
     "output_type": "stream",
     "text": [
      "# Train Epoch:   5 Time: 12.470 Loss: 0.014:  30%|███       | 684/2280 [01:15<02:33, 10.40it/s]"
     ]
    },
    {
     "name": "stdout",
     "output_type": "stream",
     "text": [
      "[('title', tensor(0.3546, device='cuda:0')), ('artist', tensor(0.3067, device='cuda:0')), ('album', tensor(0.3387, device='cuda:0'))]\n"
     ]
    },
    {
     "name": "stderr",
     "output_type": "stream",
     "text": [
      "# Train Epoch:   6 Time: 12.581 Loss: 0.013:  35%|███▌      | 798/2280 [01:28<02:22, 10.37it/s]"
     ]
    },
    {
     "name": "stdout",
     "output_type": "stream",
     "text": [
      "[('title', tensor(0.3564, device='cuda:0')), ('artist', tensor(0.3048, device='cuda:0')), ('album', tensor(0.3388, device='cuda:0'))]\n"
     ]
    },
    {
     "name": "stderr",
     "output_type": "stream",
     "text": [
      "# Train Epoch:   7 Time: 12.549 Loss: 0.012:  40%|████      | 912/2280 [01:41<02:17,  9.95it/s]"
     ]
    },
    {
     "name": "stdout",
     "output_type": "stream",
     "text": [
      "[('title', tensor(0.3573, device='cuda:0')), ('artist', tensor(0.3022, device='cuda:0')), ('album', tensor(0.3405, device='cuda:0'))]\n"
     ]
    },
    {
     "name": "stderr",
     "output_type": "stream",
     "text": [
      "# Train Epoch:   8 Time: 12.534 Loss: 0.011:  45%|████▌     | 1026/2280 [01:53<02:00, 10.38it/s]"
     ]
    },
    {
     "name": "stdout",
     "output_type": "stream",
     "text": [
      "[('title', tensor(0.3592, device='cuda:0')), ('artist', tensor(0.3002, device='cuda:0')), ('album', tensor(0.3406, device='cuda:0'))]\n"
     ]
    },
    {
     "name": "stderr",
     "output_type": "stream",
     "text": [
      "# Train Epoch:   9 Time: 12.533 Loss: 0.010:  50%|█████     | 1140/2280 [02:06<01:54,  9.94it/s]"
     ]
    },
    {
     "name": "stdout",
     "output_type": "stream",
     "text": [
      "[('title', tensor(0.3594, device='cuda:0')), ('artist', tensor(0.3002, device='cuda:0')), ('album', tensor(0.3404, device='cuda:0'))]\n"
     ]
    },
    {
     "name": "stderr",
     "output_type": "stream",
     "text": [
      "# Train Epoch:  10 Time: 12.714 Loss: 0.011:  55%|█████▌    | 1254/2280 [02:19<01:36, 10.65it/s]"
     ]
    },
    {
     "name": "stdout",
     "output_type": "stream",
     "text": [
      "[('title', tensor(0.3622, device='cuda:0')), ('artist', tensor(0.2981, device='cuda:0')), ('album', tensor(0.3398, device='cuda:0'))]\n"
     ]
    },
    {
     "name": "stderr",
     "output_type": "stream",
     "text": [
      "# Train Epoch:  11 Time: 12.630 Loss: 0.011:  60%|██████    | 1368/2280 [02:32<01:29, 10.18it/s]"
     ]
    },
    {
     "name": "stdout",
     "output_type": "stream",
     "text": [
      "[('title', tensor(0.3632, device='cuda:0')), ('artist', tensor(0.2977, device='cuda:0')), ('album', tensor(0.3392, device='cuda:0'))]\n"
     ]
    },
    {
     "name": "stderr",
     "output_type": "stream",
     "text": [
      "# Train Epoch:  12 Time: 12.679 Loss: 0.009:  65%|██████▌   | 1482/2280 [02:45<01:14, 10.66it/s]"
     ]
    },
    {
     "name": "stdout",
     "output_type": "stream",
     "text": [
      "[('title', tensor(0.3656, device='cuda:0')), ('artist', tensor(0.2955, device='cuda:0')), ('album', tensor(0.3389, device='cuda:0'))]\n"
     ]
    },
    {
     "name": "stderr",
     "output_type": "stream",
     "text": [
      "# Train Epoch:  13 Time: 12.700 Loss: 0.009:  70%|███████   | 1596/2280 [02:57<01:07, 10.09it/s]"
     ]
    },
    {
     "name": "stdout",
     "output_type": "stream",
     "text": [
      "[('title', tensor(0.3676, device='cuda:0')), ('artist', tensor(0.2936, device='cuda:0')), ('album', tensor(0.3388, device='cuda:0'))]\n"
     ]
    },
    {
     "name": "stderr",
     "output_type": "stream",
     "text": [
      "# Train Epoch:  14 Time: 12.566 Loss: 0.009:  75%|███████▌  | 1710/2280 [03:10<00:55, 10.25it/s]"
     ]
    },
    {
     "name": "stdout",
     "output_type": "stream",
     "text": [
      "[('title', tensor(0.3694, device='cuda:0')), ('artist', tensor(0.2924, device='cuda:0')), ('album', tensor(0.3382, device='cuda:0'))]\n"
     ]
    },
    {
     "name": "stderr",
     "output_type": "stream",
     "text": [
      "# Train Epoch:  15 Time: 12.710 Loss: 0.008:  80%|████████  | 1824/2280 [03:23<00:44, 10.32it/s]"
     ]
    },
    {
     "name": "stdout",
     "output_type": "stream",
     "text": [
      "[('title', tensor(0.3695, device='cuda:0')), ('artist', tensor(0.2921, device='cuda:0')), ('album', tensor(0.3384, device='cuda:0'))]\n"
     ]
    },
    {
     "name": "stderr",
     "output_type": "stream",
     "text": [
      "# Train Epoch:  16 Time: 12.636 Loss: 0.008:  85%|████████▌ | 1938/2280 [03:36<00:35,  9.52it/s]"
     ]
    },
    {
     "name": "stdout",
     "output_type": "stream",
     "text": [
      "[('title', tensor(0.3712, device='cuda:0')), ('artist', tensor(0.2908, device='cuda:0')), ('album', tensor(0.3380, device='cuda:0'))]\n"
     ]
    },
    {
     "name": "stderr",
     "output_type": "stream",
     "text": [
      "# Train Epoch:  17 Time: 12.711 Loss: 0.007:  90%|█████████ | 2052/2280 [03:49<00:22, 10.03it/s]"
     ]
    },
    {
     "name": "stdout",
     "output_type": "stream",
     "text": [
      "[('title', tensor(0.3717, device='cuda:0')), ('artist', tensor(0.2899, device='cuda:0')), ('album', tensor(0.3384, device='cuda:0'))]\n"
     ]
    },
    {
     "name": "stderr",
     "output_type": "stream",
     "text": [
      "# Train Epoch:  18 Time: 12.703 Loss: 0.007:  95%|█████████▌| 2166/2280 [04:01<00:10, 10.48it/s]"
     ]
    },
    {
     "name": "stdout",
     "output_type": "stream",
     "text": [
      "[('title', tensor(0.3726, device='cuda:0')), ('artist', tensor(0.2890, device='cuda:0')), ('album', tensor(0.3385, device='cuda:0'))]\n"
     ]
    },
    {
     "name": "stderr",
     "output_type": "stream",
     "text": [
      "# Train Epoch:  19 Time: 12.677 Loss: 0.007: 100%|██████████| 2280/2280 [04:14<00:00,  8.94it/s]"
     ]
    },
    {
     "name": "stdout",
     "output_type": "stream",
     "text": [
      "[('title', tensor(0.3739, device='cuda:0')), ('artist', tensor(0.2870, device='cuda:0')), ('album', tensor(0.3391, device='cuda:0'))]\n"
     ]
    },
    {
     "name": "stderr",
     "output_type": "stream",
     "text": [
      "\n"
     ]
    }
   ],
   "source": [
    "# https://github.com/pytorch/examples/blob/master/mnist/main.py\n",
    "import time\n",
    "\n",
    "from pytorch_metric_learning.distances import CosineSimilarity\n",
    "from pytorch_metric_learning.losses import NTXentLoss\n",
    "from pytorch_metric_learning.miners import BatchHardMiner\n",
    "\n",
    "from entity_embed.models import BlockerNet, get_current_signature_weights\n",
    "from entity_embed.trainer import train_epoch, valid_epoch\n",
    "\n",
    "model = BlockerNet(row_encoder.attr_info_dict).to(device)\n",
    "loss_func = NTXentLoss(temperature=0.1)\n",
    "mining_func = BatchHardMiner(distance=CosineSimilarity())\n",
    "optimizer = torch.optim.Adam(model.parameters(), lr=0.001)\n",
    "\n",
    "with tqdm.tqdm(total=epochs * len(train_loader), desc=\"# training\") as p_bar:\n",
    "    for epoch in range(epochs):\n",
    "        # for phase in ['train', 'valid']:\n",
    "        for phase in ['train']:\n",
    "            if phase == 'valid' and epoch % 5 != 0:\n",
    "                # valid only every 5 epochs\n",
    "                continue\n",
    "            elif phase == 'train':\n",
    "                epoch_func = train_epoch\n",
    "                epoch_args = dict(\n",
    "                    model=model,\n",
    "                    loss_func=loss_func,\n",
    "                    mining_func=mining_func,\n",
    "                    device=device,\n",
    "                    train_loader=train_loader,\n",
    "                    optimizer=optimizer,\n",
    "                    epoch=epoch)\n",
    "            else:\n",
    "                epoch_func = valid_epoch\n",
    "                epoch_args = dict(\n",
    "                    model=model,\n",
    "                    loss_func=loss_func,\n",
    "                    device=device,\n",
    "                    valid_loader=valid_block_loader)\n",
    "            \n",
    "            loss_agg = 0.0\n",
    "            start_time = time.time()\n",
    "            \n",
    "            for idx, loss_item in enumerate(epoch_func(**epoch_args)):\n",
    "                loss_agg += loss_item\n",
    "                if phase == 'train':\n",
    "                    p_bar.update(1)\n",
    "                    p_bar.set_description(\n",
    "                        \"# Train Epoch: %3d Time: %.3f Loss: %.3f\"\n",
    "                        % (\n",
    "                            epoch,\n",
    "                            time.time() - start_time,\n",
    "                            loss_agg / (idx + 1),\n",
    "                        )\n",
    "                    )\n",
    "\n",
    "            if phase == 'train':\n",
    "                print(get_current_signature_weights(row_encoder.attr_info_dict, model))\n",
    "            else:\n",
    "                print(\"Valid loss: %.5f\" % (loss_agg / (idx + 1)))"
   ]
  },
  {
   "cell_type": "code",
   "execution_count": 29,
   "metadata": {},
   "outputs": [],
   "source": [
    "# torch.save(model, \"music_model.torch\")"
   ]
  },
  {
   "cell_type": "code",
   "execution_count": 30,
   "metadata": {},
   "outputs": [],
   "source": [
    "# model = torch.load(\"music_model.torch\")"
   ]
  },
  {
   "cell_type": "code",
   "execution_count": 31,
   "metadata": {},
   "outputs": [],
   "source": [
    "from entity_embed.data_utils.datasets import RowDataset\n",
    "\n",
    "valid_id_list = list(valid_id_set)\n",
    "row_batch_size = 32\n",
    "valid_row_dataset = RowDataset(\n",
    "    row_encoder=row_encoder,\n",
    "    row_dict=valid_row_dict,\n",
    "    batch_size=row_batch_size\n",
    ")\n",
    "valid_row_loader = torch.utils.data.DataLoader(\n",
    "    valid_row_dataset,\n",
    "    batch_size=None,\n",
    "    shuffle=False,\n",
    "    # num_workers=os.cpu_count(),\n",
    "    # multiprocessing_context='fork'\n",
    ")"
   ]
  },
  {
   "cell_type": "code",
   "execution_count": 32,
   "metadata": {
    "scrolled": false
   },
   "outputs": [
    {
     "name": "stderr",
     "output_type": "stream",
     "text": [
      "# batch embedding: 100%|██████████| 44875/44875 [21:31<00:00, 34.73it/s]\n"
     ]
    }
   ],
   "source": [
    "import tqdm\n",
    "import os\n",
    "import torch.nn.functional as F\n",
    "\n",
    "model.eval()\n",
    "valid_embed_matrix = []\n",
    "with tqdm.tqdm(total=len(valid_row_loader), desc=\"# batch embedding\") as p_bar:\n",
    "    for i, (t_dict, t_lengths_dict) in enumerate(valid_row_loader):\n",
    "        t_dict = {attr: t.to(device) for attr, t in t_dict.items()}\n",
    "        valid_embed_matrix.extend(\n",
    "            v.data.numpy()\n",
    "            for v in model(t_dict, t_lengths_dict).cpu().unbind()\n",
    "        )\n",
    "        p_bar.update(1)"
   ]
  },
  {
   "cell_type": "code",
   "execution_count": 33,
   "metadata": {},
   "outputs": [],
   "source": [
    "valid_id_to_index = {id_: index for index, id_ in enumerate(valid_id_set)}"
   ]
  },
  {
   "cell_type": "code",
   "execution_count": 34,
   "metadata": {},
   "outputs": [
    {
     "name": "stdout",
     "output_type": "stream",
     "text": [
      "CPU times: user 1h 33min 17s, sys: 12.1 s, total: 1h 33min 29s\n",
      "Wall time: 8min 27s\n"
     ]
    }
   ],
   "source": [
    "%%time\n",
    "\n",
    "ef_construction = 150\n",
    "M = 64\n",
    "metric = 'angular'\n",
    "\n",
    "# https://github.com/nmslib/hnswlib/blob/master/ALGO_PARAMS.md#construction-parameters\n",
    "approx_knn_index = HnswIndex(dimension=valid_embed_matrix[0].shape[0], metric=metric)\n",
    "for valid_embed_vec in valid_embed_matrix:\n",
    "    approx_knn_index.add_data(valid_embed_vec)\n",
    "\n",
    "approx_knn_index.build(    \n",
    "    m=M,\n",
    "    max_m0=M,\n",
    "    ef_construction=ef_construction,\n",
    "    n_threads=os.cpu_count(),\n",
    ")"
   ]
  },
  {
   "cell_type": "code",
   "execution_count": 35,
   "metadata": {},
   "outputs": [
    {
     "name": "stdout",
     "output_type": "stream",
     "text": [
      "CPU times: user 3h 35min 59s, sys: 12.5 s, total: 3h 36min 11s\n",
      "Wall time: 18min 39s\n"
     ]
    }
   ],
   "source": [
    "%%time\n",
    "\n",
    "ntop = 10\n",
    "\n",
    "neighbor_distance_list = approx_knn_index.batch_search_by_ids(\n",
    "    item_ids=list(range(len(valid_embed_matrix))),\n",
    "    k=ntop,\n",
    "    ef_search=-1,\n",
    "    num_threads=os.cpu_count(),\n",
    "    include_distances=True\n",
    ")"
   ]
  },
  {
   "cell_type": "code",
   "execution_count": 36,
   "metadata": {
    "scrolled": false
   },
   "outputs": [
    {
     "data": {
      "text/plain": [
       "[(0, 0.0),\n",
       " (1, 0.010957956314086914),\n",
       " (211793, 0.28383827209472656),\n",
       " (367956, 0.3329240679740906),\n",
       " (1347520, 0.3470045328140259),\n",
       " (1347519, 0.3863089680671692),\n",
       " (367957, 0.39578837156295776),\n",
       " (76980, 0.3996577858924866),\n",
       " (984581, 0.40467971563339233),\n",
       " (984580, 0.4055212140083313)]"
      ]
     },
     "execution_count": 36,
     "metadata": {},
     "output_type": "execute_result"
    }
   ],
   "source": [
    "neighbor_distance_list[0]"
   ]
  },
  {
   "cell_type": "code",
   "execution_count": 37,
   "metadata": {},
   "outputs": [],
   "source": [
    "threshold = 0.5\n",
    "distance_threshold = 1 - threshold"
   ]
  },
  {
   "cell_type": "code",
   "execution_count": 38,
   "metadata": {
    "scrolled": true
   },
   "outputs": [
    {
     "data": {
      "text/plain": [
       "[{'TID': '1',\n",
       "  'CID': 1,\n",
       "  'CTID': '1',\n",
       "  'SourceID': '5',\n",
       "  'id': 0,\n",
       "  'number': '9',\n",
       "  'title': \"l ' enfant aux yeux d ' italie\",\n",
       "  'length': '219800',\n",
       "  'artist': 'daniel balavoine',\n",
       "  'album': 'de vous a elle en passant par moi',\n",
       "  'year': '1975',\n",
       "  'language': 'French'},\n",
       " {'TID': '262214',\n",
       "  'CID': 1,\n",
       "  'CTID': '2',\n",
       "  'SourceID': '1',\n",
       "  'id': 262213,\n",
       "  'number': '009',\n",
       "  'title': \"l ' enfant aux yeux d ' italie ( de vous a elle en passant par moi )\",\n",
       "  'length': '03:39',\n",
       "  'artist': 'daniel balavoine',\n",
       "  'album': 'de vous a elle en passant par moi',\n",
       "  'year': '1975',\n",
       "  'language': ''},\n",
       " {'TID': '1197215',\n",
       "  'CID': 147005,\n",
       "  'CTID': '3',\n",
       "  'SourceID': '3',\n",
       "  'id': 1197214,\n",
       "  'number': '9',\n",
       "  'title': \"l ' enfant aux yeux d ' italie - l ' integrale des albums originaux\",\n",
       "  'length': '3.663',\n",
       "  'artist': 'daniel balavoine',\n",
       "  'album': '',\n",
       "  'year': \"'10\",\n",
       "  'language': 'French'},\n",
       " {'TID': '494634',\n",
       "  'CID': 255482,\n",
       "  'CTID': '1',\n",
       "  'SourceID': '1',\n",
       "  'id': 494633,\n",
       "  'number': '008',\n",
       "  'title': \"couleurs d ' automne ( de vous a elle en passant par moi )\",\n",
       "  'length': '04:39',\n",
       "  'artist': 'daniel balavoine',\n",
       "  'album': 'de vous a elle en passant par moi moi',\n",
       "  'year': '',\n",
       "  'language': ''},\n",
       " {'TID': '1818479',\n",
       "  'CID': 938539,\n",
       "  'CTID': '1',\n",
       "  'SourceID': '4',\n",
       "  'id': 1818478,\n",
       "  'number': '5',\n",
       "  'title': \"005 - pour la femme veuve qui s ' eveille\",\n",
       "  'length': '5m 34sec',\n",
       "  'artist': 'daniel balavoine',\n",
       "  'album': \"l ' essentiel ( 1990 )\",\n",
       "  'year': 'null',\n",
       "  'language': 'Fre.'},\n",
       " {'TID': '519910',\n",
       "  'CID': 938539,\n",
       "  'CTID': '2',\n",
       "  'SourceID': '5',\n",
       "  'id': 519909,\n",
       "  'number': '5',\n",
       "  'title': \"pour la femme veuve qui s ' eveille\",\n",
       "  'length': '334400',\n",
       "  'artist': 'daniel balavoine',\n",
       "  'album': \"l ' essentiel\",\n",
       "  'year': '1990',\n",
       "  'language': 'French'},\n",
       " {'TID': '1418112',\n",
       "  'CID': 255482,\n",
       "  'CTID': '2',\n",
       "  'SourceID': '2',\n",
       "  'id': 1418111,\n",
       "  'number': '8',\n",
       "  'title': \"daniel balavoine - couleurs d ' automne\",\n",
       "  'length': '279',\n",
       "  'artist': '',\n",
       "  'album': 'de vous a elle en passant par moi',\n",
       "  'year': '',\n",
       "  'language': 'French'},\n",
       " {'TID': '3198',\n",
       "  'CID': 53283,\n",
       "  'CTID': '2',\n",
       "  'SourceID': '5',\n",
       "  'id': 3197,\n",
       "  'number': '2',\n",
       "  'title': \"dieu que c ' est beau\",\n",
       "  'length': '244000',\n",
       "  'artist': 'daniel daniel balavoine',\n",
       "  'album': 'au palais des sports',\n",
       "  'year': '1984',\n",
       "  'language': 'French'},\n",
       " {'TID': '1328878',\n",
       "  'CID': 686120,\n",
       "  'CTID': '1',\n",
       "  'SourceID': '1',\n",
       "  'id': 1328877,\n",
       "  'number': '001',\n",
       "  'title': \"deux ' ils ' deux ' elles '\",\n",
       "  'length': '03:15',\n",
       "  'artist': 'lara f abian',\n",
       "  'album': \"deux ' ils ' deux ' elles '\",\n",
       "  'year': '',\n",
       "  'language': ''},\n",
       " {'TID': '334879',\n",
       "  'CID': 686120,\n",
       "  'CTID': '2',\n",
       "  'SourceID': '2',\n",
       "  'id': 334878,\n",
       "  'number': '1',\n",
       "  'title': \"lara fabian - deux ' ils ' deux ' elles '\",\n",
       "  'length': '195',\n",
       "  'artist': '',\n",
       "  'album': \"deux ' ils ' deux ' elles '\",\n",
       "  'year': '',\n",
       "  'language': 'French'}]"
      ]
     },
     "execution_count": 38,
     "metadata": {},
     "output_type": "execute_result"
    }
   ],
   "source": [
    "[row_dict[valid_id_list[neighbor]] for neighbor, distance in neighbor_distance_list[0] if distance <= distance_threshold]"
   ]
  },
  {
   "cell_type": "code",
   "execution_count": 39,
   "metadata": {},
   "outputs": [
    {
     "name": "stderr",
     "output_type": "stream",
     "text": [
      "<ipython-input-39-89dae2ab332b>:3: TqdmDeprecationWarning: This function will be removed in tqdm==5.0.0\n",
      "Please use `tqdm.notebook.tqdm` instead of `tqdm.tqdm_notebook`\n",
      "  for i, neighbor_distance in tqdm.tqdm_notebook(enumerate(neighbor_distance_list), total=len(neighbor_distance_list)):\n"
     ]
    },
    {
     "data": {
      "application/vnd.jupyter.widget-view+json": {
       "model_id": "986c8161d4ee470e8bb60730f4508af4",
       "version_major": 2,
       "version_minor": 0
      },
      "text/plain": [
       "HBox(children=(HTML(value=''), FloatProgress(value=0.0, max=1435997.0), HTML(value='')))"
      ]
     },
     "metadata": {},
     "output_type": "display_data"
    },
    {
     "name": "stdout",
     "output_type": "stream",
     "text": [
      "\n"
     ]
    },
    {
     "data": {
      "text/plain": [
       "9044656"
      ]
     },
     "execution_count": 39,
     "metadata": {},
     "output_type": "execute_result"
    }
   ],
   "source": [
    "found_pair_set = set()\n",
    "\n",
    "for i, neighbor_distance in tqdm.tqdm_notebook(enumerate(neighbor_distance_list), total=len(neighbor_distance_list)):\n",
    "    for j, distance in neighbor_distance:\n",
    "        if i != j and distance <= distance_threshold:\n",
    "            pair = tuple(sorted([valid_id_list[i], valid_id_list[j]]))\n",
    "            found_pair_set.add(pair)\n",
    "\n",
    "len(found_pair_set)"
   ]
  },
  {
   "cell_type": "code",
   "execution_count": 40,
   "metadata": {},
   "outputs": [
    {
     "data": {
      "text/plain": [
       "6.298520122256523"
      ]
     },
     "execution_count": 40,
     "metadata": {},
     "output_type": "execute_result"
    }
   ],
   "source": [
    "def pe_ratio(found_pair_set, valid_id_list):\n",
    "    return len(found_pair_set) / len(valid_id_list)\n",
    "\n",
    "pe_ratio(found_pair_set, valid_id_list)"
   ]
  },
  {
   "cell_type": "code",
   "execution_count": 41,
   "metadata": {},
   "outputs": [
    {
     "data": {
      "text/plain": [
       "(0.17331604430284578, 0.9676444444444444)"
      ]
     },
     "execution_count": 41,
     "metadata": {},
     "output_type": "execute_result"
    }
   ],
   "source": [
    "precision_and_recall(found_pair_set, valid_pair_set)"
   ]
  },
  {
   "cell_type": "code",
   "execution_count": 42,
   "metadata": {},
   "outputs": [
    {
     "data": {
      "text/plain": [
       "7477072"
      ]
     },
     "execution_count": 42,
     "metadata": {},
     "output_type": "execute_result"
    }
   ],
   "source": [
    "false_positives = list(found_pair_set - valid_pair_set)\n",
    "len(false_positives)"
   ]
  },
  {
   "cell_type": "code",
   "execution_count": 43,
   "metadata": {},
   "outputs": [
    {
     "data": {
      "text/plain": [
       "52416"
      ]
     },
     "execution_count": 43,
     "metadata": {},
     "output_type": "execute_result"
    }
   ],
   "source": [
    "false_negatives = list(valid_pair_set - found_pair_set)\n",
    "len(false_negatives)"
   ]
  },
  {
   "cell_type": "code",
   "execution_count": 44,
   "metadata": {},
   "outputs": [],
   "source": [
    "cos_similarity = lambda a, b: np.dot(a, b)"
   ]
  },
  {
   "cell_type": "code",
   "execution_count": 45,
   "metadata": {},
   "outputs": [
    {
     "data": {
      "text/plain": [
       "(-0.13808128,\n",
       " {'TID': '24',\n",
       "  'CID': 12,\n",
       "  'CTID': '1',\n",
       "  'SourceID': '4',\n",
       "  'id': 23,\n",
       "  'number': '1',\n",
       "  'title': '001 -',\n",
       "  'length': '3m 52sec',\n",
       "  'artist': '',\n",
       "  'album': '( 2010 )',\n",
       "  'year': 'null',\n",
       "  'language': 'Jap.'},\n",
       " {'TID': '1065861',\n",
       "  'CID': 12,\n",
       "  'CTID': '2',\n",
       "  'SourceID': '5',\n",
       "  'id': 1065860,\n",
       "  'number': '1',\n",
       "  'title': 'lian hua da luan',\n",
       "  'length': '232000',\n",
       "  'artist': 'ao jing ya mei',\n",
       "  'album': 'lian hua da luan',\n",
       "  'year': '2010',\n",
       "  'language': 'Japanese'})"
      ]
     },
     "metadata": {},
     "output_type": "display_data"
    },
    {
     "data": {
      "text/plain": [
       "(-0.13808128,\n",
       " {'TID': '24',\n",
       "  'CID': 12,\n",
       "  'CTID': '1',\n",
       "  'SourceID': '4',\n",
       "  'id': 23,\n",
       "  'number': '1',\n",
       "  'title': '001 -',\n",
       "  'length': '3m 52sec',\n",
       "  'artist': '',\n",
       "  'album': '( 2010 )',\n",
       "  'year': 'null',\n",
       "  'language': 'Jap.'},\n",
       " {'TID': '1325147',\n",
       "  'CID': 12,\n",
       "  'CTID': '3',\n",
       "  'SourceID': '1',\n",
       "  'id': 1325146,\n",
       "  'number': '001',\n",
       "  'title': 'lian hua da luan',\n",
       "  'length': '03:52',\n",
       "  'artist': 'ao jing ya mei',\n",
       "  'album': 'lian hua da luan',\n",
       "  'year': '2010',\n",
       "  'language': ''})"
      ]
     },
     "metadata": {},
     "output_type": "display_data"
    },
    {
     "data": {
      "text/plain": [
       "(0.8296295,\n",
       " {'TID': '118',\n",
       "  'CID': 60,\n",
       "  'CTID': '1',\n",
       "  'SourceID': '2',\n",
       "  'id': 117,\n",
       "  'number': '53',\n",
       "  'title': 'maria starring tian zhong li hui - ci ai noyan xie ji / ri chang hui hua pian',\n",
       "  'length': '6',\n",
       "  'artist': '',\n",
       "  'album': '[ hayatenogotoku !] kiyarakutacd 2',\n",
       "  'year': '07',\n",
       "  'language': 'Japanese'},\n",
       " {'TID': '873110',\n",
       "  'CID': 60,\n",
       "  'CTID': '2',\n",
       "  'SourceID': '3',\n",
       "  'id': 873109,\n",
       "  'number': '53',\n",
       "  'title': 'ci ai noyan xie ji / ri chang hui hua pian - [ hayatenogotoku !] kiyarakutacd 2',\n",
       "  'length': '0.104',\n",
       "  'artist': 'maria starring tian zhong li hui',\n",
       "  'album': '',\n",
       "  'year': \"'07\",\n",
       "  'language': 'Japanese'})"
      ]
     },
     "metadata": {},
     "output_type": "display_data"
    },
    {
     "data": {
      "text/plain": [
       "(0.43151316,\n",
       " {'TID': '120',\n",
       "  'CID': 62,\n",
       "  'CTID': '1',\n",
       "  'SourceID': '3',\n",
       "  'id': 119,\n",
       "  'number': '4',\n",
       "  'title': 'homuwaku ( orizinarukaraoke ) - anniversary ~ wu xian nicalling you',\n",
       "  'length': '',\n",
       "  'artist': 'song ren gu you shi',\n",
       "  'album': '',\n",
       "  'year': \"'89\",\n",
       "  'language': 'Japanese'},\n",
       " {'TID': '917678',\n",
       "  'CID': 62,\n",
       "  'CTID': '2',\n",
       "  'SourceID': '4',\n",
       "  'id': 917677,\n",
       "  'number': '4',\n",
       "  'title': '',\n",
       "  'length': 'unknown',\n",
       "  'artist': '',\n",
       "  'album': 'anniversarycalling you ( 1989 )',\n",
       "  'year': 'null',\n",
       "  'language': 'Jap.'})"
      ]
     },
     "metadata": {},
     "output_type": "display_data"
    },
    {
     "data": {
      "text/plain": [
       "(0.32669473,\n",
       " {'TID': '238',\n",
       "  'CID': 118,\n",
       "  'CTID': '1',\n",
       "  'SourceID': '4',\n",
       "  'id': 237,\n",
       "  'number': '31',\n",
       "  'title': '031 -',\n",
       "  'length': '1m 31sec',\n",
       "  'artist': '',\n",
       "  'album': '( 2009 )',\n",
       "  'year': 'null',\n",
       "  'language': 'Jap.'},\n",
       " {'TID': '298889',\n",
       "  'CID': 118,\n",
       "  'CTID': '2',\n",
       "  'SourceID': '5',\n",
       "  'id': 298888,\n",
       "  'number': '31',\n",
       "  'title': 'ashitaqing retara',\n",
       "  'length': '91480',\n",
       "  'artist': 'gasuto',\n",
       "  'album': 'rinanoatorie ~ shiyutorarunolian jin shu shi ~ orizinarusaundotoratsuku',\n",
       "  'year': '2009',\n",
       "  'language': 'Japanese'})"
      ]
     },
     "metadata": {},
     "output_type": "display_data"
    },
    {
     "data": {
      "text/plain": [
       "(-0.009961842,\n",
       " {'TID': '529',\n",
       "  'CID': 266,\n",
       "  'CTID': '1',\n",
       "  'SourceID': '3',\n",
       "  'id': 528,\n",
       "  'number': '5',\n",
       "  'title': 'onriman - sakurada zhan di ju ge yao quan ji',\n",
       "  'length': '5.715',\n",
       "  'artist': 'tachibanamaria',\n",
       "  'album': '',\n",
       "  'year': '',\n",
       "  'language': 'Japanese'},\n",
       " {'TID': '693741',\n",
       "  'CID': 266,\n",
       "  'CTID': '2',\n",
       "  'SourceID': '4',\n",
       "  'id': 693740,\n",
       "  'number': '5',\n",
       "  'title': '005 -',\n",
       "  'length': '5m 42sec',\n",
       "  'artist': '',\n",
       "  'album': '( unknown )',\n",
       "  'year': 'null',\n",
       "  'language': 'Jap.'})"
      ]
     },
     "metadata": {},
     "output_type": "display_data"
    },
    {
     "data": {
      "text/plain": [
       "(0.38111877,\n",
       " {'TID': '555',\n",
       "  'CID': 278,\n",
       "  'CTID': '1',\n",
       "  'SourceID': '3',\n",
       "  'id': 554,\n",
       "  'number': '22',\n",
       "  'title': 'memoirs shopping - tatakiuri',\n",
       "  'length': '0.95',\n",
       "  'artist': 'jon rose & otomo yoshihide',\n",
       "  'album': '',\n",
       "  'year': \"'95\",\n",
       "  'language': 'English'},\n",
       " {'TID': '1050240',\n",
       "  'CID': 278,\n",
       "  'CTID': '2',\n",
       "  'SourceID': '4',\n",
       "  'id': 1050239,\n",
       "  'number': '22',\n",
       "  'title': '022 - memoirs shopping',\n",
       "  'length': '0m 57sec',\n",
       "  'artist': 'n . a .',\n",
       "  'album': 'tnatakiuri ( 1995 )',\n",
       "  'year': 'null',\n",
       "  'language': 'Eng.'})"
      ]
     },
     "metadata": {},
     "output_type": "display_data"
    },
    {
     "data": {
      "text/plain": [
       "(0.39144593,\n",
       " {'TID': '1050240',\n",
       "  'CID': 278,\n",
       "  'CTID': '2',\n",
       "  'SourceID': '4',\n",
       "  'id': 1050239,\n",
       "  'number': '22',\n",
       "  'title': '022 - memoirs shopping',\n",
       "  'length': '0m 57sec',\n",
       "  'artist': 'n . a .',\n",
       "  'album': 'tnatakiuri ( 1995 )',\n",
       "  'year': 'null',\n",
       "  'language': 'Eng.'},\n",
       " {'TID': '1663895',\n",
       "  'CID': 278,\n",
       "  'CTID': '3',\n",
       "  'SourceID': '5',\n",
       "  'id': 1663894,\n",
       "  'number': '22',\n",
       "  'title': 'shopping',\n",
       "  'length': '57000',\n",
       "  'artist': 'jon rose & otomo yoshihide',\n",
       "  'album': 'tatakiuri',\n",
       "  'year': '1995',\n",
       "  'language': 'English'})"
      ]
     },
     "metadata": {},
     "output_type": "display_data"
    },
    {
     "data": {
      "text/plain": [
       "(0.8240696,\n",
       " {'TID': '1154324',\n",
       "  'CID': 495,\n",
       "  'CTID': '4',\n",
       "  'SourceID': '2',\n",
       "  'id': 1154323,\n",
       "  'number': '6',\n",
       "  'title': 'j . k . rowling - chapter 10 - 8 : das haus der gaunts',\n",
       "  'length': '301',\n",
       "  'artist': '',\n",
       "  'album': 'harry potter und der halbblutprinz ( feat . narrator : rufus beck )',\n",
       "  'year': '06',\n",
       "  'language': 'German'},\n",
       " {'TID': '1516559',\n",
       "  'CID': 495,\n",
       "  'CTID': '5',\n",
       "  'SourceID': '3',\n",
       "  'id': 1516558,\n",
       "  'number': '6',\n",
       "  'title': 'chapter 10 - 8 : das haus der gaunts - harry potter und der halbblutprinz ( feat . narrator : rufus ',\n",
       "  'length': '5.026',\n",
       "  'artist': 'j . k . rowling',\n",
       "  'album': '',\n",
       "  'year': \"'06\",\n",
       "  'language': 'German'})"
      ]
     },
     "metadata": {},
     "output_type": "display_data"
    },
    {
     "data": {
      "text/plain": [
       "(0.73762566,\n",
       " {'TID': '875246',\n",
       "  'CID': 517,\n",
       "  'CTID': '3',\n",
       "  'SourceID': '2',\n",
       "  'id': 875245,\n",
       "  'number': '10',\n",
       "  'title': 'richard strauss - salome , op . 54 : \" sie ist ein ungeheuer , deine tochter \"',\n",
       "  'length': '60',\n",
       "  'artist': '',\n",
       "  'album': 'salome ( wiener philharmoniker feat . conductor : sir georg solti , soprano : birgit nilsson )',\n",
       "  'year': '',\n",
       "  'language': 'German'},\n",
       " {'TID': '1813302',\n",
       "  'CID': 517,\n",
       "  'CTID': '4',\n",
       "  'SourceID': '3',\n",
       "  'id': 1813301,\n",
       "  'number': '10',\n",
       "  'title': 'salome , op . 54 : \" sie ist ein ungeheuer , deine tochter \" - salome ( wiener philharmoniker feat .',\n",
       "  'length': '1.0',\n",
       "  'artist': 'richard strauss',\n",
       "  'album': '',\n",
       "  'year': '',\n",
       "  'language': 'German'})"
      ]
     },
     "metadata": {},
     "output_type": "display_data"
    }
   ],
   "source": [
    "for (id_left, id_right) in false_negatives[:10]:\n",
    "    i = valid_id_to_index[id_left]\n",
    "    j = valid_id_to_index[id_right]\n",
    "    display((cos_similarity(valid_embed_matrix[i], valid_embed_matrix[j]), row_dict[id_left], row_dict[id_right]))"
   ]
  }
 ],
 "metadata": {
  "kernelspec": {
   "display_name": "Python 3",
   "language": "python",
   "name": "python3"
  },
  "language_info": {
   "codemirror_mode": {
    "name": "ipython",
    "version": 3
   },
   "file_extension": ".py",
   "mimetype": "text/x-python",
   "name": "python",
   "nbconvert_exporter": "python",
   "pygments_lexer": "ipython3",
   "version": "3.8.6"
  }
 },
 "nbformat": 4,
 "nbformat_minor": 4
}
