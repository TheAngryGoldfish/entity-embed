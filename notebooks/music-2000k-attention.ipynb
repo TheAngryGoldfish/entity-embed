{
 "cells": [
  {
   "cell_type": "markdown",
   "metadata": {},
   "source": [
    "## Load Dataset"
   ]
  },
  {
   "cell_type": "code",
   "execution_count": 1,
   "metadata": {},
   "outputs": [],
   "source": [
    "%load_ext autoreload\n",
    "%autoreload 2"
   ]
  },
  {
   "cell_type": "code",
   "execution_count": 2,
   "metadata": {},
   "outputs": [],
   "source": [
    "from importlib import reload\n",
    "import logging\n",
    "reload(logging)\n",
    "logging.basicConfig(format='%(asctime)s %(levelname)s:%(message)s', level=logging.INFO, datefmt='%H:%M:%S')"
   ]
  },
  {
   "cell_type": "code",
   "execution_count": 3,
   "metadata": {},
   "outputs": [],
   "source": [
    "# libgomp issue, must import n2 before torch\n",
    "from n2 import HnswIndex"
   ]
  },
  {
   "cell_type": "code",
   "execution_count": 4,
   "metadata": {},
   "outputs": [],
   "source": [
    "import sys\n",
    "\n",
    "sys.path.insert(0, '..')"
   ]
  },
  {
   "cell_type": "code",
   "execution_count": 5,
   "metadata": {},
   "outputs": [],
   "source": [
    "import os\n",
    "home_dir = os.getenv('HOME')"
   ]
  },
  {
   "cell_type": "markdown",
   "metadata": {},
   "source": [
    "https://dbs.uni-leipzig.de/research/projects/object_matching/benchmark_datasets_for_entity_resolution\n",
    "\n",
    "https://www.informatik.uni-leipzig.de/~saeedi/musicBrainz_readme.txt"
   ]
  },
  {
   "cell_type": "markdown",
   "metadata": {},
   "source": [
    "```\n",
    "5 sources\n",
    "---------- \n",
    "TID: a unique record's id (in the complete dataset).\n",
    "CID: cluster id (records having the same CID are duplicate)\n",
    "CTID: a unique id within a cluster (if two records belong to the same cluster they will have the same CID but different CTIDs). These ids (CTID) start with 1 and grow until cluster size.\n",
    "SourceID: identifies to which source a record belongs (there are five sources). The sources are deduplicated.\n",
    "Id: the original id from the source. Each source has its own Id-Format. Uniqueness is not guaranteed!! (can be ignored).\n",
    "number: track or song number in the album.\n",
    "length: the length of the track.\n",
    "artist: the interpreter (artist or band) of the track.\n",
    "year: date of publication.\n",
    "language: language of the track.\n",
    "```"
   ]
  },
  {
   "cell_type": "code",
   "execution_count": 6,
   "metadata": {},
   "outputs": [
    {
     "name": "stderr",
     "output_type": "stream",
     "text": [
      "100%|██████████| 1937500/1937500 [00:08<00:00, 229301.06it/s]\n"
     ]
    }
   ],
   "source": [
    "import glob\n",
    "import csv\n",
    "import tqdm\n",
    "\n",
    "current_row_id = 0\n",
    "row_dict = {}\n",
    "rows_total = 1937500\n",
    "cluster_attr = 'CID'\n",
    "\n",
    "with tqdm.tqdm(total=rows_total) as pbar:\n",
    "    for filename in glob.glob(f'{home_dir}/Downloads/musicbrainz-2000-A01.csv.dapo'):\n",
    "        with open(filename) as f:\n",
    "            for row in csv.DictReader(f):\n",
    "                row['id'] = current_row_id\n",
    "                row[cluster_attr] = int(row[cluster_attr])  # convert cluster_attr to int\n",
    "                row_dict[current_row_id] = row\n",
    "                current_row_id += 1\n",
    "                pbar.update(1)"
   ]
  },
  {
   "cell_type": "code",
   "execution_count": 7,
   "metadata": {},
   "outputs": [
    {
     "data": {
      "text/plain": [
       "{'TID': '2',\n",
       " 'CID': 2,\n",
       " 'CTID': '1',\n",
       " 'SourceID': '5',\n",
       " 'id': 1,\n",
       " 'number': '17',\n",
       " 'title': 'Mustard Gas',\n",
       " 'length': '129000',\n",
       " 'artist': 'Action Painting!',\n",
       " 'album': 'There and Back Again Lane',\n",
       " 'year': '1995',\n",
       " 'language': 'English'}"
      ]
     },
     "execution_count": 7,
     "metadata": {},
     "output_type": "execute_result"
    }
   ],
   "source": [
    "row_dict[1]"
   ]
  },
  {
   "cell_type": "markdown",
   "metadata": {},
   "source": [
    "## Preprocess"
   ]
  },
  {
   "cell_type": "code",
   "execution_count": 8,
   "metadata": {},
   "outputs": [],
   "source": [
    "attr_list = ['title', 'artist', 'album']"
   ]
  },
  {
   "cell_type": "code",
   "execution_count": 9,
   "metadata": {},
   "outputs": [],
   "source": [
    "import unidecode\n",
    "from entity_embed.data_utils.one_hot_encoders import default_tokenizer\n",
    "\n",
    "def clean_str(s):\n",
    "    s = unidecode.unidecode(s).lower().strip()\n",
    "    return ' '.join(s_part[:30] for s_part in default_tokenizer(s))[:100]\n",
    "\n",
    "for row in row_dict.values():\n",
    "    for attr in attr_list:\n",
    "        row[attr] = clean_str(row[attr])"
   ]
  },
  {
   "cell_type": "markdown",
   "metadata": {},
   "source": [
    "## Get Pairs"
   ]
  },
  {
   "cell_type": "code",
   "execution_count": 10,
   "metadata": {},
   "outputs": [],
   "source": [
    "import torch\n",
    "import numpy as np\n",
    "\n",
    "random_seed = 42\n",
    "torch.manual_seed(random_seed)\n",
    "np.random.seed(random_seed)"
   ]
  },
  {
   "cell_type": "code",
   "execution_count": 11,
   "metadata": {
    "scrolled": true
   },
   "outputs": [
    {
     "data": {
      "text/plain": [
       "1000000"
      ]
     },
     "execution_count": 11,
     "metadata": {},
     "output_type": "execute_result"
    }
   ],
   "source": [
    "from entity_embed.data_utils.utils import row_dict_to_cluster_dict\n",
    "\n",
    "cluster_dict = row_dict_to_cluster_dict(row_dict, cluster_attr)\n",
    "len(cluster_dict)"
   ]
  },
  {
   "cell_type": "code",
   "execution_count": 12,
   "metadata": {},
   "outputs": [
    {
     "data": {
      "text/plain": [
       "2000"
      ]
     },
     "metadata": {},
     "output_type": "display_data"
    },
    {
     "data": {
      "text/plain": [
       "5000"
      ]
     },
     "metadata": {},
     "output_type": "display_data"
    },
    {
     "data": {
      "text/plain": [
       "993000"
      ]
     },
     "metadata": {},
     "output_type": "display_data"
    }
   ],
   "source": [
    "from entity_embed.data_utils.utils import split_clusters\n",
    "\n",
    "train_len = 2_000\n",
    "valid_len = 5_000\n",
    "train_cluster_dict, valid_cluster_dict, test_cluster_dict = split_clusters(\n",
    "    cluster_dict, train_len=train_len, valid_len=valid_len, random_seed=random_seed)\n",
    "display(len(train_cluster_dict), len(valid_cluster_dict), len(test_cluster_dict))"
   ]
  },
  {
   "cell_type": "code",
   "execution_count": 13,
   "metadata": {},
   "outputs": [
    {
     "data": {
      "text/plain": [
       "2000"
      ]
     },
     "metadata": {},
     "output_type": "display_data"
    },
    {
     "data": {
      "text/plain": [
       "5000"
      ]
     },
     "metadata": {},
     "output_type": "display_data"
    },
    {
     "data": {
      "text/plain": [
       "493000"
      ]
     },
     "metadata": {},
     "output_type": "display_data"
    }
   ],
   "source": [
    "for d in [train_cluster_dict, valid_cluster_dict, test_cluster_dict]:\n",
    "    display(sum(1 for cluster_id_list in d.values() if len(cluster_id_list) > 1))"
   ]
  },
  {
   "cell_type": "code",
   "execution_count": 14,
   "metadata": {},
   "outputs": [
    {
     "data": {
      "text/plain": [
       "6618"
      ]
     },
     "metadata": {},
     "output_type": "display_data"
    },
    {
     "data": {
      "text/plain": [
       "15749"
      ]
     },
     "metadata": {},
     "output_type": "display_data"
    },
    {
     "data": {
      "text/plain": [
       "1602633"
      ]
     },
     "metadata": {},
     "output_type": "display_data"
    }
   ],
   "source": [
    "from entity_embed.data_utils.utils import cluster_dict_to_id_pairs\n",
    "\n",
    "train_true_pair_set = cluster_dict_to_id_pairs(train_cluster_dict)\n",
    "display(len(train_true_pair_set))\n",
    "del train_true_pair_set\n",
    "valid_true_pair_set = cluster_dict_to_id_pairs(valid_cluster_dict)\n",
    "display(len(valid_true_pair_set))\n",
    "del valid_true_pair_set\n",
    "test_true_pair_set = cluster_dict_to_id_pairs(test_cluster_dict)\n",
    "display(len(test_true_pair_set))"
   ]
  },
  {
   "cell_type": "code",
   "execution_count": 15,
   "metadata": {},
   "outputs": [
    {
     "data": {
      "text/plain": [
       "5798"
      ]
     },
     "execution_count": 15,
     "metadata": {},
     "output_type": "execute_result"
    }
   ],
   "source": [
    "train_row_dict = {id_: row_dict[id_] for cluster_id_list in train_cluster_dict.values() for id_ in cluster_id_list}\n",
    "len(train_row_dict)"
   ]
  },
  {
   "cell_type": "code",
   "execution_count": 16,
   "metadata": {},
   "outputs": [
    {
     "data": {
      "text/plain": [
       "14203"
      ]
     },
     "execution_count": 16,
     "metadata": {},
     "output_type": "execute_result"
    }
   ],
   "source": [
    "valid_row_dict = {id_: row_dict[id_] for cluster_id_list in valid_cluster_dict.values() for id_ in cluster_id_list}\n",
    "len(valid_row_dict)"
   ]
  },
  {
   "cell_type": "code",
   "execution_count": 17,
   "metadata": {},
   "outputs": [
    {
     "data": {
      "text/plain": [
       "1917499"
      ]
     },
     "execution_count": 17,
     "metadata": {},
     "output_type": "execute_result"
    }
   ],
   "source": [
    "test_row_dict = {id_: row_dict[id_] for cluster_id_list in test_cluster_dict.values() for id_ in cluster_id_list}\n",
    "len(test_row_dict)"
   ]
  },
  {
   "cell_type": "markdown",
   "metadata": {},
   "source": [
    "## Training"
   ]
  },
  {
   "cell_type": "code",
   "execution_count": 18,
   "metadata": {},
   "outputs": [],
   "source": [
    "alphabet = list('0123456789abcdefghijklmnopqrstuvwxyz!\"#$%&\\'()*+,-./:;<=>?@[\\\\]^_`{|}~ ')"
   ]
  },
  {
   "cell_type": "code",
   "execution_count": 19,
   "metadata": {},
   "outputs": [],
   "source": [
    "# TODO: support multiple attrs for same source attr\n",
    "\n",
    "attr_info_dict = {\n",
    "    'title': {\n",
    "        'is_multitoken': True,\n",
    "        'tokenizer': default_tokenizer,\n",
    "        'alphabet': alphabet,\n",
    "        'max_str_len': None,  # compute\n",
    "    },\n",
    "    'artist': {\n",
    "        'is_multitoken': True,\n",
    "        'tokenizer': default_tokenizer,\n",
    "        'alphabet': alphabet,\n",
    "        'max_str_len': None,  # compute\n",
    "    },\n",
    "    'album': {\n",
    "        'is_multitoken': True,\n",
    "        'tokenizer': default_tokenizer,\n",
    "        'alphabet': alphabet,\n",
    "        'max_str_len': None,  # compute\n",
    "    }\n",
    "}"
   ]
  },
  {
   "cell_type": "code",
   "execution_count": 20,
   "metadata": {},
   "outputs": [
    {
     "name": "stderr",
     "output_type": "stream",
     "text": [
      "22:26:42 INFO:For attr='title', computing actual alphabet and max_str_len\n",
      "22:26:51 INFO:For attr='title', using actual_max_str_len=30\n",
      "22:26:51 INFO:For attr='artist', computing actual alphabet and max_str_len\n",
      "22:26:56 INFO:For attr='artist', using actual_max_str_len=30\n",
      "22:26:56 INFO:For attr='album', computing actual alphabet and max_str_len\n",
      "22:27:02 INFO:For attr='album', using actual_max_str_len=30\n"
     ]
    }
   ],
   "source": [
    "from entity_embed import EntityEmbed\n",
    "\n",
    "model = EntityEmbed(\n",
    "    attr_info_dict=attr_info_dict,\n",
    "    row_dict=row_dict\n",
    ")"
   ]
  },
  {
   "cell_type": "code",
   "execution_count": 21,
   "metadata": {},
   "outputs": [
    {
     "data": {
      "text/plain": [
       "{'title': OneHotEncodingInfo(is_multitoken=True, tokenizer=<function default_tokenizer at 0x7ff5ef338790>, alphabet=['0', '1', '2', '3', '4', '5', '6', '7', '8', '9', 'a', 'b', 'c', 'd', 'e', 'f', 'g', 'h', 'i', 'j', 'k', 'l', 'm', 'n', 'o', 'p', 'q', 'r', 's', 't', 'u', 'v', 'w', 'x', 'y', 'z', '!', '\"', '#', '$', '%', '&', \"'\", '(', ')', '*', '+', ',', '-', '.', '/', ':', ';', '<', '=', '>', '?', '@', '[', '\\\\', ']', '^', '_', '`', '{', '|', '}', '~', ' '], max_str_len=30),\n",
       " 'artist': OneHotEncodingInfo(is_multitoken=True, tokenizer=<function default_tokenizer at 0x7ff5ef338790>, alphabet=['0', '1', '2', '3', '4', '5', '6', '7', '8', '9', 'a', 'b', 'c', 'd', 'e', 'f', 'g', 'h', 'i', 'j', 'k', 'l', 'm', 'n', 'o', 'p', 'q', 'r', 's', 't', 'u', 'v', 'w', 'x', 'y', 'z', '!', '\"', '#', '$', '%', '&', \"'\", '(', ')', '*', '+', ',', '-', '.', '/', ':', ';', '<', '=', '>', '?', '@', '[', '\\\\', ']', '^', '_', '`', '{', '|', '}', '~', ' '], max_str_len=30),\n",
       " 'album': OneHotEncodingInfo(is_multitoken=True, tokenizer=<function default_tokenizer at 0x7ff5ef338790>, alphabet=['0', '1', '2', '3', '4', '5', '6', '7', '8', '9', 'a', 'b', 'c', 'd', 'e', 'f', 'g', 'h', 'i', 'j', 'k', 'l', 'm', 'n', 'o', 'p', 'q', 'r', 's', 't', 'u', 'v', 'w', 'x', 'y', 'z', '!', '\"', '#', '$', '%', '&', \"'\", '(', ')', '*', '+', ',', '-', '.', '/', ':', ';', '<', '=', '>', '?', '@', '[', '\\\\', ']', '^', '_', '`', '{', '|', '}', '~', ' '], max_str_len=30)}"
      ]
     },
     "execution_count": 21,
     "metadata": {},
     "output_type": "execute_result"
    }
   ],
   "source": [
    "model.attr_info_dict"
   ]
  },
  {
   "cell_type": "code",
   "execution_count": 22,
   "metadata": {},
   "outputs": [],
   "source": [
    "epochs = 20"
   ]
  },
  {
   "cell_type": "code",
   "execution_count": 23,
   "metadata": {
    "scrolled": true
   },
   "outputs": [
    {
     "data": {
      "application/vnd.jupyter.widget-view+json": {
       "model_id": "af240d6779a241269b571e51d70e566b",
       "version_major": 2,
       "version_minor": 0
      },
      "text/plain": [
       "HBox(children=(HTML(value='# training'), FloatProgress(value=0.0, max=2960.0), HTML(value='')))"
      ]
     },
     "metadata": {},
     "output_type": "display_data"
    },
    {
     "name": "stderr",
     "output_type": "stream",
     "text": [
      "22:27:25 INFO:[('title', tensor(0.3422, device='cuda:0')), ('artist', tensor(0.3195, device='cuda:0')), ('album', tensor(0.3383, device='cuda:0'))]\n",
      "22:27:33 INFO:# Train Epoch:   0 Time: 23.174 Loss: 0.154, Precision: 0.273 Recall: 0.973\n",
      "22:27:48 INFO:[('title', tensor(0.3468, device='cuda:0')), ('artist', tensor(0.3170, device='cuda:0')), ('album', tensor(0.3362, device='cuda:0'))]\n",
      "22:27:56 INFO:# Train Epoch:   1 Time: 23.094 Loss: 0.028, Precision: 0.383 Recall: 0.975\n",
      "22:28:12 INFO:[('title', tensor(0.3485, device='cuda:0')), ('artist', tensor(0.3144, device='cuda:0')), ('album', tensor(0.3371, device='cuda:0'))]\n",
      "22:28:20 INFO:# Train Epoch:   2 Time: 23.817 Loss: 0.016, Precision: 0.433 Recall: 0.975\n",
      "22:28:36 INFO:[('title', tensor(0.3505, device='cuda:0')), ('artist', tensor(0.3121, device='cuda:0')), ('album', tensor(0.3375, device='cuda:0'))]\n",
      "22:28:44 INFO:# Train Epoch:   3 Time: 23.949 Loss: 0.012, Precision: 0.487 Recall: 0.976\n",
      "22:29:00 INFO:[('title', tensor(0.3521, device='cuda:0')), ('artist', tensor(0.3099, device='cuda:0')), ('album', tensor(0.3380, device='cuda:0'))]\n",
      "22:29:07 INFO:# Train Epoch:   4 Time: 23.654 Loss: 0.011, Precision: 0.517 Recall: 0.977\n",
      "22:29:23 INFO:[('title', tensor(0.3524, device='cuda:0')), ('artist', tensor(0.3088, device='cuda:0')), ('album', tensor(0.3388, device='cuda:0'))]\n",
      "22:29:31 INFO:# Train Epoch:   5 Time: 23.361 Loss: 0.010, Precision: 0.542 Recall: 0.976\n",
      "22:29:46 INFO:[('title', tensor(0.3534, device='cuda:0')), ('artist', tensor(0.3081, device='cuda:0')), ('album', tensor(0.3385, device='cuda:0'))]\n",
      "22:29:54 INFO:# Train Epoch:   6 Time: 23.251 Loss: 0.008, Precision: 0.562 Recall: 0.977\n",
      "22:30:10 INFO:[('title', tensor(0.3552, device='cuda:0')), ('artist', tensor(0.3060, device='cuda:0')), ('album', tensor(0.3388, device='cuda:0'))]\n",
      "22:30:18 INFO:# Train Epoch:   7 Time: 23.900 Loss: 0.008, Precision: 0.582 Recall: 0.976\n",
      "22:30:34 INFO:[('title', tensor(0.3567, device='cuda:0')), ('artist', tensor(0.3046, device='cuda:0')), ('album', tensor(0.3387, device='cuda:0'))]\n",
      "22:30:41 INFO:# Train Epoch:   8 Time: 23.520 Loss: 0.008, Precision: 0.598 Recall: 0.977\n",
      "22:30:57 INFO:[('title', tensor(0.3572, device='cuda:0')), ('artist', tensor(0.3039, device='cuda:0')), ('album', tensor(0.3390, device='cuda:0'))]\n",
      "22:31:05 INFO:# Train Epoch:   9 Time: 23.941 Loss: 0.008, Precision: 0.610 Recall: 0.976\n",
      "22:31:21 INFO:[('title', tensor(0.3583, device='cuda:0')), ('artist', tensor(0.3021, device='cuda:0')), ('album', tensor(0.3396, device='cuda:0'))]\n",
      "22:31:29 INFO:# Train Epoch:  10 Time: 23.858 Loss: 0.007, Precision: 0.623 Recall: 0.976\n",
      "22:31:45 INFO:[('title', tensor(0.3599, device='cuda:0')), ('artist', tensor(0.3007, device='cuda:0')), ('album', tensor(0.3394, device='cuda:0'))]\n",
      "22:31:53 INFO:# Train Epoch:  11 Time: 23.748 Loss: 0.006, Precision: 0.624 Recall: 0.976\n",
      "22:32:09 INFO:[('title', tensor(0.3610, device='cuda:0')), ('artist', tensor(0.2994, device='cuda:0')), ('album', tensor(0.3395, device='cuda:0'))]\n",
      "22:32:17 INFO:# Train Epoch:  12 Time: 24.030 Loss: 0.007, Precision: 0.644 Recall: 0.976\n",
      "22:32:33 INFO:[('title', tensor(0.3629, device='cuda:0')), ('artist', tensor(0.2979, device='cuda:0')), ('album', tensor(0.3391, device='cuda:0'))]\n",
      "22:32:41 INFO:# Train Epoch:  13 Time: 23.669 Loss: 0.006, Precision: 0.650 Recall: 0.975\n",
      "22:32:57 INFO:[('title', tensor(0.3630, device='cuda:0')), ('artist', tensor(0.2965, device='cuda:0')), ('album', tensor(0.3405, device='cuda:0'))]\n",
      "22:33:05 INFO:# Train Epoch:  14 Time: 23.963 Loss: 0.006, Precision: 0.661 Recall: 0.975\n",
      "22:33:21 INFO:[('title', tensor(0.3644, device='cuda:0')), ('artist', tensor(0.2943, device='cuda:0')), ('album', tensor(0.3413, device='cuda:0'))]\n",
      "22:33:29 INFO:# Train Epoch:  15 Time: 23.986 Loss: 0.007, Precision: 0.644 Recall: 0.974\n",
      "22:33:45 INFO:[('title', tensor(0.3667, device='cuda:0')), ('artist', tensor(0.2911, device='cuda:0')), ('album', tensor(0.3422, device='cuda:0'))]\n",
      "22:33:52 INFO:# Train Epoch:  16 Time: 23.774 Loss: 0.010, Precision: 0.616 Recall: 0.969\n",
      "22:34:08 INFO:[('title', tensor(0.3712, device='cuda:0')), ('artist', tensor(0.2915, device='cuda:0')), ('album', tensor(0.3373, device='cuda:0'))]\n",
      "22:34:16 INFO:# Train Epoch:  17 Time: 24.105 Loss: 0.008, Precision: 0.660 Recall: 0.973\n",
      "22:34:32 INFO:[('title', tensor(0.3739, device='cuda:0')), ('artist', tensor(0.2888, device='cuda:0')), ('album', tensor(0.3373, device='cuda:0'))]\n",
      "22:34:40 INFO:# Train Epoch:  18 Time: 23.812 Loss: 0.006, Precision: 0.672 Recall: 0.974\n",
      "22:34:56 INFO:[('title', tensor(0.3750, device='cuda:0')), ('artist', tensor(0.2881, device='cuda:0')), ('album', tensor(0.3369, device='cuda:0'))]\n",
      "22:35:04 INFO:# Train Epoch:  19 Time: 23.585 Loss: 0.006, Precision: 0.673 Recall: 0.973\n"
     ]
    },
    {
     "name": "stdout",
     "output_type": "stream",
     "text": [
      "\n"
     ]
    }
   ],
   "source": [
    "model.train(\n",
    "    epochs=epochs,\n",
    "    train_row_dict=train_row_dict,\n",
    "    cluster_attr=cluster_attr,\n",
    "    train_pos_pair_batch_size=45,\n",
    "    train_neg_pair_batch_size=1225,\n",
    "    valid_row_dict=valid_row_dict,\n",
    "    random_seed=random_seed\n",
    ")"
   ]
  },
  {
   "cell_type": "code",
   "execution_count": 24,
   "metadata": {},
   "outputs": [],
   "source": [
    "torch.save(model, \"music_model.torch\")"
   ]
  },
  {
   "cell_type": "code",
   "execution_count": 25,
   "metadata": {},
   "outputs": [],
   "source": [
    "# model = torch.load(\"music_model.torch\")"
   ]
  },
  {
   "cell_type": "code",
   "execution_count": 26,
   "metadata": {
    "scrolled": false
   },
   "outputs": [
    {
     "data": {
      "application/vnd.jupyter.widget-view+json": {
       "model_id": "99eb452537e84195a6e20f4102387edf",
       "version_major": 2,
       "version_minor": 0
      },
      "text/plain": [
       "HBox(children=(HTML(value='# batch embedding'), FloatProgress(value=0.0, max=119844.0), HTML(value='')))"
      ]
     },
     "metadata": {},
     "output_type": "display_data"
    },
    {
     "name": "stdout",
     "output_type": "stream",
     "text": [
      "\n"
     ]
    }
   ],
   "source": [
    "test_vector_dict = model.predict(\n",
    "    row_dict=test_row_dict,\n",
    "    batch_size=16)"
   ]
  },
  {
   "cell_type": "code",
   "execution_count": 27,
   "metadata": {},
   "outputs": [],
   "source": [
    "assert len(test_vector_dict) == len(test_row_dict)"
   ]
  },
  {
   "cell_type": "code",
   "execution_count": 28,
   "metadata": {
    "scrolled": true
   },
   "outputs": [
    {
     "name": "stdout",
     "output_type": "stream",
     "text": [
      "CPU times: user 2h 21min 38s, sys: 9.38 s, total: 2h 21min 47s\n",
      "Wall time: 12min 32s\n"
     ]
    }
   ],
   "source": [
    "%%time\n",
    "\n",
    "from entity_embed.entity_embed import ANNEntityIndex\n",
    "\n",
    "ann_index = ANNEntityIndex(embedding_size=model.embedding_size)\n",
    "ann_index.insert_vector_dict(test_vector_dict)\n",
    "ann_index.build()"
   ]
  },
  {
   "cell_type": "code",
   "execution_count": 29,
   "metadata": {},
   "outputs": [
    {
     "name": "stdout",
     "output_type": "stream",
     "text": [
      "CPU times: user 5h 22min 15s, sys: 5.09 s, total: 5h 22min 20s\n",
      "Wall time: 27min 37s\n"
     ]
    }
   ],
   "source": [
    "%%time\n",
    "\n",
    "ntop = 10\n",
    "sim_threshold = 0.5\n",
    "\n",
    "found_pair_set = ann_index.search_pairs(\n",
    "    k=ntop,\n",
    "    sim_threshold=sim_threshold\n",
    ")"
   ]
  },
  {
   "cell_type": "code",
   "execution_count": 30,
   "metadata": {},
   "outputs": [
    {
     "data": {
      "text/plain": [
       "6.472547312932106"
      ]
     },
     "execution_count": 30,
     "metadata": {},
     "output_type": "execute_result"
    }
   ],
   "source": [
    "from entity_embed.evaluation import pair_entity_ratio\n",
    "\n",
    "pair_entity_ratio(found_pair_set, test_row_dict)"
   ]
  },
  {
   "cell_type": "code",
   "execution_count": 31,
   "metadata": {},
   "outputs": [
    {
     "data": {
      "text/plain": [
       "(0.12382952586889336, 0.9589600363901155)"
      ]
     },
     "execution_count": 31,
     "metadata": {},
     "output_type": "execute_result"
    }
   ],
   "source": [
    "from entity_embed.evaluation import precision_and_recall\n",
    "\n",
    "precision_and_recall(found_pair_set, test_true_pair_set)"
   ]
  },
  {
   "cell_type": "code",
   "execution_count": 32,
   "metadata": {},
   "outputs": [
    {
     "data": {
      "text/plain": [
       "10874242"
      ]
     },
     "execution_count": 32,
     "metadata": {},
     "output_type": "execute_result"
    }
   ],
   "source": [
    "false_positives = list(found_pair_set - test_true_pair_set)\n",
    "len(false_positives)"
   ]
  },
  {
   "cell_type": "code",
   "execution_count": 33,
   "metadata": {},
   "outputs": [
    {
     "data": {
      "text/plain": [
       "65772"
      ]
     },
     "execution_count": 33,
     "metadata": {},
     "output_type": "execute_result"
    }
   ],
   "source": [
    "false_negatives = list(test_true_pair_set - found_pair_set)\n",
    "len(false_negatives)"
   ]
  },
  {
   "cell_type": "code",
   "execution_count": 34,
   "metadata": {},
   "outputs": [],
   "source": [
    "cos_similarity = lambda a, b: np.dot(a, b)"
   ]
  },
  {
   "cell_type": "code",
   "execution_count": 35,
   "metadata": {},
   "outputs": [
    {
     "data": {
      "text/plain": [
       "(0.47730002,\n",
       " {'TID': '1254312',\n",
       "  'CID': 443895,\n",
       "  'CTID': '5',\n",
       "  'SourceID': '3',\n",
       "  'id': 1254311,\n",
       "  'number': '17',\n",
       "  'title': \"saythatyou ' reherebildhits2002 : dieerste\",\n",
       "  'length': '3.462',\n",
       "  'artist': 'fragma',\n",
       "  'album': '',\n",
       "  'year': \"'01\",\n",
       "  'language': 'English'},\n",
       " {'TID': '1479456',\n",
       "  'CID': 443895,\n",
       "  'CTID': '2',\n",
       "  'SourceID': '5',\n",
       "  'id': 1479455,\n",
       "  'number': '17',\n",
       "  'title': \"say that you ' re heer\",\n",
       "  'length': '207720',\n",
       "  'artist': 'fragma',\n",
       "  'album': 'bildhits 2002 : die erste',\n",
       "  'year': '2001',\n",
       "  'language': 'English'})"
      ]
     },
     "metadata": {},
     "output_type": "display_data"
    },
    {
     "data": {
      "text/plain": [
       "(0.13932073,\n",
       " {'TID': '865485',\n",
       "  'CID': 839820,\n",
       "  'CTID': '2',\n",
       "  'SourceID': '4',\n",
       "  'id': 865484,\n",
       "  'number': '5',\n",
       "  'title': '005 ---',\n",
       "  'length': '3m 13sec',\n",
       "  'artist': '',\n",
       "  'album': '( 2002 )',\n",
       "  'year': 'null',\n",
       "  'language': 'Jap.'},\n",
       " {'TID': '1626816',\n",
       "  'CID': 839820,\n",
       "  'CTID': '1',\n",
       "  'SourceID': '3',\n",
       "  'id': 1626815,\n",
       "  'number': '5',\n",
       "  'title': 'hurusato - nan bu sheng gang - - ren sheng yi shi chuan',\n",
       "  'length': '3.217',\n",
       "  'artist': 'jiu shi rang',\n",
       "  'album': '',\n",
       "  'year': \"'02\",\n",
       "  'language': 'Japanese'})"
      ]
     },
     "metadata": {},
     "output_type": "display_data"
    },
    {
     "data": {
      "text/plain": [
       "(0.44234428,\n",
       " {'TID': '948128',\n",
       "  'CID': 815016,\n",
       "  'CTID': '3',\n",
       "  'SourceID': '4',\n",
       "  'id': 948127,\n",
       "  'number': '9',\n",
       "  'title': '009 - lean on me',\n",
       "  'length': '4m 18sec',\n",
       "  'artist': 'bill withers',\n",
       "  'album': 'singersandsongwriterscollectio ( unknown )',\n",
       "  'year': 'null',\n",
       "  'language': 'Eng.'},\n",
       " {'TID': '1578856',\n",
       "  'CID': 815016,\n",
       "  'CTID': '1',\n",
       "  'SourceID': '2',\n",
       "  'id': 1578855,\n",
       "  'number': '9',\n",
       "  'title': 'bill ithers - lean on me',\n",
       "  'length': '258',\n",
       "  'artist': '',\n",
       "  'album': 'singers and songwriters collection',\n",
       "  'year': '',\n",
       "  'language': 'English'})"
      ]
     },
     "metadata": {},
     "output_type": "display_data"
    },
    {
     "data": {
      "text/plain": [
       "(0.680475,\n",
       " {'TID': '676589',\n",
       "  'CID': 376179,\n",
       "  'CTID': '3',\n",
       "  'SourceID': '3',\n",
       "  'id': 676588,\n",
       "  'number': '1',\n",
       "  'title': 'symphony no . 9 in e minor \" from the new world \", op . 95 : i . adagio -- allegro molto - symphony ',\n",
       "  'length': '8.883',\n",
       "  'artist': 'antonin',\n",
       "  'album': '',\n",
       "  'year': '',\n",
       "  'language': 'English'},\n",
       " {'TID': '1291343',\n",
       "  'CID': 376179,\n",
       "  'CTID': '2',\n",
       "  'SourceID': '2',\n",
       "  'id': 1291342,\n",
       "  'number': '1',\n",
       "  'title': 'antonin dvorak - symphony no . 9 in e minor \" from the new world \", op . 95 : i . adagio -- allegro ',\n",
       "  'length': '533',\n",
       "  'artist': '',\n",
       "  'album': 'symphony no . 9 \" from the new world \" / slavonic dances',\n",
       "  'year': '',\n",
       "  'language': 'English'})"
      ]
     },
     "metadata": {},
     "output_type": "display_data"
    },
    {
     "data": {
      "text/plain": [
       "(0.36638412,\n",
       " {'TID': '420117',\n",
       "  'CID': 216997,\n",
       "  'CTID': '1',\n",
       "  'SourceID': '4',\n",
       "  'id': 420116,\n",
       "  'number': '13',\n",
       "  'title': '013 - dea thwish ( live )',\n",
       "  'length': 'unknown',\n",
       "  'artist': \"einstein ' s sister\",\n",
       "  'album': 'intertwined : i hope this helps in some way ( unknown )',\n",
       "  'year': 'null',\n",
       "  'language': 'Eng.'},\n",
       " {'TID': '729647',\n",
       "  'CID': 216997,\n",
       "  'CTID': '2',\n",
       "  'SourceID': '5',\n",
       "  'id': 729646,\n",
       "  'number': '13',\n",
       "  'title': 'deathwish ( live )',\n",
       "  'length': '',\n",
       "  'artist': \"einstein ' s sister\",\n",
       "  'album': 'english',\n",
       "  'year': '',\n",
       "  'language': 'English'})"
      ]
     },
     "metadata": {},
     "output_type": "display_data"
    },
    {
     "data": {
      "text/plain": [
       "(0.5775426,\n",
       " {'TID': '1533165',\n",
       "  'CID': 941684,\n",
       "  'CTID': '2',\n",
       "  'SourceID': '3',\n",
       "  'id': 1533164,\n",
       "  'number': '5',\n",
       "  'title': 'angels we have heard on high - christmas carols',\n",
       "  'length': '1.514',\n",
       "  'artist': '[ christmas music ]',\n",
       "  'album': '',\n",
       "  'year': \"'95\",\n",
       "  'language': 'English'},\n",
       " {'TID': '1824672',\n",
       "  'CID': 941684,\n",
       "  'CTID': '1',\n",
       "  'SourceID': '2',\n",
       "  'id': 1824671,\n",
       "  'number': '5',\n",
       "  'title': '[ christmasmusic ] angelswehaveheardonhigh',\n",
       "  'length': '90',\n",
       "  'artist': '',\n",
       "  'album': 'christmas carols',\n",
       "  'year': '95',\n",
       "  'language': 'English'})"
      ]
     },
     "metadata": {},
     "output_type": "display_data"
    },
    {
     "data": {
      "text/plain": [
       "(0.3763197,\n",
       " {'TID': '924644',\n",
       "  'CID': 864128,\n",
       "  'CTID': '3',\n",
       "  'SourceID': '1',\n",
       "  'id': 924643,\n",
       "  'number': '006',\n",
       "  'title': 'got to rock on ( audio - visions )',\n",
       "  'length': '03:21',\n",
       "  'artist': '',\n",
       "  'album': 'audio - visions',\n",
       "  'year': '1996',\n",
       "  'language': ''},\n",
       " {'TID': '1001741',\n",
       "  'CID': 864128,\n",
       "  'CTID': '2',\n",
       "  'SourceID': '5',\n",
       "  'id': 1001740,\n",
       "  'number': '6',\n",
       "  'title': 'got to rock on',\n",
       "  'length': '2 01866',\n",
       "  'artist': 'kansas',\n",
       "  'album': '',\n",
       "  'year': '1996',\n",
       "  'language': 'English'})"
      ]
     },
     "metadata": {},
     "output_type": "display_data"
    },
    {
     "data": {
      "text/plain": [
       "(0.27092427,\n",
       " {'TID': '300168',\n",
       "  'CID': 611569,\n",
       "  'CTID': '3',\n",
       "  'SourceID': '4',\n",
       "  'id': 300167,\n",
       "  'number': '7',\n",
       "  'title': \"007idon ' ttrustmenwithearringsintheirea\",\n",
       "  'length': '3m 59sec',\n",
       "  'artist': 'gilbert osullivan',\n",
       "  'album': 'in the key of g . ( 1989 )',\n",
       "  'year': 'null',\n",
       "  'language': 'ng.'},\n",
       " {'TID': '1184403',\n",
       "  'CID': 611569,\n",
       "  'CTID': '1',\n",
       "  'SourceID': '2',\n",
       "  'id': 1184402,\n",
       "  'number': '7',\n",
       "  'title': \"gilbert o ' sullivan - i don ' t trust men with earrings in their ears\",\n",
       "  'length': '239',\n",
       "  'artist': '',\n",
       "  'album': 'in the ekey of g ..',\n",
       "  'year': '89',\n",
       "  'language': 'English'})"
      ]
     },
     "metadata": {},
     "output_type": "display_data"
    },
    {
     "data": {
      "text/plain": [
       "(0.8126404,\n",
       " {'TID': '32432',\n",
       "  'CID': 943304,\n",
       "  'CTID': '2',\n",
       "  'SourceID': '1',\n",
       "  'id': 32431,\n",
       "  'number': '014',\n",
       "  'title': \"keeps gettin ' better ( nrj 200 % hits )\",\n",
       "  'length': '03:01',\n",
       "  'artist': 'christina aguilera',\n",
       "  'album': 'nrj 200 % hits',\n",
       "  'year': '2009',\n",
       "  'language': ''},\n",
       " {'TID': '753442',\n",
       "  'CID': 943304,\n",
       "  'CTID': '3',\n",
       "  'SourceID': '2',\n",
       "  'id': 753441,\n",
       "  'number': '14',\n",
       "  'title': \"christina aguilera - keeps gettin ' better\",\n",
       "  'length': '181',\n",
       "  'artist': '',\n",
       "  'album': 'nrj 200 hits',\n",
       "  'year': '09',\n",
       "  'language': '[Multiple languages]'})"
      ]
     },
     "metadata": {},
     "output_type": "display_data"
    },
    {
     "data": {
      "text/plain": [
       "(0.3331428,\n",
       " {'TID': '1203564',\n",
       "  'CID': 723671,\n",
       "  'CTID': '2',\n",
       "  'SourceID': '5',\n",
       "  'id': 1203563,\n",
       "  'number': '9',\n",
       "  'title': 'zen yao hui zhe yang',\n",
       "  'length': '233866',\n",
       "  'artist': 'li zhen xian',\n",
       "  'album': 'qian mian nu hai love me',\n",
       "  'year': '2008',\n",
       "  'language': 'Chinese'},\n",
       " {'TID': '1401392',\n",
       "  'CID': 723671,\n",
       "  'CTID': '1',\n",
       "  'SourceID': '4',\n",
       "  'id': 1401391,\n",
       "  'number': '9',\n",
       "  'title': '009 -',\n",
       "  'length': '3m 53sec',\n",
       "  'artist': '',\n",
       "  'album': 'love me ( 2008 )',\n",
       "  'year': 'null',\n",
       "  'language': 'Chi.'})"
      ]
     },
     "metadata": {},
     "output_type": "display_data"
    }
   ],
   "source": [
    "for (id_left, id_right) in false_negatives[:10]:\n",
    "    display(\n",
    "        (\n",
    "            cos_similarity(test_vector_dict[id_left], test_vector_dict[id_right]),\n",
    "            row_dict[id_left], row_dict[id_right]\n",
    "        )\n",
    "    )"
   ]
  }
 ],
 "metadata": {
  "kernelspec": {
   "display_name": "Python 3",
   "language": "python",
   "name": "python3"
  },
  "language_info": {
   "codemirror_mode": {
    "name": "ipython",
    "version": 3
   },
   "file_extension": ".py",
   "mimetype": "text/x-python",
   "name": "python",
   "nbconvert_exporter": "python",
   "pygments_lexer": "ipython3",
   "version": "3.8.6"
  }
 },
 "nbformat": 4,
 "nbformat_minor": 4
}
