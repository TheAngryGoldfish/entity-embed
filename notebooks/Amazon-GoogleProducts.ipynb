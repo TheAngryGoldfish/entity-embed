{
 "cells": [
  {
   "cell_type": "markdown",
   "metadata": {},
   "source": [
    "## Load Dataset"
   ]
  },
  {
   "cell_type": "code",
   "execution_count": 1,
   "metadata": {},
   "outputs": [],
   "source": [
    "%load_ext autoreload\n",
    "%autoreload 2"
   ]
  },
  {
   "cell_type": "code",
   "execution_count": 2,
   "metadata": {},
   "outputs": [],
   "source": [
    "from importlib import reload\n",
    "import logging\n",
    "reload(logging)\n",
    "logging.basicConfig(format='%(asctime)s %(levelname)s:%(message)s', level=logging.INFO, datefmt='%H:%M:%S')"
   ]
  },
  {
   "cell_type": "code",
   "execution_count": 3,
   "metadata": {},
   "outputs": [],
   "source": [
    "# libgomp issue, must import n2 before torch\n",
    "from n2 import HnswIndex"
   ]
  },
  {
   "cell_type": "code",
   "execution_count": 4,
   "metadata": {},
   "outputs": [],
   "source": [
    "import sys\n",
    "\n",
    "sys.path.insert(0, '..')"
   ]
  },
  {
   "cell_type": "code",
   "execution_count": 5,
   "metadata": {},
   "outputs": [],
   "source": [
    "import os\n",
    "home_dir = os.getenv('HOME')"
   ]
  },
  {
   "cell_type": "markdown",
   "metadata": {},
   "source": [
    "https://dbs.uni-leipzig.de/research/projects/object_matching/benchmark_datasets_for_entity_resolution"
   ]
  },
  {
   "cell_type": "code",
   "execution_count": 6,
   "metadata": {},
   "outputs": [],
   "source": [
    "from collections import defaultdict\n",
    "import itertools\n",
    "\n",
    "def Enumerator(start=0, initial=()):\n",
    "    return defaultdict(itertools.count(start).__next__, initial)"
   ]
  },
  {
   "cell_type": "code",
   "execution_count": 7,
   "metadata": {},
   "outputs": [
    {
     "data": {
      "application/vnd.jupyter.widget-view+json": {
       "model_id": "b55d75a6f0844bd19173f78dafab8ab3",
       "version_major": 2,
       "version_minor": 0
      },
      "text/plain": [
       "HBox(children=(HTML(value=''), FloatProgress(value=0.0, max=4589.0), HTML(value='')))"
      ]
     },
     "metadata": {},
     "output_type": "display_data"
    },
    {
     "name": "stdout",
     "output_type": "stream",
     "text": [
      "\n"
     ]
    }
   ],
   "source": [
    "import glob\n",
    "import csv\n",
    "from tqdm.auto import tqdm\n",
    "\n",
    "id_enumerator = Enumerator()\n",
    "row_dict = {}\n",
    "left_id_set = set()\n",
    "right_id_set = set()\n",
    "rows_total = 1363 + 3226\n",
    "clusters_total = 1300\n",
    "\n",
    "with tqdm(total=rows_total) as pbar:\n",
    "    with open(f'{home_dir}/Downloads/Amazon-GoogleProducts/Amazon.csv', encoding=\"latin1\") as f:\n",
    "        for row in csv.DictReader(f):\n",
    "            row['id'] = id_enumerator[row[\"id\"]]\n",
    "            row['name'] = row.pop('title')\n",
    "            row['source'] = 'google'\n",
    "            row_dict[row['id']] = row\n",
    "            left_id_set.add(row['id'])\n",
    "            pbar.update(1)\n",
    "    \n",
    "    with open(f'{home_dir}/Downloads/Amazon-GoogleProducts/GoogleProducts.csv', encoding=\"latin1\") as f:\n",
    "        for row in csv.DictReader(f):\n",
    "            row['id'] = id_enumerator[row[\"id\"]]\n",
    "            row['source'] = 'amazon'\n",
    "            row_dict[row['id']] = row\n",
    "            right_id_set.add(row['id'])\n",
    "            pbar.update(1)"
   ]
  },
  {
   "cell_type": "code",
   "execution_count": 8,
   "metadata": {},
   "outputs": [
    {
     "data": {
      "text/plain": [
       "1300"
      ]
     },
     "execution_count": 8,
     "metadata": {},
     "output_type": "execute_result"
    }
   ],
   "source": [
    "true_pair_set = set()\n",
    "\n",
    "with open(f'{home_dir}/Downloads/Amazon-GoogleProducts/Amzon_GoogleProducts_perfectMapping.csv') as f:\n",
    "    for row in csv.DictReader(f):\n",
    "        id_left = id_enumerator[row['idAmazon']]\n",
    "        id_right = id_enumerator[row['idGoogleBase']]\n",
    "        true_pair_set.add(tuple(sorted([id_left, id_right])))\n",
    "\n",
    "len(true_pair_set)"
   ]
  },
  {
   "cell_type": "code",
   "execution_count": 9,
   "metadata": {},
   "outputs": [
    {
     "data": {
      "text/plain": [
       "2404"
      ]
     },
     "execution_count": 9,
     "metadata": {},
     "output_type": "execute_result"
    }
   ],
   "source": [
    "from entity_embed.data_utils.utils import id_pairs_to_cluster_mapping_and_dict\n",
    "\n",
    "cluster_mapping, cluster_dict = id_pairs_to_cluster_mapping_and_dict(true_pair_set)\n",
    "len(cluster_mapping)"
   ]
  },
  {
   "cell_type": "code",
   "execution_count": 10,
   "metadata": {},
   "outputs": [
    {
     "data": {
      "text/plain": [
       "1105"
      ]
     },
     "execution_count": 10,
     "metadata": {},
     "output_type": "execute_result"
    }
   ],
   "source": [
    "len(cluster_dict)"
   ]
  },
  {
   "cell_type": "code",
   "execution_count": 11,
   "metadata": {},
   "outputs": [],
   "source": [
    "# TODO: deal with this difference\n",
    "# from entity_embed.data_utils.utils import cluster_dict_to_id_pairs\n",
    "\n",
    "# assert len(true_pair_set - cluster_dict_to_id_pairs(cluster_dict)) == 0"
   ]
  },
  {
   "cell_type": "code",
   "execution_count": 12,
   "metadata": {},
   "outputs": [
    {
     "data": {
      "application/vnd.jupyter.widget-view+json": {
       "model_id": "7a0973e7b5354e1cb5c6059a17953a57",
       "version_major": 2,
       "version_minor": 0
      },
      "text/plain": [
       "HBox(children=(HTML(value=''), FloatProgress(value=0.0, max=4589.0), HTML(value='')))"
      ]
     },
     "metadata": {},
     "output_type": "display_data"
    },
    {
     "name": "stdout",
     "output_type": "stream",
     "text": [
      "\n"
     ]
    }
   ],
   "source": [
    "cluster_attr = 'cluster_id'\n",
    "max_cluster_id = max(cluster_mapping.values())\n",
    "\n",
    "for row_id, row in tqdm(row_dict.items()):\n",
    "    try:\n",
    "        row[cluster_attr] = cluster_mapping[row_id]\n",
    "    except KeyError:\n",
    "        row[cluster_attr] = max_cluster_id\n",
    "        max_cluster_id += 1"
   ]
  },
  {
   "cell_type": "code",
   "execution_count": 13,
   "metadata": {},
   "outputs": [
    {
     "data": {
      "text/plain": [
       "[{'id': 938,\n",
       "  'description': 'improve your typing skills today! typing instructor deluxe has a progressive design that has been developed for over 19 years. typing instructor deluxe can provide the right lessons tests strengthening exercises practice material and typing games for your skill level. you can even build your own personal typing plan to focus on specific areas you would like to improve. if you think learning has to be all hard work and no fun think again! for beginning to advanced typists kids to adults typing instructor deluxe will motivate you to improve your typing speed and accuracy using a travel theme and exciting typing challenges.educates entertains and motivates: choose from many typing plans or build your ownnavigate easily and choose your typing materialnew! dynamic learning methodsave your results and reports to track progresslearn voice-touch typing (dictation)3 unique travel themescolorful photos and musicten exciting games300+ magazine articles',\n",
       "  'manufacturer': 'individual software',\n",
       "  'price': '9.99',\n",
       "  'name': 'typing instructor deluxe (jewel case)',\n",
       "  'source': 'google',\n",
       "  'cluster_id': 938},\n",
       " {'id': 2238,\n",
       "  'name': 'individual software inc typing instructor deluxe j/c',\n",
       "  'description': 'for all ages typing instructor deluxe is targeted to pc users at every level who want to learn how to touch type. incluees 3 travel themes dynamic typing tests new multi-level games and custom personalization. system requiremen',\n",
       "  'manufacturer': '',\n",
       "  'price': '6.84',\n",
       "  'source': 'amazon',\n",
       "  'cluster_id': 938}]"
      ]
     },
     "execution_count": 13,
     "metadata": {},
     "output_type": "execute_result"
    }
   ],
   "source": [
    "[row_dict[row_id] for row_id in next(iter(true_pair_set))]"
   ]
  },
  {
   "cell_type": "markdown",
   "metadata": {},
   "source": [
    "## Preprocess"
   ]
  },
  {
   "cell_type": "code",
   "execution_count": 14,
   "metadata": {},
   "outputs": [],
   "source": [
    "attr_list = ['name', 'description', 'manufacturer', 'price']"
   ]
  },
  {
   "cell_type": "code",
   "execution_count": 15,
   "metadata": {},
   "outputs": [
    {
     "data": {
      "application/vnd.jupyter.widget-view+json": {
       "model_id": "9d75bd774df443f897441dfb6ea29d1f",
       "version_major": 2,
       "version_minor": 0
      },
      "text/plain": [
       "HBox(children=(HTML(value=''), FloatProgress(value=0.0, max=4589.0), HTML(value='')))"
      ]
     },
     "metadata": {},
     "output_type": "display_data"
    },
    {
     "name": "stdout",
     "output_type": "stream",
     "text": [
      "\n"
     ]
    }
   ],
   "source": [
    "import unidecode\n",
    "from entity_embed.data_utils.one_hot_encoders import default_tokenizer\n",
    "\n",
    "def clean_str(s):\n",
    "    s = unidecode.unidecode(s).lower().strip()\n",
    "    s_tokens = itertools.islice((s_part[:30] for s_part in default_tokenizer(s)), 0, 30)\n",
    "    return ' '.join(s_tokens)[:300]\n",
    "\n",
    "for row in tqdm(row_dict.values()):\n",
    "    for attr in attr_list:\n",
    "        row[attr] = clean_str(row[attr])"
   ]
  },
  {
   "cell_type": "markdown",
   "metadata": {},
   "source": [
    "## Init Data Module"
   ]
  },
  {
   "cell_type": "code",
   "execution_count": 16,
   "metadata": {},
   "outputs": [],
   "source": [
    "import torch\n",
    "import numpy as np\n",
    "\n",
    "random_seed = 42\n",
    "torch.manual_seed(random_seed)\n",
    "np.random.seed(random_seed)"
   ]
  },
  {
   "cell_type": "code",
   "execution_count": 17,
   "metadata": {},
   "outputs": [],
   "source": [
    "alphabet = list('0123456789abcdefghijklmnopqrstuvwxyz!\"#$%&\\'()*+,-./:;<=>?@[\\\\]^_`{|}~ ')"
   ]
  },
  {
   "cell_type": "code",
   "execution_count": 18,
   "metadata": {},
   "outputs": [],
   "source": [
    "attr_info_dict = {\n",
    "    'name': {\n",
    "        'is_multitoken': True,\n",
    "        'tokenizer': default_tokenizer,\n",
    "        'alphabet': alphabet,\n",
    "        'max_str_len': None,  # compute\n",
    "    },\n",
    "    'description': {\n",
    "        'is_multitoken': True,\n",
    "        'tokenizer': default_tokenizer,\n",
    "        'alphabet': alphabet,\n",
    "        'max_str_len': None,  # compute\n",
    "    },\n",
    "    'manufacturer': {\n",
    "        'is_multitoken': True,\n",
    "        'tokenizer': default_tokenizer,\n",
    "        'alphabet': alphabet,\n",
    "        'max_str_len': None,  # compute\n",
    "    },\n",
    "    'price': {\n",
    "        'is_multitoken': False,\n",
    "        'tokenizer': None,\n",
    "        'alphabet': alphabet,  # compute\n",
    "        'max_str_len': None,  # compute\n",
    "    }\n",
    "}"
   ]
  },
  {
   "cell_type": "code",
   "execution_count": 19,
   "metadata": {},
   "outputs": [
    {
     "name": "stderr",
     "output_type": "stream",
     "text": [
      "18:43:23 INFO:For attr='name', computing actual alphabet and max_str_len\n",
      "18:43:23 INFO:For attr='name', using actual_max_str_len=26\n",
      "18:43:23 INFO:For attr='description', computing actual alphabet and max_str_len\n",
      "18:43:23 INFO:actual_max_str_len=29 must be pair to enable NN pooling. Updating to 30\n",
      "18:43:23 INFO:For attr='description', using actual_max_str_len=30\n",
      "18:43:23 INFO:For attr='manufacturer', computing actual alphabet and max_str_len\n",
      "18:43:23 INFO:actual_max_str_len=15 must be pair to enable NN pooling. Updating to 16\n",
      "18:43:23 INFO:For attr='manufacturer', using actual_max_str_len=16\n",
      "18:43:23 INFO:For attr='price', computing actual alphabet and max_str_len\n",
      "18:43:23 INFO:For attr='price', using actual_max_str_len=14\n"
     ]
    },
    {
     "data": {
      "text/plain": [
       "{'name': OneHotEncodingInfo(is_multitoken=True, tokenizer=<function default_tokenizer at 0x7f81beb790d0>, alphabet=['0', '1', '2', '3', '4', '5', '6', '7', '8', '9', 'a', 'b', 'c', 'd', 'e', 'f', 'g', 'h', 'i', 'j', 'k', 'l', 'm', 'n', 'o', 'p', 'q', 'r', 's', 't', 'u', 'v', 'w', 'x', 'y', 'z', '!', '\"', '#', '$', '%', '&', \"'\", '(', ')', '*', '+', ',', '-', '.', '/', ':', ';', '<', '=', '>', '?', '@', '[', '\\\\', ']', '^', '_', '`', '{', '|', '}', '~', ' '], max_str_len=26),\n",
       " 'description': OneHotEncodingInfo(is_multitoken=True, tokenizer=<function default_tokenizer at 0x7f81beb790d0>, alphabet=['0', '1', '2', '3', '4', '5', '6', '7', '8', '9', 'a', 'b', 'c', 'd', 'e', 'f', 'g', 'h', 'i', 'j', 'k', 'l', 'm', 'n', 'o', 'p', 'q', 'r', 's', 't', 'u', 'v', 'w', 'x', 'y', 'z', '!', '\"', '#', '$', '%', '&', \"'\", '(', ')', '*', '+', ',', '-', '.', '/', ':', ';', '<', '=', '>', '?', '@', '[', '\\\\', ']', '^', '_', '`', '{', '|', '}', '~', ' '], max_str_len=30),\n",
       " 'manufacturer': OneHotEncodingInfo(is_multitoken=True, tokenizer=<function default_tokenizer at 0x7f81beb790d0>, alphabet=['0', '1', '2', '3', '4', '5', '6', '7', '8', '9', 'a', 'b', 'c', 'd', 'e', 'f', 'g', 'h', 'i', 'j', 'k', 'l', 'm', 'n', 'o', 'p', 'q', 'r', 's', 't', 'u', 'v', 'w', 'x', 'y', 'z', '!', '\"', '#', '$', '%', '&', \"'\", '(', ')', '*', '+', ',', '-', '.', '/', ':', ';', '<', '=', '>', '?', '@', '[', '\\\\', ']', '^', '_', '`', '{', '|', '}', '~', ' '], max_str_len=16),\n",
       " 'price': OneHotEncodingInfo(is_multitoken=False, tokenizer=None, alphabet=['0', '1', '2', '3', '4', '5', '6', '7', '8', '9', 'a', 'b', 'c', 'd', 'e', 'f', 'g', 'h', 'i', 'j', 'k', 'l', 'm', 'n', 'o', 'p', 'q', 'r', 's', 't', 'u', 'v', 'w', 'x', 'y', 'z', '!', '\"', '#', '$', '%', '&', \"'\", '(', ')', '*', '+', ',', '-', '.', '/', ':', ';', '<', '=', '>', '?', '@', '[', '\\\\', ']', '^', '_', '`', '{', '|', '}', '~', ' '], max_str_len=14)}"
      ]
     },
     "execution_count": 19,
     "metadata": {},
     "output_type": "execute_result"
    }
   ],
   "source": [
    "from entity_embed import build_row_encoder\n",
    "\n",
    "row_encoder = build_row_encoder(attr_info_dict, row_dict=row_dict)\n",
    "row_encoder.attr_info_dict"
   ]
  },
  {
   "cell_type": "code",
   "execution_count": 20,
   "metadata": {},
   "outputs": [],
   "source": [
    "from entity_embed import LinkageDataModule\n",
    "\n",
    "train_cluster_len = 200\n",
    "valid_cluster_len = 200\n",
    "datamodule = LinkageDataModule(\n",
    "    row_dict=row_dict,\n",
    "    cluster_attr=cluster_attr,\n",
    "    row_encoder=row_encoder,\n",
    "    pos_pair_batch_size=45,\n",
    "    neg_pair_batch_size=1225,\n",
    "    row_batch_size=16,\n",
    "    train_cluster_len=train_cluster_len,\n",
    "    valid_cluster_len=valid_cluster_len,\n",
    "    test_cluster_len=clusters_total - valid_cluster_len - train_cluster_len,\n",
    "    only_plural_clusters=True,\n",
    "    left_id_set=left_id_set,\n",
    "    right_id_set=right_id_set,\n",
    "    log_empty_vals=False,\n",
    "    random_seed=random_seed\n",
    ")"
   ]
  },
  {
   "cell_type": "markdown",
   "metadata": {},
   "source": [
    "## Training"
   ]
  },
  {
   "cell_type": "code",
   "execution_count": 21,
   "metadata": {},
   "outputs": [],
   "source": [
    "from entity_embed import LinkageEmbed\n",
    "\n",
    "ann_k = 100\n",
    "model = LinkageEmbed(\n",
    "    datamodule,\n",
    "    ann_k=ann_k,\n",
    "    use_mask=True\n",
    ")"
   ]
  },
  {
   "cell_type": "code",
   "execution_count": 22,
   "metadata": {
    "scrolled": false
   },
   "outputs": [
    {
     "name": "stderr",
     "output_type": "stream",
     "text": [
      "18:43:23 INFO:GPU available: True, used: True\n",
      "18:43:23 INFO:TPU available: None, using: 0 TPU cores\n",
      "18:43:23 INFO:LOCAL_RANK: 0 - CUDA_VISIBLE_DEVICES: [0]\n"
     ]
    }
   ],
   "source": [
    "import pytorch_lightning as pl\n",
    "from pytorch_lightning.callbacks.early_stopping import EarlyStopping\n",
    "from pytorch_lightning.loggers import TensorBoardLogger\n",
    "\n",
    "max_epochs = 50\n",
    "early_stop_callback = EarlyStopping(\n",
    "   monitor='valid_recall_at_0.3',\n",
    "   min_delta=0.00,\n",
    "   patience=10,\n",
    "   verbose=True,\n",
    "   mode='max'\n",
    ")\n",
    "tb_log_dir = 'tb_logs'\n",
    "tb_name = 'amzn-googl'\n",
    "trainer = pl.Trainer(\n",
    "    gpus=1,\n",
    "    max_epochs=max_epochs,\n",
    "    check_val_every_n_epoch=1,\n",
    "    callbacks=[early_stop_callback],\n",
    "    logger=TensorBoardLogger(tb_log_dir, name=tb_name)\n",
    ")"
   ]
  },
  {
   "cell_type": "code",
   "execution_count": 23,
   "metadata": {},
   "outputs": [
    {
     "name": "stderr",
     "output_type": "stream",
     "text": [
      "18:43:23 INFO:Train pair count: 292\n",
      "18:43:23 INFO:Valid pair count: 265\n",
      "18:43:23 INFO:Test pair count: 998\n",
      "18:43:25 INFO:\n",
      "  | Name        | Type           | Params\n",
      "-----------------------------------------------\n",
      "0 | blocker_net | BlockerNet     | 3.3 M \n",
      "1 | losser      | NTXentLoss     | 0     \n",
      "2 | miner       | BatchHardMiner | 0     \n",
      "-----------------------------------------------\n",
      "3.3 M     Trainable params\n",
      "0         Non-trainable params\n",
      "3.3 M     Total params\n"
     ]
    },
    {
     "data": {
      "application/vnd.jupyter.widget-view+json": {
       "model_id": "",
       "version_major": 2,
       "version_minor": 0
      },
      "text/plain": [
       "HBox(children=(HTML(value='Validation sanity check'), FloatProgress(value=1.0, bar_style='info', layout=Layout…"
      ]
     },
     "metadata": {},
     "output_type": "display_data"
    },
    {
     "data": {
      "application/vnd.jupyter.widget-view+json": {
       "model_id": "1cc36bb05906401ca96be6ab670384f7",
       "version_major": 2,
       "version_minor": 0
      },
      "text/plain": [
       "HBox(children=(HTML(value='Training'), FloatProgress(value=1.0, bar_style='info', layout=Layout(flex='2'), max…"
      ]
     },
     "metadata": {},
     "output_type": "display_data"
    },
    {
     "data": {
      "application/vnd.jupyter.widget-view+json": {
       "model_id": "",
       "version_major": 2,
       "version_minor": 0
      },
      "text/plain": [
       "HBox(children=(HTML(value='Validating'), FloatProgress(value=1.0, bar_style='info', layout=Layout(flex='2'), m…"
      ]
     },
     "metadata": {},
     "output_type": "display_data"
    },
    {
     "data": {
      "application/vnd.jupyter.widget-view+json": {
       "model_id": "",
       "version_major": 2,
       "version_minor": 0
      },
      "text/plain": [
       "HBox(children=(HTML(value='Validating'), FloatProgress(value=1.0, bar_style='info', layout=Layout(flex='2'), m…"
      ]
     },
     "metadata": {},
     "output_type": "display_data"
    },
    {
     "data": {
      "application/vnd.jupyter.widget-view+json": {
       "model_id": "",
       "version_major": 2,
       "version_minor": 0
      },
      "text/plain": [
       "HBox(children=(HTML(value='Validating'), FloatProgress(value=1.0, bar_style='info', layout=Layout(flex='2'), m…"
      ]
     },
     "metadata": {},
     "output_type": "display_data"
    },
    {
     "data": {
      "application/vnd.jupyter.widget-view+json": {
       "model_id": "",
       "version_major": 2,
       "version_minor": 0
      },
      "text/plain": [
       "HBox(children=(HTML(value='Validating'), FloatProgress(value=1.0, bar_style='info', layout=Layout(flex='2'), m…"
      ]
     },
     "metadata": {},
     "output_type": "display_data"
    },
    {
     "data": {
      "application/vnd.jupyter.widget-view+json": {
       "model_id": "",
       "version_major": 2,
       "version_minor": 0
      },
      "text/plain": [
       "HBox(children=(HTML(value='Validating'), FloatProgress(value=1.0, bar_style='info', layout=Layout(flex='2'), m…"
      ]
     },
     "metadata": {},
     "output_type": "display_data"
    },
    {
     "data": {
      "application/vnd.jupyter.widget-view+json": {
       "model_id": "",
       "version_major": 2,
       "version_minor": 0
      },
      "text/plain": [
       "HBox(children=(HTML(value='Validating'), FloatProgress(value=1.0, bar_style='info', layout=Layout(flex='2'), m…"
      ]
     },
     "metadata": {},
     "output_type": "display_data"
    },
    {
     "data": {
      "application/vnd.jupyter.widget-view+json": {
       "model_id": "",
       "version_major": 2,
       "version_minor": 0
      },
      "text/plain": [
       "HBox(children=(HTML(value='Validating'), FloatProgress(value=1.0, bar_style='info', layout=Layout(flex='2'), m…"
      ]
     },
     "metadata": {},
     "output_type": "display_data"
    },
    {
     "data": {
      "application/vnd.jupyter.widget-view+json": {
       "model_id": "",
       "version_major": 2,
       "version_minor": 0
      },
      "text/plain": [
       "HBox(children=(HTML(value='Validating'), FloatProgress(value=1.0, bar_style='info', layout=Layout(flex='2'), m…"
      ]
     },
     "metadata": {},
     "output_type": "display_data"
    },
    {
     "data": {
      "application/vnd.jupyter.widget-view+json": {
       "model_id": "",
       "version_major": 2,
       "version_minor": 0
      },
      "text/plain": [
       "HBox(children=(HTML(value='Validating'), FloatProgress(value=1.0, bar_style='info', layout=Layout(flex='2'), m…"
      ]
     },
     "metadata": {},
     "output_type": "display_data"
    },
    {
     "data": {
      "application/vnd.jupyter.widget-view+json": {
       "model_id": "",
       "version_major": 2,
       "version_minor": 0
      },
      "text/plain": [
       "HBox(children=(HTML(value='Validating'), FloatProgress(value=1.0, bar_style='info', layout=Layout(flex='2'), m…"
      ]
     },
     "metadata": {},
     "output_type": "display_data"
    },
    {
     "data": {
      "application/vnd.jupyter.widget-view+json": {
       "model_id": "",
       "version_major": 2,
       "version_minor": 0
      },
      "text/plain": [
       "HBox(children=(HTML(value='Validating'), FloatProgress(value=1.0, bar_style='info', layout=Layout(flex='2'), m…"
      ]
     },
     "metadata": {},
     "output_type": "display_data"
    },
    {
     "data": {
      "application/vnd.jupyter.widget-view+json": {
       "model_id": "",
       "version_major": 2,
       "version_minor": 0
      },
      "text/plain": [
       "HBox(children=(HTML(value='Validating'), FloatProgress(value=1.0, bar_style='info', layout=Layout(flex='2'), m…"
      ]
     },
     "metadata": {},
     "output_type": "display_data"
    },
    {
     "data": {
      "application/vnd.jupyter.widget-view+json": {
       "model_id": "",
       "version_major": 2,
       "version_minor": 0
      },
      "text/plain": [
       "HBox(children=(HTML(value='Validating'), FloatProgress(value=1.0, bar_style='info', layout=Layout(flex='2'), m…"
      ]
     },
     "metadata": {},
     "output_type": "display_data"
    },
    {
     "data": {
      "application/vnd.jupyter.widget-view+json": {
       "model_id": "",
       "version_major": 2,
       "version_minor": 0
      },
      "text/plain": [
       "HBox(children=(HTML(value='Validating'), FloatProgress(value=1.0, bar_style='info', layout=Layout(flex='2'), m…"
      ]
     },
     "metadata": {},
     "output_type": "display_data"
    },
    {
     "name": "stdout",
     "output_type": "stream",
     "text": [
      "\n"
     ]
    },
    {
     "data": {
      "text/plain": [
       "1"
      ]
     },
     "execution_count": 23,
     "metadata": {},
     "output_type": "execute_result"
    }
   ],
   "source": [
    "trainer.fit(model, datamodule)"
   ]
  },
  {
   "cell_type": "code",
   "execution_count": 24,
   "metadata": {},
   "outputs": [
    {
     "data": {
      "text/plain": [
       "{'name': 0.2881646454334259,\n",
       " 'description': 0.2345341593027115,\n",
       " 'manufacturer': 0.2317761927843094,\n",
       " 'price': 0.24552501738071442}"
      ]
     },
     "execution_count": 24,
     "metadata": {},
     "output_type": "execute_result"
    }
   ],
   "source": [
    "model.blocker_net.get_signature_weights()"
   ]
  },
  {
   "cell_type": "markdown",
   "metadata": {},
   "source": [
    "## Testing"
   ]
  },
  {
   "cell_type": "code",
   "execution_count": 25,
   "metadata": {},
   "outputs": [
    {
     "name": "stderr",
     "output_type": "stream",
     "text": [
      "18:44:06 INFO:Train pair count: 292\n",
      "18:44:06 INFO:Valid pair count: 265\n",
      "18:44:06 INFO:Test pair count: 998\n"
     ]
    },
    {
     "data": {
      "application/vnd.jupyter.widget-view+json": {
       "model_id": "fd80f3c2268648369f971e3953a80b4a",
       "version_major": 2,
       "version_minor": 0
      },
      "text/plain": [
       "HBox(children=(HTML(value='Testing'), FloatProgress(value=1.0, bar_style='info', layout=Layout(flex='2'), max=…"
      ]
     },
     "metadata": {},
     "output_type": "display_data"
    },
    {
     "name": "stdout",
     "output_type": "stream",
     "text": [
      "\n",
      "--------------------------------------------------------------------------------\n",
      "DATALOADER:0 TEST RESULTS\n",
      "{'test_f1_at_0.3': 0.034907731432173364,\n",
      " 'test_f1_at_0.5': 0.24002637652489284,\n",
      " 'test_f1_at_0.7': 0.5527472527472528,\n",
      " 'test_f1_at_0.9': 0.15086206896551724,\n",
      " 'test_pair_entity_ratio_at_0.3': 29.371261378413525,\n",
      " 'test_pair_entity_ratio_at_0.5': 3.401820546163849,\n",
      " 'test_pair_entity_ratio_at_0.7': 0.6410923276983095,\n",
      " 'test_pair_entity_ratio_at_0.9': 0.0611183355006502,\n",
      " 'test_precision_at_0.3': 0.01777610519558143,\n",
      " 'test_precision_at_0.5': 0.13914373088685014,\n",
      " 'test_precision_at_0.7': 0.5101419878296146,\n",
      " 'test_precision_at_0.9': 0.7446808510638298,\n",
      " 'test_recall_at_0.3': 0.9628297362110312,\n",
      " 'test_recall_at_0.5': 0.8729016786570744,\n",
      " 'test_recall_at_0.7': 0.6031175059952039,\n",
      " 'test_recall_at_0.9': 0.08393285371702638}\n",
      "--------------------------------------------------------------------------------\n"
     ]
    },
    {
     "data": {
      "text/plain": [
       "[{'test_precision_at_0.3': 0.01777610519558143,\n",
       "  'test_recall_at_0.3': 0.9628297362110312,\n",
       "  'test_f1_at_0.3': 0.034907731432173364,\n",
       "  'test_pair_entity_ratio_at_0.3': 29.371261378413525,\n",
       "  'test_precision_at_0.5': 0.13914373088685014,\n",
       "  'test_recall_at_0.5': 0.8729016786570744,\n",
       "  'test_f1_at_0.5': 0.24002637652489284,\n",
       "  'test_pair_entity_ratio_at_0.5': 3.401820546163849,\n",
       "  'test_precision_at_0.7': 0.5101419878296146,\n",
       "  'test_recall_at_0.7': 0.6031175059952039,\n",
       "  'test_f1_at_0.7': 0.5527472527472528,\n",
       "  'test_pair_entity_ratio_at_0.7': 0.6410923276983095,\n",
       "  'test_precision_at_0.9': 0.7446808510638298,\n",
       "  'test_recall_at_0.9': 0.08393285371702638,\n",
       "  'test_f1_at_0.9': 0.15086206896551724,\n",
       "  'test_pair_entity_ratio_at_0.9': 0.0611183355006502}]"
      ]
     },
     "execution_count": 25,
     "metadata": {},
     "output_type": "execute_result"
    }
   ],
   "source": [
    "trainer.test(ckpt_path='best')"
   ]
  },
  {
   "cell_type": "markdown",
   "metadata": {},
   "source": [
    "## Testing manually "
   ]
  },
  {
   "cell_type": "code",
   "execution_count": 26,
   "metadata": {},
   "outputs": [],
   "source": [
    "# Only call this if test above wasn't run\n",
    "# datamodule.setup(stage='test')"
   ]
  },
  {
   "cell_type": "code",
   "execution_count": 27,
   "metadata": {},
   "outputs": [
    {
     "data": {
      "application/vnd.jupyter.widget-view+json": {
       "model_id": "715b214185b4485ba84f24e7da51d6bf",
       "version_major": 2,
       "version_minor": 0
      },
      "text/plain": [
       "HBox(children=(HTML(value='# batch embedding'), FloatProgress(value=0.0, max=97.0), HTML(value='')))"
      ]
     },
     "metadata": {},
     "output_type": "display_data"
    },
    {
     "name": "stdout",
     "output_type": "stream",
     "text": [
      "\n"
     ]
    }
   ],
   "source": [
    "test_row_dict = datamodule.test_row_dict\n",
    "test_left_vector_dict, test_right_vector_dict = model.predict(\n",
    "    row_dict=test_row_dict,\n",
    "    left_id_set=left_id_set,\n",
    "    right_id_set=right_id_set,\n",
    "    batch_size=16\n",
    ")"
   ]
  },
  {
   "cell_type": "code",
   "execution_count": 28,
   "metadata": {},
   "outputs": [],
   "source": [
    "embedding_size = model.blocker_net.embedding_size\n",
    "test_true_pair_set = datamodule.test_true_pair_set"
   ]
  },
  {
   "cell_type": "code",
   "execution_count": 29,
   "metadata": {},
   "outputs": [],
   "source": [
    "assert (len(test_left_vector_dict) + len(test_right_vector_dict)) == len(test_row_dict)"
   ]
  },
  {
   "cell_type": "code",
   "execution_count": 30,
   "metadata": {
    "scrolled": true
   },
   "outputs": [
    {
     "name": "stdout",
     "output_type": "stream",
     "text": [
      "CPU times: user 376 ms, sys: 5.21 ms, total: 381 ms\n",
      "Wall time: 63.2 ms\n"
     ]
    }
   ],
   "source": [
    "%%time\n",
    "\n",
    "from entity_embed import ANNLinkageIndex\n",
    "\n",
    "ann_index = ANNLinkageIndex(embedding_size=embedding_size)\n",
    "ann_index.insert_vector_dict(left_vector_dict=test_left_vector_dict, right_vector_dict=test_right_vector_dict)\n",
    "ann_index.build()"
   ]
  },
  {
   "cell_type": "code",
   "execution_count": 31,
   "metadata": {},
   "outputs": [
    {
     "name": "stdout",
     "output_type": "stream",
     "text": [
      "CPU times: user 658 ms, sys: 21.5 ms, total: 679 ms\n",
      "Wall time: 154 ms\n"
     ]
    }
   ],
   "source": [
    "%%time\n",
    "\n",
    "sim_threshold = 0.3\n",
    "found_pair_set = ann_index.search_pairs(\n",
    "    k=ann_k,\n",
    "    sim_threshold=sim_threshold,\n",
    "    left_vector_dict=test_left_vector_dict,\n",
    "    right_vector_dict=test_right_vector_dict,\n",
    ")"
   ]
  },
  {
   "cell_type": "code",
   "execution_count": 32,
   "metadata": {},
   "outputs": [
    {
     "data": {
      "text/plain": [
       "29.371261378413525"
      ]
     },
     "execution_count": 32,
     "metadata": {},
     "output_type": "execute_result"
    }
   ],
   "source": [
    "from entity_embed.evaluation import pair_entity_ratio\n",
    "\n",
    "pair_entity_ratio(len(found_pair_set), len(test_row_dict))"
   ]
  },
  {
   "cell_type": "code",
   "execution_count": 33,
   "metadata": {},
   "outputs": [
    {
     "data": {
      "text/plain": [
       "(0.01777610519558143, 0.9628297362110312)"
      ]
     },
     "execution_count": 33,
     "metadata": {},
     "output_type": "execute_result"
    }
   ],
   "source": [
    "from entity_embed.evaluation import precision_and_recall\n",
    "\n",
    "precision_and_recall(found_pair_set, test_true_pair_set)"
   ]
  },
  {
   "cell_type": "code",
   "execution_count": 34,
   "metadata": {},
   "outputs": [
    {
     "data": {
      "text/plain": [
       "44370"
      ]
     },
     "execution_count": 34,
     "metadata": {},
     "output_type": "execute_result"
    }
   ],
   "source": [
    "false_positives = list(found_pair_set - test_true_pair_set)\n",
    "len(false_positives)"
   ]
  },
  {
   "cell_type": "code",
   "execution_count": 35,
   "metadata": {},
   "outputs": [
    {
     "data": {
      "text/plain": [
       "31"
      ]
     },
     "execution_count": 35,
     "metadata": {},
     "output_type": "execute_result"
    }
   ],
   "source": [
    "false_negatives = list(test_true_pair_set - found_pair_set)\n",
    "len(false_negatives)"
   ]
  },
  {
   "cell_type": "code",
   "execution_count": 36,
   "metadata": {},
   "outputs": [],
   "source": [
    "cos_similarity = lambda a, b: np.dot(a, b)"
   ]
  },
  {
   "cell_type": "code",
   "execution_count": 37,
   "metadata": {
    "scrolled": true
   },
   "outputs": [
    {
     "data": {
      "text/plain": [
       "(0.24803665,\n",
       " {'id': 1183,\n",
       "  'description': 'create the perfect pet for your sims to train play with and love throughout a lifetime . pick everything from their paws to their personality . choose from dozens of',\n",
       "  'manufacturer': 'aspyr media',\n",
       "  'price': '34 . 99',\n",
       "  'name': 'sims 2 pets expansion pack',\n",
       "  'source': 'google',\n",
       "  'cluster_id': 1183},\n",
       " {'id': 2255,\n",
       "  'name': 'sims 2 pets for mac',\n",
       "  'description': 'system requirements : requires the full version of the sims 2 for mac os x to play operating system : mac os x 10 . 3 . 9 or later',\n",
       "  'manufacturer': '',\n",
       "  'price': '34 . 99',\n",
       "  'source': 'amazon',\n",
       "  'cluster_id': 1183})"
      ]
     },
     "metadata": {},
     "output_type": "display_data"
    },
    {
     "data": {
      "text/plain": [
       "(0.13001645,\n",
       " {'id': 125,\n",
       "  'description': '',\n",
       "  'manufacturer': 'compaq computer',\n",
       "  'price': '0',\n",
       "  'name': 'compaq comp . rapid deployment pk - flexible lic kit ( 302127 - b21 )',\n",
       "  'source': 'google',\n",
       "  'cluster_id': 125},\n",
       " {'id': 3231,\n",
       "  'name': 'hewlett packard 302127 - b21 prol essentials rdp v1 . x 1u flex lic min qty 5',\n",
       "  'description': 'prol essentials rdp v1 . x 1u flex lic min qty 5',\n",
       "  'manufacturer': '',\n",
       "  'price': '119 . 73',\n",
       "  'source': 'amazon',\n",
       "  'cluster_id': 125})"
      ]
     },
     "metadata": {},
     "output_type": "display_data"
    },
    {
     "data": {
      "text/plain": [
       "(0.2962975,\n",
       " {'id': 1206,\n",
       "  'description': 'contentbarrier x4 sets up a protective wall around your computer . contentbarrier blocks adult web sites sites with subjects not fit for children and even blocks chats when predatory language',\n",
       "  'manufacturer': 'intego',\n",
       "  'price': '49 . 99',\n",
       "  'name': 'contentbarrier x4 10 . 4 - single user ( mac )',\n",
       "  'source': 'google',\n",
       "  'cluster_id': 1206},\n",
       " {'id': 1900,\n",
       "  'name': 'intego contentbarrier x4 10 . 4',\n",
       "  'description': 'system requirements : powerpc mac mac os x 10 . 1 . 1 or later jaguar panther tiger 10 mb free disk space screen resolution 800 x 600 or higher',\n",
       "  'manufacturer': '',\n",
       "  'price': '54 . 99',\n",
       "  'source': 'amazon',\n",
       "  'cluster_id': 1206})"
      ]
     },
     "metadata": {},
     "output_type": "display_data"
    },
    {
     "data": {
      "text/plain": [
       "(0.25830272,\n",
       " {'id': 304,\n",
       "  'description': \"join the rescue heroes and become a hero when avolcano erupts ! product information & nbsp ; emergency ! this is a rescue heroes alert ! an erupting volcano '\",\n",
       "  'manufacturer': 'knowledge adventure',\n",
       "  'price': '0',\n",
       "  'name': 'fisher - price rescue heroes : lava landslide',\n",
       "  'source': 'google',\n",
       "  'cluster_id': 304},\n",
       " {'id': 4343,\n",
       "  'name': 'fisher - price rescue heroes : hurricane havoc',\n",
       "  'description': 'saving the day has never been so much fun ! rookie rescuers get to fly helicopters put out fires ride police motorcycles and much more ! realistic emergency situations awesome',\n",
       "  'manufacturer': '',\n",
       "  'price': '8 . 95',\n",
       "  'source': 'amazon',\n",
       "  'cluster_id': 304})"
      ]
     },
     "metadata": {},
     "output_type": "display_data"
    },
    {
     "data": {
      "text/plain": [
       "(0.24930292,\n",
       " {'id': 1208,\n",
       "  'description': \"tune tools for ipod lets you ove your songs from your ipod to another machine . you love your ipod but have you discovered that you can ' t move\",\n",
       "  'manufacturer': 'valusoft',\n",
       "  'price': '19 . 99',\n",
       "  'name': 'tune tools for ipod ( win / mac )',\n",
       "  'source': 'google',\n",
       "  'cluster_id': 1208},\n",
       " {'id': 1903,\n",
       "  'name': 'valusoft tune tools for ipod',\n",
       "  'description': 'windows : windows 2000 / xp pentium 500 mhz 128 mb ram 100 mb free hard - disk space cd - rom drive working usb 2 . 0 or firewire',\n",
       "  'manufacturer': '',\n",
       "  'price': '21 . 99',\n",
       "  'source': 'amazon',\n",
       "  'cluster_id': 1208})"
      ]
     },
     "metadata": {},
     "output_type": "display_data"
    },
    {
     "data": {
      "text/plain": [
       "(0.06302689,\n",
       " {'id': 845,\n",
       "  'description': \"iplaymusic ' s beginner guitar lessons is the first guitar learning program optimized for the mac and video ipod . the software takes advantage of ilife applications resident on today\",\n",
       "  'manufacturer': 'iplaymusic',\n",
       "  'price': '49 . 99',\n",
       "  'name': 'iplaymusic beginner guitar lessons for the mac and ipod',\n",
       "  'source': 'google',\n",
       "  'cluster_id': 845},\n",
       " {'id': 2324,\n",
       "  'name': \"wingnuts 2 : raina ' s revenge\",\n",
       "  'description': 'system requirements : mac os x 10 . 4 + g4 / g5 / intel 800 + mhz cpu 512 mb ram 32 mb video card 950 mb hard drive',\n",
       "  'manufacturer': '',\n",
       "  'price': '28 . 99',\n",
       "  'source': 'amazon',\n",
       "  'cluster_id': 845})"
      ]
     },
     "metadata": {},
     "output_type": "display_data"
    },
    {
     "data": {
      "text/plain": [
       "(0.21562657,\n",
       " {'id': 870,\n",
       "  'description': '- marketing information : tinyterm provides accurate emulation and total flexibility . now you can use your desktop pc to access all your legacy data and applications . with tinyterm',\n",
       "  'manufacturer': 'century software',\n",
       "  'price': '219 . 63',\n",
       "  'name': 'tiny term emulator v4 . 3x',\n",
       "  'source': 'google',\n",
       "  'cluster_id': 870},\n",
       " {'id': 3851,\n",
       "  'name': 'century software tt - 1 - century tinyterm v . 4 . 3x - emulation - 1 user ( s ) - english french german spanish italian polish portuguese -',\n",
       "  'description': 'century software tt - 1 : tinyterm provides accurate emulation and total flexibility . now you can use your desktop pc to access all your legacy data and applications .',\n",
       "  'manufacturer': '',\n",
       "  'price': '120 . 97',\n",
       "  'source': 'amazon',\n",
       "  'cluster_id': 870})"
      ]
     },
     "metadata": {},
     "output_type": "display_data"
    },
    {
     "data": {
      "text/plain": [
       "(0.23676747,\n",
       " {'id': 641,\n",
       "  'description': \"sims 2 : nightlife takes your sim into the night . explore all of your favorite after - dark activities as you discover your sims ' love lives or have\",\n",
       "  'manufacturer': 'aspyr media',\n",
       "  'price': '34 . 99',\n",
       "  'name': 'sims 2 nightlife expansion pack',\n",
       "  'source': 'google',\n",
       "  'cluster_id': 641},\n",
       " {'id': 1908,\n",
       "  'name': 'aspyr media inc sims 2 nightlife',\n",
       "  'description': \"send your sims on an epic night out ! your sims are on the town hitting all the swanky hot spots . whether they ' re dancing until dawn romancing\",\n",
       "  'manufacturer': '',\n",
       "  'price': '33 . 21',\n",
       "  'source': 'amazon',\n",
       "  'cluster_id': 641})"
      ]
     },
     "metadata": {},
     "output_type": "display_data"
    },
    {
     "data": {
      "text/plain": [
       "(0.26323012,\n",
       " {'id': 66,\n",
       "  'description': 'children - ages 3 to 8 everyone knows theres no such thing as ghosts .. so who is haunting the schoolhouse taking the toys and practically scaring the scales off',\n",
       "  'manufacturer': 'humongous entertainment',\n",
       "  'price': '29 . 95',\n",
       "  'name': 'freddi fish 2 : the haunted schoolhouse',\n",
       "  'source': 'google',\n",
       "  'cluster_id': 66},\n",
       " {'id': 2937,\n",
       "  'name': 'freddi fish 2 - case of haunted schl hse',\n",
       "  'description': \"children - ages 3 to 8 everyone knows there ' s no such thing as ghosts ... so who is haunting the schoolhouse taking the toys & practically scaring the\",\n",
       "  'manufacturer': '',\n",
       "  'price': '7 . 5',\n",
       "  'source': 'amazon',\n",
       "  'cluster_id': 66})"
      ]
     },
     "metadata": {},
     "output_type": "display_data"
    },
    {
     "data": {
      "text/plain": [
       "(0.081076585,\n",
       " {'id': 529,\n",
       "  'description': \"zoo tycoon 2 : marine mania is a great new expansion where you ' ll help your zoo make a big splash ! add killer whales manta rays and other\",\n",
       "  'manufacturer': 'microsoft',\n",
       "  'price': '19 . 99',\n",
       "  'name': 'zoo tycoon 2 : marine mania expansion',\n",
       "  'source': 'google',\n",
       "  'cluster_id': 529},\n",
       " {'id': 2963,\n",
       "  'name': 'zoo tycoon for windows',\n",
       "  'description': 'everybody likes the zoo . and why not casual walks exotic animals and fried foods are good fun . managing a zoo of your very own is even better .',\n",
       "  'manufacturer': '',\n",
       "  'price': '25 . 99',\n",
       "  'source': 'amazon',\n",
       "  'cluster_id': 529})"
      ]
     },
     "metadata": {},
     "output_type": "display_data"
    }
   ],
   "source": [
    "for (id_left, id_right) in false_negatives[:10]:\n",
    "    display(\n",
    "        (\n",
    "            cos_similarity(test_left_vector_dict[id_left], test_right_vector_dict[id_right]),\n",
    "            row_dict[id_left], row_dict[id_right]\n",
    "        )\n",
    "    )"
   ]
  }
 ],
 "metadata": {
  "kernelspec": {
   "display_name": "Python 3",
   "language": "python",
   "name": "python3"
  },
  "language_info": {
   "codemirror_mode": {
    "name": "ipython",
    "version": 3
   },
   "file_extension": ".py",
   "mimetype": "text/x-python",
   "name": "python",
   "nbconvert_exporter": "python",
   "pygments_lexer": "ipython3",
   "version": "3.8.6"
  }
 },
 "nbformat": 4,
 "nbformat_minor": 4
}
