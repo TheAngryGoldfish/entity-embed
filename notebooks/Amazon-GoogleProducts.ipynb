{
 "cells": [
  {
   "cell_type": "markdown",
   "metadata": {},
   "source": [
    "## Load Dataset"
   ]
  },
  {
   "cell_type": "code",
   "execution_count": 1,
   "metadata": {},
   "outputs": [],
   "source": [
    "%load_ext autoreload\n",
    "%autoreload 2"
   ]
  },
  {
   "cell_type": "code",
   "execution_count": 2,
   "metadata": {},
   "outputs": [],
   "source": [
    "from importlib import reload\n",
    "import logging\n",
    "reload(logging)\n",
    "logging.basicConfig(format='%(asctime)s %(levelname)s:%(message)s', level=logging.INFO, datefmt='%H:%M:%S')"
   ]
  },
  {
   "cell_type": "code",
   "execution_count": 3,
   "metadata": {},
   "outputs": [],
   "source": [
    "# libgomp issue, must import n2 before torch\n",
    "from n2 import HnswIndex"
   ]
  },
  {
   "cell_type": "code",
   "execution_count": 4,
   "metadata": {},
   "outputs": [],
   "source": [
    "import sys\n",
    "\n",
    "sys.path.insert(0, '..')"
   ]
  },
  {
   "cell_type": "code",
   "execution_count": 5,
   "metadata": {},
   "outputs": [],
   "source": [
    "import os\n",
    "home_dir = os.getenv('HOME')"
   ]
  },
  {
   "cell_type": "markdown",
   "metadata": {},
   "source": [
    "https://dbs.uni-leipzig.de/research/projects/object_matching/benchmark_datasets_for_entity_resolution"
   ]
  },
  {
   "cell_type": "code",
   "execution_count": 6,
   "metadata": {},
   "outputs": [
    {
     "data": {
      "application/vnd.jupyter.widget-view+json": {
       "model_id": "8c6c6732d34147dfb65ddfb56be6714a",
       "version_major": 2,
       "version_minor": 0
      },
      "text/plain": [
       "HBox(children=(HTML(value=''), FloatProgress(value=0.0, max=4589.0), HTML(value='')))"
      ]
     },
     "metadata": {},
     "output_type": "display_data"
    },
    {
     "name": "stdout",
     "output_type": "stream",
     "text": [
      "\n"
     ]
    }
   ],
   "source": [
    "import glob\n",
    "import csv\n",
    "from tqdm.auto import tqdm\n",
    "\n",
    "from entity_embed.data_utils.utils import Enumerator\n",
    "\n",
    "row_dict = {}\n",
    "id_enumerator = Enumerator()\n",
    "left_id_set = set()\n",
    "right_id_set = set()\n",
    "rows_total = 1363 + 3226\n",
    "clusters_total = 1300\n",
    "\n",
    "with tqdm(total=rows_total) as pbar:\n",
    "    with open(f'{home_dir}/Downloads/amazon_google_exp_data/tableA.csv') as f:\n",
    "        for row in csv.DictReader(f):\n",
    "            row['id'] = id_enumerator[f'left-{int(row[\"id\"])}']\n",
    "            row['source'] = 'left'\n",
    "            row_dict[row['id']] = row\n",
    "            left_id_set.add(row['id'])\n",
    "            pbar.update(1)\n",
    "    \n",
    "    with open(f'{home_dir}/Downloads/amazon_google_exp_data/tableB.csv') as f:\n",
    "        for row in csv.DictReader(f):\n",
    "            row['id'] = id_enumerator[f'right-{int(row[\"id\"])}']\n",
    "            row['source'] = 'right'\n",
    "            row_dict[row['id']] = row\n",
    "            right_id_set.add(row['id'])\n",
    "            pbar.update(1)"
   ]
  },
  {
   "cell_type": "code",
   "execution_count": 7,
   "metadata": {},
   "outputs": [
    {
     "data": {
      "text/plain": [
       "699"
      ]
     },
     "metadata": {},
     "output_type": "display_data"
    },
    {
     "data": {
      "text/plain": [
       "234"
      ]
     },
     "metadata": {},
     "output_type": "display_data"
    },
    {
     "data": {
      "text/plain": [
       "234"
      ]
     },
     "metadata": {},
     "output_type": "display_data"
    }
   ],
   "source": [
    "train_true_pair_set = set()\n",
    "valid_true_pair_set = set()\n",
    "test_true_pair_set = set()\n",
    "\n",
    "with open(f'{home_dir}/Downloads/amazon_google_exp_data/train.csv') as f:\n",
    "    for row in csv.DictReader(f):\n",
    "        if int(row['label']) == 1:\n",
    "            id_left = id_enumerator[f'left-{int(row[\"ltable_id\"])}']\n",
    "            id_right = id_enumerator[f'right-{int(row[\"rtable_id\"])}']\n",
    "            train_true_pair_set.add((id_left, id_right))\n",
    "\n",
    "with open(f'{home_dir}/Downloads/amazon_google_exp_data/valid.csv') as f:\n",
    "    for row in csv.DictReader(f):\n",
    "        if int(row['label']) == 1:\n",
    "            id_left = id_enumerator[f'left-{int(row[\"ltable_id\"])}']\n",
    "            id_right = id_enumerator[f'right-{int(row[\"rtable_id\"])}']\n",
    "            valid_true_pair_set.add((id_left, id_right))\n",
    "\n",
    "with open(f'{home_dir}/Downloads/amazon_google_exp_data/test.csv') as f:\n",
    "    for row in csv.DictReader(f):\n",
    "        if int(row['label']) == 1:\n",
    "            id_left = id_enumerator[f'left-{int(row[\"ltable_id\"])}']\n",
    "            id_right = id_enumerator[f'right-{int(row[\"rtable_id\"])}']\n",
    "            test_true_pair_set.add((id_left, id_right))\n",
    "        \n",
    "display(len(train_true_pair_set))\n",
    "display(len(valid_true_pair_set))\n",
    "display(len(test_true_pair_set))"
   ]
  },
  {
   "cell_type": "markdown",
   "metadata": {},
   "source": [
    "## Preprocess"
   ]
  },
  {
   "cell_type": "code",
   "execution_count": 8,
   "metadata": {},
   "outputs": [],
   "source": [
    "attr_list = ['title', 'manufacturer', 'price']"
   ]
  },
  {
   "cell_type": "code",
   "execution_count": 9,
   "metadata": {},
   "outputs": [
    {
     "data": {
      "application/vnd.jupyter.widget-view+json": {
       "model_id": "895b32b52ed647868f133dd69300b3d4",
       "version_major": 2,
       "version_minor": 0
      },
      "text/plain": [
       "HBox(children=(HTML(value=''), FloatProgress(value=0.0, max=4589.0), HTML(value='')))"
      ]
     },
     "metadata": {},
     "output_type": "display_data"
    },
    {
     "name": "stdout",
     "output_type": "stream",
     "text": [
      "\n"
     ]
    }
   ],
   "source": [
    "import unidecode\n",
    "import itertools\n",
    "from entity_embed import default_tokenizer\n",
    "\n",
    "def clean_str(s):\n",
    "    s = unidecode.unidecode(s).lower().strip()\n",
    "    s_tokens = itertools.islice((s_part[:30] for s_part in default_tokenizer(s)), 0, 30)\n",
    "    return ' '.join(s_tokens)[:300]\n",
    "\n",
    "for row in tqdm(row_dict.values()):\n",
    "    for attr in attr_list:\n",
    "        row[attr] = clean_str(row[attr])"
   ]
  },
  {
   "cell_type": "markdown",
   "metadata": {},
   "source": [
    "## Init Data Module"
   ]
  },
  {
   "cell_type": "code",
   "execution_count": 10,
   "metadata": {},
   "outputs": [],
   "source": [
    "import torch\n",
    "import numpy as np\n",
    "\n",
    "random_seed = 42\n",
    "torch.manual_seed(random_seed)\n",
    "np.random.seed(random_seed)"
   ]
  },
  {
   "cell_type": "code",
   "execution_count": 11,
   "metadata": {},
   "outputs": [],
   "source": [
    "alphabet = list('0123456789abcdefghijklmnopqrstuvwxyz!\"#$%&\\'()*+,-./:;<=>?@[\\\\]^_`{|}~ ')"
   ]
  },
  {
   "cell_type": "code",
   "execution_count": 12,
   "metadata": {},
   "outputs": [],
   "source": [
    "attr_info_dict = {\n",
    "    'title': {\n",
    "        'field_type': \"SEMANTIC_MULTITOKEN\",\n",
    "        'tokenizer': \"entity_embed.default_tokenizer\",\n",
    "        'vocab': \"fasttext.en.300d\",\n",
    "    },\n",
    "    'manufacturer': {\n",
    "        'field_type': \"MULTITOKEN\",\n",
    "        'tokenizer': \"entity_embed.default_tokenizer\",\n",
    "        'alphabet': alphabet,\n",
    "        'max_str_len': None,  # compute\n",
    "    },\n",
    "    'price': {\n",
    "        'field_type': \"STRING\",\n",
    "        'tokenizer': \"entity_embed.default_tokenizer\",\n",
    "        'alphabet': alphabet,\n",
    "        'max_str_len': None,  # compute\n",
    "    }\n",
    "}"
   ]
  },
  {
   "cell_type": "code",
   "execution_count": 13,
   "metadata": {},
   "outputs": [
    {
     "name": "stderr",
     "output_type": "stream",
     "text": [
      "18:08:10 INFO:Loading vectors from .vector_cache/wiki.en.vec.pt\n",
      "18:08:14 INFO:For attr='manufacturer', computing actual alphabet and max_str_len\n",
      "18:08:14 INFO:actual_max_str_len=15 must be pair to enable NN pooling. Updating to 16\n",
      "18:08:14 INFO:For attr='manufacturer', using actual_max_str_len=16\n",
      "18:08:14 INFO:For attr='price', computing actual alphabet and max_str_len\n",
      "18:08:14 INFO:actual_max_str_len=11 must be pair to enable NN pooling. Updating to 12\n",
      "18:08:14 INFO:For attr='price', using actual_max_str_len=12\n"
     ]
    },
    {
     "data": {
      "text/plain": [
       "{'title': NumericalizeInfo(field_type=<FieldType.SEMANTIC_MULTITOKEN: 'semantic_multitoken'>, tokenizer=<function default_tokenizer at 0x7f6ef2099ca0>, alphabet=None, max_str_len=None, vocab=<torchtext.vocab.Vocab object at 0x7f6ec93a72e0>),\n",
       " 'manufacturer': NumericalizeInfo(field_type=<FieldType.MULTITOKEN: 'multitoken'>, tokenizer=<function default_tokenizer at 0x7f6ef2099ca0>, alphabet=['0', '1', '2', '3', '4', '5', '6', '7', '8', '9', 'a', 'b', 'c', 'd', 'e', 'f', 'g', 'h', 'i', 'j', 'k', 'l', 'm', 'n', 'o', 'p', 'q', 'r', 's', 't', 'u', 'v', 'w', 'x', 'y', 'z', '!', '\"', '#', '$', '%', '&', \"'\", '(', ')', '*', '+', ',', '-', '.', '/', ':', ';', '<', '=', '>', '?', '@', '[', '\\\\', ']', '^', '_', '`', '{', '|', '}', '~', ' '], max_str_len=16, vocab=None),\n",
       " 'price': NumericalizeInfo(field_type=<FieldType.STRING: 'string'>, tokenizer=<function default_tokenizer at 0x7f6ef2099ca0>, alphabet=['0', '1', '2', '3', '4', '5', '6', '7', '8', '9', 'a', 'b', 'c', 'd', 'e', 'f', 'g', 'h', 'i', 'j', 'k', 'l', 'm', 'n', 'o', 'p', 'q', 'r', 's', 't', 'u', 'v', 'w', 'x', 'y', 'z', '!', '\"', '#', '$', '%', '&', \"'\", '(', ')', '*', '+', ',', '-', '.', '/', ':', ';', '<', '=', '>', '?', '@', '[', '\\\\', ']', '^', '_', '`', '{', '|', '}', '~', ' '], max_str_len=12, vocab=None)}"
      ]
     },
     "execution_count": 13,
     "metadata": {},
     "output_type": "execute_result"
    }
   ],
   "source": [
    "from entity_embed import build_row_numericalizer\n",
    "\n",
    "row_numericalizer = build_row_numericalizer(attr_info_dict, row_dict=row_dict)\n",
    "row_numericalizer.attr_info_dict"
   ]
  },
  {
   "cell_type": "code",
   "execution_count": 14,
   "metadata": {},
   "outputs": [],
   "source": [
    "from entity_embed import PreSplitLinkageDataModule\n",
    "\n",
    "cluster_attr = 'cluster_id'\n",
    "datamodule = PreSplitLinkageDataModule(\n",
    "    row_dict=row_dict,\n",
    "    cluster_attr=cluster_attr,\n",
    "    row_numericalizer=row_numericalizer,\n",
    "    pos_pair_batch_size=45,\n",
    "    neg_pair_batch_size=1225,\n",
    "    row_batch_size=16,\n",
    "    train_true_pair_set=train_true_pair_set,\n",
    "    valid_true_pair_set=valid_true_pair_set,\n",
    "    test_true_pair_set=test_true_pair_set,\n",
    "    random_seed=random_seed\n",
    ")"
   ]
  },
  {
   "cell_type": "markdown",
   "metadata": {},
   "source": [
    "## Training"
   ]
  },
  {
   "cell_type": "code",
   "execution_count": 15,
   "metadata": {},
   "outputs": [],
   "source": [
    "from entity_embed import LinkageEmbed\n",
    "\n",
    "ann_k = 100\n",
    "model = LinkageEmbed(\n",
    "    datamodule,\n",
    "    ann_k=ann_k,\n",
    "    use_mask=True,\n",
    "    embedding_size=300\n",
    ")"
   ]
  },
  {
   "cell_type": "code",
   "execution_count": 16,
   "metadata": {
    "scrolled": false
   },
   "outputs": [
    {
     "name": "stderr",
     "output_type": "stream",
     "text": [
      "18:08:14 INFO:GPU available: True, used: True\n",
      "18:08:14 INFO:TPU available: None, using: 0 TPU cores\n",
      "18:08:14 INFO:LOCAL_RANK: 0 - CUDA_VISIBLE_DEVICES: [0]\n"
     ]
    }
   ],
   "source": [
    "import pytorch_lightning as pl\n",
    "from pytorch_lightning.callbacks.early_stopping import EarlyStopping\n",
    "from pytorch_lightning.loggers import TensorBoardLogger\n",
    "\n",
    "max_epochs = 50\n",
    "early_stop_callback = EarlyStopping(\n",
    "   monitor='valid_recall_at_0.3',\n",
    "   min_delta=0.00,\n",
    "   patience=10,\n",
    "   verbose=True,\n",
    "   mode='max'\n",
    ")\n",
    "tb_log_dir = 'tb_logs'\n",
    "tb_name = 'amzn-googl'\n",
    "trainer = pl.Trainer(\n",
    "    gpus=1,\n",
    "    max_epochs=max_epochs,\n",
    "    check_val_every_n_epoch=1,\n",
    "    callbacks=[early_stop_callback],\n",
    "    logger=TensorBoardLogger(tb_log_dir, name=tb_name)\n",
    ")"
   ]
  },
  {
   "cell_type": "code",
   "execution_count": 17,
   "metadata": {},
   "outputs": [
    {
     "name": "stderr",
     "output_type": "stream",
     "text": [
      "18:08:14 INFO:Train pair count: 699\n",
      "18:08:14 INFO:Valid pair count: 234\n",
      "18:08:14 INFO:Test pair count: 234\n",
      "18:08:16 INFO:\n",
      "  | Name        | Type           | Params\n",
      "-----------------------------------------------\n",
      "0 | blocker_net | BlockerNet     | 4.8 M \n",
      "1 | losser      | NTXentLoss     | 0     \n",
      "2 | miner       | BatchHardMiner | 0     \n",
      "-----------------------------------------------\n",
      "3.1 M     Trainable params\n",
      "1.7 M     Non-trainable params\n",
      "4.8 M     Total params\n"
     ]
    },
    {
     "data": {
      "application/vnd.jupyter.widget-view+json": {
       "model_id": "",
       "version_major": 2,
       "version_minor": 0
      },
      "text/plain": [
       "HBox(children=(HTML(value='Validation sanity check'), FloatProgress(value=1.0, bar_style='info', layout=Layout…"
      ]
     },
     "metadata": {},
     "output_type": "display_data"
    },
    {
     "data": {
      "application/vnd.jupyter.widget-view+json": {
       "model_id": "72dac74e83054907a2cf81ad1a75f488",
       "version_major": 2,
       "version_minor": 0
      },
      "text/plain": [
       "HBox(children=(HTML(value='Training'), FloatProgress(value=1.0, bar_style='info', layout=Layout(flex='2'), max…"
      ]
     },
     "metadata": {},
     "output_type": "display_data"
    },
    {
     "data": {
      "application/vnd.jupyter.widget-view+json": {
       "model_id": "",
       "version_major": 2,
       "version_minor": 0
      },
      "text/plain": [
       "HBox(children=(HTML(value='Validating'), FloatProgress(value=1.0, bar_style='info', layout=Layout(flex='2'), m…"
      ]
     },
     "metadata": {},
     "output_type": "display_data"
    },
    {
     "data": {
      "application/vnd.jupyter.widget-view+json": {
       "model_id": "",
       "version_major": 2,
       "version_minor": 0
      },
      "text/plain": [
       "HBox(children=(HTML(value='Validating'), FloatProgress(value=1.0, bar_style='info', layout=Layout(flex='2'), m…"
      ]
     },
     "metadata": {},
     "output_type": "display_data"
    },
    {
     "data": {
      "application/vnd.jupyter.widget-view+json": {
       "model_id": "",
       "version_major": 2,
       "version_minor": 0
      },
      "text/plain": [
       "HBox(children=(HTML(value='Validating'), FloatProgress(value=1.0, bar_style='info', layout=Layout(flex='2'), m…"
      ]
     },
     "metadata": {},
     "output_type": "display_data"
    },
    {
     "data": {
      "application/vnd.jupyter.widget-view+json": {
       "model_id": "",
       "version_major": 2,
       "version_minor": 0
      },
      "text/plain": [
       "HBox(children=(HTML(value='Validating'), FloatProgress(value=1.0, bar_style='info', layout=Layout(flex='2'), m…"
      ]
     },
     "metadata": {},
     "output_type": "display_data"
    },
    {
     "data": {
      "application/vnd.jupyter.widget-view+json": {
       "model_id": "",
       "version_major": 2,
       "version_minor": 0
      },
      "text/plain": [
       "HBox(children=(HTML(value='Validating'), FloatProgress(value=1.0, bar_style='info', layout=Layout(flex='2'), m…"
      ]
     },
     "metadata": {},
     "output_type": "display_data"
    },
    {
     "data": {
      "application/vnd.jupyter.widget-view+json": {
       "model_id": "",
       "version_major": 2,
       "version_minor": 0
      },
      "text/plain": [
       "HBox(children=(HTML(value='Validating'), FloatProgress(value=1.0, bar_style='info', layout=Layout(flex='2'), m…"
      ]
     },
     "metadata": {},
     "output_type": "display_data"
    },
    {
     "data": {
      "application/vnd.jupyter.widget-view+json": {
       "model_id": "",
       "version_major": 2,
       "version_minor": 0
      },
      "text/plain": [
       "HBox(children=(HTML(value='Validating'), FloatProgress(value=1.0, bar_style='info', layout=Layout(flex='2'), m…"
      ]
     },
     "metadata": {},
     "output_type": "display_data"
    },
    {
     "data": {
      "application/vnd.jupyter.widget-view+json": {
       "model_id": "",
       "version_major": 2,
       "version_minor": 0
      },
      "text/plain": [
       "HBox(children=(HTML(value='Validating'), FloatProgress(value=1.0, bar_style='info', layout=Layout(flex='2'), m…"
      ]
     },
     "metadata": {},
     "output_type": "display_data"
    },
    {
     "data": {
      "application/vnd.jupyter.widget-view+json": {
       "model_id": "",
       "version_major": 2,
       "version_minor": 0
      },
      "text/plain": [
       "HBox(children=(HTML(value='Validating'), FloatProgress(value=1.0, bar_style='info', layout=Layout(flex='2'), m…"
      ]
     },
     "metadata": {},
     "output_type": "display_data"
    },
    {
     "data": {
      "application/vnd.jupyter.widget-view+json": {
       "model_id": "",
       "version_major": 2,
       "version_minor": 0
      },
      "text/plain": [
       "HBox(children=(HTML(value='Validating'), FloatProgress(value=1.0, bar_style='info', layout=Layout(flex='2'), m…"
      ]
     },
     "metadata": {},
     "output_type": "display_data"
    },
    {
     "data": {
      "application/vnd.jupyter.widget-view+json": {
       "model_id": "",
       "version_major": 2,
       "version_minor": 0
      },
      "text/plain": [
       "HBox(children=(HTML(value='Validating'), FloatProgress(value=1.0, bar_style='info', layout=Layout(flex='2'), m…"
      ]
     },
     "metadata": {},
     "output_type": "display_data"
    },
    {
     "name": "stdout",
     "output_type": "stream",
     "text": [
      "\n"
     ]
    },
    {
     "data": {
      "text/plain": [
       "1"
      ]
     },
     "execution_count": 17,
     "metadata": {},
     "output_type": "execute_result"
    }
   ],
   "source": [
    "trainer.fit(model, datamodule)"
   ]
  },
  {
   "cell_type": "code",
   "execution_count": 18,
   "metadata": {},
   "outputs": [
    {
     "data": {
      "text/plain": [
       "{'title': 0.37225764989852905,\n",
       " 'manufacturer': 0.28685975074768066,\n",
       " 'price': 0.34088265895843506}"
      ]
     },
     "execution_count": 18,
     "metadata": {},
     "output_type": "execute_result"
    }
   ],
   "source": [
    "model.blocker_net.get_signature_weights()"
   ]
  },
  {
   "cell_type": "markdown",
   "metadata": {},
   "source": [
    "## Testing"
   ]
  },
  {
   "cell_type": "code",
   "execution_count": 19,
   "metadata": {},
   "outputs": [
    {
     "name": "stderr",
     "output_type": "stream",
     "text": [
      "18:08:38 INFO:Train pair count: 699\n",
      "18:08:38 INFO:Valid pair count: 234\n",
      "18:08:38 INFO:Test pair count: 234\n"
     ]
    },
    {
     "data": {
      "application/vnd.jupyter.widget-view+json": {
       "model_id": "4471742e8dca43c3af333ac69afd1aca",
       "version_major": 2,
       "version_minor": 0
      },
      "text/plain": [
       "HBox(children=(HTML(value='Testing'), FloatProgress(value=1.0, bar_style='info', layout=Layout(flex='2'), max=…"
      ]
     },
     "metadata": {},
     "output_type": "display_data"
    },
    {
     "name": "stdout",
     "output_type": "stream",
     "text": [
      "\n",
      "--------------------------------------------------------------------------------\n",
      "DATALOADER:0 TEST RESULTS\n",
      "{'test_f1_at_0.3': 0.28390367553865653,\n",
      " 'test_f1_at_0.5': 0.6899841017488076,\n",
      " 'test_f1_at_0.7': 0.8008474576271185,\n",
      " 'test_f1_at_0.9': 0.5,\n",
      " 'test_pair_entity_ratio_at_0.3': 2.9154013015184383,\n",
      " 'test_pair_entity_ratio_at_0.5': 0.8568329718004338,\n",
      " 'test_pair_entity_ratio_at_0.7': 0.5162689804772235,\n",
      " 'test_pair_entity_ratio_at_0.9': 0.18655097613882862,\n",
      " 'test_precision_at_0.3': 0.16666666666666666,\n",
      " 'test_precision_at_0.5': 0.549367088607595,\n",
      " 'test_precision_at_0.7': 0.7941176470588235,\n",
      " 'test_precision_at_0.9': 0.9302325581395349,\n",
      " 'test_recall_at_0.3': 0.9572649572649573,\n",
      " 'test_recall_at_0.5': 0.9273504273504274,\n",
      " 'test_recall_at_0.7': 0.8076923076923077,\n",
      " 'test_recall_at_0.9': 0.3418803418803419}\n",
      "--------------------------------------------------------------------------------\n"
     ]
    },
    {
     "data": {
      "text/plain": [
       "[{'test_precision_at_0.3': 0.16666666666666666,\n",
       "  'test_recall_at_0.3': 0.9572649572649573,\n",
       "  'test_f1_at_0.3': 0.28390367553865653,\n",
       "  'test_pair_entity_ratio_at_0.3': 2.9154013015184383,\n",
       "  'test_precision_at_0.5': 0.549367088607595,\n",
       "  'test_recall_at_0.5': 0.9273504273504274,\n",
       "  'test_f1_at_0.5': 0.6899841017488076,\n",
       "  'test_pair_entity_ratio_at_0.5': 0.8568329718004338,\n",
       "  'test_precision_at_0.7': 0.7941176470588235,\n",
       "  'test_recall_at_0.7': 0.8076923076923077,\n",
       "  'test_f1_at_0.7': 0.8008474576271185,\n",
       "  'test_pair_entity_ratio_at_0.7': 0.5162689804772235,\n",
       "  'test_precision_at_0.9': 0.9302325581395349,\n",
       "  'test_recall_at_0.9': 0.3418803418803419,\n",
       "  'test_f1_at_0.9': 0.5,\n",
       "  'test_pair_entity_ratio_at_0.9': 0.18655097613882862}]"
      ]
     },
     "execution_count": 19,
     "metadata": {},
     "output_type": "execute_result"
    }
   ],
   "source": [
    "trainer.test(ckpt_path='best')"
   ]
  },
  {
   "cell_type": "markdown",
   "metadata": {},
   "source": [
    "## Testing manually "
   ]
  },
  {
   "cell_type": "code",
   "execution_count": 20,
   "metadata": {},
   "outputs": [],
   "source": [
    "# Only call this if test above wasn't run\n",
    "# datamodule.setup(stage='test')"
   ]
  },
  {
   "cell_type": "code",
   "execution_count": 21,
   "metadata": {},
   "outputs": [
    {
     "data": {
      "application/vnd.jupyter.widget-view+json": {
       "model_id": "c682be3446184e298b9b8e3ec1e2b777",
       "version_major": 2,
       "version_minor": 0
      },
      "text/plain": [
       "HBox(children=(HTML(value='# batch embedding'), FloatProgress(value=0.0, max=29.0), HTML(value='')))"
      ]
     },
     "metadata": {},
     "output_type": "display_data"
    },
    {
     "name": "stdout",
     "output_type": "stream",
     "text": [
      "\n"
     ]
    }
   ],
   "source": [
    "test_row_dict = datamodule.test_row_dict\n",
    "test_left_vector_dict, test_right_vector_dict = model.predict(\n",
    "    row_dict=test_row_dict,\n",
    "    left_id_set=left_id_set,\n",
    "    right_id_set=right_id_set,\n",
    "    batch_size=16\n",
    ")"
   ]
  },
  {
   "cell_type": "code",
   "execution_count": 22,
   "metadata": {},
   "outputs": [],
   "source": [
    "embedding_size = model.blocker_net.embedding_size\n",
    "test_true_pair_set = datamodule.test_true_pair_set"
   ]
  },
  {
   "cell_type": "code",
   "execution_count": 23,
   "metadata": {},
   "outputs": [],
   "source": [
    "# assert (len(test_left_vector_dict) + len(test_right_vector_dict)) == len(test_row_dict)"
   ]
  },
  {
   "cell_type": "code",
   "execution_count": 24,
   "metadata": {
    "scrolled": true
   },
   "outputs": [
    {
     "name": "stdout",
     "output_type": "stream",
     "text": [
      "CPU times: user 218 ms, sys: 0 ns, total: 218 ms\n",
      "Wall time: 36.3 ms\n"
     ]
    }
   ],
   "source": [
    "%%time\n",
    "\n",
    "from entity_embed import ANNLinkageIndex\n",
    "\n",
    "ann_index = ANNLinkageIndex(embedding_size=embedding_size)\n",
    "ann_index.insert_vector_dict(left_vector_dict=test_left_vector_dict, right_vector_dict=test_right_vector_dict)\n",
    "ann_index.build()"
   ]
  },
  {
   "cell_type": "code",
   "execution_count": 56,
   "metadata": {},
   "outputs": [
    {
     "name": "stdout",
     "output_type": "stream",
     "text": [
      "CPU times: user 357 ms, sys: 0 ns, total: 357 ms\n",
      "Wall time: 41.6 ms\n"
     ]
    }
   ],
   "source": [
    "%%time\n",
    "\n",
    "sim_threshold = 0.7\n",
    "found_pair_set = ann_index.search_pairs(\n",
    "    k=ann_k,\n",
    "    sim_threshold=sim_threshold,\n",
    "    left_vector_dict=test_left_vector_dict,\n",
    "    right_vector_dict=test_right_vector_dict,\n",
    ")"
   ]
  },
  {
   "cell_type": "code",
   "execution_count": 57,
   "metadata": {},
   "outputs": [
    {
     "data": {
      "text/plain": [
       "0.5162689804772235"
      ]
     },
     "execution_count": 57,
     "metadata": {},
     "output_type": "execute_result"
    }
   ],
   "source": [
    "from entity_embed.evaluation import pair_entity_ratio\n",
    "\n",
    "pair_entity_ratio(len(found_pair_set), len(test_row_dict))"
   ]
  },
  {
   "cell_type": "code",
   "execution_count": 58,
   "metadata": {},
   "outputs": [
    {
     "data": {
      "text/plain": [
       "(0.7941176470588235, 0.8076923076923077)"
      ]
     },
     "execution_count": 58,
     "metadata": {},
     "output_type": "execute_result"
    }
   ],
   "source": [
    "from entity_embed.evaluation import precision_and_recall, f1_score\n",
    "\n",
    "precision, recall = precision_and_recall(found_pair_set, test_true_pair_set)\n",
    "precision, recall"
   ]
  },
  {
   "cell_type": "code",
   "execution_count": 59,
   "metadata": {},
   "outputs": [
    {
     "data": {
      "text/plain": [
       "0.8008474576271185"
      ]
     },
     "execution_count": 59,
     "metadata": {},
     "output_type": "execute_result"
    }
   ],
   "source": [
    "f1_score(precision, recall)"
   ]
  },
  {
   "cell_type": "code",
   "execution_count": 60,
   "metadata": {},
   "outputs": [
    {
     "data": {
      "text/plain": [
       "49"
      ]
     },
     "execution_count": 60,
     "metadata": {},
     "output_type": "execute_result"
    }
   ],
   "source": [
    "false_positives = list(found_pair_set - test_true_pair_set)\n",
    "len(false_positives)"
   ]
  },
  {
   "cell_type": "code",
   "execution_count": 61,
   "metadata": {},
   "outputs": [
    {
     "data": {
      "text/plain": [
       "45"
      ]
     },
     "execution_count": 61,
     "metadata": {},
     "output_type": "execute_result"
    }
   ],
   "source": [
    "false_negatives = list(test_true_pair_set - found_pair_set)\n",
    "len(false_negatives)"
   ]
  },
  {
   "cell_type": "code",
   "execution_count": 62,
   "metadata": {},
   "outputs": [],
   "source": [
    "cos_similarity = lambda a, b: np.dot(a, b)"
   ]
  },
  {
   "cell_type": "code",
   "execution_count": 63,
   "metadata": {
    "scrolled": true
   },
   "outputs": [
    {
     "data": {
      "text/plain": [
       "(0.6392225,\n",
       " {'id': 17,\n",
       "  'title': 'upg sgms 1000 incremental node',\n",
       "  'manufacturer': 'sonic - systems - inc .',\n",
       "  'price': '',\n",
       "  'source': 'left',\n",
       "  'cluster_id': 849},\n",
       " {'id': 3347,\n",
       "  'title': 'sonicwall gms 1000n - incremental lic upg',\n",
       "  'manufacturer': 'sonic - systems - inc .',\n",
       "  'price': '62920 . 89',\n",
       "  'source': 'right',\n",
       "  'cluster_id': 849})"
      ]
     },
     "metadata": {},
     "output_type": "display_data"
    },
    {
     "data": {
      "text/plain": [
       "(0.6960257,\n",
       " {'id': 762,\n",
       "  'title': 'i transfer dvds 2 ipod edition ( win / mac )',\n",
       "  'manufacturer': 'me - too - software',\n",
       "  'price': '29 . 99',\n",
       "  'source': 'left',\n",
       "  'cluster_id': 1014},\n",
       " {'id': 1759,\n",
       "  'title': 'me too software i transfer dvds 2 ipod',\n",
       "  'manufacturer': 'me - too - software',\n",
       "  'price': '29 . 99',\n",
       "  'source': 'right',\n",
       "  'cluster_id': 1014})"
      ]
     },
     "metadata": {},
     "output_type": "display_data"
    },
    {
     "data": {
      "text/plain": [
       "(0.6357428,\n",
       " {'id': 207,\n",
       "  'title': 'crystal reports 11 professional full product french',\n",
       "  'manufacturer': 'business objects',\n",
       "  'price': '909 . 66',\n",
       "  'source': 'left',\n",
       "  'cluster_id': 851},\n",
       " {'id': 2888,\n",
       "  'title': 'crystal reports xi professional edition complete package',\n",
       "  'manufacturer': '',\n",
       "  'price': '537 . 57',\n",
       "  'source': 'right',\n",
       "  'cluster_id': 851})"
      ]
     },
     "metadata": {},
     "output_type": "display_data"
    },
    {
     "data": {
      "text/plain": [
       "(0.2206206,\n",
       " {'id': 1206,\n",
       "  'title': 'contentbarrier x4 10 . 4 single user ( mac )',\n",
       "  'manufacturer': 'intego',\n",
       "  'price': '49 . 99',\n",
       "  'source': 'left',\n",
       "  'cluster_id': 853},\n",
       " {'id': 1900,\n",
       "  'title': 'intego contentbarrier x4 10 . 4',\n",
       "  'manufacturer': '',\n",
       "  'price': '54 . 99',\n",
       "  'source': 'right',\n",
       "  'cluster_id': 853})"
      ]
     },
     "metadata": {},
     "output_type": "display_data"
    },
    {
     "data": {
      "text/plain": [
       "(0.35424715,\n",
       " {'id': 345,\n",
       "  'title': 'portfolio media kit be syst recovery 7 . 0 win small business ed',\n",
       "  'manufacturer': 'symantec',\n",
       "  'price': '50 . 0',\n",
       "  'source': 'left',\n",
       "  'cluster_id': 856},\n",
       " {'id': 2883,\n",
       "  'title': 'symantec 11859201 be sys recovery 7 . 0 win sbs ed media cd m / l',\n",
       "  'manufacturer': '',\n",
       "  'price': '31 . 98',\n",
       "  'source': 'right',\n",
       "  'cluster_id': 856})"
      ]
     },
     "metadata": {},
     "output_type": "display_data"
    },
    {
     "data": {
      "text/plain": [
       "(0.6735246,\n",
       " {'id': 531,\n",
       "  'title': 'microsoft windows server 2003 client additional license for users - 5 pack',\n",
       "  'manufacturer': 'microsoft',\n",
       "  'price': '809 . 0',\n",
       "  'source': 'left',\n",
       "  'cluster_id': 907},\n",
       " {'id': 3876,\n",
       "  'title': 'microsoft r18 - 00908 windows server 2003 client access license 20 - pack ( per user )',\n",
       "  'manufacturer': 'microsoft',\n",
       "  'price': '688 . 99',\n",
       "  'source': 'right',\n",
       "  'cluster_id': 907})"
      ]
     },
     "metadata": {},
     "output_type": "display_data"
    },
    {
     "data": {
      "text/plain": [
       "(0.58786845,\n",
       " {'id': 1096,\n",
       "  'title': 'apple remote desktop 2 . 2 10 client ( old version )',\n",
       "  'manufacturer': 'apple',\n",
       "  'price': '299 . 0',\n",
       "  'source': 'left',\n",
       "  'cluster_id': 1026},\n",
       " {'id': 2714,\n",
       "  'title': 'apple software m9953z / a remote desktop 2 . 2 10 client',\n",
       "  'manufacturer': 'apple software',\n",
       "  'price': '294 . 99',\n",
       "  'source': 'right',\n",
       "  'cluster_id': 1026})"
      ]
     },
     "metadata": {},
     "output_type": "display_data"
    },
    {
     "data": {
      "text/plain": [
       "(0.14553905,\n",
       " {'id': 1099,\n",
       "  'title': 'webroot spysweeper antispyware 3 user',\n",
       "  'manufacturer': 'webroot software',\n",
       "  'price': '39 . 99',\n",
       "  'source': 'left',\n",
       "  'cluster_id': 951},\n",
       " {'id': 2130,\n",
       "  'title': 'webroot software 65210 spy sweeper 3 pc',\n",
       "  'manufacturer': 'webroot software',\n",
       "  'price': '31 . 99',\n",
       "  'source': 'right',\n",
       "  'cluster_id': 951})"
      ]
     },
     "metadata": {},
     "output_type": "display_data"
    },
    {
     "data": {
      "text/plain": [
       "(0.67527014,\n",
       " {'id': 844,\n",
       "  'title': 'now up - to - date & contact v5 . 0 ( mac )',\n",
       "  'manufacturer': 'now software',\n",
       "  'price': '',\n",
       "  'source': 'left',\n",
       "  'cluster_id': 917},\n",
       " {'id': 3826,\n",
       "  'title': 'now software num50e1r up - to - date & contact v . 5 . 0 complete product contact management 1 user ( s ) complete product standard mac',\n",
       "  'manufacturer': '',\n",
       "  'price': '107 . 97',\n",
       "  'source': 'right',\n",
       "  'cluster_id': 917})"
      ]
     },
     "metadata": {},
     "output_type": "display_data"
    },
    {
     "data": {
      "text/plain": [
       "(0.6583114,\n",
       " {'id': 273,\n",
       "  'title': 'quickbooks credit card processing kit 3 . 0',\n",
       "  'manufacturer': 'intuit',\n",
       "  'price': '39 . 95',\n",
       "  'source': 'left',\n",
       "  'cluster_id': 968},\n",
       " {'id': 1371,\n",
       "  'title': 'qb credit card kit 3 . 0',\n",
       "  'manufacturer': 'intuit',\n",
       "  'price': '25 . 99',\n",
       "  'source': 'right',\n",
       "  'cluster_id': 968})"
      ]
     },
     "metadata": {},
     "output_type": "display_data"
    }
   ],
   "source": [
    "for (id_left, id_right) in false_negatives[:10]:\n",
    "    display(\n",
    "        (\n",
    "            cos_similarity(test_left_vector_dict[id_left], test_right_vector_dict[id_right]),\n",
    "            row_dict[id_left], row_dict[id_right]\n",
    "        )\n",
    "    )"
   ]
  }
 ],
 "metadata": {
  "kernelspec": {
   "display_name": "Python 3",
   "language": "python",
   "name": "python3"
  },
  "language_info": {
   "codemirror_mode": {
    "name": "ipython",
    "version": 3
   },
   "file_extension": ".py",
   "mimetype": "text/x-python",
   "name": "python",
   "nbconvert_exporter": "python",
   "pygments_lexer": "ipython3",
   "version": "3.8.6"
  }
 },
 "nbformat": 4,
 "nbformat_minor": 4
}
