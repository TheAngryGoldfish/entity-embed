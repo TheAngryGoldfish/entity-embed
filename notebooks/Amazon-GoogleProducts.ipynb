{
 "cells": [
  {
   "cell_type": "markdown",
   "metadata": {},
   "source": [
    "## Load Dataset"
   ]
  },
  {
   "cell_type": "code",
   "execution_count": 1,
   "metadata": {},
   "outputs": [],
   "source": [
    "%load_ext autoreload\n",
    "%autoreload 2"
   ]
  },
  {
   "cell_type": "code",
   "execution_count": 2,
   "metadata": {},
   "outputs": [],
   "source": [
    "from importlib import reload\n",
    "import logging\n",
    "reload(logging)\n",
    "logging.basicConfig(format='%(asctime)s %(levelname)s:%(message)s', level=logging.INFO, datefmt='%H:%M:%S')"
   ]
  },
  {
   "cell_type": "code",
   "execution_count": 3,
   "metadata": {},
   "outputs": [],
   "source": [
    "# libgomp issue, must import n2 before torch\n",
    "from n2 import HnswIndex"
   ]
  },
  {
   "cell_type": "code",
   "execution_count": 4,
   "metadata": {},
   "outputs": [],
   "source": [
    "import sys\n",
    "\n",
    "sys.path.insert(0, '..')"
   ]
  },
  {
   "cell_type": "code",
   "execution_count": 5,
   "metadata": {},
   "outputs": [],
   "source": [
    "import os\n",
    "home_dir = os.getenv('HOME')"
   ]
  },
  {
   "cell_type": "markdown",
   "metadata": {},
   "source": [
    "https://dbs.uni-leipzig.de/research/projects/object_matching/benchmark_datasets_for_entity_resolution"
   ]
  },
  {
   "cell_type": "code",
   "execution_count": 6,
   "metadata": {},
   "outputs": [],
   "source": [
    "from collections import defaultdict\n",
    "import itertools\n",
    "\n",
    "def Enumerator(start=0, initial=()):\n",
    "    return defaultdict(itertools.count(start).__next__, initial)"
   ]
  },
  {
   "cell_type": "code",
   "execution_count": 7,
   "metadata": {},
   "outputs": [
    {
     "data": {
      "application/vnd.jupyter.widget-view+json": {
       "model_id": "a1d63ba7abd349409b319ebeb940e043",
       "version_major": 2,
       "version_minor": 0
      },
      "text/plain": [
       "HBox(children=(HTML(value=''), FloatProgress(value=0.0, max=4589.0), HTML(value='')))"
      ]
     },
     "metadata": {},
     "output_type": "display_data"
    },
    {
     "name": "stdout",
     "output_type": "stream",
     "text": [
      "\n"
     ]
    }
   ],
   "source": [
    "import glob\n",
    "import csv\n",
    "from tqdm.auto import tqdm\n",
    "\n",
    "id_enumerator = Enumerator()\n",
    "row_dict = {}\n",
    "left_id_set = set()\n",
    "right_id_set = set()\n",
    "rows_total = 1363 + 3226\n",
    "clusters_total = 1300\n",
    "\n",
    "with tqdm(total=rows_total) as pbar:\n",
    "    with open(f'{home_dir}/Downloads//Amazon-GoogleProducts/Amazon.csv', encoding=\"latin1\") as f:\n",
    "        for row in csv.DictReader(f):\n",
    "            row['id'] = id_enumerator[row[\"id\"]]\n",
    "            row['name'] = row.pop('title')\n",
    "            row['source'] = 'google'\n",
    "            row_dict[row['id']] = row\n",
    "            left_id_set.add(row['id'])\n",
    "            pbar.update(1)\n",
    "    \n",
    "    with open(f'{home_dir}/Downloads/Amazon-GoogleProducts/GoogleProducts.csv', encoding=\"latin1\") as f:\n",
    "        for row in csv.DictReader(f):\n",
    "            row['id'] = id_enumerator[row[\"id\"]]\n",
    "            row['source'] = 'amazon'\n",
    "            row_dict[row['id']] = row\n",
    "            right_id_set.add(row['id'])\n",
    "            pbar.update(1)"
   ]
  },
  {
   "cell_type": "code",
   "execution_count": 8,
   "metadata": {},
   "outputs": [
    {
     "data": {
      "text/plain": [
       "1300"
      ]
     },
     "execution_count": 8,
     "metadata": {},
     "output_type": "execute_result"
    }
   ],
   "source": [
    "true_pair_set = set()\n",
    "\n",
    "with open(f'{home_dir}/Downloads/Amazon-GoogleProducts/Amzon_GoogleProducts_perfectMapping.csv') as f:\n",
    "    for row in csv.DictReader(f):\n",
    "        id_left = id_enumerator[row['idAmazon']]\n",
    "        id_right = id_enumerator[row['idGoogleBase']]\n",
    "        true_pair_set.add(tuple(sorted([id_left, id_right])))\n",
    "\n",
    "len(true_pair_set)"
   ]
  },
  {
   "cell_type": "code",
   "execution_count": 9,
   "metadata": {},
   "outputs": [
    {
     "data": {
      "text/plain": [
       "2404"
      ]
     },
     "execution_count": 9,
     "metadata": {},
     "output_type": "execute_result"
    }
   ],
   "source": [
    "from entity_embed.data_utils.utils import id_pairs_to_cluster_mapping_and_dict\n",
    "\n",
    "cluster_mapping, cluster_dict = id_pairs_to_cluster_mapping_and_dict(true_pair_set)\n",
    "len(cluster_mapping)"
   ]
  },
  {
   "cell_type": "code",
   "execution_count": 10,
   "metadata": {},
   "outputs": [
    {
     "data": {
      "text/plain": [
       "1105"
      ]
     },
     "execution_count": 10,
     "metadata": {},
     "output_type": "execute_result"
    }
   ],
   "source": [
    "len(cluster_dict)"
   ]
  },
  {
   "cell_type": "code",
   "execution_count": 11,
   "metadata": {},
   "outputs": [],
   "source": [
    "# TODO: deal with this difference\n",
    "# from entity_embed.data_utils.utils import cluster_dict_to_id_pairs\n",
    "\n",
    "# assert len(true_pair_set - cluster_dict_to_id_pairs(cluster_dict)) == 0"
   ]
  },
  {
   "cell_type": "code",
   "execution_count": 12,
   "metadata": {},
   "outputs": [
    {
     "data": {
      "application/vnd.jupyter.widget-view+json": {
       "model_id": "c4d55e1e47da4035b27616255e5e4e9b",
       "version_major": 2,
       "version_minor": 0
      },
      "text/plain": [
       "HBox(children=(HTML(value=''), FloatProgress(value=0.0, max=4589.0), HTML(value='')))"
      ]
     },
     "metadata": {},
     "output_type": "display_data"
    },
    {
     "name": "stdout",
     "output_type": "stream",
     "text": [
      "\n"
     ]
    }
   ],
   "source": [
    "cluster_attr = 'cluster_id'\n",
    "max_cluster_id = max(cluster_mapping.values())\n",
    "\n",
    "for row_id, row in tqdm(row_dict.items()):\n",
    "    try:\n",
    "        row[cluster_attr] = cluster_mapping[row_id]\n",
    "    except KeyError:\n",
    "        row[cluster_attr] = max_cluster_id\n",
    "        max_cluster_id += 1"
   ]
  },
  {
   "cell_type": "code",
   "execution_count": 13,
   "metadata": {},
   "outputs": [
    {
     "data": {
      "text/plain": [
       "[{'id': 938,\n",
       "  'description': 'improve your typing skills today! typing instructor deluxe has a progressive design that has been developed for over 19 years. typing instructor deluxe can provide the right lessons tests strengthening exercises practice material and typing games for your skill level. you can even build your own personal typing plan to focus on specific areas you would like to improve. if you think learning has to be all hard work and no fun think again! for beginning to advanced typists kids to adults typing instructor deluxe will motivate you to improve your typing speed and accuracy using a travel theme and exciting typing challenges.educates entertains and motivates: choose from many typing plans or build your ownnavigate easily and choose your typing materialnew! dynamic learning methodsave your results and reports to track progresslearn voice-touch typing (dictation)3 unique travel themescolorful photos and musicten exciting games300+ magazine articles',\n",
       "  'manufacturer': 'individual software',\n",
       "  'price': '9.99',\n",
       "  'name': 'typing instructor deluxe (jewel case)',\n",
       "  'source': 'google',\n",
       "  'cluster_id': 938},\n",
       " {'id': 2238,\n",
       "  'name': 'individual software inc typing instructor deluxe j/c',\n",
       "  'description': 'for all ages typing instructor deluxe is targeted to pc users at every level who want to learn how to touch type. incluees 3 travel themes dynamic typing tests new multi-level games and custom personalization. system requiremen',\n",
       "  'manufacturer': '',\n",
       "  'price': '6.84',\n",
       "  'source': 'amazon',\n",
       "  'cluster_id': 938}]"
      ]
     },
     "execution_count": 13,
     "metadata": {},
     "output_type": "execute_result"
    }
   ],
   "source": [
    "[row_dict[row_id] for row_id in next(iter(true_pair_set))]"
   ]
  },
  {
   "cell_type": "markdown",
   "metadata": {},
   "source": [
    "## Preprocess"
   ]
  },
  {
   "cell_type": "code",
   "execution_count": 14,
   "metadata": {},
   "outputs": [],
   "source": [
    "attr_list = ['name', 'description', 'manufacturer', 'price']"
   ]
  },
  {
   "cell_type": "code",
   "execution_count": 15,
   "metadata": {},
   "outputs": [
    {
     "data": {
      "application/vnd.jupyter.widget-view+json": {
       "model_id": "9054d8df8be04f7d955a523776539822",
       "version_major": 2,
       "version_minor": 0
      },
      "text/plain": [
       "HBox(children=(HTML(value=''), FloatProgress(value=0.0, max=4589.0), HTML(value='')))"
      ]
     },
     "metadata": {},
     "output_type": "display_data"
    },
    {
     "name": "stdout",
     "output_type": "stream",
     "text": [
      "\n"
     ]
    }
   ],
   "source": [
    "import unidecode\n",
    "from entity_embed.data_utils.one_hot_encoders import default_tokenizer\n",
    "\n",
    "def clean_str(s):\n",
    "    s = unidecode.unidecode(s).lower().strip()\n",
    "    s_tokens = itertools.islice((s_part[:30] for s_part in default_tokenizer(s)), 0, 30)\n",
    "    return ' '.join(s_tokens)[:300]\n",
    "\n",
    "for row in tqdm(row_dict.values()):\n",
    "    for attr in attr_list:\n",
    "        row[attr] = clean_str(row[attr])"
   ]
  },
  {
   "cell_type": "markdown",
   "metadata": {},
   "source": [
    "## Init Data Module"
   ]
  },
  {
   "cell_type": "code",
   "execution_count": 16,
   "metadata": {},
   "outputs": [],
   "source": [
    "import torch\n",
    "import numpy as np\n",
    "\n",
    "random_seed = 42\n",
    "torch.manual_seed(random_seed)\n",
    "np.random.seed(random_seed)"
   ]
  },
  {
   "cell_type": "code",
   "execution_count": 17,
   "metadata": {},
   "outputs": [],
   "source": [
    "alphabet = list('0123456789abcdefghijklmnopqrstuvwxyz!\"#$%&\\'()*+,-./:;<=>?@[\\\\]^_`{|}~ ')"
   ]
  },
  {
   "cell_type": "code",
   "execution_count": 18,
   "metadata": {},
   "outputs": [],
   "source": [
    "attr_info_dict = {\n",
    "    'name': {\n",
    "        'is_multitoken': True,\n",
    "        'tokenizer': default_tokenizer,\n",
    "        'alphabet': alphabet,\n",
    "        'max_str_len': None,  # compute\n",
    "    },\n",
    "    'description': {\n",
    "        'is_multitoken': True,\n",
    "        'tokenizer': default_tokenizer,\n",
    "        'alphabet': alphabet,\n",
    "        'max_str_len': None,  # compute\n",
    "    },\n",
    "    'manufacturer': {\n",
    "        'is_multitoken': True,\n",
    "        'tokenizer': default_tokenizer,\n",
    "        'alphabet': alphabet,\n",
    "        'max_str_len': None,  # compute\n",
    "    },\n",
    "    'price': {\n",
    "        'is_multitoken': False,\n",
    "        'tokenizer': None,\n",
    "        'alphabet': alphabet,  # compute\n",
    "        'max_str_len': None,  # compute\n",
    "    }\n",
    "}"
   ]
  },
  {
   "cell_type": "code",
   "execution_count": 19,
   "metadata": {},
   "outputs": [
    {
     "name": "stderr",
     "output_type": "stream",
     "text": [
      "19:56:25 INFO:For attr='name', computing actual alphabet and max_str_len\n",
      "19:56:25 INFO:For attr='name', using actual_max_str_len=26\n",
      "19:56:25 INFO:For attr='description', computing actual alphabet and max_str_len\n",
      "19:56:26 INFO:actual_max_str_len=29 must be pair to enable NN pooling. Updating to 30\n",
      "19:56:26 INFO:For attr='description', using actual_max_str_len=30\n",
      "19:56:26 INFO:For attr='manufacturer', computing actual alphabet and max_str_len\n",
      "19:56:26 INFO:actual_max_str_len=15 must be pair to enable NN pooling. Updating to 16\n",
      "19:56:26 INFO:For attr='manufacturer', using actual_max_str_len=16\n",
      "19:56:26 INFO:For attr='price', computing actual alphabet and max_str_len\n",
      "19:56:26 INFO:For attr='price', using actual_max_str_len=14\n"
     ]
    },
    {
     "data": {
      "text/plain": [
       "{'name': OneHotEncodingInfo(is_multitoken=True, tokenizer=<function default_tokenizer at 0x7f6076f38d30>, alphabet=['0', '1', '2', '3', '4', '5', '6', '7', '8', '9', 'a', 'b', 'c', 'd', 'e', 'f', 'g', 'h', 'i', 'j', 'k', 'l', 'm', 'n', 'o', 'p', 'q', 'r', 's', 't', 'u', 'v', 'w', 'x', 'y', 'z', '!', '\"', '#', '$', '%', '&', \"'\", '(', ')', '*', '+', ',', '-', '.', '/', ':', ';', '<', '=', '>', '?', '@', '[', '\\\\', ']', '^', '_', '`', '{', '|', '}', '~', ' '], max_str_len=26),\n",
       " 'description': OneHotEncodingInfo(is_multitoken=True, tokenizer=<function default_tokenizer at 0x7f6076f38d30>, alphabet=['0', '1', '2', '3', '4', '5', '6', '7', '8', '9', 'a', 'b', 'c', 'd', 'e', 'f', 'g', 'h', 'i', 'j', 'k', 'l', 'm', 'n', 'o', 'p', 'q', 'r', 's', 't', 'u', 'v', 'w', 'x', 'y', 'z', '!', '\"', '#', '$', '%', '&', \"'\", '(', ')', '*', '+', ',', '-', '.', '/', ':', ';', '<', '=', '>', '?', '@', '[', '\\\\', ']', '^', '_', '`', '{', '|', '}', '~', ' '], max_str_len=30),\n",
       " 'manufacturer': OneHotEncodingInfo(is_multitoken=True, tokenizer=<function default_tokenizer at 0x7f6076f38d30>, alphabet=['0', '1', '2', '3', '4', '5', '6', '7', '8', '9', 'a', 'b', 'c', 'd', 'e', 'f', 'g', 'h', 'i', 'j', 'k', 'l', 'm', 'n', 'o', 'p', 'q', 'r', 's', 't', 'u', 'v', 'w', 'x', 'y', 'z', '!', '\"', '#', '$', '%', '&', \"'\", '(', ')', '*', '+', ',', '-', '.', '/', ':', ';', '<', '=', '>', '?', '@', '[', '\\\\', ']', '^', '_', '`', '{', '|', '}', '~', ' '], max_str_len=16),\n",
       " 'price': OneHotEncodingInfo(is_multitoken=False, tokenizer=None, alphabet=['0', '1', '2', '3', '4', '5', '6', '7', '8', '9', 'a', 'b', 'c', 'd', 'e', 'f', 'g', 'h', 'i', 'j', 'k', 'l', 'm', 'n', 'o', 'p', 'q', 'r', 's', 't', 'u', 'v', 'w', 'x', 'y', 'z', '!', '\"', '#', '$', '%', '&', \"'\", '(', ')', '*', '+', ',', '-', '.', '/', ':', ';', '<', '=', '>', '?', '@', '[', '\\\\', ']', '^', '_', '`', '{', '|', '}', '~', ' '], max_str_len=14)}"
      ]
     },
     "execution_count": 19,
     "metadata": {},
     "output_type": "execute_result"
    }
   ],
   "source": [
    "from entity_embed import build_row_encoder\n",
    "\n",
    "row_encoder = build_row_encoder(attr_info_dict, row_dict=row_dict)\n",
    "row_encoder.attr_info_dict"
   ]
  },
  {
   "cell_type": "code",
   "execution_count": 20,
   "metadata": {},
   "outputs": [],
   "source": [
    "from entity_embed import LinkageDataModule\n",
    "\n",
    "train_cluster_len = 500\n",
    "valid_cluster_len = 500\n",
    "datamodule = LinkageDataModule(\n",
    "    row_dict=row_dict,\n",
    "    cluster_attr=cluster_attr,\n",
    "    row_encoder=row_encoder,\n",
    "    pos_pair_batch_size=45,\n",
    "    neg_pair_batch_size=1225,\n",
    "    row_batch_size=16,\n",
    "    train_cluster_len=train_cluster_len,\n",
    "    valid_cluster_len=valid_cluster_len,\n",
    "    test_cluster_len=clusters_total - valid_cluster_len - train_cluster_len,\n",
    "    only_plural_clusters=True,\n",
    "    left_id_set=left_id_set,\n",
    "    right_id_set=right_id_set,\n",
    "    log_empty_vals=False,\n",
    "    random_seed=random_seed\n",
    ")"
   ]
  },
  {
   "cell_type": "markdown",
   "metadata": {},
   "source": [
    "## Training"
   ]
  },
  {
   "cell_type": "code",
   "execution_count": 21,
   "metadata": {},
   "outputs": [],
   "source": [
    "from entity_embed import LinkageEmbed\n",
    "\n",
    "ann_k = 100\n",
    "sim_threshold = 0.3\n",
    "model = LinkageEmbed(\n",
    "    datamodule,\n",
    "    ann_k=ann_k,\n",
    "    sim_threshold=sim_threshold,\n",
    "    use_mask=True\n",
    ")"
   ]
  },
  {
   "cell_type": "code",
   "execution_count": 22,
   "metadata": {
    "scrolled": false
   },
   "outputs": [
    {
     "name": "stderr",
     "output_type": "stream",
     "text": [
      "19:56:26 INFO:GPU available: True, used: True\n",
      "19:56:26 INFO:TPU available: None, using: 0 TPU cores\n",
      "19:56:26 INFO:LOCAL_RANK: 0 - CUDA_VISIBLE_DEVICES: [0]\n"
     ]
    }
   ],
   "source": [
    "import pytorch_lightning as pl\n",
    "from pytorch_lightning.callbacks.early_stopping import EarlyStopping\n",
    "from pytorch_lightning.loggers import TensorBoardLogger\n",
    "\n",
    "max_epochs = 50\n",
    "early_stop_callback = EarlyStopping(\n",
    "   monitor='valid_recall',\n",
    "   min_delta=0.00,\n",
    "   patience=10,\n",
    "   verbose=True,\n",
    "   mode='max'\n",
    ")\n",
    "tb_log_dir = 'tb_logs'\n",
    "tb_name = 'amzn-googl'\n",
    "trainer = pl.Trainer(\n",
    "    gpus=1,\n",
    "    max_epochs=max_epochs,\n",
    "    check_val_every_n_epoch=1,\n",
    "    callbacks=[early_stop_callback],\n",
    "    logger=TensorBoardLogger(tb_log_dir, name=tb_name)\n",
    ")"
   ]
  },
  {
   "cell_type": "code",
   "execution_count": 23,
   "metadata": {},
   "outputs": [
    {
     "name": "stderr",
     "output_type": "stream",
     "text": [
      "19:56:26 INFO:Train pair count: 735\n",
      "19:56:26 INFO:Valid pair count: 687\n",
      "19:56:26 INFO:Test pair count: 133\n",
      "19:56:28 INFO:\n",
      "  | Name        | Type           | Params\n",
      "-----------------------------------------------\n",
      "0 | blocker_net | BlockerNet     | 3.3 M \n",
      "1 | losser      | NTXentLoss     | 0     \n",
      "2 | miner       | BatchHardMiner | 0     \n",
      "-----------------------------------------------\n",
      "3.3 M     Trainable params\n",
      "0         Non-trainable params\n",
      "3.3 M     Total params\n"
     ]
    },
    {
     "data": {
      "application/vnd.jupyter.widget-view+json": {
       "model_id": "",
       "version_major": 2,
       "version_minor": 0
      },
      "text/plain": [
       "HBox(children=(HTML(value='Validation sanity check'), FloatProgress(value=1.0, bar_style='info', layout=Layout…"
      ]
     },
     "metadata": {},
     "output_type": "display_data"
    },
    {
     "data": {
      "application/vnd.jupyter.widget-view+json": {
       "model_id": "189b5f3f96184d76bdd95a2b6ed67953",
       "version_major": 2,
       "version_minor": 0
      },
      "text/plain": [
       "HBox(children=(HTML(value='Training'), FloatProgress(value=1.0, bar_style='info', layout=Layout(flex='2'), max…"
      ]
     },
     "metadata": {},
     "output_type": "display_data"
    },
    {
     "data": {
      "application/vnd.jupyter.widget-view+json": {
       "model_id": "",
       "version_major": 2,
       "version_minor": 0
      },
      "text/plain": [
       "HBox(children=(HTML(value='Validating'), FloatProgress(value=1.0, bar_style='info', layout=Layout(flex='2'), m…"
      ]
     },
     "metadata": {},
     "output_type": "display_data"
    },
    {
     "data": {
      "application/vnd.jupyter.widget-view+json": {
       "model_id": "",
       "version_major": 2,
       "version_minor": 0
      },
      "text/plain": [
       "HBox(children=(HTML(value='Validating'), FloatProgress(value=1.0, bar_style='info', layout=Layout(flex='2'), m…"
      ]
     },
     "metadata": {},
     "output_type": "display_data"
    },
    {
     "data": {
      "application/vnd.jupyter.widget-view+json": {
       "model_id": "",
       "version_major": 2,
       "version_minor": 0
      },
      "text/plain": [
       "HBox(children=(HTML(value='Validating'), FloatProgress(value=1.0, bar_style='info', layout=Layout(flex='2'), m…"
      ]
     },
     "metadata": {},
     "output_type": "display_data"
    },
    {
     "data": {
      "application/vnd.jupyter.widget-view+json": {
       "model_id": "",
       "version_major": 2,
       "version_minor": 0
      },
      "text/plain": [
       "HBox(children=(HTML(value='Validating'), FloatProgress(value=1.0, bar_style='info', layout=Layout(flex='2'), m…"
      ]
     },
     "metadata": {},
     "output_type": "display_data"
    },
    {
     "data": {
      "application/vnd.jupyter.widget-view+json": {
       "model_id": "",
       "version_major": 2,
       "version_minor": 0
      },
      "text/plain": [
       "HBox(children=(HTML(value='Validating'), FloatProgress(value=1.0, bar_style='info', layout=Layout(flex='2'), m…"
      ]
     },
     "metadata": {},
     "output_type": "display_data"
    },
    {
     "data": {
      "application/vnd.jupyter.widget-view+json": {
       "model_id": "",
       "version_major": 2,
       "version_minor": 0
      },
      "text/plain": [
       "HBox(children=(HTML(value='Validating'), FloatProgress(value=1.0, bar_style='info', layout=Layout(flex='2'), m…"
      ]
     },
     "metadata": {},
     "output_type": "display_data"
    },
    {
     "data": {
      "application/vnd.jupyter.widget-view+json": {
       "model_id": "",
       "version_major": 2,
       "version_minor": 0
      },
      "text/plain": [
       "HBox(children=(HTML(value='Validating'), FloatProgress(value=1.0, bar_style='info', layout=Layout(flex='2'), m…"
      ]
     },
     "metadata": {},
     "output_type": "display_data"
    },
    {
     "data": {
      "application/vnd.jupyter.widget-view+json": {
       "model_id": "",
       "version_major": 2,
       "version_minor": 0
      },
      "text/plain": [
       "HBox(children=(HTML(value='Validating'), FloatProgress(value=1.0, bar_style='info', layout=Layout(flex='2'), m…"
      ]
     },
     "metadata": {},
     "output_type": "display_data"
    },
    {
     "data": {
      "application/vnd.jupyter.widget-view+json": {
       "model_id": "",
       "version_major": 2,
       "version_minor": 0
      },
      "text/plain": [
       "HBox(children=(HTML(value='Validating'), FloatProgress(value=1.0, bar_style='info', layout=Layout(flex='2'), m…"
      ]
     },
     "metadata": {},
     "output_type": "display_data"
    },
    {
     "data": {
      "application/vnd.jupyter.widget-view+json": {
       "model_id": "",
       "version_major": 2,
       "version_minor": 0
      },
      "text/plain": [
       "HBox(children=(HTML(value='Validating'), FloatProgress(value=1.0, bar_style='info', layout=Layout(flex='2'), m…"
      ]
     },
     "metadata": {},
     "output_type": "display_data"
    },
    {
     "data": {
      "application/vnd.jupyter.widget-view+json": {
       "model_id": "",
       "version_major": 2,
       "version_minor": 0
      },
      "text/plain": [
       "HBox(children=(HTML(value='Validating'), FloatProgress(value=1.0, bar_style='info', layout=Layout(flex='2'), m…"
      ]
     },
     "metadata": {},
     "output_type": "display_data"
    },
    {
     "data": {
      "application/vnd.jupyter.widget-view+json": {
       "model_id": "",
       "version_major": 2,
       "version_minor": 0
      },
      "text/plain": [
       "HBox(children=(HTML(value='Validating'), FloatProgress(value=1.0, bar_style='info', layout=Layout(flex='2'), m…"
      ]
     },
     "metadata": {},
     "output_type": "display_data"
    },
    {
     "data": {
      "application/vnd.jupyter.widget-view+json": {
       "model_id": "",
       "version_major": 2,
       "version_minor": 0
      },
      "text/plain": [
       "HBox(children=(HTML(value='Validating'), FloatProgress(value=1.0, bar_style='info', layout=Layout(flex='2'), m…"
      ]
     },
     "metadata": {},
     "output_type": "display_data"
    },
    {
     "data": {
      "application/vnd.jupyter.widget-view+json": {
       "model_id": "",
       "version_major": 2,
       "version_minor": 0
      },
      "text/plain": [
       "HBox(children=(HTML(value='Validating'), FloatProgress(value=1.0, bar_style='info', layout=Layout(flex='2'), m…"
      ]
     },
     "metadata": {},
     "output_type": "display_data"
    },
    {
     "name": "stdout",
     "output_type": "stream",
     "text": [
      "\n"
     ]
    },
    {
     "data": {
      "text/plain": [
       "1"
      ]
     },
     "execution_count": 23,
     "metadata": {},
     "output_type": "execute_result"
    }
   ],
   "source": [
    "trainer.fit(model, datamodule)"
   ]
  },
  {
   "cell_type": "code",
   "execution_count": 24,
   "metadata": {},
   "outputs": [
    {
     "data": {
      "text/plain": [
       "{'name': 0.3102123737335205,\n",
       " 'description': 0.24755840003490448,\n",
       " 'manufacturer': 0.2097456306219101,\n",
       " 'price': 0.23248353600502014}"
      ]
     },
     "execution_count": 24,
     "metadata": {},
     "output_type": "execute_result"
    }
   ],
   "source": [
    "model.blocker_net.get_signature_weights()"
   ]
  },
  {
   "cell_type": "markdown",
   "metadata": {},
   "source": [
    "## Testing"
   ]
  },
  {
   "cell_type": "code",
   "execution_count": 25,
   "metadata": {},
   "outputs": [
    {
     "name": "stderr",
     "output_type": "stream",
     "text": [
      "19:57:39 INFO:Train pair count: 735\n",
      "19:57:39 INFO:Valid pair count: 687\n",
      "19:57:39 INFO:Test pair count: 133\n"
     ]
    },
    {
     "data": {
      "application/vnd.jupyter.widget-view+json": {
       "model_id": "edefc14cf33146fa8f6023cb60fdb2d7",
       "version_major": 2,
       "version_minor": 0
      },
      "text/plain": [
       "HBox(children=(HTML(value='Testing'), FloatProgress(value=1.0, bar_style='info', layout=Layout(flex='2'), max=…"
      ]
     },
     "metadata": {},
     "output_type": "display_data"
    },
    {
     "name": "stdout",
     "output_type": "stream",
     "text": [
      "\n",
      "--------------------------------------------------------------------------------\n",
      "DATALOADER:0 TEST RESULTS\n",
      "{'test_f1': 0.29389788293897884,\n",
      " 'test_pair_entity_ratio': 3.071748878923767,\n",
      " 'test_precision': 0.17226277372262774,\n",
      " 'test_recall': 1.0}\n",
      "--------------------------------------------------------------------------------\n"
     ]
    },
    {
     "data": {
      "text/plain": [
       "[{'test_precision': 0.17226277372262774,\n",
       "  'test_recall': 1.0,\n",
       "  'test_f1': 0.29389788293897884,\n",
       "  'test_pair_entity_ratio': 3.071748878923767}]"
      ]
     },
     "execution_count": 25,
     "metadata": {},
     "output_type": "execute_result"
    }
   ],
   "source": [
    "trainer.test(ckpt_path='best')"
   ]
  },
  {
   "cell_type": "markdown",
   "metadata": {},
   "source": [
    "## Testing manually "
   ]
  },
  {
   "cell_type": "code",
   "execution_count": 26,
   "metadata": {},
   "outputs": [],
   "source": [
    "# Only call this if test above wasn't run\n",
    "# datamodule.setup(stage='test')"
   ]
  },
  {
   "cell_type": "code",
   "execution_count": 27,
   "metadata": {},
   "outputs": [
    {
     "data": {
      "application/vnd.jupyter.widget-view+json": {
       "model_id": "a0e4564598414304b73364c3eb0cca53",
       "version_major": 2,
       "version_minor": 0
      },
      "text/plain": [
       "HBox(children=(HTML(value='# batch embedding'), FloatProgress(value=0.0, max=14.0), HTML(value='')))"
      ]
     },
     "metadata": {},
     "output_type": "display_data"
    },
    {
     "name": "stdout",
     "output_type": "stream",
     "text": [
      "\n"
     ]
    }
   ],
   "source": [
    "test_row_dict = datamodule.test_row_dict\n",
    "test_vector_dict = model.predict(\n",
    "    row_dict=test_row_dict,\n",
    "    batch_size=16\n",
    ")"
   ]
  },
  {
   "cell_type": "code",
   "execution_count": 28,
   "metadata": {},
   "outputs": [],
   "source": [
    "embedding_size = model.blocker_net.embedding_size\n",
    "test_true_pair_set = datamodule.test_true_pair_set"
   ]
  },
  {
   "cell_type": "code",
   "execution_count": 29,
   "metadata": {},
   "outputs": [],
   "source": [
    "assert len(test_vector_dict) == len(test_row_dict)"
   ]
  },
  {
   "cell_type": "code",
   "execution_count": 30,
   "metadata": {
    "scrolled": true
   },
   "outputs": [
    {
     "name": "stdout",
     "output_type": "stream",
     "text": [
      "CPU times: user 308 ms, sys: 0 ns, total: 308 ms\n",
      "Wall time: 33 ms\n"
     ]
    }
   ],
   "source": [
    "%%time\n",
    "\n",
    "from entity_embed import ANNLinkageIndex\n",
    "\n",
    "ann_index = ANNLinkageIndex(embedding_size=embedding_size)\n",
    "test_left_vector_dict, test_right_vector_dict = datamodule.separate_dict_left_right(test_vector_dict)\n",
    "ann_index.insert_vector_dict(left_vector_dict=test_left_vector_dict, right_vector_dict=test_right_vector_dict)\n",
    "ann_index.build()"
   ]
  },
  {
   "cell_type": "code",
   "execution_count": 31,
   "metadata": {},
   "outputs": [
    {
     "name": "stdout",
     "output_type": "stream",
     "text": [
      "CPU times: user 117 ms, sys: 0 ns, total: 117 ms\n",
      "Wall time: 12.5 ms\n"
     ]
    }
   ],
   "source": [
    "%%time\n",
    "\n",
    "found_pair_set = ann_index.search_pairs(\n",
    "    k=ann_k,\n",
    "    sim_threshold=sim_threshold,\n",
    "    left_vector_dict=test_left_vector_dict,\n",
    "    right_vector_dict=test_right_vector_dict,\n",
    ")"
   ]
  },
  {
   "cell_type": "code",
   "execution_count": 32,
   "metadata": {},
   "outputs": [
    {
     "data": {
      "text/plain": [
       "3.071748878923767"
      ]
     },
     "execution_count": 32,
     "metadata": {},
     "output_type": "execute_result"
    }
   ],
   "source": [
    "from entity_embed.evaluation import pair_entity_ratio\n",
    "\n",
    "pair_entity_ratio(len(found_pair_set), len(test_row_dict))"
   ]
  },
  {
   "cell_type": "code",
   "execution_count": 33,
   "metadata": {},
   "outputs": [
    {
     "data": {
      "text/plain": [
       "(0.17226277372262774, 1.0)"
      ]
     },
     "execution_count": 33,
     "metadata": {},
     "output_type": "execute_result"
    }
   ],
   "source": [
    "from entity_embed.evaluation import precision_and_recall\n",
    "\n",
    "precision_and_recall(found_pair_set, test_true_pair_set)"
   ]
  },
  {
   "cell_type": "code",
   "execution_count": 34,
   "metadata": {},
   "outputs": [
    {
     "data": {
      "text/plain": [
       "567"
      ]
     },
     "execution_count": 34,
     "metadata": {},
     "output_type": "execute_result"
    }
   ],
   "source": [
    "false_positives = list(found_pair_set - test_true_pair_set)\n",
    "len(false_positives)"
   ]
  },
  {
   "cell_type": "code",
   "execution_count": 35,
   "metadata": {},
   "outputs": [
    {
     "data": {
      "text/plain": [
       "0"
      ]
     },
     "execution_count": 35,
     "metadata": {},
     "output_type": "execute_result"
    }
   ],
   "source": [
    "false_negatives = list(test_true_pair_set - found_pair_set)\n",
    "len(false_negatives)"
   ]
  },
  {
   "cell_type": "code",
   "execution_count": 36,
   "metadata": {},
   "outputs": [],
   "source": [
    "cos_similarity = lambda a, b: np.dot(a, b)"
   ]
  },
  {
   "cell_type": "code",
   "execution_count": 37,
   "metadata": {},
   "outputs": [],
   "source": [
    "for (id_left, id_right) in false_negatives[:10]:\n",
    "    display(\n",
    "        (\n",
    "            cos_similarity(test_vector_dict[id_left], test_vector_dict[id_right]),\n",
    "            row_dict[id_left], row_dict[id_right]\n",
    "        )\n",
    "    )"
   ]
  },
  {
   "cell_type": "code",
   "execution_count": 38,
   "metadata": {},
   "outputs": [
    {
     "data": {
      "text/plain": [
       "{(8, 1564),\n",
       " (8, 1912),\n",
       " (8, 2066),\n",
       " (8, 2208),\n",
       " (8, 2304),\n",
       " (8, 2339),\n",
       " (8, 3022),\n",
       " (8, 3299),\n",
       " (8, 3691),\n",
       " (17, 1630),\n",
       " (17, 1698),\n",
       " (17, 1954),\n",
       " (17, 3347),\n",
       " (17, 3348),\n",
       " (17, 3881),\n",
       " (23, 1626),\n",
       " (23, 2800),\n",
       " (23, 3018),\n",
       " (23, 3969),\n",
       " (30, 1514),\n",
       " (30, 1677),\n",
       " (30, 1694),\n",
       " (30, 1729),\n",
       " (30, 1791),\n",
       " (30, 1943),\n",
       " (30, 2165),\n",
       " (30, 3026),\n",
       " (30, 3540),\n",
       " (30, 3940),\n",
       " (30, 3969),\n",
       " (38, 1564),\n",
       " (38, 2178),\n",
       " (38, 2208),\n",
       " (38, 2262),\n",
       " (38, 2336),\n",
       " (38, 3421),\n",
       " (45, 2252),\n",
       " (45, 2850),\n",
       " (45, 3423),\n",
       " (45, 3907),\n",
       " (45, 4225),\n",
       " (48, 1564),\n",
       " (48, 1630),\n",
       " (48, 1698),\n",
       " (48, 1762),\n",
       " (48, 1840),\n",
       " (48, 1954),\n",
       " (48, 2046),\n",
       " (48, 2165),\n",
       " (48, 2239),\n",
       " (48, 2946),\n",
       " (48, 2963),\n",
       " (48, 3347),\n",
       " (48, 3437),\n",
       " (50, 1809),\n",
       " (50, 1912),\n",
       " (50, 3421),\n",
       " (50, 3453),\n",
       " (50, 4063),\n",
       " (50, 4132),\n",
       " (50, 4150),\n",
       " (50, 4256),\n",
       " (54, 1801),\n",
       " (54, 1840),\n",
       " (54, 2046),\n",
       " (54, 2322),\n",
       " (54, 2963),\n",
       " (54, 3462),\n",
       " (54, 3466),\n",
       " (54, 4181),\n",
       " (56, 1809),\n",
       " (56, 2178),\n",
       " (56, 2946),\n",
       " (56, 3462),\n",
       " (56, 4063),\n",
       " (56, 4256),\n",
       " (73, 2131),\n",
       " (73, 2928),\n",
       " (73, 3453),\n",
       " (73, 3907),\n",
       " (79, 2117),\n",
       " (79, 2208),\n",
       " (79, 2946),\n",
       " (79, 3808),\n",
       " (79, 4458),\n",
       " (103, 3022),\n",
       " (103, 4201),\n",
       " (105, 2208),\n",
       " (105, 2800),\n",
       " (105, 2838),\n",
       " (105, 3018),\n",
       " (164, 2850),\n",
       " (169, 1522),\n",
       " (169, 1545),\n",
       " (169, 1708),\n",
       " (169, 1732),\n",
       " (169, 1761),\n",
       " (169, 1884),\n",
       " (169, 2131),\n",
       " (169, 2252),\n",
       " (169, 2280),\n",
       " (169, 2864),\n",
       " (169, 3412),\n",
       " (169, 3466),\n",
       " (169, 3982),\n",
       " (176, 1762),\n",
       " (176, 2208),\n",
       " (176, 2838),\n",
       " (176, 3018),\n",
       " (176, 3735),\n",
       " (176, 3881),\n",
       " (176, 4181),\n",
       " (176, 4390),\n",
       " (264, 1626),\n",
       " (264, 1917),\n",
       " (264, 2800),\n",
       " (264, 3969),\n",
       " (265, 1514),\n",
       " (265, 1677),\n",
       " (265, 1694),\n",
       " (265, 1791),\n",
       " (265, 1884),\n",
       " (265, 1943),\n",
       " (265, 3540),\n",
       " (265, 3700),\n",
       " (265, 3735),\n",
       " (265, 4191),\n",
       " (272, 1514),\n",
       " (272, 1552),\n",
       " (272, 1677),\n",
       " (272, 1694),\n",
       " (272, 1791),\n",
       " (272, 1859),\n",
       " (272, 1943),\n",
       " (272, 2319),\n",
       " (272, 3018),\n",
       " (272, 3700),\n",
       " (272, 3735),\n",
       " (272, 4150),\n",
       " (272, 4191),\n",
       " (272, 4392),\n",
       " (316, 2946),\n",
       " (316, 3423),\n",
       " (316, 3881),\n",
       " (316, 4201),\n",
       " (316, 4458),\n",
       " (333, 1514),\n",
       " (333, 1677),\n",
       " (333, 1694),\n",
       " (333, 1729),\n",
       " (333, 1791),\n",
       " (333, 1876),\n",
       " (333, 2254),\n",
       " (333, 3437),\n",
       " (333, 3540),\n",
       " (333, 3940),\n",
       " (333, 4150),\n",
       " (349, 1761),\n",
       " (349, 1876),\n",
       " (349, 2949),\n",
       " (349, 3423),\n",
       " (349, 3907),\n",
       " (349, 4225),\n",
       " (350, 1732),\n",
       " (350, 1884),\n",
       " (350, 2155),\n",
       " (350, 2280),\n",
       " (350, 2322),\n",
       " (350, 2864),\n",
       " (350, 3982),\n",
       " (350, 4181),\n",
       " (350, 4390),\n",
       " (358, 1545),\n",
       " (358, 1732),\n",
       " (358, 1884),\n",
       " (358, 1953),\n",
       " (358, 2272),\n",
       " (358, 4201),\n",
       " (358, 4458),\n",
       " (371, 1710),\n",
       " (371, 1729),\n",
       " (371, 2254),\n",
       " (371, 2453),\n",
       " (371, 3009),\n",
       " (371, 3348),\n",
       " (371, 3528),\n",
       " (371, 3881),\n",
       " (371, 3997),\n",
       " (371, 4392),\n",
       " (374, 1542),\n",
       " (374, 1698),\n",
       " (374, 1729),\n",
       " (374, 1840),\n",
       " (374, 1953),\n",
       " (374, 2065),\n",
       " (374, 2288),\n",
       " (374, 3318),\n",
       " (374, 4178),\n",
       " (374, 4458),\n",
       " (412, 1545),\n",
       " (412, 1732),\n",
       " (412, 1884),\n",
       " (412, 3697),\n",
       " (412, 3700),\n",
       " (412, 4201),\n",
       " (426, 3697),\n",
       " (458, 1708),\n",
       " (458, 1859),\n",
       " (458, 1884),\n",
       " (458, 2280),\n",
       " (458, 2319),\n",
       " (458, 3700),\n",
       " (458, 3735),\n",
       " (458, 3982),\n",
       " (458, 4390),\n",
       " (503, 1592),\n",
       " (503, 1943),\n",
       " (503, 2949),\n",
       " (529, 2131),\n",
       " (529, 2304),\n",
       " (529, 2838),\n",
       " (529, 2963),\n",
       " (529, 3706),\n",
       " (571, 2208),\n",
       " (571, 2280),\n",
       " (571, 2322),\n",
       " (571, 2838),\n",
       " (571, 3022),\n",
       " (571, 3881),\n",
       " (571, 3982),\n",
       " (571, 4181),\n",
       " (571, 4390),\n",
       " (571, 4392),\n",
       " (573, 2453),\n",
       " (573, 3009),\n",
       " (573, 3997),\n",
       " (574, 1552),\n",
       " (574, 2254),\n",
       " (574, 3299),\n",
       " (574, 3528),\n",
       " (574, 3881),\n",
       " (574, 4392),\n",
       " (584, 1886),\n",
       " (584, 2322),\n",
       " (584, 3700),\n",
       " (584, 4181),\n",
       " (584, 4390),\n",
       " (593, 1514),\n",
       " (593, 1677),\n",
       " (593, 1694),\n",
       " (593, 1729),\n",
       " (593, 2453),\n",
       " (593, 2838),\n",
       " (593, 3348),\n",
       " (593, 3881),\n",
       " (593, 3997),\n",
       " (597, 1545),\n",
       " (597, 1677),\n",
       " (597, 1732),\n",
       " (597, 1884),\n",
       " (597, 1943),\n",
       " (597, 2131),\n",
       " (597, 2280),\n",
       " (597, 2864),\n",
       " (597, 2928),\n",
       " (597, 3026),\n",
       " (597, 3700),\n",
       " (597, 3982),\n",
       " (597, 4201),\n",
       " (606, 2254),\n",
       " (606, 3528),\n",
       " (606, 3540),\n",
       " (606, 3881),\n",
       " (606, 4392),\n",
       " (643, 1630),\n",
       " (643, 1698),\n",
       " (643, 1750),\n",
       " (643, 2239),\n",
       " (643, 2288),\n",
       " (643, 2336),\n",
       " (643, 2339),\n",
       " (643, 4458),\n",
       " (652, 1681),\n",
       " (652, 1859),\n",
       " (652, 2178),\n",
       " (652, 3421),\n",
       " (654, 1514),\n",
       " (654, 1677),\n",
       " (654, 1694),\n",
       " (654, 1710),\n",
       " (654, 1791),\n",
       " (654, 1943),\n",
       " (654, 2165),\n",
       " (654, 2254),\n",
       " (654, 2453),\n",
       " (654, 3026),\n",
       " (654, 3540),\n",
       " (654, 3697),\n",
       " (654, 3735),\n",
       " (654, 4191),\n",
       " (656, 1592),\n",
       " (656, 1630),\n",
       " (656, 1762),\n",
       " (656, 1840),\n",
       " (656, 1859),\n",
       " (656, 2046),\n",
       " (656, 2850),\n",
       " (656, 3299),\n",
       " (656, 3437),\n",
       " (656, 3462),\n",
       " (681, 1552),\n",
       " (681, 1630),\n",
       " (681, 1801),\n",
       " (681, 2339),\n",
       " (681, 2963),\n",
       " (681, 3466),\n",
       " (703, 1912),\n",
       " (703, 3540),\n",
       " (703, 3940),\n",
       " (703, 4063),\n",
       " (703, 4132),\n",
       " (703, 4150),\n",
       " (703, 4256),\n",
       " (708, 1767),\n",
       " (708, 3479),\n",
       " (713, 1522),\n",
       " (713, 1542),\n",
       " (713, 1592),\n",
       " (713, 1761),\n",
       " (713, 1917),\n",
       " (713, 2252),\n",
       " (713, 2864),\n",
       " (713, 3423),\n",
       " (713, 4225),\n",
       " (715, 1592),\n",
       " (715, 1630),\n",
       " (715, 1762),\n",
       " (715, 1840),\n",
       " (715, 2046),\n",
       " (715, 2239),\n",
       " (715, 2963),\n",
       " (715, 3437),\n",
       " (715, 3691),\n",
       " (715, 4063),\n",
       " (715, 4256),\n",
       " (716, 1677),\n",
       " (716, 2453),\n",
       " (716, 3022),\n",
       " (716, 3697),\n",
       " (716, 3735),\n",
       " (716, 4191),\n",
       " (719, 1694),\n",
       " (719, 1750),\n",
       " (719, 1809),\n",
       " (719, 2864),\n",
       " (719, 4132),\n",
       " (728, 1681),\n",
       " (728, 1698),\n",
       " (728, 1767),\n",
       " (728, 1801),\n",
       " (728, 2155),\n",
       " (728, 2208),\n",
       " (728, 4178),\n",
       " (728, 4458),\n",
       " (749, 1698),\n",
       " (749, 1708),\n",
       " (749, 2864),\n",
       " (749, 3982),\n",
       " (749, 4458),\n",
       " (751, 1710),\n",
       " (751, 1729),\n",
       " (751, 2165),\n",
       " (751, 2453),\n",
       " (751, 4201),\n",
       " (764, 1750),\n",
       " (764, 1954),\n",
       " (764, 2336),\n",
       " (764, 3299),\n",
       " (764, 3421),\n",
       " (771, 1710),\n",
       " (771, 1729),\n",
       " (771, 1791),\n",
       " (771, 2165),\n",
       " (771, 3940),\n",
       " (784, 1592),\n",
       " (784, 1809),\n",
       " (784, 1876),\n",
       " (784, 3412),\n",
       " (784, 3940),\n",
       " (788, 3009),\n",
       " (788, 3412),\n",
       " (788, 3929),\n",
       " (788, 3997),\n",
       " (836, 1750),\n",
       " (836, 2178),\n",
       " (836, 2336),\n",
       " (836, 3421),\n",
       " (836, 4063),\n",
       " (836, 4132),\n",
       " (836, 4150),\n",
       " (836, 4256),\n",
       " (855, 1552),\n",
       " (855, 1710),\n",
       " (855, 2165),\n",
       " (855, 4392),\n",
       " (867, 1917),\n",
       " (867, 2790),\n",
       " (867, 3847),\n",
       " (868, 1564),\n",
       " (868, 3421),\n",
       " (877, 1558),\n",
       " (877, 1767),\n",
       " (877, 1840),\n",
       " (877, 2046),\n",
       " (877, 2339),\n",
       " (877, 3437),\n",
       " (881, 1522),\n",
       " (881, 2336),\n",
       " (881, 2928),\n",
       " (881, 3421),\n",
       " (881, 3907),\n",
       " (881, 4225),\n",
       " (886, 1552),\n",
       " (886, 1681),\n",
       " (886, 2262),\n",
       " (886, 2838),\n",
       " (886, 3672),\n",
       " (886, 4191),\n",
       " (896, 1522),\n",
       " (896, 1592),\n",
       " (896, 1708),\n",
       " (896, 1761),\n",
       " (896, 1917),\n",
       " (896, 2864),\n",
       " (896, 3412),\n",
       " (896, 3466),\n",
       " (896, 3940),\n",
       " (904, 1515),\n",
       " (925, 1542),\n",
       " (925, 1592),\n",
       " (925, 1761),\n",
       " (925, 1917),\n",
       " (925, 3929),\n",
       " (925, 4178),\n",
       " (940, 1515),\n",
       " (940, 1522),\n",
       " (940, 1698),\n",
       " (940, 1762),\n",
       " (940, 1801),\n",
       " (940, 1840),\n",
       " (940, 2046),\n",
       " (940, 2239),\n",
       " (940, 3289),\n",
       " (940, 3412),\n",
       " (940, 3466),\n",
       " (940, 3691),\n",
       " (947, 1542),\n",
       " (947, 1761),\n",
       " (947, 1886),\n",
       " (947, 2252),\n",
       " (947, 2322),\n",
       " (947, 2864),\n",
       " (947, 3907),\n",
       " (947, 4225),\n",
       " (951, 1514),\n",
       " (951, 1677),\n",
       " (951, 1694),\n",
       " (951, 1710),\n",
       " (951, 1954),\n",
       " (951, 2254),\n",
       " (951, 2453),\n",
       " (951, 3026),\n",
       " (951, 3528),\n",
       " (951, 3881),\n",
       " (951, 4392),\n",
       " (958, 1626),\n",
       " (958, 1917),\n",
       " (958, 2800),\n",
       " (958, 3808),\n",
       " (958, 3969),\n",
       " (981, 1564),\n",
       " (981, 1762),\n",
       " (981, 1767),\n",
       " (981, 1954),\n",
       " (981, 2178),\n",
       " (981, 2208),\n",
       " (981, 2304),\n",
       " (981, 2336),\n",
       " (981, 2838),\n",
       " (981, 3421),\n",
       " (981, 3437),\n",
       " (981, 4390),\n",
       " (1002, 2165),\n",
       " (1002, 3347),\n",
       " (1002, 3540),\n",
       " (1007, 1592),\n",
       " (1007, 1681),\n",
       " (1007, 1750),\n",
       " (1007, 1761),\n",
       " (1007, 2178),\n",
       " (1007, 2336),\n",
       " (1007, 2949),\n",
       " (1007, 3421),\n",
       " (1007, 3462),\n",
       " (1007, 3907),\n",
       " (1007, 4063),\n",
       " (1007, 4256),\n",
       " (1035, 2272),\n",
       " (1035, 3706),\n",
       " (1037, 1732),\n",
       " (1037, 1809),\n",
       " (1037, 1884),\n",
       " (1037, 2131),\n",
       " (1037, 2864),\n",
       " (1037, 3412),\n",
       " (1045, 2066),\n",
       " (1045, 2106),\n",
       " (1045, 2117),\n",
       " (1045, 2928),\n",
       " (1045, 4132),\n",
       " (1069, 1762),\n",
       " (1069, 1809),\n",
       " (1069, 2131),\n",
       " (1069, 3412),\n",
       " (1069, 3929),\n",
       " (1069, 3940),\n",
       " (1090, 2178),\n",
       " (1090, 2208),\n",
       " (1090, 2262),\n",
       " (1090, 2304),\n",
       " (1090, 2336),\n",
       " (1090, 2339),\n",
       " (1090, 3421),\n",
       " (1090, 3907),\n",
       " (1094, 1761),\n",
       " (1094, 2339),\n",
       " (1094, 3299),\n",
       " (1106, 1912),\n",
       " (1106, 2319),\n",
       " (1106, 2949),\n",
       " (1106, 3700),\n",
       " (1106, 3735),\n",
       " (1106, 3982),\n",
       " (1106, 4191),\n",
       " (1115, 2155),\n",
       " (1115, 2252),\n",
       " (1115, 2790),\n",
       " (1115, 2864),\n",
       " (1115, 3318),\n",
       " (1115, 3672),\n",
       " (1115, 3847),\n",
       " (1126, 2178),\n",
       " (1126, 2208),\n",
       " (1126, 2304),\n",
       " (1126, 2336),\n",
       " (1150, 1698),\n",
       " (1150, 1750),\n",
       " (1150, 2288),\n",
       " (1150, 2336),\n",
       " (1150, 2339),\n",
       " (1150, 3421),\n",
       " (1163, 2060),\n",
       " (1163, 2272),\n",
       " (1163, 4201),\n",
       " (1164, 1767),\n",
       " (1164, 1859),\n",
       " (1164, 2838),\n",
       " (1164, 3437),\n",
       " (1164, 3479),\n",
       " (1164, 3700),\n",
       " (1164, 3982),\n",
       " (1164, 4150),\n",
       " (1170, 1732),\n",
       " (1170, 1884),\n",
       " (1170, 2280),\n",
       " (1170, 3519),\n",
       " (1170, 3700),\n",
       " (1170, 3735),\n",
       " (1170, 3982),\n",
       " (1170, 4150),\n",
       " (1173, 2262),\n",
       " (1173, 2272),\n",
       " (1173, 2838),\n",
       " (1173, 3672),\n",
       " (1199, 1545),\n",
       " (1199, 1677),\n",
       " (1199, 1708),\n",
       " (1199, 1732),\n",
       " (1199, 1791),\n",
       " (1199, 1884),\n",
       " (1199, 1943),\n",
       " (1199, 2252),\n",
       " (1199, 2453),\n",
       " (1199, 2949),\n",
       " (1199, 3026),\n",
       " (1199, 3289),\n",
       " (1199, 3423),\n",
       " (1199, 4225),\n",
       " (1203, 1698),\n",
       " (1203, 1750),\n",
       " (1203, 1953),\n",
       " (1203, 2288),\n",
       " (1203, 3423),\n",
       " (1203, 3907),\n",
       " (1214, 1694),\n",
       " (1214, 1809),\n",
       " (1214, 1912),\n",
       " (1214, 2066),\n",
       " (1214, 2117),\n",
       " (1214, 3735),\n",
       " (1214, 4132),\n",
       " (1214, 4150),\n",
       " (1231, 1545),\n",
       " (1231, 1558),\n",
       " (1231, 1677),\n",
       " (1231, 1710),\n",
       " (1231, 1729),\n",
       " (1231, 1791),\n",
       " (1231, 1943),\n",
       " (1231, 3026),\n",
       " (1231, 3289),\n",
       " (1233, 1859),\n",
       " (1233, 1876),\n",
       " (1233, 3018),\n",
       " (1233, 3423),\n",
       " (1233, 3940),\n",
       " (1240, 1514),\n",
       " (1240, 1729),\n",
       " (1240, 2453),\n",
       " (1240, 3009),\n",
       " (1240, 3348),\n",
       " (1240, 3997),\n",
       " (1241, 1681),\n",
       " (1241, 1886),\n",
       " (1241, 2065),\n",
       " (1241, 2252),\n",
       " (1241, 2322),\n",
       " (1241, 4181),\n",
       " (1278, 1708),\n",
       " (1278, 1840),\n",
       " (1278, 1859),\n",
       " (1278, 2319),\n",
       " (1278, 3982),\n",
       " (1278, 4063),\n",
       " (1278, 4132),\n",
       " (1278, 4191),\n",
       " (1278, 4256),\n",
       " (1283, 1840),\n",
       " (1283, 1859),\n",
       " (1283, 2046),\n",
       " (1283, 3700),\n",
       " (1283, 3735),\n",
       " (1290, 2396),\n",
       " (1290, 3348),\n",
       " (1294, 2066),\n",
       " (1294, 3299),\n",
       " (1294, 3691),\n",
       " (1295, 1886),\n",
       " (1295, 2065),\n",
       " (1299, 2060),\n",
       " (1299, 2304),\n",
       " (1299, 2864),\n",
       " (1302, 2106),\n",
       " (1302, 2108),\n",
       " (1303, 2106),\n",
       " (1303, 2108),\n",
       " (1303, 3412),\n",
       " (1319, 1515),\n",
       " (1319, 1558),\n",
       " (1319, 1729),\n",
       " (1319, 1840),\n",
       " (1319, 2046),\n",
       " (1319, 2165),\n",
       " (1319, 2946),\n",
       " (1352, 1694),\n",
       " (1352, 1729),\n",
       " (1352, 1954),\n",
       " (1352, 2046),\n",
       " (1352, 2339),\n",
       " (1352, 2963),\n",
       " (1352, 3437),\n",
       " (1352, 3462),\n",
       " (1352, 3540),\n",
       " (1352, 4063),\n",
       " (1352, 4256)}"
      ]
     },
     "execution_count": 38,
     "metadata": {},
     "output_type": "execute_result"
    }
   ],
   "source": [
    "ann_index.search_pairs(\n",
    "    k=ann_k,\n",
    "    sim_threshold=sim_threshold,\n",
    "    left_vector_dict=test_left_vector_dict,\n",
    "    right_vector_dict=test_right_vector_dict,\n",
    ")"
   ]
  },
  {
   "cell_type": "code",
   "execution_count": 39,
   "metadata": {},
   "outputs": [
    {
     "ename": "TypeError",
     "evalue": "search_by_vector() takes at least 3 positional arguments (1 given)",
     "output_type": "error",
     "traceback": [
      "\u001b[0;31m---------------------------------------------------------------------------\u001b[0m",
      "\u001b[0;31mTypeError\u001b[0m                                 Traceback (most recent call last)",
      "\u001b[0;32m<ipython-input-39-c288b1b50b82>\u001b[0m in \u001b[0;36m<module>\u001b[0;34m\u001b[0m\n\u001b[0;32m----> 1\u001b[0;31m ann_index.right_index.approx_knn_index.search_by_vector(\n\u001b[0m\u001b[1;32m      2\u001b[0m \u001b[0;34m\u001b[0m\u001b[0m\n\u001b[1;32m      3\u001b[0m )\n",
      "\u001b[0;32mbindings/python/n2.pyx\u001b[0m in \u001b[0;36mn2.HnswIndex.search_by_vector\u001b[0;34m()\u001b[0m\n",
      "\u001b[0;31mTypeError\u001b[0m: search_by_vector() takes at least 3 positional arguments (1 given)"
     ]
    }
   ],
   "source": [
    "ann_index.right_index.approx_knn_index.search_by_vector(\n",
    "    \n",
    ")"
   ]
  }
 ],
 "metadata": {
  "kernelspec": {
   "display_name": "Python 3",
   "language": "python",
   "name": "python3"
  },
  "language_info": {
   "codemirror_mode": {
    "name": "ipython",
    "version": 3
   },
   "file_extension": ".py",
   "mimetype": "text/x-python",
   "name": "python",
   "nbconvert_exporter": "python",
   "pygments_lexer": "ipython3",
   "version": "3.8.6"
  }
 },
 "nbformat": 4,
 "nbformat_minor": 4
}
