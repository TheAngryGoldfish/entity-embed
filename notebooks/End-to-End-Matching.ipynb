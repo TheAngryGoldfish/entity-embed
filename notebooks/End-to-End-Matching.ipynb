{
 "cells": [
  {
   "cell_type": "markdown",
   "id": "14315d5a",
   "metadata": {},
   "source": [
    "# End to End Matching Example"
   ]
  },
  {
   "cell_type": "markdown",
   "id": "3080847d",
   "metadata": {},
   "source": [
    "Please run [Record-Linkage-Example.ipynb](Record-Linkage-Example.ipynb) before this one in order to get the trained model at `../trained-models/notebooks/rl/rl-model.ckpt`."
   ]
  },
  {
   "cell_type": "markdown",
   "id": "2eae51fb",
   "metadata": {},
   "source": [
    "## Boilerplate"
   ]
  },
  {
   "cell_type": "code",
   "execution_count": 1,
   "id": "e6be39ff",
   "metadata": {},
   "outputs": [],
   "source": [
    "%load_ext autoreload\n",
    "%autoreload 2"
   ]
  },
  {
   "cell_type": "code",
   "execution_count": 2,
   "id": "41394338",
   "metadata": {},
   "outputs": [],
   "source": [
    "from importlib import reload\n",
    "import logging\n",
    "reload(logging)\n",
    "logging.basicConfig(format='%(asctime)s %(levelname)s:%(message)s', level=logging.INFO, datefmt='%H:%M:%S')"
   ]
  },
  {
   "cell_type": "code",
   "execution_count": 3,
   "id": "96e239b1",
   "metadata": {},
   "outputs": [],
   "source": [
    "import sys\n",
    "\n",
    "sys.path.insert(0, '..')"
   ]
  },
  {
   "cell_type": "code",
   "execution_count": 4,
   "id": "23bdf412",
   "metadata": {},
   "outputs": [],
   "source": [
    "import entity_embed"
   ]
  },
  {
   "cell_type": "code",
   "execution_count": 5,
   "id": "d581925f",
   "metadata": {},
   "outputs": [],
   "source": [
    "import torch\n",
    "import numpy as np\n",
    "\n",
    "random_seed = 42\n",
    "torch.manual_seed(random_seed)\n",
    "np.random.seed(random_seed)"
   ]
  },
  {
   "cell_type": "markdown",
   "id": "a81e6680",
   "metadata": {},
   "source": [
    "## Loading Test Data"
   ]
  },
  {
   "cell_type": "code",
   "execution_count": 6,
   "id": "105a7df5",
   "metadata": {},
   "outputs": [],
   "source": [
    "import json\n",
    "from ordered_set import OrderedSet\n",
    "\n",
    "def load_pair_set(filepath):\n",
    "    with open(filepath, 'r') as f:\n",
    "        test_pos_pair_set = json.load(f)\n",
    "        return OrderedSet(tuple(pair) for pair in test_pos_pair_set)\n",
    "\n",
    "train_pos_pair_set = load_pair_set('../trained-models/notebooks/rl/rl-train-pos-pairs.json')\n",
    "valid_pos_pair_set = load_pair_set('../trained-models/notebooks/rl/rl-valid-pos-pairs.json')\n",
    "test_pos_pair_set = load_pair_set('../trained-models/notebooks/rl/rl-test-pos-pairs.json')"
   ]
  },
  {
   "cell_type": "code",
   "execution_count": 7,
   "id": "0af3fb30",
   "metadata": {},
   "outputs": [],
   "source": [
    "import json\n",
    "\n",
    "def load_record_dict(filepath):\n",
    "    with open(filepath, 'r') as f:\n",
    "        record_dict = json.load(f)\n",
    "        return {int(id_): record for id_, record in record_dict.items()}\n",
    "\n",
    "train_record_dict = load_record_dict('../trained-models/notebooks/rl/rl-train-records.json')\n",
    "valid_record_dict = load_record_dict('../trained-models/notebooks/rl/rl-valid-records.json')\n",
    "test_record_dict = load_record_dict('../trained-models/notebooks/rl/rl-test-records.json')"
   ]
  },
  {
   "cell_type": "markdown",
   "id": "9e691355",
   "metadata": {},
   "source": [
    "## Loading Model"
   ]
  },
  {
   "cell_type": "code",
   "execution_count": 8,
   "id": "9a29f154",
   "metadata": {},
   "outputs": [],
   "source": [
    "from entity_embed import LinkageEmbed\n",
    "\n",
    "model = LinkageEmbed.load_from_checkpoint('../trained-models/notebooks/rl/rl-model.ckpt')\n",
    "model = model.to(torch.device('cuda'))"
   ]
  },
  {
   "cell_type": "markdown",
   "id": "43e1861a",
   "metadata": {},
   "source": [
    "## Blocking"
   ]
  },
  {
   "cell_type": "markdown",
   "id": "e9287762",
   "metadata": {},
   "source": [
    "Use `sim_threshold = 0.375` to have ~6k pairs in `train_found_pair_set` and have a fair comparison with [End-to-End-Matching-Baseline.ipynb](./End-to-End-Matching-Baseline.ipynb)"
   ]
  },
  {
   "cell_type": "code",
   "execution_count": 9,
   "id": "00a07f05",
   "metadata": {},
   "outputs": [
    {
     "data": {
      "application/vnd.jupyter.widget-view+json": {
       "model_id": "dbee52290c8c4a77afa346bc3e35598f",
       "version_major": 2,
       "version_minor": 0
      },
      "text/plain": [
       "# batch embedding:   0%|          | 0/37 [00:00<?, ?it/s]"
      ]
     },
     "metadata": {},
     "output_type": "display_data"
    },
    {
     "name": "stdout",
     "output_type": "stream",
     "text": [
      "CPU times: user 2.65 s, sys: 543 ms, total: 3.19 s\n",
      "Wall time: 1.78 s\n"
     ]
    },
    {
     "data": {
      "text/plain": [
       "5748"
      ]
     },
     "execution_count": 9,
     "metadata": {},
     "output_type": "execute_result"
    }
   ],
   "source": [
    "%%time\n",
    "\n",
    "eval_batch_size = 64\n",
    "ann_k = 100\n",
    "sim_threshold = 0.375\n",
    "\n",
    "train_found_pair_set, train_left_field_vector_dict, train_right_field_vector_dict = model.predict_pairs(\n",
    "    record_dict=train_record_dict,\n",
    "    batch_size=eval_batch_size,\n",
    "    ann_k=ann_k,\n",
    "    sim_threshold=sim_threshold,\n",
    "    show_progress=True,\n",
    "    return_field_embeddings=True\n",
    ")\n",
    "len(train_found_pair_set)"
   ]
  },
  {
   "cell_type": "code",
   "execution_count": 10,
   "id": "2739357b",
   "metadata": {},
   "outputs": [
    {
     "data": {
      "application/vnd.jupyter.widget-view+json": {
       "model_id": "98d18417c5c04d43bb48ba5f7f5ab8ba",
       "version_major": 2,
       "version_minor": 0
      },
      "text/plain": [
       "# batch embedding:   0%|          | 0/15 [00:00<?, ?it/s]"
      ]
     },
     "metadata": {},
     "output_type": "display_data"
    },
    {
     "name": "stdout",
     "output_type": "stream",
     "text": [
      "CPU times: user 1.12 s, sys: 464 ms, total: 1.59 s\n",
      "Wall time: 1e+03 ms\n"
     ]
    },
    {
     "data": {
      "text/plain": [
       "1115"
      ]
     },
     "execution_count": 10,
     "metadata": {},
     "output_type": "execute_result"
    }
   ],
   "source": [
    "%%time\n",
    "\n",
    "valid_found_pair_set, valid_left_field_vector_dict, valid_right_field_vector_dict = model.predict_pairs(\n",
    "    record_dict=valid_record_dict,\n",
    "    batch_size=eval_batch_size,\n",
    "    ann_k=ann_k,\n",
    "    sim_threshold=sim_threshold,\n",
    "    show_progress=True,\n",
    "    return_field_embeddings=True\n",
    ")\n",
    "len(valid_found_pair_set)"
   ]
  },
  {
   "cell_type": "code",
   "execution_count": 11,
   "id": "5d16e8ab",
   "metadata": {},
   "outputs": [
    {
     "data": {
      "application/vnd.jupyter.widget-view+json": {
       "model_id": "6a08dcc9f2ef47bbb5eb7cc7378fd124",
       "version_major": 2,
       "version_minor": 0
      },
      "text/plain": [
       "# batch embedding:   0%|          | 0/22 [00:00<?, ?it/s]"
      ]
     },
     "metadata": {},
     "output_type": "display_data"
    },
    {
     "name": "stdout",
     "output_type": "stream",
     "text": [
      "CPU times: user 1.67 s, sys: 572 ms, total: 2.24 s\n",
      "Wall time: 1.25 s\n"
     ]
    },
    {
     "data": {
      "text/plain": [
       "2191"
      ]
     },
     "execution_count": 11,
     "metadata": {},
     "output_type": "execute_result"
    }
   ],
   "source": [
    "%%time\n",
    "\n",
    "test_found_pair_set, test_left_field_vector_dict, test_right_field_vector_dict = model.predict_pairs(\n",
    "    record_dict=test_record_dict,\n",
    "    batch_size=eval_batch_size,\n",
    "    ann_k=ann_k,\n",
    "    sim_threshold=sim_threshold,\n",
    "    show_progress=True,\n",
    "    return_field_embeddings=True\n",
    ")\n",
    "len(test_found_pair_set)"
   ]
  },
  {
   "cell_type": "code",
   "execution_count": 12,
   "id": "69257b71",
   "metadata": {},
   "outputs": [
    {
     "data": {
      "application/vnd.jupyter.widget-view+json": {
       "model_id": "fbd035a744bf4f71b8259632d0d7749b",
       "version_major": 2,
       "version_minor": 0
      },
      "text/plain": [
       "# batch embedding:   0%|          | 0/22 [00:00<?, ?it/s]"
      ]
     },
     "metadata": {},
     "output_type": "display_data"
    }
   ],
   "source": [
    "test_attn_scores_dict = model.interpret_attention(\n",
    "    record_dict=test_record_dict,\n",
    "    batch_size=eval_batch_size,\n",
    "    field='title',\n",
    ")"
   ]
  },
  {
   "cell_type": "code",
   "execution_count": 13,
   "id": "75b09386",
   "metadata": {},
   "outputs": [
    {
     "data": {
      "text/plain": [
       "1.6004382761139517"
      ]
     },
     "execution_count": 13,
     "metadata": {},
     "output_type": "execute_result"
    }
   ],
   "source": [
    "from entity_embed.evaluation import pair_entity_ratio\n",
    "\n",
    "pair_entity_ratio(len(test_found_pair_set), len(test_record_dict))"
   ]
  },
  {
   "cell_type": "code",
   "execution_count": 14,
   "id": "3ad9d6e6",
   "metadata": {},
   "outputs": [
    {
     "data": {
      "text/plain": [
       "(0.17115472387037883, 0.984251968503937)"
      ]
     },
     "execution_count": 14,
     "metadata": {},
     "output_type": "execute_result"
    }
   ],
   "source": [
    "from entity_embed.evaluation import precision_and_recall\n",
    "\n",
    "precision_and_recall(test_found_pair_set, test_pos_pair_set)"
   ]
  },
  {
   "cell_type": "markdown",
   "id": "1bb67907",
   "metadata": {},
   "source": [
    "Complement the train/valid `found_pair_set` with `pos_pair_set` for training.  \n",
    "Leave test untoched, to reproduce production behavior:"
   ]
  },
  {
   "cell_type": "code",
   "execution_count": 15,
   "id": "ad6cd20d",
   "metadata": {},
   "outputs": [],
   "source": [
    "train_found_pair_set |= train_pos_pair_set\n",
    "valid_found_pair_set |= valid_pos_pair_set"
   ]
  },
  {
   "cell_type": "markdown",
   "id": "9e6925ac",
   "metadata": {},
   "source": [
    "## Matching: Compare"
   ]
  },
  {
   "cell_type": "markdown",
   "id": "93d29e62",
   "metadata": {},
   "source": [
    "Make a dataframe `df` with all records (train, valid, test) to add additional features:"
   ]
  },
  {
   "cell_type": "code",
   "execution_count": 16,
   "id": "14577317",
   "metadata": {},
   "outputs": [],
   "source": [
    "record_dict = {**train_record_dict, **valid_record_dict, **test_record_dict}"
   ]
  },
  {
   "cell_type": "code",
   "execution_count": 17,
   "id": "cc03d21f",
   "metadata": {},
   "outputs": [],
   "source": [
    "import pandas as pd\n",
    "\n",
    "df = pd.DataFrame.from_dict(record_dict, orient='index')\n",
    "df = df.drop(columns='id')"
   ]
  },
  {
   "cell_type": "code",
   "execution_count": 18,
   "id": "8e3e72de",
   "metadata": {},
   "outputs": [
    {
     "data": {
      "text/html": [
       "<div>\n",
       "<style scoped>\n",
       "    .dataframe tbody tr th:only-of-type {\n",
       "        vertical-align: middle;\n",
       "    }\n",
       "\n",
       "    .dataframe tbody tr th {\n",
       "        vertical-align: top;\n",
       "    }\n",
       "\n",
       "    .dataframe thead th {\n",
       "        text-align: right;\n",
       "    }\n",
       "</style>\n",
       "<table border=\"1\" class=\"dataframe\">\n",
       "  <thead>\n",
       "    <tr style=\"text-align: right;\">\n",
       "      <th></th>\n",
       "      <th>manufacturer</th>\n",
       "      <th>price</th>\n",
       "      <th>title</th>\n",
       "      <th>__source</th>\n",
       "      <th>all</th>\n",
       "    </tr>\n",
       "  </thead>\n",
       "  <tbody>\n",
       "    <tr>\n",
       "      <th>1728</th>\n",
       "      <td></td>\n",
       "      <td>1149.00</td>\n",
       "      <td>filemaker pro 8 . 5 5 - user pack</td>\n",
       "      <td>google</td>\n",
       "      <td>filemaker pro 8 . 5 5 - user pack -  - 1149</td>\n",
       "    </tr>\n",
       "    <tr>\n",
       "      <th>255</th>\n",
       "      <td>diskeeper corporation</td>\n",
       "      <td>736.66</td>\n",
       "      <td>diskeeper 2007 pro premier 5 - lic pack</td>\n",
       "      <td>amazon</td>\n",
       "      <td>diskeeper 2007 pro premier 5 - lic pack - disk...</td>\n",
       "    </tr>\n",
       "    <tr>\n",
       "      <th>2889</th>\n",
       "      <td></td>\n",
       "      <td>16.00</td>\n",
       "      <td>emc securid appl mnt - ent / std 17mo per u 2k...</td>\n",
       "      <td>google</td>\n",
       "      <td>emc securid appl mnt - ent / std 17mo per u 2k...</td>\n",
       "    </tr>\n",
       "  </tbody>\n",
       "</table>\n",
       "</div>"
      ],
      "text/plain": [
       "               manufacturer    price  \\\n",
       "1728                         1149.00   \n",
       "255   diskeeper corporation   736.66   \n",
       "2889                           16.00   \n",
       "\n",
       "                                                  title __source  \\\n",
       "1728                  filemaker pro 8 . 5 5 - user pack   google   \n",
       "255             diskeeper 2007 pro premier 5 - lic pack   amazon   \n",
       "2889  emc securid appl mnt - ent / std 17mo per u 2k...   google   \n",
       "\n",
       "                                                    all  \n",
       "1728        filemaker pro 8 . 5 5 - user pack -  - 1149  \n",
       "255   diskeeper 2007 pro premier 5 - lic pack - disk...  \n",
       "2889  emc securid appl mnt - ent / std 17mo per u 2k...  "
      ]
     },
     "execution_count": 18,
     "metadata": {},
     "output_type": "execute_result"
    }
   ],
   "source": [
    "df['all'] = df.agg('{0[title]} - {0[manufacturer]} - {0[price]}'.format, axis=1)\n",
    "df['price'] = pd.to_numeric(df['price'].str.replace(' ', ''), errors='coerce')\n",
    "del df['cluster']\n",
    "df.head(3)"
   ]
  },
  {
   "cell_type": "markdown",
   "id": "e1789693",
   "metadata": {},
   "source": [
    "Replace all `record_dict`s (train, valid, test) to add additional features:"
   ]
  },
  {
   "cell_type": "code",
   "execution_count": 19,
   "id": "f1732a76",
   "metadata": {},
   "outputs": [],
   "source": [
    "train_record_dict = df.loc[train_record_dict.keys()].to_dict(orient='index')\n",
    "valid_record_dict = df.loc[valid_record_dict.keys()].to_dict(orient='index')\n",
    "test_record_dict = df.loc[test_record_dict.keys()].to_dict(orient='index')"
   ]
  },
  {
   "cell_type": "code",
   "execution_count": 20,
   "id": "986bef99",
   "metadata": {},
   "outputs": [],
   "source": [
    "import textdistance as td\n",
    "import math\n",
    "\n",
    "def exact_eq(x, y):\n",
    "    return float(x == y)\n",
    "\n",
    "def token_ops(func):\n",
    "    def new_func(x, y):\n",
    "        return func(x.split(), y.split())    \n",
    "    return new_func\n",
    "\n",
    "def abs_diff(x, y):\n",
    "    return abs(x - y)\n",
    "\n",
    "def abs_diff_log10(x, y):\n",
    "    diff = abs_diff(x, y)\n",
    "    if diff > 1:\n",
    "        return math.log10(diff)\n",
    "    else:\n",
    "        return 0.0\n",
    "\n",
    "SIM_FUNC_DICT = {\n",
    "    (\"all\", \"jaccard\"): token_ops(td.jaccard.normalized_similarity),\n",
    "    (\"all\", \"overlap\"): token_ops(td.overlap.normalized_similarity),\n",
    "    (\"all\", \"damerau_levenshtein\"): td.damerau_levenshtein.normalized_similarity,\n",
    "    (\"all\", \"jaro_winkler\"): td.jaro_winkler.normalized_similarity,\n",
    "    (\"manufacturer\", \"jaccard\"): token_ops(td.jaccard.normalized_similarity),\n",
    "    (\"manufacturer\", \"overlap\"): token_ops(td.overlap.normalized_similarity),\n",
    "    (\"manufacturer\", \"damerau_levenshtein\"): td.damerau_levenshtein.normalized_similarity,\n",
    "    (\"manufacturer\", \"jaro_winkler\"): td.jaro_winkler.normalized_similarity,\n",
    "    (\"title\", \"jaccard\"): token_ops(td.jaccard.normalized_similarity),\n",
    "    (\"title\", \"overlap\"): token_ops(td.overlap.normalized_similarity),\n",
    "    (\"title\", \"damerau_levenshtein\"): td.damerau_levenshtein.normalized_similarity,\n",
    "    (\"title\", \"jaro_winkler\"): td.jaro_winkler.normalized_similarity,\n",
    "    (\"price\", \"abs_diff\"): abs_diff,\n",
    "    (\"price\", \"abs_diff_log10\"): abs_diff_log10,\n",
    "}\n",
    "\n",
    "def record_sim_func(record_pair):\n",
    "    record_left, record_right = record_pair\n",
    "    feature_dict = {}\n",
    "    \n",
    "    for (field, sim_func_name), sim_func in SIM_FUNC_DICT.items():\n",
    "        x = record_left[field]\n",
    "        y = record_right[field]\n",
    "        if x and y:\n",
    "            if sim_func_name.startswith('abs_diff') and (math.isnan(x) or math.isnan(y)):\n",
    "                sim = -1.0\n",
    "            else:\n",
    "                sim = sim_func(x, y)\n",
    "        else:\n",
    "            sim = -1.0\n",
    "        feature_dict[f\"{field}_{sim_func_name}\"] = sim\n",
    "    \n",
    "    return feature_dict"
   ]
  },
  {
   "cell_type": "code",
   "execution_count": 21,
   "id": "9789cd55",
   "metadata": {},
   "outputs": [
    {
     "name": "stdout",
     "output_type": "stream",
     "text": [
      "CPU times: user 1.3 ms, sys: 0 ns, total: 1.3 ms\n",
      "Wall time: 1.03 ms\n"
     ]
    },
    {
     "data": {
      "text/plain": [
       "{'all_jaccard': 0.5333333333333333,\n",
       " 'all_overlap': 0.8,\n",
       " 'all_damerau_levenshtein': 0.7068965517241379,\n",
       " 'all_jaro_winkler': 0.8845771423231474,\n",
       " 'manufacturer_jaccard': -1.0,\n",
       " 'manufacturer_overlap': -1.0,\n",
       " 'manufacturer_damerau_levenshtein': -1.0,\n",
       " 'manufacturer_jaro_winkler': -1.0,\n",
       " 'title_jaccard': 0.7142857142857143,\n",
       " 'title_overlap': 1.0,\n",
       " 'title_damerau_levenshtein': 0.8888888888888888,\n",
       " 'title_jaro_winkler': 0.9652777777777778,\n",
       " 'price_abs_diff': 14.709999999999994,\n",
       " 'price_abs_diff_log10': 1.16761267272753}"
      ]
     },
     "execution_count": 21,
     "metadata": {},
     "output_type": "execute_result"
    }
   ],
   "source": [
    "%%time\n",
    "\n",
    "pair = next(iter(test_pos_pair_set))\n",
    "id_left, id_right = pair\n",
    "feature_dict = record_sim_func((test_record_dict[id_left], test_record_dict[id_right]))\n",
    "\n",
    "# display(test_record_dict[id_left], test_record_dict[id_right])\n",
    "feature_dict"
   ]
  },
  {
   "cell_type": "code",
   "execution_count": 22,
   "id": "29ad8dfb",
   "metadata": {},
   "outputs": [],
   "source": [
    "from collections import defaultdict\n",
    "import multiprocessing\n",
    "from tqdm.auto import tqdm\n",
    "\n",
    "def compare_pairs(record_dict, found_pair_set):\n",
    "    all_feature_dict = defaultdict(list)\n",
    "    chunksize = 100\n",
    "    tasks = (\n",
    "        (record_dict[id_left], record_dict[id_right])\n",
    "        for (id_left, id_right)\n",
    "        in found_pair_set\n",
    "    )\n",
    "\n",
    "    with multiprocessing.Pool() as pool:\n",
    "        for feature_dict in tqdm(\n",
    "            pool.imap(record_sim_func, tasks, chunksize=chunksize),\n",
    "            total=len(found_pair_set)\n",
    "        ):\n",
    "            for feature, val in feature_dict.items():\n",
    "                all_feature_dict[feature].append(val)\n",
    "\n",
    "        pool.close()\n",
    "        pool.join()\n",
    "    \n",
    "    return pd.DataFrame(all_feature_dict, index=pd.MultiIndex.from_tuples(found_pair_set))"
   ]
  },
  {
   "cell_type": "code",
   "execution_count": 23,
   "id": "c73ff3a8",
   "metadata": {},
   "outputs": [
    {
     "data": {
      "application/vnd.jupyter.widget-view+json": {
       "model_id": "e71151ce16cf4d9685b924aac79cfb5b",
       "version_major": 2,
       "version_minor": 0
      },
      "text/plain": [
       "  0%|          | 0/5748 [00:00<?, ?it/s]"
      ]
     },
     "metadata": {},
     "output_type": "display_data"
    },
    {
     "name": "stdout",
     "output_type": "stream",
     "text": [
      "CPU times: user 119 ms, sys: 406 ms, total: 526 ms\n",
      "Wall time: 674 ms\n"
     ]
    },
    {
     "data": {
      "text/plain": [
       "5748"
      ]
     },
     "execution_count": 23,
     "metadata": {},
     "output_type": "execute_result"
    }
   ],
   "source": [
    "%%time\n",
    "\n",
    "train_feature_df = compare_pairs(train_record_dict, train_found_pair_set)\n",
    "assert len(train_feature_df) == len(train_found_pair_set)\n",
    "len(train_found_pair_set)"
   ]
  },
  {
   "cell_type": "code",
   "execution_count": 24,
   "id": "1bf8bb26",
   "metadata": {},
   "outputs": [
    {
     "data": {
      "application/vnd.jupyter.widget-view+json": {
       "model_id": "a55c10a7f81241be8f952c08b782356f",
       "version_major": 2,
       "version_minor": 0
      },
      "text/plain": [
       "  0%|          | 0/1119 [00:00<?, ?it/s]"
      ]
     },
     "metadata": {},
     "output_type": "display_data"
    },
    {
     "name": "stdout",
     "output_type": "stream",
     "text": [
      "CPU times: user 54 ms, sys: 439 ms, total: 493 ms\n",
      "Wall time: 489 ms\n"
     ]
    },
    {
     "data": {
      "text/plain": [
       "1119"
      ]
     },
     "execution_count": 24,
     "metadata": {},
     "output_type": "execute_result"
    }
   ],
   "source": [
    "%%time\n",
    "\n",
    "valid_feature_df = compare_pairs(valid_record_dict, valid_found_pair_set)\n",
    "assert len(valid_feature_df) == len(valid_found_pair_set)\n",
    "len(valid_found_pair_set)"
   ]
  },
  {
   "cell_type": "code",
   "execution_count": 25,
   "id": "d7e8c66d",
   "metadata": {},
   "outputs": [
    {
     "data": {
      "application/vnd.jupyter.widget-view+json": {
       "model_id": "41702d5605074b77bf5402cd9f648eed",
       "version_major": 2,
       "version_minor": 0
      },
      "text/plain": [
       "  0%|          | 0/2191 [00:00<?, ?it/s]"
      ]
     },
     "metadata": {},
     "output_type": "display_data"
    },
    {
     "name": "stdout",
     "output_type": "stream",
     "text": [
      "CPU times: user 85.1 ms, sys: 478 ms, total: 563 ms\n",
      "Wall time: 597 ms\n"
     ]
    },
    {
     "data": {
      "text/plain": [
       "2191"
      ]
     },
     "execution_count": 25,
     "metadata": {},
     "output_type": "execute_result"
    }
   ],
   "source": [
    "%%time\n",
    "\n",
    "test_feature_df = compare_pairs(test_record_dict, test_found_pair_set)\n",
    "assert len(test_feature_df) == len(test_found_pair_set)\n",
    "len(test_found_pair_set)"
   ]
  },
  {
   "cell_type": "markdown",
   "id": "dbe58af0",
   "metadata": {},
   "source": [
    "## Matching: Compare - TFIDF Feature"
   ]
  },
  {
   "cell_type": "code",
   "execution_count": 26,
   "id": "871df4b0",
   "metadata": {},
   "outputs": [
    {
     "data": {
      "text/plain": [
       "TfidfVectorizer(analyzer='char', min_df=2, ngram_range=(2, 4))"
      ]
     },
     "execution_count": 26,
     "metadata": {},
     "output_type": "execute_result"
    }
   ],
   "source": [
    "from sklearn.feature_extraction.text import TfidfVectorizer\n",
    "\n",
    "def get_tfidf_vectorizer(train_record_dict, valid_record_dict, field='all'):\n",
    "    tfidf_vectorizer = TfidfVectorizer(\n",
    "        analyzer='char',\n",
    "        ngram_range=(2,4),\n",
    "        min_df=2\n",
    "    )\n",
    "    train_valid_record_dict = {**train_record_dict, **valid_record_dict}\n",
    "    tfidf_vectorizer.fit(record[field] for record in train_valid_record_dict.values())\n",
    "    return tfidf_vectorizer\n",
    "\n",
    "tfidf_vectorizer = get_tfidf_vectorizer(train_record_dict, valid_record_dict)\n",
    "tfidf_vectorizer"
   ]
  },
  {
   "cell_type": "code",
   "execution_count": 27,
   "id": "bef71ffb",
   "metadata": {},
   "outputs": [],
   "source": [
    "import numpy as np\n",
    "\n",
    "def add_tfidf_feature(tfidf_vectorizer, feature_df, record_dict, found_pair_set, field='all'):\n",
    "    tfidf_matrix = tfidf_vectorizer.transform(record[field] for record in record_dict.values())\n",
    "\n",
    "    id_to_idx = {id_: idx for idx, id_ in enumerate(record_dict.keys())}\n",
    "    left_idx = [id_to_idx[left_id] for left_id, __ in found_pair_set]\n",
    "    right_idx = [id_to_idx[right_id] for __, right_id in found_pair_set]\n",
    "    tfidf_sim = tfidf_matrix[left_idx].multiply(tfidf_matrix[right_idx]).sum(axis=1)  # cos per row\n",
    "\n",
    "    feature_df[f'{field}_tfidf'] = tfidf_sim"
   ]
  },
  {
   "cell_type": "code",
   "execution_count": 28,
   "id": "3c6f5af1",
   "metadata": {},
   "outputs": [
    {
     "name": "stdout",
     "output_type": "stream",
     "text": [
      "CPU times: user 244 ms, sys: 11.8 ms, total: 256 ms\n",
      "Wall time: 255 ms\n"
     ]
    }
   ],
   "source": [
    "%%time\n",
    "\n",
    "add_tfidf_feature(tfidf_vectorizer, train_feature_df, train_record_dict, train_found_pair_set)"
   ]
  },
  {
   "cell_type": "code",
   "execution_count": 29,
   "id": "4bfc48a2",
   "metadata": {},
   "outputs": [
    {
     "name": "stdout",
     "output_type": "stream",
     "text": [
      "CPU times: user 96.4 ms, sys: 120 µs, total: 96.6 ms\n",
      "Wall time: 96.2 ms\n"
     ]
    }
   ],
   "source": [
    "%%time\n",
    "\n",
    "add_tfidf_feature(tfidf_vectorizer, valid_feature_df, valid_record_dict, valid_found_pair_set)"
   ]
  },
  {
   "cell_type": "code",
   "execution_count": 30,
   "id": "bdb7247c",
   "metadata": {},
   "outputs": [
    {
     "name": "stdout",
     "output_type": "stream",
     "text": [
      "CPU times: user 143 ms, sys: 0 ns, total: 143 ms\n",
      "Wall time: 143 ms\n"
     ]
    }
   ],
   "source": [
    "%%time\n",
    "\n",
    "add_tfidf_feature(tfidf_vectorizer, test_feature_df, test_record_dict, test_found_pair_set)"
   ]
  },
  {
   "cell_type": "markdown",
   "id": "e3a02e01",
   "metadata": {},
   "source": [
    "## Matching: Compare - Embedding Cosine Feature "
   ]
  },
  {
   "cell_type": "code",
   "execution_count": 31,
   "id": "772f99fc",
   "metadata": {},
   "outputs": [],
   "source": [
    "import numpy as np\n",
    "from sklearn.preprocessing import normalize\n",
    "\n",
    "def add_embed_cos_features(feature_df, left_field_vector_dict, right_field_vector_dict, found_pair_set):\n",
    "    fields = next(iter(left_field_vector_dict.values())).keys()\n",
    "    \n",
    "    for field in fields:\n",
    "        left_embed = np.stack([left_field_vector_dict[left_id][field] for left_id, __ in found_pair_set])\n",
    "        right_embed = np.stack([right_field_vector_dict[right_id][field] for __, right_id in found_pair_set])\n",
    "        normalize(left_embed, copy=False)\n",
    "        normalize(right_embed, copy=False)\n",
    "        sim = np.multiply(left_embed, right_embed).sum(axis=1)  # cos per row\n",
    "        feature_df[f'embed_{field}_cos'] = sim"
   ]
  },
  {
   "cell_type": "code",
   "execution_count": 32,
   "id": "967964d8",
   "metadata": {},
   "outputs": [
    {
     "name": "stdout",
     "output_type": "stream",
     "text": [
      "CPU times: user 80.4 ms, sys: 5.95 ms, total: 86.3 ms\n",
      "Wall time: 85.9 ms\n"
     ]
    }
   ],
   "source": [
    "%%time\n",
    "\n",
    "add_embed_cos_features(\n",
    "    train_feature_df,\n",
    "    train_left_field_vector_dict,\n",
    "    train_right_field_vector_dict,\n",
    "    train_found_pair_set)"
   ]
  },
  {
   "cell_type": "code",
   "execution_count": 33,
   "id": "9549bc72",
   "metadata": {},
   "outputs": [
    {
     "name": "stdout",
     "output_type": "stream",
     "text": [
      "CPU times: user 18.7 ms, sys: 0 ns, total: 18.7 ms\n",
      "Wall time: 18.3 ms\n"
     ]
    }
   ],
   "source": [
    "%%time\n",
    "\n",
    "add_embed_cos_features(\n",
    "    valid_feature_df,\n",
    "    valid_left_field_vector_dict,\n",
    "    valid_right_field_vector_dict,\n",
    "    valid_found_pair_set)"
   ]
  },
  {
   "cell_type": "code",
   "execution_count": 34,
   "id": "b1cccd31",
   "metadata": {},
   "outputs": [
    {
     "name": "stdout",
     "output_type": "stream",
     "text": [
      "CPU times: user 32 ms, sys: 0 ns, total: 32 ms\n",
      "Wall time: 31.5 ms\n"
     ]
    }
   ],
   "source": [
    "%%time\n",
    "\n",
    "add_embed_cos_features(\n",
    "    test_feature_df,\n",
    "    test_left_field_vector_dict,\n",
    "    test_right_field_vector_dict,\n",
    "    test_found_pair_set)"
   ]
  },
  {
   "cell_type": "markdown",
   "id": "4dd1185e",
   "metadata": {},
   "source": [
    "## Matching: Classify"
   ]
  },
  {
   "cell_type": "code",
   "execution_count": 35,
   "id": "f6f60ac7",
   "metadata": {},
   "outputs": [
    {
     "data": {
      "text/html": [
       "<div>\n",
       "<style scoped>\n",
       "    .dataframe tbody tr th:only-of-type {\n",
       "        vertical-align: middle;\n",
       "    }\n",
       "\n",
       "    .dataframe tbody tr th {\n",
       "        vertical-align: top;\n",
       "    }\n",
       "\n",
       "    .dataframe thead th {\n",
       "        text-align: right;\n",
       "    }\n",
       "</style>\n",
       "<table border=\"1\" class=\"dataframe\">\n",
       "  <thead>\n",
       "    <tr style=\"text-align: right;\">\n",
       "      <th></th>\n",
       "      <th></th>\n",
       "      <th>all_jaccard</th>\n",
       "      <th>all_overlap</th>\n",
       "      <th>all_damerau_levenshtein</th>\n",
       "      <th>all_jaro_winkler</th>\n",
       "      <th>manufacturer_jaccard</th>\n",
       "      <th>manufacturer_overlap</th>\n",
       "      <th>manufacturer_damerau_levenshtein</th>\n",
       "      <th>manufacturer_jaro_winkler</th>\n",
       "      <th>title_jaccard</th>\n",
       "      <th>title_overlap</th>\n",
       "      <th>title_damerau_levenshtein</th>\n",
       "      <th>title_jaro_winkler</th>\n",
       "      <th>price_abs_diff</th>\n",
       "      <th>price_abs_diff_log10</th>\n",
       "      <th>all_tfidf</th>\n",
       "      <th>embed_title_cos</th>\n",
       "      <th>embed_title_semantic_cos</th>\n",
       "      <th>embed_manufacturer_cos</th>\n",
       "      <th>embed_price_cos</th>\n",
       "    </tr>\n",
       "  </thead>\n",
       "  <tbody>\n",
       "    <tr>\n",
       "      <th>272</th>\n",
       "      <th>3735</th>\n",
       "      <td>0.388889</td>\n",
       "      <td>0.777778</td>\n",
       "      <td>0.372093</td>\n",
       "      <td>0.680656</td>\n",
       "      <td>-1.0</td>\n",
       "      <td>-1.0</td>\n",
       "      <td>-1.0</td>\n",
       "      <td>-1.0</td>\n",
       "      <td>0.454545</td>\n",
       "      <td>1.000000</td>\n",
       "      <td>0.277778</td>\n",
       "      <td>0.855556</td>\n",
       "      <td>0.05</td>\n",
       "      <td>0.000000</td>\n",
       "      <td>0.501996</td>\n",
       "      <td>0.988670</td>\n",
       "      <td>0.991932</td>\n",
       "      <td>0.0</td>\n",
       "      <td>0.730814</td>\n",
       "    </tr>\n",
       "    <tr>\n",
       "      <th>938</th>\n",
       "      <th>2238</th>\n",
       "      <td>0.400000</td>\n",
       "      <td>0.571429</td>\n",
       "      <td>0.214286</td>\n",
       "      <td>0.721501</td>\n",
       "      <td>-1.0</td>\n",
       "      <td>-1.0</td>\n",
       "      <td>-1.0</td>\n",
       "      <td>-1.0</td>\n",
       "      <td>0.230769</td>\n",
       "      <td>0.428571</td>\n",
       "      <td>0.351852</td>\n",
       "      <td>0.696147</td>\n",
       "      <td>3.15</td>\n",
       "      <td>0.498311</td>\n",
       "      <td>0.649795</td>\n",
       "      <td>0.968978</td>\n",
       "      <td>0.955260</td>\n",
       "      <td>0.0</td>\n",
       "      <td>0.798398</td>\n",
       "    </tr>\n",
       "    <tr>\n",
       "      <th>352</th>\n",
       "      <th>4234</th>\n",
       "      <td>0.615385</td>\n",
       "      <td>0.888889</td>\n",
       "      <td>0.431034</td>\n",
       "      <td>0.718774</td>\n",
       "      <td>-1.0</td>\n",
       "      <td>-1.0</td>\n",
       "      <td>-1.0</td>\n",
       "      <td>-1.0</td>\n",
       "      <td>0.400000</td>\n",
       "      <td>0.666667</td>\n",
       "      <td>0.375000</td>\n",
       "      <td>0.719444</td>\n",
       "      <td>0.00</td>\n",
       "      <td>0.000000</td>\n",
       "      <td>0.469409</td>\n",
       "      <td>0.905698</td>\n",
       "      <td>0.976278</td>\n",
       "      <td>0.0</td>\n",
       "      <td>1.000000</td>\n",
       "    </tr>\n",
       "  </tbody>\n",
       "</table>\n",
       "</div>"
      ],
      "text/plain": [
       "          all_jaccard  all_overlap  all_damerau_levenshtein  all_jaro_winkler  \\\n",
       "272 3735     0.388889     0.777778                 0.372093          0.680656   \n",
       "938 2238     0.400000     0.571429                 0.214286          0.721501   \n",
       "352 4234     0.615385     0.888889                 0.431034          0.718774   \n",
       "\n",
       "          manufacturer_jaccard  manufacturer_overlap  \\\n",
       "272 3735                  -1.0                  -1.0   \n",
       "938 2238                  -1.0                  -1.0   \n",
       "352 4234                  -1.0                  -1.0   \n",
       "\n",
       "          manufacturer_damerau_levenshtein  manufacturer_jaro_winkler  \\\n",
       "272 3735                              -1.0                       -1.0   \n",
       "938 2238                              -1.0                       -1.0   \n",
       "352 4234                              -1.0                       -1.0   \n",
       "\n",
       "          title_jaccard  title_overlap  title_damerau_levenshtein  \\\n",
       "272 3735       0.454545       1.000000                   0.277778   \n",
       "938 2238       0.230769       0.428571                   0.351852   \n",
       "352 4234       0.400000       0.666667                   0.375000   \n",
       "\n",
       "          title_jaro_winkler  price_abs_diff  price_abs_diff_log10  all_tfidf  \\\n",
       "272 3735            0.855556            0.05              0.000000   0.501996   \n",
       "938 2238            0.696147            3.15              0.498311   0.649795   \n",
       "352 4234            0.719444            0.00              0.000000   0.469409   \n",
       "\n",
       "          embed_title_cos  embed_title_semantic_cos  embed_manufacturer_cos  \\\n",
       "272 3735         0.988670                  0.991932                     0.0   \n",
       "938 2238         0.968978                  0.955260                     0.0   \n",
       "352 4234         0.905698                  0.976278                     0.0   \n",
       "\n",
       "          embed_price_cos  \n",
       "272 3735         0.730814  \n",
       "938 2238         0.798398  \n",
       "352 4234         1.000000  "
      ]
     },
     "execution_count": 35,
     "metadata": {},
     "output_type": "execute_result"
    }
   ],
   "source": [
    "train_valid_feature_df = pd.concat([train_feature_df, valid_feature_df])\n",
    "train_valid_feature_df.head(3)"
   ]
  },
  {
   "cell_type": "code",
   "execution_count": 36,
   "id": "f4e3eda5",
   "metadata": {},
   "outputs": [],
   "source": [
    "train_true_y = np.array([pair in train_pos_pair_set for pair in train_found_pair_set], dtype='i4')\n",
    "valid_true_y = np.array([pair in valid_pos_pair_set for pair in valid_found_pair_set], dtype='i4')\n",
    "test_true_y = np.array([pair in test_pos_pair_set for pair in test_found_pair_set], dtype='i4')"
   ]
  },
  {
   "cell_type": "code",
   "execution_count": 37,
   "id": "471adca2",
   "metadata": {},
   "outputs": [],
   "source": [
    "train_valid_true_y = np.concatenate([train_true_y, valid_true_y])"
   ]
  },
  {
   "cell_type": "code",
   "execution_count": 38,
   "id": "d98c3077",
   "metadata": {
    "scrolled": true
   },
   "outputs": [
    {
     "name": "stdout",
     "output_type": "stream",
     "text": [
      "Fitting 1 folds for each of 45 candidates, totalling 45 fits\n",
      "CPU times: user 1.97 s, sys: 640 ms, total: 2.61 s\n",
      "Wall time: 9.06 s\n"
     ]
    },
    {
     "data": {
      "text/plain": [
       "GridSearchCV(cv=PredefinedSplit(test_fold=array([-1, -1, ...,  0,  0])),\n",
       "             estimator=RandomForestClassifier(oob_score=True, random_state=42),\n",
       "             n_jobs=-1,\n",
       "             param_grid={'max_depth': [5, 10, 25, 50, None],\n",
       "                         'min_samples_leaf': [1, 3, 5],\n",
       "                         'n_estimators': [10, 100, 200]},\n",
       "             scoring='f1', verbose=10)"
      ]
     },
     "execution_count": 38,
     "metadata": {},
     "output_type": "execute_result"
    }
   ],
   "source": [
    "%%time\n",
    "\n",
    "from sklearn.ensemble import RandomForestClassifier\n",
    "from sklearn.model_selection import PredefinedSplit, GridSearchCV\n",
    "\n",
    "cv = PredefinedSplit(\n",
    "    np.concatenate([\n",
    "        np.full(train_true_y.shape[0], -1 ,dtype='i4'),\n",
    "        np.zeros(valid_true_y.shape[0], dtype='i4')\n",
    "    ])\n",
    ")\n",
    "param_grid = {\n",
    "    'n_estimators': [10, 100, 200],\n",
    "    'max_depth': [5, 10, 25, 50, None],\n",
    "    'min_samples_leaf': [1, 3, 5],\n",
    "}\n",
    "clf = RandomForestClassifier(oob_score=True, random_state=random_seed)\n",
    "clf = GridSearchCV(clf, param_grid, scoring='f1', cv=cv, verbose=10, n_jobs=-1)\n",
    "clf.fit(train_valid_feature_df, train_valid_true_y);"
   ]
  },
  {
   "cell_type": "code",
   "execution_count": 39,
   "id": "76241b3d",
   "metadata": {},
   "outputs": [
    {
     "data": {
      "text/plain": [
       "{'max_depth': 10, 'min_samples_leaf': 1, 'n_estimators': 200}"
      ]
     },
     "execution_count": 39,
     "metadata": {},
     "output_type": "execute_result"
    }
   ],
   "source": [
    "clf.best_params_"
   ]
  },
  {
   "cell_type": "code",
   "execution_count": 40,
   "id": "ce5861cd",
   "metadata": {},
   "outputs": [
    {
     "data": {
      "text/plain": [
       "0.7363420427553444"
      ]
     },
     "execution_count": 40,
     "metadata": {},
     "output_type": "execute_result"
    }
   ],
   "source": [
    "clf.best_score_"
   ]
  },
  {
   "cell_type": "code",
   "execution_count": 41,
   "id": "8f8f2c87",
   "metadata": {},
   "outputs": [
    {
     "data": {
      "text/plain": [
       "0.9382554244939566"
      ]
     },
     "execution_count": 41,
     "metadata": {},
     "output_type": "execute_result"
    }
   ],
   "source": [
    "clf.best_estimator_.oob_score_"
   ]
  },
  {
   "cell_type": "code",
   "execution_count": 42,
   "id": "8b20dd9c",
   "metadata": {
    "scrolled": false
   },
   "outputs": [
    {
     "data": {
      "text/plain": [
       "[('embed_title_cos', 0.2486330300846936),\n",
       " ('all_tfidf', 0.12949320405135198),\n",
       " ('embed_title_semantic_cos', 0.1122044474363127),\n",
       " ('title_overlap', 0.08839198407867001),\n",
       " ('all_overlap', 0.07115214678424919),\n",
       " ('all_jaccard', 0.06253228183849523),\n",
       " ('title_jaccard', 0.050667484548677116),\n",
       " ('embed_price_cos', 0.041068558340506635),\n",
       " ('price_abs_diff', 0.03250572557754224),\n",
       " ('price_abs_diff_log10', 0.03232009762563205),\n",
       " ('title_damerau_levenshtein', 0.03202291021658344),\n",
       " ('all_jaro_winkler', 0.029547299535085177),\n",
       " ('all_damerau_levenshtein', 0.028700183762628353),\n",
       " ('title_jaro_winkler', 0.026857930818519334),\n",
       " ('embed_manufacturer_cos', 0.0032723423849437263),\n",
       " ('manufacturer_damerau_levenshtein', 0.0031549026215138614),\n",
       " ('manufacturer_jaro_winkler', 0.0030031243602089883),\n",
       " ('manufacturer_jaccard', 0.002908828423015405),\n",
       " ('manufacturer_overlap', 0.0015635175113711795)]"
      ]
     },
     "execution_count": 42,
     "metadata": {},
     "output_type": "execute_result"
    }
   ],
   "source": [
    "feature_importances = dict(zip(train_valid_feature_df.columns, clf.best_estimator_.feature_importances_))\n",
    "sorted(feature_importances.items(), key=lambda kv: kv[1], reverse=True)"
   ]
  },
  {
   "cell_type": "code",
   "execution_count": 43,
   "id": "dde175ac",
   "metadata": {},
   "outputs": [
    {
     "data": {
      "text/plain": [
       "0.9717489442260084"
      ]
     },
     "execution_count": 43,
     "metadata": {},
     "output_type": "execute_result"
    }
   ],
   "source": [
    "from sklearn.metrics import accuracy_score\n",
    "\n",
    "cls_threshold = 0.3\n",
    "train_valid_pred_y = clf.predict_proba(train_valid_feature_df)\n",
    "train_valid_pred_y[train_valid_pred_y >= cls_threshold] = 1\n",
    "train_valid_pred_y[train_valid_pred_y < cls_threshold] = 0\n",
    "train_valid_pred_y = train_valid_pred_y[:, 1]\n",
    "accuracy_score(train_valid_pred_y, train_valid_true_y)"
   ]
  },
  {
   "cell_type": "code",
   "execution_count": 44,
   "id": "e6a1a542",
   "metadata": {},
   "outputs": [
    {
     "data": {
      "text/plain": [
       "(array([0.83185841]), array([0.752]), array([0.78991597]), array([375]))"
      ]
     },
     "execution_count": 44,
     "metadata": {},
     "output_type": "execute_result"
    }
   ],
   "source": [
    "from sklearn.metrics import precision_recall_fscore_support\n",
    "\n",
    "prob_y = clf.predict_proba(test_feature_df)\n",
    "pred_y = np.copy(prob_y)\n",
    "pred_y[pred_y >= cls_threshold] = 1\n",
    "pred_y[pred_y < cls_threshold] = 0\n",
    "pred_y = pred_y[:, 1]\n",
    "precision_recall_fscore_support(test_true_y, pred_y, labels=[1])"
   ]
  },
  {
   "cell_type": "code",
   "execution_count": 45,
   "id": "e378f9fb",
   "metadata": {},
   "outputs": [
    {
     "data": {
      "text/plain": [
       "(0.831858407079646, 0.7401574803149606)"
      ]
     },
     "execution_count": 45,
     "metadata": {},
     "output_type": "execute_result"
    }
   ],
   "source": [
    "cls_found_pair_set = OrderedSet(test_feature_df[pred_y.astype(bool)].index)\n",
    "\n",
    "precision_and_recall(cls_found_pair_set, test_pos_pair_set)"
   ]
  },
  {
   "cell_type": "markdown",
   "id": "b137b59d",
   "metadata": {},
   "source": [
    "False negatives:"
   ]
  },
  {
   "cell_type": "code",
   "execution_count": 46,
   "id": "0df0cb98",
   "metadata": {
    "scrolled": false
   },
   "outputs": [
    {
     "name": "stdout",
     "output_type": "stream",
     "text": [
      "[[0.71006755 0.28993245]]\n"
     ]
    },
    {
     "data": {
      "text/html": [
       "<div>\n",
       "<style scoped>\n",
       "    .dataframe tbody tr th:only-of-type {\n",
       "        vertical-align: middle;\n",
       "    }\n",
       "\n",
       "    .dataframe tbody tr th {\n",
       "        vertical-align: top;\n",
       "    }\n",
       "\n",
       "    .dataframe thead th {\n",
       "        text-align: right;\n",
       "    }\n",
       "</style>\n",
       "<table border=\"1\" class=\"dataframe\">\n",
       "  <thead>\n",
       "    <tr style=\"text-align: right;\">\n",
       "      <th></th>\n",
       "      <th>manufacturer</th>\n",
       "      <th>price</th>\n",
       "      <th>title</th>\n",
       "      <th>__source</th>\n",
       "      <th>all</th>\n",
       "    </tr>\n",
       "  </thead>\n",
       "  <tbody>\n",
       "    <tr>\n",
       "      <th>598</th>\n",
       "      <td>adobe</td>\n",
       "      <td>138.45</td>\n",
       "      <td>adobe pagemaker v7 . 0 . 2 cd mac - upg ( 1753...</td>\n",
       "      <td>amazon</td>\n",
       "      <td>adobe pagemaker v7 . 0 . 2 cd mac - upg ( 1753...</td>\n",
       "    </tr>\n",
       "    <tr>\n",
       "      <th>2318</th>\n",
       "      <td></td>\n",
       "      <td>79.99</td>\n",
       "      <td>adobe pagemaker 7 . 0 for mac version upgrade</td>\n",
       "      <td>google</td>\n",
       "      <td>adobe pagemaker 7 . 0 for mac version upgrade ...</td>\n",
       "    </tr>\n",
       "  </tbody>\n",
       "</table>\n",
       "</div>"
      ],
      "text/plain": [
       "     manufacturer   price                                              title  \\\n",
       "598         adobe  138.45  adobe pagemaker v7 . 0 . 2 cd mac - upg ( 1753...   \n",
       "2318                79.99      adobe pagemaker 7 . 0 for mac version upgrade   \n",
       "\n",
       "     __source                                                all  \n",
       "598    amazon  adobe pagemaker v7 . 0 . 2 cd mac - upg ( 1753...  \n",
       "2318   google  adobe pagemaker 7 . 0 for mac version upgrade ...  "
      ]
     },
     "metadata": {},
     "output_type": "display_data"
    },
    {
     "name": "stdout",
     "output_type": "stream",
     "text": [
      "[[0.76300242 0.23699758]]\n"
     ]
    },
    {
     "data": {
      "text/html": [
       "<div>\n",
       "<style scoped>\n",
       "    .dataframe tbody tr th:only-of-type {\n",
       "        vertical-align: middle;\n",
       "    }\n",
       "\n",
       "    .dataframe tbody tr th {\n",
       "        vertical-align: top;\n",
       "    }\n",
       "\n",
       "    .dataframe thead th {\n",
       "        text-align: right;\n",
       "    }\n",
       "</style>\n",
       "<table border=\"1\" class=\"dataframe\">\n",
       "  <thead>\n",
       "    <tr style=\"text-align: right;\">\n",
       "      <th></th>\n",
       "      <th>manufacturer</th>\n",
       "      <th>price</th>\n",
       "      <th>title</th>\n",
       "      <th>__source</th>\n",
       "      <th>all</th>\n",
       "    </tr>\n",
       "  </thead>\n",
       "  <tbody>\n",
       "    <tr>\n",
       "      <th>840</th>\n",
       "      <td>sony pictures digital entertainment</td>\n",
       "      <td>49.35</td>\n",
       "      <td>digital video and audio production book for ve...</td>\n",
       "      <td>amazon</td>\n",
       "      <td>digital video and audio production book for ve...</td>\n",
       "    </tr>\n",
       "    <tr>\n",
       "      <th>4304</th>\n",
       "      <td>sony creative software</td>\n",
       "      <td>27.99</td>\n",
       "      <td>digital video &amp; audio prod book</td>\n",
       "      <td>google</td>\n",
       "      <td>digital video &amp; audio prod book - sony creativ...</td>\n",
       "    </tr>\n",
       "  </tbody>\n",
       "</table>\n",
       "</div>"
      ],
      "text/plain": [
       "                             manufacturer  price  \\\n",
       "840   sony pictures digital entertainment  49.35   \n",
       "4304               sony creative software  27.99   \n",
       "\n",
       "                                                  title __source  \\\n",
       "840   digital video and audio production book for ve...   amazon   \n",
       "4304                    digital video & audio prod book   google   \n",
       "\n",
       "                                                    all  \n",
       "840   digital video and audio production book for ve...  \n",
       "4304  digital video & audio prod book - sony creativ...  "
      ]
     },
     "metadata": {},
     "output_type": "display_data"
    },
    {
     "name": "stdout",
     "output_type": "stream",
     "text": [
      "[[0.9447816 0.0552184]]\n"
     ]
    },
    {
     "data": {
      "text/html": [
       "<div>\n",
       "<style scoped>\n",
       "    .dataframe tbody tr th:only-of-type {\n",
       "        vertical-align: middle;\n",
       "    }\n",
       "\n",
       "    .dataframe tbody tr th {\n",
       "        vertical-align: top;\n",
       "    }\n",
       "\n",
       "    .dataframe thead th {\n",
       "        text-align: right;\n",
       "    }\n",
       "</style>\n",
       "<table border=\"1\" class=\"dataframe\">\n",
       "  <thead>\n",
       "    <tr style=\"text-align: right;\">\n",
       "      <th></th>\n",
       "      <th>manufacturer</th>\n",
       "      <th>price</th>\n",
       "      <th>title</th>\n",
       "      <th>__source</th>\n",
       "      <th>all</th>\n",
       "    </tr>\n",
       "  </thead>\n",
       "  <tbody>\n",
       "    <tr>\n",
       "      <th>1340</th>\n",
       "      <td>makemusic !</td>\n",
       "      <td>375.00</td>\n",
       "      <td>make music allegro 2007 labpack - 5 user</td>\n",
       "      <td>amazon</td>\n",
       "      <td>make music allegro 2007 labpack - 5 user - mak...</td>\n",
       "    </tr>\n",
       "    <tr>\n",
       "      <th>2011</th>\n",
       "      <td></td>\n",
       "      <td>272.94</td>\n",
       "      <td>hal leonard allegro 2007 5 - user labpack</td>\n",
       "      <td>google</td>\n",
       "      <td>hal leonard allegro 2007 5 - user labpack -  -...</td>\n",
       "    </tr>\n",
       "  </tbody>\n",
       "</table>\n",
       "</div>"
      ],
      "text/plain": [
       "     manufacturer   price                                      title __source  \\\n",
       "1340  makemusic !  375.00   make music allegro 2007 labpack - 5 user   amazon   \n",
       "2011               272.94  hal leonard allegro 2007 5 - user labpack   google   \n",
       "\n",
       "                                                    all  \n",
       "1340  make music allegro 2007 labpack - 5 user - mak...  \n",
       "2011  hal leonard allegro 2007 5 - user labpack -  -...  "
      ]
     },
     "metadata": {},
     "output_type": "display_data"
    },
    {
     "name": "stdout",
     "output_type": "stream",
     "text": [
      "[[0.99198804 0.00801196]]\n"
     ]
    },
    {
     "data": {
      "text/html": [
       "<div>\n",
       "<style scoped>\n",
       "    .dataframe tbody tr th:only-of-type {\n",
       "        vertical-align: middle;\n",
       "    }\n",
       "\n",
       "    .dataframe tbody tr th {\n",
       "        vertical-align: top;\n",
       "    }\n",
       "\n",
       "    .dataframe thead th {\n",
       "        text-align: right;\n",
       "    }\n",
       "</style>\n",
       "<table border=\"1\" class=\"dataframe\">\n",
       "  <thead>\n",
       "    <tr style=\"text-align: right;\">\n",
       "      <th></th>\n",
       "      <th>manufacturer</th>\n",
       "      <th>price</th>\n",
       "      <th>title</th>\n",
       "      <th>__source</th>\n",
       "      <th>all</th>\n",
       "    </tr>\n",
       "  </thead>\n",
       "  <tbody>\n",
       "    <tr>\n",
       "      <th>423</th>\n",
       "      <td>microsoft licenses</td>\n",
       "      <td>205.73</td>\n",
       "      <td>microsoft licenses word olp c ( 05903871 )</td>\n",
       "      <td>amazon</td>\n",
       "      <td>microsoft licenses word olp c ( 05903871 ) - m...</td>\n",
       "    </tr>\n",
       "    <tr>\n",
       "      <th>3727</th>\n",
       "      <td></td>\n",
       "      <td>111.78</td>\n",
       "      <td>microsoft 059 - 03871 molpc word sa</td>\n",
       "      <td>google</td>\n",
       "      <td>microsoft 059 - 03871 molpc word sa -  - 111 . 78</td>\n",
       "    </tr>\n",
       "  </tbody>\n",
       "</table>\n",
       "</div>"
      ],
      "text/plain": [
       "            manufacturer   price                                       title  \\\n",
       "423   microsoft licenses  205.73  microsoft licenses word olp c ( 05903871 )   \n",
       "3727                      111.78         microsoft 059 - 03871 molpc word sa   \n",
       "\n",
       "     __source                                                all  \n",
       "423    amazon  microsoft licenses word olp c ( 05903871 ) - m...  \n",
       "3727   google  microsoft 059 - 03871 molpc word sa -  - 111 . 78  "
      ]
     },
     "metadata": {},
     "output_type": "display_data"
    },
    {
     "name": "stdout",
     "output_type": "stream",
     "text": [
      "[[0.74287975 0.25712025]]\n"
     ]
    },
    {
     "data": {
      "text/html": [
       "<div>\n",
       "<style scoped>\n",
       "    .dataframe tbody tr th:only-of-type {\n",
       "        vertical-align: middle;\n",
       "    }\n",
       "\n",
       "    .dataframe tbody tr th {\n",
       "        vertical-align: top;\n",
       "    }\n",
       "\n",
       "    .dataframe thead th {\n",
       "        text-align: right;\n",
       "    }\n",
       "</style>\n",
       "<table border=\"1\" class=\"dataframe\">\n",
       "  <thead>\n",
       "    <tr style=\"text-align: right;\">\n",
       "      <th></th>\n",
       "      <th>manufacturer</th>\n",
       "      <th>price</th>\n",
       "      <th>title</th>\n",
       "      <th>__source</th>\n",
       "      <th>all</th>\n",
       "    </tr>\n",
       "  </thead>\n",
       "  <tbody>\n",
       "    <tr>\n",
       "      <th>932</th>\n",
       "      <td>pc tools</td>\n",
       "      <td>29.95</td>\n",
       "      <td>registry mechanic 5 . x pc system repair</td>\n",
       "      <td>amazon</td>\n",
       "      <td>registry mechanic 5 . x pc system repair - pc ...</td>\n",
       "    </tr>\n",
       "    <tr>\n",
       "      <th>1538</th>\n",
       "      <td></td>\n",
       "      <td>25.49</td>\n",
       "      <td>encore inc registry mechanic</td>\n",
       "      <td>google</td>\n",
       "      <td>encore inc registry mechanic -  - 25 . 49</td>\n",
       "    </tr>\n",
       "  </tbody>\n",
       "</table>\n",
       "</div>"
      ],
      "text/plain": [
       "     manufacturer  price                                     title __source  \\\n",
       "932      pc tools  29.95  registry mechanic 5 . x pc system repair   amazon   \n",
       "1538               25.49              encore inc registry mechanic   google   \n",
       "\n",
       "                                                    all  \n",
       "932   registry mechanic 5 . x pc system repair - pc ...  \n",
       "1538          encore inc registry mechanic -  - 25 . 49  "
      ]
     },
     "metadata": {},
     "output_type": "display_data"
    }
   ],
   "source": [
    "for x, y in list(test_pos_pair_set - cls_found_pair_set)[:5]:\n",
    "    print(clf.predict_proba(test_feature_df.loc[[(x, y)]]))\n",
    "    display(df.loc[[x, y]])"
   ]
  },
  {
   "cell_type": "code",
   "execution_count": 47,
   "id": "edcef2d2",
   "metadata": {},
   "outputs": [
    {
     "data": {
      "text/html": [
       "<div>\n",
       "<style scoped>\n",
       "    .dataframe tbody tr th:only-of-type {\n",
       "        vertical-align: middle;\n",
       "    }\n",
       "\n",
       "    .dataframe tbody tr th {\n",
       "        vertical-align: top;\n",
       "    }\n",
       "\n",
       "    .dataframe thead th {\n",
       "        text-align: right;\n",
       "    }\n",
       "</style>\n",
       "<table border=\"1\" class=\"dataframe\">\n",
       "  <thead>\n",
       "    <tr style=\"text-align: right;\">\n",
       "      <th></th>\n",
       "      <th></th>\n",
       "      <th>all_jaccard</th>\n",
       "      <th>all_overlap</th>\n",
       "      <th>all_damerau_levenshtein</th>\n",
       "      <th>all_jaro_winkler</th>\n",
       "      <th>manufacturer_jaccard</th>\n",
       "      <th>manufacturer_overlap</th>\n",
       "      <th>manufacturer_damerau_levenshtein</th>\n",
       "      <th>manufacturer_jaro_winkler</th>\n",
       "      <th>title_jaccard</th>\n",
       "      <th>title_overlap</th>\n",
       "      <th>title_damerau_levenshtein</th>\n",
       "      <th>title_jaro_winkler</th>\n",
       "      <th>price_abs_diff</th>\n",
       "      <th>price_abs_diff_log10</th>\n",
       "      <th>all_tfidf</th>\n",
       "      <th>embed_title_cos</th>\n",
       "      <th>embed_title_semantic_cos</th>\n",
       "      <th>embed_manufacturer_cos</th>\n",
       "      <th>embed_price_cos</th>\n",
       "    </tr>\n",
       "  </thead>\n",
       "  <tbody>\n",
       "    <tr>\n",
       "      <th>725</th>\n",
       "      <th>1803</th>\n",
       "      <td>0.615385</td>\n",
       "      <td>0.8</td>\n",
       "      <td>0.666667</td>\n",
       "      <td>0.875499</td>\n",
       "      <td>-1.0</td>\n",
       "      <td>-1.0</td>\n",
       "      <td>-1.0</td>\n",
       "      <td>-1.0</td>\n",
       "      <td>0.5</td>\n",
       "      <td>0.75</td>\n",
       "      <td>0.928571</td>\n",
       "      <td>0.924176</td>\n",
       "      <td>6.0</td>\n",
       "      <td>0.778151</td>\n",
       "      <td>0.617721</td>\n",
       "      <td>0.650337</td>\n",
       "      <td>0.608508</td>\n",
       "      <td>0.0</td>\n",
       "      <td>0.92046</td>\n",
       "    </tr>\n",
       "  </tbody>\n",
       "</table>\n",
       "</div>"
      ],
      "text/plain": [
       "          all_jaccard  all_overlap  all_damerau_levenshtein  all_jaro_winkler  \\\n",
       "725 1803     0.615385          0.8                 0.666667          0.875499   \n",
       "\n",
       "          manufacturer_jaccard  manufacturer_overlap  \\\n",
       "725 1803                  -1.0                  -1.0   \n",
       "\n",
       "          manufacturer_damerau_levenshtein  manufacturer_jaro_winkler  \\\n",
       "725 1803                              -1.0                       -1.0   \n",
       "\n",
       "          title_jaccard  title_overlap  title_damerau_levenshtein  \\\n",
       "725 1803            0.5           0.75                   0.928571   \n",
       "\n",
       "          title_jaro_winkler  price_abs_diff  price_abs_diff_log10  all_tfidf  \\\n",
       "725 1803            0.924176             6.0              0.778151   0.617721   \n",
       "\n",
       "          embed_title_cos  embed_title_semantic_cos  embed_manufacturer_cos  \\\n",
       "725 1803         0.650337                  0.608508                     0.0   \n",
       "\n",
       "          embed_price_cos  \n",
       "725 1803          0.92046  "
      ]
     },
     "metadata": {},
     "output_type": "display_data"
    },
    {
     "data": {
      "text/plain": [
       "array([[0.79387208, 0.20612792]])"
      ]
     },
     "execution_count": 47,
     "metadata": {},
     "output_type": "execute_result"
    }
   ],
   "source": [
    "pair = (725, 1803)\n",
    "display(test_feature_df.loc[[pair]])\n",
    "clf.predict_proba(test_feature_df.loc[[pair]])"
   ]
  },
  {
   "cell_type": "markdown",
   "id": "34dde2b4",
   "metadata": {},
   "source": [
    "Hard cases attention:"
   ]
  },
  {
   "cell_type": "code",
   "execution_count": 48,
   "id": "39fa4c3e",
   "metadata": {},
   "outputs": [
    {
     "data": {
      "text/html": [
       "<div>\n",
       "<style scoped>\n",
       "    .dataframe tbody tr th:only-of-type {\n",
       "        vertical-align: middle;\n",
       "    }\n",
       "\n",
       "    .dataframe tbody tr th {\n",
       "        vertical-align: top;\n",
       "    }\n",
       "\n",
       "    .dataframe thead th {\n",
       "        text-align: right;\n",
       "    }\n",
       "</style>\n",
       "<table border=\"1\" class=\"dataframe\">\n",
       "  <thead>\n",
       "    <tr style=\"text-align: right;\">\n",
       "      <th></th>\n",
       "      <th></th>\n",
       "      <th>prob</th>\n",
       "    </tr>\n",
       "  </thead>\n",
       "  <tbody>\n",
       "    <tr>\n",
       "      <th>414</th>\n",
       "      <th>4238</th>\n",
       "      <td>0.301563</td>\n",
       "    </tr>\n",
       "    <tr>\n",
       "      <th>969</th>\n",
       "      <th>2200</th>\n",
       "      <td>0.308724</td>\n",
       "    </tr>\n",
       "    <tr>\n",
       "      <th>621</th>\n",
       "      <th>1652</th>\n",
       "      <td>0.300975</td>\n",
       "    </tr>\n",
       "  </tbody>\n",
       "</table>\n",
       "</div>"
      ],
      "text/plain": [
       "              prob\n",
       "414 4238  0.301563\n",
       "969 2200  0.308724\n",
       "621 1652  0.300975"
      ]
     },
     "execution_count": 48,
     "metadata": {},
     "output_type": "execute_result"
    }
   ],
   "source": [
    "prob_df = pd.DataFrame(prob_y[:,1], columns=['prob'], index=test_feature_df.index)\n",
    "hard_prob_df = prob_df.loc[(prob_df['prob'] >= cls_threshold) & (prob_df['prob'] <= cls_threshold + 0.01)]\n",
    "hard_prob_df = hard_prob_df.loc[hard_prob_df.index.intersection(test_pos_pair_set)]\n",
    "hard_prob_df"
   ]
  },
  {
   "cell_type": "code",
   "execution_count": 49,
   "id": "207f5d89",
   "metadata": {},
   "outputs": [
    {
     "data": {
      "text/html": [
       "<style  type=\"text/css\" >\n",
       "#T_ee2e2_row0_col0{\n",
       "            background-color:  #f3f0f0;\n",
       "            color:  #000000;\n",
       "        }#T_ee2e2_row0_col1{\n",
       "            background-color:  #f97070;\n",
       "            color:  #000000;\n",
       "        }#T_ee2e2_row0_col2{\n",
       "            background-color:  #ff0000;\n",
       "            color:  #f1f1f1;\n",
       "        }</style><table id=\"T_ee2e2_\" ><thead>    <tr>        <th class=\"blank level0\" ></th>        <th class=\"col_heading level0 col0\" >web</th>        <th class=\"col_heading level0 col1\" >radio</th>        <th class=\"col_heading level0 col2\" >recorder</th>    </tr></thead><tbody>\n",
       "                <tr>\n",
       "                        <th id=\"T_ee2e2_level0_row0\" class=\"row_heading level0 row0\" >414</th>\n",
       "                        <td id=\"T_ee2e2_row0_col0\" class=\"data row0 col0\" >0.218576</td>\n",
       "                        <td id=\"T_ee2e2_row0_col1\" class=\"data row0 col1\" >0.285688</td>\n",
       "                        <td id=\"T_ee2e2_row0_col2\" class=\"data row0 col2\" >0.344367</td>\n",
       "            </tr>\n",
       "    </tbody></table>"
      ],
      "text/plain": [
       "<pandas.io.formats.style.Styler at 0x7f3998472850>"
      ]
     },
     "metadata": {},
     "output_type": "display_data"
    },
    {
     "data": {
      "text/html": [
       "<style  type=\"text/css\" >\n",
       "#T_b408c_row0_col0{\n",
       "            background-color:  #f6afaf;\n",
       "            color:  #000000;\n",
       "        }#T_b408c_row0_col1{\n",
       "            background-color:  #fe1616;\n",
       "            color:  #f1f1f1;\n",
       "        }#T_b408c_row0_col2{\n",
       "            background-color:  #ff0000;\n",
       "            color:  #f1f1f1;\n",
       "        }#T_b408c_row0_col3{\n",
       "            background-color:  #fb5454;\n",
       "            color:  #000000;\n",
       "        }#T_b408c_row0_col4{\n",
       "            background-color:  #f88282;\n",
       "            color:  #000000;\n",
       "        }#T_b408c_row0_col5{\n",
       "            background-color:  #f79999;\n",
       "            color:  #000000;\n",
       "        }#T_b408c_row0_col6{\n",
       "            background-color:  #f3f0f0;\n",
       "            color:  #000000;\n",
       "        }</style><table id=\"T_b408c_\" ><thead>    <tr>        <th class=\"blank level0\" ></th>        <th class=\"col_heading level0 col0\" >magix</th>        <th class=\"col_heading level0 col1\" >webradio</th>        <th class=\"col_heading level0 col2\" >recorder</th>        <th class=\"col_heading level0 col3\" >(</th>        <th class=\"col_heading level0 col4\" >pc</th>        <th class=\"col_heading level0 col5\" >)</th>        <th class=\"col_heading level0 col6\" >entertainment</th>    </tr></thead><tbody>\n",
       "                <tr>\n",
       "                        <th id=\"T_b408c_level0_row0\" class=\"row_heading level0 row0\" >4238</th>\n",
       "                        <td id=\"T_b408c_row0_col0\" class=\"data row0 col0\" >0.074174</td>\n",
       "                        <td id=\"T_b408c_row0_col1\" class=\"data row0 col1\" >0.183757</td>\n",
       "                        <td id=\"T_b408c_row0_col2\" class=\"data row0 col2\" >0.199531</td>\n",
       "                        <td id=\"T_b408c_row0_col3\" class=\"data row0 col3\" >0.139087</td>\n",
       "                        <td id=\"T_b408c_row0_col4\" class=\"data row0 col4\" >0.106333</td>\n",
       "                        <td id=\"T_b408c_row0_col5\" class=\"data row0 col5\" >0.089266</td>\n",
       "                        <td id=\"T_b408c_row0_col6\" class=\"data row0 col6\" >0.027144</td>\n",
       "            </tr>\n",
       "    </tbody></table>"
      ],
      "text/plain": [
       "<pandas.io.formats.style.Styler at 0x7f392d242820>"
      ]
     },
     "metadata": {},
     "output_type": "display_data"
    },
    {
     "data": {
      "text/html": [
       "<style  type=\"text/css\" >\n",
       "#T_d8936_row0_col0{\n",
       "            background-color:  #ff0000;\n",
       "            color:  #f1f1f1;\n",
       "        }#T_d8936_row0_col1{\n",
       "            background-color:  #f6b3b3;\n",
       "            color:  #000000;\n",
       "        }#T_d8936_row0_col2{\n",
       "            background-color:  #f7a4a4;\n",
       "            color:  #000000;\n",
       "        }#T_d8936_row0_col3{\n",
       "            background-color:  #fb4848;\n",
       "            color:  #000000;\n",
       "        }#T_d8936_row0_col4{\n",
       "            background-color:  #f7a3a3;\n",
       "            color:  #000000;\n",
       "        }#T_d8936_row0_col5{\n",
       "            background-color:  #f5c6c6;\n",
       "            color:  #000000;\n",
       "        }#T_d8936_row0_col6{\n",
       "            background-color:  #f3f0f0;\n",
       "            color:  #000000;\n",
       "        }#T_d8936_row0_col7{\n",
       "            background-color:  #f3e8e8;\n",
       "            color:  #000000;\n",
       "        }</style><table id=\"T_d8936_\" ><thead>    <tr>        <th class=\"blank level0\" ></th>        <th class=\"col_heading level0 col0\" >talk</th>        <th class=\"col_heading level0 col1\" >now</th>        <th class=\"col_heading level0 col2\" >!</th>        <th class=\"col_heading level0 col3\" >learn</th>        <th class=\"col_heading level0 col4\" >afrikaans</th>        <th class=\"col_heading level0 col5\" >-</th>        <th class=\"col_heading level0 col6\" >beginning</th>        <th class=\"col_heading level0 col7\" >level</th>    </tr></thead><tbody>\n",
       "                <tr>\n",
       "                        <th id=\"T_d8936_level0_row0\" class=\"row_heading level0 row0\" >969</th>\n",
       "                        <td id=\"T_d8936_row0_col0\" class=\"data row0 col0\" >0.256653</td>\n",
       "                        <td id=\"T_d8936_row0_col1\" class=\"data row0 col1\" >0.106061</td>\n",
       "                        <td id=\"T_d8936_row0_col2\" class=\"data row0 col2\" >0.118398</td>\n",
       "                        <td id=\"T_d8936_row0_col3\" class=\"data row0 col3\" >0.195727</td>\n",
       "                        <td id=\"T_d8936_row0_col4\" class=\"data row0 col4\" >0.119010</td>\n",
       "                        <td id=\"T_d8936_row0_col5\" class=\"data row0 col5\" >0.089879</td>\n",
       "                        <td id=\"T_d8936_row0_col6\" class=\"data row0 col6\" >0.053952</td>\n",
       "                        <td id=\"T_d8936_row0_col7\" class=\"data row0 col7\" >0.060320</td>\n",
       "            </tr>\n",
       "    </tbody></table>"
      ],
      "text/plain": [
       "<pandas.io.formats.style.Styler at 0x7f392cedd760>"
      ]
     },
     "metadata": {},
     "output_type": "display_data"
    },
    {
     "data": {
      "text/html": [
       "<style  type=\"text/css\" >\n",
       "#T_5f704_row0_col0{\n",
       "            background-color:  #f4d8d8;\n",
       "            color:  #000000;\n",
       "        }#T_5f704_row0_col1{\n",
       "            background-color:  #f3f0f0;\n",
       "            color:  #000000;\n",
       "        }#T_5f704_row0_col2{\n",
       "            background-color:  #ff0000;\n",
       "            color:  #f1f1f1;\n",
       "        }#T_5f704_row0_col3{\n",
       "            background-color:  #f4e2e2;\n",
       "            color:  #000000;\n",
       "        }#T_5f704_row0_col4{\n",
       "            background-color:  #f4dcdc;\n",
       "            color:  #000000;\n",
       "        }#T_5f704_row0_col5{\n",
       "            background-color:  #f7a8a7;\n",
       "            color:  #000000;\n",
       "        }#T_5f704_row0_col6{\n",
       "            background-color:  #f6b9b9;\n",
       "            color:  #000000;\n",
       "        }#T_5f704_row0_col7{\n",
       "            background-color:  #f3e9e9;\n",
       "            color:  #000000;\n",
       "        }</style><table id=\"T_5f704_\" ><thead>    <tr>        <th class=\"blank level0\" ></th>        <th class=\"col_heading level0 col0\" >topics</th>        <th class=\"col_heading level0 col1\" >entertainment</th>        <th class=\"col_heading level0 col2\" >talk</th>        <th class=\"col_heading level0 col3\" >now</th>        <th class=\"col_heading level0 col4\" >!</th>        <th class=\"col_heading level0 col5\" >afrikaans</th>        <th class=\"col_heading level0 col6\" >-</th>        <th class=\"col_heading level0 col7\" >beginners</th>    </tr></thead><tbody>\n",
       "                <tr>\n",
       "                        <th id=\"T_5f704_level0_row0\" class=\"row_heading level0 row0\" >2200</th>\n",
       "                        <td id=\"T_5f704_row0_col0\" class=\"data row0 col0\" >0.105835</td>\n",
       "                        <td id=\"T_5f704_row0_col1\" class=\"data row0 col1\" >0.090545</td>\n",
       "                        <td id=\"T_5f704_row0_col2\" class=\"data row0 col2\" >0.243092</td>\n",
       "                        <td id=\"T_5f704_row0_col3\" class=\"data row0 col3\" >0.100018</td>\n",
       "                        <td id=\"T_5f704_row0_col4\" class=\"data row0 col4\" >0.103585</td>\n",
       "                        <td id=\"T_5f704_row0_col5\" class=\"data row0 col5\" >0.136805</td>\n",
       "                        <td id=\"T_5f704_row0_col6\" class=\"data row0 col6\" >0.125246</td>\n",
       "                        <td id=\"T_5f704_row0_col7\" class=\"data row0 col7\" >0.094874</td>\n",
       "            </tr>\n",
       "    </tbody></table>"
      ],
      "text/plain": [
       "<pandas.io.formats.style.Styler at 0x7f392ce950d0>"
      ]
     },
     "metadata": {},
     "output_type": "display_data"
    },
    {
     "data": {
      "text/html": [
       "<style  type=\"text/css\" >\n",
       "#T_081ea_row0_col0{\n",
       "            background-color:  #f3f0f0;\n",
       "            color:  #000000;\n",
       "        }#T_081ea_row0_col1{\n",
       "            background-color:  #ff0000;\n",
       "            color:  #f1f1f1;\n",
       "        }#T_081ea_row0_col2{\n",
       "            background-color:  #fb4848;\n",
       "            color:  #000000;\n",
       "        }#T_081ea_row0_col3{\n",
       "            background-color:  #f6b9b9;\n",
       "            color:  #000000;\n",
       "        }#T_081ea_row0_col4{\n",
       "            background-color:  #f4dbdb;\n",
       "            color:  #000000;\n",
       "        }#T_081ea_row0_col5{\n",
       "            background-color:  #f79e9e;\n",
       "            color:  #000000;\n",
       "        }</style><table id=\"T_081ea_\" ><thead>    <tr>        <th class=\"blank level0\" ></th>        <th class=\"col_heading level0 col0\" >entertainment</th>        <th class=\"col_heading level0 col1\" >partners</th>        <th class=\"col_heading level0 col2\" >budgeting</th>        <th class=\"col_heading level0 col3\" >(</th>        <th class=\"col_heading level0 col4\" >mac</th>        <th class=\"col_heading level0 col5\" >)</th>    </tr></thead><tbody>\n",
       "                <tr>\n",
       "                        <th id=\"T_081ea_level0_row0\" class=\"row_heading level0 row0\" >621</th>\n",
       "                        <td id=\"T_081ea_row0_col0\" class=\"data row0 col0\" >0.068120</td>\n",
       "                        <td id=\"T_081ea_row0_col1\" class=\"data row0 col1\" >0.164832</td>\n",
       "                        <td id=\"T_081ea_row0_col2\" class=\"data row0 col2\" >0.135672</td>\n",
       "                        <td id=\"T_081ea_row0_col3\" class=\"data row0 col3\" >0.090144</td>\n",
       "                        <td id=\"T_081ea_row0_col4\" class=\"data row0 col4\" >0.076592</td>\n",
       "                        <td id=\"T_081ea_row0_col5\" class=\"data row0 col5\" >0.101351</td>\n",
       "            </tr>\n",
       "    </tbody></table>"
      ],
      "text/plain": [
       "<pandas.io.formats.style.Styler at 0x7f392ce95970>"
      ]
     },
     "metadata": {},
     "output_type": "display_data"
    },
    {
     "data": {
      "text/html": [
       "<style  type=\"text/css\" >\n",
       "#T_83de1_row0_col0{\n",
       "            background-color:  #f3f0f0;\n",
       "            color:  #000000;\n",
       "        }#T_83de1_row0_col1{\n",
       "            background-color:  #fe1212;\n",
       "            color:  #f1f1f1;\n",
       "        }#T_83de1_row0_col2{\n",
       "            background-color:  #fe1a1a;\n",
       "            color:  #f1f1f1;\n",
       "        }#T_83de1_row0_col3{\n",
       "            background-color:  #ff0000;\n",
       "            color:  #f1f1f1;\n",
       "        }#T_83de1_row0_col4{\n",
       "            background-color:  #fb4e4e;\n",
       "            color:  #000000;\n",
       "        }#T_83de1_row0_col5{\n",
       "            background-color:  #fd2d2d;\n",
       "            color:  #f1f1f1;\n",
       "        }</style><table id=\"T_83de1_\" ><thead>    <tr>        <th class=\"blank level0\" ></th>        <th class=\"col_heading level0 col0\" >entertainment</th>        <th class=\"col_heading level0 col1\" >partners</th>        <th class=\"col_heading level0 col2\" >ep</th>        <th class=\"col_heading level0 col3\" >budgeting</th>        <th class=\"col_heading level0 col4\" >for</th>        <th class=\"col_heading level0 col5\" >film</th>    </tr></thead><tbody>\n",
       "                <tr>\n",
       "                        <th id=\"T_83de1_level0_row0\" class=\"row_heading level0 row0\" >1652</th>\n",
       "                        <td id=\"T_83de1_row0_col0\" class=\"data row0 col0\" >0.061338</td>\n",
       "                        <td id=\"T_83de1_row0_col1\" class=\"data row0 col1\" >0.153294</td>\n",
       "                        <td id=\"T_83de1_row0_col2\" class=\"data row0 col2\" >0.149540</td>\n",
       "                        <td id=\"T_83de1_row0_col3\" class=\"data row0 col3\" >0.160757</td>\n",
       "                        <td id=\"T_83de1_row0_col4\" class=\"data row0 col4\" >0.128433</td>\n",
       "                        <td id=\"T_83de1_row0_col5\" class=\"data row0 col5\" >0.142096</td>\n",
       "            </tr>\n",
       "    </tbody></table>"
      ],
      "text/plain": [
       "<pandas.io.formats.style.Styler at 0x7f392d2428b0>"
      ]
     },
     "metadata": {},
     "output_type": "display_data"
    }
   ],
   "source": [
    "import seaborn as sns\n",
    "\n",
    "def display_attention(id_, field):\n",
    "    val = test_record_dict[id_][field]\n",
    "    attn_scores = test_attn_scores_dict[id_][:len(val.split())]\n",
    "    attn_df = pd.DataFrame(dict(zip(val.split(), attn_scores)), index=[id_])\n",
    "    cm = sns.light_palette(\"red\", as_cmap=True)\n",
    "    display(attn_df.style.background_gradient(cmap=cm, axis=1))\n",
    "\n",
    "def display_pair_attention(pair, field):\n",
    "    left_id, right_id = pair\n",
    "    display_attention(left_id, field)\n",
    "    display_attention(right_id, field)\n",
    "\n",
    "for pair in hard_prob_df.index:\n",
    "    display_pair_attention(pair, 'title')"
   ]
  },
  {
   "cell_type": "code",
   "execution_count": 51,
   "id": "01227cba",
   "metadata": {},
   "outputs": [
    {
     "data": {
      "text/plain": [
       "<Figure size 1152x720 with 0 Axes>"
      ]
     },
     "metadata": {},
     "output_type": "display_data"
    },
    {
     "data": {
      "image/png": "[encoded data removed]",
      "text/plain": [
       "<Figure size 432x288 with 1 Axes>"
      ]
     },
     "metadata": {
      "needs_background": "light"
     },
     "output_type": "display_data"
    }
   ],
   "source": [
    "%matplotlib inline\n",
    "import matplotlib.pyplot as plt\n",
    "from sklearn.metrics import plot_precision_recall_curve\n",
    "from sklearn.metrics import average_precision_score\n",
    "\n",
    "plt.figure(figsize=(16,10))\n",
    "\n",
    "disp = plot_precision_recall_curve(clf, test_feature_df, test_true_y)"
   ]
  }
 ],
 "metadata": {
  "kernelspec": {
   "display_name": "Python 3",
   "language": "python",
   "name": "python3"
  },
  "language_info": {
   "codemirror_mode": {
    "name": "ipython",
    "version": 3
   },
   "file_extension": ".py",
   "mimetype": "text/x-python",
   "name": "python",
   "nbconvert_exporter": "python",
   "pygments_lexer": "ipython3",
   "version": "3.8.6"
  }
 },
 "nbformat": 4,
 "nbformat_minor": 5
}
