{
 "cells": [
  {
   "cell_type": "markdown",
   "id": "14315d5a",
   "metadata": {},
   "source": [
    "# End to End Matching Example"
   ]
  },
  {
   "cell_type": "markdown",
   "id": "3080847d",
   "metadata": {},
   "source": [
    "Please run [Record-Linkage-Example.ipynb](Record-Linkage-Example.ipynb) before this one in order to get the trained model at `../trained-models/notebooks/rl/rl-model.ckpt`."
   ]
  },
  {
   "cell_type": "markdown",
   "id": "2eae51fb",
   "metadata": {},
   "source": [
    "## Boilerplate"
   ]
  },
  {
   "cell_type": "code",
   "execution_count": 1,
   "id": "e6be39ff",
   "metadata": {},
   "outputs": [],
   "source": [
    "%load_ext autoreload\n",
    "%autoreload 2"
   ]
  },
  {
   "cell_type": "code",
   "execution_count": 2,
   "id": "41394338",
   "metadata": {},
   "outputs": [],
   "source": [
    "from importlib import reload\n",
    "import logging\n",
    "reload(logging)\n",
    "logging.basicConfig(format='%(asctime)s %(levelname)s:%(message)s', level=logging.INFO, datefmt='%H:%M:%S')"
   ]
  },
  {
   "cell_type": "code",
   "execution_count": 3,
   "id": "96e239b1",
   "metadata": {},
   "outputs": [],
   "source": [
    "import sys\n",
    "\n",
    "sys.path.insert(0, '..')"
   ]
  },
  {
   "cell_type": "code",
   "execution_count": 4,
   "id": "23bdf412",
   "metadata": {},
   "outputs": [],
   "source": [
    "import entity_embed"
   ]
  },
  {
   "cell_type": "code",
   "execution_count": 5,
   "id": "d581925f",
   "metadata": {},
   "outputs": [],
   "source": [
    "import torch\n",
    "import numpy as np\n",
    "\n",
    "random_seed = 42\n",
    "torch.manual_seed(random_seed)\n",
    "np.random.seed(random_seed)"
   ]
  },
  {
   "cell_type": "markdown",
   "id": "a81e6680",
   "metadata": {},
   "source": [
    "## Loading Test Data"
   ]
  },
  {
   "cell_type": "code",
   "execution_count": 6,
   "id": "105a7df5",
   "metadata": {},
   "outputs": [],
   "source": [
    "import json\n",
    "from ordered_set import OrderedSet\n",
    "\n",
    "def load_pair_set(filepath):\n",
    "    with open(filepath, 'r') as f:\n",
    "        test_pos_pair_set = json.load(f)\n",
    "        return OrderedSet(tuple(pair) for pair in test_pos_pair_set)\n",
    "\n",
    "train_pos_pair_set = load_pair_set('../trained-models/notebooks/rl/rl-train-pos-pairs.json')\n",
    "valid_pos_pair_set = load_pair_set('../trained-models/notebooks/rl/rl-valid-pos-pairs.json')\n",
    "test_pos_pair_set = load_pair_set('../trained-models/notebooks/rl/rl-test-pos-pairs.json')"
   ]
  },
  {
   "cell_type": "code",
   "execution_count": 7,
   "id": "0af3fb30",
   "metadata": {},
   "outputs": [],
   "source": [
    "import json\n",
    "\n",
    "def load_record_dict(filepath):\n",
    "    with open(filepath, 'r') as f:\n",
    "        record_dict = json.load(f)\n",
    "        return {int(id_): record for id_, record in record_dict.items()}\n",
    "\n",
    "train_record_dict = load_record_dict('../trained-models/notebooks/rl/rl-train-records.json')\n",
    "valid_record_dict = load_record_dict('../trained-models/notebooks/rl/rl-valid-records.json')\n",
    "test_record_dict = load_record_dict('../trained-models/notebooks/rl/rl-test-records.json')"
   ]
  },
  {
   "cell_type": "markdown",
   "id": "9e691355",
   "metadata": {},
   "source": [
    "## Loading Model"
   ]
  },
  {
   "cell_type": "code",
   "execution_count": 8,
   "id": "9a29f154",
   "metadata": {},
   "outputs": [],
   "source": [
    "from entity_embed import LinkageEmbed\n",
    "\n",
    "model = LinkageEmbed.load_from_checkpoint('../trained-models/notebooks/rl/rl-model.ckpt')"
   ]
  },
  {
   "cell_type": "markdown",
   "id": "43e1861a",
   "metadata": {},
   "source": [
    "## Blocking"
   ]
  },
  {
   "cell_type": "markdown",
   "id": "e9287762",
   "metadata": {},
   "source": [
    "Use `sim_threshold = 0.45` to have ~6k pairs in `train_found_pair_set` and have a fair comparison with [End-to-End-Matching-Baseline.ipynb](./End-to-End-Matching-Baseline.ipynb)"
   ]
  },
  {
   "cell_type": "code",
   "execution_count": 9,
   "id": "00a07f05",
   "metadata": {},
   "outputs": [
    {
     "data": {
      "application/vnd.jupyter.widget-view+json": {
       "model_id": "8ea779e499c54278b1d9bf0f364a67fa",
       "version_major": 2,
       "version_minor": 0
      },
      "text/plain": [
       "# batch embedding:   0%|          | 0/44 [00:00<?, ?it/s]"
      ]
     },
     "metadata": {},
     "output_type": "display_data"
    },
    {
     "name": "stdout",
     "output_type": "stream",
     "text": [
      "CPU times: user 28.5 s, sys: 846 ms, total: 29.4 s\n",
      "Wall time: 5.21 s\n"
     ]
    }
   ],
   "source": [
    "%%time\n",
    "\n",
    "eval_batch_size = 64\n",
    "ann_k = 100\n",
    "sim_threshold = 0.45\n",
    "\n",
    "train_found_pair_set, train_vector_dict = model.predict_pairs(\n",
    "    record_dict=train_record_dict,\n",
    "    batch_size=eval_batch_size,\n",
    "    ann_k=ann_k,\n",
    "    sim_threshold=sim_threshold,\n",
    "    show_progress=True,\n",
    "    return_vector_dict=True\n",
    ")"
   ]
  },
  {
   "cell_type": "code",
   "execution_count": 10,
   "id": "2739357b",
   "metadata": {},
   "outputs": [
    {
     "data": {
      "application/vnd.jupyter.widget-view+json": {
       "model_id": "4942889887a14e3799599fb31155bef2",
       "version_major": 2,
       "version_minor": 0
      },
      "text/plain": [
       "# batch embedding:   0%|          | 0/15 [00:00<?, ?it/s]"
      ]
     },
     "metadata": {},
     "output_type": "display_data"
    },
    {
     "name": "stdout",
     "output_type": "stream",
     "text": [
      "CPU times: user 9.68 s, sys: 310 ms, total: 9.99 s\n",
      "Wall time: 1.92 s\n"
     ]
    }
   ],
   "source": [
    "%%time\n",
    "\n",
    "valid_found_pair_set, valid_vector_dict = model.predict_pairs(\n",
    "    record_dict=valid_record_dict,\n",
    "    batch_size=eval_batch_size,\n",
    "    ann_k=ann_k,\n",
    "    sim_threshold=sim_threshold,\n",
    "    show_progress=True,\n",
    "    return_vector_dict=True\n",
    ")"
   ]
  },
  {
   "cell_type": "code",
   "execution_count": 11,
   "id": "5d16e8ab",
   "metadata": {},
   "outputs": [
    {
     "data": {
      "application/vnd.jupyter.widget-view+json": {
       "model_id": "d606f0920fd84f1caae4f976897192f2",
       "version_major": 2,
       "version_minor": 0
      },
      "text/plain": [
       "# batch embedding:   0%|          | 0/15 [00:00<?, ?it/s]"
      ]
     },
     "metadata": {},
     "output_type": "display_data"
    },
    {
     "name": "stdout",
     "output_type": "stream",
     "text": [
      "CPU times: user 8.04 s, sys: 417 ms, total: 8.46 s\n",
      "Wall time: 1.73 s\n"
     ]
    }
   ],
   "source": [
    "%%time\n",
    "\n",
    "test_found_pair_set, test_vector_dict = model.predict_pairs(\n",
    "    record_dict=test_record_dict,\n",
    "    batch_size=eval_batch_size,\n",
    "    ann_k=ann_k,\n",
    "    sim_threshold=sim_threshold,\n",
    "    show_progress=True,\n",
    "    return_vector_dict=True\n",
    ")"
   ]
  },
  {
   "cell_type": "code",
   "execution_count": 12,
   "id": "75b09386",
   "metadata": {},
   "outputs": [
    {
     "data": {
      "text/plain": [
       "0.9008810572687225"
      ]
     },
     "execution_count": 12,
     "metadata": {},
     "output_type": "execute_result"
    }
   ],
   "source": [
    "from entity_embed.evaluation import pair_entity_ratio\n",
    "\n",
    "pair_entity_ratio(len(test_found_pair_set), len(test_record_dict))"
   ]
  },
  {
   "cell_type": "code",
   "execution_count": 13,
   "id": "3ad9d6e6",
   "metadata": {},
   "outputs": [
    {
     "data": {
      "text/plain": [
       "(0.2995110024449878, 0.98)"
      ]
     },
     "execution_count": 13,
     "metadata": {},
     "output_type": "execute_result"
    }
   ],
   "source": [
    "from entity_embed.evaluation import precision_and_recall\n",
    "\n",
    "precision_and_recall(test_found_pair_set, test_pos_pair_set)"
   ]
  },
  {
   "cell_type": "markdown",
   "id": "1bb67907",
   "metadata": {},
   "source": [
    "Complement the train/valid `found_pair_set` with `pos_pair_set` for training.  \n",
    "Leave test untoched, to reproduce production behavior:"
   ]
  },
  {
   "cell_type": "code",
   "execution_count": 14,
   "id": "ad6cd20d",
   "metadata": {},
   "outputs": [],
   "source": [
    "train_found_pair_set |= train_pos_pair_set\n",
    "valid_found_pair_set |= valid_pos_pair_set"
   ]
  },
  {
   "cell_type": "markdown",
   "id": "9e6925ac",
   "metadata": {},
   "source": [
    "## Matching: Compare"
   ]
  },
  {
   "cell_type": "markdown",
   "id": "93d29e62",
   "metadata": {},
   "source": [
    "Make a dataframe `df` with all records (train, valid, test) to add additional features:"
   ]
  },
  {
   "cell_type": "code",
   "execution_count": 15,
   "id": "14577317",
   "metadata": {},
   "outputs": [],
   "source": [
    "record_dict = {**train_record_dict, **valid_record_dict, **test_record_dict}"
   ]
  },
  {
   "cell_type": "code",
   "execution_count": 16,
   "id": "cc03d21f",
   "metadata": {},
   "outputs": [],
   "source": [
    "import pandas as pd\n",
    "\n",
    "df = pd.DataFrame.from_dict(record_dict, orient='index')\n",
    "df = df.drop(columns='id')"
   ]
  },
  {
   "cell_type": "code",
   "execution_count": 17,
   "id": "8e3e72de",
   "metadata": {},
   "outputs": [
    {
     "data": {
      "text/html": [
       "<div>\n",
       "<style scoped>\n",
       "    .dataframe tbody tr th:only-of-type {\n",
       "        vertical-align: middle;\n",
       "    }\n",
       "\n",
       "    .dataframe tbody tr th {\n",
       "        vertical-align: top;\n",
       "    }\n",
       "\n",
       "    .dataframe thead th {\n",
       "        text-align: right;\n",
       "    }\n",
       "</style>\n",
       "<table border=\"1\" class=\"dataframe\">\n",
       "  <thead>\n",
       "    <tr style=\"text-align: right;\">\n",
       "      <th></th>\n",
       "      <th>description</th>\n",
       "      <th>manufacturer</th>\n",
       "      <th>price</th>\n",
       "      <th>title</th>\n",
       "      <th>__source</th>\n",
       "      <th>cluster</th>\n",
       "      <th>all</th>\n",
       "    </tr>\n",
       "  </thead>\n",
       "  <tbody>\n",
       "    <tr>\n",
       "      <th>1728</th>\n",
       "      <td>system requirements macintosh macintosh comput...</td>\n",
       "      <td></td>\n",
       "      <td>1149.00</td>\n",
       "      <td>filemaker pro 8 . 5 5 - user pack</td>\n",
       "      <td>google</td>\n",
       "      <td>1561</td>\n",
       "      <td>filemaker pro 8 . 5 5 - user pack - system req...</td>\n",
       "    </tr>\n",
       "    <tr>\n",
       "      <th>255</th>\n",
       "      <td>- marketing information: diskeeper pro premier...</td>\n",
       "      <td>diskeeper corporation</td>\n",
       "      <td>736.66</td>\n",
       "      <td>diskeeper 2007 pro premier 5 - lic pack</td>\n",
       "      <td>amazon</td>\n",
       "      <td>1207</td>\n",
       "      <td>diskeeper 2007 pro premier 5 - lic pack - - ma...</td>\n",
       "    </tr>\n",
       "    <tr>\n",
       "      <th>2889</th>\n",
       "      <td></td>\n",
       "      <td></td>\n",
       "      <td>16.00</td>\n",
       "      <td>emc securid appl mnt - ent / std 17mo per u 2k...</td>\n",
       "      <td>google</td>\n",
       "      <td>2231</td>\n",
       "      <td>emc securid appl mnt - ent / std 17mo per u 2k...</td>\n",
       "    </tr>\n",
       "  </tbody>\n",
       "</table>\n",
       "</div>"
      ],
      "text/plain": [
       "                                            description  \\\n",
       "1728  system requirements macintosh macintosh comput...   \n",
       "255   - marketing information: diskeeper pro premier...   \n",
       "2889                                                      \n",
       "\n",
       "               manufacturer    price  \\\n",
       "1728                         1149.00   \n",
       "255   diskeeper corporation   736.66   \n",
       "2889                           16.00   \n",
       "\n",
       "                                                  title __source  cluster  \\\n",
       "1728                  filemaker pro 8 . 5 5 - user pack   google     1561   \n",
       "255             diskeeper 2007 pro premier 5 - lic pack   amazon     1207   \n",
       "2889  emc securid appl mnt - ent / std 17mo per u 2k...   google     2231   \n",
       "\n",
       "                                                    all  \n",
       "1728  filemaker pro 8 . 5 5 - user pack - system req...  \n",
       "255   diskeeper 2007 pro premier 5 - lic pack - - ma...  \n",
       "2889  emc securid appl mnt - ent / std 17mo per u 2k...  "
      ]
     },
     "execution_count": 17,
     "metadata": {},
     "output_type": "execute_result"
    }
   ],
   "source": [
    "df['all'] = df.agg('{0[title]} - {0[description]} - {0[manufacturer]} - {0[price]}'.format, axis=1)\n",
    "df['price'] = pd.to_numeric(df['price'].str.replace(' ', ''), errors='coerce')\n",
    "df.head(3)"
   ]
  },
  {
   "cell_type": "markdown",
   "id": "e1789693",
   "metadata": {},
   "source": [
    "Replace all `record_dict`s (train, valid, test) to add additional features:"
   ]
  },
  {
   "cell_type": "code",
   "execution_count": 18,
   "id": "f1732a76",
   "metadata": {},
   "outputs": [],
   "source": [
    "train_record_dict = df.loc[train_record_dict.keys()].to_dict(orient='index')\n",
    "valid_record_dict = df.loc[valid_record_dict.keys()].to_dict(orient='index')\n",
    "test_record_dict = df.loc[test_record_dict.keys()].to_dict(orient='index')\n",
    "\n",
    "del df"
   ]
  },
  {
   "cell_type": "code",
   "execution_count": 19,
   "id": "986bef99",
   "metadata": {},
   "outputs": [],
   "source": [
    "import textdistance as td\n",
    "import math\n",
    "\n",
    "def token_ops(func):\n",
    "    def new_func(x, y):\n",
    "        return func(x.split(), y.split())    \n",
    "    return new_func\n",
    "\n",
    "def empty_str(x, y):\n",
    "    return int(not x or not y)\n",
    "\n",
    "def empty_num(x, y):\n",
    "    return int(not x or not y or math.isnan(x) or math.isnan(y))\n",
    "\n",
    "def zero_if_empty(x):\n",
    "    if not x or math.isnan(x):\n",
    "        return 0\n",
    "    else:\n",
    "        return x\n",
    "\n",
    "def abs_diff(x, y):\n",
    "    return abs(zero_if_empty(x) - zero_if_empty(y))\n",
    "\n",
    "def abs_diff_log10(x, y, min_val=math.log10(1e-5)):\n",
    "    diff = abs_diff(x, y)\n",
    "    if diff > 0:\n",
    "        return max(math.log10(diff), min_val)\n",
    "    else:\n",
    "        return min_val\n",
    "\n",
    "SIM_FUNC_DICT = {\n",
    "    (\"all\", \"jaccard\"): token_ops(td.jaccard.normalized_similarity),\n",
    "    (\"all\", \"overlap\"): token_ops(td.overlap.normalized_similarity),\n",
    "    (\"all\", \"damerau_levenshtein\"): td.damerau_levenshtein.normalized_similarity,\n",
    "    (\"all\", \"jaro_winkler\"): td.jaro_winkler.normalized_similarity,\n",
    "    (\"manufacturer\", \"empty_str\"): empty_str,\n",
    "    (\"manufacturer\", \"jaccard\"): token_ops(td.jaccard.normalized_similarity),\n",
    "    (\"manufacturer\", \"overlap\"): token_ops(td.overlap.normalized_similarity),\n",
    "    (\"manufacturer\", \"damerau_levenshtein\"): td.damerau_levenshtein.normalized_similarity,\n",
    "    (\"manufacturer\", \"jaro_winkler\"): td.jaro_winkler.normalized_similarity,\n",
    "    (\"title\", \"jaccard\"): token_ops(td.jaccard.normalized_similarity),\n",
    "    (\"title\", \"overlap\"): token_ops(td.overlap.normalized_similarity),\n",
    "    (\"title\", \"damerau_levenshtein\"): td.damerau_levenshtein.normalized_similarity,\n",
    "    (\"title\", \"jaro_winkler\"): td.jaro_winkler.normalized_similarity,\n",
    "    (\"price\", \"empty_num\"): empty_num,\n",
    "    (\"price\", \"abs_diff\"): abs_diff,\n",
    "    (\"price\", \"abs_diff_log10\"): abs_diff_log10,\n",
    "}\n",
    "\n",
    "def record_sim_func(record_pair):\n",
    "    record_left, record_right = record_pair\n",
    "    feature_dict = {}\n",
    "    \n",
    "    for (field, sim_func_name), sim_func in SIM_FUNC_DICT.items():\n",
    "        sim = sim_func(record_left[field], record_right[field])\n",
    "        feature_dict[f\"{field}_{sim_func_name}\"] = sim\n",
    "    \n",
    "    return feature_dict"
   ]
  },
  {
   "cell_type": "code",
   "execution_count": 20,
   "id": "9789cd55",
   "metadata": {},
   "outputs": [
    {
     "name": "stdout",
     "output_type": "stream",
     "text": [
      "CPU times: user 2.57 ms, sys: 0 ns, total: 2.57 ms\n",
      "Wall time: 2.35 ms\n"
     ]
    },
    {
     "data": {
      "text/plain": [
       "{'all_jaccard': 0.0757575757575758,\n",
       " 'all_overlap': 0.6896551724137931,\n",
       " 'all_damerau_levenshtein': 0.09502262443438914,\n",
       " 'all_jaro_winkler': 0.545101848989317,\n",
       " 'manufacturer_empty_str': 1,\n",
       " 'manufacturer_jaccard': 0.0,\n",
       " 'manufacturer_overlap': 0.0,\n",
       " 'manufacturer_damerau_levenshtein': 0.0,\n",
       " 'manufacturer_jaro_winkler': 0.0,\n",
       " 'title_jaccard': 0.7142857142857143,\n",
       " 'title_overlap': 1.0,\n",
       " 'title_damerau_levenshtein': 0.8888888888888888,\n",
       " 'title_jaro_winkler': 0.9652777777777778,\n",
       " 'price_empty_num': 0,\n",
       " 'price_abs_diff': 14.709999999999994,\n",
       " 'price_abs_diff_log10': 1.16761267272753}"
      ]
     },
     "execution_count": 20,
     "metadata": {},
     "output_type": "execute_result"
    }
   ],
   "source": [
    "%%time\n",
    "\n",
    "pair = next(iter(test_pos_pair_set))\n",
    "id_left, id_right = pair\n",
    "feature_dict = record_sim_func((test_record_dict[id_left], test_record_dict[id_right]))\n",
    "\n",
    "# display(test_record_dict[id_left], test_record_dict[id_right])\n",
    "feature_dict"
   ]
  },
  {
   "cell_type": "code",
   "execution_count": 21,
   "id": "29ad8dfb",
   "metadata": {},
   "outputs": [],
   "source": [
    "from collections import defaultdict\n",
    "import multiprocessing\n",
    "from tqdm.auto import tqdm\n",
    "\n",
    "def compare_pairs(record_dict, found_pair_set):\n",
    "    all_feature_dict = defaultdict(list)\n",
    "    chunksize = 100\n",
    "    tasks = (\n",
    "        (record_dict[id_left], record_dict[id_right])\n",
    "        for (id_left, id_right)\n",
    "        in found_pair_set\n",
    "    )\n",
    "\n",
    "    with multiprocessing.Pool() as pool:\n",
    "        for feature_dict in tqdm(\n",
    "            pool.imap(record_sim_func, tasks, chunksize=chunksize),\n",
    "            total=len(found_pair_set)\n",
    "        ):\n",
    "            for feature, val in feature_dict.items():\n",
    "                all_feature_dict[feature].append(val)\n",
    "\n",
    "        pool.close()\n",
    "        pool.join()\n",
    "    \n",
    "    return pd.DataFrame(all_feature_dict, index=pd.MultiIndex.from_tuples(found_pair_set))"
   ]
  },
  {
   "cell_type": "code",
   "execution_count": 22,
   "id": "c73ff3a8",
   "metadata": {},
   "outputs": [
    {
     "data": {
      "application/vnd.jupyter.widget-view+json": {
       "model_id": "e9dfe0e6f80342008ff88f268c174662",
       "version_major": 2,
       "version_minor": 0
      },
      "text/plain": [
       "  0%|          | 0/6118 [00:00<?, ?it/s]"
      ]
     },
     "metadata": {},
     "output_type": "display_data"
    },
    {
     "name": "stdout",
     "output_type": "stream",
     "text": [
      "CPU times: user 533 ms, sys: 162 ms, total: 695 ms\n",
      "Wall time: 4.63 s\n"
     ]
    },
    {
     "data": {
      "text/plain": [
       "6118"
      ]
     },
     "execution_count": 22,
     "metadata": {},
     "output_type": "execute_result"
    }
   ],
   "source": [
    "%%time\n",
    "\n",
    "train_feature_df = compare_pairs(train_record_dict, train_found_pair_set)\n",
    "assert len(train_feature_df) == len(train_found_pair_set)\n",
    "len(train_found_pair_set)"
   ]
  },
  {
   "cell_type": "code",
   "execution_count": 23,
   "id": "1bf8bb26",
   "metadata": {},
   "outputs": [
    {
     "data": {
      "application/vnd.jupyter.widget-view+json": {
       "model_id": "60430f439c944ca6a240487fd4a217fa",
       "version_major": 2,
       "version_minor": 0
      },
      "text/plain": [
       "  0%|          | 0/829 [00:00<?, ?it/s]"
      ]
     },
     "metadata": {},
     "output_type": "display_data"
    },
    {
     "name": "stdout",
     "output_type": "stream",
     "text": [
      "CPU times: user 49.7 ms, sys: 96.7 ms, total: 146 ms\n",
      "Wall time: 831 ms\n"
     ]
    },
    {
     "data": {
      "text/plain": [
       "829"
      ]
     },
     "execution_count": 23,
     "metadata": {},
     "output_type": "execute_result"
    }
   ],
   "source": [
    "%%time\n",
    "\n",
    "valid_feature_df = compare_pairs(valid_record_dict, valid_found_pair_set)\n",
    "assert len(valid_feature_df) == len(valid_found_pair_set)\n",
    "len(valid_found_pair_set)"
   ]
  },
  {
   "cell_type": "code",
   "execution_count": 24,
   "id": "d7e8c66d",
   "metadata": {},
   "outputs": [
    {
     "data": {
      "application/vnd.jupyter.widget-view+json": {
       "model_id": "f235afd129a14457af8b18860eff7e82",
       "version_major": 2,
       "version_minor": 0
      },
      "text/plain": [
       "  0%|          | 0/818 [00:00<?, ?it/s]"
      ]
     },
     "metadata": {},
     "output_type": "display_data"
    },
    {
     "name": "stdout",
     "output_type": "stream",
     "text": [
      "CPU times: user 62.9 ms, sys: 96.8 ms, total: 160 ms\n",
      "Wall time: 948 ms\n"
     ]
    },
    {
     "data": {
      "text/plain": [
       "818"
      ]
     },
     "execution_count": 24,
     "metadata": {},
     "output_type": "execute_result"
    }
   ],
   "source": [
    "%%time\n",
    "\n",
    "test_feature_df = compare_pairs(test_record_dict, test_found_pair_set)\n",
    "assert len(test_feature_df) == len(test_found_pair_set)\n",
    "len(test_found_pair_set)"
   ]
  },
  {
   "cell_type": "markdown",
   "id": "dbe58af0",
   "metadata": {},
   "source": [
    "## Matching: Compare - TFIDF Feature"
   ]
  },
  {
   "cell_type": "code",
   "execution_count": 25,
   "id": "871df4b0",
   "metadata": {},
   "outputs": [
    {
     "data": {
      "text/plain": [
       "TfidfVectorizer(analyzer='char', min_df=2, ngram_range=(2, 4))"
      ]
     },
     "execution_count": 25,
     "metadata": {},
     "output_type": "execute_result"
    }
   ],
   "source": [
    "from sklearn.feature_extraction.text import TfidfVectorizer\n",
    "\n",
    "def get_tfidf_vectorizer(train_record_dict, valid_record_dict, field='all'):\n",
    "    tfidf_vectorizer = TfidfVectorizer(\n",
    "        analyzer='char',\n",
    "        ngram_range=(2,4),\n",
    "        min_df=2\n",
    "    )\n",
    "    train_valid_record_dict = {**train_record_dict, **valid_record_dict}\n",
    "    tfidf_vectorizer.fit(record[field] for record in train_valid_record_dict.values())\n",
    "    return tfidf_vectorizer\n",
    "\n",
    "tfidf_vectorizer = get_tfidf_vectorizer(train_record_dict, valid_record_dict)\n",
    "tfidf_vectorizer"
   ]
  },
  {
   "cell_type": "code",
   "execution_count": 26,
   "id": "bef71ffb",
   "metadata": {},
   "outputs": [],
   "source": [
    "import numpy as np\n",
    "\n",
    "def add_tfidf_feature(tfidf_vectorizer, feature_df, record_dict, found_pair_set, field='all'):\n",
    "    tfidf_matrix = tfidf_vectorizer.transform(record[field] for record in record_dict.values())\n",
    "\n",
    "    id_to_idx = {id_: idx for idx, id_ in enumerate(record_dict.keys())}\n",
    "    left_idx = [id_to_idx[left_id] for left_id, __ in found_pair_set]\n",
    "    right_idx = [id_to_idx[right_id] for __, right_id in found_pair_set]\n",
    "    tfidf_sim = tfidf_matrix[left_idx].multiply(tfidf_matrix[right_idx]).sum(axis=1)\n",
    "\n",
    "    feature_df[f'{field}_tfidf'] = tfidf_sim"
   ]
  },
  {
   "cell_type": "code",
   "execution_count": 27,
   "id": "3c6f5af1",
   "metadata": {},
   "outputs": [
    {
     "name": "stdout",
     "output_type": "stream",
     "text": [
      "CPU times: user 1.69 s, sys: 23.7 ms, total: 1.72 s\n",
      "Wall time: 1.72 s\n"
     ]
    }
   ],
   "source": [
    "%%time\n",
    "\n",
    "add_tfidf_feature(tfidf_vectorizer, train_feature_df, train_record_dict, train_found_pair_set)"
   ]
  },
  {
   "cell_type": "code",
   "execution_count": 28,
   "id": "4bfc48a2",
   "metadata": {},
   "outputs": [
    {
     "name": "stdout",
     "output_type": "stream",
     "text": [
      "CPU times: user 567 ms, sys: 3.85 ms, total: 571 ms\n",
      "Wall time: 571 ms\n"
     ]
    }
   ],
   "source": [
    "%%time\n",
    "\n",
    "add_tfidf_feature(tfidf_vectorizer, valid_feature_df, valid_record_dict, valid_found_pair_set)"
   ]
  },
  {
   "cell_type": "code",
   "execution_count": 29,
   "id": "bdb7247c",
   "metadata": {},
   "outputs": [
    {
     "name": "stdout",
     "output_type": "stream",
     "text": [
      "CPU times: user 558 ms, sys: 8.03 ms, total: 566 ms\n",
      "Wall time: 565 ms\n"
     ]
    }
   ],
   "source": [
    "%%time\n",
    "\n",
    "add_tfidf_feature(tfidf_vectorizer, test_feature_df, test_record_dict, test_found_pair_set)"
   ]
  },
  {
   "cell_type": "markdown",
   "id": "e3a02e01",
   "metadata": {},
   "source": [
    "## Matching: Compare - Embedding Cosine Feature "
   ]
  },
  {
   "cell_type": "code",
   "execution_count": 30,
   "id": "772f99fc",
   "metadata": {},
   "outputs": [],
   "source": [
    "import numpy as np\n",
    "\n",
    "def add_embed_cos_feature(feature_df, vector_dict, found_pair_set):\n",
    "    id_to_idx = {id_: idx for idx, id_ in enumerate(vector_dict.keys())}\n",
    "    embed_matrix = np.stack(list(vector_dict.values()))\n",
    "    left_idx = [id_to_idx[left_id] for left_id, __ in found_pair_set]\n",
    "    right_idx = [id_to_idx[right_id] for __, right_id in found_pair_set]\n",
    "    sim = np.multiply(embed_matrix[left_idx], embed_matrix[right_idx]).sum(axis=1)\n",
    "    feature_df['embed_cos'] = sim"
   ]
  },
  {
   "cell_type": "code",
   "execution_count": 31,
   "id": "967964d8",
   "metadata": {},
   "outputs": [
    {
     "name": "stdout",
     "output_type": "stream",
     "text": [
      "CPU times: user 3.63 ms, sys: 7.99 ms, total: 11.6 ms\n",
      "Wall time: 11.4 ms\n"
     ]
    }
   ],
   "source": [
    "%%time\n",
    "\n",
    "add_embed_cos_feature(train_feature_df, train_vector_dict, train_found_pair_set)"
   ]
  },
  {
   "cell_type": "code",
   "execution_count": 32,
   "id": "9549bc72",
   "metadata": {},
   "outputs": [
    {
     "name": "stdout",
     "output_type": "stream",
     "text": [
      "CPU times: user 2.61 ms, sys: 0 ns, total: 2.61 ms\n",
      "Wall time: 2.34 ms\n"
     ]
    }
   ],
   "source": [
    "%%time\n",
    "\n",
    "add_embed_cos_feature(valid_feature_df, valid_vector_dict, valid_found_pair_set)"
   ]
  },
  {
   "cell_type": "code",
   "execution_count": 33,
   "id": "b1cccd31",
   "metadata": {},
   "outputs": [
    {
     "name": "stdout",
     "output_type": "stream",
     "text": [
      "CPU times: user 2.55 ms, sys: 0 ns, total: 2.55 ms\n",
      "Wall time: 2.31 ms\n"
     ]
    }
   ],
   "source": [
    "%%time\n",
    "\n",
    "add_embed_cos_feature(test_feature_df, test_vector_dict, test_found_pair_set)"
   ]
  },
  {
   "cell_type": "markdown",
   "id": "4dd1185e",
   "metadata": {},
   "source": [
    "## Matching: Classify"
   ]
  },
  {
   "cell_type": "code",
   "execution_count": 34,
   "id": "f6f60ac7",
   "metadata": {},
   "outputs": [
    {
     "data": {
      "text/html": [
       "<div>\n",
       "<style scoped>\n",
       "    .dataframe tbody tr th:only-of-type {\n",
       "        vertical-align: middle;\n",
       "    }\n",
       "\n",
       "    .dataframe tbody tr th {\n",
       "        vertical-align: top;\n",
       "    }\n",
       "\n",
       "    .dataframe thead th {\n",
       "        text-align: right;\n",
       "    }\n",
       "</style>\n",
       "<table border=\"1\" class=\"dataframe\">\n",
       "  <thead>\n",
       "    <tr style=\"text-align: right;\">\n",
       "      <th></th>\n",
       "      <th></th>\n",
       "      <th>all_jaccard</th>\n",
       "      <th>all_overlap</th>\n",
       "      <th>all_damerau_levenshtein</th>\n",
       "      <th>all_jaro_winkler</th>\n",
       "      <th>manufacturer_empty_str</th>\n",
       "      <th>manufacturer_jaccard</th>\n",
       "      <th>manufacturer_overlap</th>\n",
       "      <th>manufacturer_damerau_levenshtein</th>\n",
       "      <th>manufacturer_jaro_winkler</th>\n",
       "      <th>title_jaccard</th>\n",
       "      <th>title_overlap</th>\n",
       "      <th>title_damerau_levenshtein</th>\n",
       "      <th>title_jaro_winkler</th>\n",
       "      <th>price_empty_num</th>\n",
       "      <th>price_abs_diff</th>\n",
       "      <th>price_abs_diff_log10</th>\n",
       "      <th>all_tfidf</th>\n",
       "      <th>embed_cos</th>\n",
       "    </tr>\n",
       "  </thead>\n",
       "  <tbody>\n",
       "    <tr>\n",
       "      <th>272</th>\n",
       "      <th>3735</th>\n",
       "      <td>0.187135</td>\n",
       "      <td>0.561404</td>\n",
       "      <td>0.254545</td>\n",
       "      <td>0.638474</td>\n",
       "      <td>1</td>\n",
       "      <td>0.0</td>\n",
       "      <td>0.0</td>\n",
       "      <td>0.0</td>\n",
       "      <td>0.0</td>\n",
       "      <td>0.454545</td>\n",
       "      <td>1.000000</td>\n",
       "      <td>0.277778</td>\n",
       "      <td>0.855556</td>\n",
       "      <td>0</td>\n",
       "      <td>0.05</td>\n",
       "      <td>-1.301030</td>\n",
       "      <td>0.543742</td>\n",
       "      <td>0.945604</td>\n",
       "    </tr>\n",
       "    <tr>\n",
       "      <th>938</th>\n",
       "      <th>2238</th>\n",
       "      <td>0.122340</td>\n",
       "      <td>0.442308</td>\n",
       "      <td>0.224708</td>\n",
       "      <td>0.591965</td>\n",
       "      <td>1</td>\n",
       "      <td>0.0</td>\n",
       "      <td>0.0</td>\n",
       "      <td>0.0</td>\n",
       "      <td>0.0</td>\n",
       "      <td>0.230769</td>\n",
       "      <td>0.428571</td>\n",
       "      <td>0.351852</td>\n",
       "      <td>0.696147</td>\n",
       "      <td>0</td>\n",
       "      <td>3.15</td>\n",
       "      <td>0.498311</td>\n",
       "      <td>0.543040</td>\n",
       "      <td>0.915240</td>\n",
       "    </tr>\n",
       "    <tr>\n",
       "      <th>352</th>\n",
       "      <th>4234</th>\n",
       "      <td>0.357143</td>\n",
       "      <td>0.555556</td>\n",
       "      <td>0.372340</td>\n",
       "      <td>0.760573</td>\n",
       "      <td>1</td>\n",
       "      <td>0.0</td>\n",
       "      <td>0.0</td>\n",
       "      <td>0.0</td>\n",
       "      <td>0.0</td>\n",
       "      <td>0.400000</td>\n",
       "      <td>0.666667</td>\n",
       "      <td>0.375000</td>\n",
       "      <td>0.719444</td>\n",
       "      <td>0</td>\n",
       "      <td>0.00</td>\n",
       "      <td>-5.000000</td>\n",
       "      <td>0.442623</td>\n",
       "      <td>0.916960</td>\n",
       "    </tr>\n",
       "  </tbody>\n",
       "</table>\n",
       "</div>"
      ],
      "text/plain": [
       "          all_jaccard  all_overlap  all_damerau_levenshtein  all_jaro_winkler  \\\n",
       "272 3735     0.187135     0.561404                 0.254545          0.638474   \n",
       "938 2238     0.122340     0.442308                 0.224708          0.591965   \n",
       "352 4234     0.357143     0.555556                 0.372340          0.760573   \n",
       "\n",
       "          manufacturer_empty_str  manufacturer_jaccard  manufacturer_overlap  \\\n",
       "272 3735                       1                   0.0                   0.0   \n",
       "938 2238                       1                   0.0                   0.0   \n",
       "352 4234                       1                   0.0                   0.0   \n",
       "\n",
       "          manufacturer_damerau_levenshtein  manufacturer_jaro_winkler  \\\n",
       "272 3735                               0.0                        0.0   \n",
       "938 2238                               0.0                        0.0   \n",
       "352 4234                               0.0                        0.0   \n",
       "\n",
       "          title_jaccard  title_overlap  title_damerau_levenshtein  \\\n",
       "272 3735       0.454545       1.000000                   0.277778   \n",
       "938 2238       0.230769       0.428571                   0.351852   \n",
       "352 4234       0.400000       0.666667                   0.375000   \n",
       "\n",
       "          title_jaro_winkler  price_empty_num  price_abs_diff  \\\n",
       "272 3735            0.855556                0            0.05   \n",
       "938 2238            0.696147                0            3.15   \n",
       "352 4234            0.719444                0            0.00   \n",
       "\n",
       "          price_abs_diff_log10  all_tfidf  embed_cos  \n",
       "272 3735             -1.301030   0.543742   0.945604  \n",
       "938 2238              0.498311   0.543040   0.915240  \n",
       "352 4234             -5.000000   0.442623   0.916960  "
      ]
     },
     "execution_count": 34,
     "metadata": {},
     "output_type": "execute_result"
    }
   ],
   "source": [
    "train_valid_feature_df = pd.concat([train_feature_df, valid_feature_df])\n",
    "train_valid_feature_df.head(3)"
   ]
  },
  {
   "cell_type": "code",
   "execution_count": 35,
   "id": "f4e3eda5",
   "metadata": {},
   "outputs": [],
   "source": [
    "train_true_y = np.array([pair in train_pos_pair_set for pair in train_found_pair_set], dtype='i4')\n",
    "valid_true_y = np.array([pair in valid_pos_pair_set for pair in valid_found_pair_set], dtype='i4')\n",
    "test_true_y = np.array([pair in test_pos_pair_set for pair in test_found_pair_set], dtype='i4')"
   ]
  },
  {
   "cell_type": "code",
   "execution_count": 36,
   "id": "471adca2",
   "metadata": {},
   "outputs": [],
   "source": [
    "train_valid_true_y = np.concatenate([train_true_y, valid_true_y])"
   ]
  },
  {
   "cell_type": "code",
   "execution_count": 37,
   "id": "d98c3077",
   "metadata": {
    "scrolled": true
   },
   "outputs": [
    {
     "name": "stdout",
     "output_type": "stream",
     "text": [
      "CPU times: user 1.51 s, sys: 23.4 ms, total: 1.53 s\n",
      "Wall time: 315 ms\n"
     ]
    },
    {
     "data": {
      "text/plain": [
       "RandomForestClassifier(n_jobs=-1, oob_score=True, random_state=42)"
      ]
     },
     "execution_count": 37,
     "metadata": {},
     "output_type": "execute_result"
    }
   ],
   "source": [
    "%%time\n",
    "\n",
    "from sklearn.ensemble import RandomForestClassifier\n",
    "\n",
    "clf = RandomForestClassifier(oob_score=True, n_jobs=-1, random_state=random_seed)\n",
    "clf.fit(train_valid_feature_df, train_valid_true_y)"
   ]
  },
  {
   "cell_type": "code",
   "execution_count": 38,
   "id": "8f8f2c87",
   "metadata": {},
   "outputs": [
    {
     "data": {
      "text/plain": [
       "0.9275946451705772"
      ]
     },
     "execution_count": 38,
     "metadata": {},
     "output_type": "execute_result"
    }
   ],
   "source": [
    "clf.oob_score_"
   ]
  },
  {
   "cell_type": "code",
   "execution_count": 39,
   "id": "8b20dd9c",
   "metadata": {
    "scrolled": false
   },
   "outputs": [
    {
     "data": {
      "text/plain": [
       "[('embed_cos', 0.33697342248373824),\n",
       " ('title_overlap', 0.12276315077103618),\n",
       " ('title_jaccard', 0.07231144875654234),\n",
       " ('all_tfidf', 0.06629056263794562),\n",
       " ('price_abs_diff', 0.05987689471651935),\n",
       " ('title_damerau_levenshtein', 0.054893705699185016),\n",
       " ('price_abs_diff_log10', 0.052170044764016675),\n",
       " ('all_overlap', 0.04687039175417089),\n",
       " ('title_jaro_winkler', 0.046699983740381715),\n",
       " ('all_jaccard', 0.04652771482639955),\n",
       " ('all_jaro_winkler', 0.03824354799951319),\n",
       " ('all_damerau_levenshtein', 0.03608902687046782),\n",
       " ('manufacturer_jaro_winkler', 0.004718749159100829),\n",
       " ('manufacturer_damerau_levenshtein', 0.004709856669781965),\n",
       " ('price_empty_num', 0.0038658262353301154),\n",
       " ('manufacturer_jaccard', 0.0035201897713516435),\n",
       " ('manufacturer_overlap', 0.0017738086398652198),\n",
       " ('manufacturer_empty_str', 0.0017016745046536607)]"
      ]
     },
     "execution_count": 39,
     "metadata": {},
     "output_type": "execute_result"
    }
   ],
   "source": [
    "feature_importances = dict(zip(train_valid_feature_df.columns, clf.feature_importances_))\n",
    "sorted(feature_importances.items(), key=lambda kv: kv[1], reverse=True)"
   ]
  },
  {
   "cell_type": "code",
   "execution_count": 40,
   "id": "dde175ac",
   "metadata": {},
   "outputs": [
    {
     "data": {
      "text/plain": [
       "0.992658701597812"
      ]
     },
     "execution_count": 40,
     "metadata": {},
     "output_type": "execute_result"
    }
   ],
   "source": [
    "from sklearn.metrics import accuracy_score\n",
    "\n",
    "cls_threshold = 0.3\n",
    "train_valid_pred_y = clf.predict_proba(train_valid_feature_df)\n",
    "train_valid_pred_y[train_valid_pred_y >= cls_threshold] = 1\n",
    "train_valid_pred_y[train_valid_pred_y < cls_threshold] = 0\n",
    "train_valid_pred_y = train_valid_pred_y[:, 1]\n",
    "accuracy_score(train_valid_pred_y, train_valid_true_y)"
   ]
  },
  {
   "cell_type": "code",
   "execution_count": 41,
   "id": "e6a1a542",
   "metadata": {},
   "outputs": [
    {
     "data": {
      "text/plain": [
       "(array([0.77489177]), array([0.73061224]), array([0.75210084]), array([245]))"
      ]
     },
     "execution_count": 41,
     "metadata": {},
     "output_type": "execute_result"
    }
   ],
   "source": [
    "from sklearn.metrics import precision_recall_fscore_support\n",
    "\n",
    "pred_y = clf.predict_proba(test_feature_df)\n",
    "pred_y[pred_y >= cls_threshold] = 1\n",
    "pred_y[pred_y < cls_threshold] = 0\n",
    "pred_y = pred_y[:, 1]\n",
    "precision_recall_fscore_support(test_true_y, pred_y, labels=[1])"
   ]
  },
  {
   "cell_type": "code",
   "execution_count": 42,
   "id": "e378f9fb",
   "metadata": {},
   "outputs": [
    {
     "data": {
      "text/plain": [
       "(0.7748917748917749, 0.716)"
      ]
     },
     "execution_count": 42,
     "metadata": {},
     "output_type": "execute_result"
    }
   ],
   "source": [
    "cls_found_pair_set = OrderedSet(test_feature_df[pred_y.astype(bool)].index)\n",
    "\n",
    "precision_and_recall(cls_found_pair_set, test_pos_pair_set)"
   ]
  },
  {
   "cell_type": "markdown",
   "id": "b137b59d",
   "metadata": {},
   "source": [
    "False negatives:"
   ]
  },
  {
   "cell_type": "code",
   "execution_count": 43,
   "id": "0df0cb98",
   "metadata": {},
   "outputs": [
    {
     "data": {
      "text/plain": [
       "((774, 1730),\n",
       " 'adobe software acrobat pro upgrd pro - pro mac ( adbcd01798mc )',\n",
       " 'adobe acrobat v8 . 0 professional for mac upgrade')"
      ]
     },
     "metadata": {},
     "output_type": "display_data"
    },
    {
     "data": {
      "text/plain": [
       "((990, 3606),\n",
       " 'power production storyboard artist 4',\n",
       " 'power production power production storyboard artist software animation software')"
      ]
     },
     "metadata": {},
     "output_type": "display_data"
    },
    {
     "data": {
      "text/plain": [
       "((598, 2318),\n",
       " 'adobe pagemaker v7 . 0 . 2 cd mac - upg ( 17530402 )',\n",
       " 'adobe pagemaker 7 . 0 for mac version upgrade')"
      ]
     },
     "metadata": {},
     "output_type": "display_data"
    },
    {
     "data": {
      "text/plain": [
       "((312, 1940),\n",
       " 'norton antivirus 2007',\n",
       " 'symantec norton anti - virus 2007 windows')"
      ]
     },
     "metadata": {},
     "output_type": "display_data"
    },
    {
     "data": {
      "text/plain": [
       "((644, 1693),\n",
       " 'microspot macdraft pe ( mac )',\n",
       " 'microspot macdraft pe personal edition')"
      ]
     },
     "metadata": {},
     "output_type": "display_data"
    },
    {
     "data": {
      "text/plain": [
       "((50, 3453),\n",
       " 'clifford the big red dog - thinking adventures',\n",
       " 'clifford thinking')"
      ]
     },
     "metadata": {},
     "output_type": "display_data"
    },
    {
     "data": {
      "text/plain": [
       "((97, 3000),\n",
       " 'tournament poker 2005',\n",
       " \"eagle games egl 150 tournament poker - no limit texas hold ' em\")"
      ]
     },
     "metadata": {},
     "output_type": "display_data"
    },
    {
     "data": {
      "text/plain": [
       "((199, 1428),\n",
       " 'netmanage upg rumba unix - hp edition level ( 902453 - 007 - c )',\n",
       " '902453 - 007 - b rumba unix - hp edition - upgrade license - 1 user - volume - level b ( 5 - 49 ) - c')"
      ]
     },
     "metadata": {},
     "output_type": "display_data"
    },
    {
     "data": {
      "text/plain": [
       "((243, 1504),\n",
       " 'money premium 2007 win32 eng na mini box us only cd',\n",
       " 'money prem 2007 cd minibox')"
      ]
     },
     "metadata": {},
     "output_type": "display_data"
    },
    {
     "data": {
      "text/plain": [
       "((1350, 1958), 'train sim modeler design studio', 'abacus train sim modeler')"
      ]
     },
     "metadata": {},
     "output_type": "display_data"
    }
   ],
   "source": [
    "for x, y in list(test_pos_pair_set - cls_found_pair_set)[:10]:\n",
    "    display(((x, y), test_record_dict[x]['title'], test_record_dict[y]['title']))"
   ]
  },
  {
   "cell_type": "code",
   "execution_count": 47,
   "id": "edcef2d2",
   "metadata": {},
   "outputs": [
    {
     "data": {
      "text/html": [
       "<div>\n",
       "<style scoped>\n",
       "    .dataframe tbody tr th:only-of-type {\n",
       "        vertical-align: middle;\n",
       "    }\n",
       "\n",
       "    .dataframe tbody tr th {\n",
       "        vertical-align: top;\n",
       "    }\n",
       "\n",
       "    .dataframe thead th {\n",
       "        text-align: right;\n",
       "    }\n",
       "</style>\n",
       "<table border=\"1\" class=\"dataframe\">\n",
       "  <thead>\n",
       "    <tr style=\"text-align: right;\">\n",
       "      <th></th>\n",
       "      <th></th>\n",
       "      <th>all_jaccard</th>\n",
       "      <th>all_overlap</th>\n",
       "      <th>all_damerau_levenshtein</th>\n",
       "      <th>all_jaro_winkler</th>\n",
       "      <th>manufacturer_empty_str</th>\n",
       "      <th>manufacturer_jaccard</th>\n",
       "      <th>manufacturer_overlap</th>\n",
       "      <th>manufacturer_damerau_levenshtein</th>\n",
       "      <th>manufacturer_jaro_winkler</th>\n",
       "      <th>title_jaccard</th>\n",
       "      <th>title_overlap</th>\n",
       "      <th>title_damerau_levenshtein</th>\n",
       "      <th>title_jaro_winkler</th>\n",
       "      <th>price_empty_num</th>\n",
       "      <th>price_abs_diff</th>\n",
       "      <th>price_abs_diff_log10</th>\n",
       "      <th>all_tfidf</th>\n",
       "      <th>embed_cos</th>\n",
       "    </tr>\n",
       "  </thead>\n",
       "  <tbody>\n",
       "    <tr>\n",
       "      <th>644</th>\n",
       "      <th>1693</th>\n",
       "      <td>0.125</td>\n",
       "      <td>0.292683</td>\n",
       "      <td>0.307506</td>\n",
       "      <td>0.648112</td>\n",
       "      <td>1</td>\n",
       "      <td>0.0</td>\n",
       "      <td>0.0</td>\n",
       "      <td>0.0</td>\n",
       "      <td>0.0</td>\n",
       "      <td>0.375</td>\n",
       "      <td>0.6</td>\n",
       "      <td>0.631579</td>\n",
       "      <td>0.8835</td>\n",
       "      <td>0</td>\n",
       "      <td>13.96</td>\n",
       "      <td>1.144885</td>\n",
       "      <td>0.272008</td>\n",
       "      <td>0.719391</td>\n",
       "    </tr>\n",
       "  </tbody>\n",
       "</table>\n",
       "</div>"
      ],
      "text/plain": [
       "          all_jaccard  all_overlap  all_damerau_levenshtein  all_jaro_winkler  \\\n",
       "644 1693        0.125     0.292683                 0.307506          0.648112   \n",
       "\n",
       "          manufacturer_empty_str  manufacturer_jaccard  manufacturer_overlap  \\\n",
       "644 1693                       1                   0.0                   0.0   \n",
       "\n",
       "          manufacturer_damerau_levenshtein  manufacturer_jaro_winkler  \\\n",
       "644 1693                               0.0                        0.0   \n",
       "\n",
       "          title_jaccard  title_overlap  title_damerau_levenshtein  \\\n",
       "644 1693          0.375            0.6                   0.631579   \n",
       "\n",
       "          title_jaro_winkler  price_empty_num  price_abs_diff  \\\n",
       "644 1693              0.8835                0           13.96   \n",
       "\n",
       "          price_abs_diff_log10  all_tfidf  embed_cos  \n",
       "644 1693              1.144885   0.272008   0.719391  "
      ]
     },
     "metadata": {},
     "output_type": "display_data"
    },
    {
     "data": {
      "text/plain": [
       "array([[1., 0.]])"
      ]
     },
     "execution_count": 47,
     "metadata": {},
     "output_type": "execute_result"
    }
   ],
   "source": [
    "pair = (644, 1693)\n",
    "display(test_feature_df.loc[[pair]])\n",
    "clf.predict_proba(test_feature_df.loc[[pair]])"
   ]
  },
  {
   "cell_type": "code",
   "execution_count": 45,
   "id": "01227cba",
   "metadata": {},
   "outputs": [
    {
     "data": {
      "text/plain": [
       "<Figure size 1152x720 with 0 Axes>"
      ]
     },
     "metadata": {},
     "output_type": "display_data"
    },
    {
     "data": {
      "image/png": "[encoded data removed]",
      "text/plain": [
       "<Figure size 432x288 with 1 Axes>"
      ]
     },
     "metadata": {
      "needs_background": "light"
     },
     "output_type": "display_data"
    }
   ],
   "source": [
    "%matplotlib inline\n",
    "import matplotlib.pyplot as plt\n",
    "from sklearn.metrics import plot_precision_recall_curve\n",
    "from sklearn.metrics import average_precision_score\n",
    "\n",
    "plt.figure(figsize=(16,10))\n",
    "\n",
    "disp = plot_precision_recall_curve(clf, test_feature_df, test_true_y)"
   ]
  }
 ],
 "metadata": {
  "kernelspec": {
   "display_name": "Python 3",
   "language": "python",
   "name": "python3"
  },
  "language_info": {
   "codemirror_mode": {
    "name": "ipython",
    "version": 3
   },
   "file_extension": ".py",
   "mimetype": "text/x-python",
   "name": "python",
   "nbconvert_exporter": "python",
   "pygments_lexer": "ipython3",
   "version": "3.8.6"
  }
 },
 "nbformat": 4,
 "nbformat_minor": 5
}
