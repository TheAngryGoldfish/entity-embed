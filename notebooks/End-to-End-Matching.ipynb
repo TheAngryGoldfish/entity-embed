{
 "cells": [
  {
   "cell_type": "markdown",
   "id": "14315d5a",
   "metadata": {},
   "source": [
    "# End to End Matching Example"
   ]
  },
  {
   "cell_type": "markdown",
   "id": "3080847d",
   "metadata": {},
   "source": [
    "Please run [Record-Linkage-Example.ipynb](Record-Linkage-Example.ipynb) before this one in order to get the trained model at `../trained-models/notebooks/rl/rl-model.ckpt`."
   ]
  },
  {
   "cell_type": "markdown",
   "id": "2eae51fb",
   "metadata": {},
   "source": [
    "## Boilerplate"
   ]
  },
  {
   "cell_type": "code",
   "execution_count": 1,
   "id": "e6be39ff",
   "metadata": {},
   "outputs": [],
   "source": [
    "%load_ext autoreload\n",
    "%autoreload 2"
   ]
  },
  {
   "cell_type": "code",
   "execution_count": 2,
   "id": "41394338",
   "metadata": {},
   "outputs": [],
   "source": [
    "from importlib import reload\n",
    "import logging\n",
    "reload(logging)\n",
    "logging.basicConfig(format='%(asctime)s %(levelname)s:%(message)s', level=logging.INFO, datefmt='%H:%M:%S')"
   ]
  },
  {
   "cell_type": "code",
   "execution_count": 3,
   "id": "96e239b1",
   "metadata": {},
   "outputs": [],
   "source": [
    "import sys\n",
    "\n",
    "sys.path.insert(0, '..')"
   ]
  },
  {
   "cell_type": "code",
   "execution_count": 4,
   "id": "23bdf412",
   "metadata": {},
   "outputs": [],
   "source": [
    "import entity_embed"
   ]
  },
  {
   "cell_type": "code",
   "execution_count": 5,
   "id": "d581925f",
   "metadata": {},
   "outputs": [],
   "source": [
    "import torch\n",
    "import numpy as np\n",
    "\n",
    "random_seed = 42\n",
    "torch.manual_seed(random_seed)\n",
    "np.random.seed(random_seed)"
   ]
  },
  {
   "cell_type": "markdown",
   "id": "a81e6680",
   "metadata": {},
   "source": [
    "## Loading Test Data"
   ]
  },
  {
   "cell_type": "code",
   "execution_count": 6,
   "id": "105a7df5",
   "metadata": {},
   "outputs": [],
   "source": [
    "import json\n",
    "from ordered_set import OrderedSet\n",
    "\n",
    "def load_pair_set(filepath):\n",
    "    with open(filepath, 'r') as f:\n",
    "        test_pos_pair_set = json.load(f)\n",
    "        return OrderedSet(tuple(pair) for pair in test_pos_pair_set)\n",
    "\n",
    "train_pos_pair_set = load_pair_set('../trained-models/notebooks/rl/rl-train-pos-pairs.json')\n",
    "valid_pos_pair_set = load_pair_set('../trained-models/notebooks/rl/rl-valid-pos-pairs.json')\n",
    "test_pos_pair_set = load_pair_set('../trained-models/notebooks/rl/rl-test-pos-pairs.json')"
   ]
  },
  {
   "cell_type": "code",
   "execution_count": 7,
   "id": "0af3fb30",
   "metadata": {},
   "outputs": [],
   "source": [
    "import json\n",
    "\n",
    "def load_record_dict(filepath):\n",
    "    with open(filepath, 'r') as f:\n",
    "        record_dict = json.load(f)\n",
    "        return {int(id_): record for id_, record in record_dict.items()}\n",
    "\n",
    "train_record_dict = load_record_dict('../trained-models/notebooks/rl/rl-train-records.json')\n",
    "valid_record_dict = load_record_dict('../trained-models/notebooks/rl/rl-valid-records.json')\n",
    "test_record_dict = load_record_dict('../trained-models/notebooks/rl/rl-test-records.json')"
   ]
  },
  {
   "cell_type": "markdown",
   "id": "9e691355",
   "metadata": {},
   "source": [
    "## Loading Model"
   ]
  },
  {
   "cell_type": "code",
   "execution_count": 8,
   "id": "9a29f154",
   "metadata": {},
   "outputs": [],
   "source": [
    "from entity_embed import LinkageEmbed\n",
    "\n",
    "model = LinkageEmbed.load_from_checkpoint('../trained-models/notebooks/rl/rl-model.ckpt')"
   ]
  },
  {
   "cell_type": "markdown",
   "id": "43e1861a",
   "metadata": {},
   "source": [
    "## Blocking"
   ]
  },
  {
   "cell_type": "code",
   "execution_count": 9,
   "id": "00a07f05",
   "metadata": {},
   "outputs": [
    {
     "data": {
      "application/vnd.jupyter.widget-view+json": {
       "model_id": "5842be4b8d77455d8cb7282818d81463",
       "version_major": 2,
       "version_minor": 0
      },
      "text/plain": [
       "# batch embedding:   0%|          | 0/44 [00:00<?, ?it/s]"
      ]
     },
     "metadata": {},
     "output_type": "display_data"
    },
    {
     "name": "stdout",
     "output_type": "stream",
     "text": [
      "CPU times: user 1min 42s, sys: 3.41 s, total: 1min 46s\n",
      "Wall time: 18.5 s\n"
     ]
    }
   ],
   "source": [
    "%%time\n",
    "\n",
    "eval_batch_size = 64\n",
    "ann_k = 100\n",
    "sim_threshold = 0.3\n",
    "\n",
    "train_found_pair_set = model.predict_pairs(\n",
    "    record_dict=train_record_dict,\n",
    "    batch_size=eval_batch_size,\n",
    "    ann_k=ann_k,\n",
    "    sim_threshold=sim_threshold,\n",
    "    show_progress=True,\n",
    ")"
   ]
  },
  {
   "cell_type": "code",
   "execution_count": 10,
   "id": "2739357b",
   "metadata": {},
   "outputs": [
    {
     "data": {
      "application/vnd.jupyter.widget-view+json": {
       "model_id": "8d5b292429764e40905953ee318f21a3",
       "version_major": 2,
       "version_minor": 0
      },
      "text/plain": [
       "# batch embedding:   0%|          | 0/15 [00:00<?, ?it/s]"
      ]
     },
     "metadata": {},
     "output_type": "display_data"
    },
    {
     "name": "stdout",
     "output_type": "stream",
     "text": [
      "CPU times: user 31.1 s, sys: 879 ms, total: 31.9 s\n",
      "Wall time: 5.85 s\n"
     ]
    }
   ],
   "source": [
    "%%time\n",
    "\n",
    "valid_found_pair_set = model.predict_pairs(\n",
    "    record_dict=valid_record_dict,\n",
    "    batch_size=eval_batch_size,\n",
    "    ann_k=ann_k,\n",
    "    sim_threshold=sim_threshold,\n",
    "    show_progress=True,\n",
    ")"
   ]
  },
  {
   "cell_type": "code",
   "execution_count": 11,
   "id": "5d16e8ab",
   "metadata": {},
   "outputs": [
    {
     "data": {
      "application/vnd.jupyter.widget-view+json": {
       "model_id": "96d31a328e2b4392a22e92df542085ef",
       "version_major": 2,
       "version_minor": 0
      },
      "text/plain": [
       "# batch embedding:   0%|          | 0/15 [00:00<?, ?it/s]"
      ]
     },
     "metadata": {},
     "output_type": "display_data"
    },
    {
     "name": "stdout",
     "output_type": "stream",
     "text": [
      "CPU times: user 27.1 s, sys: 1.01 s, total: 28.1 s\n",
      "Wall time: 5.19 s\n"
     ]
    }
   ],
   "source": [
    "%%time\n",
    "\n",
    "test_found_pair_set = model.predict_pairs(\n",
    "    record_dict=test_record_dict,\n",
    "    batch_size=eval_batch_size,\n",
    "    ann_k=ann_k,\n",
    "    sim_threshold=sim_threshold,\n",
    "    show_progress=True,\n",
    ")"
   ]
  },
  {
   "cell_type": "code",
   "execution_count": 12,
   "id": "75b09386",
   "metadata": {},
   "outputs": [
    {
     "data": {
      "text/plain": [
       "3.144273127753304"
      ]
     },
     "execution_count": 12,
     "metadata": {},
     "output_type": "execute_result"
    }
   ],
   "source": [
    "from entity_embed.evaluation import pair_entity_ratio\n",
    "\n",
    "pair_entity_ratio(len(test_found_pair_set), len(test_record_dict))"
   ]
  },
  {
   "cell_type": "code",
   "execution_count": 13,
   "id": "3ad9d6e6",
   "metadata": {},
   "outputs": [
    {
     "data": {
      "text/plain": [
       "(0.087215411558669, 0.996)"
      ]
     },
     "execution_count": 13,
     "metadata": {},
     "output_type": "execute_result"
    }
   ],
   "source": [
    "from entity_embed.evaluation import precision_and_recall\n",
    "\n",
    "precision_and_recall(test_found_pair_set, test_pos_pair_set)"
   ]
  },
  {
   "cell_type": "markdown",
   "id": "9e6925ac",
   "metadata": {},
   "source": [
    "## Matching: Compare"
   ]
  },
  {
   "cell_type": "markdown",
   "id": "93d29e62",
   "metadata": {},
   "source": [
    "Make a dataframe `df` with all records (train, valid, test) to add additional features:"
   ]
  },
  {
   "cell_type": "code",
   "execution_count": 14,
   "id": "14577317",
   "metadata": {},
   "outputs": [],
   "source": [
    "record_dict = {**train_record_dict, **valid_record_dict, **test_record_dict}"
   ]
  },
  {
   "cell_type": "code",
   "execution_count": 15,
   "id": "cc03d21f",
   "metadata": {},
   "outputs": [],
   "source": [
    "import pandas as pd\n",
    "\n",
    "df = pd.DataFrame.from_dict(record_dict, orient='index')\n",
    "df = df.drop(columns='id')"
   ]
  },
  {
   "cell_type": "code",
   "execution_count": 16,
   "id": "8e3e72de",
   "metadata": {},
   "outputs": [
    {
     "data": {
      "text/html": [
       "<div>\n",
       "<style scoped>\n",
       "    .dataframe tbody tr th:only-of-type {\n",
       "        vertical-align: middle;\n",
       "    }\n",
       "\n",
       "    .dataframe tbody tr th {\n",
       "        vertical-align: top;\n",
       "    }\n",
       "\n",
       "    .dataframe thead th {\n",
       "        text-align: right;\n",
       "    }\n",
       "</style>\n",
       "<table border=\"1\" class=\"dataframe\">\n",
       "  <thead>\n",
       "    <tr style=\"text-align: right;\">\n",
       "      <th></th>\n",
       "      <th>name</th>\n",
       "      <th>description</th>\n",
       "      <th>manufacturer</th>\n",
       "      <th>price</th>\n",
       "      <th>__source</th>\n",
       "      <th>cluster</th>\n",
       "      <th>all</th>\n",
       "    </tr>\n",
       "  </thead>\n",
       "  <tbody>\n",
       "    <tr>\n",
       "      <th>1728</th>\n",
       "      <td>filemaker pro 8 . 5 5 - user pack</td>\n",
       "      <td>system requirements macintosh macintosh comput...</td>\n",
       "      <td></td>\n",
       "      <td>1149.00</td>\n",
       "      <td>google</td>\n",
       "      <td>1561</td>\n",
       "      <td>filemaker pro 8 . 5 5 - user pack - system req...</td>\n",
       "    </tr>\n",
       "    <tr>\n",
       "      <th>255</th>\n",
       "      <td>diskeeper 2007 pro premier 5 - lic pack</td>\n",
       "      <td>- marketing information : diskeeper pro premie...</td>\n",
       "      <td>diskeeper corporation</td>\n",
       "      <td>736.66</td>\n",
       "      <td>amazon</td>\n",
       "      <td>1207</td>\n",
       "      <td>diskeeper 2007 pro premier 5 - lic pack - - ma...</td>\n",
       "    </tr>\n",
       "    <tr>\n",
       "      <th>2889</th>\n",
       "      <td>emc securid appl mnt - ent / std 17mo per u 2k...</td>\n",
       "      <td></td>\n",
       "      <td></td>\n",
       "      <td>16.00</td>\n",
       "      <td>google</td>\n",
       "      <td>2231</td>\n",
       "      <td>emc securid appl mnt - ent / std 17mo per u 2k...</td>\n",
       "    </tr>\n",
       "  </tbody>\n",
       "</table>\n",
       "</div>"
      ],
      "text/plain": [
       "                                                   name  \\\n",
       "1728                  filemaker pro 8 . 5 5 - user pack   \n",
       "255             diskeeper 2007 pro premier 5 - lic pack   \n",
       "2889  emc securid appl mnt - ent / std 17mo per u 2k...   \n",
       "\n",
       "                                            description  \\\n",
       "1728  system requirements macintosh macintosh comput...   \n",
       "255   - marketing information : diskeeper pro premie...   \n",
       "2889                                                      \n",
       "\n",
       "               manufacturer    price __source  cluster  \\\n",
       "1728                         1149.00   google     1561   \n",
       "255   diskeeper corporation   736.66   amazon     1207   \n",
       "2889                           16.00   google     2231   \n",
       "\n",
       "                                                    all  \n",
       "1728  filemaker pro 8 . 5 5 - user pack - system req...  \n",
       "255   diskeeper 2007 pro premier 5 - lic pack - - ma...  \n",
       "2889  emc securid appl mnt - ent / std 17mo per u 2k...  "
      ]
     },
     "execution_count": 16,
     "metadata": {},
     "output_type": "execute_result"
    }
   ],
   "source": [
    "df['all'] = df.agg('{0[name]} - {0[description]} - {0[manufacturer]} - {0[price]}'.format, axis=1)\n",
    "df['price'] = pd.to_numeric(df['price'].str.replace(' ', ''), errors='coerce')\n",
    "df.head(3)"
   ]
  },
  {
   "cell_type": "markdown",
   "id": "e1789693",
   "metadata": {},
   "source": [
    "Replace all `record_dict`s (train, valid, test) to add additional features:"
   ]
  },
  {
   "cell_type": "code",
   "execution_count": 17,
   "id": "f1732a76",
   "metadata": {},
   "outputs": [],
   "source": [
    "train_record_dict = df.loc[train_record_dict.keys()].to_dict(orient='index')\n",
    "valid_record_dict = df.loc[valid_record_dict.keys()].to_dict(orient='index')\n",
    "test_record_dict = df.loc[test_record_dict.keys()].to_dict(orient='index')\n",
    "\n",
    "del df"
   ]
  },
  {
   "cell_type": "code",
   "execution_count": 18,
   "id": "986bef99",
   "metadata": {},
   "outputs": [],
   "source": [
    "import textdistance as td\n",
    "import math\n",
    "\n",
    "def token_ops(func):\n",
    "    def new_func(x, y):\n",
    "        return func(x.split(), y.split())    \n",
    "    return new_func\n",
    "\n",
    "def empty_str(x, y):\n",
    "    return int(not x or not y)\n",
    "\n",
    "def empty_num(x, y):\n",
    "    return int(not x or not y or math.isnan(x) or math.isnan(y))\n",
    "\n",
    "def zero_if_empty(x):\n",
    "    if not x or math.isnan(x):\n",
    "        return 0\n",
    "    else:\n",
    "        return x\n",
    "\n",
    "def abs_diff(x, y):\n",
    "    return abs(zero_if_empty(x) - zero_if_empty(y))\n",
    "\n",
    "def abs_diff_log10(x, y, min_val=math.log10(1e-5)):\n",
    "    diff = abs_diff(x, y)\n",
    "    if diff > 0:\n",
    "        return max(math.log10(diff), min_val)\n",
    "    else:\n",
    "        return min_val\n",
    "\n",
    "SIM_FUNC_DICT = {\n",
    "    (\"all\", \"jaccard\"): token_ops(td.jaccard.normalized_similarity),\n",
    "    (\"all\", \"overlap\"): token_ops(td.overlap.normalized_similarity),\n",
    "    (\"all\", \"damerau_levenshtein\"): td.damerau_levenshtein.normalized_similarity,\n",
    "    (\"all\", \"jaro_winkler\"): td.jaro_winkler.normalized_similarity,\n",
    "    (\"description\", \"jaccard\"): token_ops(td.jaccard.normalized_similarity),\n",
    "    (\"description\", \"overlap\"): token_ops(td.overlap.normalized_similarity),\n",
    "    (\"description\", \"damerau_levenshtein\"): td.damerau_levenshtein.normalized_similarity,\n",
    "    (\"description\", \"jaro_winkler\"): td.jaro_winkler.normalized_similarity,\n",
    "    (\"manufacturer\", \"empty_str\"): empty_str,\n",
    "    (\"manufacturer\", \"jaccard\"): token_ops(td.jaccard.normalized_similarity),\n",
    "    (\"manufacturer\", \"overlap\"): token_ops(td.overlap.normalized_similarity),\n",
    "    (\"manufacturer\", \"damerau_levenshtein\"): td.damerau_levenshtein.normalized_similarity,\n",
    "    (\"manufacturer\", \"jaro_winkler\"): td.jaro_winkler.normalized_similarity,\n",
    "    (\"name\", \"jaccard\"): token_ops(td.jaccard.normalized_similarity),\n",
    "    (\"name\", \"overlap\"): token_ops(td.overlap.normalized_similarity),\n",
    "    (\"name\", \"damerau_levenshtein\"): td.damerau_levenshtein.normalized_similarity,\n",
    "    (\"name\", \"jaro_winkler\"): td.jaro_winkler.normalized_similarity,\n",
    "    (\"price\", \"empty_num\"): empty_num,\n",
    "    (\"price\", \"abs_diff\"): abs_diff,\n",
    "    (\"price\", \"abs_diff_log10\"): abs_diff_log10,\n",
    "}\n",
    "\n",
    "def record_sim_func(record_pair):\n",
    "    record_left, record_right = record_pair\n",
    "    feature_dict = {}\n",
    "    \n",
    "    for (field, sim_func_name), sim_func in SIM_FUNC_DICT.items():\n",
    "        sim = sim_func(record_left[field], record_right[field])\n",
    "        feature_dict[f\"{field}_{sim_func_name}\"] = sim\n",
    "    \n",
    "    return feature_dict"
   ]
  },
  {
   "cell_type": "code",
   "execution_count": 19,
   "id": "9789cd55",
   "metadata": {},
   "outputs": [
    {
     "name": "stdout",
     "output_type": "stream",
     "text": [
      "CPU times: user 2.46 ms, sys: 112 µs, total: 2.57 ms\n",
      "Wall time: 2.27 ms\n"
     ]
    },
    {
     "data": {
      "text/plain": [
       "{'all_jaccard': 0.10606060606060608,\n",
       " 'all_overlap': 0.4375,\n",
       " 'all_damerau_levenshtein': 0.21246006389776362,\n",
       " 'all_jaro_winkler': 0.5891946976977757,\n",
       " 'description_jaccard': 0.0431034482758621,\n",
       " 'description_overlap': 0.23809523809523814,\n",
       " 'description_damerau_levenshtein': 0.15752212389380527,\n",
       " 'description_jaro_winkler': 0.5512834662810849,\n",
       " 'manufacturer_empty_str': 1,\n",
       " 'manufacturer_jaccard': 0.0,\n",
       " 'manufacturer_overlap': 0.0,\n",
       " 'manufacturer_damerau_levenshtein': 0.0,\n",
       " 'manufacturer_jaro_winkler': 0.0,\n",
       " 'name_jaccard': 0.7142857142857143,\n",
       " 'name_overlap': 1.0,\n",
       " 'name_damerau_levenshtein': 0.8888888888888888,\n",
       " 'name_jaro_winkler': 0.9652777777777778,\n",
       " 'price_empty_num': 0,\n",
       " 'price_abs_diff': 14.709999999999994,\n",
       " 'price_abs_diff_log10': 1.16761267272753}"
      ]
     },
     "execution_count": 19,
     "metadata": {},
     "output_type": "execute_result"
    }
   ],
   "source": [
    "%%time\n",
    "\n",
    "pair = next(iter(test_pos_pair_set))\n",
    "id_left, id_right = pair\n",
    "feature_dict = record_sim_func((test_record_dict[id_left], test_record_dict[id_right]))\n",
    "\n",
    "# display(test_record_dict[id_left], test_record_dict[id_right])\n",
    "feature_dict"
   ]
  },
  {
   "cell_type": "code",
   "execution_count": 20,
   "id": "29ad8dfb",
   "metadata": {},
   "outputs": [],
   "source": [
    "from collections import defaultdict\n",
    "import multiprocessing\n",
    "from tqdm.auto import tqdm\n",
    "\n",
    "def compare_pairs(record_dict, found_pair_set):\n",
    "    all_feature_dict = defaultdict(list)\n",
    "    chunksize = 100\n",
    "    tasks = (\n",
    "        (record_dict[id_left], record_dict[id_right])\n",
    "        for (id_left, id_right)\n",
    "        in found_pair_set\n",
    "    )\n",
    "\n",
    "    with multiprocessing.Pool() as pool:\n",
    "        for feature_dict in tqdm(\n",
    "            pool.imap(record_sim_func, tasks, chunksize=chunksize),\n",
    "            total=len(found_pair_set)\n",
    "        ):\n",
    "            for feature, val in feature_dict.items():\n",
    "                all_feature_dict[feature].append(val)\n",
    "\n",
    "        pool.close()\n",
    "        pool.join()\n",
    "    \n",
    "    return pd.DataFrame(all_feature_dict, index=pd.MultiIndex.from_tuples(found_pair_set))"
   ]
  },
  {
   "cell_type": "code",
   "execution_count": 21,
   "id": "c73ff3a8",
   "metadata": {},
   "outputs": [
    {
     "data": {
      "application/vnd.jupyter.widget-view+json": {
       "model_id": "a66ae5bb33ee4575ab35aa9a6eb05d30",
       "version_major": 2,
       "version_minor": 0
      },
      "text/plain": [
       "  0%|          | 0/20227 [00:00<?, ?it/s]"
      ]
     },
     "metadata": {},
     "output_type": "display_data"
    },
    {
     "name": "stdout",
     "output_type": "stream",
     "text": [
      "CPU times: user 1.21 s, sys: 240 ms, total: 1.45 s\n",
      "Wall time: 5.39 s\n"
     ]
    },
    {
     "data": {
      "text/plain": [
       "20227"
      ]
     },
     "execution_count": 21,
     "metadata": {},
     "output_type": "execute_result"
    }
   ],
   "source": [
    "%%time\n",
    "\n",
    "train_feature_df = compare_pairs(train_record_dict, train_found_pair_set)\n",
    "assert len(train_feature_df) == len(train_found_pair_set)\n",
    "len(train_found_pair_set)"
   ]
  },
  {
   "cell_type": "code",
   "execution_count": 22,
   "id": "1bf8bb26",
   "metadata": {},
   "outputs": [
    {
     "data": {
      "application/vnd.jupyter.widget-view+json": {
       "model_id": "8ef75126c91443208bfda368d80439e3",
       "version_major": 2,
       "version_minor": 0
      },
      "text/plain": [
       "  0%|          | 0/2557 [00:00<?, ?it/s]"
      ]
     },
     "metadata": {},
     "output_type": "display_data"
    },
    {
     "name": "stdout",
     "output_type": "stream",
     "text": [
      "CPU times: user 134 ms, sys: 88.9 ms, total: 222 ms\n",
      "Wall time: 917 ms\n"
     ]
    },
    {
     "data": {
      "text/plain": [
       "2557"
      ]
     },
     "execution_count": 22,
     "metadata": {},
     "output_type": "execute_result"
    }
   ],
   "source": [
    "%%time\n",
    "\n",
    "valid_feature_df = compare_pairs(valid_record_dict, valid_found_pair_set)\n",
    "assert len(valid_feature_df) == len(valid_found_pair_set)\n",
    "len(valid_found_pair_set)"
   ]
  },
  {
   "cell_type": "code",
   "execution_count": 23,
   "id": "d7e8c66d",
   "metadata": {},
   "outputs": [
    {
     "data": {
      "application/vnd.jupyter.widget-view+json": {
       "model_id": "37dbf4256304473c9e27b0620fd26dc3",
       "version_major": 2,
       "version_minor": 0
      },
      "text/plain": [
       "  0%|          | 0/2855 [00:00<?, ?it/s]"
      ]
     },
     "metadata": {},
     "output_type": "display_data"
    },
    {
     "name": "stdout",
     "output_type": "stream",
     "text": [
      "CPU times: user 146 ms, sys: 108 ms, total: 255 ms\n",
      "Wall time: 980 ms\n"
     ]
    },
    {
     "data": {
      "text/plain": [
       "2855"
      ]
     },
     "execution_count": 23,
     "metadata": {},
     "output_type": "execute_result"
    }
   ],
   "source": [
    "%%time\n",
    "\n",
    "test_feature_df = compare_pairs(test_record_dict, test_found_pair_set)\n",
    "assert len(test_feature_df) == len(test_found_pair_set)\n",
    "len(test_found_pair_set)"
   ]
  },
  {
   "cell_type": "markdown",
   "id": "dbe58af0",
   "metadata": {},
   "source": [
    "## Matching: Compare - Additional Features"
   ]
  },
  {
   "cell_type": "code",
   "execution_count": 24,
   "id": "871df4b0",
   "metadata": {},
   "outputs": [
    {
     "data": {
      "text/plain": [
       "TfidfVectorizer(analyzer='char', min_df=2, ngram_range=(2, 4))"
      ]
     },
     "execution_count": 24,
     "metadata": {},
     "output_type": "execute_result"
    }
   ],
   "source": [
    "from sklearn.feature_extraction.text import TfidfVectorizer\n",
    "\n",
    "def get_tfidf_vectorizer(train_record_dict, valid_record_dict, field='all'):\n",
    "    tfidf_vectorizer = TfidfVectorizer(\n",
    "        analyzer='char',\n",
    "        ngram_range=(2,4),\n",
    "        min_df=2\n",
    "    )\n",
    "    train_valid_record_dict = {**train_record_dict, **valid_record_dict}\n",
    "    tfidf_vectorizer.fit(record[field] for record in train_valid_record_dict.values())\n",
    "    return tfidf_vectorizer\n",
    "\n",
    "tfidf_vectorizer = get_tfidf_vectorizer(train_record_dict, valid_record_dict)\n",
    "tfidf_vectorizer"
   ]
  },
  {
   "cell_type": "code",
   "execution_count": 25,
   "id": "bef71ffb",
   "metadata": {},
   "outputs": [],
   "source": [
    "import numpy as np\n",
    "\n",
    "def add_tfidf_feature(feature_df, record_dict, found_pair_set, field='all'):\n",
    "    tfidf_matrix = tfidf_vectorizer.transform(record[field] for record in record_dict.values())\n",
    "\n",
    "    id_to_idx = {id_: idx for idx, id_ in enumerate(record_dict.keys())}\n",
    "    left_idx = [id_to_idx[left_id] for left_id, __ in found_pair_set]\n",
    "    right_idx = [id_to_idx[right_id] for __, right_id in found_pair_set]\n",
    "    tfidf_sim = tfidf_matrix[left_idx].multiply(tfidf_matrix[right_idx]).sum(axis=1)\n",
    "\n",
    "    feature_df[f'{field}_tfidf'] = tfidf_sim"
   ]
  },
  {
   "cell_type": "code",
   "execution_count": 26,
   "id": "3c6f5af1",
   "metadata": {},
   "outputs": [
    {
     "name": "stdout",
     "output_type": "stream",
     "text": [
      "CPU times: user 1.16 s, sys: 52 ms, total: 1.21 s\n",
      "Wall time: 1.21 s\n"
     ]
    }
   ],
   "source": [
    "%%time\n",
    "\n",
    "add_tfidf_feature(train_feature_df, train_record_dict, train_found_pair_set)"
   ]
  },
  {
   "cell_type": "code",
   "execution_count": 27,
   "id": "4bfc48a2",
   "metadata": {},
   "outputs": [
    {
     "name": "stdout",
     "output_type": "stream",
     "text": [
      "CPU times: user 345 ms, sys: 4.05 ms, total: 349 ms\n",
      "Wall time: 349 ms\n"
     ]
    }
   ],
   "source": [
    "%%time\n",
    "\n",
    "add_tfidf_feature(valid_feature_df, valid_record_dict, valid_found_pair_set)"
   ]
  },
  {
   "cell_type": "code",
   "execution_count": 28,
   "id": "bdb7247c",
   "metadata": {},
   "outputs": [
    {
     "name": "stdout",
     "output_type": "stream",
     "text": [
      "CPU times: user 345 ms, sys: 4.04 ms, total: 349 ms\n",
      "Wall time: 349 ms\n"
     ]
    }
   ],
   "source": [
    "%%time\n",
    "\n",
    "add_tfidf_feature(test_feature_df, test_record_dict, test_found_pair_set)"
   ]
  },
  {
   "cell_type": "markdown",
   "id": "4dd1185e",
   "metadata": {},
   "source": [
    "## Matching: Classify"
   ]
  },
  {
   "cell_type": "code",
   "execution_count": 29,
   "id": "f6f60ac7",
   "metadata": {},
   "outputs": [
    {
     "data": {
      "text/html": [
       "<div>\n",
       "<style scoped>\n",
       "    .dataframe tbody tr th:only-of-type {\n",
       "        vertical-align: middle;\n",
       "    }\n",
       "\n",
       "    .dataframe tbody tr th {\n",
       "        vertical-align: top;\n",
       "    }\n",
       "\n",
       "    .dataframe thead th {\n",
       "        text-align: right;\n",
       "    }\n",
       "</style>\n",
       "<table border=\"1\" class=\"dataframe\">\n",
       "  <thead>\n",
       "    <tr style=\"text-align: right;\">\n",
       "      <th></th>\n",
       "      <th></th>\n",
       "      <th>all_jaccard</th>\n",
       "      <th>all_overlap</th>\n",
       "      <th>all_damerau_levenshtein</th>\n",
       "      <th>all_jaro_winkler</th>\n",
       "      <th>description_jaccard</th>\n",
       "      <th>description_overlap</th>\n",
       "      <th>description_damerau_levenshtein</th>\n",
       "      <th>description_jaro_winkler</th>\n",
       "      <th>manufacturer_empty_str</th>\n",
       "      <th>manufacturer_jaccard</th>\n",
       "      <th>...</th>\n",
       "      <th>manufacturer_damerau_levenshtein</th>\n",
       "      <th>manufacturer_jaro_winkler</th>\n",
       "      <th>name_jaccard</th>\n",
       "      <th>name_overlap</th>\n",
       "      <th>name_damerau_levenshtein</th>\n",
       "      <th>name_jaro_winkler</th>\n",
       "      <th>price_empty_num</th>\n",
       "      <th>price_abs_diff</th>\n",
       "      <th>price_abs_diff_log10</th>\n",
       "      <th>all_tfidf</th>\n",
       "    </tr>\n",
       "  </thead>\n",
       "  <tbody>\n",
       "    <tr>\n",
       "      <th>1169</th>\n",
       "      <th>2516</th>\n",
       "      <td>0.209790</td>\n",
       "      <td>0.535714</td>\n",
       "      <td>0.311321</td>\n",
       "      <td>0.669970</td>\n",
       "      <td>0.146341</td>\n",
       "      <td>0.439024</td>\n",
       "      <td>0.278169</td>\n",
       "      <td>0.655704</td>\n",
       "      <td>1</td>\n",
       "      <td>0.0</td>\n",
       "      <td>...</td>\n",
       "      <td>0.0</td>\n",
       "      <td>0.0</td>\n",
       "      <td>0.500000</td>\n",
       "      <td>0.666667</td>\n",
       "      <td>0.666667</td>\n",
       "      <td>0.835480</td>\n",
       "      <td>0</td>\n",
       "      <td>0.00</td>\n",
       "      <td>-5.000000</td>\n",
       "      <td>0.410840</td>\n",
       "    </tr>\n",
       "    <tr>\n",
       "      <th>1186</th>\n",
       "      <th>1931</th>\n",
       "      <td>0.079268</td>\n",
       "      <td>0.206349</td>\n",
       "      <td>0.234247</td>\n",
       "      <td>0.597061</td>\n",
       "      <td>0.033784</td>\n",
       "      <td>0.094340</td>\n",
       "      <td>0.212575</td>\n",
       "      <td>0.593720</td>\n",
       "      <td>1</td>\n",
       "      <td>0.0</td>\n",
       "      <td>...</td>\n",
       "      <td>0.0</td>\n",
       "      <td>0.0</td>\n",
       "      <td>0.181818</td>\n",
       "      <td>0.500000</td>\n",
       "      <td>0.400000</td>\n",
       "      <td>0.828095</td>\n",
       "      <td>0</td>\n",
       "      <td>899.01</td>\n",
       "      <td>2.953765</td>\n",
       "      <td>0.181396</td>\n",
       "    </tr>\n",
       "    <tr>\n",
       "      <th>324</th>\n",
       "      <th>4410</th>\n",
       "      <td>0.131868</td>\n",
       "      <td>0.375000</td>\n",
       "      <td>0.238307</td>\n",
       "      <td>0.571359</td>\n",
       "      <td>0.072464</td>\n",
       "      <td>0.333333</td>\n",
       "      <td>0.161538</td>\n",
       "      <td>0.541650</td>\n",
       "      <td>1</td>\n",
       "      <td>0.0</td>\n",
       "      <td>...</td>\n",
       "      <td>0.0</td>\n",
       "      <td>0.0</td>\n",
       "      <td>0.076923</td>\n",
       "      <td>0.333333</td>\n",
       "      <td>0.228571</td>\n",
       "      <td>0.550288</td>\n",
       "      <td>0</td>\n",
       "      <td>12.02</td>\n",
       "      <td>1.079904</td>\n",
       "      <td>0.223682</td>\n",
       "    </tr>\n",
       "  </tbody>\n",
       "</table>\n",
       "<p>3 rows × 21 columns</p>\n",
       "</div>"
      ],
      "text/plain": [
       "           all_jaccard  all_overlap  all_damerau_levenshtein  \\\n",
       "1169 2516     0.209790     0.535714                 0.311321   \n",
       "1186 1931     0.079268     0.206349                 0.234247   \n",
       "324  4410     0.131868     0.375000                 0.238307   \n",
       "\n",
       "           all_jaro_winkler  description_jaccard  description_overlap  \\\n",
       "1169 2516          0.669970             0.146341             0.439024   \n",
       "1186 1931          0.597061             0.033784             0.094340   \n",
       "324  4410          0.571359             0.072464             0.333333   \n",
       "\n",
       "           description_damerau_levenshtein  description_jaro_winkler  \\\n",
       "1169 2516                         0.278169                  0.655704   \n",
       "1186 1931                         0.212575                  0.593720   \n",
       "324  4410                         0.161538                  0.541650   \n",
       "\n",
       "           manufacturer_empty_str  manufacturer_jaccard  ...  \\\n",
       "1169 2516                       1                   0.0  ...   \n",
       "1186 1931                       1                   0.0  ...   \n",
       "324  4410                       1                   0.0  ...   \n",
       "\n",
       "           manufacturer_damerau_levenshtein  manufacturer_jaro_winkler  \\\n",
       "1169 2516                               0.0                        0.0   \n",
       "1186 1931                               0.0                        0.0   \n",
       "324  4410                               0.0                        0.0   \n",
       "\n",
       "           name_jaccard  name_overlap  name_damerau_levenshtein  \\\n",
       "1169 2516      0.500000      0.666667                  0.666667   \n",
       "1186 1931      0.181818      0.500000                  0.400000   \n",
       "324  4410      0.076923      0.333333                  0.228571   \n",
       "\n",
       "           name_jaro_winkler  price_empty_num  price_abs_diff  \\\n",
       "1169 2516           0.835480                0            0.00   \n",
       "1186 1931           0.828095                0          899.01   \n",
       "324  4410           0.550288                0           12.02   \n",
       "\n",
       "           price_abs_diff_log10  all_tfidf  \n",
       "1169 2516             -5.000000   0.410840  \n",
       "1186 1931              2.953765   0.181396  \n",
       "324  4410              1.079904   0.223682  \n",
       "\n",
       "[3 rows x 21 columns]"
      ]
     },
     "execution_count": 29,
     "metadata": {},
     "output_type": "execute_result"
    }
   ],
   "source": [
    "train_valid_feature_df = pd.concat([train_feature_df, valid_feature_df])\n",
    "train_valid_feature_df.head(3)"
   ]
  },
  {
   "cell_type": "code",
   "execution_count": 30,
   "id": "f4e3eda5",
   "metadata": {},
   "outputs": [],
   "source": [
    "train_true_y = np.array([pair in train_pos_pair_set for pair in train_found_pair_set], dtype='i4')\n",
    "valid_true_y = np.array([pair in valid_pos_pair_set for pair in valid_found_pair_set], dtype='i4')\n",
    "test_true_y = np.array([pair in test_pos_pair_set for pair in test_found_pair_set], dtype='i4')"
   ]
  },
  {
   "cell_type": "code",
   "execution_count": 31,
   "id": "471adca2",
   "metadata": {},
   "outputs": [],
   "source": [
    "train_valid_true_y = np.concatenate([train_true_y, valid_true_y])"
   ]
  },
  {
   "cell_type": "code",
   "execution_count": 32,
   "id": "d98c3077",
   "metadata": {
    "scrolled": true
   },
   "outputs": [
    {
     "name": "stdout",
     "output_type": "stream",
     "text": [
      "CPU times: user 5.76 s, sys: 45.7 ms, total: 5.81 s\n",
      "Wall time: 788 ms\n"
     ]
    },
    {
     "data": {
      "text/plain": [
       "RandomForestClassifier(n_jobs=-1, oob_score=True, random_state=42)"
      ]
     },
     "execution_count": 32,
     "metadata": {},
     "output_type": "execute_result"
    }
   ],
   "source": [
    "%%time\n",
    "\n",
    "from sklearn.ensemble import RandomForestClassifier\n",
    "\n",
    "clf = RandomForestClassifier(oob_score=True, n_jobs=-1, random_state=random_seed)\n",
    "clf.fit(train_valid_feature_df, train_valid_true_y)"
   ]
  },
  {
   "cell_type": "code",
   "execution_count": 33,
   "id": "8f8f2c87",
   "metadata": {},
   "outputs": [],
   "source": [
    "if hasattr(clf, 'oob_score_'):\n",
    "    clf.oob_score_"
   ]
  },
  {
   "cell_type": "code",
   "execution_count": 34,
   "id": "8b20dd9c",
   "metadata": {
    "scrolled": false
   },
   "outputs": [],
   "source": [
    "try:\n",
    "    feature_importances = dict(zip(train_valid_feature_df.columns, clf.feature_importances_))\n",
    "    sorted(feature_importances.items(), key=lambda kv: kv[1], reverse=True)\n",
    "except AttributeError:\n",
    "    pass"
   ]
  },
  {
   "cell_type": "code",
   "execution_count": 35,
   "id": "dde175ac",
   "metadata": {},
   "outputs": [
    {
     "data": {
      "text/plain": [
       "0.9978932584269663"
      ]
     },
     "execution_count": 35,
     "metadata": {},
     "output_type": "execute_result"
    }
   ],
   "source": [
    "from sklearn.metrics import accuracy_score\n",
    "\n",
    "cls_threshold = sim_threshold\n",
    "train_valid_pred_y = clf.predict_proba(train_valid_feature_df)\n",
    "train_valid_pred_y[train_valid_pred_y >= cls_threshold] = 1\n",
    "train_valid_pred_y[train_valid_pred_y < cls_threshold] = 0\n",
    "train_valid_pred_y = train_valid_pred_y[:, 1]\n",
    "accuracy_score(train_valid_pred_y, train_valid_true_y)"
   ]
  },
  {
   "cell_type": "code",
   "execution_count": 36,
   "id": "e6a1a542",
   "metadata": {},
   "outputs": [
    {
     "data": {
      "text/plain": [
       "(array([0.75918367]), array([0.74698795]), array([0.75303644]), array([249]))"
      ]
     },
     "execution_count": 36,
     "metadata": {},
     "output_type": "execute_result"
    }
   ],
   "source": [
    "from sklearn.metrics import precision_recall_fscore_support\n",
    "\n",
    "pred_y = clf.predict_proba(test_feature_df)\n",
    "pred_y[pred_y >= cls_threshold] = 1\n",
    "pred_y[pred_y < cls_threshold] = 0\n",
    "pred_y = pred_y[:, 1]\n",
    "precision_recall_fscore_support(test_true_y, pred_y, labels=[1])"
   ]
  },
  {
   "cell_type": "code",
   "execution_count": 37,
   "id": "e378f9fb",
   "metadata": {},
   "outputs": [
    {
     "data": {
      "text/plain": [
       "(0.7591836734693878, 0.744)"
      ]
     },
     "execution_count": 37,
     "metadata": {},
     "output_type": "execute_result"
    }
   ],
   "source": [
    "cls_found_pair_set = OrderedSet(test_feature_df[pred_y.astype(bool)].index)\n",
    "\n",
    "precision_and_recall(cls_found_pair_set, test_pos_pair_set)"
   ]
  },
  {
   "cell_type": "markdown",
   "id": "acdbf4fe",
   "metadata": {},
   "source": [
    "False negatives:"
   ]
  },
  {
   "cell_type": "code",
   "execution_count": 38,
   "id": "0df0cb98",
   "metadata": {},
   "outputs": [
    {
     "data": {
      "text/plain": [
       "((774, 1730),\n",
       " 'adobe software acrobat pro upgrd pro - pro mac ( adbcd01798mc )',\n",
       " 'adobe acrobat v8 . 0 professional for mac upgrade')"
      ]
     },
     "metadata": {},
     "output_type": "display_data"
    },
    {
     "data": {
      "text/plain": [
       "((598, 2318),\n",
       " 'adobe pagemaker v7 . 0 . 2 cd mac - upg ( 17530402 )',\n",
       " 'adobe pagemaker 7 . 0 for mac version upgrade')"
      ]
     },
     "metadata": {},
     "output_type": "display_data"
    },
    {
     "data": {
      "text/plain": [
       "((784, 3940),\n",
       " \"axis & allies collector ' s edition\",\n",
       " 'encore software 11430 - axis & allies collectors edition - win 98 me 2000 xp')"
      ]
     },
     "metadata": {},
     "output_type": "display_data"
    },
    {
     "data": {
      "text/plain": [
       "((1032, 3688),\n",
       " 'finale allegro 2007',\n",
       " 'make finale allegro software music production software')"
      ]
     },
     "metadata": {},
     "output_type": "display_data"
    },
    {
     "data": {
      "text/plain": [
       "((644, 1693),\n",
       " 'microspot macdraft pe ( mac )',\n",
       " 'microspot macdraft pe personal edition')"
      ]
     },
     "metadata": {},
     "output_type": "display_data"
    },
    {
     "data": {
      "text/plain": [
       "((199, 1428),\n",
       " 'netmanage upg rumba unix - hp edition level ( 902453 - 007 - c )',\n",
       " '902453 - 007 - b rumba unix - hp edition - upgrade license - 1 user - volume - level b ( 5 - 49 ) - c')"
      ]
     },
     "metadata": {},
     "output_type": "display_data"
    },
    {
     "data": {
      "text/plain": [
       "((243, 1504),\n",
       " 'money premium 2007 win32 eng na mini box us only cd',\n",
       " 'money prem 2007 cd minibox')"
      ]
     },
     "metadata": {},
     "output_type": "display_data"
    },
    {
     "data": {
      "text/plain": [
       "((1350, 1958), 'train sim modeler design studio', 'abacus train sim modeler')"
      ]
     },
     "metadata": {},
     "output_type": "display_data"
    },
    {
     "data": {
      "text/plain": [
       "((852, 3805),\n",
       " 'cinescore professional soundtrack edition',\n",
       " 'sony media software cinescore soundtrack creation software audio software for video')"
      ]
     },
     "metadata": {},
     "output_type": "display_data"
    },
    {
     "data": {
      "text/plain": [
       "((771, 1729),\n",
       " \"e frontier poser 6 collector ' s edition with volume 1 figure pack ( mac )\",\n",
       " 'allume poser 6 for mac')"
      ]
     },
     "metadata": {},
     "output_type": "display_data"
    }
   ],
   "source": [
    "for x, y in list(test_pos_pair_set - cls_found_pair_set)[:10]:\n",
    "    display(((x, y), test_record_dict[x]['name'], test_record_dict[y]['name']))"
   ]
  },
  {
   "cell_type": "code",
   "execution_count": 39,
   "id": "f10b41ff",
   "metadata": {},
   "outputs": [
    {
     "data": {
      "text/plain": [
       "array([[0.13, 0.87]])"
      ]
     },
     "execution_count": 39,
     "metadata": {},
     "output_type": "execute_result"
    }
   ],
   "source": [
    "clf.predict_proba(test_feature_df.loc[[pair]])"
   ]
  },
  {
   "cell_type": "code",
   "execution_count": 41,
   "id": "01227cba",
   "metadata": {},
   "outputs": [
    {
     "data": {
      "text/plain": [
       "<Figure size 1152x720 with 0 Axes>"
      ]
     },
     "metadata": {},
     "output_type": "display_data"
    },
    {
     "data": {
      "image/png": "[encoded data removed]",
      "text/plain": [
       "<Figure size 432x288 with 1 Axes>"
      ]
     },
     "metadata": {
      "needs_background": "light"
     },
     "output_type": "display_data"
    }
   ],
   "source": [
    "%matplotlib inline\n",
    "import matplotlib.pyplot as plt\n",
    "from sklearn.metrics import plot_precision_recall_curve\n",
    "from sklearn.metrics import average_precision_score\n",
    "\n",
    "plt.figure(figsize=(16,10))\n",
    "\n",
    "disp = plot_precision_recall_curve(clf, test_feature_df, test_true_y)"
   ]
  }
 ],
 "metadata": {
  "kernelspec": {
   "display_name": "Python 3",
   "language": "python",
   "name": "python3"
  },
  "language_info": {
   "codemirror_mode": {
    "name": "ipython",
    "version": 3
   },
   "file_extension": ".py",
   "mimetype": "text/x-python",
   "name": "python",
   "nbconvert_exporter": "python",
   "pygments_lexer": "ipython3",
   "version": "3.8.6"
  }
 },
 "nbformat": 4,
 "nbformat_minor": 5
}
