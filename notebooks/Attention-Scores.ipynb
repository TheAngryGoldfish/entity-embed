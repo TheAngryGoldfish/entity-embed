{
 "cells": [
  {
   "cell_type": "markdown",
   "id": "14315d5a",
   "metadata": {},
   "source": [
    "# Attention Scores Example"
   ]
  },
  {
   "cell_type": "markdown",
   "id": "3080847d",
   "metadata": {},
   "source": [
    "Please run [Record-Linkage-Example.ipynb](Record-Linkage-Example.ipynb) before this one in order to get the trained model at `../trained-models/notebooks/rl/rl-model.ckpt`."
   ]
  },
  {
   "cell_type": "markdown",
   "id": "2eae51fb",
   "metadata": {},
   "source": [
    "## Boilerplate"
   ]
  },
  {
   "cell_type": "code",
   "execution_count": 1,
   "id": "e6be39ff",
   "metadata": {},
   "outputs": [],
   "source": [
    "%load_ext autoreload\n",
    "%autoreload 2"
   ]
  },
  {
   "cell_type": "code",
   "execution_count": 2,
   "id": "41394338",
   "metadata": {},
   "outputs": [],
   "source": [
    "from importlib import reload\n",
    "import logging\n",
    "reload(logging)\n",
    "logging.basicConfig(format='%(asctime)s %(levelname)s:%(message)s', level=logging.INFO, datefmt='%H:%M:%S')"
   ]
  },
  {
   "cell_type": "code",
   "execution_count": 3,
   "id": "96e239b1",
   "metadata": {},
   "outputs": [],
   "source": [
    "import sys\n",
    "\n",
    "sys.path.insert(0, '..')"
   ]
  },
  {
   "cell_type": "code",
   "execution_count": 4,
   "id": "23bdf412",
   "metadata": {},
   "outputs": [],
   "source": [
    "import entity_embed"
   ]
  },
  {
   "cell_type": "code",
   "execution_count": 5,
   "id": "d581925f",
   "metadata": {},
   "outputs": [],
   "source": [
    "import torch\n",
    "import numpy as np\n",
    "\n",
    "random_seed = 42\n",
    "torch.manual_seed(random_seed)\n",
    "np.random.seed(random_seed)"
   ]
  },
  {
   "cell_type": "markdown",
   "id": "a81e6680",
   "metadata": {},
   "source": [
    "## Loading Test Data"
   ]
  },
  {
   "cell_type": "code",
   "execution_count": 6,
   "id": "105a7df5",
   "metadata": {},
   "outputs": [],
   "source": [
    "import json\n",
    "from ordered_set import OrderedSet\n",
    "\n",
    "def load_pair_set(filepath):\n",
    "    with open(filepath, 'r') as f:\n",
    "        test_pos_pair_set = json.load(f)\n",
    "        return OrderedSet(tuple(pair) for pair in test_pos_pair_set)\n",
    "\n",
    "train_pos_pair_set = load_pair_set('../trained-models/notebooks/rl/rl-train-pos-pairs.json')\n",
    "valid_pos_pair_set = load_pair_set('../trained-models/notebooks/rl/rl-valid-pos-pairs.json')\n",
    "test_pos_pair_set = load_pair_set('../trained-models/notebooks/rl/rl-test-pos-pairs.json')"
   ]
  },
  {
   "cell_type": "code",
   "execution_count": 7,
   "id": "0af3fb30",
   "metadata": {},
   "outputs": [],
   "source": [
    "import json\n",
    "\n",
    "def load_record_dict(filepath):\n",
    "    with open(filepath, 'r') as f:\n",
    "        record_dict = json.load(f)\n",
    "        return {int(id_): record for id_, record in record_dict.items()}\n",
    "\n",
    "train_record_dict = load_record_dict('../trained-models/notebooks/rl/rl-train-records.json')\n",
    "valid_record_dict = load_record_dict('../trained-models/notebooks/rl/rl-valid-records.json')\n",
    "test_record_dict = load_record_dict('../trained-models/notebooks/rl/rl-test-records.json')"
   ]
  },
  {
   "cell_type": "markdown",
   "id": "9e691355",
   "metadata": {},
   "source": [
    "## Loading Model"
   ]
  },
  {
   "cell_type": "code",
   "execution_count": 8,
   "id": "9a29f154",
   "metadata": {},
   "outputs": [],
   "source": [
    "from entity_embed import LinkageEmbed\n",
    "\n",
    "model = LinkageEmbed.load_from_checkpoint('../trained-models/notebooks/rl/rl-model.ckpt')\n",
    "model = model.to(torch.device('cuda'))"
   ]
  },
  {
   "cell_type": "markdown",
   "id": "43e1861a",
   "metadata": {},
   "source": [
    "## Blocking"
   ]
  },
  {
   "cell_type": "code",
   "execution_count": 9,
   "id": "5d16e8ab",
   "metadata": {},
   "outputs": [
    {
     "data": {
      "application/vnd.jupyter.widget-view+json": {
       "model_id": "555fc1a446824f4989bc6f5321767aef",
       "version_major": 2,
       "version_minor": 0
      },
      "text/plain": [
       "# batch embedding:   0%|          | 0/22 [00:00<?, ?it/s]"
      ]
     },
     "metadata": {},
     "output_type": "display_data"
    },
    {
     "name": "stdout",
     "output_type": "stream",
     "text": [
      "CPU times: user 1.53 s, sys: 578 ms, total: 2.1 s\n",
      "Wall time: 1.32 s\n"
     ]
    },
    {
     "data": {
      "text/plain": [
       "1027"
      ]
     },
     "execution_count": 9,
     "metadata": {},
     "output_type": "execute_result"
    }
   ],
   "source": [
    "%%time\n",
    "\n",
    "eval_batch_size = 64\n",
    "ann_k = 100\n",
    "sim_threshold = 0.5\n",
    "\n",
    "test_found_pair_set = model.predict_pairs(\n",
    "    record_dict=test_record_dict,\n",
    "    batch_size=eval_batch_size,\n",
    "    ann_k=ann_k,\n",
    "    sim_threshold=sim_threshold,\n",
    "    show_progress=True,\n",
    ")\n",
    "\n",
    "len(test_found_pair_set)"
   ]
  },
  {
   "cell_type": "code",
   "execution_count": 10,
   "id": "78f2985f",
   "metadata": {},
   "outputs": [
    {
     "data": {
      "application/vnd.jupyter.widget-view+json": {
       "model_id": "d8643e63964549639fa0162dab06b9d7",
       "version_major": 2,
       "version_minor": 0
      },
      "text/plain": [
       "# batch embedding:   0%|          | 0/22 [00:00<?, ?it/s]"
      ]
     },
     "metadata": {},
     "output_type": "display_data"
    },
    {
     "name": "stdout",
     "output_type": "stream",
     "text": [
      "CPU times: user 447 ms, sys: 586 ms, total: 1.03 s\n",
      "Wall time: 1.14 s\n"
     ]
    },
    {
     "data": {
      "text/plain": [
       "(406, 963)"
      ]
     },
     "execution_count": 10,
     "metadata": {},
     "output_type": "execute_result"
    }
   ],
   "source": [
    "%%time\n",
    "\n",
    "test_left_vector_dict, test_right_vector_dict = model.predict(\n",
    "    record_dict=test_record_dict,\n",
    "    batch_size=eval_batch_size,\n",
    "    show_progress=True,\n",
    ")\n",
    "\n",
    "len(test_left_vector_dict), len(test_right_vector_dict)"
   ]
  },
  {
   "cell_type": "code",
   "execution_count": 11,
   "id": "69257b71",
   "metadata": {},
   "outputs": [
    {
     "data": {
      "application/vnd.jupyter.widget-view+json": {
       "model_id": "fe30549d09bd404faa085d3c80afb51c",
       "version_major": 2,
       "version_minor": 0
      },
      "text/plain": [
       "# batch embedding:   0%|          | 0/22 [00:00<?, ?it/s]"
      ]
     },
     "metadata": {},
     "output_type": "display_data"
    },
    {
     "data": {
      "text/plain": [
       "1369"
      ]
     },
     "execution_count": 11,
     "metadata": {},
     "output_type": "execute_result"
    }
   ],
   "source": [
    "test_attn_scores_dict = model.interpret_attention(\n",
    "    record_dict=test_record_dict,\n",
    "    batch_size=eval_batch_size,\n",
    "    field='title',\n",
    ")\n",
    "\n",
    "len(test_attn_scores_dict)"
   ]
  },
  {
   "cell_type": "code",
   "execution_count": 12,
   "id": "75b09386",
   "metadata": {},
   "outputs": [
    {
     "data": {
      "text/plain": [
       "0.75018261504748"
      ]
     },
     "execution_count": 12,
     "metadata": {},
     "output_type": "execute_result"
    }
   ],
   "source": [
    "from entity_embed.evaluation import pair_entity_ratio\n",
    "\n",
    "pair_entity_ratio(len(test_found_pair_set), len(test_record_dict))"
   ]
  },
  {
   "cell_type": "code",
   "execution_count": 13,
   "id": "3ad9d6e6",
   "metadata": {},
   "outputs": [
    {
     "data": {
      "text/plain": [
       "(0.35345666991236613, 0.952755905511811)"
      ]
     },
     "execution_count": 13,
     "metadata": {},
     "output_type": "execute_result"
    }
   ],
   "source": [
    "from entity_embed.evaluation import precision_and_recall\n",
    "\n",
    "precision_and_recall(test_found_pair_set, test_pos_pair_set)"
   ]
  },
  {
   "cell_type": "code",
   "execution_count": 14,
   "id": "43da7726",
   "metadata": {},
   "outputs": [
    {
     "data": {
      "text/plain": [
       "18"
      ]
     },
     "execution_count": 14,
     "metadata": {},
     "output_type": "execute_result"
    }
   ],
   "source": [
    "hard_positives = list(test_pos_pair_set & test_found_pair_set)\n",
    "hard_positives = [\n",
    "    (id_left, id_right)\n",
    "    for (id_left, id_right) in hard_positives\n",
    "    if sim_threshold <= np.dot(test_left_vector_dict[id_left], test_right_vector_dict[id_right]) <= sim_threshold + 0.1\n",
    "]\n",
    "len(hard_positives)"
   ]
  },
  {
   "cell_type": "code",
   "execution_count": 15,
   "id": "d263f241",
   "metadata": {},
   "outputs": [
    {
     "name": "stdout",
     "output_type": "stream",
     "text": [
      "0.56413823\n"
     ]
    },
    {
     "data": {
      "text/html": [
       "<style  type=\"text/css\" >\n",
       "#T_8c702_row0_col0{\n",
       "            background-color:  #fa6c6c;\n",
       "            color:  #000000;\n",
       "        }#T_8c702_row0_col1{\n",
       "            background-color:  #ff0000;\n",
       "            color:  #f1f1f1;\n",
       "        }#T_8c702_row0_col2{\n",
       "            background-color:  #f6b8b8;\n",
       "            color:  #000000;\n",
       "        }#T_8c702_row0_col3{\n",
       "            background-color:  #f3f0f0;\n",
       "            color:  #000000;\n",
       "        }#T_8c702_row0_col4{\n",
       "            background-color:  #f3eeee;\n",
       "            color:  #000000;\n",
       "        }</style><table id=\"T_8c702_\" ><thead>    <tr>        <th class=\"blank level0\" ></th>        <th class=\"col_heading level0 col0\" >micromat</th>        <th class=\"col_heading level0 col1\" >podlock</th>        <th class=\"col_heading level0 col2\" >(</th>        <th class=\"col_heading level0 col3\" >mac</th>        <th class=\"col_heading level0 col4\" >)</th>    </tr></thead><tbody>\n",
       "                <tr>\n",
       "                        <th id=\"T_8c702_level0_row0\" class=\"row_heading level0 row0\" >855</th>\n",
       "                        <td id=\"T_8c702_row0_col0\" class=\"data row0 col0\" >0.200589</td>\n",
       "                        <td id=\"T_8c702_row0_col1\" class=\"data row0 col1\" >0.290565</td>\n",
       "                        <td id=\"T_8c702_row0_col2\" class=\"data row0 col2\" >0.136797</td>\n",
       "                        <td id=\"T_8c702_row0_col3\" class=\"data row0 col3\" >0.090351</td>\n",
       "                        <td id=\"T_8c702_row0_col4\" class=\"data row0 col4\" >0.092011</td>\n",
       "            </tr>\n",
       "    </tbody></table>"
      ],
      "text/plain": [
       "<pandas.io.formats.style.Styler at 0x7f4fb9b0b730>"
      ]
     },
     "metadata": {},
     "output_type": "display_data"
    },
    {
     "data": {
      "text/html": [
       "<style  type=\"text/css\" >\n",
       "#T_bdc25_row0_col0{\n",
       "            background-color:  #fb5454;\n",
       "            color:  #000000;\n",
       "        }#T_bdc25_row0_col1{\n",
       "            background-color:  #ff0000;\n",
       "            color:  #f1f1f1;\n",
       "        }#T_bdc25_row0_col2{\n",
       "            background-color:  #fa6666;\n",
       "            color:  #000000;\n",
       "        }#T_bdc25_row0_col3{\n",
       "            background-color:  #f6b0b0;\n",
       "            color:  #000000;\n",
       "        }#T_bdc25_row0_col4{\n",
       "            background-color:  #f3f0f0;\n",
       "            color:  #000000;\n",
       "        }</style><table id=\"T_bdc25_\" ><thead>    <tr>        <th class=\"blank level0\" ></th>        <th class=\"col_heading level0 col0\" >micromat</th>        <th class=\"col_heading level0 col1\" >podlock</th>        <th class=\"col_heading level0 col2\" >ipod</th>        <th class=\"col_heading level0 col3\" >utility</th>        <th class=\"col_heading level0 col4\" >software</th>    </tr></thead><tbody>\n",
       "                <tr>\n",
       "                        <th id=\"T_bdc25_level0_row0\" class=\"row_heading level0 row0\" >1552</th>\n",
       "                        <td id=\"T_bdc25_row0_col0\" class=\"data row0 col0\" >0.211529</td>\n",
       "                        <td id=\"T_bdc25_row0_col1\" class=\"data row0 col1\" >0.308867</td>\n",
       "                        <td id=\"T_bdc25_row0_col2\" class=\"data row0 col2\" >0.190773</td>\n",
       "                        <td id=\"T_bdc25_row0_col3\" class=\"data row0 col3\" >0.104421</td>\n",
       "                        <td id=\"T_bdc25_row0_col4\" class=\"data row0 col4\" >0.029679</td>\n",
       "            </tr>\n",
       "    </tbody></table>"
      ],
      "text/plain": [
       "<pandas.io.formats.style.Styler at 0x7f4f59a6a430>"
      ]
     },
     "metadata": {},
     "output_type": "display_data"
    },
    {
     "name": "stdout",
     "output_type": "stream",
     "text": [
      "0.5060007\n"
     ]
    },
    {
     "data": {
      "text/html": [
       "<style  type=\"text/css\" >\n",
       "#T_c4dc2_row0_col0{\n",
       "            background-color:  #f3f0f0;\n",
       "            color:  #000000;\n",
       "        }</style><table id=\"T_c4dc2_\" ><thead>    <tr>        <th class=\"blank level0\" ></th>        <th class=\"col_heading level0 col0\" >hijack2</th>    </tr></thead><tbody>\n",
       "                <tr>\n",
       "                        <th id=\"T_c4dc2_level0_row0\" class=\"row_heading level0 row0\" >1260</th>\n",
       "                        <td id=\"T_c4dc2_row0_col0\" class=\"data row0 col0\" >0.309989</td>\n",
       "            </tr>\n",
       "    </tbody></table>"
      ],
      "text/plain": [
       "<pandas.io.formats.style.Styler at 0x7f4f59a1afa0>"
      ]
     },
     "metadata": {},
     "output_type": "display_data"
    },
    {
     "data": {
      "text/html": [
       "<style  type=\"text/css\" >\n",
       "#T_c5236_row0_col0{\n",
       "            background-color:  #f88181;\n",
       "            color:  #000000;\n",
       "        }#T_c5236_row0_col1{\n",
       "            background-color:  #f5bebe;\n",
       "            color:  #000000;\n",
       "        }#T_c5236_row0_col2{\n",
       "            background-color:  #f3f0f0;\n",
       "            color:  #000000;\n",
       "        }#T_c5236_row0_col3{\n",
       "            background-color:  #f5c2c2;\n",
       "            color:  #000000;\n",
       "        }#T_c5236_row0_col4{\n",
       "            background-color:  #fd1e1e;\n",
       "            color:  #f1f1f1;\n",
       "        }#T_c5236_row0_col5{\n",
       "            background-color:  #ff0000;\n",
       "            color:  #f1f1f1;\n",
       "        }#T_c5236_row0_col6{\n",
       "            background-color:  #fc3e3e;\n",
       "            color:  #f1f1f1;\n",
       "        }#T_c5236_row0_col7{\n",
       "            background-color:  #f88686;\n",
       "            color:  #000000;\n",
       "        }#T_c5236_row0_col8{\n",
       "            background-color:  #f89191;\n",
       "            color:  #000000;\n",
       "        }#T_c5236_row0_col9{\n",
       "            background-color:  #f6acac;\n",
       "            color:  #000000;\n",
       "        }#T_c5236_row0_col10{\n",
       "            background-color:  #f6a9a9;\n",
       "            color:  #000000;\n",
       "        }#T_c5236_row0_col11{\n",
       "            background-color:  #f5c4c4;\n",
       "            color:  #000000;\n",
       "        }#T_c5236_row0_col12{\n",
       "            background-color:  #f5cccc;\n",
       "            color:  #000000;\n",
       "        }#T_c5236_row0_col13{\n",
       "            background-color:  #f6b5b5;\n",
       "            color:  #000000;\n",
       "        }#T_c5236_row0_col14{\n",
       "            background-color:  #f6aaaa;\n",
       "            color:  #000000;\n",
       "        }#T_c5236_row0_col15{\n",
       "            background-color:  #f6b8b8;\n",
       "            color:  #000000;\n",
       "        }#T_c5236_row0_col16{\n",
       "            background-color:  #f5c8c8;\n",
       "            color:  #000000;\n",
       "        }#T_c5236_row0_col17{\n",
       "            background-color:  #f6b2b2;\n",
       "            color:  #000000;\n",
       "        }</style><table id=\"T_c5236_\" ><thead>    <tr>        <th class=\"blank level0\" ></th>        <th class=\"col_heading level0 col0\" >me</th>        <th class=\"col_heading level0 col1\" >too</th>        <th class=\"col_heading level0 col2\" >software</th>        <th class=\"col_heading level0 col3\" >800801</th>        <th class=\"col_heading level0 col4\" >-</th>        <th class=\"col_heading level0 col5\" >hijack2</th>        <th class=\"col_heading level0 col6\" >win</th>        <th class=\"col_heading level0 col7\" >98</th>        <th class=\"col_heading level0 col8\" >nt</th>        <th class=\"col_heading level0 col9\" >2000</th>        <th class=\"col_heading level0 col10\" >xp</th>        <th class=\"col_heading level0 col11\" >/</th>        <th class=\"col_heading level0 col12\" >mac</th>        <th class=\"col_heading level0 col13\" >10</th>        <th class=\"col_heading level0 col14\" >.</th>        <th class=\"col_heading level0 col15\" >0</th>        <th class=\"col_heading level0 col16\" >or</th>        <th class=\"col_heading level0 col17\" >higher</th>    </tr></thead><tbody>\n",
       "                <tr>\n",
       "                        <th id=\"T_c5236_level0_row0\" class=\"row_heading level0 row0\" >2405</th>\n",
       "                        <td id=\"T_c5236_row0_col0\" class=\"data row0 col0\" >0.061568</td>\n",
       "                        <td id=\"T_c5236_row0_col1\" class=\"data row0 col1\" >0.034789</td>\n",
       "                        <td id=\"T_c5236_row0_col2\" class=\"data row0 col2\" >0.012571</td>\n",
       "                        <td id=\"T_c5236_row0_col3\" class=\"data row0 col3\" >0.033064</td>\n",
       "                        <td id=\"T_c5236_row0_col4\" class=\"data row0 col4\" >0.105356</td>\n",
       "                        <td id=\"T_c5236_row0_col5\" class=\"data row0 col5\" >0.118844</td>\n",
       "                        <td id=\"T_c5236_row0_col6\" class=\"data row0 col6\" >0.091359</td>\n",
       "                        <td id=\"T_c5236_row0_col7\" class=\"data row0 col7\" >0.059822</td>\n",
       "                        <td id=\"T_c5236_row0_col8\" class=\"data row0 col8\" >0.054685</td>\n",
       "                        <td id=\"T_c5236_row0_col9\" class=\"data row0 col9\" >0.042801</td>\n",
       "                        <td id=\"T_c5236_row0_col10\" class=\"data row0 col10\" >0.044100</td>\n",
       "                        <td id=\"T_c5236_row0_col11\" class=\"data row0 col11\" >0.032442</td>\n",
       "                        <td id=\"T_c5236_row0_col12\" class=\"data row0 col12\" >0.028481</td>\n",
       "                        <td id=\"T_c5236_row0_col13\" class=\"data row0 col13\" >0.039138</td>\n",
       "                        <td id=\"T_c5236_row0_col14\" class=\"data row0 col14\" >0.043550</td>\n",
       "                        <td id=\"T_c5236_row0_col15\" class=\"data row0 col15\" >0.037384</td>\n",
       "                        <td id=\"T_c5236_row0_col16\" class=\"data row0 col16\" >0.030343</td>\n",
       "                        <td id=\"T_c5236_row0_col17\" class=\"data row0 col17\" >0.040030</td>\n",
       "            </tr>\n",
       "    </tbody></table>"
      ],
      "text/plain": [
       "<pandas.io.formats.style.Styler at 0x7f4fdb646fd0>"
      ]
     },
     "metadata": {},
     "output_type": "display_data"
    },
    {
     "name": "stdout",
     "output_type": "stream",
     "text": [
      "0.51596963\n"
     ]
    },
    {
     "data": {
      "text/html": [
       "<style  type=\"text/css\" >\n",
       "#T_60570_row0_col0{\n",
       "            background-color:  #f97f7f;\n",
       "            color:  #000000;\n",
       "        }#T_60570_row0_col1{\n",
       "            background-color:  #f6acac;\n",
       "            color:  #000000;\n",
       "        }#T_60570_row0_col2{\n",
       "            background-color:  #f6a9a9;\n",
       "            color:  #000000;\n",
       "        }#T_60570_row0_col3{\n",
       "            background-color:  #f6b3b3;\n",
       "            color:  #000000;\n",
       "        }#T_60570_row0_col4{\n",
       "            background-color:  #f79797;\n",
       "            color:  #000000;\n",
       "        }#T_60570_row0_col5{\n",
       "            background-color:  #f6adad;\n",
       "            color:  #000000;\n",
       "        }#T_60570_row0_col6{\n",
       "            background-color:  #ff0000;\n",
       "            color:  #f1f1f1;\n",
       "        }#T_60570_row0_col7{\n",
       "            background-color:  #f4dfdf;\n",
       "            color:  #000000;\n",
       "        }#T_60570_row0_col8{\n",
       "            background-color:  #f3f0f0;\n",
       "            color:  #000000;\n",
       "        }#T_60570_row0_col9{\n",
       "            background-color:  #f3eeee;\n",
       "            color:  #000000;\n",
       "        }</style><table id=\"T_60570_\" ><thead>    <tr>        <th class=\"blank level0\" ></th>        <th class=\"col_heading level0 col0\" >zero</th>        <th class=\"col_heading level0 col1\" >-</th>        <th class=\"col_heading level0 col2\" >g</th>        <th class=\"col_heading level0 col3\" >pro</th>        <th class=\"col_heading level0 col4\" >pack</th>        <th class=\"col_heading level0 col5\" >for</th>        <th class=\"col_heading level0 col6\" >garageband</th>        <th class=\"col_heading level0 col7\" >(</th>        <th class=\"col_heading level0 col8\" >appleloops</th>        <th class=\"col_heading level0 col9\" >)</th>    </tr></thead><tbody>\n",
       "                <tr>\n",
       "                        <th id=\"T_60570_level0_row0\" class=\"row_heading level0 row0\" >797</th>\n",
       "                        <td id=\"T_60570_row0_col0\" class=\"data row0 col0\" >0.131953</td>\n",
       "                        <td id=\"T_60570_row0_col1\" class=\"data row0 col1\" >0.095840</td>\n",
       "                        <td id=\"T_60570_row0_col2\" class=\"data row0 col2\" >0.097956</td>\n",
       "                        <td id=\"T_60570_row0_col3\" class=\"data row0 col3\" >0.090986</td>\n",
       "                        <td id=\"T_60570_row0_col4\" class=\"data row0 col4\" >0.113048</td>\n",
       "                        <td id=\"T_60570_row0_col5\" class=\"data row0 col5\" >0.095525</td>\n",
       "                        <td id=\"T_60570_row0_col6\" class=\"data row0 col6\" >0.234135</td>\n",
       "                        <td id=\"T_60570_row0_col7\" class=\"data row0 col7\" >0.055736</td>\n",
       "                        <td id=\"T_60570_row0_col8\" class=\"data row0 col8\" >0.041469</td>\n",
       "                        <td id=\"T_60570_row0_col9\" class=\"data row0 col9\" >0.043352</td>\n",
       "            </tr>\n",
       "    </tbody></table>"
      ],
      "text/plain": [
       "<pandas.io.formats.style.Styler at 0x7f4f599c0ac0>"
      ]
     },
     "metadata": {},
     "output_type": "display_data"
    },
    {
     "data": {
      "text/html": [
       "<style  type=\"text/css\" >\n",
       "#T_ebf80_row0_col0{\n",
       "            background-color:  #f6b8b7;\n",
       "            color:  #000000;\n",
       "        }#T_ebf80_row0_col1{\n",
       "            background-color:  #f79897;\n",
       "            color:  #000000;\n",
       "        }#T_ebf80_row0_col2{\n",
       "            background-color:  #f97171;\n",
       "            color:  #000000;\n",
       "        }#T_ebf80_row0_col3{\n",
       "            background-color:  #f88585;\n",
       "            color:  #000000;\n",
       "        }#T_ebf80_row0_col4{\n",
       "            background-color:  #ff0000;\n",
       "            color:  #f1f1f1;\n",
       "        }#T_ebf80_row0_col5{\n",
       "            background-color:  #f5cece;\n",
       "            color:  #000000;\n",
       "        }#T_ebf80_row0_col6{\n",
       "            background-color:  #f3e9e9;\n",
       "            color:  #000000;\n",
       "        }#T_ebf80_row0_col7{\n",
       "            background-color:  #f3f0f0;\n",
       "            color:  #000000;\n",
       "        }</style><table id=\"T_ebf80_\" ><thead>    <tr>        <th class=\"blank level0\" ></th>        <th class=\"col_heading level0 col0\" >east</th>        <th class=\"col_heading level0 col1\" >west</th>        <th class=\"col_heading level0 col2\" >propack</th>        <th class=\"col_heading level0 col3\" >for</th>        <th class=\"col_heading level0 col4\" >garageband</th>        <th class=\"col_heading level0 col5\" >av</th>        <th class=\"col_heading level0 col6\" >production</th>        <th class=\"col_heading level0 col7\" >software</th>    </tr></thead><tbody>\n",
       "                <tr>\n",
       "                        <th id=\"T_ebf80_level0_row0\" class=\"row_heading level0 row0\" >3960</th>\n",
       "                        <td id=\"T_ebf80_row0_col0\" class=\"data row0 col0\" >0.089039</td>\n",
       "                        <td id=\"T_ebf80_row0_col1\" class=\"data row0 col1\" >0.133312</td>\n",
       "                        <td id=\"T_ebf80_row0_col2\" class=\"data row0 col2\" >0.185782</td>\n",
       "                        <td id=\"T_ebf80_row0_col3\" class=\"data row0 col3\" >0.159489</td>\n",
       "                        <td id=\"T_ebf80_row0_col4\" class=\"data row0 col4\" >0.341600</td>\n",
       "                        <td id=\"T_ebf80_row0_col5\" class=\"data row0 col5\" >0.058214</td>\n",
       "                        <td id=\"T_ebf80_row0_col6\" class=\"data row0 col6\" >0.021221</td>\n",
       "                        <td id=\"T_ebf80_row0_col7\" class=\"data row0 col7\" >0.011344</td>\n",
       "            </tr>\n",
       "    </tbody></table>"
      ],
      "text/plain": [
       "<pandas.io.formats.style.Styler at 0x7f4f599c0e80>"
      ]
     },
     "metadata": {},
     "output_type": "display_data"
    },
    {
     "name": "stdout",
     "output_type": "stream",
     "text": [
      "0.56924784\n"
     ]
    },
    {
     "data": {
      "text/html": [
       "<style  type=\"text/css\" >\n",
       "#T_2965b_row0_col0{\n",
       "            background-color:  #ff0000;\n",
       "            color:  #f1f1f1;\n",
       "        }#T_2965b_row0_col1{\n",
       "            background-color:  #ff0808;\n",
       "            color:  #f1f1f1;\n",
       "        }#T_2965b_row0_col2{\n",
       "            background-color:  #fa6363;\n",
       "            color:  #000000;\n",
       "        }#T_2965b_row0_col3{\n",
       "            background-color:  #f6a9a9;\n",
       "            color:  #000000;\n",
       "        }#T_2965b_row0_col4,#T_2965b_row0_col10{\n",
       "            background-color:  #f98080;\n",
       "            color:  #000000;\n",
       "        }#T_2965b_row0_col5{\n",
       "            background-color:  #f3f0f0;\n",
       "            color:  #000000;\n",
       "        }#T_2965b_row0_col6{\n",
       "            background-color:  #f7a6a6;\n",
       "            color:  #000000;\n",
       "        }#T_2965b_row0_col7{\n",
       "            background-color:  #f88a8a;\n",
       "            color:  #000000;\n",
       "        }#T_2965b_row0_col8{\n",
       "            background-color:  #f97e7e;\n",
       "            color:  #000000;\n",
       "        }#T_2965b_row0_col9{\n",
       "            background-color:  #f79898;\n",
       "            color:  #000000;\n",
       "        }#T_2965b_row0_col11{\n",
       "            background-color:  #fa6565;\n",
       "            color:  #000000;\n",
       "        }#T_2965b_row0_col12{\n",
       "            background-color:  #f97272;\n",
       "            color:  #000000;\n",
       "        }#T_2965b_row0_col13{\n",
       "            background-color:  #f79f9f;\n",
       "            color:  #000000;\n",
       "        }</style><table id=\"T_2965b_\" ><thead>    <tr>        <th class=\"blank level0\" ></th>        <th class=\"col_heading level0 col0\" >school</th>        <th class=\"col_heading level0 col1\" >zone</th>        <th class=\"col_heading level0 col2\" >pencil</th>        <th class=\"col_heading level0 col3\" >-</th>        <th class=\"col_heading level0 col4\" >pal</th>        <th class=\"col_heading level0 col5\" >software</th>        <th class=\"col_heading level0 col6\" >big</th>        <th class=\"col_heading level0 col7\" >phonics</th>        <th class=\"col_heading level0 col8\" >(</th>        <th class=\"col_heading level0 col9\" >cd</th>        <th class=\"col_heading level0 col10\" >rom</th>        <th class=\"col_heading level0 col11\" >&</th>        <th class=\"col_heading level0 col12\" >book</th>        <th class=\"col_heading level0 col13\" >)</th>    </tr></thead><tbody>\n",
       "                <tr>\n",
       "                        <th id=\"T_2965b_level0_row0\" class=\"row_heading level0 row0\" >19</th>\n",
       "                        <td id=\"T_2965b_row0_col0\" class=\"data row0 col0\" >0.117748</td>\n",
       "                        <td id=\"T_2965b_row0_col1\" class=\"data row0 col1\" >0.114365</td>\n",
       "                        <td id=\"T_2965b_row0_col2\" class=\"data row0 col2\" >0.075442</td>\n",
       "                        <td id=\"T_2965b_row0_col3\" class=\"data row0 col3\" >0.045753</td>\n",
       "                        <td id=\"T_2965b_row0_col4\" class=\"data row0 col4\" >0.063288</td>\n",
       "                        <td id=\"T_2965b_row0_col5\" class=\"data row0 col5\" >0.015395</td>\n",
       "                        <td id=\"T_2965b_row0_col6\" class=\"data row0 col6\" >0.047318</td>\n",
       "                        <td id=\"T_2965b_row0_col7\" class=\"data row0 col7\" >0.058820</td>\n",
       "                        <td id=\"T_2965b_row0_col8\" class=\"data row0 col8\" >0.063923</td>\n",
       "                        <td id=\"T_2965b_row0_col9\" class=\"data row0 col9\" >0.052791</td>\n",
       "                        <td id=\"T_2965b_row0_col10\" class=\"data row0 col10\" >0.063104</td>\n",
       "                        <td id=\"T_2965b_row0_col11\" class=\"data row0 col11\" >0.074729</td>\n",
       "                        <td id=\"T_2965b_row0_col12\" class=\"data row0 col12\" >0.069363</td>\n",
       "                        <td id=\"T_2965b_row0_col13\" class=\"data row0 col13\" >0.050097</td>\n",
       "            </tr>\n",
       "    </tbody></table>"
      ],
      "text/plain": [
       "<pandas.io.formats.style.Styler at 0x7f4f599c00d0>"
      ]
     },
     "metadata": {},
     "output_type": "display_data"
    },
    {
     "data": {
      "text/html": [
       "<style  type=\"text/css\" >\n",
       "#T_75eb8_row0_col0{\n",
       "            background-color:  #f3f0f0;\n",
       "            color:  #000000;\n",
       "        }#T_75eb8_row0_col1{\n",
       "            background-color:  #fc4242;\n",
       "            color:  #000000;\n",
       "        }#T_75eb8_row0_col2{\n",
       "            background-color:  #ff0000;\n",
       "            color:  #f1f1f1;\n",
       "        }#T_75eb8_row0_col3{\n",
       "            background-color:  #fb5151;\n",
       "            color:  #000000;\n",
       "        }#T_75eb8_row0_col4{\n",
       "            background-color:  #fb5656;\n",
       "            color:  #000000;\n",
       "        }</style><table id=\"T_75eb8_\" ><thead>    <tr>        <th class=\"blank level0\" ></th>        <th class=\"col_heading level0 col0\" >pencil</th>        <th class=\"col_heading level0 col1\" >-</th>        <th class=\"col_heading level0 col2\" >pal</th>        <th class=\"col_heading level0 col3\" >big</th>        <th class=\"col_heading level0 col4\" >phonics</th>    </tr></thead><tbody>\n",
       "                <tr>\n",
       "                        <th id=\"T_75eb8_level0_row0\" class=\"row_heading level0 row0\" >2600</th>\n",
       "                        <td id=\"T_75eb8_row0_col0\" class=\"data row0 col0\" >0.134765</td>\n",
       "                        <td id=\"T_75eb8_row0_col1\" class=\"data row0 col1\" >0.212887</td>\n",
       "                        <td id=\"T_75eb8_row0_col2\" class=\"data row0 col2\" >0.242428</td>\n",
       "                        <td id=\"T_75eb8_row0_col3\" class=\"data row0 col3\" >0.205859</td>\n",
       "                        <td id=\"T_75eb8_row0_col4\" class=\"data row0 col4\" >0.204061</td>\n",
       "            </tr>\n",
       "    </tbody></table>"
      ],
      "text/plain": [
       "<pandas.io.formats.style.Styler at 0x7f4f599dacd0>"
      ]
     },
     "metadata": {},
     "output_type": "display_data"
    },
    {
     "name": "stdout",
     "output_type": "stream",
     "text": [
      "0.54849666\n"
     ]
    },
    {
     "data": {
      "text/html": [
       "<style  type=\"text/css\" >\n",
       "#T_96071_row0_col0{\n",
       "            background-color:  #f79a9a;\n",
       "            color:  #000000;\n",
       "        }#T_96071_row0_col1{\n",
       "            background-color:  #fa6464;\n",
       "            color:  #000000;\n",
       "        }#T_96071_row0_col2{\n",
       "            background-color:  #fa6161;\n",
       "            color:  #000000;\n",
       "        }#T_96071_row0_col3{\n",
       "            background-color:  #fc3232;\n",
       "            color:  #f1f1f1;\n",
       "        }#T_96071_row0_col4{\n",
       "            background-color:  #ff0505;\n",
       "            color:  #f1f1f1;\n",
       "        }#T_96071_row0_col5{\n",
       "            background-color:  #f88585;\n",
       "            color:  #000000;\n",
       "        }#T_96071_row0_col6{\n",
       "            background-color:  #ff0000;\n",
       "            color:  #f1f1f1;\n",
       "        }#T_96071_row0_col7{\n",
       "            background-color:  #f4dfdf;\n",
       "            color:  #000000;\n",
       "        }#T_96071_row0_col8{\n",
       "            background-color:  #f3e5e5;\n",
       "            color:  #000000;\n",
       "        }#T_96071_row0_col9{\n",
       "            background-color:  #f3f0f0;\n",
       "            color:  #000000;\n",
       "        }</style><table id=\"T_96071_\" ><thead>    <tr>        <th class=\"blank level0\" ></th>        <th class=\"col_heading level0 col0\" >faxstf</th>        <th class=\"col_heading level0 col1\" >pro</th>        <th class=\"col_heading level0 col2\" >mac</th>        <th class=\"col_heading level0 col3\" >os</th>        <th class=\"col_heading level0 col4\" >10</th>        <th class=\"col_heading level0 col5\" >.</th>        <th class=\"col_heading level0 col6\" >3</th>        <th class=\"col_heading level0 col7\" >9</th>        <th class=\"col_heading level0 col8\" >or</th>        <th class=\"col_heading level0 col9\" >above</th>    </tr></thead><tbody>\n",
       "                <tr>\n",
       "                        <th id=\"T_96071_level0_row0\" class=\"row_heading level0 row0\" >1161</th>\n",
       "                        <td id=\"T_96071_row0_col0\" class=\"data row0 col0\" >0.071674</td>\n",
       "                        <td id=\"T_96071_row0_col1\" class=\"data row0 col1\" >0.094214</td>\n",
       "                        <td id=\"T_96071_row0_col2\" class=\"data row0 col2\" >0.095564</td>\n",
       "                        <td id=\"T_96071_row0_col3\" class=\"data row0 col3\" >0.115048</td>\n",
       "                        <td id=\"T_96071_row0_col4\" class=\"data row0 col4\" >0.133837</td>\n",
       "                        <td id=\"T_96071_row0_col5\" class=\"data row0 col5\" >0.080537</td>\n",
       "                        <td id=\"T_96071_row0_col6\" class=\"data row0 col6\" >0.135922</td>\n",
       "                        <td id=\"T_96071_row0_col7\" class=\"data row0 col7\" >0.042900</td>\n",
       "                        <td id=\"T_96071_row0_col8\" class=\"data row0 col8\" >0.040706</td>\n",
       "                        <td id=\"T_96071_row0_col9\" class=\"data row0 col9\" >0.035808</td>\n",
       "            </tr>\n",
       "    </tbody></table>"
      ],
      "text/plain": [
       "<pandas.io.formats.style.Styler at 0x7f4f599daee0>"
      ]
     },
     "metadata": {},
     "output_type": "display_data"
    },
    {
     "data": {
      "text/html": [
       "<style  type=\"text/css\" >\n",
       "#T_90916_row0_col0{\n",
       "            background-color:  #f97676;\n",
       "            color:  #000000;\n",
       "        }#T_90916_row0_col1{\n",
       "            background-color:  #f3f0f0;\n",
       "            color:  #000000;\n",
       "        }#T_90916_row0_col2{\n",
       "            background-color:  #fc3333;\n",
       "            color:  #f1f1f1;\n",
       "        }#T_90916_row0_col3{\n",
       "            background-color:  #fd2a2a;\n",
       "            color:  #f1f1f1;\n",
       "        }#T_90916_row0_col4{\n",
       "            background-color:  #ff0000;\n",
       "            color:  #f1f1f1;\n",
       "        }</style><table id=\"T_90916_\" ><thead>    <tr>        <th class=\"blank level0\" ></th>        <th class=\"col_heading level0 col0\" >allume</th>        <th class=\"col_heading level0 col1\" >smith</th>        <th class=\"col_heading level0 col2\" >micro</th>        <th class=\"col_heading level0 col3\" >faxstf</th>        <th class=\"col_heading level0 col4\" >pro</th>    </tr></thead><tbody>\n",
       "                <tr>\n",
       "                        <th id=\"T_90916_level0_row0\" class=\"row_heading level0 row0\" >2273</th>\n",
       "                        <td id=\"T_90916_row0_col0\" class=\"data row0 col0\" >0.114426</td>\n",
       "                        <td id=\"T_90916_row0_col1\" class=\"data row0 col1\" >0.063109</td>\n",
       "                        <td id=\"T_90916_row0_col2\" class=\"data row0 col2\" >0.142721</td>\n",
       "                        <td id=\"T_90916_row0_col3\" class=\"data row0 col3\" >0.145955</td>\n",
       "                        <td id=\"T_90916_row0_col4\" class=\"data row0 col4\" >0.164066</td>\n",
       "            </tr>\n",
       "    </tbody></table>"
      ],
      "text/plain": [
       "<pandas.io.formats.style.Styler at 0x7f4f599c0130>"
      ]
     },
     "metadata": {},
     "output_type": "display_data"
    }
   ],
   "source": [
    "import pandas as pd\n",
    "import seaborn as sns\n",
    "\n",
    "def display_attention(id_, field):\n",
    "    val = test_record_dict[id_][field]\n",
    "    attn_scores = test_attn_scores_dict[id_][:len(val.split())]\n",
    "    attn_df = pd.DataFrame(dict(zip(val.split(), attn_scores)), index=[id_])\n",
    "    cm = sns.light_palette(\"red\", as_cmap=True)\n",
    "    display(attn_df.style.background_gradient(cmap=cm, axis=1))\n",
    "\n",
    "def display_pair_attention(pair, field):\n",
    "    left_id, right_id = pair\n",
    "    display_attention(left_id, field)\n",
    "    display_attention(right_id, field)\n",
    "\n",
    "for (id_left, id_right) in hard_positives[:5]:\n",
    "    print(np.dot(test_left_vector_dict[id_left], test_right_vector_dict[id_right]))\n",
    "    display_pair_attention((id_left, id_right), 'title')"
   ]
  },
  {
   "cell_type": "code",
   "execution_count": 16,
   "id": "c42ef290",
   "metadata": {},
   "outputs": [
    {
     "data": {
      "text/plain": [
       "18"
      ]
     },
     "execution_count": 16,
     "metadata": {},
     "output_type": "execute_result"
    }
   ],
   "source": [
    "false_negatives = list(test_pos_pair_set - test_found_pair_set)\n",
    "len(false_negatives)"
   ]
  },
  {
   "cell_type": "code",
   "execution_count": 17,
   "id": "ad6cd20d",
   "metadata": {},
   "outputs": [
    {
     "name": "stdout",
     "output_type": "stream",
     "text": [
      "0.4181442\n"
     ]
    },
    {
     "data": {
      "text/html": [
       "<style  type=\"text/css\" >\n",
       "#T_ceaf8_row0_col0{\n",
       "            background-color:  #fa6b6b;\n",
       "            color:  #000000;\n",
       "        }#T_ceaf8_row0_col1{\n",
       "            background-color:  #f3e3e3;\n",
       "            color:  #000000;\n",
       "        }#T_ceaf8_row0_col2{\n",
       "            background-color:  #ff0303;\n",
       "            color:  #f1f1f1;\n",
       "        }#T_ceaf8_row0_col3{\n",
       "            background-color:  #f79c9c;\n",
       "            color:  #000000;\n",
       "        }#T_ceaf8_row0_col4{\n",
       "            background-color:  #f6b5b5;\n",
       "            color:  #000000;\n",
       "        }#T_ceaf8_row0_col5{\n",
       "            background-color:  #ff0000;\n",
       "            color:  #f1f1f1;\n",
       "        }#T_ceaf8_row0_col6{\n",
       "            background-color:  #f4d0d0;\n",
       "            color:  #000000;\n",
       "        }#T_ceaf8_row0_col7{\n",
       "            background-color:  #f3f0f0;\n",
       "            color:  #000000;\n",
       "        }</style><table id=\"T_ceaf8_\" ><thead>    <tr>        <th class=\"blank level0\" ></th>        <th class=\"col_heading level0 col0\" >corel</th>        <th class=\"col_heading level0 col1\" >snapfire</th>        <th class=\"col_heading level0 col2\" >plus</th>        <th class=\"col_heading level0 col3\" >[</th>        <th class=\"col_heading level0 col4\" >ignite</th>        <th class=\"col_heading level0 col5\" >photo</th>        <th class=\"col_heading level0 col6\" >fun</th>        <th class=\"col_heading level0 col7\" >]</th>    </tr></thead><tbody>\n",
       "                <tr>\n",
       "                        <th id=\"T_ceaf8_level0_row0\" class=\"row_heading level0 row0\" >552</th>\n",
       "                        <td id=\"T_ceaf8_row0_col0\" class=\"data row0 col0\" >0.138126</td>\n",
       "                        <td id=\"T_ceaf8_row0_col1\" class=\"data row0 col1\" >0.090277</td>\n",
       "                        <td id=\"T_ceaf8_row0_col2\" class=\"data row0 col2\" >0.180280</td>\n",
       "                        <td id=\"T_ceaf8_row0_col3\" class=\"data row0 col3\" >0.118514</td>\n",
       "                        <td id=\"T_ceaf8_row0_col4\" class=\"data row0 col4\" >0.108722</td>\n",
       "                        <td id=\"T_ceaf8_row0_col5\" class=\"data row0 col5\" >0.181631</td>\n",
       "                        <td id=\"T_ceaf8_row0_col6\" class=\"data row0 col6\" >0.097803</td>\n",
       "                        <td id=\"T_ceaf8_row0_col7\" class=\"data row0 col7\" >0.084646</td>\n",
       "            </tr>\n",
       "    </tbody></table>"
      ],
      "text/plain": [
       "<pandas.io.formats.style.Styler at 0x7f4fb49e5520>"
      ]
     },
     "metadata": {},
     "output_type": "display_data"
    },
    {
     "data": {
      "text/html": [
       "<style  type=\"text/css\" >\n",
       "#T_4ac94_row0_col0{\n",
       "            background-color:  #ff0000;\n",
       "            color:  #f1f1f1;\n",
       "        }#T_4ac94_row0_col1{\n",
       "            background-color:  #fb5151;\n",
       "            color:  #000000;\n",
       "        }#T_4ac94_row0_col2{\n",
       "            background-color:  #f3f0f0;\n",
       "            color:  #000000;\n",
       "        }#T_4ac94_row0_col3{\n",
       "            background-color:  #fe0c0c;\n",
       "            color:  #f1f1f1;\n",
       "        }</style><table id=\"T_4ac94_\" ><thead>    <tr>        <th class=\"blank level0\" ></th>        <th class=\"col_heading level0 col0\" >corel</th>        <th class=\"col_heading level0 col1\" >corporation</th>        <th class=\"col_heading level0 col2\" >snapfire</th>        <th class=\"col_heading level0 col3\" >plus</th>    </tr></thead><tbody>\n",
       "                <tr>\n",
       "                        <th id=\"T_4ac94_level0_row0\" class=\"row_heading level0 row0\" >1904</th>\n",
       "                        <td id=\"T_4ac94_row0_col0\" class=\"data row0 col0\" >0.147772</td>\n",
       "                        <td id=\"T_4ac94_row0_col1\" class=\"data row0 col1\" >0.125614</td>\n",
       "                        <td id=\"T_4ac94_row0_col2\" class=\"data row0 col2\" >0.082408</td>\n",
       "                        <td id=\"T_4ac94_row0_col3\" class=\"data row0 col3\" >0.144304</td>\n",
       "            </tr>\n",
       "    </tbody></table>"
      ],
      "text/plain": [
       "<pandas.io.formats.style.Styler at 0x7f4f59a1aca0>"
      ]
     },
     "metadata": {},
     "output_type": "display_data"
    },
    {
     "name": "stdout",
     "output_type": "stream",
     "text": [
      "0.44709966\n"
     ]
    },
    {
     "data": {
      "text/html": [
       "<style  type=\"text/css\" >\n",
       "#T_3c82c_row0_col0{\n",
       "            background-color:  #f7a6a6;\n",
       "            color:  #000000;\n",
       "        }#T_3c82c_row0_col1{\n",
       "            background-color:  #fc3737;\n",
       "            color:  #f1f1f1;\n",
       "        }#T_3c82c_row0_col2{\n",
       "            background-color:  #fd2c2c;\n",
       "            color:  #f1f1f1;\n",
       "        }#T_3c82c_row0_col3{\n",
       "            background-color:  #ff0000;\n",
       "            color:  #f1f1f1;\n",
       "        }#T_3c82c_row0_col4{\n",
       "            background-color:  #f4dddd;\n",
       "            color:  #000000;\n",
       "        }#T_3c82c_row0_col5{\n",
       "            background-color:  #f88888;\n",
       "            color:  #000000;\n",
       "        }#T_3c82c_row0_col6{\n",
       "            background-color:  #f6b3b3;\n",
       "            color:  #000000;\n",
       "        }#T_3c82c_row0_col7{\n",
       "            background-color:  #f5cece;\n",
       "            color:  #000000;\n",
       "        }#T_3c82c_row0_col8{\n",
       "            background-color:  #f3eaea;\n",
       "            color:  #000000;\n",
       "        }#T_3c82c_row0_col9{\n",
       "            background-color:  #f3f0f0;\n",
       "            color:  #000000;\n",
       "        }#T_3c82c_row0_col10{\n",
       "            background-color:  #f3e7e7;\n",
       "            color:  #000000;\n",
       "        }</style><table id=\"T_3c82c_\" ><thead>    <tr>        <th class=\"blank level0\" ></th>        <th class=\"col_heading level0 col0\" >foreign</th>        <th class=\"col_heading level0 col1\" >policy</th>        <th class=\"col_heading level0 col2\" >&</th>        <th class=\"col_heading level0 col3\" >reform</th>        <th class=\"col_heading level0 col4\" >(</th>        <th class=\"col_heading level0 col5\" >win</th>        <th class=\"col_heading level0 col6\" >/</th>        <th class=\"col_heading level0 col7\" >mac</th>        <th class=\"col_heading level0 col8\" >)</th>        <th class=\"col_heading level0 col9\" >jewel</th>        <th class=\"col_heading level0 col10\" >case</th>    </tr></thead><tbody>\n",
       "                <tr>\n",
       "                        <th id=\"T_3c82c_level0_row0\" class=\"row_heading level0 row0\" >112</th>\n",
       "                        <td id=\"T_3c82c_row0_col0\" class=\"data row0 col0\" >0.069001</td>\n",
       "                        <td id=\"T_3c82c_row0_col1\" class=\"data row0 col1\" >0.138821</td>\n",
       "                        <td id=\"T_3c82c_row0_col2\" class=\"data row0 col2\" >0.145052</td>\n",
       "                        <td id=\"T_3c82c_row0_col3\" class=\"data row0 col3\" >0.172942</td>\n",
       "                        <td id=\"T_3c82c_row0_col4\" class=\"data row0 col4\" >0.034655</td>\n",
       "                        <td id=\"T_3c82c_row0_col5\" class=\"data row0 col5\" >0.087579</td>\n",
       "                        <td id=\"T_3c82c_row0_col6\" class=\"data row0 col6\" >0.061010</td>\n",
       "                        <td id=\"T_3c82c_row0_col7\" class=\"data row0 col7\" >0.043694</td>\n",
       "                        <td id=\"T_3c82c_row0_col8\" class=\"data row0 col8\" >0.026506</td>\n",
       "                        <td id=\"T_3c82c_row0_col9\" class=\"data row0 col9\" >0.022390</td>\n",
       "                        <td id=\"T_3c82c_row0_col10\" class=\"data row0 col10\" >0.028819</td>\n",
       "            </tr>\n",
       "    </tbody></table>"
      ],
      "text/plain": [
       "<pandas.io.formats.style.Styler at 0x7f4f599da4c0>"
      ]
     },
     "metadata": {},
     "output_type": "display_data"
    },
    {
     "data": {
      "text/html": [
       "<style  type=\"text/css\" >\n",
       "#T_6068f_row0_col0{\n",
       "            background-color:  #f3f0f0;\n",
       "            color:  #000000;\n",
       "        }#T_6068f_row0_col1{\n",
       "            background-color:  #f3efef;\n",
       "            color:  #000000;\n",
       "        }#T_6068f_row0_col2{\n",
       "            background-color:  #f5c8c7;\n",
       "            color:  #000000;\n",
       "        }#T_6068f_row0_col3{\n",
       "            background-color:  #f5cccc;\n",
       "            color:  #000000;\n",
       "        }#T_6068f_row0_col4,#T_6068f_row0_col8{\n",
       "            background-color:  #fa6666;\n",
       "            color:  #000000;\n",
       "        }#T_6068f_row0_col5{\n",
       "            background-color:  #fc3b3b;\n",
       "            color:  #f1f1f1;\n",
       "        }#T_6068f_row0_col6{\n",
       "            background-color:  #f88181;\n",
       "            color:  #000000;\n",
       "        }#T_6068f_row0_col7{\n",
       "            background-color:  #ff0000;\n",
       "            color:  #f1f1f1;\n",
       "        }#T_6068f_row0_col9,#T_6068f_row0_col11{\n",
       "            background-color:  #f4dfdf;\n",
       "            color:  #000000;\n",
       "        }#T_6068f_row0_col10{\n",
       "            background-color:  #f5c9c9;\n",
       "            color:  #000000;\n",
       "        }#T_6068f_row0_col12{\n",
       "            background-color:  #f4e1e1;\n",
       "            color:  #000000;\n",
       "        }</style><table id=\"T_6068f_\" ><thead>    <tr>        <th class=\"blank level0\" ></th>        <th class=\"col_heading level0 col0\" >fogware</th>        <th class=\"col_heading level0 col1\" >publishing</th>        <th class=\"col_heading level0 col2\" >-</th>        <th class=\"col_heading level0 col3\" >10356</th>        <th class=\"col_heading level0 col4\" >high</th>        <th class=\"col_heading level0 col5\" >school</th>        <th class=\"col_heading level0 col6\" >us</th>        <th class=\"col_heading level0 col7\" >history</th>        <th class=\"col_heading level0 col8\" >2</th>        <th class=\"col_heading level0 col9\" >foreign</th>        <th class=\"col_heading level0 col10\" >policy</th>        <th class=\"col_heading level0 col11\" >&</th>        <th class=\"col_heading level0 col12\" >reform</th>    </tr></thead><tbody>\n",
       "                <tr>\n",
       "                        <th id=\"T_6068f_level0_row0\" class=\"row_heading level0 row0\" >3052</th>\n",
       "                        <td id=\"T_6068f_row0_col0\" class=\"data row0 col0\" >0.027249</td>\n",
       "                        <td id=\"T_6068f_row0_col1\" class=\"data row0 col1\" >0.028246</td>\n",
       "                        <td id=\"T_6068f_row0_col2\" class=\"data row0 col2\" >0.050080</td>\n",
       "                        <td id=\"T_6068f_row0_col3\" class=\"data row0 col3\" >0.047381</td>\n",
       "                        <td id=\"T_6068f_row0_col4\" class=\"data row0 col4\" >0.103982</td>\n",
       "                        <td id=\"T_6068f_row0_col5\" class=\"data row0 col5\" >0.127560</td>\n",
       "                        <td id=\"T_6068f_row0_col6\" class=\"data row0 col6\" >0.088985</td>\n",
       "                        <td id=\"T_6068f_row0_col7\" class=\"data row0 col7\" >0.160765</td>\n",
       "                        <td id=\"T_6068f_row0_col8\" class=\"data row0 col8\" >0.103958</td>\n",
       "                        <td id=\"T_6068f_row0_col9\" class=\"data row0 col9\" >0.036985</td>\n",
       "                        <td id=\"T_6068f_row0_col10\" class=\"data row0 col10\" >0.048687</td>\n",
       "                        <td id=\"T_6068f_row0_col11\" class=\"data row0 col11\" >0.036727</td>\n",
       "                        <td id=\"T_6068f_row0_col12\" class=\"data row0 col12\" >0.036096</td>\n",
       "            </tr>\n",
       "    </tbody></table>"
      ],
      "text/plain": [
       "<pandas.io.formats.style.Styler at 0x7f4f599daa60>"
      ]
     },
     "metadata": {},
     "output_type": "display_data"
    },
    {
     "name": "stdout",
     "output_type": "stream",
     "text": [
      "0.4741135\n"
     ]
    },
    {
     "data": {
      "text/html": [
       "<style  type=\"text/css\" >\n",
       "#T_675ea_row0_col0{\n",
       "            background-color:  #ff0101;\n",
       "            color:  #f1f1f1;\n",
       "        }#T_675ea_row0_col1,#T_675ea_row0_col5{\n",
       "            background-color:  #fb4d4d;\n",
       "            color:  #000000;\n",
       "        }#T_675ea_row0_col2,#T_675ea_row0_col3{\n",
       "            background-color:  #fe1616;\n",
       "            color:  #f1f1f1;\n",
       "        }#T_675ea_row0_col4{\n",
       "            background-color:  #ff0000;\n",
       "            color:  #f1f1f1;\n",
       "        }#T_675ea_row0_col6{\n",
       "            background-color:  #f7a2a2;\n",
       "            color:  #000000;\n",
       "        }#T_675ea_row0_col7{\n",
       "            background-color:  #f3f0f0;\n",
       "            color:  #000000;\n",
       "        }</style><table id=\"T_675ea_\" ><thead>    <tr>        <th class=\"blank level0\" ></th>        <th class=\"col_heading level0 col0\" >clifford</th>        <th class=\"col_heading level0 col1\" >the</th>        <th class=\"col_heading level0 col2\" >big</th>        <th class=\"col_heading level0 col3\" >red</th>        <th class=\"col_heading level0 col4\" >dog</th>        <th class=\"col_heading level0 col5\" >-</th>        <th class=\"col_heading level0 col6\" >thinking</th>        <th class=\"col_heading level0 col7\" >adventures</th>    </tr></thead><tbody>\n",
       "                <tr>\n",
       "                        <th id=\"T_675ea_level0_row0\" class=\"row_heading level0 row0\" >50</th>\n",
       "                        <td id=\"T_675ea_row0_col0\" class=\"data row0 col0\" >0.159681</td>\n",
       "                        <td id=\"T_675ea_row0_col1\" class=\"data row0 col1\" >0.124132</td>\n",
       "                        <td id=\"T_675ea_row0_col2\" class=\"data row0 col2\" >0.149954</td>\n",
       "                        <td id=\"T_675ea_row0_col3\" class=\"data row0 col3\" >0.149953</td>\n",
       "                        <td id=\"T_675ea_row0_col4\" class=\"data row0 col4\" >0.160517</td>\n",
       "                        <td id=\"T_675ea_row0_col5\" class=\"data row0 col5\" >0.123887</td>\n",
       "                        <td id=\"T_675ea_row0_col6\" class=\"data row0 col6\" >0.084409</td>\n",
       "                        <td id=\"T_675ea_row0_col7\" class=\"data row0 col7\" >0.047465</td>\n",
       "            </tr>\n",
       "    </tbody></table>"
      ],
      "text/plain": [
       "<pandas.io.formats.style.Styler at 0x7f4f59a1ab80>"
      ]
     },
     "metadata": {},
     "output_type": "display_data"
    },
    {
     "data": {
      "text/html": [
       "<style  type=\"text/css\" >\n",
       "#T_a8530_row0_col0{\n",
       "            background-color:  #ff0000;\n",
       "            color:  #f1f1f1;\n",
       "        }#T_a8530_row0_col1{\n",
       "            background-color:  #f3f0f0;\n",
       "            color:  #000000;\n",
       "        }</style><table id=\"T_a8530_\" ><thead>    <tr>        <th class=\"blank level0\" ></th>        <th class=\"col_heading level0 col0\" >clifford</th>        <th class=\"col_heading level0 col1\" >thinking</th>    </tr></thead><tbody>\n",
       "                <tr>\n",
       "                        <th id=\"T_a8530_level0_row0\" class=\"row_heading level0 row0\" >3453</th>\n",
       "                        <td id=\"T_a8530_row0_col0\" class=\"data row0 col0\" >0.442445</td>\n",
       "                        <td id=\"T_a8530_row0_col1\" class=\"data row0 col1\" >0.236488</td>\n",
       "            </tr>\n",
       "    </tbody></table>"
      ],
      "text/plain": [
       "<pandas.io.formats.style.Styler at 0x7f4f59a1abb0>"
      ]
     },
     "metadata": {},
     "output_type": "display_data"
    },
    {
     "name": "stdout",
     "output_type": "stream",
     "text": [
      "0.49276412\n"
     ]
    },
    {
     "data": {
      "text/html": [
       "<style  type=\"text/css\" >\n",
       "#T_f8209_row0_col0{\n",
       "            background-color:  #ff0000;\n",
       "            color:  #f1f1f1;\n",
       "        }#T_f8209_row0_col1{\n",
       "            background-color:  #fd2d2d;\n",
       "            color:  #f1f1f1;\n",
       "        }#T_f8209_row0_col2{\n",
       "            background-color:  #f97575;\n",
       "            color:  #000000;\n",
       "        }#T_f8209_row0_col3{\n",
       "            background-color:  #f3f0f0;\n",
       "            color:  #000000;\n",
       "        }</style><table id=\"T_f8209_\" ><thead>    <tr>        <th class=\"blank level0\" ></th>        <th class=\"col_heading level0 col0\" >omniweb</th>        <th class=\"col_heading level0 col1\" >5</th>        <th class=\"col_heading level0 col2\" >.</th>        <th class=\"col_heading level0 col3\" >0</th>    </tr></thead><tbody>\n",
       "                <tr>\n",
       "                        <th id=\"T_f8209_level0_row0\" class=\"row_heading level0 row0\" >725</th>\n",
       "                        <td id=\"T_f8209_row0_col0\" class=\"data row0 col0\" >0.227882</td>\n",
       "                        <td id=\"T_f8209_row0_col1\" class=\"data row0 col1\" >0.217475</td>\n",
       "                        <td id=\"T_f8209_row0_col2\" class=\"data row0 col2\" >0.200880</td>\n",
       "                        <td id=\"T_f8209_row0_col3\" class=\"data row0 col3\" >0.172564</td>\n",
       "            </tr>\n",
       "    </tbody></table>"
      ],
      "text/plain": [
       "<pandas.io.formats.style.Styler at 0x7f4fdb646a60>"
      ]
     },
     "metadata": {},
     "output_type": "display_data"
    },
    {
     "data": {
      "text/html": [
       "<style  type=\"text/css\" >\n",
       "#T_0b9b3_row0_col0{\n",
       "            background-color:  #f3f0f0;\n",
       "            color:  #000000;\n",
       "        }#T_0b9b3_row0_col1{\n",
       "            background-color:  #fa6565;\n",
       "            color:  #000000;\n",
       "        }#T_0b9b3_row0_col2{\n",
       "            background-color:  #ff0000;\n",
       "            color:  #f1f1f1;\n",
       "        }#T_0b9b3_row0_col3{\n",
       "            background-color:  #fc3939;\n",
       "            color:  #f1f1f1;\n",
       "        }#T_0b9b3_row0_col4{\n",
       "            background-color:  #f7a2a2;\n",
       "            color:  #000000;\n",
       "        }</style><table id=\"T_0b9b3_\" ><thead>    <tr>        <th class=\"blank level0\" ></th>        <th class=\"col_heading level0 col0\" >omni</th>        <th class=\"col_heading level0 col1\" >web</th>        <th class=\"col_heading level0 col2\" >5</th>        <th class=\"col_heading level0 col3\" >.</th>        <th class=\"col_heading level0 col4\" >0</th>    </tr></thead><tbody>\n",
       "                <tr>\n",
       "                        <th id=\"T_0b9b3_level0_row0\" class=\"row_heading level0 row0\" >1803</th>\n",
       "                        <td id=\"T_0b9b3_row0_col0\" class=\"data row0 col0\" >0.140417</td>\n",
       "                        <td id=\"T_0b9b3_row0_col1\" class=\"data row0 col1\" >0.181534</td>\n",
       "                        <td id=\"T_0b9b3_row0_col2\" class=\"data row0 col2\" >0.211243</td>\n",
       "                        <td id=\"T_0b9b3_row0_col3\" class=\"data row0 col3\" >0.194329</td>\n",
       "                        <td id=\"T_0b9b3_row0_col4\" class=\"data row0 col4\" >0.163552</td>\n",
       "            </tr>\n",
       "    </tbody></table>"
      ],
      "text/plain": [
       "<pandas.io.formats.style.Styler at 0x7f4fb5e4e5b0>"
      ]
     },
     "metadata": {},
     "output_type": "display_data"
    },
    {
     "name": "stdout",
     "output_type": "stream",
     "text": [
      "0.48059654\n"
     ]
    },
    {
     "data": {
      "text/html": [
       "<style  type=\"text/css\" >\n",
       "#T_f5516_row0_col0{\n",
       "            background-color:  #f3f0f0;\n",
       "            color:  #000000;\n",
       "        }#T_f5516_row0_col1{\n",
       "            background-color:  #f5cccc;\n",
       "            color:  #000000;\n",
       "        }#T_f5516_row0_col2{\n",
       "            background-color:  #f6afaf;\n",
       "            color:  #000000;\n",
       "        }#T_f5516_row0_col3{\n",
       "            background-color:  #f97c7c;\n",
       "            color:  #000000;\n",
       "        }#T_f5516_row0_col4{\n",
       "            background-color:  #ff0000;\n",
       "            color:  #f1f1f1;\n",
       "        }</style><table id=\"T_f5516_\" ><thead>    <tr>        <th class=\"blank level0\" ></th>        <th class=\"col_heading level0 col0\" >train</th>        <th class=\"col_heading level0 col1\" >sim</th>        <th class=\"col_heading level0 col2\" >modeler</th>        <th class=\"col_heading level0 col3\" >design</th>        <th class=\"col_heading level0 col4\" >studio</th>    </tr></thead><tbody>\n",
       "                <tr>\n",
       "                        <th id=\"T_f5516_level0_row0\" class=\"row_heading level0 row0\" >1350</th>\n",
       "                        <td id=\"T_f5516_row0_col0\" class=\"data row0 col0\" >0.150980</td>\n",
       "                        <td id=\"T_f5516_row0_col1\" class=\"data row0 col1\" >0.170325</td>\n",
       "                        <td id=\"T_f5516_row0_col2\" class=\"data row0 col2\" >0.185783</td>\n",
       "                        <td id=\"T_f5516_row0_col3\" class=\"data row0 col3\" >0.212958</td>\n",
       "                        <td id=\"T_f5516_row0_col4\" class=\"data row0 col4\" >0.279954</td>\n",
       "            </tr>\n",
       "    </tbody></table>"
      ],
      "text/plain": [
       "<pandas.io.formats.style.Styler at 0x7f4f599e0670>"
      ]
     },
     "metadata": {},
     "output_type": "display_data"
    },
    {
     "data": {
      "text/html": [
       "<style  type=\"text/css\" >\n",
       "#T_e5006_row0_col0{\n",
       "            background-color:  #f3f0f0;\n",
       "            color:  #000000;\n",
       "        }#T_e5006_row0_col1{\n",
       "            background-color:  #f6b8b7;\n",
       "            color:  #000000;\n",
       "        }#T_e5006_row0_col2{\n",
       "            background-color:  #fb5656;\n",
       "            color:  #000000;\n",
       "        }#T_e5006_row0_col3{\n",
       "            background-color:  #ff0000;\n",
       "            color:  #f1f1f1;\n",
       "        }</style><table id=\"T_e5006_\" ><thead>    <tr>        <th class=\"blank level0\" ></th>        <th class=\"col_heading level0 col0\" >abacus</th>        <th class=\"col_heading level0 col1\" >train</th>        <th class=\"col_heading level0 col2\" >sim</th>        <th class=\"col_heading level0 col3\" >modeler</th>    </tr></thead><tbody>\n",
       "                <tr>\n",
       "                        <th id=\"T_e5006_level0_row0\" class=\"row_heading level0 row0\" >1958</th>\n",
       "                        <td id=\"T_e5006_row0_col0\" class=\"data row0 col0\" >0.184054</td>\n",
       "                        <td id=\"T_e5006_row0_col1\" class=\"data row0 col1\" >0.214456</td>\n",
       "                        <td id=\"T_e5006_row0_col2\" class=\"data row0 col2\" >0.267194</td>\n",
       "                        <td id=\"T_e5006_row0_col3\" class=\"data row0 col3\" >0.313340</td>\n",
       "            </tr>\n",
       "    </tbody></table>"
      ],
      "text/plain": [
       "<pandas.io.formats.style.Styler at 0x7f4f599d2c10>"
      ]
     },
     "metadata": {},
     "output_type": "display_data"
    }
   ],
   "source": [
    "for (id_left, id_right) in false_negatives[:5]:\n",
    "    print(np.dot(test_left_vector_dict[id_left], test_right_vector_dict[id_right]))\n",
    "    display_pair_attention((id_left, id_right), 'title')"
   ]
  },
  {
   "cell_type": "code",
   "execution_count": 18,
   "id": "1a7912a3",
   "metadata": {},
   "outputs": [
    {
     "data": {
      "text/plain": [
       "664"
      ]
     },
     "execution_count": 18,
     "metadata": {},
     "output_type": "execute_result"
    }
   ],
   "source": [
    "false_positives = list(test_found_pair_set - test_pos_pair_set)\n",
    "len(false_positives)"
   ]
  },
  {
   "cell_type": "code",
   "execution_count": 19,
   "id": "dca50fd2",
   "metadata": {},
   "outputs": [
    {
     "name": "stdout",
     "output_type": "stream",
     "text": [
      "0.7204137\n"
     ]
    },
    {
     "data": {
      "text/html": [
       "<style  type=\"text/css\" >\n",
       "#T_b22ee_row0_col0{\n",
       "            background-color:  #f3f0f0;\n",
       "            color:  #000000;\n",
       "        }#T_b22ee_row0_col1{\n",
       "            background-color:  #f79595;\n",
       "            color:  #000000;\n",
       "        }#T_b22ee_row0_col2{\n",
       "            background-color:  #fc3c3c;\n",
       "            color:  #f1f1f1;\n",
       "        }#T_b22ee_row0_col3{\n",
       "            background-color:  #fa6060;\n",
       "            color:  #000000;\n",
       "        }#T_b22ee_row0_col4{\n",
       "            background-color:  #ff0000;\n",
       "            color:  #f1f1f1;\n",
       "        }#T_b22ee_row0_col5{\n",
       "            background-color:  #f6b8b8;\n",
       "            color:  #000000;\n",
       "        }</style><table id=\"T_b22ee_\" ><thead>    <tr>        <th class=\"blank level0\" ></th>        <th class=\"col_heading level0 col0\" >print</th>        <th class=\"col_heading level0 col1\" >shop</th>        <th class=\"col_heading level0 col2\" >22</th>        <th class=\"col_heading level0 col3\" >pro</th>        <th class=\"col_heading level0 col4\" >publisher</th>        <th class=\"col_heading level0 col5\" >deluxe</th>    </tr></thead><tbody>\n",
       "                <tr>\n",
       "                        <th id=\"T_b22ee_level0_row0\" class=\"row_heading level0 row0\" >1259</th>\n",
       "                        <td id=\"T_b22ee_row0_col0\" class=\"data row0 col0\" >0.104937</td>\n",
       "                        <td id=\"T_b22ee_row0_col1\" class=\"data row0 col1\" >0.152767</td>\n",
       "                        <td id=\"T_b22ee_row0_col2\" class=\"data row0 col2\" >0.198373</td>\n",
       "                        <td id=\"T_b22ee_row0_col3\" class=\"data row0 col3\" >0.179916</td>\n",
       "                        <td id=\"T_b22ee_row0_col4\" class=\"data row0 col4\" >0.229915</td>\n",
       "                        <td id=\"T_b22ee_row0_col5\" class=\"data row0 col5\" >0.134091</td>\n",
       "            </tr>\n",
       "    </tbody></table>"
      ],
      "text/plain": [
       "<pandas.io.formats.style.Styler at 0x7f4f59a6a310>"
      ]
     },
     "metadata": {},
     "output_type": "display_data"
    },
    {
     "data": {
      "text/html": [
       "<style  type=\"text/css\" >\n",
       "#T_f8945_row0_col0{\n",
       "            background-color:  #f3f0f0;\n",
       "            color:  #000000;\n",
       "        }#T_f8945_row0_col1{\n",
       "            background-color:  #ff0000;\n",
       "            color:  #f1f1f1;\n",
       "        }#T_f8945_row0_col2{\n",
       "            background-color:  #f6adad;\n",
       "            color:  #000000;\n",
       "        }#T_f8945_row0_col3{\n",
       "            background-color:  #f97474;\n",
       "            color:  #000000;\n",
       "        }</style><table id=\"T_f8945_\" ><thead>    <tr>        <th class=\"blank level0\" ></th>        <th class=\"col_heading level0 col0\" >printshop</th>        <th class=\"col_heading level0 col1\" >20</th>        <th class=\"col_heading level0 col2\" >pro</th>        <th class=\"col_heading level0 col3\" >publisher</th>    </tr></thead><tbody>\n",
       "                <tr>\n",
       "                        <th id=\"T_f8945_level0_row0\" class=\"row_heading level0 row0\" >2800</th>\n",
       "                        <td id=\"T_f8945_row0_col0\" class=\"data row0 col0\" >0.201209</td>\n",
       "                        <td id=\"T_f8945_row0_col1\" class=\"data row0 col1\" >0.309976</td>\n",
       "                        <td id=\"T_f8945_row0_col2\" class=\"data row0 col2\" >0.231440</td>\n",
       "                        <td id=\"T_f8945_row0_col3\" class=\"data row0 col3\" >0.257375</td>\n",
       "            </tr>\n",
       "    </tbody></table>"
      ],
      "text/plain": [
       "<pandas.io.formats.style.Styler at 0x7f4f59a1adf0>"
      ]
     },
     "metadata": {},
     "output_type": "display_data"
    },
    {
     "name": "stdout",
     "output_type": "stream",
     "text": [
      "0.58963317\n"
     ]
    },
    {
     "data": {
      "text/html": [
       "<style  type=\"text/css\" >\n",
       "#T_ef394_row0_col0{\n",
       "            background-color:  #f7a4a4;\n",
       "            color:  #000000;\n",
       "        }#T_ef394_row0_col1{\n",
       "            background-color:  #ff0000;\n",
       "            color:  #f1f1f1;\n",
       "        }#T_ef394_row0_col2{\n",
       "            background-color:  #ff0505;\n",
       "            color:  #f1f1f1;\n",
       "        }#T_ef394_row0_col3{\n",
       "            background-color:  #f3f0f0;\n",
       "            color:  #000000;\n",
       "        }</style><table id=\"T_ef394_\" ><thead>    <tr>        <th class=\"blank level0\" ></th>        <th class=\"col_heading level0 col0\" >ae</th>        <th class=\"col_heading level0 col1\" >mappoint</th>        <th class=\"col_heading level0 col2\" >2006</th>        <th class=\"col_heading level0 col3\" >cd</th>    </tr></thead><tbody>\n",
       "                <tr>\n",
       "                        <th id=\"T_ef394_level0_row0\" class=\"row_heading level0 row0\" >469</th>\n",
       "                        <td id=\"T_ef394_row0_col0\" class=\"data row0 col0\" >0.229766</td>\n",
       "                        <td id=\"T_ef394_row0_col1\" class=\"data row0 col1\" >0.283581</td>\n",
       "                        <td id=\"T_ef394_row0_col2\" class=\"data row0 col2\" >0.281881</td>\n",
       "                        <td id=\"T_ef394_row0_col3\" class=\"data row0 col3\" >0.204772</td>\n",
       "            </tr>\n",
       "    </tbody></table>"
      ],
      "text/plain": [
       "<pandas.io.formats.style.Styler at 0x7f4fdb646070>"
      ]
     },
     "metadata": {},
     "output_type": "display_data"
    },
    {
     "data": {
      "text/html": [
       "<style  type=\"text/css\" >\n",
       "#T_56a6d_row0_col0{\n",
       "            background-color:  #f96f6f;\n",
       "            color:  #000000;\n",
       "        }#T_56a6d_row0_col1{\n",
       "            background-color:  #ff0000;\n",
       "            color:  #f1f1f1;\n",
       "        }#T_56a6d_row0_col2{\n",
       "            background-color:  #ff0909;\n",
       "            color:  #f1f1f1;\n",
       "        }#T_56a6d_row0_col3{\n",
       "            background-color:  #fb4848;\n",
       "            color:  #000000;\n",
       "        }#T_56a6d_row0_col4{\n",
       "            background-color:  #fb5656;\n",
       "            color:  #000000;\n",
       "        }#T_56a6d_row0_col5{\n",
       "            background-color:  #f97a7a;\n",
       "            color:  #000000;\n",
       "        }#T_56a6d_row0_col6{\n",
       "            background-color:  #f5c5c5;\n",
       "            color:  #000000;\n",
       "        }#T_56a6d_row0_col7{\n",
       "            background-color:  #f3e6e6;\n",
       "            color:  #000000;\n",
       "        }#T_56a6d_row0_col8{\n",
       "            background-color:  #f3f0f0;\n",
       "            color:  #000000;\n",
       "        }</style><table id=\"T_56a6d_\" ><thead>    <tr>        <th class=\"blank level0\" ></th>        <th class=\"col_heading level0 col0\" >microsoft</th>        <th class=\"col_heading level0 col1\" >mappoint</th>        <th class=\"col_heading level0 col2\" >2006</th>        <th class=\"col_heading level0 col3\" >with</th>        <th class=\"col_heading level0 col4\" >gps</th>        <th class=\"col_heading level0 col5\" >locator</th>        <th class=\"col_heading level0 col6\" >(</th>        <th class=\"col_heading level0 col7\" >pc</th>        <th class=\"col_heading level0 col8\" >)</th>    </tr></thead><tbody>\n",
       "                <tr>\n",
       "                        <th id=\"T_56a6d_level0_row0\" class=\"row_heading level0 row0\" >4392</th>\n",
       "                        <td id=\"T_56a6d_row0_col0\" class=\"data row0 col0\" >0.115509</td>\n",
       "                        <td id=\"T_56a6d_row0_col1\" class=\"data row0 col1\" >0.185339</td>\n",
       "                        <td id=\"T_56a6d_row0_col2\" class=\"data row0 col2\" >0.179359</td>\n",
       "                        <td id=\"T_56a6d_row0_col3\" class=\"data row0 col3\" >0.140424</td>\n",
       "                        <td id=\"T_56a6d_row0_col4\" class=\"data row0 col4\" >0.131453</td>\n",
       "                        <td id=\"T_56a6d_row0_col5\" class=\"data row0 col5\" >0.108565</td>\n",
       "                        <td id=\"T_56a6d_row0_col6\" class=\"data row0 col6\" >0.062387</td>\n",
       "                        <td id=\"T_56a6d_row0_col7\" class=\"data row0 col7\" >0.041956</td>\n",
       "                        <td id=\"T_56a6d_row0_col8\" class=\"data row0 col8\" >0.035008</td>\n",
       "            </tr>\n",
       "    </tbody></table>"
      ],
      "text/plain": [
       "<pandas.io.formats.style.Styler at 0x7f4fdb646eb0>"
      ]
     },
     "metadata": {},
     "output_type": "display_data"
    },
    {
     "name": "stdout",
     "output_type": "stream",
     "text": [
      "0.5331933\n"
     ]
    },
    {
     "data": {
      "text/html": [
       "<style  type=\"text/css\" >\n",
       "#T_85b09_row0_col0{\n",
       "            background-color:  #f88f8f;\n",
       "            color:  #000000;\n",
       "        }#T_85b09_row0_col1{\n",
       "            background-color:  #fa6262;\n",
       "            color:  #000000;\n",
       "        }#T_85b09_row0_col2{\n",
       "            background-color:  #f97e7e;\n",
       "            color:  #000000;\n",
       "        }#T_85b09_row0_col3{\n",
       "            background-color:  #ff0000;\n",
       "            color:  #f1f1f1;\n",
       "        }#T_85b09_row0_col4{\n",
       "            background-color:  #f3f0f0;\n",
       "            color:  #000000;\n",
       "        }</style><table id=\"T_85b09_\" ><thead>    <tr>        <th class=\"blank level0\" ></th>        <th class=\"col_heading level0 col0\" >upg</th>        <th class=\"col_heading level0 col1\" >serverlock</th>        <th class=\"col_heading level0 col2\" >for</th>        <th class=\"col_heading level0 col3\" >solaris</th>        <th class=\"col_heading level0 col4\" >gold</th>    </tr></thead><tbody>\n",
       "                <tr>\n",
       "                        <th id=\"T_85b09_level0_row0\" class=\"row_heading level0 row0\" >200</th>\n",
       "                        <td id=\"T_85b09_row0_col0\" class=\"data row0 col0\" >0.190985</td>\n",
       "                        <td id=\"T_85b09_row0_col1\" class=\"data row0 col1\" >0.209826</td>\n",
       "                        <td id=\"T_85b09_row0_col2\" class=\"data row0 col2\" >0.197998</td>\n",
       "                        <td id=\"T_85b09_row0_col3\" class=\"data row0 col3\" >0.251310</td>\n",
       "                        <td id=\"T_85b09_row0_col4\" class=\"data row0 col4\" >0.149881</td>\n",
       "            </tr>\n",
       "    </tbody></table>"
      ],
      "text/plain": [
       "<pandas.io.formats.style.Styler at 0x7f4f599e0640>"
      ]
     },
     "metadata": {},
     "output_type": "display_data"
    },
    {
     "data": {
      "text/html": [
       "<style  type=\"text/css\" >\n",
       "#T_05575_row0_col0{\n",
       "            background-color:  #f4d8d7;\n",
       "            color:  #000000;\n",
       "        }#T_05575_row0_col1{\n",
       "            background-color:  #f3f0f0;\n",
       "            color:  #000000;\n",
       "        }#T_05575_row0_col2{\n",
       "            background-color:  #f7a2a2;\n",
       "            color:  #000000;\n",
       "        }#T_05575_row0_col3{\n",
       "            background-color:  #f79696;\n",
       "            color:  #000000;\n",
       "        }#T_05575_row0_col4{\n",
       "            background-color:  #ff0000;\n",
       "            color:  #f1f1f1;\n",
       "        }#T_05575_row0_col5{\n",
       "            background-color:  #fe1818;\n",
       "            color:  #f1f1f1;\n",
       "        }#T_05575_row0_col6{\n",
       "            background-color:  #fa6c6c;\n",
       "            color:  #000000;\n",
       "        }#T_05575_row0_col7{\n",
       "            background-color:  #f88686;\n",
       "            color:  #000000;\n",
       "        }#T_05575_row0_col8{\n",
       "            background-color:  #fa6262;\n",
       "            color:  #000000;\n",
       "        }#T_05575_row0_col9{\n",
       "            background-color:  #fb5656;\n",
       "            color:  #000000;\n",
       "        }#T_05575_row0_col10{\n",
       "            background-color:  #f88484;\n",
       "            color:  #000000;\n",
       "        }#T_05575_row0_col11{\n",
       "            background-color:  #f5bcbc;\n",
       "            color:  #000000;\n",
       "        }#T_05575_row0_col12{\n",
       "            background-color:  #f6b2b2;\n",
       "            color:  #000000;\n",
       "        }#T_05575_row0_col13{\n",
       "            background-color:  #f5c3c3;\n",
       "            color:  #000000;\n",
       "        }</style><table id=\"T_05575_\" ><thead>    <tr>        <th class=\"blank level0\" ></th>        <th class=\"col_heading level0 col0\" >freeverse</th>        <th class=\"col_heading level0 col1\" >software</th>        <th class=\"col_heading level0 col2\" >5014</th>        <th class=\"col_heading level0 col3\" >-</th>        <th class=\"col_heading level0 col4\" >toysight</th>        <th class=\"col_heading level0 col5\" >gold</th>        <th class=\"col_heading level0 col6\" >(</th>        <th class=\"col_heading level0 col7\" >mac</th>        <th class=\"col_heading level0 col8\" >10</th>        <th class=\"col_heading level0 col9\" >.</th>        <th class=\"col_heading level0 col10\" >2</th>        <th class=\"col_heading level0 col11\" >or</th>        <th class=\"col_heading level0 col12\" >higher</th>        <th class=\"col_heading level0 col13\" >)</th>    </tr></thead><tbody>\n",
       "                <tr>\n",
       "                        <th id=\"T_05575_level0_row0\" class=\"row_heading level0 row0\" >2785</th>\n",
       "                        <td id=\"T_05575_row0_col0\" class=\"data row0 col0\" >0.026781</td>\n",
       "                        <td id=\"T_05575_row0_col1\" class=\"data row0 col1\" >0.013017</td>\n",
       "                        <td id=\"T_05575_row0_col2\" class=\"data row0 col2\" >0.056985</td>\n",
       "                        <td id=\"T_05575_row0_col3\" class=\"data row0 col3\" >0.063934</td>\n",
       "                        <td id=\"T_05575_row0_col4\" class=\"data row0 col4\" >0.148294</td>\n",
       "                        <td id=\"T_05575_row0_col5\" class=\"data row0 col5\" >0.134350</td>\n",
       "                        <td id=\"T_05575_row0_col6\" class=\"data row0 col6\" >0.087100</td>\n",
       "                        <td id=\"T_05575_row0_col7\" class=\"data row0 col7\" >0.072952</td>\n",
       "                        <td id=\"T_05575_row0_col8\" class=\"data row0 col8\" >0.093101</td>\n",
       "                        <td id=\"T_05575_row0_col9\" class=\"data row0 col9\" >0.100122</td>\n",
       "                        <td id=\"T_05575_row0_col10\" class=\"data row0 col10\" >0.074046</td>\n",
       "                        <td id=\"T_05575_row0_col11\" class=\"data row0 col11\" >0.042554</td>\n",
       "                        <td id=\"T_05575_row0_col12\" class=\"data row0 col12\" >0.048317</td>\n",
       "                        <td id=\"T_05575_row0_col13\" class=\"data row0 col13\" >0.038447</td>\n",
       "            </tr>\n",
       "    </tbody></table>"
      ],
      "text/plain": [
       "<pandas.io.formats.style.Styler at 0x7f4f59a1a850>"
      ]
     },
     "metadata": {},
     "output_type": "display_data"
    },
    {
     "name": "stdout",
     "output_type": "stream",
     "text": [
      "0.54700345\n"
     ]
    },
    {
     "data": {
      "text/html": [
       "<style  type=\"text/css\" >\n",
       "#T_2a643_row0_col0{\n",
       "            background-color:  #fb5252;\n",
       "            color:  #000000;\n",
       "        }#T_2a643_row0_col1{\n",
       "            background-color:  #fb4b4b;\n",
       "            color:  #000000;\n",
       "        }#T_2a643_row0_col2{\n",
       "            background-color:  #ff0000;\n",
       "            color:  #f1f1f1;\n",
       "        }#T_2a643_row0_col3{\n",
       "            background-color:  #fe1111;\n",
       "            color:  #f1f1f1;\n",
       "        }#T_2a643_row0_col4{\n",
       "            background-color:  #fd2222;\n",
       "            color:  #f1f1f1;\n",
       "        }#T_2a643_row0_col5{\n",
       "            background-color:  #fe1313;\n",
       "            color:  #f1f1f1;\n",
       "        }#T_2a643_row0_col6{\n",
       "            background-color:  #f88a8a;\n",
       "            color:  #000000;\n",
       "        }#T_2a643_row0_col7{\n",
       "            background-color:  #f6b1b1;\n",
       "            color:  #000000;\n",
       "        }#T_2a643_row0_col8{\n",
       "            background-color:  #f5c4c4;\n",
       "            color:  #000000;\n",
       "        }#T_2a643_row0_col9{\n",
       "            background-color:  #f5bfbf;\n",
       "            color:  #000000;\n",
       "        }#T_2a643_row0_col10{\n",
       "            background-color:  #f5bdbd;\n",
       "            color:  #000000;\n",
       "        }#T_2a643_row0_col11{\n",
       "            background-color:  #f5c2c2;\n",
       "            color:  #000000;\n",
       "        }#T_2a643_row0_col12{\n",
       "            background-color:  #f3eded;\n",
       "            color:  #000000;\n",
       "        }#T_2a643_row0_col13{\n",
       "            background-color:  #f3f0f0;\n",
       "            color:  #000000;\n",
       "        }</style><table id=\"T_2a643_\" ><thead>    <tr>        <th class=\"blank level0\" ></th>        <th class=\"col_heading level0 col0\" >apple</th>        <th class=\"col_heading level0 col1\" >ilife</th>        <th class=\"col_heading level0 col2\" >'</th>        <th class=\"col_heading level0 col3\" >06</th>        <th class=\"col_heading level0 col4\" >family</th>        <th class=\"col_heading level0 col5\" >pack</th>        <th class=\"col_heading level0 col6\" >(</th>        <th class=\"col_heading level0 col7\" >mac</th>        <th class=\"col_heading level0 col8\" >dvd</th>        <th class=\"col_heading level0 col9\" >)</th>        <th class=\"col_heading level0 col10\" >[</th>        <th class=\"col_heading level0 col11\" >older</th>        <th class=\"col_heading level0 col12\" >version</th>        <th class=\"col_heading level0 col13\" >]</th>    </tr></thead><tbody>\n",
       "                <tr>\n",
       "                        <th id=\"T_2a643_level0_row0\" class=\"row_heading level0 row0\" >860</th>\n",
       "                        <td id=\"T_2a643_row0_col0\" class=\"data row0 col0\" >0.090943</td>\n",
       "                        <td id=\"T_2a643_row0_col1\" class=\"data row0 col1\" >0.093710</td>\n",
       "                        <td id=\"T_2a643_row0_col2\" class=\"data row0 col2\" >0.125803</td>\n",
       "                        <td id=\"T_2a643_row0_col3\" class=\"data row0 col3\" >0.118287</td>\n",
       "                        <td id=\"T_2a643_row0_col4\" class=\"data row0 col4\" >0.111290</td>\n",
       "                        <td id=\"T_2a643_row0_col5\" class=\"data row0 col5\" >0.117449</td>\n",
       "                        <td id=\"T_2a643_row0_col6\" class=\"data row0 col6\" >0.066811</td>\n",
       "                        <td id=\"T_2a643_row0_col7\" class=\"data row0 col7\" >0.050793</td>\n",
       "                        <td id=\"T_2a643_row0_col8\" class=\"data row0 col8\" >0.042730</td>\n",
       "                        <td id=\"T_2a643_row0_col9\" class=\"data row0 col9\" >0.044668</td>\n",
       "                        <td id=\"T_2a643_row0_col10\" class=\"data row0 col10\" >0.045425</td>\n",
       "                        <td id=\"T_2a643_row0_col11\" class=\"data row0 col11\" >0.043254</td>\n",
       "                        <td id=\"T_2a643_row0_col12\" class=\"data row0 col12\" >0.025143</td>\n",
       "                        <td id=\"T_2a643_row0_col13\" class=\"data row0 col13\" >0.023696</td>\n",
       "            </tr>\n",
       "    </tbody></table>"
      ],
      "text/plain": [
       "<pandas.io.formats.style.Styler at 0x7f4f599da820>"
      ]
     },
     "metadata": {},
     "output_type": "display_data"
    },
    {
     "data": {
      "text/html": [
       "<style  type=\"text/css\" >\n",
       "#T_58c09_row0_col0,#T_58c09_row0_col6,#T_58c09_row0_col11{\n",
       "            background-color:  #fa6868;\n",
       "            color:  #000000;\n",
       "        }#T_58c09_row0_col1{\n",
       "            background-color:  #ff0000;\n",
       "            color:  #f1f1f1;\n",
       "        }#T_58c09_row0_col2{\n",
       "            background-color:  #f4d8d7;\n",
       "            color:  #000000;\n",
       "        }#T_58c09_row0_col3{\n",
       "            background-color:  #fb4848;\n",
       "            color:  #000000;\n",
       "        }#T_58c09_row0_col4{\n",
       "            background-color:  #fa6b6b;\n",
       "            color:  #000000;\n",
       "        }#T_58c09_row0_col5{\n",
       "            background-color:  #f3f0f0;\n",
       "            color:  #000000;\n",
       "        }#T_58c09_row0_col7{\n",
       "            background-color:  #f6bbbb;\n",
       "            color:  #000000;\n",
       "        }#T_58c09_row0_col8{\n",
       "            background-color:  #f97878;\n",
       "            color:  #000000;\n",
       "        }#T_58c09_row0_col9{\n",
       "            background-color:  #f88686;\n",
       "            color:  #000000;\n",
       "        }#T_58c09_row0_col10{\n",
       "            background-color:  #fa6161;\n",
       "            color:  #000000;\n",
       "        }#T_58c09_row0_col12{\n",
       "            background-color:  #fd2626;\n",
       "            color:  #f1f1f1;\n",
       "        }#T_58c09_row0_col13{\n",
       "            background-color:  #fb5252;\n",
       "            color:  #000000;\n",
       "        }#T_58c09_row0_col14{\n",
       "            background-color:  #f7a1a1;\n",
       "            color:  #000000;\n",
       "        }</style><table id=\"T_58c09_\" ><thead>    <tr>        <th class=\"blank level0\" ></th>        <th class=\"col_heading level0 col0\" >apple</th>        <th class=\"col_heading level0 col1\" >.</th>        <th class=\"col_heading level0 col2\" >mac</th>        <th class=\"col_heading level0 col3\" >family</th>        <th class=\"col_heading level0 col4\" >pack</th>        <th class=\"col_heading level0 col5\" >software</th>        <th class=\"col_heading level0 col6\" >-</th>        <th class=\"col_heading level0 col7\" >five</th>        <th class=\"col_heading level0 col8\" >user</th>        <th class=\"col_heading level0 col9\" >license</th>        <th class=\"col_heading level0 col10\" >with</th>        <th class=\"col_heading level0 col11\" >1</th>        <th class=\"col_heading level0 col12\" >year</th>        <th class=\"col_heading level0 col13\" >subscription</th>        <th class=\"col_heading level0 col14\" >&</th>    </tr></thead><tbody>\n",
       "                <tr>\n",
       "                        <th id=\"T_58c09_level0_row0\" class=\"row_heading level0 row0\" >3478</th>\n",
       "                        <td id=\"T_58c09_row0_col0\" class=\"data row0 col0\" >0.057929</td>\n",
       "                        <td id=\"T_58c09_row0_col1\" class=\"data row0 col1\" >0.098221</td>\n",
       "                        <td id=\"T_58c09_row0_col2\" class=\"data row0 col2\" >0.014846</td>\n",
       "                        <td id=\"T_58c09_row0_col3\" class=\"data row0 col3\" >0.070330</td>\n",
       "                        <td id=\"T_58c09_row0_col4\" class=\"data row0 col4\" >0.056706</td>\n",
       "                        <td id=\"T_58c09_row0_col5\" class=\"data row0 col5\" >0.005276</td>\n",
       "                        <td id=\"T_58c09_row0_col6\" class=\"data row0 col6\" >0.058178</td>\n",
       "                        <td id=\"T_58c09_row0_col7\" class=\"data row0 col7\" >0.025641</td>\n",
       "                        <td id=\"T_58c09_row0_col8\" class=\"data row0 col8\" >0.051894</td>\n",
       "                        <td id=\"T_58c09_row0_col9\" class=\"data row0 col9\" >0.046556</td>\n",
       "                        <td id=\"T_58c09_row0_col10\" class=\"data row0 col10\" >0.060568</td>\n",
       "                        <td id=\"T_58c09_row0_col11\" class=\"data row0 col11\" >0.057592</td>\n",
       "                        <td id=\"T_58c09_row0_col12\" class=\"data row0 col12\" >0.083535</td>\n",
       "                        <td id=\"T_58c09_row0_col13\" class=\"data row0 col13\" >0.066279</td>\n",
       "                        <td id=\"T_58c09_row0_col14\" class=\"data row0 col14\" >0.035797</td>\n",
       "            </tr>\n",
       "    </tbody></table>"
      ],
      "text/plain": [
       "<pandas.io.formats.style.Styler at 0x7f4f599c08b0>"
      ]
     },
     "metadata": {},
     "output_type": "display_data"
    },
    {
     "name": "stdout",
     "output_type": "stream",
     "text": [
      "0.6331956\n"
     ]
    },
    {
     "data": {
      "text/html": [
       "<style  type=\"text/css\" >\n",
       "#T_84f4c_row0_col0{\n",
       "            background-color:  #fb4d4d;\n",
       "            color:  #000000;\n",
       "        }#T_84f4c_row0_col1{\n",
       "            background-color:  #fb4949;\n",
       "            color:  #000000;\n",
       "        }#T_84f4c_row0_col2{\n",
       "            background-color:  #ff0000;\n",
       "            color:  #f1f1f1;\n",
       "        }#T_84f4c_row0_col3{\n",
       "            background-color:  #fd2323;\n",
       "            color:  #f1f1f1;\n",
       "        }#T_84f4c_row0_col4{\n",
       "            background-color:  #f88989;\n",
       "            color:  #000000;\n",
       "        }#T_84f4c_row0_col5{\n",
       "            background-color:  #f6afaf;\n",
       "            color:  #000000;\n",
       "        }#T_84f4c_row0_col6{\n",
       "            background-color:  #f5c1c1;\n",
       "            color:  #000000;\n",
       "        }#T_84f4c_row0_col7{\n",
       "            background-color:  #f6b8b8;\n",
       "            color:  #000000;\n",
       "        }#T_84f4c_row0_col8{\n",
       "            background-color:  #f6b4b4;\n",
       "            color:  #000000;\n",
       "        }#T_84f4c_row0_col9{\n",
       "            background-color:  #f6b9b9;\n",
       "            color:  #000000;\n",
       "        }#T_84f4c_row0_col10{\n",
       "            background-color:  #f3ecec;\n",
       "            color:  #000000;\n",
       "        }#T_84f4c_row0_col11{\n",
       "            background-color:  #f3f0f0;\n",
       "            color:  #000000;\n",
       "        }</style><table id=\"T_84f4c_\" ><thead>    <tr>        <th class=\"blank level0\" ></th>        <th class=\"col_heading level0 col0\" >apple</th>        <th class=\"col_heading level0 col1\" >ilife</th>        <th class=\"col_heading level0 col2\" >'</th>        <th class=\"col_heading level0 col3\" >06</th>        <th class=\"col_heading level0 col4\" >(</th>        <th class=\"col_heading level0 col5\" >mac</th>        <th class=\"col_heading level0 col6\" >dvd</th>        <th class=\"col_heading level0 col7\" >)</th>        <th class=\"col_heading level0 col8\" >[</th>        <th class=\"col_heading level0 col9\" >older</th>        <th class=\"col_heading level0 col10\" >version</th>        <th class=\"col_heading level0 col11\" >]</th>    </tr></thead><tbody>\n",
       "                <tr>\n",
       "                        <th id=\"T_84f4c_level0_row0\" class=\"row_heading level0 row0\" >542</th>\n",
       "                        <td id=\"T_84f4c_row0_col0\" class=\"data row0 col0\" >0.116475</td>\n",
       "                        <td id=\"T_84f4c_row0_col1\" class=\"data row0 col1\" >0.118553</td>\n",
       "                        <td id=\"T_84f4c_row0_col2\" class=\"data row0 col2\" >0.155587</td>\n",
       "                        <td id=\"T_84f4c_row0_col3\" class=\"data row0 col3\" >0.137826</td>\n",
       "                        <td id=\"T_84f4c_row0_col4\" class=\"data row0 col4\" >0.086079</td>\n",
       "                        <td id=\"T_84f4c_row0_col5\" class=\"data row0 col5\" >0.067373</td>\n",
       "                        <td id=\"T_84f4c_row0_col6\" class=\"data row0 col6\" >0.058156</td>\n",
       "                        <td id=\"T_84f4c_row0_col7\" class=\"data row0 col7\" >0.062510</td>\n",
       "                        <td id=\"T_84f4c_row0_col8\" class=\"data row0 col8\" >0.064748</td>\n",
       "                        <td id=\"T_84f4c_row0_col9\" class=\"data row0 col9\" >0.062026</td>\n",
       "                        <td id=\"T_84f4c_row0_col10\" class=\"data row0 col10\" >0.036361</td>\n",
       "                        <td id=\"T_84f4c_row0_col11\" class=\"data row0 col11\" >0.034306</td>\n",
       "            </tr>\n",
       "    </tbody></table>"
      ],
      "text/plain": [
       "<pandas.io.formats.style.Styler at 0x7f4f59a1a220>"
      ]
     },
     "metadata": {},
     "output_type": "display_data"
    },
    {
     "data": {
      "text/html": [
       "<style  type=\"text/css\" >\n",
       "#T_d80a4_row0_col0{\n",
       "            background-color:  #f3f0f0;\n",
       "            color:  #000000;\n",
       "        }#T_d80a4_row0_col1{\n",
       "            background-color:  #f3ecec;\n",
       "            color:  #000000;\n",
       "        }#T_d80a4_row0_col2{\n",
       "            background-color:  #ff0000;\n",
       "            color:  #f1f1f1;\n",
       "        }#T_d80a4_row0_col3{\n",
       "            background-color:  #fa6262;\n",
       "            color:  #000000;\n",
       "        }#T_d80a4_row0_col4{\n",
       "            background-color:  #f6adad;\n",
       "            color:  #000000;\n",
       "        }#T_d80a4_row0_col5{\n",
       "            background-color:  #fa5f5f;\n",
       "            color:  #000000;\n",
       "        }</style><table id=\"T_d80a4_\" ><thead>    <tr>        <th class=\"blank level0\" ></th>        <th class=\"col_heading level0 col0\" >apple</th>        <th class=\"col_heading level0 col1\" >ilife</th>        <th class=\"col_heading level0 col2\" >'</th>        <th class=\"col_heading level0 col3\" >06</th>        <th class=\"col_heading level0 col4\" >family</th>        <th class=\"col_heading level0 col5\" >pack</th>    </tr></thead><tbody>\n",
       "                <tr>\n",
       "                        <th id=\"T_d80a4_level0_row0\" class=\"row_heading level0 row0\" >1591</th>\n",
       "                        <td id=\"T_d80a4_row0_col0\" class=\"data row0 col0\" >0.147593</td>\n",
       "                        <td id=\"T_d80a4_row0_col1\" class=\"data row0 col1\" >0.148411</td>\n",
       "                        <td id=\"T_d80a4_row0_col2\" class=\"data row0 col2\" >0.193483</td>\n",
       "                        <td id=\"T_d80a4_row0_col3\" class=\"data row0 col3\" >0.174719</td>\n",
       "                        <td id=\"T_d80a4_row0_col4\" class=\"data row0 col4\" >0.160424</td>\n",
       "                        <td id=\"T_d80a4_row0_col5\" class=\"data row0 col5\" >0.175372</td>\n",
       "            </tr>\n",
       "    </tbody></table>"
      ],
      "text/plain": [
       "<pandas.io.formats.style.Styler at 0x7f4f59a1afa0>"
      ]
     },
     "metadata": {},
     "output_type": "display_data"
    }
   ],
   "source": [
    "for (id_left, id_right) in false_positives[:5]:\n",
    "    print(np.dot(test_left_vector_dict[id_left], test_right_vector_dict[id_right]))\n",
    "    display_pair_attention((id_left, id_right), 'title')"
   ]
  }
 ],
 "metadata": {
  "kernelspec": {
   "display_name": "Python 3",
   "language": "python",
   "name": "python3"
  },
  "language_info": {
   "codemirror_mode": {
    "name": "ipython",
    "version": 3
   },
   "file_extension": ".py",
   "mimetype": "text/x-python",
   "name": "python",
   "nbconvert_exporter": "python",
   "pygments_lexer": "ipython3",
   "version": "3.8.6"
  }
 },
 "nbformat": 4,
 "nbformat_minor": 5
}
