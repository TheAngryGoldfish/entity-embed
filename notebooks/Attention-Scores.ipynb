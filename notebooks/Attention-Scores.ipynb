{
 "cells": [
  {
   "cell_type": "markdown",
   "id": "14315d5a",
   "metadata": {},
   "source": [
    "# Attention Scores Example"
   ]
  },
  {
   "cell_type": "markdown",
   "id": "3080847d",
   "metadata": {},
   "source": [
    "Please run [Record-Linkage-Example.ipynb](Record-Linkage-Example.ipynb) before this one in order to get the trained model at `../trained-models/notebooks/rl/rl-model.ckpt`."
   ]
  },
  {
   "cell_type": "markdown",
   "id": "2eae51fb",
   "metadata": {},
   "source": [
    "## Boilerplate"
   ]
  },
  {
   "cell_type": "code",
   "execution_count": 1,
   "id": "e6be39ff",
   "metadata": {},
   "outputs": [],
   "source": [
    "%load_ext autoreload\n",
    "%autoreload 2"
   ]
  },
  {
   "cell_type": "code",
   "execution_count": 2,
   "id": "41394338",
   "metadata": {},
   "outputs": [],
   "source": [
    "from importlib import reload\n",
    "import logging\n",
    "reload(logging)\n",
    "logging.basicConfig(format='%(asctime)s %(levelname)s:%(message)s', level=logging.INFO, datefmt='%H:%M:%S')"
   ]
  },
  {
   "cell_type": "code",
   "execution_count": 3,
   "id": "96e239b1",
   "metadata": {},
   "outputs": [],
   "source": [
    "import sys\n",
    "\n",
    "sys.path.insert(0, '..')"
   ]
  },
  {
   "cell_type": "code",
   "execution_count": 4,
   "id": "23bdf412",
   "metadata": {},
   "outputs": [],
   "source": [
    "import entity_embed"
   ]
  },
  {
   "cell_type": "code",
   "execution_count": 5,
   "id": "d581925f",
   "metadata": {},
   "outputs": [],
   "source": [
    "import torch\n",
    "import numpy as np\n",
    "\n",
    "random_seed = 42\n",
    "torch.manual_seed(random_seed)\n",
    "np.random.seed(random_seed)"
   ]
  },
  {
   "cell_type": "markdown",
   "id": "a81e6680",
   "metadata": {},
   "source": [
    "## Loading Test Data"
   ]
  },
  {
   "cell_type": "code",
   "execution_count": 6,
   "id": "105a7df5",
   "metadata": {},
   "outputs": [],
   "source": [
    "import json\n",
    "from ordered_set import OrderedSet\n",
    "\n",
    "def load_pair_set(filepath):\n",
    "    with open(filepath, 'r') as f:\n",
    "        test_pos_pair_set = json.load(f)\n",
    "        return OrderedSet(tuple(pair) for pair in test_pos_pair_set)\n",
    "\n",
    "train_pos_pair_set = load_pair_set('../trained-models/notebooks/rl/rl-train-pos-pairs.json')\n",
    "valid_pos_pair_set = load_pair_set('../trained-models/notebooks/rl/rl-valid-pos-pairs.json')\n",
    "test_pos_pair_set = load_pair_set('../trained-models/notebooks/rl/rl-test-pos-pairs.json')"
   ]
  },
  {
   "cell_type": "code",
   "execution_count": 7,
   "id": "0af3fb30",
   "metadata": {},
   "outputs": [],
   "source": [
    "import json\n",
    "\n",
    "def load_record_dict(filepath):\n",
    "    with open(filepath, 'r') as f:\n",
    "        record_dict = json.load(f)\n",
    "        return {int(id_): record for id_, record in record_dict.items()}\n",
    "\n",
    "train_record_dict = load_record_dict('../trained-models/notebooks/rl/rl-train-records.json')\n",
    "valid_record_dict = load_record_dict('../trained-models/notebooks/rl/rl-valid-records.json')\n",
    "test_record_dict = load_record_dict('../trained-models/notebooks/rl/rl-test-records.json')"
   ]
  },
  {
   "cell_type": "markdown",
   "id": "9e691355",
   "metadata": {},
   "source": [
    "## Loading Model"
   ]
  },
  {
   "cell_type": "code",
   "execution_count": 8,
   "id": "9a29f154",
   "metadata": {},
   "outputs": [],
   "source": [
    "from entity_embed import LinkageEmbed\n",
    "\n",
    "model = LinkageEmbed.load_from_checkpoint('../trained-models/notebooks/rl/rl-model.ckpt')\n",
    "model = model.to(torch.device('cuda'))"
   ]
  },
  {
   "cell_type": "markdown",
   "id": "43e1861a",
   "metadata": {},
   "source": [
    "## Blocking"
   ]
  },
  {
   "cell_type": "code",
   "execution_count": 9,
   "id": "5d16e8ab",
   "metadata": {},
   "outputs": [
    {
     "data": {
      "application/vnd.jupyter.widget-view+json": {
       "model_id": "4150199e4cf142c69dff591ae353a877",
       "version_major": 2,
       "version_minor": 0
      },
      "text/plain": [
       "# batch embedding:   0%|          | 0/22 [00:00<?, ?it/s]"
      ]
     },
     "metadata": {},
     "output_type": "display_data"
    },
    {
     "name": "stdout",
     "output_type": "stream",
     "text": [
      "CPU times: user 1.47 s, sys: 635 ms, total: 2.11 s\n",
      "Wall time: 1.34 s\n"
     ]
    },
    {
     "data": {
      "text/plain": [
       "960"
      ]
     },
     "execution_count": 9,
     "metadata": {},
     "output_type": "execute_result"
    }
   ],
   "source": [
    "%%time\n",
    "\n",
    "eval_batch_size = 64\n",
    "ann_k = 100\n",
    "sim_threshold = 0.5\n",
    "\n",
    "test_found_pair_set = model.predict_pairs(\n",
    "    record_dict=test_record_dict,\n",
    "    batch_size=eval_batch_size,\n",
    "    ann_k=ann_k,\n",
    "    sim_threshold=sim_threshold,\n",
    "    show_progress=True,\n",
    ")\n",
    "\n",
    "len(test_found_pair_set)"
   ]
  },
  {
   "cell_type": "code",
   "execution_count": 10,
   "id": "78f2985f",
   "metadata": {},
   "outputs": [
    {
     "data": {
      "application/vnd.jupyter.widget-view+json": {
       "model_id": "bd801b46e94c41cdb7833a02d44f3e24",
       "version_major": 2,
       "version_minor": 0
      },
      "text/plain": [
       "# batch embedding:   0%|          | 0/22 [00:00<?, ?it/s]"
      ]
     },
     "metadata": {},
     "output_type": "display_data"
    },
    {
     "name": "stdout",
     "output_type": "stream",
     "text": [
      "CPU times: user 393 ms, sys: 612 ms, total: 1.01 s\n",
      "Wall time: 1.09 s\n"
     ]
    },
    {
     "data": {
      "text/plain": [
       "(406, 963)"
      ]
     },
     "execution_count": 10,
     "metadata": {},
     "output_type": "execute_result"
    }
   ],
   "source": [
    "%%time\n",
    "\n",
    "test_left_vector_dict, test_right_vector_dict = model.predict(\n",
    "    record_dict=test_record_dict,\n",
    "    batch_size=eval_batch_size,\n",
    "    show_progress=True,\n",
    ")\n",
    "\n",
    "len(test_left_vector_dict), len(test_right_vector_dict)"
   ]
  },
  {
   "cell_type": "code",
   "execution_count": 11,
   "id": "69257b71",
   "metadata": {},
   "outputs": [
    {
     "data": {
      "application/vnd.jupyter.widget-view+json": {
       "model_id": "176ea4e6e90745ad9ed820bbe6e00c54",
       "version_major": 2,
       "version_minor": 0
      },
      "text/plain": [
       "# batch embedding:   0%|          | 0/22 [00:00<?, ?it/s]"
      ]
     },
     "metadata": {},
     "output_type": "display_data"
    },
    {
     "data": {
      "text/plain": [
       "1369"
      ]
     },
     "execution_count": 11,
     "metadata": {},
     "output_type": "execute_result"
    }
   ],
   "source": [
    "test_attn_scores_dict = model.interpret_attention(\n",
    "    record_dict=test_record_dict,\n",
    "    batch_size=eval_batch_size,\n",
    "    field='title',\n",
    ")\n",
    "\n",
    "len(test_attn_scores_dict)"
   ]
  },
  {
   "cell_type": "code",
   "execution_count": 12,
   "id": "286983b0",
   "metadata": {},
   "outputs": [
    {
     "data": {
      "text/plain": [
       "[]"
      ]
     },
     "execution_count": 12,
     "metadata": {},
     "output_type": "execute_result"
    }
   ],
   "source": [
    "[id_ for id_, x in test_attn_scores_dict.items() if x.sum() < 0.99]"
   ]
  },
  {
   "cell_type": "code",
   "execution_count": 13,
   "id": "75b09386",
   "metadata": {},
   "outputs": [
    {
     "data": {
      "text/plain": [
       "0.7012417823228634"
      ]
     },
     "execution_count": 13,
     "metadata": {},
     "output_type": "execute_result"
    }
   ],
   "source": [
    "from entity_embed.evaluation import pair_entity_ratio\n",
    "\n",
    "pair_entity_ratio(len(test_found_pair_set), len(test_record_dict))"
   ]
  },
  {
   "cell_type": "code",
   "execution_count": 14,
   "id": "3ad9d6e6",
   "metadata": {},
   "outputs": [
    {
     "data": {
      "text/plain": [
       "(0.378125, 0.952755905511811)"
      ]
     },
     "execution_count": 14,
     "metadata": {},
     "output_type": "execute_result"
    }
   ],
   "source": [
    "from entity_embed.evaluation import precision_and_recall\n",
    "\n",
    "precision_and_recall(test_found_pair_set, test_pos_pair_set)"
   ]
  },
  {
   "cell_type": "code",
   "execution_count": 15,
   "id": "43da7726",
   "metadata": {},
   "outputs": [
    {
     "data": {
      "text/plain": [
       "24"
      ]
     },
     "execution_count": 15,
     "metadata": {},
     "output_type": "execute_result"
    }
   ],
   "source": [
    "hard_positives = list(test_pos_pair_set & test_found_pair_set)\n",
    "hard_positives = [\n",
    "    (id_left, id_right)\n",
    "    for (id_left, id_right) in hard_positives\n",
    "    if sim_threshold <= np.dot(test_left_vector_dict[id_left], test_right_vector_dict[id_right]) <= sim_threshold + 0.1\n",
    "]\n",
    "len(hard_positives)"
   ]
  },
  {
   "cell_type": "code",
   "execution_count": 16,
   "id": "d263f241",
   "metadata": {},
   "outputs": [
    {
     "name": "stdout",
     "output_type": "stream",
     "text": [
      "0.5284208\n"
     ]
    },
    {
     "data": {
      "text/html": [
       "<style  type=\"text/css\" >\n",
       "#T_1d583_row0_col0{\n",
       "            background-color:  #f79595;\n",
       "            color:  #000000;\n",
       "        }#T_1d583_row0_col1{\n",
       "            background-color:  #ff0000;\n",
       "            color:  #f1f1f1;\n",
       "        }#T_1d583_row0_col2{\n",
       "            background-color:  #f5bfbf;\n",
       "            color:  #000000;\n",
       "        }#T_1d583_row0_col3{\n",
       "            background-color:  #f3eaea;\n",
       "            color:  #000000;\n",
       "        }#T_1d583_row0_col4{\n",
       "            background-color:  #f3f0f0;\n",
       "            color:  #000000;\n",
       "        }</style><table id=\"T_1d583_\" ><thead>    <tr>        <th class=\"blank level0\" ></th>        <th class=\"col_heading level0 col0\" >micromat</th>        <th class=\"col_heading level0 col1\" >podlock</th>        <th class=\"col_heading level0 col2\" >(</th>        <th class=\"col_heading level0 col3\" >mac</th>        <th class=\"col_heading level0 col4\" >)</th>    </tr></thead><tbody>\n",
       "                <tr>\n",
       "                        <th id=\"T_1d583_level0_row0\" class=\"row_heading level0 row0\" >855</th>\n",
       "                        <td id=\"T_1d583_row0_col0\" class=\"data row0 col0\" >0.215393</td>\n",
       "                        <td id=\"T_1d583_row0_col1\" class=\"data row0 col1\" >0.375849</td>\n",
       "                        <td id=\"T_1d583_row0_col2\" class=\"data row0 col2\" >0.169307</td>\n",
       "                        <td id=\"T_1d583_row0_col3\" class=\"data row0 col3\" >0.123075</td>\n",
       "                        <td id=\"T_1d583_row0_col4\" class=\"data row0 col4\" >0.116376</td>\n",
       "            </tr>\n",
       "    </tbody></table>"
      ],
      "text/plain": [
       "<pandas.io.formats.style.Styler at 0x7f74c1a87be0>"
      ]
     },
     "metadata": {},
     "output_type": "display_data"
    },
    {
     "data": {
      "text/html": [
       "<style  type=\"text/css\" >\n",
       "#T_9ec17_row0_col0{\n",
       "            background-color:  #f97474;\n",
       "            color:  #000000;\n",
       "        }#T_9ec17_row0_col1{\n",
       "            background-color:  #ff0000;\n",
       "            color:  #f1f1f1;\n",
       "        }#T_9ec17_row0_col2{\n",
       "            background-color:  #fa6262;\n",
       "            color:  #000000;\n",
       "        }#T_9ec17_row0_col3{\n",
       "            background-color:  #f6b9b9;\n",
       "            color:  #000000;\n",
       "        }#T_9ec17_row0_col4{\n",
       "            background-color:  #f3f0f0;\n",
       "            color:  #000000;\n",
       "        }</style><table id=\"T_9ec17_\" ><thead>    <tr>        <th class=\"blank level0\" ></th>        <th class=\"col_heading level0 col0\" >micromat</th>        <th class=\"col_heading level0 col1\" >podlock</th>        <th class=\"col_heading level0 col2\" >ipod</th>        <th class=\"col_heading level0 col3\" >utility</th>        <th class=\"col_heading level0 col4\" >software</th>    </tr></thead><tbody>\n",
       "                <tr>\n",
       "                        <th id=\"T_9ec17_level0_row0\" class=\"row_heading level0 row0\" >1552</th>\n",
       "                        <td id=\"T_9ec17_row0_col0\" class=\"data row0 col0\" >0.219180</td>\n",
       "                        <td id=\"T_9ec17_row0_col1\" class=\"data row0 col1\" >0.408113</td>\n",
       "                        <td id=\"T_9ec17_row0_col2\" class=\"data row0 col2\" >0.248585</td>\n",
       "                        <td id=\"T_9ec17_row0_col3\" class=\"data row0 col3\" >0.106758</td>\n",
       "                        <td id=\"T_9ec17_row0_col4\" class=\"data row0 col4\" >0.017365</td>\n",
       "            </tr>\n",
       "    </tbody></table>"
      ],
      "text/plain": [
       "<pandas.io.formats.style.Styler at 0x7f74c179e820>"
      ]
     },
     "metadata": {},
     "output_type": "display_data"
    },
    {
     "name": "stdout",
     "output_type": "stream",
     "text": [
      "0.54449064\n"
     ]
    },
    {
     "data": {
      "text/html": [
       "<style  type=\"text/css\" >\n",
       "#T_2ded1_row0_col0{\n",
       "            background-color:  #f4d4d4;\n",
       "            color:  #000000;\n",
       "        }#T_2ded1_row0_col1{\n",
       "            background-color:  #fa6767;\n",
       "            color:  #000000;\n",
       "        }#T_2ded1_row0_col2{\n",
       "            background-color:  #ff0000;\n",
       "            color:  #f1f1f1;\n",
       "        }#T_2ded1_row0_col3{\n",
       "            background-color:  #fd2828;\n",
       "            color:  #f1f1f1;\n",
       "        }#T_2ded1_row0_col4{\n",
       "            background-color:  #f6abab;\n",
       "            color:  #000000;\n",
       "        }#T_2ded1_row0_col5,#T_2ded1_row0_col6{\n",
       "            background-color:  #f3f0f0;\n",
       "            color:  #000000;\n",
       "        }#T_2ded1_row0_col7{\n",
       "            background-color:  #f3e9e9;\n",
       "            color:  #000000;\n",
       "        }</style><table id=\"T_2ded1_\" ><thead>    <tr>        <th class=\"blank level0\" ></th>        <th class=\"col_heading level0 col0\" >microsoft</th>        <th class=\"col_heading level0 col1\" >licenses</th>        <th class=\"col_heading level0 col2\" >word</th>        <th class=\"col_heading level0 col3\" >olp</th>        <th class=\"col_heading level0 col4\" >c</th>        <th class=\"col_heading level0 col5\" >(</th>        <th class=\"col_heading level0 col6\" >05903871</th>        <th class=\"col_heading level0 col7\" >)</th>    </tr></thead><tbody>\n",
       "                <tr>\n",
       "                        <th id=\"T_2ded1_level0_row0\" class=\"row_heading level0 row0\" >423</th>\n",
       "                        <td id=\"T_2ded1_row0_col0\" class=\"data row0 col0\" >0.068856</td>\n",
       "                        <td id=\"T_2ded1_row0_col1\" class=\"data row0 col1\" >0.176699</td>\n",
       "                        <td id=\"T_2ded1_row0_col2\" class=\"data row0 col2\" >0.277619</td>\n",
       "                        <td id=\"T_2ded1_row0_col3\" class=\"data row0 col3\" >0.237530</td>\n",
       "                        <td id=\"T_2ded1_row0_col4\" class=\"data row0 col4\" >0.109214</td>\n",
       "                        <td id=\"T_2ded1_row0_col5\" class=\"data row0 col5\" >0.041581</td>\n",
       "                        <td id=\"T_2ded1_row0_col6\" class=\"data row0 col6\" >0.040817</td>\n",
       "                        <td id=\"T_2ded1_row0_col7\" class=\"data row0 col7\" >0.047685</td>\n",
       "            </tr>\n",
       "    </tbody></table>"
      ],
      "text/plain": [
       "<pandas.io.formats.style.Styler at 0x7f74c179eaf0>"
      ]
     },
     "metadata": {},
     "output_type": "display_data"
    },
    {
     "data": {
      "text/html": [
       "<style  type=\"text/css\" >\n",
       "#T_a2dbb_row0_col0{\n",
       "            background-color:  #f3e5e5;\n",
       "            color:  #000000;\n",
       "        }#T_a2dbb_row0_col1{\n",
       "            background-color:  #ff0000;\n",
       "            color:  #f1f1f1;\n",
       "        }#T_a2dbb_row0_col2{\n",
       "            background-color:  #fe0d0d;\n",
       "            color:  #f1f1f1;\n",
       "        }#T_a2dbb_row0_col3{\n",
       "            background-color:  #f3f0f0;\n",
       "            color:  #000000;\n",
       "        }#T_a2dbb_row0_col4{\n",
       "            background-color:  #f4cfcf;\n",
       "            color:  #000000;\n",
       "        }#T_a2dbb_row0_col5{\n",
       "            background-color:  #f89393;\n",
       "            color:  #000000;\n",
       "        }#T_a2dbb_row0_col6{\n",
       "            background-color:  #f97474;\n",
       "            color:  #000000;\n",
       "        }</style><table id=\"T_a2dbb_\" ><thead>    <tr>        <th class=\"blank level0\" ></th>        <th class=\"col_heading level0 col0\" >microsoft</th>        <th class=\"col_heading level0 col1\" >059</th>        <th class=\"col_heading level0 col2\" >-</th>        <th class=\"col_heading level0 col3\" >03871</th>        <th class=\"col_heading level0 col4\" >molpc</th>        <th class=\"col_heading level0 col5\" >word</th>        <th class=\"col_heading level0 col6\" >sa</th>    </tr></thead><tbody>\n",
       "                <tr>\n",
       "                        <th id=\"T_a2dbb_level0_row0\" class=\"row_heading level0 row0\" >3727</th>\n",
       "                        <td id=\"T_a2dbb_row0_col0\" class=\"data row0 col0\" >0.102101</td>\n",
       "                        <td id=\"T_a2dbb_row0_col1\" class=\"data row0 col1\" >0.202694</td>\n",
       "                        <td id=\"T_a2dbb_row0_col2\" class=\"data row0 col2\" >0.196563</td>\n",
       "                        <td id=\"T_a2dbb_row0_col3\" class=\"data row0 col3\" >0.097102</td>\n",
       "                        <td id=\"T_a2dbb_row0_col4\" class=\"data row0 col4\" >0.111707</td>\n",
       "                        <td id=\"T_a2dbb_row0_col5\" class=\"data row0 col5\" >0.138139</td>\n",
       "                        <td id=\"T_a2dbb_row0_col6\" class=\"data row0 col6\" >0.151694</td>\n",
       "            </tr>\n",
       "    </tbody></table>"
      ],
      "text/plain": [
       "<pandas.io.formats.style.Styler at 0x7f74c1718f10>"
      ]
     },
     "metadata": {},
     "output_type": "display_data"
    },
    {
     "name": "stdout",
     "output_type": "stream",
     "text": [
      "0.55174214\n"
     ]
    },
    {
     "data": {
      "text/html": [
       "<style  type=\"text/css\" >\n",
       "#T_67867_row0_col0{\n",
       "            background-color:  #f3f0f0;\n",
       "            color:  #000000;\n",
       "        }</style><table id=\"T_67867_\" ><thead>    <tr>        <th class=\"blank level0\" ></th>        <th class=\"col_heading level0 col0\" >hijack2</th>    </tr></thead><tbody>\n",
       "                <tr>\n",
       "                        <th id=\"T_67867_level0_row0\" class=\"row_heading level0 row0\" >1260</th>\n",
       "                        <td id=\"T_67867_row0_col0\" class=\"data row0 col0\" >1.000000</td>\n",
       "            </tr>\n",
       "    </tbody></table>"
      ],
      "text/plain": [
       "<pandas.io.formats.style.Styler at 0x7f74c171ee80>"
      ]
     },
     "metadata": {},
     "output_type": "display_data"
    },
    {
     "data": {
      "text/html": [
       "<style  type=\"text/css\" >\n",
       "#T_32434_row0_col0{\n",
       "            background-color:  #f88181;\n",
       "            color:  #000000;\n",
       "        }#T_32434_row0_col1{\n",
       "            background-color:  #f4d2d2;\n",
       "            color:  #000000;\n",
       "        }#T_32434_row0_col2{\n",
       "            background-color:  #f3f0f0;\n",
       "            color:  #000000;\n",
       "        }#T_32434_row0_col3{\n",
       "            background-color:  #f4d8d8;\n",
       "            color:  #000000;\n",
       "        }#T_32434_row0_col4{\n",
       "            background-color:  #fe1a1a;\n",
       "            color:  #f1f1f1;\n",
       "        }#T_32434_row0_col5{\n",
       "            background-color:  #ff0000;\n",
       "            color:  #f1f1f1;\n",
       "        }#T_32434_row0_col6{\n",
       "            background-color:  #fd2e2e;\n",
       "            color:  #f1f1f1;\n",
       "        }#T_32434_row0_col7,#T_32434_row0_col13{\n",
       "            background-color:  #f88a8a;\n",
       "            color:  #000000;\n",
       "        }#T_32434_row0_col8{\n",
       "            background-color:  #f7a0a0;\n",
       "            color:  #000000;\n",
       "        }#T_32434_row0_col9,#T_32434_row0_col17{\n",
       "            background-color:  #f6b6b6;\n",
       "            color:  #000000;\n",
       "        }#T_32434_row0_col10{\n",
       "            background-color:  #f6aaaa;\n",
       "            color:  #000000;\n",
       "        }#T_32434_row0_col11{\n",
       "            background-color:  #f6b1b1;\n",
       "            color:  #000000;\n",
       "        }#T_32434_row0_col12,#T_32434_row0_col15{\n",
       "            background-color:  #f6a9a9;\n",
       "            color:  #000000;\n",
       "        }#T_32434_row0_col14{\n",
       "            background-color:  #f79999;\n",
       "            color:  #000000;\n",
       "        }#T_32434_row0_col16{\n",
       "            background-color:  #f5bfbf;\n",
       "            color:  #000000;\n",
       "        }</style><table id=\"T_32434_\" ><thead>    <tr>        <th class=\"blank level0\" ></th>        <th class=\"col_heading level0 col0\" >me</th>        <th class=\"col_heading level0 col1\" >too</th>        <th class=\"col_heading level0 col2\" >software</th>        <th class=\"col_heading level0 col3\" >800801</th>        <th class=\"col_heading level0 col4\" >-</th>        <th class=\"col_heading level0 col5\" >hijack2</th>        <th class=\"col_heading level0 col6\" >win</th>        <th class=\"col_heading level0 col7\" >98</th>        <th class=\"col_heading level0 col8\" >nt</th>        <th class=\"col_heading level0 col9\" >2000</th>        <th class=\"col_heading level0 col10\" >xp</th>        <th class=\"col_heading level0 col11\" >/</th>        <th class=\"col_heading level0 col12\" >mac</th>        <th class=\"col_heading level0 col13\" >10</th>        <th class=\"col_heading level0 col14\" >.</th>        <th class=\"col_heading level0 col15\" >0</th>        <th class=\"col_heading level0 col16\" >or</th>        <th class=\"col_heading level0 col17\" >higher</th>    </tr></thead><tbody>\n",
       "                <tr>\n",
       "                        <th id=\"T_32434_level0_row0\" class=\"row_heading level0 row0\" >2405</th>\n",
       "                        <td id=\"T_32434_row0_col0\" class=\"data row0 col0\" >0.060990</td>\n",
       "                        <td id=\"T_32434_row0_col1\" class=\"data row0 col1\" >0.021998</td>\n",
       "                        <td id=\"T_32434_row0_col2\" class=\"data row0 col2\" >0.006930</td>\n",
       "                        <td id=\"T_32434_row0_col3\" class=\"data row0 col3\" >0.018662</td>\n",
       "                        <td id=\"T_32434_row0_col4\" class=\"data row0 col4\" >0.110718</td>\n",
       "                        <td id=\"T_32434_row0_col5\" class=\"data row0 col5\" >0.123963</td>\n",
       "                        <td id=\"T_32434_row0_col6\" class=\"data row0 col6\" >0.101209</td>\n",
       "                        <td id=\"T_32434_row0_col7\" class=\"data row0 col7\" >0.056377</td>\n",
       "                        <td id=\"T_32434_row0_col8\" class=\"data row0 col8\" >0.046122</td>\n",
       "                        <td id=\"T_32434_row0_col9\" class=\"data row0 col9\" >0.035507</td>\n",
       "                        <td id=\"T_32434_row0_col10\" class=\"data row0 col10\" >0.040820</td>\n",
       "                        <td id=\"T_32434_row0_col11\" class=\"data row0 col11\" >0.037705</td>\n",
       "                        <td id=\"T_32434_row0_col12\" class=\"data row0 col12\" >0.041390</td>\n",
       "                        <td id=\"T_32434_row0_col13\" class=\"data row0 col13\" >0.056448</td>\n",
       "                        <td id=\"T_32434_row0_col14\" class=\"data row0 col14\" >0.049012</td>\n",
       "                        <td id=\"T_32434_row0_col15\" class=\"data row0 col15\" >0.041380</td>\n",
       "                        <td id=\"T_32434_row0_col16\" class=\"data row0 col16\" >0.030806</td>\n",
       "                        <td id=\"T_32434_row0_col17\" class=\"data row0 col17\" >0.035587</td>\n",
       "            </tr>\n",
       "    </tbody></table>"
      ],
      "text/plain": [
       "<pandas.io.formats.style.Styler at 0x7f74c171efa0>"
      ]
     },
     "metadata": {},
     "output_type": "display_data"
    },
    {
     "name": "stdout",
     "output_type": "stream",
     "text": [
      "0.54825926\n"
     ]
    },
    {
     "data": {
      "text/html": [
       "<style  type=\"text/css\" >\n",
       "#T_1b488_row0_col0{\n",
       "            background-color:  #f3f0f0;\n",
       "            color:  #000000;\n",
       "        }#T_1b488_row0_col1{\n",
       "            background-color:  #f3e9e9;\n",
       "            color:  #000000;\n",
       "        }#T_1b488_row0_col2{\n",
       "            background-color:  #ff0000;\n",
       "            color:  #f1f1f1;\n",
       "        }#T_1b488_row0_col3{\n",
       "            background-color:  #fd2424;\n",
       "            color:  #f1f1f1;\n",
       "        }#T_1b488_row0_col4{\n",
       "            background-color:  #fa6767;\n",
       "            color:  #000000;\n",
       "        }</style><table id=\"T_1b488_\" ><thead>    <tr>        <th class=\"blank level0\" ></th>        <th class=\"col_heading level0 col0\" >band</th>        <th class=\"col_heading level0 col1\" >in</th>        <th class=\"col_heading level0 col2\" >a</th>        <th class=\"col_heading level0 col3\" >box</th>        <th class=\"col_heading level0 col4\" >2007</th>    </tr></thead><tbody>\n",
       "                <tr>\n",
       "                        <th id=\"T_1b488_level0_row0\" class=\"row_heading level0 row0\" >1178</th>\n",
       "                        <td id=\"T_1b488_row0_col0\" class=\"data row0 col0\" >0.149640</td>\n",
       "                        <td id=\"T_1b488_row0_col1\" class=\"data row0 col1\" >0.152526</td>\n",
       "                        <td id=\"T_1b488_row0_col2\" class=\"data row0 col2\" >0.252355</td>\n",
       "                        <td id=\"T_1b488_row0_col3\" class=\"data row0 col3\" >0.236936</td>\n",
       "                        <td id=\"T_1b488_row0_col4\" class=\"data row0 col4\" >0.208543</td>\n",
       "            </tr>\n",
       "    </tbody></table>"
      ],
      "text/plain": [
       "<pandas.io.formats.style.Styler at 0x7f74c1738520>"
      ]
     },
     "metadata": {},
     "output_type": "display_data"
    },
    {
     "data": {
      "text/html": [
       "<style  type=\"text/css\" >\n",
       "#T_cf747_row0_col0{\n",
       "            background-color:  #ff0000;\n",
       "            color:  #f1f1f1;\n",
       "        }#T_cf747_row0_col1{\n",
       "            background-color:  #f79897;\n",
       "            color:  #000000;\n",
       "        }#T_cf747_row0_col2{\n",
       "            background-color:  #fc3a3a;\n",
       "            color:  #f1f1f1;\n",
       "        }#T_cf747_row0_col3{\n",
       "            background-color:  #fa6262;\n",
       "            color:  #000000;\n",
       "        }#T_cf747_row0_col4{\n",
       "            background-color:  #fa6363;\n",
       "            color:  #000000;\n",
       "        }#T_cf747_row0_col5{\n",
       "            background-color:  #f6bbbb;\n",
       "            color:  #000000;\n",
       "        }#T_cf747_row0_col6{\n",
       "            background-color:  #f3f0f0;\n",
       "            color:  #000000;\n",
       "        }#T_cf747_row0_col7{\n",
       "            background-color:  #f4dede;\n",
       "            color:  #000000;\n",
       "        }#T_cf747_row0_col8{\n",
       "            background-color:  #f6baba;\n",
       "            color:  #000000;\n",
       "        }#T_cf747_row0_col9{\n",
       "            background-color:  #f4dcdc;\n",
       "            color:  #000000;\n",
       "        }</style><table id=\"T_cf747_\" ><thead>    <tr>        <th class=\"blank level0\" ></th>        <th class=\"col_heading level0 col0\" >pg</th>        <th class=\"col_heading level0 col1\" >music</th>        <th class=\"col_heading level0 col2\" >band</th>        <th class=\"col_heading level0 col3\" >in</th>        <th class=\"col_heading level0 col4\" >a</th>        <th class=\"col_heading level0 col5\" >box</th>        <th class=\"col_heading level0 col6\" >software</th>        <th class=\"col_heading level0 col7\" >for</th>        <th class=\"col_heading level0 col8\" >windows</th>        <th class=\"col_heading level0 col9\" >production</th>    </tr></thead><tbody>\n",
       "                <tr>\n",
       "                        <th id=\"T_cf747_level0_row0\" class=\"row_heading level0 row0\" >3513</th>\n",
       "                        <td id=\"T_cf747_row0_col0\" class=\"data row0 col0\" >0.177070</td>\n",
       "                        <td id=\"T_cf747_row0_col1\" class=\"data row0 col1\" >0.077173</td>\n",
       "                        <td id=\"T_cf747_row0_col2\" class=\"data row0 col2\" >0.138193</td>\n",
       "                        <td id=\"T_cf747_row0_col3\" class=\"data row0 col3\" >0.112610</td>\n",
       "                        <td id=\"T_cf747_row0_col4\" class=\"data row0 col4\" >0.112008</td>\n",
       "                        <td id=\"T_cf747_row0_col5\" class=\"data row0 col5\" >0.053614</td>\n",
       "                        <td id=\"T_cf747_row0_col6\" class=\"data row0 col6\" >0.018666</td>\n",
       "                        <td id=\"T_cf747_row0_col7\" class=\"data row0 col7\" >0.030654</td>\n",
       "                        <td id=\"T_cf747_row0_col8\" class=\"data row0 col8\" >0.054105</td>\n",
       "                        <td id=\"T_cf747_row0_col9\" class=\"data row0 col9\" >0.031800</td>\n",
       "            </tr>\n",
       "    </tbody></table>"
      ],
      "text/plain": [
       "<pandas.io.formats.style.Styler at 0x7f74c179e820>"
      ]
     },
     "metadata": {},
     "output_type": "display_data"
    },
    {
     "name": "stdout",
     "output_type": "stream",
     "text": [
      "0.5696411\n"
     ]
    },
    {
     "data": {
      "text/html": [
       "<style  type=\"text/css\" >\n",
       "#T_35a22_row0_col0{\n",
       "            background-color:  #f7a6a6;\n",
       "            color:  #000000;\n",
       "        }#T_35a22_row0_col1{\n",
       "            background-color:  #f4d3d3;\n",
       "            color:  #000000;\n",
       "        }#T_35a22_row0_col2{\n",
       "            background-color:  #f4d2d2;\n",
       "            color:  #000000;\n",
       "        }#T_35a22_row0_col3{\n",
       "            background-color:  #f4d4d4;\n",
       "            color:  #000000;\n",
       "        }#T_35a22_row0_col4{\n",
       "            background-color:  #f6aaaa;\n",
       "            color:  #000000;\n",
       "        }#T_35a22_row0_col5{\n",
       "            background-color:  #f6baba;\n",
       "            color:  #000000;\n",
       "        }#T_35a22_row0_col6{\n",
       "            background-color:  #ff0000;\n",
       "            color:  #f1f1f1;\n",
       "        }#T_35a22_row0_col7{\n",
       "            background-color:  #f3e5e5;\n",
       "            color:  #000000;\n",
       "        }#T_35a22_row0_col8{\n",
       "            background-color:  #f3f0f0;\n",
       "            color:  #000000;\n",
       "        }#T_35a22_row0_col9{\n",
       "            background-color:  #f3e9e9;\n",
       "            color:  #000000;\n",
       "        }</style><table id=\"T_35a22_\" ><thead>    <tr>        <th class=\"blank level0\" ></th>        <th class=\"col_heading level0 col0\" >zero</th>        <th class=\"col_heading level0 col1\" >-</th>        <th class=\"col_heading level0 col2\" >g</th>        <th class=\"col_heading level0 col3\" >pro</th>        <th class=\"col_heading level0 col4\" >pack</th>        <th class=\"col_heading level0 col5\" >for</th>        <th class=\"col_heading level0 col6\" >garageband</th>        <th class=\"col_heading level0 col7\" >(</th>        <th class=\"col_heading level0 col8\" >appleloops</th>        <th class=\"col_heading level0 col9\" >)</th>    </tr></thead><tbody>\n",
       "                <tr>\n",
       "                        <th id=\"T_35a22_level0_row0\" class=\"row_heading level0 row0\" >797</th>\n",
       "                        <td id=\"T_35a22_row0_col0\" class=\"data row0 col0\" >0.121497</td>\n",
       "                        <td id=\"T_35a22_row0_col1\" class=\"data row0 col1\" >0.073245</td>\n",
       "                        <td id=\"T_35a22_row0_col2\" class=\"data row0 col2\" >0.074147</td>\n",
       "                        <td id=\"T_35a22_row0_col3\" class=\"data row0 col3\" >0.071646</td>\n",
       "                        <td id=\"T_35a22_row0_col4\" class=\"data row0 col4\" >0.116185</td>\n",
       "                        <td id=\"T_35a22_row0_col5\" class=\"data row0 col5\" >0.099274</td>\n",
       "                        <td id=\"T_35a22_row0_col6\" class=\"data row0 col6\" >0.300285</td>\n",
       "                        <td id=\"T_35a22_row0_col7\" class=\"data row0 col7\" >0.053835</td>\n",
       "                        <td id=\"T_35a22_row0_col8\" class=\"data row0 col8\" >0.041032</td>\n",
       "                        <td id=\"T_35a22_row0_col9\" class=\"data row0 col9\" >0.048855</td>\n",
       "            </tr>\n",
       "    </tbody></table>"
      ],
      "text/plain": [
       "<pandas.io.formats.style.Styler at 0x7f74c171e8b0>"
      ]
     },
     "metadata": {},
     "output_type": "display_data"
    },
    {
     "data": {
      "text/html": [
       "<style  type=\"text/css\" >\n",
       "#T_c5321_row0_col0{\n",
       "            background-color:  #f7a1a1;\n",
       "            color:  #000000;\n",
       "        }#T_c5321_row0_col1{\n",
       "            background-color:  #f97f7f;\n",
       "            color:  #000000;\n",
       "        }#T_c5321_row0_col2{\n",
       "            background-color:  #f96f6f;\n",
       "            color:  #000000;\n",
       "        }#T_c5321_row0_col3{\n",
       "            background-color:  #f88686;\n",
       "            color:  #000000;\n",
       "        }#T_c5321_row0_col4{\n",
       "            background-color:  #ff0000;\n",
       "            color:  #f1f1f1;\n",
       "        }#T_c5321_row0_col5{\n",
       "            background-color:  #f4d8d7;\n",
       "            color:  #000000;\n",
       "        }#T_c5321_row0_col6{\n",
       "            background-color:  #f3ebeb;\n",
       "            color:  #000000;\n",
       "        }#T_c5321_row0_col7{\n",
       "            background-color:  #f3f0f0;\n",
       "            color:  #000000;\n",
       "        }</style><table id=\"T_c5321_\" ><thead>    <tr>        <th class=\"blank level0\" ></th>        <th class=\"col_heading level0 col0\" >east</th>        <th class=\"col_heading level0 col1\" >west</th>        <th class=\"col_heading level0 col2\" >propack</th>        <th class=\"col_heading level0 col3\" >for</th>        <th class=\"col_heading level0 col4\" >garageband</th>        <th class=\"col_heading level0 col5\" >av</th>        <th class=\"col_heading level0 col6\" >production</th>        <th class=\"col_heading level0 col7\" >software</th>    </tr></thead><tbody>\n",
       "                <tr>\n",
       "                        <th id=\"T_c5321_level0_row0\" class=\"row_heading level0 row0\" >3960</th>\n",
       "                        <td id=\"T_c5321_row0_col0\" class=\"data row0 col0\" >0.113621</td>\n",
       "                        <td id=\"T_c5321_row0_col1\" class=\"data row0 col1\" >0.160905</td>\n",
       "                        <td id=\"T_c5321_row0_col2\" class=\"data row0 col2\" >0.182362</td>\n",
       "                        <td id=\"T_c5321_row0_col3\" class=\"data row0 col3\" >0.151915</td>\n",
       "                        <td id=\"T_c5321_row0_col4\" class=\"data row0 col4\" >0.335159</td>\n",
       "                        <td id=\"T_c5321_row0_col5\" class=\"data row0 col5\" >0.038616</td>\n",
       "                        <td id=\"T_c5321_row0_col6\" class=\"data row0 col6\" >0.012351</td>\n",
       "                        <td id=\"T_c5321_row0_col7\" class=\"data row0 col7\" >0.005070</td>\n",
       "            </tr>\n",
       "    </tbody></table>"
      ],
      "text/plain": [
       "<pandas.io.formats.style.Styler at 0x7f74c1738c70>"
      ]
     },
     "metadata": {},
     "output_type": "display_data"
    }
   ],
   "source": [
    "import seaborn as sns\n",
    "import pandas as pd\n",
    "from entity_embed import default_tokenizer\n",
    "\n",
    "def display_attention(id_, field):\n",
    "    tokens = default_tokenizer(test_record_dict[id_][field])\n",
    "    attn_scores = test_attn_scores_dict[id_][:len(tokens)]\n",
    "    attn_df = pd.DataFrame(dict(zip(tokens, attn_scores)), index=[id_])\n",
    "    cm = sns.light_palette(\"red\", as_cmap=True)\n",
    "    display(attn_df.style.background_gradient(cmap=cm, axis=1))\n",
    "\n",
    "def display_pair_attention(pair, field):\n",
    "    left_id, right_id = pair\n",
    "    display_attention(left_id, field)\n",
    "    display_attention(right_id, field)\n",
    "\n",
    "for (id_left, id_right) in hard_positives[:5]:\n",
    "    print(np.dot(test_left_vector_dict[id_left], test_right_vector_dict[id_right]))\n",
    "    display_pair_attention((id_left, id_right), 'title')"
   ]
  },
  {
   "cell_type": "code",
   "execution_count": 17,
   "id": "c42ef290",
   "metadata": {},
   "outputs": [
    {
     "data": {
      "text/plain": [
       "18"
      ]
     },
     "execution_count": 17,
     "metadata": {},
     "output_type": "execute_result"
    }
   ],
   "source": [
    "false_negatives = list(test_pos_pair_set - test_found_pair_set)\n",
    "len(false_negatives)"
   ]
  },
  {
   "cell_type": "code",
   "execution_count": 18,
   "id": "ad6cd20d",
   "metadata": {},
   "outputs": [
    {
     "name": "stdout",
     "output_type": "stream",
     "text": [
      "0.4690476\n"
     ]
    },
    {
     "data": {
      "text/html": [
       "<style  type=\"text/css\" >\n",
       "#T_df107_row0_col0,#T_df107_row0_col5{\n",
       "            background-color:  #f88383;\n",
       "            color:  #000000;\n",
       "        }#T_df107_row0_col1{\n",
       "            background-color:  #fe1414;\n",
       "            color:  #f1f1f1;\n",
       "        }#T_df107_row0_col2{\n",
       "            background-color:  #fd2323;\n",
       "            color:  #f1f1f1;\n",
       "        }#T_df107_row0_col3{\n",
       "            background-color:  #ff0000;\n",
       "            color:  #f1f1f1;\n",
       "        }#T_df107_row0_col4{\n",
       "            background-color:  #f5cece;\n",
       "            color:  #000000;\n",
       "        }#T_df107_row0_col6{\n",
       "            background-color:  #f6acac;\n",
       "            color:  #000000;\n",
       "        }#T_df107_row0_col7{\n",
       "            background-color:  #f6b5b5;\n",
       "            color:  #000000;\n",
       "        }#T_df107_row0_col8{\n",
       "            background-color:  #f3e4e4;\n",
       "            color:  #000000;\n",
       "        }#T_df107_row0_col9{\n",
       "            background-color:  #f3f0f0;\n",
       "            color:  #000000;\n",
       "        }#T_df107_row0_col10{\n",
       "            background-color:  #f4d5d5;\n",
       "            color:  #000000;\n",
       "        }</style><table id=\"T_df107_\" ><thead>    <tr>        <th class=\"blank level0\" ></th>        <th class=\"col_heading level0 col0\" >foreign</th>        <th class=\"col_heading level0 col1\" >policy</th>        <th class=\"col_heading level0 col2\" >&</th>        <th class=\"col_heading level0 col3\" >reform</th>        <th class=\"col_heading level0 col4\" >(</th>        <th class=\"col_heading level0 col5\" >win</th>        <th class=\"col_heading level0 col6\" >/</th>        <th class=\"col_heading level0 col7\" >mac</th>        <th class=\"col_heading level0 col8\" >)</th>        <th class=\"col_heading level0 col9\" >jewel</th>        <th class=\"col_heading level0 col10\" >case</th>    </tr></thead><tbody>\n",
       "                <tr>\n",
       "                        <th id=\"T_df107_level0_row0\" class=\"row_heading level0 row0\" >112</th>\n",
       "                        <td id=\"T_df107_row0_col0\" class=\"data row0 col0\" >0.081279</td>\n",
       "                        <td id=\"T_df107_row0_col1\" class=\"data row0 col1\" >0.140057</td>\n",
       "                        <td id=\"T_df107_row0_col2\" class=\"data row0 col2\" >0.131770</td>\n",
       "                        <td id=\"T_df107_row0_col3\" class=\"data row0 col3\" >0.150604</td>\n",
       "                        <td id=\"T_df107_row0_col4\" class=\"data row0 col4\" >0.041769</td>\n",
       "                        <td id=\"T_df107_row0_col5\" class=\"data row0 col5\" >0.081060</td>\n",
       "                        <td id=\"T_df107_row0_col6\" class=\"data row0 col6\" >0.059594</td>\n",
       "                        <td id=\"T_df107_row0_col7\" class=\"data row0 col7\" >0.054723</td>\n",
       "                        <td id=\"T_df107_row0_col8\" class=\"data row0 col8\" >0.030318</td>\n",
       "                        <td id=\"T_df107_row0_col9\" class=\"data row0 col9\" >0.023398</td>\n",
       "                        <td id=\"T_df107_row0_col10\" class=\"data row0 col10\" >0.038201</td>\n",
       "            </tr>\n",
       "    </tbody></table>"
      ],
      "text/plain": [
       "<pandas.io.formats.style.Styler at 0x7f7512933e50>"
      ]
     },
     "metadata": {},
     "output_type": "display_data"
    },
    {
     "data": {
      "text/html": [
       "<style  type=\"text/css\" >\n",
       "#T_96a92_row0_col0{\n",
       "            background-color:  #f3eded;\n",
       "            color:  #000000;\n",
       "        }#T_96a92_row0_col1{\n",
       "            background-color:  #f4d3d3;\n",
       "            color:  #000000;\n",
       "        }#T_96a92_row0_col2{\n",
       "            background-color:  #f5c4c4;\n",
       "            color:  #000000;\n",
       "        }#T_96a92_row0_col3{\n",
       "            background-color:  #f6bbbb;\n",
       "            color:  #000000;\n",
       "        }#T_96a92_row0_col4{\n",
       "            background-color:  #fa6a6a;\n",
       "            color:  #000000;\n",
       "        }#T_96a92_row0_col5{\n",
       "            background-color:  #fc3939;\n",
       "            color:  #f1f1f1;\n",
       "        }#T_96a92_row0_col6,#T_96a92_row0_col8{\n",
       "            background-color:  #fa6767;\n",
       "            color:  #000000;\n",
       "        }#T_96a92_row0_col7{\n",
       "            background-color:  #ff0000;\n",
       "            color:  #f1f1f1;\n",
       "        }#T_96a92_row0_col9{\n",
       "            background-color:  #f4dada;\n",
       "            color:  #000000;\n",
       "        }#T_96a92_row0_col10{\n",
       "            background-color:  #f4d7d7;\n",
       "            color:  #000000;\n",
       "        }#T_96a92_row0_col11{\n",
       "            background-color:  #f3eeee;\n",
       "            color:  #000000;\n",
       "        }#T_96a92_row0_col12{\n",
       "            background-color:  #f3f0f0;\n",
       "            color:  #000000;\n",
       "        }</style><table id=\"T_96a92_\" ><thead>    <tr>        <th class=\"blank level0\" ></th>        <th class=\"col_heading level0 col0\" >fogware</th>        <th class=\"col_heading level0 col1\" >publishing</th>        <th class=\"col_heading level0 col2\" >-</th>        <th class=\"col_heading level0 col3\" >10356</th>        <th class=\"col_heading level0 col4\" >high</th>        <th class=\"col_heading level0 col5\" >school</th>        <th class=\"col_heading level0 col6\" >us</th>        <th class=\"col_heading level0 col7\" >history</th>        <th class=\"col_heading level0 col8\" >2</th>        <th class=\"col_heading level0 col9\" >foreign</th>        <th class=\"col_heading level0 col10\" >policy</th>        <th class=\"col_heading level0 col11\" >&</th>        <th class=\"col_heading level0 col12\" >reform</th>    </tr></thead><tbody>\n",
       "                <tr>\n",
       "                        <th id=\"T_96a92_level0_row0\" class=\"row_heading level0 row0\" >3052</th>\n",
       "                        <td id=\"T_96a92_row0_col0\" class=\"data row0 col0\" >0.022923</td>\n",
       "                        <td id=\"T_96a92_row0_col1\" class=\"data row0 col1\" >0.038884</td>\n",
       "                        <td id=\"T_96a92_row0_col2\" class=\"data row0 col2\" >0.047699</td>\n",
       "                        <td id=\"T_96a92_row0_col3\" class=\"data row0 col3\" >0.052933</td>\n",
       "                        <td id=\"T_96a92_row0_col4\" class=\"data row0 col4\" >0.102283</td>\n",
       "                        <td id=\"T_96a92_row0_col5\" class=\"data row0 col5\" >0.131801</td>\n",
       "                        <td id=\"T_96a92_row0_col6\" class=\"data row0 col6\" >0.104791</td>\n",
       "                        <td id=\"T_96a92_row0_col7\" class=\"data row0 col7\" >0.167174</td>\n",
       "                        <td id=\"T_96a92_row0_col8\" class=\"data row0 col8\" >0.104292</td>\n",
       "                        <td id=\"T_96a92_row0_col9\" class=\"data row0 col9\" >0.034214</td>\n",
       "                        <td id=\"T_96a92_row0_col10\" class=\"data row0 col10\" >0.036190</td>\n",
       "                        <td id=\"T_96a92_row0_col11\" class=\"data row0 col11\" >0.022232</td>\n",
       "                        <td id=\"T_96a92_row0_col12\" class=\"data row0 col12\" >0.020690</td>\n",
       "            </tr>\n",
       "    </tbody></table>"
      ],
      "text/plain": [
       "<pandas.io.formats.style.Styler at 0x7f755821e6a0>"
      ]
     },
     "metadata": {},
     "output_type": "display_data"
    },
    {
     "name": "stdout",
     "output_type": "stream",
     "text": [
      "0.4419197\n"
     ]
    },
    {
     "data": {
      "text/html": [
       "<style  type=\"text/css\" >\n",
       "#T_bd5fc_row0_col0{\n",
       "            background-color:  #f79595;\n",
       "            color:  #000000;\n",
       "        }#T_bd5fc_row0_col1{\n",
       "            background-color:  #f79b9b;\n",
       "            color:  #000000;\n",
       "        }#T_bd5fc_row0_col2{\n",
       "            background-color:  #ff0000;\n",
       "            color:  #f1f1f1;\n",
       "        }#T_bd5fc_row0_col3{\n",
       "            background-color:  #f6bbbb;\n",
       "            color:  #000000;\n",
       "        }#T_bd5fc_row0_col4{\n",
       "            background-color:  #f3f0f0;\n",
       "            color:  #000000;\n",
       "        }#T_bd5fc_row0_col5{\n",
       "            background-color:  #f3ecec;\n",
       "            color:  #000000;\n",
       "        }</style><table id=\"T_bd5fc_\" ><thead>    <tr>        <th class=\"blank level0\" ></th>        <th class=\"col_heading level0 col0\" >microspot</th>        <th class=\"col_heading level0 col1\" >macdraft</th>        <th class=\"col_heading level0 col2\" >pe</th>        <th class=\"col_heading level0 col3\" >(</th>        <th class=\"col_heading level0 col4\" >mac</th>        <th class=\"col_heading level0 col5\" >)</th>    </tr></thead><tbody>\n",
       "                <tr>\n",
       "                        <th id=\"T_bd5fc_level0_row0\" class=\"row_heading level0 row0\" >644</th>\n",
       "                        <td id=\"T_bd5fc_row0_col0\" class=\"data row0 col0\" >0.174039</td>\n",
       "                        <td id=\"T_bd5fc_row0_col1\" class=\"data row0 col1\" >0.170291</td>\n",
       "                        <td id=\"T_bd5fc_row0_col2\" class=\"data row0 col2\" >0.261966</td>\n",
       "                        <td id=\"T_bd5fc_row0_col3\" class=\"data row0 col3\" >0.151162</td>\n",
       "                        <td id=\"T_bd5fc_row0_col4\" class=\"data row0 col4\" >0.119979</td>\n",
       "                        <td id=\"T_bd5fc_row0_col5\" class=\"data row0 col5\" >0.122563</td>\n",
       "            </tr>\n",
       "    </tbody></table>"
      ],
      "text/plain": [
       "<pandas.io.formats.style.Styler at 0x7f7535b53460>"
      ]
     },
     "metadata": {},
     "output_type": "display_data"
    },
    {
     "data": {
      "text/html": [
       "<style  type=\"text/css\" >\n",
       "#T_77e3d_row0_col0{\n",
       "            background-color:  #f4dcdc;\n",
       "            color:  #000000;\n",
       "        }#T_77e3d_row0_col1{\n",
       "            background-color:  #f3eaea;\n",
       "            color:  #000000;\n",
       "        }#T_77e3d_row0_col2{\n",
       "            background-color:  #f89090;\n",
       "            color:  #000000;\n",
       "        }#T_77e3d_row0_col3{\n",
       "            background-color:  #ff0000;\n",
       "            color:  #f1f1f1;\n",
       "        }#T_77e3d_row0_col4{\n",
       "            background-color:  #f3f0f0;\n",
       "            color:  #000000;\n",
       "        }</style><table id=\"T_77e3d_\" ><thead>    <tr>        <th class=\"blank level0\" ></th>        <th class=\"col_heading level0 col0\" >microspot</th>        <th class=\"col_heading level0 col1\" >macdraft</th>        <th class=\"col_heading level0 col2\" >pe</th>        <th class=\"col_heading level0 col3\" >personal</th>        <th class=\"col_heading level0 col4\" >edition</th>    </tr></thead><tbody>\n",
       "                <tr>\n",
       "                        <th id=\"T_77e3d_level0_row0\" class=\"row_heading level0 row0\" >1693</th>\n",
       "                        <td id=\"T_77e3d_row0_col0\" class=\"data row0 col0\" >0.146526</td>\n",
       "                        <td id=\"T_77e3d_row0_col1\" class=\"data row0 col1\" >0.132140</td>\n",
       "                        <td id=\"T_77e3d_row0_col2\" class=\"data row0 col2\" >0.223883</td>\n",
       "                        <td id=\"T_77e3d_row0_col3\" class=\"data row0 col3\" >0.371348</td>\n",
       "                        <td id=\"T_77e3d_row0_col4\" class=\"data row0 col4\" >0.126103</td>\n",
       "            </tr>\n",
       "    </tbody></table>"
      ],
      "text/plain": [
       "<pandas.io.formats.style.Styler at 0x7f74c179e9d0>"
      ]
     },
     "metadata": {},
     "output_type": "display_data"
    },
    {
     "name": "stdout",
     "output_type": "stream",
     "text": [
      "0.45072076\n"
     ]
    },
    {
     "data": {
      "text/html": [
       "<style  type=\"text/css\" >\n",
       "#T_652c9_row0_col0{\n",
       "            background-color:  #ff0808;\n",
       "            color:  #f1f1f1;\n",
       "        }#T_652c9_row0_col1{\n",
       "            background-color:  #fa6565;\n",
       "            color:  #000000;\n",
       "        }#T_652c9_row0_col2{\n",
       "            background-color:  #ff0000;\n",
       "            color:  #f1f1f1;\n",
       "        }#T_652c9_row0_col3{\n",
       "            background-color:  #fd2e2e;\n",
       "            color:  #f1f1f1;\n",
       "        }#T_652c9_row0_col4{\n",
       "            background-color:  #fe1414;\n",
       "            color:  #f1f1f1;\n",
       "        }#T_652c9_row0_col5{\n",
       "            background-color:  #f88b8b;\n",
       "            color:  #000000;\n",
       "        }#T_652c9_row0_col6{\n",
       "            background-color:  #f6bbbb;\n",
       "            color:  #000000;\n",
       "        }#T_652c9_row0_col7{\n",
       "            background-color:  #f3f0f0;\n",
       "            color:  #000000;\n",
       "        }</style><table id=\"T_652c9_\" ><thead>    <tr>        <th class=\"blank level0\" ></th>        <th class=\"col_heading level0 col0\" >clifford</th>        <th class=\"col_heading level0 col1\" >the</th>        <th class=\"col_heading level0 col2\" >big</th>        <th class=\"col_heading level0 col3\" >red</th>        <th class=\"col_heading level0 col4\" >dog</th>        <th class=\"col_heading level0 col5\" >-</th>        <th class=\"col_heading level0 col6\" >thinking</th>        <th class=\"col_heading level0 col7\" >adventures</th>    </tr></thead><tbody>\n",
       "                <tr>\n",
       "                        <th id=\"T_652c9_level0_row0\" class=\"row_heading level0 row0\" >50</th>\n",
       "                        <td id=\"T_652c9_row0_col0\" class=\"data row0 col0\" >0.170498</td>\n",
       "                        <td id=\"T_652c9_row0_col1\" class=\"data row0 col1\" >0.120651</td>\n",
       "                        <td id=\"T_652c9_row0_col2\" class=\"data row0 col2\" >0.174603</td>\n",
       "                        <td id=\"T_652c9_row0_col3\" class=\"data row0 col3\" >0.149637</td>\n",
       "                        <td id=\"T_652c9_row0_col4\" class=\"data row0 col4\" >0.163620</td>\n",
       "                        <td id=\"T_652c9_row0_col5\" class=\"data row0 col5\" >0.100046</td>\n",
       "                        <td id=\"T_652c9_row0_col6\" class=\"data row0 col6\" >0.074657</td>\n",
       "                        <td id=\"T_652c9_row0_col7\" class=\"data row0 col7\" >0.046289</td>\n",
       "            </tr>\n",
       "    </tbody></table>"
      ],
      "text/plain": [
       "<pandas.io.formats.style.Styler at 0x7f74c179e460>"
      ]
     },
     "metadata": {},
     "output_type": "display_data"
    },
    {
     "data": {
      "text/html": [
       "<style  type=\"text/css\" >\n",
       "#T_ef016_row0_col0{\n",
       "            background-color:  #ff0000;\n",
       "            color:  #f1f1f1;\n",
       "        }#T_ef016_row0_col1{\n",
       "            background-color:  #f3f0f0;\n",
       "            color:  #000000;\n",
       "        }</style><table id=\"T_ef016_\" ><thead>    <tr>        <th class=\"blank level0\" ></th>        <th class=\"col_heading level0 col0\" >clifford</th>        <th class=\"col_heading level0 col1\" >thinking</th>    </tr></thead><tbody>\n",
       "                <tr>\n",
       "                        <th id=\"T_ef016_level0_row0\" class=\"row_heading level0 row0\" >3453</th>\n",
       "                        <td id=\"T_ef016_row0_col0\" class=\"data row0 col0\" >0.670242</td>\n",
       "                        <td id=\"T_ef016_row0_col1\" class=\"data row0 col1\" >0.329758</td>\n",
       "            </tr>\n",
       "    </tbody></table>"
      ],
      "text/plain": [
       "<pandas.io.formats.style.Styler at 0x7f74c1718280>"
      ]
     },
     "metadata": {},
     "output_type": "display_data"
    },
    {
     "name": "stdout",
     "output_type": "stream",
     "text": [
      "0.47478366\n"
     ]
    },
    {
     "data": {
      "text/html": [
       "<style  type=\"text/css\" >\n",
       "#T_7c98b_row0_col0{\n",
       "            background-color:  #ff0000;\n",
       "            color:  #f1f1f1;\n",
       "        }#T_7c98b_row0_col1{\n",
       "            background-color:  #fb5353;\n",
       "            color:  #000000;\n",
       "        }#T_7c98b_row0_col2{\n",
       "            background-color:  #f5c8c7;\n",
       "            color:  #000000;\n",
       "        }#T_7c98b_row0_col3{\n",
       "            background-color:  #f3f0f0;\n",
       "            color:  #000000;\n",
       "        }</style><table id=\"T_7c98b_\" ><thead>    <tr>        <th class=\"blank level0\" ></th>        <th class=\"col_heading level0 col0\" >omniweb</th>        <th class=\"col_heading level0 col1\" >5</th>        <th class=\"col_heading level0 col2\" >.</th>        <th class=\"col_heading level0 col3\" >0</th>    </tr></thead><tbody>\n",
       "                <tr>\n",
       "                        <th id=\"T_7c98b_level0_row0\" class=\"row_heading level0 row0\" >725</th>\n",
       "                        <td id=\"T_7c98b_row0_col0\" class=\"data row0 col0\" >0.327518</td>\n",
       "                        <td id=\"T_7c98b_row0_col1\" class=\"data row0 col1\" >0.278055</td>\n",
       "                        <td id=\"T_7c98b_row0_col2\" class=\"data row0 col2\" >0.209434</td>\n",
       "                        <td id=\"T_7c98b_row0_col3\" class=\"data row0 col3\" >0.184993</td>\n",
       "            </tr>\n",
       "    </tbody></table>"
      ],
      "text/plain": [
       "<pandas.io.formats.style.Styler at 0x7f74c172c160>"
      ]
     },
     "metadata": {},
     "output_type": "display_data"
    },
    {
     "data": {
      "text/html": [
       "<style  type=\"text/css\" >\n",
       "#T_7d8a4_row0_col0{\n",
       "            background-color:  #fc3737;\n",
       "            color:  #f1f1f1;\n",
       "        }#T_7d8a4_row0_col1{\n",
       "            background-color:  #ff0000;\n",
       "            color:  #f1f1f1;\n",
       "        }#T_7d8a4_row0_col2{\n",
       "            background-color:  #fe1a1a;\n",
       "            color:  #f1f1f1;\n",
       "        }#T_7d8a4_row0_col3{\n",
       "            background-color:  #f6b6b6;\n",
       "            color:  #000000;\n",
       "        }#T_7d8a4_row0_col4{\n",
       "            background-color:  #f3f0f0;\n",
       "            color:  #000000;\n",
       "        }</style><table id=\"T_7d8a4_\" ><thead>    <tr>        <th class=\"blank level0\" ></th>        <th class=\"col_heading level0 col0\" >omni</th>        <th class=\"col_heading level0 col1\" >web</th>        <th class=\"col_heading level0 col2\" >5</th>        <th class=\"col_heading level0 col3\" >.</th>        <th class=\"col_heading level0 col4\" >0</th>    </tr></thead><tbody>\n",
       "                <tr>\n",
       "                        <th id=\"T_7d8a4_level0_row0\" class=\"row_heading level0 row0\" >1803</th>\n",
       "                        <td id=\"T_7d8a4_row0_col0\" class=\"data row0 col0\" >0.217174</td>\n",
       "                        <td id=\"T_7d8a4_row0_col1\" class=\"data row0 col1\" >0.238057</td>\n",
       "                        <td id=\"T_7d8a4_row0_col2\" class=\"data row0 col2\" >0.227800</td>\n",
       "                        <td id=\"T_7d8a4_row0_col3\" class=\"data row0 col3\" >0.169549</td>\n",
       "                        <td id=\"T_7d8a4_row0_col4\" class=\"data row0 col4\" >0.147421</td>\n",
       "            </tr>\n",
       "    </tbody></table>"
      ],
      "text/plain": [
       "<pandas.io.formats.style.Styler at 0x7f74c172c400>"
      ]
     },
     "metadata": {},
     "output_type": "display_data"
    },
    {
     "name": "stdout",
     "output_type": "stream",
     "text": [
      "0.38709295\n"
     ]
    },
    {
     "data": {
      "text/html": [
       "<style  type=\"text/css\" >\n",
       "#T_a6516_row0_col0{\n",
       "            background-color:  #f3f0f0;\n",
       "            color:  #000000;\n",
       "        }</style><table id=\"T_a6516_\" ><thead>    <tr>        <th class=\"blank level0\" ></th>        <th class=\"col_heading level0 col0\" >hijack2</th>    </tr></thead><tbody>\n",
       "                <tr>\n",
       "                        <th id=\"T_a6516_level0_row0\" class=\"row_heading level0 row0\" >1260</th>\n",
       "                        <td id=\"T_a6516_row0_col0\" class=\"data row0 col0\" >1.000000</td>\n",
       "            </tr>\n",
       "    </tbody></table>"
      ],
      "text/plain": [
       "<pandas.io.formats.style.Styler at 0x7f74c1722310>"
      ]
     },
     "metadata": {},
     "output_type": "display_data"
    },
    {
     "data": {
      "text/html": [
       "<style  type=\"text/css\" >\n",
       "#T_7d5bd_row0_col0{\n",
       "            background-color:  #ff0000;\n",
       "            color:  #f1f1f1;\n",
       "        }#T_7d5bd_row0_col1{\n",
       "            background-color:  #fb5454;\n",
       "            color:  #000000;\n",
       "        }#T_7d5bd_row0_col2{\n",
       "            background-color:  #f88a8a;\n",
       "            color:  #000000;\n",
       "        }#T_7d5bd_row0_col3{\n",
       "            background-color:  #fa6363;\n",
       "            color:  #000000;\n",
       "        }#T_7d5bd_row0_col4{\n",
       "            background-color:  #f3e8e8;\n",
       "            color:  #000000;\n",
       "        }#T_7d5bd_row0_col5{\n",
       "            background-color:  #f3f0f0;\n",
       "            color:  #000000;\n",
       "        }</style><table id=\"T_7d5bd_\" ><thead>    <tr>        <th class=\"blank level0\" ></th>        <th class=\"col_heading level0 col0\" >hijack2</th>        <th class=\"col_heading level0 col1\" >identity</th>        <th class=\"col_heading level0 col2\" >and</th>        <th class=\"col_heading level0 col3\" >data</th>        <th class=\"col_heading level0 col4\" >security</th>        <th class=\"col_heading level0 col5\" >suite</th>    </tr></thead><tbody>\n",
       "                <tr>\n",
       "                        <th id=\"T_7d5bd_level0_row0\" class=\"row_heading level0 row0\" >3367</th>\n",
       "                        <td id=\"T_7d5bd_row0_col0\" class=\"data row0 col0\" >0.294043</td>\n",
       "                        <td id=\"T_7d5bd_row0_col1\" class=\"data row0 col1\" >0.213012</td>\n",
       "                        <td id=\"T_7d5bd_row0_col2\" class=\"data row0 col2\" >0.160768</td>\n",
       "                        <td id=\"T_7d5bd_row0_col3\" class=\"data row0 col3\" >0.199087</td>\n",
       "                        <td id=\"T_7d5bd_row0_col4\" class=\"data row0 col4\" >0.070290</td>\n",
       "                        <td id=\"T_7d5bd_row0_col5\" class=\"data row0 col5\" >0.062800</td>\n",
       "            </tr>\n",
       "    </tbody></table>"
      ],
      "text/plain": [
       "<pandas.io.formats.style.Styler at 0x7f74c179eb50>"
      ]
     },
     "metadata": {},
     "output_type": "display_data"
    }
   ],
   "source": [
    "for (id_left, id_right) in false_negatives[:5]:\n",
    "    print(np.dot(test_left_vector_dict[id_left], test_right_vector_dict[id_right]))\n",
    "    display_pair_attention((id_left, id_right), 'title')"
   ]
  },
  {
   "cell_type": "code",
   "execution_count": 19,
   "id": "1a7912a3",
   "metadata": {},
   "outputs": [
    {
     "data": {
      "text/plain": [
       "597"
      ]
     },
     "execution_count": 19,
     "metadata": {},
     "output_type": "execute_result"
    }
   ],
   "source": [
    "false_positives = list(test_found_pair_set - test_pos_pair_set)\n",
    "len(false_positives)"
   ]
  },
  {
   "cell_type": "code",
   "execution_count": 20,
   "id": "dca50fd2",
   "metadata": {},
   "outputs": [
    {
     "name": "stdout",
     "output_type": "stream",
     "text": [
      "0.82730997\n"
     ]
    },
    {
     "data": {
      "text/html": [
       "<style  type=\"text/css\" >\n",
       "#T_8eee5_row0_col0{\n",
       "            background-color:  #f3f0f0;\n",
       "            color:  #000000;\n",
       "        }#T_8eee5_row0_col1{\n",
       "            background-color:  #f3e5e5;\n",
       "            color:  #000000;\n",
       "        }#T_8eee5_row0_col2{\n",
       "            background-color:  #f79999;\n",
       "            color:  #000000;\n",
       "        }#T_8eee5_row0_col3{\n",
       "            background-color:  #f88686;\n",
       "            color:  #000000;\n",
       "        }#T_8eee5_row0_col4{\n",
       "            background-color:  #ff0000;\n",
       "            color:  #f1f1f1;\n",
       "        }#T_8eee5_row0_col5{\n",
       "            background-color:  #f6b4b4;\n",
       "            color:  #000000;\n",
       "        }</style><table id=\"T_8eee5_\" ><thead>    <tr>        <th class=\"blank level0\" ></th>        <th class=\"col_heading level0 col0\" >print</th>        <th class=\"col_heading level0 col1\" >shop</th>        <th class=\"col_heading level0 col2\" >22</th>        <th class=\"col_heading level0 col3\" >pro</th>        <th class=\"col_heading level0 col4\" >publisher</th>        <th class=\"col_heading level0 col5\" >deluxe</th>    </tr></thead><tbody>\n",
       "                <tr>\n",
       "                        <th id=\"T_8eee5_level0_row0\" class=\"row_heading level0 row0\" >1259</th>\n",
       "                        <td id=\"T_8eee5_row0_col0\" class=\"data row0 col0\" >0.085782</td>\n",
       "                        <td id=\"T_8eee5_row0_col1\" class=\"data row0 col1\" >0.096860</td>\n",
       "                        <td id=\"T_8eee5_row0_col2\" class=\"data row0 col2\" >0.169252</td>\n",
       "                        <td id=\"T_8eee5_row0_col3\" class=\"data row0 col3\" >0.188322</td>\n",
       "                        <td id=\"T_8eee5_row0_col4\" class=\"data row0 col4\" >0.316136</td>\n",
       "                        <td id=\"T_8eee5_row0_col5\" class=\"data row0 col5\" >0.143647</td>\n",
       "            </tr>\n",
       "    </tbody></table>"
      ],
      "text/plain": [
       "<pandas.io.formats.style.Styler at 0x7f74c1a87c10>"
      ]
     },
     "metadata": {},
     "output_type": "display_data"
    },
    {
     "data": {
      "text/html": [
       "<style  type=\"text/css\" >\n",
       "#T_b2fb7_row0_col0{\n",
       "            background-color:  #f3f0f0;\n",
       "            color:  #000000;\n",
       "        }#T_b2fb7_row0_col1{\n",
       "            background-color:  #fe1c1c;\n",
       "            color:  #f1f1f1;\n",
       "        }#T_b2fb7_row0_col2{\n",
       "            background-color:  #f6adad;\n",
       "            color:  #000000;\n",
       "        }#T_b2fb7_row0_col3{\n",
       "            background-color:  #ff0000;\n",
       "            color:  #f1f1f1;\n",
       "        }</style><table id=\"T_b2fb7_\" ><thead>    <tr>        <th class=\"blank level0\" ></th>        <th class=\"col_heading level0 col0\" >printshop</th>        <th class=\"col_heading level0 col1\" >20</th>        <th class=\"col_heading level0 col2\" >pro</th>        <th class=\"col_heading level0 col3\" >publisher</th>    </tr></thead><tbody>\n",
       "                <tr>\n",
       "                        <th id=\"T_b2fb7_level0_row0\" class=\"row_heading level0 row0\" >2800</th>\n",
       "                        <td id=\"T_b2fb7_row0_col0\" class=\"data row0 col0\" >0.197008</td>\n",
       "                        <td id=\"T_b2fb7_row0_col1\" class=\"data row0 col1\" >0.283588</td>\n",
       "                        <td id=\"T_b2fb7_row0_col2\" class=\"data row0 col2\" >0.224280</td>\n",
       "                        <td id=\"T_b2fb7_row0_col3\" class=\"data row0 col3\" >0.295125</td>\n",
       "            </tr>\n",
       "    </tbody></table>"
      ],
      "text/plain": [
       "<pandas.io.formats.style.Styler at 0x7f755821ec40>"
      ]
     },
     "metadata": {},
     "output_type": "display_data"
    },
    {
     "name": "stdout",
     "output_type": "stream",
     "text": [
      "0.5538443\n"
     ]
    },
    {
     "data": {
      "text/html": [
       "<style  type=\"text/css\" >\n",
       "#T_3abd3_row0_col0{\n",
       "            background-color:  #f3e9e9;\n",
       "            color:  #000000;\n",
       "        }#T_3abd3_row0_col1{\n",
       "            background-color:  #f89191;\n",
       "            color:  #000000;\n",
       "        }#T_3abd3_row0_col2{\n",
       "            background-color:  #ff0000;\n",
       "            color:  #f1f1f1;\n",
       "        }#T_3abd3_row0_col3{\n",
       "            background-color:  #f3f0f0;\n",
       "            color:  #000000;\n",
       "        }</style><table id=\"T_3abd3_\" ><thead>    <tr>        <th class=\"blank level0\" ></th>        <th class=\"col_heading level0 col0\" >ae</th>        <th class=\"col_heading level0 col1\" >mappoint</th>        <th class=\"col_heading level0 col2\" >2006</th>        <th class=\"col_heading level0 col3\" >cd</th>    </tr></thead><tbody>\n",
       "                <tr>\n",
       "                        <th id=\"T_3abd3_level0_row0\" class=\"row_heading level0 row0\" >469</th>\n",
       "                        <td id=\"T_3abd3_row0_col0\" class=\"data row0 col0\" >0.216782</td>\n",
       "                        <td id=\"T_3abd3_row0_col1\" class=\"data row0 col1\" >0.254014</td>\n",
       "                        <td id=\"T_3abd3_row0_col2\" class=\"data row0 col2\" >0.315596</td>\n",
       "                        <td id=\"T_3abd3_row0_col3\" class=\"data row0 col3\" >0.213608</td>\n",
       "            </tr>\n",
       "    </tbody></table>"
      ],
      "text/plain": [
       "<pandas.io.formats.style.Styler at 0x7f74c1722d30>"
      ]
     },
     "metadata": {},
     "output_type": "display_data"
    },
    {
     "data": {
      "text/html": [
       "<style  type=\"text/css\" >\n",
       "#T_b96d0_row0_col0{\n",
       "            background-color:  #f6b6b6;\n",
       "            color:  #000000;\n",
       "        }#T_b96d0_row0_col1{\n",
       "            background-color:  #fc3b3b;\n",
       "            color:  #f1f1f1;\n",
       "        }#T_b96d0_row0_col2{\n",
       "            background-color:  #ff0000;\n",
       "            color:  #f1f1f1;\n",
       "        }#T_b96d0_row0_col3{\n",
       "            background-color:  #fb4a4a;\n",
       "            color:  #000000;\n",
       "        }#T_b96d0_row0_col4{\n",
       "            background-color:  #fb4e4e;\n",
       "            color:  #000000;\n",
       "        }#T_b96d0_row0_col5{\n",
       "            background-color:  #f7a0a0;\n",
       "            color:  #000000;\n",
       "        }#T_b96d0_row0_col6{\n",
       "            background-color:  #f4d3d3;\n",
       "            color:  #000000;\n",
       "        }#T_b96d0_row0_col7{\n",
       "            background-color:  #f3eaea;\n",
       "            color:  #000000;\n",
       "        }#T_b96d0_row0_col8{\n",
       "            background-color:  #f3f0f0;\n",
       "            color:  #000000;\n",
       "        }</style><table id=\"T_b96d0_\" ><thead>    <tr>        <th class=\"blank level0\" ></th>        <th class=\"col_heading level0 col0\" >microsoft</th>        <th class=\"col_heading level0 col1\" >mappoint</th>        <th class=\"col_heading level0 col2\" >2006</th>        <th class=\"col_heading level0 col3\" >with</th>        <th class=\"col_heading level0 col4\" >gps</th>        <th class=\"col_heading level0 col5\" >locator</th>        <th class=\"col_heading level0 col6\" >(</th>        <th class=\"col_heading level0 col7\" >pc</th>        <th class=\"col_heading level0 col8\" >)</th>    </tr></thead><tbody>\n",
       "                <tr>\n",
       "                        <th id=\"T_b96d0_level0_row0\" class=\"row_heading level0 row0\" >4392</th>\n",
       "                        <td id=\"T_b96d0_row0_col0\" class=\"data row0 col0\" >0.074822</td>\n",
       "                        <td id=\"T_b96d0_row0_col1\" class=\"data row0 col1\" >0.176195</td>\n",
       "                        <td id=\"T_b96d0_row0_col2\" class=\"data row0 col2\" >0.225445</td>\n",
       "                        <td id=\"T_b96d0_row0_col3\" class=\"data row0 col3\" >0.163839</td>\n",
       "                        <td id=\"T_b96d0_row0_col4\" class=\"data row0 col4\" >0.160655</td>\n",
       "                        <td id=\"T_b96d0_row0_col5\" class=\"data row0 col5\" >0.092336</td>\n",
       "                        <td id=\"T_b96d0_row0_col6\" class=\"data row0 col6\" >0.050313</td>\n",
       "                        <td id=\"T_b96d0_row0_col7\" class=\"data row0 col7\" >0.030540</td>\n",
       "                        <td id=\"T_b96d0_row0_col8\" class=\"data row0 col8\" >0.025854</td>\n",
       "            </tr>\n",
       "    </tbody></table>"
      ],
      "text/plain": [
       "<pandas.io.formats.style.Styler at 0x7f74c172cb80>"
      ]
     },
     "metadata": {},
     "output_type": "display_data"
    },
    {
     "name": "stdout",
     "output_type": "stream",
     "text": [
      "0.5290783\n"
     ]
    },
    {
     "data": {
      "text/html": [
       "<style  type=\"text/css\" >\n",
       "#T_ab723_row0_col0{\n",
       "            background-color:  #f88383;\n",
       "            color:  #000000;\n",
       "        }#T_ab723_row0_col1{\n",
       "            background-color:  #f88585;\n",
       "            color:  #000000;\n",
       "        }#T_ab723_row0_col2{\n",
       "            background-color:  #f7a1a1;\n",
       "            color:  #000000;\n",
       "        }#T_ab723_row0_col3{\n",
       "            background-color:  #ff0000;\n",
       "            color:  #f1f1f1;\n",
       "        }#T_ab723_row0_col4{\n",
       "            background-color:  #f3f0f0;\n",
       "            color:  #000000;\n",
       "        }</style><table id=\"T_ab723_\" ><thead>    <tr>        <th class=\"blank level0\" ></th>        <th class=\"col_heading level0 col0\" >upg</th>        <th class=\"col_heading level0 col1\" >serverlock</th>        <th class=\"col_heading level0 col2\" >for</th>        <th class=\"col_heading level0 col3\" >solaris</th>        <th class=\"col_heading level0 col4\" >gold</th>    </tr></thead><tbody>\n",
       "                <tr>\n",
       "                        <th id=\"T_ab723_level0_row0\" class=\"row_heading level0 row0\" >200</th>\n",
       "                        <td id=\"T_ab723_row0_col0\" class=\"data row0 col0\" >0.201077</td>\n",
       "                        <td id=\"T_ab723_row0_col1\" class=\"data row0 col1\" >0.200010</td>\n",
       "                        <td id=\"T_ab723_row0_col2\" class=\"data row0 col2\" >0.185658</td>\n",
       "                        <td id=\"T_ab723_row0_col3\" class=\"data row0 col3\" >0.268595</td>\n",
       "                        <td id=\"T_ab723_row0_col4\" class=\"data row0 col4\" >0.144660</td>\n",
       "            </tr>\n",
       "    </tbody></table>"
      ],
      "text/plain": [
       "<pandas.io.formats.style.Styler at 0x7f755821e520>"
      ]
     },
     "metadata": {},
     "output_type": "display_data"
    },
    {
     "data": {
      "text/html": [
       "<style  type=\"text/css\" >\n",
       "#T_e15d7_row0_col0{\n",
       "            background-color:  #f3e4e4;\n",
       "            color:  #000000;\n",
       "        }#T_e15d7_row0_col1{\n",
       "            background-color:  #f3f0f0;\n",
       "            color:  #000000;\n",
       "        }#T_e15d7_row0_col2{\n",
       "            background-color:  #f6b4b4;\n",
       "            color:  #000000;\n",
       "        }#T_e15d7_row0_col3,#T_e15d7_row0_col10{\n",
       "            background-color:  #f79e9e;\n",
       "            color:  #000000;\n",
       "        }#T_e15d7_row0_col4{\n",
       "            background-color:  #ff0000;\n",
       "            color:  #f1f1f1;\n",
       "        }#T_e15d7_row0_col5{\n",
       "            background-color:  #fc3636;\n",
       "            color:  #f1f1f1;\n",
       "        }#T_e15d7_row0_col6{\n",
       "            background-color:  #f88787;\n",
       "            color:  #000000;\n",
       "        }#T_e15d7_row0_col7{\n",
       "            background-color:  #f88c8c;\n",
       "            color:  #000000;\n",
       "        }#T_e15d7_row0_col8{\n",
       "            background-color:  #f96d6d;\n",
       "            color:  #000000;\n",
       "        }#T_e15d7_row0_col9{\n",
       "            background-color:  #f88181;\n",
       "            color:  #000000;\n",
       "        }#T_e15d7_row0_col11{\n",
       "            background-color:  #f5c8c8;\n",
       "            color:  #000000;\n",
       "        }#T_e15d7_row0_col12{\n",
       "            background-color:  #f5c7c7;\n",
       "            color:  #000000;\n",
       "        }#T_e15d7_row0_col13{\n",
       "            background-color:  #f5cbcb;\n",
       "            color:  #000000;\n",
       "        }</style><table id=\"T_e15d7_\" ><thead>    <tr>        <th class=\"blank level0\" ></th>        <th class=\"col_heading level0 col0\" >freeverse</th>        <th class=\"col_heading level0 col1\" >software</th>        <th class=\"col_heading level0 col2\" >5014</th>        <th class=\"col_heading level0 col3\" >-</th>        <th class=\"col_heading level0 col4\" >toysight</th>        <th class=\"col_heading level0 col5\" >gold</th>        <th class=\"col_heading level0 col6\" >(</th>        <th class=\"col_heading level0 col7\" >mac</th>        <th class=\"col_heading level0 col8\" >10</th>        <th class=\"col_heading level0 col9\" >.</th>        <th class=\"col_heading level0 col10\" >2</th>        <th class=\"col_heading level0 col11\" >or</th>        <th class=\"col_heading level0 col12\" >higher</th>        <th class=\"col_heading level0 col13\" >)</th>    </tr></thead><tbody>\n",
       "                <tr>\n",
       "                        <th id=\"T_e15d7_level0_row0\" class=\"row_heading level0 row0\" >2785</th>\n",
       "                        <td id=\"T_e15d7_row0_col0\" class=\"data row0 col0\" >0.017963</td>\n",
       "                        <td id=\"T_e15d7_row0_col1\" class=\"data row0 col1\" >0.008756</td>\n",
       "                        <td id=\"T_e15d7_row0_col2\" class=\"data row0 col2\" >0.051649</td>\n",
       "                        <td id=\"T_e15d7_row0_col3\" class=\"data row0 col3\" >0.067613</td>\n",
       "                        <td id=\"T_e15d7_row0_col4\" class=\"data row0 col4\" >0.180118</td>\n",
       "                        <td id=\"T_e15d7_row0_col5\" class=\"data row0 col5\" >0.141541</td>\n",
       "                        <td id=\"T_e15d7_row0_col6\" class=\"data row0 col6\" >0.083792</td>\n",
       "                        <td id=\"T_e15d7_row0_col7\" class=\"data row0 col7\" >0.080356</td>\n",
       "                        <td id=\"T_e15d7_row0_col8\" class=\"data row0 col8\" >0.102073</td>\n",
       "                        <td id=\"T_e15d7_row0_col9\" class=\"data row0 col9\" >0.088178</td>\n",
       "                        <td id=\"T_e15d7_row0_col10\" class=\"data row0 col10\" >0.067430</td>\n",
       "                        <td id=\"T_e15d7_row0_col11\" class=\"data row0 col11\" >0.037098</td>\n",
       "                        <td id=\"T_e15d7_row0_col12\" class=\"data row0 col12\" >0.038330</td>\n",
       "                        <td id=\"T_e15d7_row0_col13\" class=\"data row0 col13\" >0.035104</td>\n",
       "            </tr>\n",
       "    </tbody></table>"
      ],
      "text/plain": [
       "<pandas.io.formats.style.Styler at 0x7f7558239d00>"
      ]
     },
     "metadata": {},
     "output_type": "display_data"
    },
    {
     "name": "stdout",
     "output_type": "stream",
     "text": [
      "0.5653949\n"
     ]
    },
    {
     "data": {
      "text/html": [
       "<style  type=\"text/css\" >\n",
       "#T_bbf66_row0_col0{\n",
       "            background-color:  #fc3c3c;\n",
       "            color:  #f1f1f1;\n",
       "        }#T_bbf66_row0_col1{\n",
       "            background-color:  #fd1f1f;\n",
       "            color:  #f1f1f1;\n",
       "        }#T_bbf66_row0_col2{\n",
       "            background-color:  #fd2020;\n",
       "            color:  #f1f1f1;\n",
       "        }#T_bbf66_row0_col3{\n",
       "            background-color:  #fd2121;\n",
       "            color:  #f1f1f1;\n",
       "        }#T_bbf66_row0_col4{\n",
       "            background-color:  #ff0707;\n",
       "            color:  #f1f1f1;\n",
       "        }#T_bbf66_row0_col5{\n",
       "            background-color:  #ff0000;\n",
       "            color:  #f1f1f1;\n",
       "        }#T_bbf66_row0_col6{\n",
       "            background-color:  #f88c8c;\n",
       "            color:  #000000;\n",
       "        }#T_bbf66_row0_col7{\n",
       "            background-color:  #f7a8a7;\n",
       "            color:  #000000;\n",
       "        }#T_bbf66_row0_col8{\n",
       "            background-color:  #f5c5c5;\n",
       "            color:  #000000;\n",
       "        }#T_bbf66_row0_col9{\n",
       "            background-color:  #f5cccc;\n",
       "            color:  #000000;\n",
       "        }#T_bbf66_row0_col10{\n",
       "            background-color:  #f4d3d3;\n",
       "            color:  #000000;\n",
       "        }#T_bbf66_row0_col11{\n",
       "            background-color:  #f4d9d9;\n",
       "            color:  #000000;\n",
       "        }#T_bbf66_row0_col12{\n",
       "            background-color:  #f3e7e7;\n",
       "            color:  #000000;\n",
       "        }#T_bbf66_row0_col13{\n",
       "            background-color:  #f3f0f0;\n",
       "            color:  #000000;\n",
       "        }</style><table id=\"T_bbf66_\" ><thead>    <tr>        <th class=\"blank level0\" ></th>        <th class=\"col_heading level0 col0\" >apple</th>        <th class=\"col_heading level0 col1\" >ilife</th>        <th class=\"col_heading level0 col2\" >'</th>        <th class=\"col_heading level0 col3\" >06</th>        <th class=\"col_heading level0 col4\" >family</th>        <th class=\"col_heading level0 col5\" >pack</th>        <th class=\"col_heading level0 col6\" >(</th>        <th class=\"col_heading level0 col7\" >mac</th>        <th class=\"col_heading level0 col8\" >dvd</th>        <th class=\"col_heading level0 col9\" >)</th>        <th class=\"col_heading level0 col10\" >[</th>        <th class=\"col_heading level0 col11\" >older</th>        <th class=\"col_heading level0 col12\" >version</th>        <th class=\"col_heading level0 col13\" >]</th>    </tr></thead><tbody>\n",
       "                <tr>\n",
       "                        <th id=\"T_bbf66_level0_row0\" class=\"row_heading level0 row0\" >860</th>\n",
       "                        <td id=\"T_bbf66_row0_col0\" class=\"data row0 col0\" >0.105738</td>\n",
       "                        <td id=\"T_bbf66_row0_col1\" class=\"data row0 col1\" >0.120886</td>\n",
       "                        <td id=\"T_bbf66_row0_col2\" class=\"data row0 col2\" >0.120593</td>\n",
       "                        <td id=\"T_bbf66_row0_col3\" class=\"data row0 col3\" >0.119797</td>\n",
       "                        <td id=\"T_bbf66_row0_col4\" class=\"data row0 col4\" >0.133742</td>\n",
       "                        <td id=\"T_bbf66_row0_col5\" class=\"data row0 col5\" >0.137395</td>\n",
       "                        <td id=\"T_bbf66_row0_col6\" class=\"data row0 col6\" >0.064262</td>\n",
       "                        <td id=\"T_bbf66_row0_col7\" class=\"data row0 col7\" >0.050234</td>\n",
       "                        <td id=\"T_bbf66_row0_col8\" class=\"data row0 col8\" >0.034720</td>\n",
       "                        <td id=\"T_bbf66_row0_col9\" class=\"data row0 col9\" >0.031217</td>\n",
       "                        <td id=\"T_bbf66_row0_col10\" class=\"data row0 col10\" >0.027588</td>\n",
       "                        <td id=\"T_bbf66_row0_col11\" class=\"data row0 col11\" >0.024085</td>\n",
       "                        <td id=\"T_bbf66_row0_col12\" class=\"data row0 col12\" >0.017520</td>\n",
       "                        <td id=\"T_bbf66_row0_col13\" class=\"data row0 col13\" >0.012223</td>\n",
       "            </tr>\n",
       "    </tbody></table>"
      ],
      "text/plain": [
       "<pandas.io.formats.style.Styler at 0x7f74c16b5d90>"
      ]
     },
     "metadata": {},
     "output_type": "display_data"
    },
    {
     "data": {
      "text/html": [
       "<style  type=\"text/css\" >\n",
       "#T_35c04_row0_col0{\n",
       "            background-color:  #fc4242;\n",
       "            color:  #000000;\n",
       "        }#T_35c04_row0_col1,#T_35c04_row0_col3{\n",
       "            background-color:  #fd2828;\n",
       "            color:  #f1f1f1;\n",
       "        }#T_35c04_row0_col2{\n",
       "            background-color:  #f4d2d2;\n",
       "            color:  #000000;\n",
       "        }#T_35c04_row0_col4{\n",
       "            background-color:  #fa6868;\n",
       "            color:  #000000;\n",
       "        }#T_35c04_row0_col5{\n",
       "            background-color:  #f3f0f0;\n",
       "            color:  #000000;\n",
       "        }#T_35c04_row0_col6{\n",
       "            background-color:  #fb5252;\n",
       "            color:  #000000;\n",
       "        }#T_35c04_row0_col7{\n",
       "            background-color:  #f6baba;\n",
       "            color:  #000000;\n",
       "        }#T_35c04_row0_col8{\n",
       "            background-color:  #fc4545;\n",
       "            color:  #000000;\n",
       "        }#T_35c04_row0_col9{\n",
       "            background-color:  #fd3131;\n",
       "            color:  #f1f1f1;\n",
       "        }#T_35c04_row0_col10{\n",
       "            background-color:  #fd2222;\n",
       "            color:  #f1f1f1;\n",
       "        }#T_35c04_row0_col11{\n",
       "            background-color:  #fd2b2b;\n",
       "            color:  #f1f1f1;\n",
       "        }#T_35c04_row0_col12{\n",
       "            background-color:  #ff0000;\n",
       "            color:  #f1f1f1;\n",
       "        }#T_35c04_row0_col13{\n",
       "            background-color:  #fc3e3e;\n",
       "            color:  #f1f1f1;\n",
       "        }#T_35c04_row0_col14{\n",
       "            background-color:  #f89494;\n",
       "            color:  #000000;\n",
       "        }</style><table id=\"T_35c04_\" ><thead>    <tr>        <th class=\"blank level0\" ></th>        <th class=\"col_heading level0 col0\" >apple</th>        <th class=\"col_heading level0 col1\" >.</th>        <th class=\"col_heading level0 col2\" >mac</th>        <th class=\"col_heading level0 col3\" >family</th>        <th class=\"col_heading level0 col4\" >pack</th>        <th class=\"col_heading level0 col5\" >software</th>        <th class=\"col_heading level0 col6\" >-</th>        <th class=\"col_heading level0 col7\" >five</th>        <th class=\"col_heading level0 col8\" >user</th>        <th class=\"col_heading level0 col9\" >license</th>        <th class=\"col_heading level0 col10\" >with</th>        <th class=\"col_heading level0 col11\" >1</th>        <th class=\"col_heading level0 col12\" >year</th>        <th class=\"col_heading level0 col13\" >subscription</th>        <th class=\"col_heading level0 col14\" >&</th>    </tr></thead><tbody>\n",
       "                <tr>\n",
       "                        <th id=\"T_35c04_level0_row0\" class=\"row_heading level0 row0\" >3478</th>\n",
       "                        <td id=\"T_35c04_row0_col0\" class=\"data row0 col0\" >0.064013</td>\n",
       "                        <td id=\"T_35c04_row0_col1\" class=\"data row0 col1\" >0.072934</td>\n",
       "                        <td id=\"T_35c04_row0_col2\" class=\"data row0 col2\" >0.013670</td>\n",
       "                        <td id=\"T_35c04_row0_col3\" class=\"data row0 col3\" >0.072934</td>\n",
       "                        <td id=\"T_35c04_row0_col4\" class=\"data row0 col4\" >0.050594</td>\n",
       "                        <td id=\"T_35c04_row0_col5\" class=\"data row0 col5\" >0.003080</td>\n",
       "                        <td id=\"T_35c04_row0_col6\" class=\"data row0 col6\" >0.058373</td>\n",
       "                        <td id=\"T_35c04_row0_col7\" class=\"data row0 col7\" >0.021907</td>\n",
       "                        <td id=\"T_35c04_row0_col8\" class=\"data row0 col8\" >0.062834</td>\n",
       "                        <td id=\"T_35c04_row0_col9\" class=\"data row0 col9\" >0.070020</td>\n",
       "                        <td id=\"T_35c04_row0_col10\" class=\"data row0 col10\" >0.075262</td>\n",
       "                        <td id=\"T_35c04_row0_col11\" class=\"data row0 col11\" >0.071686</td>\n",
       "                        <td id=\"T_35c04_row0_col12\" class=\"data row0 col12\" >0.087110</td>\n",
       "                        <td id=\"T_35c04_row0_col13\" class=\"data row0 col13\" >0.065417</td>\n",
       "                        <td id=\"T_35c04_row0_col14\" class=\"data row0 col14\" >0.035534</td>\n",
       "            </tr>\n",
       "    </tbody></table>"
      ],
      "text/plain": [
       "<pandas.io.formats.style.Styler at 0x7f74c179e820>"
      ]
     },
     "metadata": {},
     "output_type": "display_data"
    },
    {
     "name": "stdout",
     "output_type": "stream",
     "text": [
      "0.51935875\n"
     ]
    },
    {
     "data": {
      "text/html": [
       "<style  type=\"text/css\" >\n",
       "#T_b9c7c_row0_col0{\n",
       "            background-color:  #fe1212;\n",
       "            color:  #f1f1f1;\n",
       "        }#T_b9c7c_row0_col1{\n",
       "            background-color:  #f3f0f0;\n",
       "            color:  #000000;\n",
       "        }#T_b9c7c_row0_col2{\n",
       "            background-color:  #ff0000;\n",
       "            color:  #f1f1f1;\n",
       "        }</style><table id=\"T_b9c7c_\" ><thead>    <tr>        <th class=\"blank level0\" ></th>        <th class=\"col_heading level0 col0\" >net</th>        <th class=\"col_heading level0 col1\" >ad</th>        <th class=\"col_heading level0 col2\" >creator</th>    </tr></thead><tbody>\n",
       "                <tr>\n",
       "                        <th id=\"T_b9c7c_level0_row0\" class=\"row_heading level0 row0\" >1138</th>\n",
       "                        <td id=\"T_b9c7c_row0_col0\" class=\"data row0 col0\" >0.351299</td>\n",
       "                        <td id=\"T_b9c7c_row0_col1\" class=\"data row0 col1\" >0.292414</td>\n",
       "                        <td id=\"T_b9c7c_row0_col2\" class=\"data row0 col2\" >0.356287</td>\n",
       "            </tr>\n",
       "    </tbody></table>"
      ],
      "text/plain": [
       "<pandas.io.formats.style.Styler at 0x7f74c171e760>"
      ]
     },
     "metadata": {},
     "output_type": "display_data"
    },
    {
     "data": {
      "text/html": [
       "<style  type=\"text/css\" >\n",
       "#T_0ae0a_row0_col0{\n",
       "            background-color:  #f97575;\n",
       "            color:  #000000;\n",
       "        }#T_0ae0a_row0_col1{\n",
       "            background-color:  #fe0b0b;\n",
       "            color:  #f1f1f1;\n",
       "        }#T_0ae0a_row0_col2{\n",
       "            background-color:  #fd2e2e;\n",
       "            color:  #f1f1f1;\n",
       "        }#T_0ae0a_row0_col3{\n",
       "            background-color:  #ff0000;\n",
       "            color:  #f1f1f1;\n",
       "        }#T_0ae0a_row0_col4{\n",
       "            background-color:  #f97272;\n",
       "            color:  #000000;\n",
       "        }#T_0ae0a_row0_col5{\n",
       "            background-color:  #f6b6b6;\n",
       "            color:  #000000;\n",
       "        }#T_0ae0a_row0_col6{\n",
       "            background-color:  #f3f0f0;\n",
       "            color:  #000000;\n",
       "        }#T_0ae0a_row0_col7{\n",
       "            background-color:  #f3e3e3;\n",
       "            color:  #000000;\n",
       "        }#T_0ae0a_row0_col8{\n",
       "            background-color:  #f5c8c7;\n",
       "            color:  #000000;\n",
       "        }#T_0ae0a_row0_col9{\n",
       "            background-color:  #f6b2b2;\n",
       "            color:  #000000;\n",
       "        }</style><table id=\"T_0ae0a_\" ><thead>    <tr>        <th class=\"blank level0\" ></th>        <th class=\"col_heading level0 col0\" >roxio</th>        <th class=\"col_heading level0 col1\" >easy</th>        <th class=\"col_heading level0 col2\" >media</th>        <th class=\"col_heading level0 col3\" >creator</th>        <th class=\"col_heading level0 col4\" >9</th>        <th class=\"col_heading level0 col5\" >suite</th>        <th class=\"col_heading level0 col6\" >software</th>        <th class=\"col_heading level0 col7\" >for</th>        <th class=\"col_heading level0 col8\" >windows</th>        <th class=\"col_heading level0 col9\" >authoring</th>    </tr></thead><tbody>\n",
       "                <tr>\n",
       "                        <th id=\"T_0ae0a_level0_row0\" class=\"row_heading level0 row0\" >3742</th>\n",
       "                        <td id=\"T_0ae0a_row0_col0\" class=\"data row0 col0\" >0.110653</td>\n",
       "                        <td id=\"T_0ae0a_row0_col1\" class=\"data row0 col1\" >0.192571</td>\n",
       "                        <td id=\"T_0ae0a_row0_col2\" class=\"data row0 col2\" >0.165696</td>\n",
       "                        <td id=\"T_0ae0a_row0_col3\" class=\"data row0 col3\" >0.202016</td>\n",
       "                        <td id=\"T_0ae0a_row0_col4\" class=\"data row0 col4\" >0.112364</td>\n",
       "                        <td id=\"T_0ae0a_row0_col5\" class=\"data row0 col5\" >0.059316</td>\n",
       "                        <td id=\"T_0ae0a_row0_col6\" class=\"data row0 col6\" >0.013610</td>\n",
       "                        <td id=\"T_0ae0a_row0_col7\" class=\"data row0 col7\" >0.024468</td>\n",
       "                        <td id=\"T_0ae0a_row0_col8\" class=\"data row0 col8\" >0.045945</td>\n",
       "                        <td id=\"T_0ae0a_row0_col9\" class=\"data row0 col9\" >0.062368</td>\n",
       "            </tr>\n",
       "    </tbody></table>"
      ],
      "text/plain": [
       "<pandas.io.formats.style.Styler at 0x7f74c171e1c0>"
      ]
     },
     "metadata": {},
     "output_type": "display_data"
    }
   ],
   "source": [
    "for (id_left, id_right) in false_positives[:5]:\n",
    "    print(np.dot(test_left_vector_dict[id_left], test_right_vector_dict[id_right]))\n",
    "    display_pair_attention((id_left, id_right), 'title')"
   ]
  }
 ],
 "metadata": {
  "kernelspec": {
   "display_name": "Python 3",
   "language": "python",
   "name": "python3"
  },
  "language_info": {
   "codemirror_mode": {
    "name": "ipython",
    "version": 3
   },
   "file_extension": ".py",
   "mimetype": "text/x-python",
   "name": "python",
   "nbconvert_exporter": "python",
   "pygments_lexer": "ipython3",
   "version": "3.8.6"
  }
 },
 "nbformat": 4,
 "nbformat_minor": 5
}
