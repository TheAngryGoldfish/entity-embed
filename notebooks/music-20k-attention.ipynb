{
 "cells": [
  {
   "cell_type": "markdown",
   "metadata": {},
   "source": [
    "## Load Dataset"
   ]
  },
  {
   "cell_type": "code",
   "execution_count": 1,
   "metadata": {},
   "outputs": [],
   "source": [
    "%load_ext autoreload\n",
    "%autoreload 2"
   ]
  },
  {
   "cell_type": "code",
   "execution_count": 2,
   "metadata": {},
   "outputs": [],
   "source": [
    "from importlib import reload\n",
    "import logging\n",
    "reload(logging)\n",
    "logging.basicConfig(format='%(asctime)s %(levelname)s:%(message)s', level=logging.INFO, datefmt='%H:%M:%S')"
   ]
  },
  {
   "cell_type": "code",
   "execution_count": 3,
   "metadata": {},
   "outputs": [],
   "source": [
    "# libgomp issue, must import n2 before torch\n",
    "from n2 import HnswIndex"
   ]
  },
  {
   "cell_type": "code",
   "execution_count": 4,
   "metadata": {},
   "outputs": [],
   "source": [
    "import sys\n",
    "\n",
    "sys.path.insert(0, '..')"
   ]
  },
  {
   "cell_type": "code",
   "execution_count": 5,
   "metadata": {},
   "outputs": [],
   "source": [
    "import os\n",
    "home_dir = os.getenv('HOME')"
   ]
  },
  {
   "cell_type": "markdown",
   "metadata": {},
   "source": [
    "https://dbs.uni-leipzig.de/research/projects/object_matching/benchmark_datasets_for_entity_resolution\n",
    "\n",
    "https://www.informatik.uni-leipzig.de/~saeedi/musicBrainz_readme.txt"
   ]
  },
  {
   "cell_type": "markdown",
   "metadata": {},
   "source": [
    "```\n",
    "5 sources\n",
    "---------- \n",
    "TID: a unique record's id (in the complete dataset).\n",
    "CID: cluster id (records having the same CID are duplicate)\n",
    "CTID: a unique id within a cluster (if two records belong to the same cluster they will have the same CID but different CTIDs). These ids (CTID) start with 1 and grow until cluster size.\n",
    "SourceID: identifies to which source a record belongs (there are five sources). The sources are deduplicated.\n",
    "Id: the original id from the source. Each source has its own Id-Format. Uniqueness is not guaranteed!! (can be ignored).\n",
    "number: track or song number in the album.\n",
    "length: the length of the track.\n",
    "artist: the interpreter (artist or band) of the track.\n",
    "year: date of publication.\n",
    "language: language of the track.\n",
    "```"
   ]
  },
  {
   "cell_type": "code",
   "execution_count": 6,
   "metadata": {},
   "outputs": [
    {
     "name": "stderr",
     "output_type": "stream",
     "text": [
      "100%|██████████| 19375/19375 [00:00<00:00, 199046.32it/s]\n"
     ]
    }
   ],
   "source": [
    "import glob\n",
    "import csv\n",
    "import tqdm\n",
    "\n",
    "current_row_id = 0\n",
    "row_dict = {}\n",
    "rows_total = 19375\n",
    "cluster_attr = 'CID'\n",
    "\n",
    "with tqdm.tqdm(total=rows_total) as pbar:\n",
    "    for filename in glob.glob(f'{home_dir}/Downloads/musicbrainz-20-A01.csv.dapo'):\n",
    "        with open(filename) as f:\n",
    "            for row in csv.DictReader(f):\n",
    "                row['id'] = current_row_id\n",
    "                row[cluster_attr] = int(row[cluster_attr])  # convert cluster_attr to int\n",
    "                row_dict[current_row_id] = row\n",
    "                current_row_id += 1\n",
    "                pbar.update(1)"
   ]
  },
  {
   "cell_type": "code",
   "execution_count": 7,
   "metadata": {},
   "outputs": [
    {
     "data": {
      "text/plain": [
       "{'TID': '2',\n",
       " 'CID': 2512,\n",
       " 'CTID': '5',\n",
       " 'SourceID': '4',\n",
       " 'id': 1,\n",
       " 'number': '7',\n",
       " 'title': '007',\n",
       " 'length': '1m 58sec',\n",
       " 'artist': '[unknown]',\n",
       " 'album': 'Cantigas de roda (unknown)',\n",
       " 'year': 'null',\n",
       " 'language': 'Por.'}"
      ]
     },
     "execution_count": 7,
     "metadata": {},
     "output_type": "execute_result"
    }
   ],
   "source": [
    "row_dict[1]"
   ]
  },
  {
   "cell_type": "markdown",
   "metadata": {},
   "source": [
    "## Preprocess"
   ]
  },
  {
   "cell_type": "code",
   "execution_count": 8,
   "metadata": {},
   "outputs": [],
   "source": [
    "attr_list = ['title', 'artist', 'album']"
   ]
  },
  {
   "cell_type": "code",
   "execution_count": 9,
   "metadata": {},
   "outputs": [],
   "source": [
    "import unidecode\n",
    "from entity_embed.data_utils.one_hot_encoders import default_tokenizer\n",
    "\n",
    "def clean_str(s):\n",
    "    s = unidecode.unidecode(s).lower().strip()\n",
    "    return ' '.join(s_part[:30] for s_part in default_tokenizer(s))[:100]\n",
    "\n",
    "for row in row_dict.values():\n",
    "    for attr in attr_list:\n",
    "        row[attr] = clean_str(row[attr])"
   ]
  },
  {
   "cell_type": "markdown",
   "metadata": {},
   "source": [
    "## Get Pairs"
   ]
  },
  {
   "cell_type": "code",
   "execution_count": 10,
   "metadata": {},
   "outputs": [],
   "source": [
    "import torch\n",
    "import numpy as np\n",
    "\n",
    "random_seed = 42\n",
    "torch.manual_seed(random_seed)\n",
    "np.random.seed(random_seed)"
   ]
  },
  {
   "cell_type": "code",
   "execution_count": 11,
   "metadata": {
    "scrolled": true
   },
   "outputs": [
    {
     "data": {
      "text/plain": [
       "10000"
      ]
     },
     "execution_count": 11,
     "metadata": {},
     "output_type": "execute_result"
    }
   ],
   "source": [
    "from entity_embed.data_utils.utils import row_dict_to_cluster_dict\n",
    "\n",
    "cluster_dict = row_dict_to_cluster_dict(row_dict, cluster_attr)\n",
    "len(cluster_dict)"
   ]
  },
  {
   "cell_type": "code",
   "execution_count": 12,
   "metadata": {},
   "outputs": [
    {
     "data": {
      "text/plain": [
       "1500"
      ]
     },
     "metadata": {},
     "output_type": "display_data"
    },
    {
     "data": {
      "text/plain": [
       "2500"
      ]
     },
     "metadata": {},
     "output_type": "display_data"
    },
    {
     "data": {
      "text/plain": [
       "6000"
      ]
     },
     "metadata": {},
     "output_type": "display_data"
    }
   ],
   "source": [
    "from entity_embed.data_utils.utils import split_clusters\n",
    "\n",
    "train_len = 1_500\n",
    "valid_len = 2_500\n",
    "train_cluster_dict, valid_cluster_dict, test_cluster_dict = split_clusters(\n",
    "    cluster_dict, train_len=train_len, valid_len=valid_len, random_seed=random_seed)\n",
    "display(len(train_cluster_dict), len(valid_cluster_dict), len(test_cluster_dict))"
   ]
  },
  {
   "cell_type": "code",
   "execution_count": 13,
   "metadata": {},
   "outputs": [
    {
     "data": {
      "text/plain": [
       "1500"
      ]
     },
     "metadata": {},
     "output_type": "display_data"
    },
    {
     "data": {
      "text/plain": [
       "2500"
      ]
     },
     "metadata": {},
     "output_type": "display_data"
    },
    {
     "data": {
      "text/plain": [
       "1000"
      ]
     },
     "metadata": {},
     "output_type": "display_data"
    }
   ],
   "source": [
    "for d in [train_cluster_dict, valid_cluster_dict, test_cluster_dict]:\n",
    "    display(sum(1 for cluster_id_list in d.values() if len(cluster_id_list) > 1))"
   ]
  },
  {
   "cell_type": "code",
   "execution_count": 14,
   "metadata": {},
   "outputs": [
    {
     "data": {
      "text/plain": [
       "4883"
      ]
     },
     "metadata": {},
     "output_type": "display_data"
    },
    {
     "data": {
      "text/plain": [
       "8092"
      ]
     },
     "metadata": {},
     "output_type": "display_data"
    },
    {
     "data": {
      "text/plain": [
       "3275"
      ]
     },
     "metadata": {},
     "output_type": "display_data"
    }
   ],
   "source": [
    "from entity_embed.data_utils.utils import cluster_dict_to_id_pairs\n",
    "\n",
    "train_true_pair_set = cluster_dict_to_id_pairs(train_cluster_dict)\n",
    "display(len(train_true_pair_set))\n",
    "del train_true_pair_set\n",
    "valid_true_pair_set = cluster_dict_to_id_pairs(valid_cluster_dict)\n",
    "display(len(valid_true_pair_set))\n",
    "del valid_true_pair_set\n",
    "test_true_pair_set = cluster_dict_to_id_pairs(test_cluster_dict)\n",
    "display(len(test_true_pair_set))"
   ]
  },
  {
   "cell_type": "code",
   "execution_count": 15,
   "metadata": {},
   "outputs": [
    {
     "data": {
      "text/plain": [
       "4317"
      ]
     },
     "execution_count": 15,
     "metadata": {},
     "output_type": "execute_result"
    }
   ],
   "source": [
    "train_row_dict = {id_: row_dict[id_] for cluster_id_list in train_cluster_dict.values() for id_ in cluster_id_list}\n",
    "len(train_row_dict)"
   ]
  },
  {
   "cell_type": "code",
   "execution_count": 16,
   "metadata": {},
   "outputs": [
    {
     "data": {
      "text/plain": [
       "7170"
      ]
     },
     "execution_count": 16,
     "metadata": {},
     "output_type": "execute_result"
    }
   ],
   "source": [
    "valid_row_dict = {id_: row_dict[id_] for cluster_id_list in valid_cluster_dict.values() for id_ in cluster_id_list}\n",
    "len(valid_row_dict)"
   ]
  },
  {
   "cell_type": "code",
   "execution_count": 17,
   "metadata": {},
   "outputs": [
    {
     "data": {
      "text/plain": [
       "7888"
      ]
     },
     "execution_count": 17,
     "metadata": {},
     "output_type": "execute_result"
    }
   ],
   "source": [
    "test_row_dict = {id_: row_dict[id_] for cluster_id_list in test_cluster_dict.values() for id_ in cluster_id_list}\n",
    "len(test_row_dict)"
   ]
  },
  {
   "cell_type": "markdown",
   "metadata": {},
   "source": [
    "## Training"
   ]
  },
  {
   "cell_type": "code",
   "execution_count": 18,
   "metadata": {},
   "outputs": [],
   "source": [
    "alphabet = list('0123456789abcdefghijklmnopqrstuvwxyz!\"#$%&\\'()*+,-./:;<=>?@[\\\\]^_`{|}~ ')"
   ]
  },
  {
   "cell_type": "code",
   "execution_count": 19,
   "metadata": {},
   "outputs": [],
   "source": [
    "# TODO: support multiple attrs for same source attr\n",
    "\n",
    "attr_info_dict = {\n",
    "    'title': {\n",
    "        'is_multitoken': True,\n",
    "        'tokenizer': default_tokenizer,\n",
    "        'alphabet': alphabet,\n",
    "        'max_str_len': None,  # compute\n",
    "    },\n",
    "    'artist': {\n",
    "        'is_multitoken': True,\n",
    "        'tokenizer': default_tokenizer,\n",
    "        'alphabet': alphabet,\n",
    "        'max_str_len': None,  # compute\n",
    "    },\n",
    "    'album': {\n",
    "        'is_multitoken': True,\n",
    "        'tokenizer': default_tokenizer,\n",
    "        'alphabet': alphabet,\n",
    "        'max_str_len': None,  # compute\n",
    "    }\n",
    "}"
   ]
  },
  {
   "cell_type": "code",
   "execution_count": 20,
   "metadata": {},
   "outputs": [
    {
     "name": "stderr",
     "output_type": "stream",
     "text": [
      "22:08:23 INFO:For attr='title', computing actual alphabet and max_str_len\n",
      "22:08:23 INFO:For attr='title', using actual_max_str_len=30\n",
      "22:08:23 INFO:For attr='artist', computing actual alphabet and max_str_len\n",
      "22:08:23 INFO:For attr='artist', using actual_max_str_len=30\n",
      "22:08:23 INFO:For attr='album', computing actual alphabet and max_str_len\n",
      "22:08:23 INFO:For attr='album', using actual_max_str_len=30\n"
     ]
    }
   ],
   "source": [
    "from entity_embed import EntityEmbed\n",
    "\n",
    "model = EntityEmbed(\n",
    "    attr_info_dict=attr_info_dict,\n",
    "    row_dict=row_dict\n",
    ")"
   ]
  },
  {
   "cell_type": "code",
   "execution_count": 21,
   "metadata": {},
   "outputs": [
    {
     "data": {
      "text/plain": [
       "{'title': OneHotEncodingInfo(is_multitoken=True, tokenizer=<function default_tokenizer at 0x7ff041bd4940>, alphabet=['0', '1', '2', '3', '4', '5', '6', '7', '8', '9', 'a', 'b', 'c', 'd', 'e', 'f', 'g', 'h', 'i', 'j', 'k', 'l', 'm', 'n', 'o', 'p', 'q', 'r', 's', 't', 'u', 'v', 'w', 'x', 'y', 'z', '!', '\"', '#', '$', '%', '&', \"'\", '(', ')', '*', '+', ',', '-', '.', '/', ':', ';', '<', '=', '>', '?', '@', '[', '\\\\', ']', '^', '_', '`', '{', '|', '}', '~', ' '], max_str_len=30),\n",
       " 'artist': OneHotEncodingInfo(is_multitoken=True, tokenizer=<function default_tokenizer at 0x7ff041bd4940>, alphabet=['0', '1', '2', '3', '4', '5', '6', '7', '8', '9', 'a', 'b', 'c', 'd', 'e', 'f', 'g', 'h', 'i', 'j', 'k', 'l', 'm', 'n', 'o', 'p', 'q', 'r', 's', 't', 'u', 'v', 'w', 'x', 'y', 'z', '!', '\"', '#', '$', '%', '&', \"'\", '(', ')', '*', '+', ',', '-', '.', '/', ':', ';', '<', '=', '>', '?', '@', '[', '\\\\', ']', '^', '_', '`', '{', '|', '}', '~', ' '], max_str_len=30),\n",
       " 'album': OneHotEncodingInfo(is_multitoken=True, tokenizer=<function default_tokenizer at 0x7ff041bd4940>, alphabet=['0', '1', '2', '3', '4', '5', '6', '7', '8', '9', 'a', 'b', 'c', 'd', 'e', 'f', 'g', 'h', 'i', 'j', 'k', 'l', 'm', 'n', 'o', 'p', 'q', 'r', 's', 't', 'u', 'v', 'w', 'x', 'y', 'z', '!', '\"', '#', '$', '%', '&', \"'\", '(', ')', '*', '+', ',', '-', '.', '/', ':', ';', '<', '=', '>', '?', '@', '[', '\\\\', ']', '^', '_', '`', '{', '|', '}', '~', ' '], max_str_len=30)}"
      ]
     },
     "execution_count": 21,
     "metadata": {},
     "output_type": "execute_result"
    }
   ],
   "source": [
    "model.attr_info_dict"
   ]
  },
  {
   "cell_type": "code",
   "execution_count": 22,
   "metadata": {},
   "outputs": [],
   "source": [
    "epochs = 20"
   ]
  },
  {
   "cell_type": "code",
   "execution_count": 23,
   "metadata": {
    "scrolled": true
   },
   "outputs": [
    {
     "data": {
      "application/vnd.jupyter.widget-view+json": {
       "model_id": "03d7a7b43fad48289384dc6a8d6898a9",
       "version_major": 2,
       "version_minor": 0
      },
      "text/plain": [
       "HBox(children=(HTML(value='# training'), FloatProgress(value=0.0, max=2180.0), HTML(value='')))"
      ]
     },
     "metadata": {},
     "output_type": "display_data"
    },
    {
     "name": "stderr",
     "output_type": "stream",
     "text": [
      "22:08:37 INFO:[('title', tensor(0.3444, device='cuda:0')), ('artist', tensor(0.3104, device='cuda:0')), ('album', tensor(0.3453, device='cuda:0'))]\n",
      "22:08:41 INFO:# Train Epoch:   0 Time: 15.551 Loss: 0.149, Precision: 0.308 Recall: 0.972\n",
      "22:08:53 INFO:[('title', tensor(0.3477, device='cuda:0')), ('artist', tensor(0.3093, device='cuda:0')), ('album', tensor(0.3429, device='cuda:0'))]\n",
      "22:08:56 INFO:# Train Epoch:   1 Time: 15.195 Loss: 0.027, Precision: 0.505 Recall: 0.972\n",
      "22:09:08 INFO:[('title', tensor(0.3500, device='cuda:0')), ('artist', tensor(0.3071, device='cuda:0')), ('album', tensor(0.3428, device='cuda:0'))]\n",
      "22:09:12 INFO:# Train Epoch:   2 Time: 15.600 Loss: 0.016, Precision: 0.568 Recall: 0.974\n",
      "22:09:24 INFO:[('title', tensor(0.3510, device='cuda:0')), ('artist', tensor(0.3054, device='cuda:0')), ('album', tensor(0.3436, device='cuda:0'))]\n",
      "22:09:28 INFO:# Train Epoch:   3 Time: 16.084 Loss: 0.012, Precision: 0.608 Recall: 0.975\n",
      "22:09:40 INFO:[('title', tensor(0.3522, device='cuda:0')), ('artist', tensor(0.3035, device='cuda:0')), ('album', tensor(0.3443, device='cuda:0'))]\n",
      "22:09:44 INFO:# Train Epoch:   4 Time: 15.997 Loss: 0.010, Precision: 0.647 Recall: 0.976\n",
      "22:09:56 INFO:[('title', tensor(0.3530, device='cuda:0')), ('artist', tensor(0.3020, device='cuda:0')), ('album', tensor(0.3450, device='cuda:0'))]\n",
      "22:10:00 INFO:# Train Epoch:   5 Time: 15.926 Loss: 0.009, Precision: 0.655 Recall: 0.975\n",
      "22:10:12 INFO:[('title', tensor(0.3548, device='cuda:0')), ('artist', tensor(0.3004, device='cuda:0')), ('album', tensor(0.3448, device='cuda:0'))]\n",
      "22:10:16 INFO:# Train Epoch:   6 Time: 15.767 Loss: 0.008, Precision: 0.682 Recall: 0.976\n",
      "22:10:28 INFO:[('title', tensor(0.3550, device='cuda:0')), ('artist', tensor(0.2999, device='cuda:0')), ('album', tensor(0.3451, device='cuda:0'))]\n",
      "22:10:31 INFO:# Train Epoch:   7 Time: 15.576 Loss: 0.008, Precision: 0.690 Recall: 0.975\n",
      "22:10:43 INFO:[('title', tensor(0.3571, device='cuda:0')), ('artist', tensor(0.2984, device='cuda:0')), ('album', tensor(0.3445, device='cuda:0'))]\n",
      "22:10:47 INFO:# Train Epoch:   8 Time: 15.635 Loss: 0.007, Precision: 0.700 Recall: 0.975\n",
      "22:10:59 INFO:[('title', tensor(0.3592, device='cuda:0')), ('artist', tensor(0.2957, device='cuda:0')), ('album', tensor(0.3451, device='cuda:0'))]\n",
      "22:11:02 INFO:# Train Epoch:   9 Time: 15.368 Loss: 0.007, Precision: 0.709 Recall: 0.975\n",
      "22:11:14 INFO:[('title', tensor(0.3611, device='cuda:0')), ('artist', tensor(0.2940, device='cuda:0')), ('album', tensor(0.3449, device='cuda:0'))]\n",
      "22:11:18 INFO:# Train Epoch:  10 Time: 15.696 Loss: 0.006, Precision: 0.729 Recall: 0.975\n",
      "22:11:30 INFO:[('title', tensor(0.3609, device='cuda:0')), ('artist', tensor(0.2930, device='cuda:0')), ('album', tensor(0.3461, device='cuda:0'))]\n",
      "22:11:34 INFO:# Train Epoch:  11 Time: 15.516 Loss: 0.006, Precision: 0.736 Recall: 0.974\n",
      "22:11:46 INFO:[('title', tensor(0.3623, device='cuda:0')), ('artist', tensor(0.2922, device='cuda:0')), ('album', tensor(0.3455, device='cuda:0'))]\n",
      "22:11:49 INFO:# Train Epoch:  12 Time: 15.725 Loss: 0.006, Precision: 0.734 Recall: 0.974\n",
      "22:12:01 INFO:[('title', tensor(0.3631, device='cuda:0')), ('artist', tensor(0.2905, device='cuda:0')), ('album', tensor(0.3463, device='cuda:0'))]\n",
      "22:12:05 INFO:# Train Epoch:  13 Time: 15.732 Loss: 0.006, Precision: 0.748 Recall: 0.973\n",
      "22:12:17 INFO:[('title', tensor(0.3649, device='cuda:0')), ('artist', tensor(0.2890, device='cuda:0')), ('album', tensor(0.3461, device='cuda:0'))]\n",
      "22:12:21 INFO:# Train Epoch:  14 Time: 15.720 Loss: 0.006, Precision: 0.751 Recall: 0.973\n",
      "22:12:33 INFO:[('title', tensor(0.3665, device='cuda:0')), ('artist', tensor(0.2873, device='cuda:0')), ('album', tensor(0.3462, device='cuda:0'))]\n",
      "22:12:37 INFO:# Train Epoch:  15 Time: 15.760 Loss: 0.005, Precision: 0.766 Recall: 0.972\n",
      "22:12:48 INFO:[('title', tensor(0.3676, device='cuda:0')), ('artist', tensor(0.2862, device='cuda:0')), ('album', tensor(0.3462, device='cuda:0'))]\n",
      "22:12:52 INFO:# Train Epoch:  16 Time: 15.611 Loss: 0.005, Precision: 0.769 Recall: 0.973\n",
      "22:13:04 INFO:[('title', tensor(0.3696, device='cuda:0')), ('artist', tensor(0.2837, device='cuda:0')), ('album', tensor(0.3467, device='cuda:0'))]\n",
      "22:13:08 INFO:# Train Epoch:  17 Time: 15.651 Loss: 0.005, Precision: 0.779 Recall: 0.972\n",
      "22:13:19 INFO:[('title', tensor(0.3710, device='cuda:0')), ('artist', tensor(0.2827, device='cuda:0')), ('album', tensor(0.3463, device='cuda:0'))]\n",
      "22:13:23 INFO:# Train Epoch:  18 Time: 15.271 Loss: 0.005, Precision: 0.770 Recall: 0.972\n",
      "22:13:35 INFO:[('title', tensor(0.3719, device='cuda:0')), ('artist', tensor(0.2806, device='cuda:0')), ('album', tensor(0.3475, device='cuda:0'))]\n",
      "22:13:39 INFO:# Train Epoch:  19 Time: 15.492 Loss: 0.005, Precision: 0.771 Recall: 0.971\n"
     ]
    },
    {
     "name": "stdout",
     "output_type": "stream",
     "text": [
      "\n"
     ]
    }
   ],
   "source": [
    "model.train(\n",
    "    epochs=epochs,\n",
    "    train_row_dict=train_row_dict,\n",
    "    cluster_attr=cluster_attr,\n",
    "    train_pos_pair_batch_size=45,\n",
    "    train_neg_pair_batch_size=1225,\n",
    "    valid_row_dict=valid_row_dict,\n",
    "    random_seed=random_seed\n",
    ")"
   ]
  },
  {
   "cell_type": "code",
   "execution_count": 24,
   "metadata": {},
   "outputs": [],
   "source": [
    "# torch.save(model, \"music_model.torch\")"
   ]
  },
  {
   "cell_type": "code",
   "execution_count": 25,
   "metadata": {},
   "outputs": [],
   "source": [
    "# model = torch.load(\"music_model.torch\")"
   ]
  },
  {
   "cell_type": "code",
   "execution_count": 26,
   "metadata": {
    "scrolled": false
   },
   "outputs": [
    {
     "data": {
      "application/vnd.jupyter.widget-view+json": {
       "model_id": "9e767220415b44b7b330d939ade77c06",
       "version_major": 2,
       "version_minor": 0
      },
      "text/plain": [
       "HBox(children=(HTML(value='# batch embedding'), FloatProgress(value=0.0, max=493.0), HTML(value='')))"
      ]
     },
     "metadata": {},
     "output_type": "display_data"
    },
    {
     "name": "stdout",
     "output_type": "stream",
     "text": [
      "\n"
     ]
    }
   ],
   "source": [
    "test_vector_dict = model.predict(\n",
    "    row_dict=test_row_dict,\n",
    "    batch_size=16)"
   ]
  },
  {
   "cell_type": "code",
   "execution_count": 27,
   "metadata": {},
   "outputs": [],
   "source": [
    "assert len(test_vector_dict) == len(test_row_dict)"
   ]
  },
  {
   "cell_type": "code",
   "execution_count": 28,
   "metadata": {
    "scrolled": true
   },
   "outputs": [
    {
     "name": "stdout",
     "output_type": "stream",
     "text": [
      "CPU times: user 2.91 s, sys: 32.2 ms, total: 2.94 s\n",
      "Wall time: 351 ms\n"
     ]
    }
   ],
   "source": [
    "%%time\n",
    "\n",
    "from entity_embed.entity_embed import ANNEntityIndex\n",
    "\n",
    "ann_index = ANNEntityIndex(embedding_size=model.embedding_size)\n",
    "ann_index.insert_vector_dict(test_vector_dict)\n",
    "ann_index.build()"
   ]
  },
  {
   "cell_type": "code",
   "execution_count": 29,
   "metadata": {},
   "outputs": [
    {
     "name": "stdout",
     "output_type": "stream",
     "text": [
      "CPU times: user 4.56 s, sys: 2.44 ms, total: 4.56 s\n",
      "Wall time: 424 ms\n"
     ]
    }
   ],
   "source": [
    "%%time\n",
    "\n",
    "ntop = 10\n",
    "sim_threshold = 0.5\n",
    "\n",
    "found_pair_set = ann_index.search_pairs(\n",
    "    k=ntop,\n",
    "    sim_threshold=sim_threshold\n",
    ")"
   ]
  },
  {
   "cell_type": "code",
   "execution_count": 30,
   "metadata": {},
   "outputs": [
    {
     "data": {
      "text/plain": [
       "0.7682555780933062"
      ]
     },
     "execution_count": 30,
     "metadata": {},
     "output_type": "execute_result"
    }
   ],
   "source": [
    "from entity_embed.evaluation import pair_entity_ratio\n",
    "\n",
    "pair_entity_ratio(found_pair_set, test_row_dict)"
   ]
  },
  {
   "cell_type": "code",
   "execution_count": 31,
   "metadata": {},
   "outputs": [
    {
     "data": {
      "text/plain": [
       "(0.53003300330033, 0.980763358778626)"
      ]
     },
     "execution_count": 31,
     "metadata": {},
     "output_type": "execute_result"
    }
   ],
   "source": [
    "from entity_embed.evaluation import precision_and_recall\n",
    "\n",
    "precision_and_recall(found_pair_set, test_true_pair_set)"
   ]
  },
  {
   "cell_type": "code",
   "execution_count": 32,
   "metadata": {},
   "outputs": [
    {
     "data": {
      "text/plain": [
       "2848"
      ]
     },
     "execution_count": 32,
     "metadata": {},
     "output_type": "execute_result"
    }
   ],
   "source": [
    "false_positives = list(found_pair_set - test_true_pair_set)\n",
    "len(false_positives)"
   ]
  },
  {
   "cell_type": "code",
   "execution_count": 33,
   "metadata": {},
   "outputs": [
    {
     "data": {
      "text/plain": [
       "63"
      ]
     },
     "execution_count": 33,
     "metadata": {},
     "output_type": "execute_result"
    }
   ],
   "source": [
    "false_negatives = list(test_true_pair_set - found_pair_set)\n",
    "len(false_negatives)"
   ]
  },
  {
   "cell_type": "code",
   "execution_count": 34,
   "metadata": {},
   "outputs": [],
   "source": [
    "cos_similarity = lambda a, b: np.dot(a, b)"
   ]
  },
  {
   "cell_type": "code",
   "execution_count": 35,
   "metadata": {},
   "outputs": [
    {
     "data": {
      "text/plain": [
       "(0.4264195,\n",
       " {'TID': '4914',\n",
       "  'CID': 8662,\n",
       "  'CTID': '2',\n",
       "  'SourceID': '4',\n",
       "  'id': 4913,\n",
       "  'number': '14',\n",
       "  'title': '014 - suite andalucia : gitanerias',\n",
       "  'length': '1m 58sec',\n",
       "  'artist': 'frank flynn emilio',\n",
       "  'album': 'tribute to ernesto lecuona ( 1997 )',\n",
       "  'year': 'null',\n",
       "  'language': 'pa.'},\n",
       " {'TID': '16840',\n",
       "  'CID': 8662,\n",
       "  'CTID': '1',\n",
       "  'SourceID': '3',\n",
       "  'id': 16839,\n",
       "  'number': 'Suite Andalucia: Gitanerias - Tribute to Ernesto Lecuona',\n",
       "  'title': '14',\n",
       "  'length': '1.974',\n",
       "  'artist': 'frank emilio flynn',\n",
       "  'album': '',\n",
       "  'year': \"'97\",\n",
       "  'language': 'Spanish'})"
      ]
     },
     "metadata": {},
     "output_type": "display_data"
    },
    {
     "data": {
      "text/plain": [
       "(-0.012160443,\n",
       " {'TID': '15081',\n",
       "  'CID': 5099,\n",
       "  'CTID': '5',\n",
       "  'SourceID': '1',\n",
       "  'id': 15080,\n",
       "  'number': '011',\n",
       "  'title': \"i ' ve never been to me ( hits of the 80s : the ultimate collection )\",\n",
       "  'length': '04:00',\n",
       "  'artist': 'chrlene',\n",
       "  'album': 'hits of the 80s : the ultimate collection',\n",
       "  'year': '2006',\n",
       "  'language': ''},\n",
       " {'TID': '17910',\n",
       "  'CID': 5099,\n",
       "  'CTID': '4',\n",
       "  'SourceID': '5',\n",
       "  'id': 17909,\n",
       "  'number': '5612990',\n",
       "  'title': '11',\n",
       "  'length': \"I've Never Been to Me\",\n",
       "  'artist': '240440',\n",
       "  'album': 'charlene',\n",
       "  'year': 'Hits of the 80s: The Ultimate Collection',\n",
       "  'language': '2006'})"
      ]
     },
     "metadata": {},
     "output_type": "display_data"
    },
    {
     "data": {
      "text/plain": [
       "(0.36968943,\n",
       " {'TID': '1819',\n",
       "  'CID': 966,\n",
       "  'CTID': '1',\n",
       "  'SourceID': '5',\n",
       "  'id': 1818,\n",
       "  'number': '9',\n",
       "  'title': 'barcarolleinfsharp , op . 60',\n",
       "  'length': '451586',\n",
       "  'artist': 'fryderykchopin',\n",
       "  'album': 'kefultimateresolutiondemonstra , editionno . 2',\n",
       "  'year': '2010',\n",
       "  'language': 'English'},\n",
       " {'TID': '9052',\n",
       "  'CID': 966,\n",
       "  'CTID': '2',\n",
       "  'SourceID': '1',\n",
       "  'id': 9051,\n",
       "  'number': '009',\n",
       "  'title': 'barcarolle in f sharp , op . 60 ( kef ultimate resolution demonstration disc , edition no . 2 )',\n",
       "  'length': '07:31',\n",
       "  'artist': 'fryderyk chopin',\n",
       "  'album': 'kef ultimate resolution demonstration disc , edition no . 2',\n",
       "  'year': '2010',\n",
       "  'language': ''})"
      ]
     },
     "metadata": {},
     "output_type": "display_data"
    },
    {
     "data": {
      "text/plain": [
       "(0.09819428,\n",
       " {'TID': '2905',\n",
       "  'CID': 2371,\n",
       "  'CTID': '2',\n",
       "  'SourceID': '3',\n",
       "  'id': 2904,\n",
       "  'number': '6',\n",
       "  'title': 'unnown',\n",
       "  'length': '4.4',\n",
       "  'artist': 'sorg uten tarer',\n",
       "  'album': '',\n",
       "  'year': \"'07\",\n",
       "  'language': 'English'},\n",
       " {'TID': '9261',\n",
       "  'CID': 2371,\n",
       "  'CTID': '3',\n",
       "  'SourceID': '4',\n",
       "  'id': 9260,\n",
       "  'number': '6',\n",
       "  'title': '006 - moonkissed eyes',\n",
       "  'length': '4m 24sec',\n",
       "  'artist': 'sorg uten tarer',\n",
       "  'album': 'moonsilver ( 2007 )',\n",
       "  'year': 'null',\n",
       "  'language': 'Eng.'})"
      ]
     },
     "metadata": {},
     "output_type": "display_data"
    },
    {
     "data": {
      "text/plain": [
       "(0.27951378,\n",
       " {'TID': '10134',\n",
       "  'CID': 5327,\n",
       "  'CTID': '3',\n",
       "  'SourceID': '2',\n",
       "  'id': 10133,\n",
       "  'number': '14',\n",
       "  'title': '[ unknown ] - action in the dusk',\n",
       "  'length': 'null',\n",
       "  'artist': '',\n",
       "  'album': 'gaewa neugdaeyi sigan',\n",
       "  'year': '',\n",
       "  'language': 'Korean'},\n",
       " {'TID': '17936',\n",
       "  'CID': 5327,\n",
       "  'CTID': '5',\n",
       "  'SourceID': '4',\n",
       "  'id': 17935,\n",
       "  'number': '14',\n",
       "  'title': '014 - action in the dusk',\n",
       "  'length': 'unknown',\n",
       "  'artist': '[ unknown ]',\n",
       "  'album': '( unknown )',\n",
       "  'year': 'null',\n",
       "  'language': 'Kor.'})"
      ]
     },
     "metadata": {},
     "output_type": "display_data"
    },
    {
     "data": {
      "text/plain": [
       "(0.42684764,\n",
       " {'TID': '2208',\n",
       "  'CID': 1154,\n",
       "  'CTID': '1',\n",
       "  'SourceID': '1',\n",
       "  'id': 2207,\n",
       "  'number': '020',\n",
       "  'title': 'space jerk ( promos 5 : kidz stuff )',\n",
       "  'length': '00:29',\n",
       "  'artist': 'kevin jarvis',\n",
       "  'album': 'promos 5 : kidz stuff',\n",
       "  'year': '',\n",
       "  'language': ''},\n",
       " {'TID': '14346',\n",
       "  'CID': 1154,\n",
       "  'CTID': '3',\n",
       "  'SourceID': '3',\n",
       "  'id': 14345,\n",
       "  'number': '20',\n",
       "  'title': 'nulll',\n",
       "  'length': '0.483',\n",
       "  'artist': 'evin jarvis',\n",
       "  'album': '',\n",
       "  'year': '',\n",
       "  'language': 'English'})"
      ]
     },
     "metadata": {},
     "output_type": "display_data"
    },
    {
     "data": {
      "text/plain": [
       "(0.39567196,\n",
       " {'TID': '8494',\n",
       "  'CID': 4390,\n",
       "  'CTID': '1',\n",
       "  'SourceID': '1',\n",
       "  'id': 8493,\n",
       "  'number': '9',\n",
       "  'title': 'one ton ( volunteered slavery )',\n",
       "  'length': '05:01',\n",
       "  'artist': 'rahsaan roland kirk',\n",
       "  'album': 'volunteered slavery',\n",
       "  'year': '2005',\n",
       "  'language': ''},\n",
       " {'TID': '19331',\n",
       "  'CID': 4390,\n",
       "  'CTID': '2',\n",
       "  'SourceID': '2',\n",
       "  'id': 19330,\n",
       "  'number': '7',\n",
       "  'title': 'rahsaan roland kirk - one ton',\n",
       "  'length': '301',\n",
       "  'artist': '',\n",
       "  'album': 'unknown',\n",
       "  'year': '05',\n",
       "  'language': 'English'})"
      ]
     },
     "metadata": {},
     "output_type": "display_data"
    },
    {
     "data": {
      "text/plain": [
       "(0.33611,\n",
       " {'TID': '2965',\n",
       "  'CID': 1544,\n",
       "  'CTID': '1',\n",
       "  'SourceID': '2',\n",
       "  'id': 2964,\n",
       "  'number': '8',\n",
       "  'title': 'darryl way - juliet',\n",
       "  'length': '247',\n",
       "  'artist': '',\n",
       "  'album': 'under the soft',\n",
       "  'year': '91',\n",
       "  'language': 'English'},\n",
       " {'TID': '18300',\n",
       "  'CID': 1544,\n",
       "  'CTID': '2',\n",
       "  'SourceID': '3',\n",
       "  'id': 18299,\n",
       "  'number': '8',\n",
       "  'title': '8',\n",
       "  'length': '4.117',\n",
       "  'artist': 'darryl way',\n",
       "  'album': '',\n",
       "  'year': \"'91\",\n",
       "  'language': 'English'})"
      ]
     },
     "metadata": {},
     "output_type": "display_data"
    },
    {
     "data": {
      "text/plain": [
       "(0.34793422,\n",
       " {'TID': '9364',\n",
       "  'CID': 901,\n",
       "  'CTID': '2',\n",
       "  'SourceID': '2',\n",
       "  'id': 9363,\n",
       "  'number': 'A5',\n",
       "  'title': 'du bian man li nai - marinanoxia',\n",
       "  'length': 'null',\n",
       "  'artist': '',\n",
       "  'album': \"oniyanzi sailing meng gong chang ' 87 live\",\n",
       "  'year': '87',\n",
       "  'language': 'Japanese'},\n",
       " {'TID': '16923',\n",
       "  'CID': 901,\n",
       "  'CTID': '4',\n",
       "  'SourceID': '4',\n",
       "  'id': 16922,\n",
       "  'number': 'A5',\n",
       "  'title': '0a5 -',\n",
       "  'length': 'unknown',\n",
       "  'artist': '',\n",
       "  'album': 'sailin 87 live ( 1987 )',\n",
       "  'year': 'null',\n",
       "  'language': 'Jap.'})"
      ]
     },
     "metadata": {},
     "output_type": "display_data"
    },
    {
     "data": {
      "text/plain": [
       "(0.4339402,\n",
       " {'TID': '1050',\n",
       "  'CID': 8798,\n",
       "  'CTID': '2',\n",
       "  'SourceID': '3',\n",
       "  'id': 1049,\n",
       "  'number': '27',\n",
       "  'title': 'r . i . p . ( millie ) - the essential',\n",
       "  'length': '4.583',\n",
       "  'artist': 'noiseworks',\n",
       "  'album': '',\n",
       "  'year': '',\n",
       "  'language': 'English'},\n",
       " {'TID': '17095',\n",
       "  'CID': 8798,\n",
       "  'CTID': '1',\n",
       "  'SourceID': '2',\n",
       "  'id': 17094,\n",
       "  'number': '16',\n",
       "  'title': 'noiseworks - r . i . p . ( millie )',\n",
       "  'length': '275',\n",
       "  'artist': '',\n",
       "  'album': 'the essential',\n",
       "  'year': '',\n",
       "  'language': 'English'})"
      ]
     },
     "metadata": {},
     "output_type": "display_data"
    }
   ],
   "source": [
    "for (id_left, id_right) in false_negatives[:10]:\n",
    "    display(\n",
    "        (\n",
    "            cos_similarity(test_vector_dict[id_left], test_vector_dict[id_right]),\n",
    "            row_dict[id_left], row_dict[id_right]\n",
    "        )\n",
    "    )"
   ]
  }
 ],
 "metadata": {
  "kernelspec": {
   "display_name": "Python 3",
   "language": "python",
   "name": "python3"
  },
  "language_info": {
   "codemirror_mode": {
    "name": "ipython",
    "version": 3
   },
   "file_extension": ".py",
   "mimetype": "text/x-python",
   "name": "python",
   "nbconvert_exporter": "python",
   "pygments_lexer": "ipython3",
   "version": "3.8.6"
  }
 },
 "nbformat": 4,
 "nbformat_minor": 4
}
