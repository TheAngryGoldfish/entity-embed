{
 "cells": [
  {
   "cell_type": "markdown",
   "metadata": {},
   "source": [
    "**TODO**\n",
    "- Properly handle empty attributes"
   ]
  },
  {
   "cell_type": "markdown",
   "metadata": {},
   "source": [
    "## Load Dataset"
   ]
  },
  {
   "cell_type": "code",
   "execution_count": 1,
   "metadata": {},
   "outputs": [],
   "source": [
    "%load_ext autoreload\n",
    "%autoreload 2"
   ]
  },
  {
   "cell_type": "code",
   "execution_count": 2,
   "metadata": {},
   "outputs": [],
   "source": [
    "import sys\n",
    "\n",
    "sys.path.insert(0, '..')"
   ]
  },
  {
   "cell_type": "code",
   "execution_count": 3,
   "metadata": {},
   "outputs": [],
   "source": [
    "# TODO: import here, conflict with libgomp from pytorch\n",
    "from n2 import HnswIndex\n",
    "import os"
   ]
  },
  {
   "cell_type": "code",
   "execution_count": 4,
   "metadata": {},
   "outputs": [],
   "source": [
    "import os\n",
    "home_dir = os.getenv('HOME')"
   ]
  },
  {
   "cell_type": "markdown",
   "metadata": {},
   "source": [
    "https://dbs.uni-leipzig.de/research/projects/object_matching/benchmark_datasets_for_entity_resolution\n",
    "\n",
    "https://www.informatik.uni-leipzig.de/~saeedi/musicBrainz_readme.txt"
   ]
  },
  {
   "cell_type": "markdown",
   "metadata": {},
   "source": [
    "```\n",
    "5 sources\n",
    "---------- \n",
    "TID: a unique record's id (in the complete dataset).\n",
    "CID: cluster id (records having the same CID are duplicate)\n",
    "CTID: a unique id within a cluster (if two records belong to the same cluster they will have the same CID but different CTIDs). These ids (CTID) start with 1 and grow until cluster size.\n",
    "SourceID: identifies to which source a record belongs (there are five sources). The sources are deduplicated.\n",
    "Id: the original id from the source. Each source has its own Id-Format. Uniqueness is not guaranteed!! (can be ignored).\n",
    "number: track or song number in the album.\n",
    "length: the length of the track.\n",
    "artist: the interpreter (artist or band) of the track.\n",
    "year: date of publication.\n",
    "language: language of the track.\n",
    "```"
   ]
  },
  {
   "cell_type": "code",
   "execution_count": 5,
   "metadata": {},
   "outputs": [
    {
     "name": "stderr",
     "output_type": "stream",
     "text": [
      "100%|██████████| 19375/19375 [00:00<00:00, 174523.21it/s]\n"
     ]
    }
   ],
   "source": [
    "import glob\n",
    "import csv\n",
    "import tqdm\n",
    "\n",
    "current_row_id = 0\n",
    "row_dict = {}\n",
    "rows_total = 19375\n",
    "cluster_id_attr = 'CID'\n",
    "\n",
    "with tqdm.tqdm(total=rows_total) as pbar:\n",
    "    for filename in glob.glob(f'{home_dir}/Downloads/musicbrainz-20-A01.csv.dapo'):\n",
    "        with open(filename) as f:\n",
    "            for row in csv.DictReader(f):\n",
    "                row['id'] = current_row_id\n",
    "                row[cluster_id_attr] = int(row[cluster_id_attr])  # convert cluster_id_attr to int\n",
    "                row_dict[current_row_id] = row\n",
    "                current_row_id += 1\n",
    "                pbar.update(1)"
   ]
  },
  {
   "cell_type": "code",
   "execution_count": 6,
   "metadata": {},
   "outputs": [
    {
     "data": {
      "text/plain": [
       "{'TID': '2',\n",
       " 'CID': 2512,\n",
       " 'CTID': '5',\n",
       " 'SourceID': '4',\n",
       " 'id': 1,\n",
       " 'number': '7',\n",
       " 'title': '007',\n",
       " 'length': '1m 58sec',\n",
       " 'artist': '[unknown]',\n",
       " 'album': 'Cantigas de roda (unknown)',\n",
       " 'year': 'null',\n",
       " 'language': 'Por.'}"
      ]
     },
     "execution_count": 6,
     "metadata": {},
     "output_type": "execute_result"
    }
   ],
   "source": [
    "row_dict[1]"
   ]
  },
  {
   "cell_type": "markdown",
   "metadata": {},
   "source": [
    "## Preprocess"
   ]
  },
  {
   "cell_type": "code",
   "execution_count": 7,
   "metadata": {},
   "outputs": [],
   "source": [
    "attr_list = ['title', 'artist', 'album']"
   ]
  },
  {
   "cell_type": "code",
   "execution_count": 8,
   "metadata": {},
   "outputs": [],
   "source": [
    "import unidecode\n",
    "from entity_embed.data_utils.one_hot_encoders import default_tokenizer\n",
    "\n",
    "def clean_str(s):\n",
    "    s = unidecode.unidecode(s).lower().strip()\n",
    "    return ' '.join(s_part[:30] for s_part in default_tokenizer(s))[:100]\n",
    "\n",
    "for row in row_dict.values():\n",
    "    for attr in attr_list:\n",
    "        row[attr] = clean_str(row[attr])"
   ]
  },
  {
   "cell_type": "code",
   "execution_count": 9,
   "metadata": {
    "scrolled": true
   },
   "outputs": [
    {
     "data": {
      "text/plain": [
       "10000"
      ]
     },
     "execution_count": 9,
     "metadata": {},
     "output_type": "execute_result"
    }
   ],
   "source": [
    "len(set(r[cluster_id_attr] for r in row_dict.values()))"
   ]
  },
  {
   "cell_type": "code",
   "execution_count": 10,
   "metadata": {},
   "outputs": [],
   "source": [
    "row_list = list(row_dict.values())\n",
    "row_list.sort(key=lambda row: (row[cluster_id_attr]))"
   ]
  },
  {
   "cell_type": "code",
   "execution_count": 11,
   "metadata": {},
   "outputs": [
    {
     "data": {
      "text/plain": [
       "16250"
      ]
     },
     "execution_count": 11,
     "metadata": {},
     "output_type": "execute_result"
    }
   ],
   "source": [
    "from ordered_set import OrderedSet  # ensure reproducibility\n",
    "import itertools\n",
    "\n",
    "true_pair_set = OrderedSet(\n",
    "    tuple(sorted((row_left['id'], row_right['id'])))\n",
    "    for __, row_cluster_list in itertools.groupby(row_list, key=lambda row: row[cluster_id_attr])\n",
    "    for row_left, row_right in itertools.combinations(row_cluster_list, 2)\n",
    ")\n",
    "len(true_pair_set)"
   ]
  },
  {
   "cell_type": "code",
   "execution_count": 12,
   "metadata": {},
   "outputs": [
    {
     "data": {
      "text/plain": [
       "[{'TID': '1',\n",
       "  'CID': 1,\n",
       "  'CTID': '1',\n",
       "  'SourceID': '2',\n",
       "  'id': 0,\n",
       "  'number': '9',\n",
       "  'title': \"daniel balavoine - l ' enfant aux yeux d ' italie\",\n",
       "  'length': '219',\n",
       "  'artist': '',\n",
       "  'album': 'de vous a elle en passant par moi',\n",
       "  'year': '75',\n",
       "  'language': 'French'},\n",
       " {'TID': '15184',\n",
       "  'CID': 1,\n",
       "  'CTID': '2',\n",
       "  'SourceID': '3',\n",
       "  'id': 15183,\n",
       "  'number': '9',\n",
       "  'title': \"l ' enfant aux yeux d ' italie - de vous a elle en passant par moi\",\n",
       "  'length': '3.663',\n",
       "  'artist': 'daniel balavoine',\n",
       "  'album': '',\n",
       "  'year': \"'75\",\n",
       "  'language': 'French'}]"
      ]
     },
     "execution_count": 12,
     "metadata": {},
     "output_type": "execute_result"
    }
   ],
   "source": [
    "[row_dict[id_] for id_ in next(iter(true_pair_set))]"
   ]
  },
  {
   "cell_type": "code",
   "execution_count": 13,
   "metadata": {},
   "outputs": [],
   "source": [
    "from entity_embed.evaluation import precision_and_recall"
   ]
  },
  {
   "cell_type": "markdown",
   "metadata": {},
   "source": [
    "## Get Pairs"
   ]
  },
  {
   "cell_type": "code",
   "execution_count": 14,
   "metadata": {},
   "outputs": [],
   "source": [
    "import random\n",
    "\n",
    "random_seed = 42\n",
    "random.seed(random_seed)"
   ]
  },
  {
   "cell_type": "code",
   "execution_count": 15,
   "metadata": {},
   "outputs": [
    {
     "data": {
      "text/plain": [
       "16250"
      ]
     },
     "execution_count": 15,
     "metadata": {},
     "output_type": "execute_result"
    }
   ],
   "source": [
    "len(true_pair_set)"
   ]
  },
  {
   "cell_type": "code",
   "execution_count": 16,
   "metadata": {},
   "outputs": [
    {
     "name": "stdout",
     "output_type": "stream",
     "text": [
      "5000\n",
      "11250\n"
     ]
    }
   ],
   "source": [
    "import random\n",
    "\n",
    "train_len = 5_000\n",
    "train_pair_set = OrderedSet(random.sample(true_pair_set, train_len))\n",
    "valid_pair_set = true_pair_set - train_pair_set\n",
    "\n",
    "print(len(train_pair_set))\n",
    "print(len(valid_pair_set))"
   ]
  },
  {
   "cell_type": "code",
   "execution_count": 17,
   "metadata": {},
   "outputs": [
    {
     "data": {
      "text/plain": [
       "7582"
      ]
     },
     "execution_count": 17,
     "metadata": {},
     "output_type": "execute_result"
    }
   ],
   "source": [
    "train_id_list = OrderedSet(id_ for pair in train_pair_set for id_ in pair)\n",
    "len(train_id_list)"
   ]
  },
  {
   "cell_type": "code",
   "execution_count": 18,
   "metadata": {},
   "outputs": [
    {
     "data": {
      "text/plain": [
       "7582"
      ]
     },
     "execution_count": 18,
     "metadata": {},
     "output_type": "execute_result"
    }
   ],
   "source": [
    "train_row_dict = {id_: row_dict[id_] for id_ in train_id_list}\n",
    "len(train_row_dict)"
   ]
  },
  {
   "cell_type": "code",
   "execution_count": 19,
   "metadata": {},
   "outputs": [
    {
     "data": {
      "text/plain": [
       "12381"
      ]
     },
     "execution_count": 19,
     "metadata": {},
     "output_type": "execute_result"
    }
   ],
   "source": [
    "valid_id_list = OrderedSet(id_ for pair in valid_pair_set for id_ in pair)\n",
    "len(valid_id_list)"
   ]
  },
  {
   "cell_type": "code",
   "execution_count": 20,
   "metadata": {
    "scrolled": true
   },
   "outputs": [
    {
     "data": {
      "text/plain": [
       "12381"
      ]
     },
     "execution_count": 20,
     "metadata": {},
     "output_type": "execute_result"
    }
   ],
   "source": [
    "valid_row_dict = {id_: row_dict[id_] for id_ in valid_id_list}\n",
    "len(valid_row_dict)"
   ]
  },
  {
   "cell_type": "markdown",
   "metadata": {},
   "source": [
    "## Training"
   ]
  },
  {
   "cell_type": "code",
   "execution_count": 21,
   "metadata": {},
   "outputs": [],
   "source": [
    "import torch\n",
    "import numpy as np"
   ]
  },
  {
   "cell_type": "code",
   "execution_count": 22,
   "metadata": {},
   "outputs": [],
   "source": [
    "torch.manual_seed(random_seed)\n",
    "np.random.seed(random_seed)"
   ]
  },
  {
   "cell_type": "code",
   "execution_count": 23,
   "metadata": {},
   "outputs": [],
   "source": [
    "alphabet = list('0123456789abcdefghijklmnopqrstuvwxyz!\"#$%&\\'()*+,-./:;<=>?@[\\\\]^_`{|}~ ')"
   ]
  },
  {
   "cell_type": "code",
   "execution_count": 24,
   "metadata": {},
   "outputs": [],
   "source": [
    "# TODO: support multiple attrs for same source attr\n",
    "\n",
    "attr_info_dict = {\n",
    "    'title': {\n",
    "        'is_multitoken': True,\n",
    "        'tokenizer': default_tokenizer,\n",
    "        'alphabet': alphabet,\n",
    "        'max_str_len': None,  # compute\n",
    "    },\n",
    "    'artist': {\n",
    "        'is_multitoken': True,\n",
    "        'tokenizer': default_tokenizer,\n",
    "        'alphabet': alphabet,\n",
    "        'max_str_len': None,  # compute\n",
    "    },\n",
    "    'album': {\n",
    "        'is_multitoken': True,\n",
    "        'tokenizer': default_tokenizer,\n",
    "        'alphabet': alphabet,\n",
    "        'max_str_len': None,  # compute\n",
    "    }\n",
    "}"
   ]
  },
  {
   "cell_type": "code",
   "execution_count": 25,
   "metadata": {},
   "outputs": [],
   "source": [
    "from entity_embed import EntityEmbed\n",
    "\n",
    "model = EntityEmbed(\n",
    "    attr_info_dict=attr_info_dict,\n",
    "    row_dict=row_dict\n",
    ")"
   ]
  },
  {
   "cell_type": "code",
   "execution_count": 26,
   "metadata": {},
   "outputs": [
    {
     "data": {
      "text/plain": [
       "{'title': OneHotEncodingInfo(is_multitoken=True, tokenizer=<function default_tokenizer at 0x7f6bc3390160>, alphabet=['0', '1', '2', '3', '4', '5', '6', '7', '8', '9', 'a', 'b', 'c', 'd', 'e', 'f', 'g', 'h', 'i', 'j', 'k', 'l', 'm', 'n', 'o', 'p', 'q', 'r', 's', 't', 'u', 'v', 'w', 'x', 'y', 'z', '!', '\"', '#', '$', '%', '&', \"'\", '(', ')', '*', '+', ',', '-', '.', '/', ':', ';', '<', '=', '>', '?', '@', '[', '\\\\', ']', '^', '_', '`', '{', '|', '}', '~', ' '], max_str_len=30),\n",
       " 'artist': OneHotEncodingInfo(is_multitoken=True, tokenizer=<function default_tokenizer at 0x7f6bc3390160>, alphabet=['0', '1', '2', '3', '4', '5', '6', '7', '8', '9', 'a', 'b', 'c', 'd', 'e', 'f', 'g', 'h', 'i', 'j', 'k', 'l', 'm', 'n', 'o', 'p', 'q', 'r', 's', 't', 'u', 'v', 'w', 'x', 'y', 'z', '!', '\"', '#', '$', '%', '&', \"'\", '(', ')', '*', '+', ',', '-', '.', '/', ':', ';', '<', '=', '>', '?', '@', '[', '\\\\', ']', '^', '_', '`', '{', '|', '}', '~', ' '], max_str_len=30),\n",
       " 'album': OneHotEncodingInfo(is_multitoken=True, tokenizer=<function default_tokenizer at 0x7f6bc3390160>, alphabet=['0', '1', '2', '3', '4', '5', '6', '7', '8', '9', 'a', 'b', 'c', 'd', 'e', 'f', 'g', 'h', 'i', 'j', 'k', 'l', 'm', 'n', 'o', 'p', 'q', 'r', 's', 't', 'u', 'v', 'w', 'x', 'y', 'z', '!', '\"', '#', '$', '%', '&', \"'\", '(', ')', '*', '+', ',', '-', '.', '/', ':', ';', '<', '=', '>', '?', '@', '[', '\\\\', ']', '^', '_', '`', '{', '|', '}', '~', ' '], max_str_len=30)}"
      ]
     },
     "execution_count": 26,
     "metadata": {},
     "output_type": "execute_result"
    }
   ],
   "source": [
    "model.attr_info_dict"
   ]
  },
  {
   "cell_type": "code",
   "execution_count": 27,
   "metadata": {},
   "outputs": [],
   "source": [
    "epochs = 10"
   ]
  },
  {
   "cell_type": "code",
   "execution_count": 28,
   "metadata": {
    "scrolled": true
   },
   "outputs": [
    {
     "name": "stderr",
     "output_type": "stream",
     "text": [
      "# Train Epoch:   0 Time: 14.005 Loss: 0.263:  10%|█         | 178/1780 [00:14<02:05, 12.81it/s]"
     ]
    },
    {
     "name": "stdout",
     "output_type": "stream",
     "text": [
      "[('title', tensor(0.3527, device='cuda:0')), ('artist', tensor(0.3054, device='cuda:0')), ('album', tensor(0.3419, device='cuda:0'))]\n"
     ]
    },
    {
     "name": "stderr",
     "output_type": "stream",
     "text": [
      "# Train Epoch:   1 Time: 13.756 Loss: 0.067:  20%|██        | 356/1780 [00:27<01:49, 13.02it/s]"
     ]
    },
    {
     "name": "stdout",
     "output_type": "stream",
     "text": [
      "[('title', tensor(0.3554, device='cuda:0')), ('artist', tensor(0.3004, device='cuda:0')), ('album', tensor(0.3442, device='cuda:0'))]\n"
     ]
    },
    {
     "name": "stderr",
     "output_type": "stream",
     "text": [
      "# Train Epoch:   2 Time: 14.037 Loss: 0.033:  30%|███       | 534/1780 [00:41<01:35, 13.08it/s]"
     ]
    },
    {
     "name": "stdout",
     "output_type": "stream",
     "text": [
      "[('title', tensor(0.3572, device='cuda:0')), ('artist', tensor(0.3017, device='cuda:0')), ('album', tensor(0.3411, device='cuda:0'))]\n"
     ]
    },
    {
     "name": "stderr",
     "output_type": "stream",
     "text": [
      "# Train Epoch:   3 Time: 13.974 Loss: 0.021:  40%|████      | 712/1780 [00:55<01:26, 12.35it/s]"
     ]
    },
    {
     "name": "stdout",
     "output_type": "stream",
     "text": [
      "[('title', tensor(0.3599, device='cuda:0')), ('artist', tensor(0.2993, device='cuda:0')), ('album', tensor(0.3408, device='cuda:0'))]\n"
     ]
    },
    {
     "name": "stderr",
     "output_type": "stream",
     "text": [
      "# Train Epoch:   4 Time: 14.032 Loss: 0.017:  50%|█████     | 890/1780 [01:10<01:06, 13.35it/s]"
     ]
    },
    {
     "name": "stdout",
     "output_type": "stream",
     "text": [
      "[('title', tensor(0.3630, device='cuda:0')), ('artist', tensor(0.2967, device='cuda:0')), ('album', tensor(0.3403, device='cuda:0'))]\n"
     ]
    },
    {
     "name": "stderr",
     "output_type": "stream",
     "text": [
      "# Train Epoch:   5 Time: 13.780 Loss: 0.015:  60%|██████    | 1068/1780 [01:23<00:53, 13.34it/s]"
     ]
    },
    {
     "name": "stdout",
     "output_type": "stream",
     "text": [
      "[('title', tensor(0.3639, device='cuda:0')), ('artist', tensor(0.2935, device='cuda:0')), ('album', tensor(0.3426, device='cuda:0'))]\n"
     ]
    },
    {
     "name": "stderr",
     "output_type": "stream",
     "text": [
      "# Train Epoch:   6 Time: 13.936 Loss: 0.014:  70%|███████   | 1246/1780 [01:37<00:41, 12.84it/s]"
     ]
    },
    {
     "name": "stdout",
     "output_type": "stream",
     "text": [
      "[('title', tensor(0.3659, device='cuda:0')), ('artist', tensor(0.2896, device='cuda:0')), ('album', tensor(0.3445, device='cuda:0'))]\n"
     ]
    },
    {
     "name": "stderr",
     "output_type": "stream",
     "text": [
      "# Train Epoch:   7 Time: 13.842 Loss: 0.013:  80%|████████  | 1424/1780 [01:51<00:27, 12.71it/s]"
     ]
    },
    {
     "name": "stdout",
     "output_type": "stream",
     "text": [
      "[('title', tensor(0.3678, device='cuda:0')), ('artist', tensor(0.2886, device='cuda:0')), ('album', tensor(0.3436, device='cuda:0'))]\n"
     ]
    },
    {
     "name": "stderr",
     "output_type": "stream",
     "text": [
      "# Train Epoch:   8 Time: 13.999 Loss: 0.013:  90%|█████████ | 1602/1780 [02:05<00:13, 13.22it/s]"
     ]
    },
    {
     "name": "stdout",
     "output_type": "stream",
     "text": [
      "[('title', tensor(0.3696, device='cuda:0')), ('artist', tensor(0.2884, device='cuda:0')), ('album', tensor(0.3420, device='cuda:0'))]\n"
     ]
    },
    {
     "name": "stderr",
     "output_type": "stream",
     "text": [
      "# Train Epoch:   9 Time: 13.832 Loss: 0.012: 100%|██████████| 1780/1780 [02:19<00:00, 12.72it/s]"
     ]
    },
    {
     "name": "stdout",
     "output_type": "stream",
     "text": [
      "[('title', tensor(0.3730, device='cuda:0')), ('artist', tensor(0.2829, device='cuda:0')), ('album', tensor(0.3441, device='cuda:0'))]\n"
     ]
    },
    {
     "name": "stderr",
     "output_type": "stream",
     "text": [
      "\n"
     ]
    }
   ],
   "source": [
    "model.train(\n",
    "    epochs=epochs,\n",
    "    train_row_dict=train_row_dict,\n",
    "    cluster_id_attr=cluster_id_attr,\n",
    "    pos_pair_batch_size=45,\n",
    "    neg_pair_batch_size=1225,\n",
    "    random_seed=random_seed\n",
    ")"
   ]
  },
  {
   "cell_type": "code",
   "execution_count": 29,
   "metadata": {},
   "outputs": [],
   "source": [
    "# torch.save(model, \"music_model.torch\")"
   ]
  },
  {
   "cell_type": "code",
   "execution_count": 30,
   "metadata": {},
   "outputs": [],
   "source": [
    "# model = torch.load(\"music_model.torch\")"
   ]
  },
  {
   "cell_type": "code",
   "execution_count": 31,
   "metadata": {
    "scrolled": false
   },
   "outputs": [
    {
     "name": "stderr",
     "output_type": "stream",
     "text": [
      "# batch embedding: 100%|██████████| 194/194 [00:05<00:00, 36.07it/s]\n"
     ]
    }
   ],
   "source": [
    "valid_vector_list = model.evaluate(\n",
    "    row_dict=valid_row_dict,\n",
    "    batch_size=64)"
   ]
  },
  {
   "cell_type": "code",
   "execution_count": 32,
   "metadata": {},
   "outputs": [],
   "source": [
    "valid_id_to_index = {id_: index for index, id_ in enumerate(valid_id_list)}"
   ]
  },
  {
   "cell_type": "code",
   "execution_count": 33,
   "metadata": {},
   "outputs": [
    {
     "name": "stdout",
     "output_type": "stream",
     "text": [
      "CPU times: user 4.48 s, sys: 25.8 ms, total: 4.51 s\n",
      "Wall time: 524 ms\n"
     ]
    }
   ],
   "source": [
    "%%time\n",
    "\n",
    "ef_construction = 150\n",
    "M = 64\n",
    "metric = 'angular'\n",
    "\n",
    "# https://github.com/nmslib/hnswlib/blob/master/ALGO_PARAMS.md#construction-parameters\n",
    "approx_knn_index = HnswIndex(dimension=valid_vector_list[0].shape[0], metric=metric)\n",
    "for valid_vector in valid_vector_list:\n",
    "    approx_knn_index.add_data(valid_vector)\n",
    "\n",
    "approx_knn_index.build(    \n",
    "    m=M,\n",
    "    max_m0=M,\n",
    "    ef_construction=ef_construction,\n",
    "    n_threads=os.cpu_count(),\n",
    ")"
   ]
  },
  {
   "cell_type": "code",
   "execution_count": 34,
   "metadata": {},
   "outputs": [
    {
     "name": "stdout",
     "output_type": "stream",
     "text": [
      "CPU times: user 8.04 s, sys: 5.24 ms, total: 8.04 s\n",
      "Wall time: 735 ms\n"
     ]
    }
   ],
   "source": [
    "%%time\n",
    "\n",
    "ntop = 10\n",
    "\n",
    "neighbor_distance_list = approx_knn_index.batch_search_by_ids(\n",
    "    item_ids=list(range(len(valid_vector_list))),\n",
    "    k=ntop,\n",
    "    ef_search=-1,\n",
    "    num_threads=os.cpu_count(),\n",
    "    include_distances=True\n",
    ")"
   ]
  },
  {
   "cell_type": "code",
   "execution_count": 35,
   "metadata": {
    "scrolled": false
   },
   "outputs": [
    {
     "data": {
      "text/plain": [
       "[(0, 0.0),\n",
       " (1, 0.18714380264282227),\n",
       " (7562, 0.5210917592048645),\n",
       " (7561, 0.5268628597259521),\n",
       " (1475, 0.5302277207374573),\n",
       " (1474, 0.5445627570152283),\n",
       " (6979, 0.5527433753013611),\n",
       " (1332, 0.5741868019104004),\n",
       " (6240, 0.5771656632423401),\n",
       " (6899, 0.578498125076294)]"
      ]
     },
     "execution_count": 35,
     "metadata": {},
     "output_type": "execute_result"
    }
   ],
   "source": [
    "neighbor_distance_list[0]"
   ]
  },
  {
   "cell_type": "code",
   "execution_count": 36,
   "metadata": {},
   "outputs": [],
   "source": [
    "threshold = 0.5\n",
    "distance_threshold = 1 - threshold"
   ]
  },
  {
   "cell_type": "code",
   "execution_count": 37,
   "metadata": {
    "scrolled": true
   },
   "outputs": [
    {
     "data": {
      "text/plain": [
       "[{'TID': '1',\n",
       "  'CID': 1,\n",
       "  'CTID': '1',\n",
       "  'SourceID': '2',\n",
       "  'id': 0,\n",
       "  'number': '9',\n",
       "  'title': \"daniel balavoine - l ' enfant aux yeux d ' italie\",\n",
       "  'length': '219',\n",
       "  'artist': '',\n",
       "  'album': 'de vous a elle en passant par moi',\n",
       "  'year': '75',\n",
       "  'language': 'French'},\n",
       " {'TID': '15184',\n",
       "  'CID': 1,\n",
       "  'CTID': '2',\n",
       "  'SourceID': '3',\n",
       "  'id': 15183,\n",
       "  'number': '9',\n",
       "  'title': \"l ' enfant aux yeux d ' italie - de vous a elle en passant par moi\",\n",
       "  'length': '3.663',\n",
       "  'artist': 'daniel balavoine',\n",
       "  'album': '',\n",
       "  'year': \"'75\",\n",
       "  'language': 'French'}]"
      ]
     },
     "execution_count": 37,
     "metadata": {},
     "output_type": "execute_result"
    }
   ],
   "source": [
    "[row_dict[valid_id_list[neighbor]] for neighbor, distance in neighbor_distance_list[0] if distance <= distance_threshold]"
   ]
  },
  {
   "cell_type": "code",
   "execution_count": 38,
   "metadata": {},
   "outputs": [
    {
     "name": "stderr",
     "output_type": "stream",
     "text": [
      "<ipython-input-38-89dae2ab332b>:3: TqdmDeprecationWarning: This function will be removed in tqdm==5.0.0\n",
      "Please use `tqdm.notebook.tqdm` instead of `tqdm.tqdm_notebook`\n",
      "  for i, neighbor_distance in tqdm.tqdm_notebook(enumerate(neighbor_distance_list), total=len(neighbor_distance_list)):\n"
     ]
    },
    {
     "data": {
      "application/vnd.jupyter.widget-view+json": {
       "model_id": "988a14739b7345edbc51ee66c6cf94a2",
       "version_major": 2,
       "version_minor": 0
      },
      "text/plain": [
       "HBox(children=(HTML(value=''), FloatProgress(value=0.0, max=12381.0), HTML(value='')))"
      ]
     },
     "metadata": {},
     "output_type": "display_data"
    },
    {
     "name": "stdout",
     "output_type": "stream",
     "text": [
      "\n"
     ]
    },
    {
     "data": {
      "text/plain": [
       "27252"
      ]
     },
     "execution_count": 38,
     "metadata": {},
     "output_type": "execute_result"
    }
   ],
   "source": [
    "found_pair_set = set()\n",
    "\n",
    "for i, neighbor_distance in tqdm.tqdm_notebook(enumerate(neighbor_distance_list), total=len(neighbor_distance_list)):\n",
    "    for j, distance in neighbor_distance:\n",
    "        if i != j and distance <= distance_threshold:\n",
    "            pair = tuple(sorted([valid_id_list[i], valid_id_list[j]]))\n",
    "            found_pair_set.add(pair)\n",
    "\n",
    "len(found_pair_set)"
   ]
  },
  {
   "cell_type": "code",
   "execution_count": 39,
   "metadata": {},
   "outputs": [
    {
     "data": {
      "text/plain": [
       "2.20111461109765"
      ]
     },
     "execution_count": 39,
     "metadata": {},
     "output_type": "execute_result"
    }
   ],
   "source": [
    "def pe_ratio(found_pair_set, valid_id_list):\n",
    "    return len(found_pair_set) / len(valid_id_list)\n",
    "\n",
    "pe_ratio(found_pair_set, valid_id_list)"
   ]
  },
  {
   "cell_type": "code",
   "execution_count": 40,
   "metadata": {},
   "outputs": [
    {
     "data": {
      "text/plain": [
       "(0.4077498899163364, 0.9877333333333334)"
      ]
     },
     "execution_count": 40,
     "metadata": {},
     "output_type": "execute_result"
    }
   ],
   "source": [
    "precision_and_recall(found_pair_set, valid_pair_set)"
   ]
  },
  {
   "cell_type": "code",
   "execution_count": 41,
   "metadata": {},
   "outputs": [
    {
     "data": {
      "text/plain": [
       "16140"
      ]
     },
     "execution_count": 41,
     "metadata": {},
     "output_type": "execute_result"
    }
   ],
   "source": [
    "false_positives = list(found_pair_set - valid_pair_set)\n",
    "len(false_positives)"
   ]
  },
  {
   "cell_type": "code",
   "execution_count": 42,
   "metadata": {},
   "outputs": [
    {
     "data": {
      "text/plain": [
       "138"
      ]
     },
     "execution_count": 42,
     "metadata": {},
     "output_type": "execute_result"
    }
   ],
   "source": [
    "false_negatives = list(valid_pair_set - found_pair_set)\n",
    "len(false_negatives)"
   ]
  },
  {
   "cell_type": "code",
   "execution_count": 43,
   "metadata": {},
   "outputs": [],
   "source": [
    "cos_similarity = lambda a, b: np.dot(a, b)"
   ]
  },
  {
   "cell_type": "code",
   "execution_count": 44,
   "metadata": {},
   "outputs": [
    {
     "data": {
      "text/plain": [
       "(0.39653063,\n",
       " {'TID': '372',\n",
       "  'CID': 196,\n",
       "  'CTID': '1',\n",
       "  'SourceID': '2',\n",
       "  'id': 371,\n",
       "  'number': '24',\n",
       "  'title': 'ernesto tagliaferri - mandulinata a napoli',\n",
       "  'length': '175',\n",
       "  'artist': '',\n",
       "  'album': 'italian popular songs , volume 1',\n",
       "  'year': '',\n",
       "  'language': 'Itlaian'},\n",
       " {'TID': '7494',\n",
       "  'CID': 196,\n",
       "  'CTID': '2',\n",
       "  'SourceID': '3',\n",
       "  'id': 7493,\n",
       "  'number': '13',\n",
       "  'title': 'mandulinataanapoliitalianpopul , volume1',\n",
       "  'length': '2.924',\n",
       "  'artist': 'ernesto tagliaferri',\n",
       "  'album': '',\n",
       "  'year': '',\n",
       "  'language': 'Italian'})"
      ]
     },
     "metadata": {},
     "output_type": "display_data"
    },
    {
     "data": {
      "text/plain": [
       "(0.08300196,\n",
       " {'TID': '490',\n",
       "  'CID': 266,\n",
       "  'CTID': '1',\n",
       "  'SourceID': '3',\n",
       "  'id': 489,\n",
       "  'number': '5',\n",
       "  'title': 'onriman - sakurada zhan di ju ge yao quan ji',\n",
       "  'length': '5.715',\n",
       "  'artist': 'tachibanamaria',\n",
       "  'album': '',\n",
       "  'year': '',\n",
       "  'language': 'Japanese'},\n",
       " {'TID': '1355',\n",
       "  'CID': 266,\n",
       "  'CTID': '2',\n",
       "  'SourceID': '4',\n",
       "  'id': 1354,\n",
       "  'number': '5',\n",
       "  'title': '005 -',\n",
       "  'length': '5m 42sec',\n",
       "  'artist': '',\n",
       "  'album': '( unknown )',\n",
       "  'year': 'null',\n",
       "  'language': 'Jap.'})"
      ]
     },
     "metadata": {},
     "output_type": "display_data"
    },
    {
     "data": {
      "text/plain": [
       "(0.031204147,\n",
       " {'TID': '561',\n",
       "  'CID': 298,\n",
       "  'CTID': '1',\n",
       "  'SourceID': '3',\n",
       "  'id': 560,\n",
       "  'number': '6',\n",
       "  'title': \"prikhodi - zn @ menatel '\",\n",
       "  'length': '4.055',\n",
       "  'artist': 'splin',\n",
       "  'album': '',\n",
       "  'year': \"'00\",\n",
       "  'language': 'Russian'},\n",
       " {'TID': '2355',\n",
       "  'CID': 298,\n",
       "  'CTID': '2',\n",
       "  'SourceID': '4',\n",
       "  'id': 2354,\n",
       "  'number': '6',\n",
       "  'title': '006 -',\n",
       "  'length': '4m 3sec',\n",
       "  'artist': '',\n",
       "  'album': '@ ( 2000 )',\n",
       "  'year': 'null',\n",
       "  'language': 'Rus.'})"
      ]
     },
     "metadata": {},
     "output_type": "display_data"
    },
    {
     "data": {
      "text/plain": [
       "(-0.0875065,\n",
       " {'TID': '2355',\n",
       "  'CID': 298,\n",
       "  'CTID': '2',\n",
       "  'SourceID': '4',\n",
       "  'id': 2354,\n",
       "  'number': '6',\n",
       "  'title': '006 -',\n",
       "  'length': '4m 3sec',\n",
       "  'artist': '',\n",
       "  'album': '@ ( 2000 )',\n",
       "  'year': 'null',\n",
       "  'language': 'Rus.'},\n",
       " {'TID': '3390',\n",
       "  'CID': 298,\n",
       "  'CTID': '3',\n",
       "  'SourceID': '5',\n",
       "  'id': 3389,\n",
       "  'number': '6',\n",
       "  'title': 'prikhodi',\n",
       "  'length': '243293',\n",
       "  'artist': 'splin',\n",
       "  'album': \"zn @ menatel '\",\n",
       "  'year': '2000',\n",
       "  'language': 'Russian'})"
      ]
     },
     "metadata": {},
     "output_type": "display_data"
    },
    {
     "data": {
      "text/plain": [
       "(0.28250557,\n",
       " {'TID': '831',\n",
       "  'CID': 442,\n",
       "  'CTID': '1',\n",
       "  'SourceID': '3',\n",
       "  'id': 830,\n",
       "  'number': '13',\n",
       "  'title': '19841031',\n",
       "  'length': '8.667',\n",
       "  'artist': 'u2',\n",
       "  'album': '',\n",
       "  'year': '',\n",
       "  'language': 'English'},\n",
       " {'TID': '6047',\n",
       "  'CID': 442,\n",
       "  'CTID': '2',\n",
       "  'SourceID': '4',\n",
       "  'id': 6046,\n",
       "  'number': '13',\n",
       "  'title': '013 - bad',\n",
       "  'length': '8m 40sec',\n",
       "  'artist': 'u2',\n",
       "  'album': '1984 - 10 - 31 : sportpaleis ahoy , rotterdam , netherlands ( unknown )',\n",
       "  'year': 'null',\n",
       "  'language': 'nEg.'})"
      ]
     },
     "metadata": {},
     "output_type": "display_data"
    },
    {
     "data": {
      "text/plain": [
       "(0.35595816,\n",
       " {'TID': '831',\n",
       "  'CID': 442,\n",
       "  'CTID': '1',\n",
       "  'SourceID': '3',\n",
       "  'id': 830,\n",
       "  'number': '13',\n",
       "  'title': '19841031',\n",
       "  'length': '8.667',\n",
       "  'artist': 'u2',\n",
       "  'album': '',\n",
       "  'year': '',\n",
       "  'language': 'English'},\n",
       " {'TID': '11882',\n",
       "  'CID': 442,\n",
       "  'CTID': '3',\n",
       "  'SourceID': '5',\n",
       "  'id': 11881,\n",
       "  'number': '13',\n",
       "  'title': 'bad',\n",
       "  'length': '520000',\n",
       "  'artist': 'u2',\n",
       "  'album': '1984 - 10 - 31 : sportpaleis ahoy , rotterdam , netherlands',\n",
       "  'year': '',\n",
       "  'language': 'English'})"
      ]
     },
     "metadata": {},
     "output_type": "display_data"
    },
    {
     "data": {
      "text/plain": [
       "(0.28613654,\n",
       " {'TID': '831',\n",
       "  'CID': 442,\n",
       "  'CTID': '1',\n",
       "  'SourceID': '3',\n",
       "  'id': 830,\n",
       "  'number': '13',\n",
       "  'title': '19841031',\n",
       "  'length': '8.667',\n",
       "  'artist': 'u2',\n",
       "  'album': '',\n",
       "  'year': '',\n",
       "  'language': 'English'},\n",
       " {'TID': '18004',\n",
       "  'CID': 442,\n",
       "  'CTID': '4',\n",
       "  'SourceID': '1',\n",
       "  'id': 18003,\n",
       "  'number': '013',\n",
       "  'title': 'bad ( 1984 - 10 - 31 : sportpaleis ahoy , rotterdam , netherlands )',\n",
       "  'length': '08:40',\n",
       "  'artist': 'u2',\n",
       "  'album': '1984 - 10 - 31 : sportpaleis ahoy , rotterdam , netherlands',\n",
       "  'year': '',\n",
       "  'language': ''})"
      ]
     },
     "metadata": {},
     "output_type": "display_data"
    },
    {
     "data": {
      "text/plain": [
       "(-0.16045132,\n",
       " {'TID': '887',\n",
       "  'CID': 470,\n",
       "  'CTID': '1',\n",
       "  'SourceID': '1',\n",
       "  'id': 886,\n",
       "  'number': '006',\n",
       "  'title': \"sweet and slow ( guy ' s all - star shoe band )\",\n",
       "  'length': '03:04',\n",
       "  'artist': \"guy ' s all star shoe band\",\n",
       "  'album': \"guy ' s all - star shoe band\",\n",
       "  'year': '',\n",
       "  'language': ''},\n",
       " {'TID': '17706',\n",
       "  'CID': 470,\n",
       "  'CTID': '2',\n",
       "  'SourceID': '2',\n",
       "  'id': 17705,\n",
       "  'number': 'MBox10988814-HH',\n",
       "  'title': '6',\n",
       "  'length': \"Guy's All Star Shoe Band - Sweet and Slow\",\n",
       "  'artist': '1184',\n",
       "  'album': '',\n",
       "  'year': \"Guy's All-Star Shoe Band\",\n",
       "  'language': ''})"
      ]
     },
     "metadata": {},
     "output_type": "display_data"
    },
    {
     "data": {
      "text/plain": [
       "(0.41244337,\n",
       " {'TID': '948',\n",
       "  'CID': 502,\n",
       "  'CTID': '1',\n",
       "  'SourceID': '3',\n",
       "  'id': 947,\n",
       "  'number': '16',\n",
       "  'title': \"let ' s get together - subarashikikonosekai original soundtrack\",\n",
       "  'length': '0.267',\n",
       "  'artist': 'shi yuan zhang qing',\n",
       "  'album': '',\n",
       "  'year': \"'07\",\n",
       "  'language': 'Japanese'},\n",
       " {'TID': '7146',\n",
       "  'CID': 502,\n",
       "  'CTID': '2',\n",
       "  'SourceID': '4',\n",
       "  'id': 7145,\n",
       "  'number': '16',\n",
       "  'title': '',\n",
       "  'length': '0m 16sec',\n",
       "  'artist': '',\n",
       "  'album': 'soundtrack',\n",
       "  'year': 'null',\n",
       "  'language': 'Jap.'})"
      ]
     },
     "metadata": {},
     "output_type": "display_data"
    },
    {
     "data": {
      "text/plain": [
       "(0.39290592,\n",
       " {'TID': '984',\n",
       "  'CID': 521,\n",
       "  'CTID': '1',\n",
       "  'SourceID': '2',\n",
       "  'id': 983,\n",
       "  'number': '11',\n",
       "  'title': \"al martino - you ' re the love of my life\",\n",
       "  'length': '178',\n",
       "  'artist': '',\n",
       "  'album': 'best of jose carreras gala',\n",
       "  'year': '04',\n",
       "  'language': '[Multiple languages]'},\n",
       " {'TID': '2803',\n",
       "  'CID': 521,\n",
       "  'CTID': '2',\n",
       "  'SourceID': '3',\n",
       "  'id': 2802,\n",
       "  'number': '11',\n",
       "  'title': \"you ' re\",\n",
       "  'length': '2.967',\n",
       "  'artist': 'al martino',\n",
       "  'album': '',\n",
       "  'year': \"'04\",\n",
       "  'language': ''})"
      ]
     },
     "metadata": {},
     "output_type": "display_data"
    }
   ],
   "source": [
    "for (id_left, id_right) in false_negatives[:10]:\n",
    "    i = valid_id_to_index[id_left]\n",
    "    j = valid_id_to_index[id_right]\n",
    "    display((cos_similarity(valid_vector_list[i], valid_vector_list[j]), row_dict[id_left], row_dict[id_right]))"
   ]
  }
 ],
 "metadata": {
  "kernelspec": {
   "display_name": "Python 3",
   "language": "python",
   "name": "python3"
  },
  "language_info": {
   "codemirror_mode": {
    "name": "ipython",
    "version": 3
   },
   "file_extension": ".py",
   "mimetype": "text/x-python",
   "name": "python",
   "nbconvert_exporter": "python",
   "pygments_lexer": "ipython3",
   "version": "3.8.6"
  }
 },
 "nbformat": 4,
 "nbformat_minor": 4
}
