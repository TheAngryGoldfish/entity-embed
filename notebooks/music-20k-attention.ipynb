{
 "cells": [
  {
   "cell_type": "markdown",
   "metadata": {},
   "source": [
    "## Load Dataset"
   ]
  },
  {
   "cell_type": "code",
   "execution_count": 1,
   "metadata": {},
   "outputs": [],
   "source": [
    "%load_ext autoreload\n",
    "%autoreload 2"
   ]
  },
  {
   "cell_type": "code",
   "execution_count": 2,
   "metadata": {},
   "outputs": [],
   "source": [
    "from importlib import reload\n",
    "import logging\n",
    "reload(logging)\n",
    "logging.basicConfig(format='%(asctime)s %(levelname)s:%(message)s', level=logging.INFO, datefmt='%H:%M:%S')"
   ]
  },
  {
   "cell_type": "code",
   "execution_count": 3,
   "metadata": {},
   "outputs": [],
   "source": [
    "# libgomp issue, must import n2 before torch\n",
    "from n2 import HnswIndex"
   ]
  },
  {
   "cell_type": "code",
   "execution_count": 4,
   "metadata": {},
   "outputs": [],
   "source": [
    "import sys\n",
    "\n",
    "sys.path.insert(0, '..')"
   ]
  },
  {
   "cell_type": "code",
   "execution_count": 5,
   "metadata": {},
   "outputs": [],
   "source": [
    "import os\n",
    "home_dir = os.getenv('HOME')"
   ]
  },
  {
   "cell_type": "markdown",
   "metadata": {},
   "source": [
    "https://dbs.uni-leipzig.de/research/projects/object_matching/benchmark_datasets_for_entity_resolution\n",
    "\n",
    "https://www.informatik.uni-leipzig.de/~saeedi/musicBrainz_readme.txt"
   ]
  },
  {
   "cell_type": "markdown",
   "metadata": {},
   "source": [
    "```\n",
    "5 sources\n",
    "---------- \n",
    "TID: a unique record's id (in the complete dataset).\n",
    "CID: cluster id (records having the same CID are duplicate)\n",
    "CTID: a unique id within a cluster (if two records belong to the same cluster they will have the same CID but different CTIDs). These ids (CTID) start with 1 and grow until cluster size.\n",
    "SourceID: identifies to which source a record belongs (there are five sources). The sources are deduplicated.\n",
    "Id: the original id from the source. Each source has its own Id-Format. Uniqueness is not guaranteed!! (can be ignored).\n",
    "number: track or song number in the album.\n",
    "length: the length of the track.\n",
    "artist: the interpreter (artist or band) of the track.\n",
    "year: date of publication.\n",
    "language: language of the track.\n",
    "```"
   ]
  },
  {
   "cell_type": "code",
   "execution_count": 6,
   "metadata": {},
   "outputs": [
    {
     "data": {
      "application/vnd.jupyter.widget-view+json": {
       "model_id": "5b324e86178246888ec40da1fefba792",
       "version_major": 2,
       "version_minor": 0
      },
      "text/plain": [
       "HBox(children=(HTML(value=''), FloatProgress(value=0.0, max=19375.0), HTML(value='')))"
      ]
     },
     "metadata": {},
     "output_type": "display_data"
    },
    {
     "name": "stdout",
     "output_type": "stream",
     "text": [
      "\n"
     ]
    }
   ],
   "source": [
    "import glob\n",
    "import csv\n",
    "from tqdm.auto import tqdm\n",
    "\n",
    "current_row_id = 0\n",
    "row_dict = {}\n",
    "rows_total = 19375\n",
    "clusters_total = 10000\n",
    "cluster_attr = 'CID'\n",
    "\n",
    "with tqdm(total=rows_total) as pbar:\n",
    "    for filename in glob.glob(f'{home_dir}/Downloads/musicbrainz-20-A01.csv.dapo'):\n",
    "        with open(filename) as f:\n",
    "            for row in csv.DictReader(f):\n",
    "                row['id'] = current_row_id\n",
    "                row[cluster_attr] = int(row[cluster_attr])  # convert cluster_attr to int\n",
    "                row_dict[current_row_id] = row\n",
    "                current_row_id += 1\n",
    "                pbar.update(1)"
   ]
  },
  {
   "cell_type": "code",
   "execution_count": 7,
   "metadata": {},
   "outputs": [
    {
     "data": {
      "text/plain": [
       "{'TID': '2',\n",
       " 'CID': 2512,\n",
       " 'CTID': '5',\n",
       " 'SourceID': '4',\n",
       " 'id': 1,\n",
       " 'number': '7',\n",
       " 'title': '007',\n",
       " 'length': '1m 58sec',\n",
       " 'artist': '[unknown]',\n",
       " 'album': 'Cantigas de roda (unknown)',\n",
       " 'year': 'null',\n",
       " 'language': 'Por.'}"
      ]
     },
     "execution_count": 7,
     "metadata": {},
     "output_type": "execute_result"
    }
   ],
   "source": [
    "row_dict[1]"
   ]
  },
  {
   "cell_type": "markdown",
   "metadata": {},
   "source": [
    "## Preprocess"
   ]
  },
  {
   "cell_type": "code",
   "execution_count": 8,
   "metadata": {},
   "outputs": [],
   "source": [
    "attr_list = ['title', 'artist', 'album']"
   ]
  },
  {
   "cell_type": "code",
   "execution_count": 9,
   "metadata": {},
   "outputs": [
    {
     "data": {
      "application/vnd.jupyter.widget-view+json": {
       "model_id": "d89998371ae54687b35b9e0cf009cf0b",
       "version_major": 2,
       "version_minor": 0
      },
      "text/plain": [
       "HBox(children=(HTML(value=''), FloatProgress(value=0.0, max=19375.0), HTML(value='')))"
      ]
     },
     "metadata": {},
     "output_type": "display_data"
    },
    {
     "name": "stdout",
     "output_type": "stream",
     "text": [
      "\n"
     ]
    }
   ],
   "source": [
    "import unidecode\n",
    "from entity_embed.data_utils.one_hot_encoders import default_tokenizer\n",
    "\n",
    "def clean_str(s):\n",
    "    s = unidecode.unidecode(s).lower().strip()\n",
    "    return ' '.join(s_part[:30] for s_part in default_tokenizer(s))[:100]\n",
    "\n",
    "for row in tqdm(row_dict.values()):\n",
    "    for attr in attr_list:\n",
    "        row[attr] = clean_str(row[attr])"
   ]
  },
  {
   "cell_type": "markdown",
   "metadata": {},
   "source": [
    "## Init Data Module"
   ]
  },
  {
   "cell_type": "code",
   "execution_count": 10,
   "metadata": {},
   "outputs": [],
   "source": [
    "import torch\n",
    "import numpy as np\n",
    "\n",
    "random_seed = 42\n",
    "torch.manual_seed(random_seed)\n",
    "np.random.seed(random_seed)"
   ]
  },
  {
   "cell_type": "code",
   "execution_count": 11,
   "metadata": {},
   "outputs": [],
   "source": [
    "alphabet = list('0123456789abcdefghijklmnopqrstuvwxyz!\"#$%&\\'()*+,-./:;<=>?@[\\\\]^_`{|}~ ')"
   ]
  },
  {
   "cell_type": "code",
   "execution_count": 12,
   "metadata": {},
   "outputs": [],
   "source": [
    "attr_info_dict = {\n",
    "    'title': {\n",
    "        'is_multitoken': True,\n",
    "        'tokenizer': default_tokenizer,\n",
    "        'alphabet': alphabet,\n",
    "        'max_str_len': None,  # compute\n",
    "    },\n",
    "    'artist': {\n",
    "        'is_multitoken': True,\n",
    "        'tokenizer': default_tokenizer,\n",
    "        'alphabet': alphabet,\n",
    "        'max_str_len': None,  # compute\n",
    "    },\n",
    "    'album': {\n",
    "        'is_multitoken': True,\n",
    "        'tokenizer': default_tokenizer,\n",
    "        'alphabet': alphabet,\n",
    "        'max_str_len': None,  # compute\n",
    "    }\n",
    "}"
   ]
  },
  {
   "cell_type": "code",
   "execution_count": 13,
   "metadata": {},
   "outputs": [
    {
     "name": "stderr",
     "output_type": "stream",
     "text": [
      "23:47:31 INFO:For attr='title', computing actual alphabet and max_str_len\n",
      "23:47:31 INFO:For attr='title', using actual_max_str_len=30\n",
      "23:47:31 INFO:For attr='artist', computing actual alphabet and max_str_len\n",
      "23:47:31 INFO:For attr='artist', using actual_max_str_len=30\n",
      "23:47:31 INFO:For attr='album', computing actual alphabet and max_str_len\n",
      "23:47:32 INFO:For attr='album', using actual_max_str_len=30\n"
     ]
    },
    {
     "data": {
      "text/plain": [
       "{'title': OneHotEncodingInfo(is_multitoken=True, tokenizer=<function default_tokenizer at 0x7fbd9ba341f0>, alphabet=['0', '1', '2', '3', '4', '5', '6', '7', '8', '9', 'a', 'b', 'c', 'd', 'e', 'f', 'g', 'h', 'i', 'j', 'k', 'l', 'm', 'n', 'o', 'p', 'q', 'r', 's', 't', 'u', 'v', 'w', 'x', 'y', 'z', '!', '\"', '#', '$', '%', '&', \"'\", '(', ')', '*', '+', ',', '-', '.', '/', ':', ';', '<', '=', '>', '?', '@', '[', '\\\\', ']', '^', '_', '`', '{', '|', '}', '~', ' '], max_str_len=30),\n",
       " 'artist': OneHotEncodingInfo(is_multitoken=True, tokenizer=<function default_tokenizer at 0x7fbd9ba341f0>, alphabet=['0', '1', '2', '3', '4', '5', '6', '7', '8', '9', 'a', 'b', 'c', 'd', 'e', 'f', 'g', 'h', 'i', 'j', 'k', 'l', 'm', 'n', 'o', 'p', 'q', 'r', 's', 't', 'u', 'v', 'w', 'x', 'y', 'z', '!', '\"', '#', '$', '%', '&', \"'\", '(', ')', '*', '+', ',', '-', '.', '/', ':', ';', '<', '=', '>', '?', '@', '[', '\\\\', ']', '^', '_', '`', '{', '|', '}', '~', ' '], max_str_len=30),\n",
       " 'album': OneHotEncodingInfo(is_multitoken=True, tokenizer=<function default_tokenizer at 0x7fbd9ba341f0>, alphabet=['0', '1', '2', '3', '4', '5', '6', '7', '8', '9', 'a', 'b', 'c', 'd', 'e', 'f', 'g', 'h', 'i', 'j', 'k', 'l', 'm', 'n', 'o', 'p', 'q', 'r', 's', 't', 'u', 'v', 'w', 'x', 'y', 'z', '!', '\"', '#', '$', '%', '&', \"'\", '(', ')', '*', '+', ',', '-', '.', '/', ':', ';', '<', '=', '>', '?', '@', '[', '\\\\', ']', '^', '_', '`', '{', '|', '}', '~', ' '], max_str_len=30)}"
      ]
     },
     "execution_count": 13,
     "metadata": {},
     "output_type": "execute_result"
    }
   ],
   "source": [
    "from entity_embed import build_row_encoder\n",
    "\n",
    "row_encoder = build_row_encoder(attr_info_dict, row_dict=row_dict)\n",
    "row_encoder.attr_info_dict"
   ]
  },
  {
   "cell_type": "code",
   "execution_count": 14,
   "metadata": {},
   "outputs": [],
   "source": [
    "from entity_embed import EntityEmbedDataModule\n",
    "\n",
    "train_cluster_len = 1500\n",
    "valid_cluster_len = 2500\n",
    "datamodule = EntityEmbedDataModule(\n",
    "    row_dict=row_dict,\n",
    "    cluster_attr=cluster_attr,\n",
    "    row_encoder=row_encoder,\n",
    "    pos_pair_batch_size=45,\n",
    "    neg_pair_batch_size=1225,\n",
    "    row_batch_size=16,\n",
    "    train_cluster_len=train_cluster_len,\n",
    "    valid_cluster_len=valid_cluster_len,\n",
    "    test_cluster_len=clusters_total - valid_cluster_len - train_cluster_len,\n",
    "    only_plural_clusters=True,\n",
    "    log_empty_vals=False,\n",
    "    random_seed=random_seed\n",
    ")"
   ]
  },
  {
   "cell_type": "markdown",
   "metadata": {},
   "source": [
    "## Training"
   ]
  },
  {
   "cell_type": "code",
   "execution_count": 15,
   "metadata": {},
   "outputs": [],
   "source": [
    "from entity_embed import LitEntityEmbed\n",
    "\n",
    "model = LitEntityEmbed(\n",
    "    datamodule,\n",
    "    ann_k=10,\n",
    "    sim_threshold=0.5,\n",
    ")"
   ]
  },
  {
   "cell_type": "code",
   "execution_count": 16,
   "metadata": {
    "scrolled": false
   },
   "outputs": [
    {
     "name": "stderr",
     "output_type": "stream",
     "text": [
      "23:47:32 INFO:GPU available: True, used: True\n",
      "23:47:32 INFO:TPU available: None, using: 0 TPU cores\n",
      "23:47:32 INFO:LOCAL_RANK: 0 - CUDA_VISIBLE_DEVICES: [0]\n"
     ]
    }
   ],
   "source": [
    "import pytorch_lightning as pl\n",
    "from pytorch_lightning.callbacks.early_stopping import EarlyStopping\n",
    "from pytorch_lightning.loggers import TensorBoardLogger\n",
    "\n",
    "max_epochs = 50\n",
    "early_stop_callback = EarlyStopping(\n",
    "   monitor='valid_recall',\n",
    "   min_delta=0.00,\n",
    "   patience=10,\n",
    "   verbose=True,\n",
    "   mode='max'\n",
    ")\n",
    "tb_log_dir = 'tb_logs'\n",
    "tb_name = 'music'\n",
    "trainer = pl.Trainer(\n",
    "    gpus=1,\n",
    "    max_epochs=max_epochs,\n",
    "    check_val_every_n_epoch=1,\n",
    "    callbacks=[early_stop_callback],\n",
    "    logger=TensorBoardLogger(tb_log_dir, name=tb_name)\n",
    ")"
   ]
  },
  {
   "cell_type": "code",
   "execution_count": 17,
   "metadata": {},
   "outputs": [
    {
     "name": "stderr",
     "output_type": "stream",
     "text": [
      "23:47:32 INFO:Train pair count: 4883\n",
      "23:47:32 INFO:Valid pair count: 8092\n",
      "23:47:32 INFO:Test pair count: 3275\n",
      "23:47:34 INFO:\n",
      "  | Name        | Type           | Params\n",
      "-----------------------------------------------\n",
      "0 | blocker_net | BlockerNet     | 3.4 M \n",
      "1 | losser      | NTXentLoss     | 0     \n",
      "2 | miner       | BatchHardMiner | 0     \n",
      "-----------------------------------------------\n",
      "3.4 M     Trainable params\n",
      "0         Non-trainable params\n",
      "3.4 M     Total params\n"
     ]
    },
    {
     "data": {
      "application/vnd.jupyter.widget-view+json": {
       "model_id": "",
       "version_major": 2,
       "version_minor": 0
      },
      "text/plain": [
       "HBox(children=(HTML(value='Validation sanity check'), FloatProgress(value=1.0, bar_style='info', layout=Layout…"
      ]
     },
     "metadata": {},
     "output_type": "display_data"
    },
    {
     "data": {
      "application/vnd.jupyter.widget-view+json": {
       "model_id": "81f95ecaf4694e1fb3b297f0760a018d",
       "version_major": 2,
       "version_minor": 0
      },
      "text/plain": [
       "HBox(children=(HTML(value='Training'), FloatProgress(value=1.0, bar_style='info', layout=Layout(flex='2'), max…"
      ]
     },
     "metadata": {},
     "output_type": "display_data"
    },
    {
     "data": {
      "application/vnd.jupyter.widget-view+json": {
       "model_id": "",
       "version_major": 2,
       "version_minor": 0
      },
      "text/plain": [
       "HBox(children=(HTML(value='Validating'), FloatProgress(value=1.0, bar_style='info', layout=Layout(flex='2'), m…"
      ]
     },
     "metadata": {},
     "output_type": "display_data"
    },
    {
     "data": {
      "application/vnd.jupyter.widget-view+json": {
       "model_id": "",
       "version_major": 2,
       "version_minor": 0
      },
      "text/plain": [
       "HBox(children=(HTML(value='Validating'), FloatProgress(value=1.0, bar_style='info', layout=Layout(flex='2'), m…"
      ]
     },
     "metadata": {},
     "output_type": "display_data"
    },
    {
     "data": {
      "application/vnd.jupyter.widget-view+json": {
       "model_id": "",
       "version_major": 2,
       "version_minor": 0
      },
      "text/plain": [
       "HBox(children=(HTML(value='Validating'), FloatProgress(value=1.0, bar_style='info', layout=Layout(flex='2'), m…"
      ]
     },
     "metadata": {},
     "output_type": "display_data"
    },
    {
     "data": {
      "application/vnd.jupyter.widget-view+json": {
       "model_id": "",
       "version_major": 2,
       "version_minor": 0
      },
      "text/plain": [
       "HBox(children=(HTML(value='Validating'), FloatProgress(value=1.0, bar_style='info', layout=Layout(flex='2'), m…"
      ]
     },
     "metadata": {},
     "output_type": "display_data"
    },
    {
     "data": {
      "application/vnd.jupyter.widget-view+json": {
       "model_id": "",
       "version_major": 2,
       "version_minor": 0
      },
      "text/plain": [
       "HBox(children=(HTML(value='Validating'), FloatProgress(value=1.0, bar_style='info', layout=Layout(flex='2'), m…"
      ]
     },
     "metadata": {},
     "output_type": "display_data"
    },
    {
     "data": {
      "application/vnd.jupyter.widget-view+json": {
       "model_id": "",
       "version_major": 2,
       "version_minor": 0
      },
      "text/plain": [
       "HBox(children=(HTML(value='Validating'), FloatProgress(value=1.0, bar_style='info', layout=Layout(flex='2'), m…"
      ]
     },
     "metadata": {},
     "output_type": "display_data"
    },
    {
     "data": {
      "application/vnd.jupyter.widget-view+json": {
       "model_id": "",
       "version_major": 2,
       "version_minor": 0
      },
      "text/plain": [
       "HBox(children=(HTML(value='Validating'), FloatProgress(value=1.0, bar_style='info', layout=Layout(flex='2'), m…"
      ]
     },
     "metadata": {},
     "output_type": "display_data"
    },
    {
     "data": {
      "application/vnd.jupyter.widget-view+json": {
       "model_id": "",
       "version_major": 2,
       "version_minor": 0
      },
      "text/plain": [
       "HBox(children=(HTML(value='Validating'), FloatProgress(value=1.0, bar_style='info', layout=Layout(flex='2'), m…"
      ]
     },
     "metadata": {},
     "output_type": "display_data"
    },
    {
     "data": {
      "application/vnd.jupyter.widget-view+json": {
       "model_id": "",
       "version_major": 2,
       "version_minor": 0
      },
      "text/plain": [
       "HBox(children=(HTML(value='Validating'), FloatProgress(value=1.0, bar_style='info', layout=Layout(flex='2'), m…"
      ]
     },
     "metadata": {},
     "output_type": "display_data"
    },
    {
     "data": {
      "application/vnd.jupyter.widget-view+json": {
       "model_id": "",
       "version_major": 2,
       "version_minor": 0
      },
      "text/plain": [
       "HBox(children=(HTML(value='Validating'), FloatProgress(value=1.0, bar_style='info', layout=Layout(flex='2'), m…"
      ]
     },
     "metadata": {},
     "output_type": "display_data"
    },
    {
     "data": {
      "application/vnd.jupyter.widget-view+json": {
       "model_id": "",
       "version_major": 2,
       "version_minor": 0
      },
      "text/plain": [
       "HBox(children=(HTML(value='Validating'), FloatProgress(value=1.0, bar_style='info', layout=Layout(flex='2'), m…"
      ]
     },
     "metadata": {},
     "output_type": "display_data"
    },
    {
     "data": {
      "application/vnd.jupyter.widget-view+json": {
       "model_id": "",
       "version_major": 2,
       "version_minor": 0
      },
      "text/plain": [
       "HBox(children=(HTML(value='Validating'), FloatProgress(value=1.0, bar_style='info', layout=Layout(flex='2'), m…"
      ]
     },
     "metadata": {},
     "output_type": "display_data"
    },
    {
     "data": {
      "application/vnd.jupyter.widget-view+json": {
       "model_id": "",
       "version_major": 2,
       "version_minor": 0
      },
      "text/plain": [
       "HBox(children=(HTML(value='Validating'), FloatProgress(value=1.0, bar_style='info', layout=Layout(flex='2'), m…"
      ]
     },
     "metadata": {},
     "output_type": "display_data"
    },
    {
     "data": {
      "application/vnd.jupyter.widget-view+json": {
       "model_id": "",
       "version_major": 2,
       "version_minor": 0
      },
      "text/plain": [
       "HBox(children=(HTML(value='Validating'), FloatProgress(value=1.0, bar_style='info', layout=Layout(flex='2'), m…"
      ]
     },
     "metadata": {},
     "output_type": "display_data"
    },
    {
     "data": {
      "application/vnd.jupyter.widget-view+json": {
       "model_id": "",
       "version_major": 2,
       "version_minor": 0
      },
      "text/plain": [
       "HBox(children=(HTML(value='Validating'), FloatProgress(value=1.0, bar_style='info', layout=Layout(flex='2'), m…"
      ]
     },
     "metadata": {},
     "output_type": "display_data"
    },
    {
     "data": {
      "application/vnd.jupyter.widget-view+json": {
       "model_id": "",
       "version_major": 2,
       "version_minor": 0
      },
      "text/plain": [
       "HBox(children=(HTML(value='Validating'), FloatProgress(value=1.0, bar_style='info', layout=Layout(flex='2'), m…"
      ]
     },
     "metadata": {},
     "output_type": "display_data"
    },
    {
     "data": {
      "application/vnd.jupyter.widget-view+json": {
       "model_id": "",
       "version_major": 2,
       "version_minor": 0
      },
      "text/plain": [
       "HBox(children=(HTML(value='Validating'), FloatProgress(value=1.0, bar_style='info', layout=Layout(flex='2'), m…"
      ]
     },
     "metadata": {},
     "output_type": "display_data"
    },
    {
     "data": {
      "application/vnd.jupyter.widget-view+json": {
       "model_id": "",
       "version_major": 2,
       "version_minor": 0
      },
      "text/plain": [
       "HBox(children=(HTML(value='Validating'), FloatProgress(value=1.0, bar_style='info', layout=Layout(flex='2'), m…"
      ]
     },
     "metadata": {},
     "output_type": "display_data"
    },
    {
     "data": {
      "application/vnd.jupyter.widget-view+json": {
       "model_id": "",
       "version_major": 2,
       "version_minor": 0
      },
      "text/plain": [
       "HBox(children=(HTML(value='Validating'), FloatProgress(value=1.0, bar_style='info', layout=Layout(flex='2'), m…"
      ]
     },
     "metadata": {},
     "output_type": "display_data"
    },
    {
     "data": {
      "application/vnd.jupyter.widget-view+json": {
       "model_id": "",
       "version_major": 2,
       "version_minor": 0
      },
      "text/plain": [
       "HBox(children=(HTML(value='Validating'), FloatProgress(value=1.0, bar_style='info', layout=Layout(flex='2'), m…"
      ]
     },
     "metadata": {},
     "output_type": "display_data"
    },
    {
     "name": "stdout",
     "output_type": "stream",
     "text": [
      "\n"
     ]
    },
    {
     "data": {
      "text/plain": [
       "1"
      ]
     },
     "execution_count": 17,
     "metadata": {},
     "output_type": "execute_result"
    }
   ],
   "source": [
    "trainer.fit(model, datamodule)"
   ]
  },
  {
   "cell_type": "code",
   "execution_count": 18,
   "metadata": {},
   "outputs": [
    {
     "data": {
      "text/plain": [
       "[('title', tensor(0.3681)),\n",
       " ('artist', tensor(0.2874)),\n",
       " ('album', tensor(0.3445))]"
      ]
     },
     "execution_count": 18,
     "metadata": {},
     "output_type": "execute_result"
    }
   ],
   "source": [
    "model._get_signature_weights()"
   ]
  },
  {
   "cell_type": "markdown",
   "metadata": {},
   "source": [
    "## Testing"
   ]
  },
  {
   "cell_type": "code",
   "execution_count": 19,
   "metadata": {},
   "outputs": [
    {
     "name": "stderr",
     "output_type": "stream",
     "text": [
      "23:54:03 INFO:Train pair count: 4883\n",
      "23:54:03 INFO:Valid pair count: 8092\n",
      "23:54:03 INFO:Test pair count: 3275\n"
     ]
    },
    {
     "data": {
      "application/vnd.jupyter.widget-view+json": {
       "model_id": "f2b77ae0bc4148449defe471cf228b4b",
       "version_major": 2,
       "version_minor": 0
      },
      "text/plain": [
       "HBox(children=(HTML(value='Testing'), FloatProgress(value=1.0, bar_style='info', layout=Layout(flex='2'), max=…"
      ]
     },
     "metadata": {},
     "output_type": "display_data"
    },
    {
     "name": "stdout",
     "output_type": "stream",
     "text": [
      "\n",
      "--------------------------------------------------------------------------------\n",
      "DATALOADER:0 TEST RESULTS\n",
      "{'test_f1': 0.9304952215464813,\n",
      " 'test_pair_entity_ratio': 1.2572714681440442,\n",
      " 'test_precision': 0.8848801982924814,\n",
      " 'test_recall': 0.9810687022900764}\n",
      "--------------------------------------------------------------------------------\n"
     ]
    },
    {
     "data": {
      "text/plain": [
       "[{'test_precision': 0.8848801982924814,\n",
       "  'test_recall': 0.9810687022900764,\n",
       "  'test_f1': 0.9304952215464813,\n",
       "  'test_pair_entity_ratio': 1.2572714681440442}]"
      ]
     },
     "execution_count": 19,
     "metadata": {},
     "output_type": "execute_result"
    }
   ],
   "source": [
    "trainer.test(ckpt_path='best', verbose=True)"
   ]
  },
  {
   "cell_type": "code",
   "execution_count": 20,
   "metadata": {},
   "outputs": [
    {
     "data": {
      "text/plain": [
       "15"
      ]
     },
     "execution_count": 20,
     "metadata": {},
     "output_type": "execute_result"
    }
   ],
   "source": [
    "import gc\n",
    "del trainer\n",
    "gc.collect()"
   ]
  },
  {
   "cell_type": "markdown",
   "metadata": {},
   "source": [
    "## Testing manually "
   ]
  },
  {
   "cell_type": "code",
   "execution_count": 21,
   "metadata": {},
   "outputs": [],
   "source": [
    "# Only call this if test above wasn't run\n",
    "# datamodule.setup(stage='test')"
   ]
  },
  {
   "cell_type": "code",
   "execution_count": 22,
   "metadata": {},
   "outputs": [
    {
     "data": {
      "application/vnd.jupyter.widget-view+json": {
       "model_id": "1131301d5fca4926932d2e0a017a68ce",
       "version_major": 2,
       "version_minor": 0
      },
      "text/plain": [
       "HBox(children=(HTML(value='# batch embedding'), FloatProgress(value=0.0, max=181.0), HTML(value='')))"
      ]
     },
     "metadata": {},
     "output_type": "display_data"
    },
    {
     "name": "stdout",
     "output_type": "stream",
     "text": [
      "\n"
     ]
    }
   ],
   "source": [
    "test_row_dict = datamodule.test_row_dict\n",
    "test_vector_dict = model.predict(\n",
    "    row_dict=test_row_dict,\n",
    "    row_encoder=row_encoder,\n",
    "    batch_size=16\n",
    ")"
   ]
  },
  {
   "cell_type": "code",
   "execution_count": 23,
   "metadata": {},
   "outputs": [],
   "source": [
    "embedding_size = model.blocker_net.embedding_size\n",
    "test_true_pair_set = datamodule.test_true_pair_set"
   ]
  },
  {
   "cell_type": "code",
   "execution_count": 24,
   "metadata": {},
   "outputs": [
    {
     "data": {
      "text/plain": [
       "1797"
      ]
     },
     "execution_count": 24,
     "metadata": {},
     "output_type": "execute_result"
    }
   ],
   "source": [
    "import gc\n",
    "del model\n",
    "del datamodule\n",
    "gc.collect()"
   ]
  },
  {
   "cell_type": "code",
   "execution_count": 25,
   "metadata": {},
   "outputs": [],
   "source": [
    "assert len(test_vector_dict) == len(test_row_dict)"
   ]
  },
  {
   "cell_type": "code",
   "execution_count": 29,
   "metadata": {
    "scrolled": true
   },
   "outputs": [
    {
     "name": "stdout",
     "output_type": "stream",
     "text": [
      "CPU times: user 644 ms, sys: 17.6 ms, total: 662 ms\n",
      "Wall time: 97 ms\n"
     ]
    }
   ],
   "source": [
    "%%time\n",
    "\n",
    "from entity_embed import ANNEntityIndex\n",
    "\n",
    "ann_index = ANNEntityIndex(embedding_size=embedding_size)\n",
    "ann_index.insert_vector_dict(test_vector_dict)\n",
    "ann_index.build()"
   ]
  },
  {
   "cell_type": "code",
   "execution_count": 30,
   "metadata": {},
   "outputs": [
    {
     "name": "stdout",
     "output_type": "stream",
     "text": [
      "CPU times: user 880 ms, sys: 0 ns, total: 880 ms\n",
      "Wall time: 78.9 ms\n"
     ]
    }
   ],
   "source": [
    "%%time\n",
    "\n",
    "ntop = 10\n",
    "sim_threshold = 0.5\n",
    "\n",
    "found_pair_set = ann_index.search_pairs(\n",
    "    k=ntop,\n",
    "    sim_threshold=sim_threshold\n",
    ")"
   ]
  },
  {
   "cell_type": "code",
   "execution_count": 31,
   "metadata": {},
   "outputs": [
    {
     "data": {
      "text/plain": [
       "1.2572714681440442"
      ]
     },
     "execution_count": 31,
     "metadata": {},
     "output_type": "execute_result"
    }
   ],
   "source": [
    "from entity_embed.evaluation import pair_entity_ratio\n",
    "\n",
    "pair_entity_ratio(len(found_pair_set), len(test_row_dict))"
   ]
  },
  {
   "cell_type": "code",
   "execution_count": 34,
   "metadata": {},
   "outputs": [
    {
     "data": {
      "text/plain": [
       "(0.8848801982924814, 0.9810687022900764)"
      ]
     },
     "execution_count": 34,
     "metadata": {},
     "output_type": "execute_result"
    }
   ],
   "source": [
    "from entity_embed.evaluation import precision_and_recall\n",
    "\n",
    "precision_and_recall(found_pair_set, test_true_pair_set)"
   ]
  },
  {
   "cell_type": "code",
   "execution_count": 35,
   "metadata": {},
   "outputs": [
    {
     "data": {
      "text/plain": [
       "418"
      ]
     },
     "execution_count": 35,
     "metadata": {},
     "output_type": "execute_result"
    }
   ],
   "source": [
    "false_positives = list(found_pair_set - test_true_pair_set)\n",
    "len(false_positives)"
   ]
  },
  {
   "cell_type": "code",
   "execution_count": 36,
   "metadata": {},
   "outputs": [
    {
     "data": {
      "text/plain": [
       "62"
      ]
     },
     "execution_count": 36,
     "metadata": {},
     "output_type": "execute_result"
    }
   ],
   "source": [
    "false_negatives = list(test_true_pair_set - found_pair_set)\n",
    "len(false_negatives)"
   ]
  },
  {
   "cell_type": "code",
   "execution_count": 37,
   "metadata": {},
   "outputs": [],
   "source": [
    "cos_similarity = lambda a, b: np.dot(a, b)"
   ]
  },
  {
   "cell_type": "code",
   "execution_count": 38,
   "metadata": {},
   "outputs": [
    {
     "data": {
      "text/plain": [
       "(0.46126333,\n",
       " {'TID': '3422',\n",
       "  'CID': 8904,\n",
       "  'CTID': '3',\n",
       "  'SourceID': '2',\n",
       "  'id': 3421,\n",
       "  'number': '1',\n",
       "  'title': 'null',\n",
       "  'length': '364',\n",
       "  'artist': '',\n",
       "  'album': 'untitled 2 / bad brother',\n",
       "  'year': '05',\n",
       "  'language': 'English'},\n",
       " {'TID': '12727',\n",
       "  'CID': 8904,\n",
       "  'CTID': '4',\n",
       "  'SourceID': '3',\n",
       "  'id': 12726,\n",
       "  'number': '1',\n",
       "  'title': 'untitled 2 - untitled 2 / bad brother',\n",
       "  'length': '6.067',\n",
       "  'artist': 'phrenetic',\n",
       "  'album': '',\n",
       "  'year': \"'05\",\n",
       "  'language': 'English'})"
      ]
     },
     "metadata": {},
     "output_type": "display_data"
    },
    {
     "data": {
      "text/plain": [
       "(-0.07373452,\n",
       " {'TID': '15081',\n",
       "  'CID': 5099,\n",
       "  'CTID': '5',\n",
       "  'SourceID': '1',\n",
       "  'id': 15080,\n",
       "  'number': '011',\n",
       "  'title': \"i ' ve never been to me ( hits of the 80s : the ultimate collection )\",\n",
       "  'length': '04:00',\n",
       "  'artist': 'chrlene',\n",
       "  'album': 'hits of the 80s : the ultimate collection',\n",
       "  'year': '2006',\n",
       "  'language': ''},\n",
       " {'TID': '17910',\n",
       "  'CID': 5099,\n",
       "  'CTID': '4',\n",
       "  'SourceID': '5',\n",
       "  'id': 17909,\n",
       "  'number': '5612990',\n",
       "  'title': '11',\n",
       "  'length': \"I've Never Been to Me\",\n",
       "  'artist': '240440',\n",
       "  'album': 'charlene',\n",
       "  'year': 'Hits of the 80s: The Ultimate Collection',\n",
       "  'language': '2006'})"
      ]
     },
     "metadata": {},
     "output_type": "display_data"
    },
    {
     "data": {
      "text/plain": [
       "(0.43381587,\n",
       " {'TID': '1819',\n",
       "  'CID': 966,\n",
       "  'CTID': '1',\n",
       "  'SourceID': '5',\n",
       "  'id': 1818,\n",
       "  'number': '9',\n",
       "  'title': 'barcarolleinfsharp , op . 60',\n",
       "  'length': '451586',\n",
       "  'artist': 'fryderykchopin',\n",
       "  'album': 'kefultimateresolutiondemonstra , editionno . 2',\n",
       "  'year': '2010',\n",
       "  'language': 'English'},\n",
       " {'TID': '9052',\n",
       "  'CID': 966,\n",
       "  'CTID': '2',\n",
       "  'SourceID': '1',\n",
       "  'id': 9051,\n",
       "  'number': '009',\n",
       "  'title': 'barcarolle in f sharp , op . 60 ( kef ultimate resolution demonstration disc , edition no . 2 )',\n",
       "  'length': '07:31',\n",
       "  'artist': 'fryderyk chopin',\n",
       "  'album': 'kef ultimate resolution demonstration disc , edition no . 2',\n",
       "  'year': '2010',\n",
       "  'language': ''})"
      ]
     },
     "metadata": {},
     "output_type": "display_data"
    },
    {
     "data": {
      "text/plain": [
       "(0.21707705,\n",
       " {'TID': '2905',\n",
       "  'CID': 2371,\n",
       "  'CTID': '2',\n",
       "  'SourceID': '3',\n",
       "  'id': 2904,\n",
       "  'number': '6',\n",
       "  'title': 'unnown',\n",
       "  'length': '4.4',\n",
       "  'artist': 'sorg uten tarer',\n",
       "  'album': '',\n",
       "  'year': \"'07\",\n",
       "  'language': 'English'},\n",
       " {'TID': '9261',\n",
       "  'CID': 2371,\n",
       "  'CTID': '3',\n",
       "  'SourceID': '4',\n",
       "  'id': 9260,\n",
       "  'number': '6',\n",
       "  'title': '006 - moonkissed eyes',\n",
       "  'length': '4m 24sec',\n",
       "  'artist': 'sorg uten tarer',\n",
       "  'album': 'moonsilver ( 2007 )',\n",
       "  'year': 'null',\n",
       "  'language': 'Eng.'})"
      ]
     },
     "metadata": {},
     "output_type": "display_data"
    },
    {
     "data": {
      "text/plain": [
       "(0.44169295,\n",
       " {'TID': '10134',\n",
       "  'CID': 5327,\n",
       "  'CTID': '3',\n",
       "  'SourceID': '2',\n",
       "  'id': 10133,\n",
       "  'number': '14',\n",
       "  'title': '[ unknown ] - action in the dusk',\n",
       "  'length': 'null',\n",
       "  'artist': '',\n",
       "  'album': 'gaewa neugdaeyi sigan',\n",
       "  'year': '',\n",
       "  'language': 'Korean'},\n",
       " {'TID': '17936',\n",
       "  'CID': 5327,\n",
       "  'CTID': '5',\n",
       "  'SourceID': '4',\n",
       "  'id': 17935,\n",
       "  'number': '14',\n",
       "  'title': '014 - action in the dusk',\n",
       "  'length': 'unknown',\n",
       "  'artist': '[ unknown ]',\n",
       "  'album': '( unknown )',\n",
       "  'year': 'null',\n",
       "  'language': 'Kor.'})"
      ]
     },
     "metadata": {},
     "output_type": "display_data"
    },
    {
     "data": {
      "text/plain": [
       "(0.45177728,\n",
       " {'TID': '8494',\n",
       "  'CID': 4390,\n",
       "  'CTID': '1',\n",
       "  'SourceID': '1',\n",
       "  'id': 8493,\n",
       "  'number': '9',\n",
       "  'title': 'one ton ( volunteered slavery )',\n",
       "  'length': '05:01',\n",
       "  'artist': 'rahsaan roland kirk',\n",
       "  'album': 'volunteered slavery',\n",
       "  'year': '2005',\n",
       "  'language': ''},\n",
       " {'TID': '19331',\n",
       "  'CID': 4390,\n",
       "  'CTID': '2',\n",
       "  'SourceID': '2',\n",
       "  'id': 19330,\n",
       "  'number': '7',\n",
       "  'title': 'rahsaan roland kirk - one ton',\n",
       "  'length': '301',\n",
       "  'artist': '',\n",
       "  'album': 'unknown',\n",
       "  'year': '05',\n",
       "  'language': 'English'})"
      ]
     },
     "metadata": {},
     "output_type": "display_data"
    },
    {
     "data": {
      "text/plain": [
       "(0.43118054,\n",
       " {'TID': '2965',\n",
       "  'CID': 1544,\n",
       "  'CTID': '1',\n",
       "  'SourceID': '2',\n",
       "  'id': 2964,\n",
       "  'number': '8',\n",
       "  'title': 'darryl way - juliet',\n",
       "  'length': '247',\n",
       "  'artist': '',\n",
       "  'album': 'under the soft',\n",
       "  'year': '91',\n",
       "  'language': 'English'},\n",
       " {'TID': '18300',\n",
       "  'CID': 1544,\n",
       "  'CTID': '2',\n",
       "  'SourceID': '3',\n",
       "  'id': 18299,\n",
       "  'number': '8',\n",
       "  'title': '8',\n",
       "  'length': '4.117',\n",
       "  'artist': 'darryl way',\n",
       "  'album': '',\n",
       "  'year': \"'91\",\n",
       "  'language': 'English'})"
      ]
     },
     "metadata": {},
     "output_type": "display_data"
    },
    {
     "data": {
      "text/plain": [
       "(0.30307016,\n",
       " {'TID': '9364',\n",
       "  'CID': 901,\n",
       "  'CTID': '2',\n",
       "  'SourceID': '2',\n",
       "  'id': 9363,\n",
       "  'number': 'A5',\n",
       "  'title': 'du bian man li nai - marinanoxia',\n",
       "  'length': 'null',\n",
       "  'artist': '',\n",
       "  'album': \"oniyanzi sailing meng gong chang ' 87 live\",\n",
       "  'year': '87',\n",
       "  'language': 'Japanese'},\n",
       " {'TID': '16923',\n",
       "  'CID': 901,\n",
       "  'CTID': '4',\n",
       "  'SourceID': '4',\n",
       "  'id': 16922,\n",
       "  'number': 'A5',\n",
       "  'title': '0a5 -',\n",
       "  'length': 'unknown',\n",
       "  'artist': '',\n",
       "  'album': 'sailin 87 live ( 1987 )',\n",
       "  'year': 'null',\n",
       "  'language': 'Jap.'})"
      ]
     },
     "metadata": {},
     "output_type": "display_data"
    },
    {
     "data": {
      "text/plain": [
       "(0.48468372,\n",
       " {'TID': '1050',\n",
       "  'CID': 8798,\n",
       "  'CTID': '2',\n",
       "  'SourceID': '3',\n",
       "  'id': 1049,\n",
       "  'number': '27',\n",
       "  'title': 'r . i . p . ( millie ) - the essential',\n",
       "  'length': '4.583',\n",
       "  'artist': 'noiseworks',\n",
       "  'album': '',\n",
       "  'year': '',\n",
       "  'language': 'English'},\n",
       " {'TID': '17095',\n",
       "  'CID': 8798,\n",
       "  'CTID': '1',\n",
       "  'SourceID': '2',\n",
       "  'id': 17094,\n",
       "  'number': '16',\n",
       "  'title': 'noiseworks - r . i . p . ( millie )',\n",
       "  'length': '275',\n",
       "  'artist': '',\n",
       "  'album': 'the essential',\n",
       "  'year': '',\n",
       "  'language': 'English'})"
      ]
     },
     "metadata": {},
     "output_type": "display_data"
    },
    {
     "data": {
      "text/plain": [
       "(0.20599172,\n",
       " {'TID': '895',\n",
       "  'CID': 2198,\n",
       "  'CTID': '2',\n",
       "  'SourceID': '3',\n",
       "  'id': 894,\n",
       "  'number': '4',\n",
       "  'title': 'the cn tower belongs to the dead ( many ives version ) - many lives - 49 mp',\n",
       "  'length': '5.467',\n",
       "  'artist': 'final fantasy',\n",
       "  'album': '',\n",
       "  'year': \"'06\",\n",
       "  'language': 'English'},\n",
       " {'TID': '4240',\n",
       "  'CID': 2198,\n",
       "  'CTID': '1',\n",
       "  'SourceID': '2',\n",
       "  'id': 4239,\n",
       "  'number': '4',\n",
       "  'title': 'n . a .',\n",
       "  'length': '328',\n",
       "  'artist': '',\n",
       "  'album': 'many lives - 49 mp',\n",
       "  'year': '06',\n",
       "  'language': 'English'})"
      ]
     },
     "metadata": {},
     "output_type": "display_data"
    }
   ],
   "source": [
    "for (id_left, id_right) in false_negatives[:10]:\n",
    "    display(\n",
    "        (\n",
    "            cos_similarity(test_vector_dict[id_left], test_vector_dict[id_right]),\n",
    "            row_dict[id_left], row_dict[id_right]\n",
    "        )\n",
    "    )"
   ]
  }
 ],
 "metadata": {
  "kernelspec": {
   "display_name": "Python 3",
   "language": "python",
   "name": "python3"
  },
  "language_info": {
   "codemirror_mode": {
    "name": "ipython",
    "version": 3
   },
   "file_extension": ".py",
   "mimetype": "text/x-python",
   "name": "python",
   "nbconvert_exporter": "python",
   "pygments_lexer": "ipython3",
   "version": "3.8.6"
  }
 },
 "nbformat": 4,
 "nbformat_minor": 4
}
