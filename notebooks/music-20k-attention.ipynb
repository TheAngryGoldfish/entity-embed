{
 "cells": [
  {
   "cell_type": "markdown",
   "metadata": {},
   "source": [
    "## Load Dataset"
   ]
  },
  {
   "cell_type": "code",
   "execution_count": 1,
   "metadata": {},
   "outputs": [],
   "source": [
    "%load_ext autoreload\n",
    "%autoreload 2"
   ]
  },
  {
   "cell_type": "code",
   "execution_count": 2,
   "metadata": {},
   "outputs": [],
   "source": [
    "from importlib import reload\n",
    "import logging\n",
    "reload(logging)\n",
    "logging.basicConfig(format='%(asctime)s %(levelname)s:%(message)s', level=logging.INFO, datefmt='%H:%M:%S')"
   ]
  },
  {
   "cell_type": "code",
   "execution_count": 3,
   "metadata": {},
   "outputs": [],
   "source": [
    "# libgomp issue, must import n2 before torch\n",
    "from n2 import HnswIndex"
   ]
  },
  {
   "cell_type": "code",
   "execution_count": 4,
   "metadata": {},
   "outputs": [],
   "source": [
    "import sys\n",
    "\n",
    "sys.path.insert(0, '..')"
   ]
  },
  {
   "cell_type": "code",
   "execution_count": 5,
   "metadata": {},
   "outputs": [],
   "source": [
    "import os\n",
    "home_dir = os.getenv('HOME')"
   ]
  },
  {
   "cell_type": "markdown",
   "metadata": {},
   "source": [
    "https://dbs.uni-leipzig.de/research/projects/object_matching/benchmark_datasets_for_entity_resolution\n",
    "\n",
    "https://www.informatik.uni-leipzig.de/~saeedi/musicBrainz_readme.txt"
   ]
  },
  {
   "cell_type": "markdown",
   "metadata": {},
   "source": [
    "```\n",
    "5 sources\n",
    "---------- \n",
    "TID: a unique record's id (in the complete dataset).\n",
    "CID: cluster id (records having the same CID are duplicate)\n",
    "CTID: a unique id within a cluster (if two records belong to the same cluster they will have the same CID but different CTIDs). These ids (CTID) start with 1 and grow until cluster size.\n",
    "SourceID: identifies to which source a record belongs (there are five sources). The sources are deduplicated.\n",
    "Id: the original id from the source. Each source has its own Id-Format. Uniqueness is not guaranteed!! (can be ignored).\n",
    "number: track or song number in the album.\n",
    "length: the length of the track.\n",
    "artist: the interpreter (artist or band) of the track.\n",
    "year: date of publication.\n",
    "language: language of the track.\n",
    "```"
   ]
  },
  {
   "cell_type": "code",
   "execution_count": 6,
   "metadata": {},
   "outputs": [
    {
     "name": "stderr",
     "output_type": "stream",
     "text": [
      "100%|██████████| 19375/19375 [00:00<00:00, 196132.69it/s]\n"
     ]
    }
   ],
   "source": [
    "import glob\n",
    "import csv\n",
    "import tqdm\n",
    "\n",
    "current_row_id = 0\n",
    "row_dict = {}\n",
    "rows_total = 19375\n",
    "cluster_attr = 'CID'\n",
    "\n",
    "with tqdm.tqdm(total=rows_total) as pbar:\n",
    "    for filename in glob.glob(f'{home_dir}/Downloads/musicbrainz-20-A01.csv.dapo'):\n",
    "        with open(filename) as f:\n",
    "            for row in csv.DictReader(f):\n",
    "                row['id'] = current_row_id\n",
    "                row[cluster_attr] = int(row[cluster_attr])  # convert cluster_attr to int\n",
    "                row_dict[current_row_id] = row\n",
    "                current_row_id += 1\n",
    "                pbar.update(1)"
   ]
  },
  {
   "cell_type": "code",
   "execution_count": 7,
   "metadata": {},
   "outputs": [
    {
     "data": {
      "text/plain": [
       "{'TID': '2',\n",
       " 'CID': 2512,\n",
       " 'CTID': '5',\n",
       " 'SourceID': '4',\n",
       " 'id': 1,\n",
       " 'number': '7',\n",
       " 'title': '007',\n",
       " 'length': '1m 58sec',\n",
       " 'artist': '[unknown]',\n",
       " 'album': 'Cantigas de roda (unknown)',\n",
       " 'year': 'null',\n",
       " 'language': 'Por.'}"
      ]
     },
     "execution_count": 7,
     "metadata": {},
     "output_type": "execute_result"
    }
   ],
   "source": [
    "row_dict[1]"
   ]
  },
  {
   "cell_type": "markdown",
   "metadata": {},
   "source": [
    "## Preprocess"
   ]
  },
  {
   "cell_type": "code",
   "execution_count": 8,
   "metadata": {},
   "outputs": [],
   "source": [
    "attr_list = ['title', 'artist', 'album']"
   ]
  },
  {
   "cell_type": "code",
   "execution_count": 9,
   "metadata": {},
   "outputs": [],
   "source": [
    "import unidecode\n",
    "from entity_embed.data_utils.one_hot_encoders import default_tokenizer\n",
    "\n",
    "def clean_str(s):\n",
    "    s = unidecode.unidecode(s).lower().strip()\n",
    "    return ' '.join(s_part[:30] for s_part in default_tokenizer(s))[:100]\n",
    "\n",
    "for row in row_dict.values():\n",
    "    for attr in attr_list:\n",
    "        row[attr] = clean_str(row[attr])"
   ]
  },
  {
   "cell_type": "markdown",
   "metadata": {},
   "source": [
    "## Get Pairs"
   ]
  },
  {
   "cell_type": "code",
   "execution_count": 10,
   "metadata": {},
   "outputs": [],
   "source": [
    "import torch\n",
    "import numpy as np\n",
    "\n",
    "random_seed = 42\n",
    "torch.manual_seed(random_seed)\n",
    "np.random.seed(random_seed)"
   ]
  },
  {
   "cell_type": "code",
   "execution_count": 11,
   "metadata": {
    "scrolled": true
   },
   "outputs": [
    {
     "data": {
      "text/plain": [
       "10000"
      ]
     },
     "execution_count": 11,
     "metadata": {},
     "output_type": "execute_result"
    }
   ],
   "source": [
    "from entity_embed.data_utils.utils import row_dict_to_cluster_dict\n",
    "\n",
    "cluster_dict = row_dict_to_cluster_dict(row_dict, cluster_attr)\n",
    "len(cluster_dict)"
   ]
  },
  {
   "cell_type": "code",
   "execution_count": 12,
   "metadata": {},
   "outputs": [
    {
     "data": {
      "text/plain": [
       "1500"
      ]
     },
     "metadata": {},
     "output_type": "display_data"
    },
    {
     "data": {
      "text/plain": [
       "2000"
      ]
     },
     "metadata": {},
     "output_type": "display_data"
    },
    {
     "data": {
      "text/plain": [
       "6500"
      ]
     },
     "metadata": {},
     "output_type": "display_data"
    }
   ],
   "source": [
    "from entity_embed.data_utils.utils import split_clusters\n",
    "\n",
    "train_len = 1_500\n",
    "valid_len = 2_500\n",
    "train_cluster_dict, valid_cluster_dict, test_cluster_dict = split_clusters(\n",
    "    cluster_dict, train_len=train_len, valid_len=valid_len, random_seed=random_seed)\n",
    "display(len(train_cluster_dict), len(valid_cluster_dict), len(test_cluster_dict))"
   ]
  },
  {
   "cell_type": "code",
   "execution_count": 13,
   "metadata": {},
   "outputs": [
    {
     "data": {
      "text/plain": [
       "1500"
      ]
     },
     "metadata": {},
     "output_type": "display_data"
    },
    {
     "data": {
      "text/plain": [
       "2000"
      ]
     },
     "metadata": {},
     "output_type": "display_data"
    },
    {
     "data": {
      "text/plain": [
       "1500"
      ]
     },
     "metadata": {},
     "output_type": "display_data"
    }
   ],
   "source": [
    "for d in [train_cluster_dict, valid_cluster_dict, test_cluster_dict]:\n",
    "    display(sum(1 for cluster_id_list in d.values() if len(cluster_id_list) > 1))"
   ]
  },
  {
   "cell_type": "code",
   "execution_count": 14,
   "metadata": {},
   "outputs": [
    {
     "data": {
      "text/plain": [
       "4883"
      ]
     },
     "metadata": {},
     "output_type": "display_data"
    },
    {
     "data": {
      "text/plain": [
       "4883"
      ]
     },
     "metadata": {},
     "output_type": "display_data"
    },
    {
     "data": {
      "text/plain": [
       "4900"
      ]
     },
     "metadata": {},
     "output_type": "display_data"
    }
   ],
   "source": [
    "from entity_embed.data_utils.utils import cluster_dict_to_id_pairs\n",
    "\n",
    "train_true_pair_set = cluster_dict_to_id_pairs(train_cluster_dict)\n",
    "display(len(train_true_pair_set))\n",
    "del train_true_pair_set\n",
    "valid_true_pair_set = cluster_dict_to_id_pairs(valid_cluster_dict)\n",
    "display(len(valid_true_pair_set))\n",
    "del valid_true_pair_set\n",
    "test_true_pair_set = cluster_dict_to_id_pairs(test_cluster_dict)\n",
    "display(len(test_true_pair_set))"
   ]
  },
  {
   "cell_type": "code",
   "execution_count": 15,
   "metadata": {},
   "outputs": [
    {
     "data": {
      "text/plain": [
       "4317"
      ]
     },
     "execution_count": 15,
     "metadata": {},
     "output_type": "execute_result"
    }
   ],
   "source": [
    "train_row_dict = {id_: row_dict[id_] for cluster_id_list in train_cluster_dict.values() for id_ in cluster_id_list}\n",
    "len(train_row_dict)"
   ]
  },
  {
   "cell_type": "code",
   "execution_count": 16,
   "metadata": {},
   "outputs": [
    {
     "data": {
      "text/plain": [
       "5742"
      ]
     },
     "execution_count": 16,
     "metadata": {},
     "output_type": "execute_result"
    }
   ],
   "source": [
    "valid_row_dict = {id_: row_dict[id_] for cluster_id_list in valid_cluster_dict.values() for id_ in cluster_id_list}\n",
    "len(valid_row_dict)"
   ]
  },
  {
   "cell_type": "code",
   "execution_count": 17,
   "metadata": {},
   "outputs": [
    {
     "data": {
      "text/plain": [
       "9316"
      ]
     },
     "execution_count": 17,
     "metadata": {},
     "output_type": "execute_result"
    }
   ],
   "source": [
    "test_row_dict = {id_: row_dict[id_] for cluster_id_list in test_cluster_dict.values() for id_ in cluster_id_list}\n",
    "len(test_row_dict)"
   ]
  },
  {
   "cell_type": "markdown",
   "metadata": {},
   "source": [
    "## Training"
   ]
  },
  {
   "cell_type": "code",
   "execution_count": 18,
   "metadata": {},
   "outputs": [],
   "source": [
    "alphabet = list('0123456789abcdefghijklmnopqrstuvwxyz!\"#$%&\\'()*+,-./:;<=>?@[\\\\]^_`{|}~ ')"
   ]
  },
  {
   "cell_type": "code",
   "execution_count": 19,
   "metadata": {},
   "outputs": [],
   "source": [
    "# TODO: support multiple attrs for same source attr\n",
    "\n",
    "attr_info_dict = {\n",
    "    'title': {\n",
    "        'is_multitoken': True,\n",
    "        'tokenizer': default_tokenizer,\n",
    "        'alphabet': alphabet,\n",
    "        'max_str_len': None,  # compute\n",
    "    },\n",
    "    'artist': {\n",
    "        'is_multitoken': True,\n",
    "        'tokenizer': default_tokenizer,\n",
    "        'alphabet': alphabet,\n",
    "        'max_str_len': None,  # compute\n",
    "    },\n",
    "    'album': {\n",
    "        'is_multitoken': True,\n",
    "        'tokenizer': default_tokenizer,\n",
    "        'alphabet': alphabet,\n",
    "        'max_str_len': None,  # compute\n",
    "    }\n",
    "}"
   ]
  },
  {
   "cell_type": "code",
   "execution_count": 20,
   "metadata": {},
   "outputs": [
    {
     "name": "stderr",
     "output_type": "stream",
     "text": [
      "22:07:48 INFO:For attr='title', computing actual alphabet and max_str_len\n",
      "22:07:48 INFO:For attr='title', using actual_max_str_len=30\n",
      "22:07:48 INFO:For attr='artist', computing actual alphabet and max_str_len\n",
      "22:07:48 INFO:For attr='artist', using actual_max_str_len=30\n",
      "22:07:48 INFO:For attr='album', computing actual alphabet and max_str_len\n",
      "22:07:48 INFO:For attr='album', using actual_max_str_len=30\n"
     ]
    }
   ],
   "source": [
    "from entity_embed import EntityEmbed\n",
    "\n",
    "model = EntityEmbed(\n",
    "    attr_info_dict=attr_info_dict,\n",
    "    row_dict=row_dict\n",
    ")"
   ]
  },
  {
   "cell_type": "code",
   "execution_count": 21,
   "metadata": {},
   "outputs": [
    {
     "data": {
      "text/plain": [
       "{'title': OneHotEncodingInfo(is_multitoken=True, tokenizer=<function default_tokenizer at 0x7f9409c4cc10>, alphabet=['0', '1', '2', '3', '4', '5', '6', '7', '8', '9', 'a', 'b', 'c', 'd', 'e', 'f', 'g', 'h', 'i', 'j', 'k', 'l', 'm', 'n', 'o', 'p', 'q', 'r', 's', 't', 'u', 'v', 'w', 'x', 'y', 'z', '!', '\"', '#', '$', '%', '&', \"'\", '(', ')', '*', '+', ',', '-', '.', '/', ':', ';', '<', '=', '>', '?', '@', '[', '\\\\', ']', '^', '_', '`', '{', '|', '}', '~', ' '], max_str_len=30),\n",
       " 'artist': OneHotEncodingInfo(is_multitoken=True, tokenizer=<function default_tokenizer at 0x7f9409c4cc10>, alphabet=['0', '1', '2', '3', '4', '5', '6', '7', '8', '9', 'a', 'b', 'c', 'd', 'e', 'f', 'g', 'h', 'i', 'j', 'k', 'l', 'm', 'n', 'o', 'p', 'q', 'r', 's', 't', 'u', 'v', 'w', 'x', 'y', 'z', '!', '\"', '#', '$', '%', '&', \"'\", '(', ')', '*', '+', ',', '-', '.', '/', ':', ';', '<', '=', '>', '?', '@', '[', '\\\\', ']', '^', '_', '`', '{', '|', '}', '~', ' '], max_str_len=30),\n",
       " 'album': OneHotEncodingInfo(is_multitoken=True, tokenizer=<function default_tokenizer at 0x7f9409c4cc10>, alphabet=['0', '1', '2', '3', '4', '5', '6', '7', '8', '9', 'a', 'b', 'c', 'd', 'e', 'f', 'g', 'h', 'i', 'j', 'k', 'l', 'm', 'n', 'o', 'p', 'q', 'r', 's', 't', 'u', 'v', 'w', 'x', 'y', 'z', '!', '\"', '#', '$', '%', '&', \"'\", '(', ')', '*', '+', ',', '-', '.', '/', ':', ';', '<', '=', '>', '?', '@', '[', '\\\\', ']', '^', '_', '`', '{', '|', '}', '~', ' '], max_str_len=30)}"
      ]
     },
     "execution_count": 21,
     "metadata": {},
     "output_type": "execute_result"
    }
   ],
   "source": [
    "model.attr_info_dict"
   ]
  },
  {
   "cell_type": "code",
   "execution_count": 22,
   "metadata": {},
   "outputs": [],
   "source": [
    "epochs = 20"
   ]
  },
  {
   "cell_type": "code",
   "execution_count": 23,
   "metadata": {
    "scrolled": true
   },
   "outputs": [
    {
     "data": {
      "application/vnd.jupyter.widget-view+json": {
       "model_id": "f8ffbe1b07cc44bc9454c89908b2eadb",
       "version_major": 2,
       "version_minor": 0
      },
      "text/plain": [
       "HBox(children=(HTML(value='# training'), FloatProgress(value=0.0, max=2180.0), HTML(value='')))"
      ]
     },
     "metadata": {},
     "output_type": "display_data"
    },
    {
     "name": "stderr",
     "output_type": "stream",
     "text": [
      "22:08:02 INFO:[('title', tensor(0.3458, device='cuda:0')), ('artist', tensor(0.3071, device='cuda:0')), ('album', tensor(0.3471, device='cuda:0'))]\n",
      "22:08:05 INFO:# Train Epoch:   0 Time: 14.490 Loss: 0.158, Precision: 0.406 Recall: 0.965\n",
      "22:08:17 INFO:[('title', tensor(0.3459, device='cuda:0')), ('artist', tensor(0.3086, device='cuda:0')), ('album', tensor(0.3455, device='cuda:0'))]\n",
      "22:08:19 INFO:# Train Epoch:   1 Time: 14.420 Loss: 0.027, Precision: 0.550 Recall: 0.968\n",
      "22:08:31 INFO:[('title', tensor(0.3488, device='cuda:0')), ('artist', tensor(0.3069, device='cuda:0')), ('album', tensor(0.3443, device='cuda:0'))]\n",
      "22:08:34 INFO:# Train Epoch:   2 Time: 14.562 Loss: 0.017, Precision: 0.632 Recall: 0.968\n",
      "22:08:46 INFO:[('title', tensor(0.3493, device='cuda:0')), ('artist', tensor(0.3054, device='cuda:0')), ('album', tensor(0.3453, device='cuda:0'))]\n",
      "22:08:49 INFO:# Train Epoch:   3 Time: 14.722 Loss: 0.013, Precision: 0.681 Recall: 0.970\n",
      "22:09:00 INFO:[('title', tensor(0.3505, device='cuda:0')), ('artist', tensor(0.3026, device='cuda:0')), ('album', tensor(0.3468, device='cuda:0'))]\n",
      "22:09:03 INFO:# Train Epoch:   4 Time: 14.766 Loss: 0.011, Precision: 0.707 Recall: 0.970\n",
      "22:09:15 INFO:[('title', tensor(0.3517, device='cuda:0')), ('artist', tensor(0.3013, device='cuda:0')), ('album', tensor(0.3470, device='cuda:0'))]\n",
      "22:09:18 INFO:# Train Epoch:   5 Time: 14.822 Loss: 0.009, Precision: 0.728 Recall: 0.971\n",
      "22:09:30 INFO:[('title', tensor(0.3532, device='cuda:0')), ('artist', tensor(0.2992, device='cuda:0')), ('album', tensor(0.3477, device='cuda:0'))]\n",
      "22:09:33 INFO:# Train Epoch:   6 Time: 14.628 Loss: 0.008, Precision: 0.750 Recall: 0.972\n",
      "22:09:45 INFO:[('title', tensor(0.3527, device='cuda:0')), ('artist', tensor(0.2994, device='cuda:0')), ('album', tensor(0.3480, device='cuda:0'))]\n",
      "22:09:48 INFO:# Train Epoch:   7 Time: 14.645 Loss: 0.008, Precision: 0.760 Recall: 0.972\n",
      "22:09:59 INFO:[('title', tensor(0.3540, device='cuda:0')), ('artist', tensor(0.2975, device='cuda:0')), ('album', tensor(0.3485, device='cuda:0'))]\n",
      "22:10:02 INFO:# Train Epoch:   8 Time: 14.649 Loss: 0.007, Precision: 0.766 Recall: 0.972\n",
      "22:10:14 INFO:[('title', tensor(0.3553, device='cuda:0')), ('artist', tensor(0.2960, device='cuda:0')), ('album', tensor(0.3487, device='cuda:0'))]\n",
      "22:10:17 INFO:# Train Epoch:   9 Time: 14.462 Loss: 0.007, Precision: 0.766 Recall: 0.971\n",
      "22:10:28 INFO:[('title', tensor(0.3567, device='cuda:0')), ('artist', tensor(0.2937, device='cuda:0')), ('album', tensor(0.3496, device='cuda:0'))]\n",
      "22:10:31 INFO:# Train Epoch:  10 Time: 14.547 Loss: 0.007, Precision: 0.774 Recall: 0.970\n",
      "22:10:43 INFO:[('title', tensor(0.3578, device='cuda:0')), ('artist', tensor(0.2927, device='cuda:0')), ('album', tensor(0.3495, device='cuda:0'))]\n",
      "22:10:46 INFO:# Train Epoch:  11 Time: 14.565 Loss: 0.006, Precision: 0.790 Recall: 0.971\n",
      "22:10:57 INFO:[('title', tensor(0.3587, device='cuda:0')), ('artist', tensor(0.2921, device='cuda:0')), ('album', tensor(0.3492, device='cuda:0'))]\n",
      "22:11:00 INFO:# Train Epoch:  12 Time: 14.576 Loss: 0.006, Precision: 0.792 Recall: 0.971\n",
      "22:11:12 INFO:[('title', tensor(0.3610, device='cuda:0')), ('artist', tensor(0.2897, device='cuda:0')), ('album', tensor(0.3493, device='cuda:0'))]\n",
      "22:11:15 INFO:# Train Epoch:  13 Time: 14.520 Loss: 0.006, Precision: 0.802 Recall: 0.971\n",
      "22:11:26 INFO:[('title', tensor(0.3633, device='cuda:0')), ('artist', tensor(0.2878, device='cuda:0')), ('album', tensor(0.3490, device='cuda:0'))]\n",
      "22:11:29 INFO:# Train Epoch:  14 Time: 14.636 Loss: 0.006, Precision: 0.800 Recall: 0.971\n",
      "22:11:41 INFO:[('title', tensor(0.3652, device='cuda:0')), ('artist', tensor(0.2858, device='cuda:0')), ('album', tensor(0.3490, device='cuda:0'))]\n",
      "22:11:44 INFO:# Train Epoch:  15 Time: 14.629 Loss: 0.005, Precision: 0.809 Recall: 0.971\n",
      "22:11:56 INFO:[('title', tensor(0.3657, device='cuda:0')), ('artist', tensor(0.2848, device='cuda:0')), ('album', tensor(0.3494, device='cuda:0'))]\n",
      "22:11:59 INFO:# Train Epoch:  16 Time: 14.789 Loss: 0.005, Precision: 0.810 Recall: 0.972\n",
      "22:12:10 INFO:[('title', tensor(0.3669, device='cuda:0')), ('artist', tensor(0.2825, device='cuda:0')), ('album', tensor(0.3506, device='cuda:0'))]\n",
      "22:12:13 INFO:# Train Epoch:  17 Time: 14.527 Loss: 0.005, Precision: 0.802 Recall: 0.972\n",
      "22:12:25 INFO:[('title', tensor(0.3673, device='cuda:0')), ('artist', tensor(0.2832, device='cuda:0')), ('album', tensor(0.3495, device='cuda:0'))]\n",
      "22:12:28 INFO:# Train Epoch:  18 Time: 14.661 Loss: 0.005, Precision: 0.800 Recall: 0.971\n",
      "22:12:40 INFO:[('title', tensor(0.3689, device='cuda:0')), ('artist', tensor(0.2817, device='cuda:0')), ('album', tensor(0.3495, device='cuda:0'))]\n",
      "22:12:43 INFO:# Train Epoch:  19 Time: 14.644 Loss: 0.005, Precision: 0.800 Recall: 0.971\n"
     ]
    },
    {
     "name": "stdout",
     "output_type": "stream",
     "text": [
      "\n"
     ]
    }
   ],
   "source": [
    "model.train(\n",
    "    epochs=epochs,\n",
    "    train_row_dict=train_row_dict,\n",
    "    cluster_attr=cluster_attr,\n",
    "    train_pos_pair_batch_size=45,\n",
    "    train_neg_pair_batch_size=1225,\n",
    "    valid_row_dict=valid_row_dict,\n",
    "    random_seed=random_seed\n",
    ")"
   ]
  },
  {
   "cell_type": "code",
   "execution_count": 24,
   "metadata": {},
   "outputs": [],
   "source": [
    "# torch.save(model, \"music_model.torch\")"
   ]
  },
  {
   "cell_type": "code",
   "execution_count": 25,
   "metadata": {},
   "outputs": [],
   "source": [
    "# model = torch.load(\"music_model.torch\")"
   ]
  },
  {
   "cell_type": "code",
   "execution_count": 26,
   "metadata": {
    "scrolled": false
   },
   "outputs": [
    {
     "data": {
      "application/vnd.jupyter.widget-view+json": {
       "model_id": "1600fc2ac95748649b3caadf44a51ae8",
       "version_major": 2,
       "version_minor": 0
      },
      "text/plain": [
       "HBox(children=(HTML(value='# batch embedding'), FloatProgress(value=0.0, max=583.0), HTML(value='')))"
      ]
     },
     "metadata": {},
     "output_type": "display_data"
    },
    {
     "name": "stdout",
     "output_type": "stream",
     "text": [
      "\n"
     ]
    }
   ],
   "source": [
    "test_vector_dict = model.predict(\n",
    "    row_dict=test_row_dict,\n",
    "    batch_size=16)"
   ]
  },
  {
   "cell_type": "code",
   "execution_count": 27,
   "metadata": {},
   "outputs": [],
   "source": [
    "assert len(test_vector_dict) == len(test_row_dict)"
   ]
  },
  {
   "cell_type": "code",
   "execution_count": 28,
   "metadata": {
    "scrolled": true
   },
   "outputs": [
    {
     "name": "stdout",
     "output_type": "stream",
     "text": [
      "CPU times: user 3.61 s, sys: 30.4 ms, total: 3.64 s\n",
      "Wall time: 435 ms\n"
     ]
    }
   ],
   "source": [
    "%%time\n",
    "\n",
    "from entity_embed.entity_embed import ANNEntityIndex\n",
    "\n",
    "ann_index = ANNEntityIndex(embedding_size=model.embedding_size)\n",
    "ann_index.insert_vector_dict(test_vector_dict)\n",
    "ann_index.build()"
   ]
  },
  {
   "cell_type": "code",
   "execution_count": 29,
   "metadata": {},
   "outputs": [
    {
     "name": "stdout",
     "output_type": "stream",
     "text": [
      "CPU times: user 5.78 s, sys: 2.56 ms, total: 5.78 s\n",
      "Wall time: 535 ms\n"
     ]
    }
   ],
   "source": [
    "%%time\n",
    "\n",
    "ntop = 10\n",
    "sim_threshold = 0.5\n",
    "\n",
    "found_pair_set = ann_index.search_pairs(\n",
    "    k=ntop,\n",
    "    sim_threshold=sim_threshold\n",
    ")"
   ]
  },
  {
   "cell_type": "code",
   "execution_count": 30,
   "metadata": {},
   "outputs": [
    {
     "data": {
      "text/plain": [
       "0.9377415199656505"
      ]
     },
     "execution_count": 30,
     "metadata": {},
     "output_type": "execute_result"
    }
   ],
   "source": [
    "from entity_embed.evaluation import pair_entity_ratio\n",
    "\n",
    "pair_entity_ratio(found_pair_set, test_row_dict)"
   ]
  },
  {
   "cell_type": "code",
   "execution_count": 31,
   "metadata": {},
   "outputs": [
    {
     "data": {
      "text/plain": [
       "(0.5502518315018315, 0.9810204081632653)"
      ]
     },
     "execution_count": 31,
     "metadata": {},
     "output_type": "execute_result"
    }
   ],
   "source": [
    "from entity_embed.evaluation import precision_and_recall\n",
    "\n",
    "precision_and_recall(found_pair_set, test_true_pair_set)"
   ]
  },
  {
   "cell_type": "code",
   "execution_count": 32,
   "metadata": {},
   "outputs": [
    {
     "data": {
      "text/plain": [
       "3929"
      ]
     },
     "execution_count": 32,
     "metadata": {},
     "output_type": "execute_result"
    }
   ],
   "source": [
    "false_positives = list(found_pair_set - test_true_pair_set)\n",
    "len(false_positives)"
   ]
  },
  {
   "cell_type": "code",
   "execution_count": 33,
   "metadata": {},
   "outputs": [
    {
     "data": {
      "text/plain": [
       "93"
      ]
     },
     "execution_count": 33,
     "metadata": {},
     "output_type": "execute_result"
    }
   ],
   "source": [
    "false_negatives = list(test_true_pair_set - found_pair_set)\n",
    "len(false_negatives)"
   ]
  },
  {
   "cell_type": "code",
   "execution_count": 34,
   "metadata": {},
   "outputs": [],
   "source": [
    "cos_similarity = lambda a, b: np.dot(a, b)"
   ]
  },
  {
   "cell_type": "code",
   "execution_count": 35,
   "metadata": {},
   "outputs": [
    {
     "data": {
      "text/plain": [
       "(0.44871008,\n",
       " {'TID': '1970',\n",
       "  'CID': 7215,\n",
       "  'CTID': '2',\n",
       "  'SourceID': '2',\n",
       "  'id': 1969,\n",
       "  'number': '2',\n",
       "  'title': 'luci & anenakkav',\n",
       "  'length': '185',\n",
       "  'artist': '',\n",
       "  'album': 'munad vahtu !',\n",
       "  'year': '02',\n",
       "  'language': 'Estonian'},\n",
       " {'TID': '17571',\n",
       "  'CID': 7215,\n",
       "  'CTID': '3',\n",
       "  'SourceID': '3',\n",
       "  'id': 17570,\n",
       "  'number': '2',\n",
       "  'title': 'nakkav - munad vahtu !',\n",
       "  'length': '3.083',\n",
       "  'artist': 'luci & ane',\n",
       "  'album': '',\n",
       "  'year': \"'02\",\n",
       "  'language': 'Estonian'})"
      ]
     },
     "metadata": {},
     "output_type": "display_data"
    },
    {
     "data": {
      "text/plain": [
       "(0.15048532,\n",
       " {'TID': '2905',\n",
       "  'CID': 2371,\n",
       "  'CTID': '2',\n",
       "  'SourceID': '3',\n",
       "  'id': 2904,\n",
       "  'number': '6',\n",
       "  'title': 'unnown',\n",
       "  'length': '4.4',\n",
       "  'artist': 'sorg uten tarer',\n",
       "  'album': '',\n",
       "  'year': \"'07\",\n",
       "  'language': 'English'},\n",
       " {'TID': '9261',\n",
       "  'CID': 2371,\n",
       "  'CTID': '3',\n",
       "  'SourceID': '4',\n",
       "  'id': 9260,\n",
       "  'number': '6',\n",
       "  'title': '006 - moonkissed eyes',\n",
       "  'length': '4m 24sec',\n",
       "  'artist': 'sorg uten tarer',\n",
       "  'album': 'moonsilver ( 2007 )',\n",
       "  'year': 'null',\n",
       "  'language': 'Eng.'})"
      ]
     },
     "metadata": {},
     "output_type": "display_data"
    },
    {
     "data": {
      "text/plain": [
       "(0.4312421,\n",
       " {'TID': '919',\n",
       "  'CID': 1149,\n",
       "  'CTID': '2',\n",
       "  'SourceID': '5',\n",
       "  'id': 918,\n",
       "  'number': '7',\n",
       "  'title': 'hard',\n",
       "  'length': '210320',\n",
       "  'artist': 'asia',\n",
       "  'album': '',\n",
       "  'year': '1994',\n",
       "  'language': 'English'},\n",
       " {'TID': '8988',\n",
       "  'CID': 1149,\n",
       "  'CTID': '4',\n",
       "  'SourceID': '2',\n",
       "  'id': 8987,\n",
       "  'number': '7',\n",
       "  'title': 'asia - hard on me',\n",
       "  'length': '210',\n",
       "  'artist': '',\n",
       "  'album': 'gold',\n",
       "  'year': '05',\n",
       "  'language': 'English'})"
      ]
     },
     "metadata": {},
     "output_type": "display_data"
    },
    {
     "data": {
      "text/plain": [
       "(0.3204738,\n",
       " {'TID': '2965',\n",
       "  'CID': 1544,\n",
       "  'CTID': '1',\n",
       "  'SourceID': '2',\n",
       "  'id': 2964,\n",
       "  'number': '8',\n",
       "  'title': 'darryl way - juliet',\n",
       "  'length': '247',\n",
       "  'artist': '',\n",
       "  'album': 'under the soft',\n",
       "  'year': '91',\n",
       "  'language': 'English'},\n",
       " {'TID': '18300',\n",
       "  'CID': 1544,\n",
       "  'CTID': '2',\n",
       "  'SourceID': '3',\n",
       "  'id': 18299,\n",
       "  'number': '8',\n",
       "  'title': '8',\n",
       "  'length': '4.117',\n",
       "  'artist': 'darryl way',\n",
       "  'album': '',\n",
       "  'year': \"'91\",\n",
       "  'language': 'English'})"
      ]
     },
     "metadata": {},
     "output_type": "display_data"
    },
    {
     "data": {
      "text/plain": [
       "(0.17702493,\n",
       " {'TID': '9864',\n",
       "  'CID': 7993,\n",
       "  'CTID': '2',\n",
       "  'SourceID': '4',\n",
       "  'id': 9863,\n",
       "  'number': '24',\n",
       "  'title': '024 -',\n",
       "  'length': '0m 9sec',\n",
       "  'artist': '',\n",
       "  'album': 'tv ! !! () ( 2009 )',\n",
       "  'year': 'null',\n",
       "  'language': 'Jap.'},\n",
       " {'TID': '15482',\n",
       "  'CID': 7993,\n",
       "  'CTID': '1',\n",
       "  'SourceID': '3',\n",
       "  'id': 15481,\n",
       "  'number': '24',\n",
       "  'title': 'kibodointorodakushiyon - tvanime [ keion !] ohuishiyaru bandoyaroyo !! ( bandosukoafu )',\n",
       "  'length': '0.155',\n",
       "  'artist': 'fang ke hou teitaimu',\n",
       "  'album': '',\n",
       "  'year': \"'09\",\n",
       "  'language': 'Japanese'})"
      ]
     },
     "metadata": {},
     "output_type": "display_data"
    },
    {
     "data": {
      "text/plain": [
       "(0.20932999,\n",
       " {'TID': '9864',\n",
       "  'CID': 7993,\n",
       "  'CTID': '2',\n",
       "  'SourceID': '4',\n",
       "  'id': 9863,\n",
       "  'number': '24',\n",
       "  'title': '024 -',\n",
       "  'length': '0m 9sec',\n",
       "  'artist': '',\n",
       "  'album': 'tv ! !! () ( 2009 )',\n",
       "  'year': 'null',\n",
       "  'language': 'Jap.'},\n",
       " {'TID': '17288',\n",
       "  'CID': 7993,\n",
       "  'CTID': '4',\n",
       "  'SourceID': '1',\n",
       "  'id': 17287,\n",
       "  'number': '024',\n",
       "  'title': 'kibodointorodakushiyon ( tvanime [ keion !] ohuishiyaru bandoyaroyo !! ( bandosukoafu ))',\n",
       "  'length': '00:09',\n",
       "  'artist': 'fang ke hou teitaimu',\n",
       "  'album': 'tvanime [ keion !] ohuishiyaru bandoyaroyo !! ( bandosukoafu )',\n",
       "  'year': '2009',\n",
       "  'language': ''})"
      ]
     },
     "metadata": {},
     "output_type": "display_data"
    },
    {
     "data": {
      "text/plain": [
       "(0.46784,\n",
       " {'TID': '11097',\n",
       "  'CID': 5243,\n",
       "  'CTID': '3',\n",
       "  'SourceID': '1',\n",
       "  'id': 11096,\n",
       "  'number': '006',\n",
       "  'title': 'apressadinho ( forro de vanguarda )',\n",
       "  'length': '03:12',\n",
       "  'artist': 'genario',\n",
       "  'album': 'forro de vanguarda',\n",
       "  'year': '1981',\n",
       "  'language': ''},\n",
       " {'TID': '19173',\n",
       "  'CID': 5243,\n",
       "  'CTID': '2',\n",
       "  'SourceID': '5',\n",
       "  'id': 19172,\n",
       "  'number': '6',\n",
       "  'title': 'apressadinho',\n",
       "  'length': '192000',\n",
       "  'artist': 'gena ! rio',\n",
       "  'album': 'forra3devanguarda',\n",
       "  'year': '1981',\n",
       "  'language': 'Portu  guese'})"
      ]
     },
     "metadata": {},
     "output_type": "display_data"
    },
    {
     "data": {
      "text/plain": [
       "(0.21118999,\n",
       " {'TID': '2905',\n",
       "  'CID': 2371,\n",
       "  'CTID': '2',\n",
       "  'SourceID': '3',\n",
       "  'id': 2904,\n",
       "  'number': '6',\n",
       "  'title': 'unnown',\n",
       "  'length': '4.4',\n",
       "  'artist': 'sorg uten tarer',\n",
       "  'album': '',\n",
       "  'year': \"'07\",\n",
       "  'language': 'English'},\n",
       " {'TID': '7677',\n",
       "  'CID': 2371,\n",
       "  'CTID': '4',\n",
       "  'SourceID': '5',\n",
       "  'id': 7676,\n",
       "  'number': '6',\n",
       "  'title': 'moonkissed eyes',\n",
       "  'length': '264000',\n",
       "  'artist': 'sorg uten tarer',\n",
       "  'album': 'moonsilver',\n",
       "  'year': '2007',\n",
       "  'language': 'English'})"
      ]
     },
     "metadata": {},
     "output_type": "display_data"
    },
    {
     "data": {
      "text/plain": [
       "(0.46546796,\n",
       " {'TID': '16095',\n",
       "  'CID': 9077,\n",
       "  'CTID': '2',\n",
       "  'SourceID': '3',\n",
       "  'id': 16094,\n",
       "  'number': '1',\n",
       "  'title': 'almost brave - live at the fireside bowl',\n",
       "  'length': '2.076',\n",
       "  'artist': \"$ wingin ' utter $\",\n",
       "  'album': '',\n",
       "  'year': \"'95\",\n",
       "  'language': 'English'},\n",
       " {'TID': '17602',\n",
       "  'CID': 9077,\n",
       "  'CTID': '1',\n",
       "  'SourceID': '2',\n",
       "  'id': 17601,\n",
       "  'number': '1',\n",
       "  'title': \"$ wingin ' utter $ - almost brave\",\n",
       "  'length': '124',\n",
       "  'artist': '',\n",
       "  'album': 'live at the fireside bowl',\n",
       "  'year': '95',\n",
       "  'language': 'English'})"
      ]
     },
     "metadata": {},
     "output_type": "display_data"
    },
    {
     "data": {
      "text/plain": [
       "(0.4938655,\n",
       " {'TID': '11429',\n",
       "  'CID': 5243,\n",
       "  'CTID': '4',\n",
       "  'SourceID': '2',\n",
       "  'id': 11428,\n",
       "  'number': '6',\n",
       "  'title': 'genario - apressadinho',\n",
       "  'length': '192',\n",
       "  'artist': '',\n",
       "  'album': 'forro de vanguarda',\n",
       "  'year': '81',\n",
       "  'language': 'Portuguese'},\n",
       " {'TID': '19173',\n",
       "  'CID': 5243,\n",
       "  'CTID': '2',\n",
       "  'SourceID': '5',\n",
       "  'id': 19172,\n",
       "  'number': '6',\n",
       "  'title': 'apressadinho',\n",
       "  'length': '192000',\n",
       "  'artist': 'gena ! rio',\n",
       "  'album': 'forra3devanguarda',\n",
       "  'year': '1981',\n",
       "  'language': 'Portu  guese'})"
      ]
     },
     "metadata": {},
     "output_type": "display_data"
    }
   ],
   "source": [
    "for (id_left, id_right) in false_negatives[:10]:\n",
    "    display(\n",
    "        (\n",
    "            cos_similarity(test_vector_dict[id_left], test_vector_dict[id_right]),\n",
    "            row_dict[id_left], row_dict[id_right]\n",
    "        )\n",
    "    )"
   ]
  }
 ],
 "metadata": {
  "kernelspec": {
   "display_name": "Python 3",
   "language": "python",
   "name": "python3"
  },
  "language_info": {
   "codemirror_mode": {
    "name": "ipython",
    "version": 3
   },
   "file_extension": ".py",
   "mimetype": "text/x-python",
   "name": "python",
   "nbconvert_exporter": "python",
   "pygments_lexer": "ipython3",
   "version": "3.8.6"
  }
 },
 "nbformat": 4,
 "nbformat_minor": 4
}
