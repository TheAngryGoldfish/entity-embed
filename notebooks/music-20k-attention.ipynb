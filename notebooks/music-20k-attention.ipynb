{
 "cells": [
  {
   "cell_type": "markdown",
   "metadata": {},
   "source": [
    "**TODO**\n",
    "- Properly handle empty attributes"
   ]
  },
  {
   "cell_type": "markdown",
   "metadata": {},
   "source": [
    "## Load Dataset"
   ]
  },
  {
   "cell_type": "code",
   "execution_count": 1,
   "metadata": {},
   "outputs": [],
   "source": [
    "%load_ext autoreload\n",
    "%autoreload 2"
   ]
  },
  {
   "cell_type": "code",
   "execution_count": 2,
   "metadata": {},
   "outputs": [],
   "source": [
    "import sys\n",
    "\n",
    "sys.path.insert(0, '..')"
   ]
  },
  {
   "cell_type": "code",
   "execution_count": 3,
   "metadata": {},
   "outputs": [],
   "source": [
    "# TODO: import here, conflict with libgomp from pytorch\n",
    "from n2 import HnswIndex\n",
    "import os"
   ]
  },
  {
   "cell_type": "code",
   "execution_count": 4,
   "metadata": {},
   "outputs": [],
   "source": [
    "import os\n",
    "home_dir = os.getenv('HOME')"
   ]
  },
  {
   "cell_type": "markdown",
   "metadata": {},
   "source": [
    "https://dbs.uni-leipzig.de/research/projects/object_matching/benchmark_datasets_for_entity_resolution\n",
    "\n",
    "https://www.informatik.uni-leipzig.de/~saeedi/musicBrainz_readme.txt"
   ]
  },
  {
   "cell_type": "markdown",
   "metadata": {},
   "source": [
    "```\n",
    "5 sources\n",
    "---------- \n",
    "TID: a unique record's id (in the complete dataset).\n",
    "CID: cluster id (records having the same CID are duplicate)\n",
    "CTID: a unique id within a cluster (if two records belong to the same cluster they will have the same CID but different CTIDs). These ids (CTID) start with 1 and grow until cluster size.\n",
    "SourceID: identifies to which source a record belongs (there are five sources). The sources are deduplicated.\n",
    "Id: the original id from the source. Each source has its own Id-Format. Uniqueness is not guaranteed!! (can be ignored).\n",
    "number: track or song number in the album.\n",
    "length: the length of the track.\n",
    "artist: the interpreter (artist or band) of the track.\n",
    "year: date of publication.\n",
    "language: language of the track.\n",
    "```"
   ]
  },
  {
   "cell_type": "code",
   "execution_count": 5,
   "metadata": {},
   "outputs": [
    {
     "name": "stderr",
     "output_type": "stream",
     "text": [
      "100%|██████████| 19375/19375 [00:00<00:00, 186379.09it/s]\n"
     ]
    }
   ],
   "source": [
    "import glob\n",
    "import csv\n",
    "import tqdm\n",
    "\n",
    "current_row_id = 0\n",
    "row_dict = {}\n",
    "rows_total = 19375\n",
    "cluster_id_attr = 'CID'\n",
    "\n",
    "with tqdm.tqdm(total=rows_total) as pbar:\n",
    "    for filename in glob.glob(f'{home_dir}/Downloads/musicbrainz-20-A01.csv.dapo'):\n",
    "        with open(filename) as f:\n",
    "            for row in csv.DictReader(f):\n",
    "                row['id'] = current_row_id\n",
    "                row[cluster_id_attr] = int(row[cluster_id_attr])  # convert cluster_id_attr to int\n",
    "                row_dict[current_row_id] = row\n",
    "                current_row_id += 1\n",
    "                pbar.update(1)"
   ]
  },
  {
   "cell_type": "code",
   "execution_count": 6,
   "metadata": {},
   "outputs": [
    {
     "data": {
      "text/plain": [
       "{'TID': '2',\n",
       " 'CID': 2512,\n",
       " 'CTID': '5',\n",
       " 'SourceID': '4',\n",
       " 'id': 1,\n",
       " 'number': '7',\n",
       " 'title': '007',\n",
       " 'length': '1m 58sec',\n",
       " 'artist': '[unknown]',\n",
       " 'album': 'Cantigas de roda (unknown)',\n",
       " 'year': 'null',\n",
       " 'language': 'Por.'}"
      ]
     },
     "execution_count": 6,
     "metadata": {},
     "output_type": "execute_result"
    }
   ],
   "source": [
    "row_dict[1]"
   ]
  },
  {
   "cell_type": "code",
   "execution_count": 7,
   "metadata": {},
   "outputs": [],
   "source": [
    "attr_list = ['title', 'artist', 'album']\n",
    "is_multitoken_attr_list = ['title', 'artist', 'album']"
   ]
  },
  {
   "cell_type": "markdown",
   "metadata": {},
   "source": [
    "preprocess:"
   ]
  },
  {
   "cell_type": "code",
   "execution_count": 8,
   "metadata": {},
   "outputs": [],
   "source": [
    "import unidecode\n",
    "from entity_embed.data_utils.one_hot_encoders import _default_tokenizer_fn\n",
    "\n",
    "def clean_str(s):\n",
    "    s = unidecode.unidecode(s).lower().strip()\n",
    "    return ' '.join(s_part[:30] for s_part in _default_tokenizer_fn(s))[:100]\n",
    "\n",
    "for row in row_dict.values():\n",
    "    for attr in attr_list:\n",
    "        row[attr] = clean_str(row[attr])"
   ]
  },
  {
   "cell_type": "code",
   "execution_count": 9,
   "metadata": {
    "scrolled": true
   },
   "outputs": [
    {
     "data": {
      "text/plain": [
       "10000"
      ]
     },
     "execution_count": 9,
     "metadata": {},
     "output_type": "execute_result"
    }
   ],
   "source": [
    "len(set(r[cluster_id_attr] for r in row_dict.values()))"
   ]
  },
  {
   "cell_type": "code",
   "execution_count": 10,
   "metadata": {},
   "outputs": [],
   "source": [
    "row_list = list(row_dict.values())\n",
    "row_list.sort(key=lambda row: (row[cluster_id_attr]))"
   ]
  },
  {
   "cell_type": "code",
   "execution_count": 11,
   "metadata": {},
   "outputs": [
    {
     "data": {
      "text/plain": [
       "16250"
      ]
     },
     "execution_count": 11,
     "metadata": {},
     "output_type": "execute_result"
    }
   ],
   "source": [
    "from ordered_set import OrderedSet  # ensure reproducibility\n",
    "import itertools\n",
    "\n",
    "true_pair_set = OrderedSet(\n",
    "    tuple(sorted((row_left['id'], row_right['id'])))\n",
    "    for __, row_cluster_list in itertools.groupby(row_list, key=lambda row: row[cluster_id_attr])\n",
    "    for row_left, row_right in itertools.combinations(row_cluster_list, 2)\n",
    ")\n",
    "len(true_pair_set)"
   ]
  },
  {
   "cell_type": "code",
   "execution_count": 12,
   "metadata": {},
   "outputs": [
    {
     "data": {
      "text/plain": [
       "[{'TID': '1',\n",
       "  'CID': 1,\n",
       "  'CTID': '1',\n",
       "  'SourceID': '2',\n",
       "  'id': 0,\n",
       "  'number': '9',\n",
       "  'title': \"daniel balavoine - l ' enfant aux yeux d ' italie\",\n",
       "  'length': '219',\n",
       "  'artist': '',\n",
       "  'album': 'de vous a elle en passant par moi',\n",
       "  'year': '75',\n",
       "  'language': 'French'},\n",
       " {'TID': '15184',\n",
       "  'CID': 1,\n",
       "  'CTID': '2',\n",
       "  'SourceID': '3',\n",
       "  'id': 15183,\n",
       "  'number': '9',\n",
       "  'title': \"l ' enfant aux yeux d ' italie - de vous a elle en passant par moi\",\n",
       "  'length': '3.663',\n",
       "  'artist': 'daniel balavoine',\n",
       "  'album': '',\n",
       "  'year': \"'75\",\n",
       "  'language': 'French'}]"
      ]
     },
     "execution_count": 12,
     "metadata": {},
     "output_type": "execute_result"
    }
   ],
   "source": [
    "[row_dict[id_] for id_ in next(iter(true_pair_set))]"
   ]
  },
  {
   "cell_type": "code",
   "execution_count": 13,
   "metadata": {},
   "outputs": [],
   "source": [
    "from entity_embed.evaluation import precision_and_recall"
   ]
  },
  {
   "cell_type": "markdown",
   "metadata": {},
   "source": [
    "## Pairs"
   ]
  },
  {
   "cell_type": "code",
   "execution_count": 14,
   "metadata": {},
   "outputs": [],
   "source": [
    "import random\n",
    "\n",
    "random_seed = 42\n",
    "random.seed(random_seed)"
   ]
  },
  {
   "cell_type": "code",
   "execution_count": 15,
   "metadata": {},
   "outputs": [
    {
     "data": {
      "text/plain": [
       "16250"
      ]
     },
     "execution_count": 15,
     "metadata": {},
     "output_type": "execute_result"
    }
   ],
   "source": [
    "len(true_pair_set)"
   ]
  },
  {
   "cell_type": "code",
   "execution_count": 16,
   "metadata": {},
   "outputs": [
    {
     "name": "stdout",
     "output_type": "stream",
     "text": [
      "5000\n",
      "11250\n"
     ]
    }
   ],
   "source": [
    "import random\n",
    "\n",
    "train_len = 5_000\n",
    "train_pair_set = OrderedSet(random.sample(true_pair_set, train_len))\n",
    "valid_pair_set = true_pair_set - train_pair_set\n",
    "\n",
    "print(len(train_pair_set))\n",
    "print(len(valid_pair_set))"
   ]
  },
  {
   "cell_type": "code",
   "execution_count": 17,
   "metadata": {},
   "outputs": [
    {
     "data": {
      "text/plain": [
       "7582"
      ]
     },
     "execution_count": 17,
     "metadata": {},
     "output_type": "execute_result"
    }
   ],
   "source": [
    "train_id_set = OrderedSet(id_ for pair in train_pair_set for id_ in pair)\n",
    "len(train_id_set)"
   ]
  },
  {
   "cell_type": "code",
   "execution_count": 18,
   "metadata": {},
   "outputs": [
    {
     "data": {
      "text/plain": [
       "7582"
      ]
     },
     "execution_count": 18,
     "metadata": {},
     "output_type": "execute_result"
    }
   ],
   "source": [
    "train_row_dict = {id_: row_dict[id_] for id_ in train_id_set}\n",
    "len(train_row_dict)"
   ]
  },
  {
   "cell_type": "code",
   "execution_count": 19,
   "metadata": {},
   "outputs": [
    {
     "data": {
      "text/plain": [
       "12381"
      ]
     },
     "execution_count": 19,
     "metadata": {},
     "output_type": "execute_result"
    }
   ],
   "source": [
    "valid_id_set = OrderedSet(id_ for pair in valid_pair_set for id_ in pair)\n",
    "len(valid_id_set)"
   ]
  },
  {
   "cell_type": "code",
   "execution_count": 20,
   "metadata": {
    "scrolled": true
   },
   "outputs": [
    {
     "data": {
      "text/plain": [
       "12381"
      ]
     },
     "execution_count": 20,
     "metadata": {},
     "output_type": "execute_result"
    }
   ],
   "source": [
    "valid_row_dict = {id_: row_dict[id_] for id_ in valid_id_set}\n",
    "len(valid_row_dict)"
   ]
  },
  {
   "cell_type": "markdown",
   "metadata": {},
   "source": [
    "## Self-training"
   ]
  },
  {
   "cell_type": "code",
   "execution_count": 21,
   "metadata": {},
   "outputs": [],
   "source": [
    "import torch\n",
    "import numpy as np"
   ]
  },
  {
   "cell_type": "code",
   "execution_count": 22,
   "metadata": {},
   "outputs": [],
   "source": [
    "torch.manual_seed(random_seed)\n",
    "np.random.seed(random_seed)"
   ]
  },
  {
   "cell_type": "code",
   "execution_count": 23,
   "metadata": {},
   "outputs": [
    {
     "name": "stderr",
     "output_type": "stream",
     "text": [
      "100%|██████████| 3/3 [00:00<00:00, 25.58it/s]\n"
     ]
    }
   ],
   "source": [
    "from entity_embed.data_utils.one_hot_encoders import RowOneHotEncoder\n",
    "\n",
    "row_encoder = RowOneHotEncoder(\n",
    "    row_dict,\n",
    "    attr_list=attr_list,\n",
    "    is_multitoken_attr_list=is_multitoken_attr_list,\n",
    "    tokenizer_fn=lambda s: s.split(),\n",
    "    alphabet=list('0123456789abcdefghijklmnopqrstuvwxyz!\"#$%&\\'()*+,-./:;<=>?@[\\\\]^_`{|}~ '),\n",
    "    show_progress=True,\n",
    ")"
   ]
  },
  {
   "cell_type": "code",
   "execution_count": 24,
   "metadata": {},
   "outputs": [],
   "source": [
    "from entity_embed.data_utils.datasets import PairDataset\n",
    "\n",
    "pos_pair_batch_size = 45\n",
    "neg_pair_batch_size = 1225\n",
    "\n",
    "train_dataset = PairDataset(\n",
    "    row_dict=train_row_dict,\n",
    "    cluster_attr=cluster_id_attr, \n",
    "    row_encoder=row_encoder,\n",
    "    pos_pair_batch_size=pos_pair_batch_size,\n",
    "    neg_pair_batch_size=neg_pair_batch_size\n",
    ")"
   ]
  },
  {
   "cell_type": "code",
   "execution_count": 25,
   "metadata": {},
   "outputs": [],
   "source": [
    "import os\n",
    "\n",
    "train_loader = torch.utils.data.DataLoader(\n",
    "    train_dataset,\n",
    "    batch_size=None,\n",
    "    shuffle=True,\n",
    "    num_workers=os.cpu_count(),\n",
    "    multiprocessing_context='fork'\n",
    ")"
   ]
  },
  {
   "cell_type": "code",
   "execution_count": 26,
   "metadata": {},
   "outputs": [
    {
     "data": {
      "text/plain": [
       "device(type='cuda')"
      ]
     },
     "execution_count": 26,
     "metadata": {},
     "output_type": "execute_result"
    }
   ],
   "source": [
    "if torch.cuda.is_available():\n",
    "    device = torch.device(\"cuda\")\n",
    "else:\n",
    "    device = torch.device(\"cpu\")\n",
    "\n",
    "device"
   ]
  },
  {
   "cell_type": "code",
   "execution_count": 27,
   "metadata": {},
   "outputs": [],
   "source": [
    "epochs = 20"
   ]
  },
  {
   "cell_type": "code",
   "execution_count": 28,
   "metadata": {
    "scrolled": true
   },
   "outputs": [
    {
     "name": "stderr",
     "output_type": "stream",
     "text": [
      "# Train Epoch:   0 Time: 14.029 Loss: 0.263:   5%|▌         | 178/3560 [00:14<04:22, 12.90it/s]"
     ]
    },
    {
     "name": "stdout",
     "output_type": "stream",
     "text": [
      "[('title', tensor(0.3527, device='cuda:0')), ('artist', tensor(0.3054, device='cuda:0')), ('album', tensor(0.3419, device='cuda:0'))]\n"
     ]
    },
    {
     "name": "stderr",
     "output_type": "stream",
     "text": [
      "# Train Epoch:   1 Time: 13.762 Loss: 0.067:  10%|█         | 356/3560 [00:27<03:59, 13.40it/s]"
     ]
    },
    {
     "name": "stdout",
     "output_type": "stream",
     "text": [
      "[('title', tensor(0.3554, device='cuda:0')), ('artist', tensor(0.3004, device='cuda:0')), ('album', tensor(0.3442, device='cuda:0'))]\n"
     ]
    },
    {
     "name": "stderr",
     "output_type": "stream",
     "text": [
      "# Train Epoch:   2 Time: 13.451 Loss: 0.033:  15%|█▌        | 534/3560 [00:41<03:42, 13.58it/s]"
     ]
    },
    {
     "name": "stdout",
     "output_type": "stream",
     "text": [
      "[('title', tensor(0.3572, device='cuda:0')), ('artist', tensor(0.3017, device='cuda:0')), ('album', tensor(0.3411, device='cuda:0'))]\n"
     ]
    },
    {
     "name": "stderr",
     "output_type": "stream",
     "text": [
      "# Train Epoch:   3 Time: 13.702 Loss: 0.021:  20%|██        | 712/3560 [00:55<03:49, 12.41it/s]"
     ]
    },
    {
     "name": "stdout",
     "output_type": "stream",
     "text": [
      "[('title', tensor(0.3599, device='cuda:0')), ('artist', tensor(0.2993, device='cuda:0')), ('album', tensor(0.3408, device='cuda:0'))]\n"
     ]
    },
    {
     "name": "stderr",
     "output_type": "stream",
     "text": [
      "# Train Epoch:   4 Time: 14.267 Loss: 0.017:  25%|██▌       | 890/3560 [01:09<03:19, 13.38it/s]"
     ]
    },
    {
     "name": "stdout",
     "output_type": "stream",
     "text": [
      "[('title', tensor(0.3630, device='cuda:0')), ('artist', tensor(0.2967, device='cuda:0')), ('album', tensor(0.3403, device='cuda:0'))]\n"
     ]
    },
    {
     "name": "stderr",
     "output_type": "stream",
     "text": [
      "# Train Epoch:   5 Time: 13.773 Loss: 0.015:  30%|███       | 1068/3560 [01:23<03:04, 13.50it/s]"
     ]
    },
    {
     "name": "stdout",
     "output_type": "stream",
     "text": [
      "[('title', tensor(0.3639, device='cuda:0')), ('artist', tensor(0.2935, device='cuda:0')), ('album', tensor(0.3426, device='cuda:0'))]\n"
     ]
    },
    {
     "name": "stderr",
     "output_type": "stream",
     "text": [
      "# Train Epoch:   6 Time: 13.895 Loss: 0.014:  35%|███▌      | 1246/3560 [01:37<02:55, 13.22it/s]"
     ]
    },
    {
     "name": "stdout",
     "output_type": "stream",
     "text": [
      "[('title', tensor(0.3659, device='cuda:0')), ('artist', tensor(0.2896, device='cuda:0')), ('album', tensor(0.3445, device='cuda:0'))]\n"
     ]
    },
    {
     "name": "stderr",
     "output_type": "stream",
     "text": [
      "# Train Epoch:   7 Time: 13.444 Loss: 0.013:  40%|████      | 1424/3560 [01:50<02:43, 13.10it/s]"
     ]
    },
    {
     "name": "stdout",
     "output_type": "stream",
     "text": [
      "[('title', tensor(0.3678, device='cuda:0')), ('artist', tensor(0.2886, device='cuda:0')), ('album', tensor(0.3436, device='cuda:0'))]\n"
     ]
    },
    {
     "name": "stderr",
     "output_type": "stream",
     "text": [
      "# Train Epoch:   8 Time: 13.706 Loss: 0.013:  45%|████▌     | 1602/3560 [02:04<02:24, 13.55it/s]"
     ]
    },
    {
     "name": "stdout",
     "output_type": "stream",
     "text": [
      "[('title', tensor(0.3696, device='cuda:0')), ('artist', tensor(0.2884, device='cuda:0')), ('album', tensor(0.3420, device='cuda:0'))]\n"
     ]
    },
    {
     "name": "stderr",
     "output_type": "stream",
     "text": [
      "# Train Epoch:   9 Time: 13.602 Loss: 0.012:  50%|█████     | 1780/3560 [02:18<02:22, 12.53it/s]"
     ]
    },
    {
     "name": "stdout",
     "output_type": "stream",
     "text": [
      "[('title', tensor(0.3730, device='cuda:0')), ('artist', tensor(0.2829, device='cuda:0')), ('album', tensor(0.3441, device='cuda:0'))]\n"
     ]
    },
    {
     "name": "stderr",
     "output_type": "stream",
     "text": [
      "# Train Epoch:  10 Time: 13.586 Loss: 0.012:  55%|█████▌    | 1958/3560 [02:31<01:58, 13.46it/s]"
     ]
    },
    {
     "name": "stdout",
     "output_type": "stream",
     "text": [
      "[('title', tensor(0.3749, device='cuda:0')), ('artist', tensor(0.2786, device='cuda:0')), ('album', tensor(0.3465, device='cuda:0'))]\n"
     ]
    },
    {
     "name": "stderr",
     "output_type": "stream",
     "text": [
      "# Train Epoch:  11 Time: 14.004 Loss: 0.011:  60%|██████    | 2136/3560 [02:45<01:52, 12.66it/s]"
     ]
    },
    {
     "name": "stdout",
     "output_type": "stream",
     "text": [
      "[('title', tensor(0.3755, device='cuda:0')), ('artist', tensor(0.2774, device='cuda:0')), ('album', tensor(0.3471, device='cuda:0'))]\n"
     ]
    },
    {
     "name": "stderr",
     "output_type": "stream",
     "text": [
      "# Train Epoch:  12 Time: 13.781 Loss: 0.010:  65%|██████▌   | 2314/3560 [02:59<01:44, 11.92it/s]"
     ]
    },
    {
     "name": "stdout",
     "output_type": "stream",
     "text": [
      "[('title', tensor(0.3781, device='cuda:0')), ('artist', tensor(0.2739, device='cuda:0')), ('album', tensor(0.3480, device='cuda:0'))]\n"
     ]
    },
    {
     "name": "stderr",
     "output_type": "stream",
     "text": [
      "# Train Epoch:  13 Time: 13.842 Loss: 0.010:  70%|███████   | 2492/3560 [03:13<01:19, 13.48it/s]"
     ]
    },
    {
     "name": "stdout",
     "output_type": "stream",
     "text": [
      "[('title', tensor(0.3827, device='cuda:0')), ('artist', tensor(0.2688, device='cuda:0')), ('album', tensor(0.3486, device='cuda:0'))]\n"
     ]
    },
    {
     "name": "stderr",
     "output_type": "stream",
     "text": [
      "# Train Epoch:  14 Time: 14.136 Loss: 0.010:  75%|███████▌  | 2670/3560 [03:27<01:07, 13.19it/s]"
     ]
    },
    {
     "name": "stdout",
     "output_type": "stream",
     "text": [
      "[('title', tensor(0.3847, device='cuda:0')), ('artist', tensor(0.2700, device='cuda:0')), ('album', tensor(0.3453, device='cuda:0'))]\n"
     ]
    },
    {
     "name": "stderr",
     "output_type": "stream",
     "text": [
      "# Train Epoch:  15 Time: 13.952 Loss: 0.009:  80%|████████  | 2848/3560 [03:41<00:56, 12.64it/s]"
     ]
    },
    {
     "name": "stdout",
     "output_type": "stream",
     "text": [
      "[('title', tensor(0.3854, device='cuda:0')), ('artist', tensor(0.2656, device='cuda:0')), ('album', tensor(0.3491, device='cuda:0'))]\n"
     ]
    },
    {
     "name": "stderr",
     "output_type": "stream",
     "text": [
      "# Train Epoch:  16 Time: 13.884 Loss: 0.009:  85%|████████▌ | 3026/3560 [03:55<00:41, 12.74it/s]"
     ]
    },
    {
     "name": "stdout",
     "output_type": "stream",
     "text": [
      "[('title', tensor(0.3856, device='cuda:0')), ('artist', tensor(0.2639, device='cuda:0')), ('album', tensor(0.3504, device='cuda:0'))]\n"
     ]
    },
    {
     "name": "stderr",
     "output_type": "stream",
     "text": [
      "# Train Epoch:  17 Time: 14.012 Loss: 0.008:  90%|█████████ | 3204/3560 [04:09<00:29, 12.27it/s]"
     ]
    },
    {
     "name": "stdout",
     "output_type": "stream",
     "text": [
      "[('title', tensor(0.3881, device='cuda:0')), ('artist', tensor(0.2604, device='cuda:0')), ('album', tensor(0.3516, device='cuda:0'))]\n"
     ]
    },
    {
     "name": "stderr",
     "output_type": "stream",
     "text": [
      "# Train Epoch:  18 Time: 14.110 Loss: 0.008:  95%|█████████▌| 3382/3560 [04:23<00:13, 13.20it/s]"
     ]
    },
    {
     "name": "stdout",
     "output_type": "stream",
     "text": [
      "[('title', tensor(0.3881, device='cuda:0')), ('artist', tensor(0.2580, device='cuda:0')), ('album', tensor(0.3539, device='cuda:0'))]\n"
     ]
    },
    {
     "name": "stderr",
     "output_type": "stream",
     "text": [
      "# Train Epoch:  19 Time: 14.113 Loss: 0.008: 100%|██████████| 3560/3560 [04:38<00:00, 12.80it/s]"
     ]
    },
    {
     "name": "stdout",
     "output_type": "stream",
     "text": [
      "[('title', tensor(0.3892, device='cuda:0')), ('artist', tensor(0.2560, device='cuda:0')), ('album', tensor(0.3548, device='cuda:0'))]\n"
     ]
    },
    {
     "name": "stderr",
     "output_type": "stream",
     "text": [
      "\n"
     ]
    }
   ],
   "source": [
    "# https://github.com/pytorch/examples/blob/master/mnist/main.py\n",
    "import time\n",
    "\n",
    "from pytorch_metric_learning.distances import CosineSimilarity\n",
    "from pytorch_metric_learning.losses import NTXentLoss\n",
    "from pytorch_metric_learning.miners import BatchHardMiner\n",
    "\n",
    "from entity_embed.models import BlockerNet, get_current_signature_weights\n",
    "from entity_embed.trainer import train_epoch, valid_epoch\n",
    "\n",
    "model = BlockerNet(row_encoder.attr_info_dict).to(device)\n",
    "loss_func = NTXentLoss(temperature=0.1)\n",
    "mining_func = BatchHardMiner(distance=CosineSimilarity())\n",
    "optimizer = torch.optim.Adam(model.parameters(), lr=0.001)\n",
    "\n",
    "with tqdm.tqdm(total=epochs * len(train_loader), desc=\"# training\") as p_bar:\n",
    "    for epoch in range(epochs):\n",
    "        # for phase in ['train', 'valid']:\n",
    "        for phase in ['train']:\n",
    "            if phase == 'valid' and epoch % 5 != 0:\n",
    "                # valid only every 5 epochs\n",
    "                continue\n",
    "            elif phase == 'train':\n",
    "                epoch_func = train_epoch\n",
    "                epoch_args = dict(\n",
    "                    model=model,\n",
    "                    loss_func=loss_func,\n",
    "                    mining_func=mining_func,\n",
    "                    device=device,\n",
    "                    train_loader=train_loader,\n",
    "                    optimizer=optimizer,\n",
    "                    epoch=epoch)\n",
    "            else:\n",
    "                epoch_func = valid_epoch\n",
    "                epoch_args = dict(\n",
    "                    model=model,\n",
    "                    loss_func=loss_func,\n",
    "                    device=device,\n",
    "                    valid_loader=valid_block_loader)\n",
    "            \n",
    "            loss_agg = 0.0\n",
    "            start_time = time.time()\n",
    "            \n",
    "            for idx, loss_item in enumerate(epoch_func(**epoch_args)):\n",
    "                loss_agg += loss_item\n",
    "                if phase == 'train':\n",
    "                    p_bar.update(1)\n",
    "                    p_bar.set_description(\n",
    "                        \"# Train Epoch: %3d Time: %.3f Loss: %.3f\"\n",
    "                        % (\n",
    "                            epoch,\n",
    "                            time.time() - start_time,\n",
    "                            loss_agg / (idx + 1),\n",
    "                        )\n",
    "                    )\n",
    "\n",
    "            if phase == 'train':\n",
    "                print(get_current_signature_weights(row_encoder.attr_info_dict, model))\n",
    "            else:\n",
    "                print(\"Valid loss: %.5f\" % (loss_agg / (idx + 1)))"
   ]
  },
  {
   "cell_type": "code",
   "execution_count": 29,
   "metadata": {},
   "outputs": [],
   "source": [
    "# torch.save(model, \"music_model.torch\")"
   ]
  },
  {
   "cell_type": "code",
   "execution_count": 30,
   "metadata": {},
   "outputs": [],
   "source": [
    "# model = torch.load(\"music_model.torch\")"
   ]
  },
  {
   "cell_type": "code",
   "execution_count": 31,
   "metadata": {},
   "outputs": [],
   "source": [
    "from entity_embed.data_utils.datasets import RowDataset\n",
    "\n",
    "valid_id_list = list(valid_id_set)\n",
    "row_batch_size = 32\n",
    "valid_row_dataset = RowDataset(\n",
    "    row_encoder=row_encoder,\n",
    "    row_dict=valid_row_dict,\n",
    "    batch_size=row_batch_size\n",
    ")\n",
    "valid_row_loader = torch.utils.data.DataLoader(\n",
    "    valid_row_dataset,\n",
    "    batch_size=None,\n",
    "    shuffle=False,\n",
    "    # num_workers=os.cpu_count(),\n",
    "    # multiprocessing_context='fork'\n",
    ")"
   ]
  },
  {
   "cell_type": "code",
   "execution_count": 32,
   "metadata": {
    "scrolled": false
   },
   "outputs": [
    {
     "name": "stderr",
     "output_type": "stream",
     "text": [
      "# batch embedding: 100%|██████████| 387/387 [00:10<00:00, 36.40it/s]\n"
     ]
    }
   ],
   "source": [
    "import tqdm\n",
    "import os\n",
    "import torch.nn.functional as F\n",
    "\n",
    "model.eval()\n",
    "valid_embed_matrix = []\n",
    "with tqdm.tqdm(total=len(valid_row_loader), desc=\"# batch embedding\") as p_bar:\n",
    "    for i, (t_dict, t_lengths_dict) in enumerate(valid_row_loader):\n",
    "        t_dict = {attr: t.to(device) for attr, t in t_dict.items()}\n",
    "        valid_embed_matrix.extend(\n",
    "            v.data.numpy()\n",
    "            for v in model(t_dict, t_lengths_dict).cpu().unbind()\n",
    "        )\n",
    "        p_bar.update(1)"
   ]
  },
  {
   "cell_type": "code",
   "execution_count": 33,
   "metadata": {},
   "outputs": [],
   "source": [
    "valid_id_to_index = {id_: index for index, id_ in enumerate(valid_id_set)}"
   ]
  },
  {
   "cell_type": "code",
   "execution_count": 34,
   "metadata": {},
   "outputs": [
    {
     "name": "stdout",
     "output_type": "stream",
     "text": [
      "CPU times: user 4.59 s, sys: 40.8 ms, total: 4.64 s\n",
      "Wall time: 551 ms\n"
     ]
    }
   ],
   "source": [
    "%%time\n",
    "\n",
    "ef_construction = 150\n",
    "M = 64\n",
    "metric = 'angular'\n",
    "\n",
    "# https://github.com/nmslib/hnswlib/blob/master/ALGO_PARAMS.md#construction-parameters\n",
    "approx_knn_index = HnswIndex(dimension=valid_embed_matrix[0].shape[0], metric=metric)\n",
    "for valid_embed_vec in valid_embed_matrix:\n",
    "    approx_knn_index.add_data(valid_embed_vec)\n",
    "\n",
    "approx_knn_index.build(    \n",
    "    m=M,\n",
    "    max_m0=M,\n",
    "    ef_construction=ef_construction,\n",
    "    n_threads=os.cpu_count(),\n",
    ")"
   ]
  },
  {
   "cell_type": "code",
   "execution_count": 35,
   "metadata": {},
   "outputs": [
    {
     "name": "stdout",
     "output_type": "stream",
     "text": [
      "CPU times: user 8.36 s, sys: 5.94 ms, total: 8.37 s\n",
      "Wall time: 726 ms\n"
     ]
    }
   ],
   "source": [
    "%%time\n",
    "\n",
    "ntop = 10\n",
    "\n",
    "neighbor_distance_list = approx_knn_index.batch_search_by_ids(\n",
    "    item_ids=list(range(len(valid_embed_matrix))),\n",
    "    k=ntop,\n",
    "    ef_search=-1,\n",
    "    num_threads=os.cpu_count(),\n",
    "    include_distances=True\n",
    ")"
   ]
  },
  {
   "cell_type": "code",
   "execution_count": 36,
   "metadata": {
    "scrolled": false
   },
   "outputs": [
    {
     "data": {
      "text/plain": [
       "[(0, 0.0),\n",
       " (1, 0.11829233169555664),\n",
       " (1475, 0.4682372212409973),\n",
       " (1474, 0.48449021577835083),\n",
       " (10464, 0.5463501811027527),\n",
       " (2039, 0.5763387680053711),\n",
       " (10463, 0.5765520334243774),\n",
       " (1332, 0.5827150344848633),\n",
       " (10466, 0.5829010009765625),\n",
       " (7618, 0.586234450340271)]"
      ]
     },
     "execution_count": 36,
     "metadata": {},
     "output_type": "execute_result"
    }
   ],
   "source": [
    "neighbor_distance_list[0]"
   ]
  },
  {
   "cell_type": "code",
   "execution_count": 37,
   "metadata": {},
   "outputs": [],
   "source": [
    "threshold = 0.5\n",
    "distance_threshold = 1 - threshold"
   ]
  },
  {
   "cell_type": "code",
   "execution_count": 38,
   "metadata": {
    "scrolled": true
   },
   "outputs": [
    {
     "data": {
      "text/plain": [
       "[{'TID': '1',\n",
       "  'CID': 1,\n",
       "  'CTID': '1',\n",
       "  'SourceID': '2',\n",
       "  'id': 0,\n",
       "  'number': '9',\n",
       "  'title': \"daniel balavoine - l ' enfant aux yeux d ' italie\",\n",
       "  'length': '219',\n",
       "  'artist': '',\n",
       "  'album': 'de vous a elle en passant par moi',\n",
       "  'year': '75',\n",
       "  'language': 'French'},\n",
       " {'TID': '15184',\n",
       "  'CID': 1,\n",
       "  'CTID': '2',\n",
       "  'SourceID': '3',\n",
       "  'id': 15183,\n",
       "  'number': '9',\n",
       "  'title': \"l ' enfant aux yeux d ' italie - de vous a elle en passant par moi\",\n",
       "  'length': '3.663',\n",
       "  'artist': 'daniel balavoine',\n",
       "  'album': '',\n",
       "  'year': \"'75\",\n",
       "  'language': 'French'},\n",
       " {'TID': '2160',\n",
       "  'CID': 1135,\n",
       "  'CTID': '1',\n",
       "  'SourceID': '5',\n",
       "  'id': 2159,\n",
       "  'number': '7',\n",
       "  'title': \"t ' as d ' beaux yeux tu sais\",\n",
       "  'length': '147800',\n",
       "  'artist': 'serge reggiani',\n",
       "  'album': 'enfants , soyez meilleurs que nous',\n",
       "  'year': '2000',\n",
       "  'language': 'French'},\n",
       " {'TID': '1731',\n",
       "  'CID': 1135,\n",
       "  'CTID': '2',\n",
       "  'SourceID': '1',\n",
       "  'id': 1730,\n",
       "  'number': '007',\n",
       "  'title': \"t ' as d ' beaux yeux tu sais ( enfants , soyez meilleurs que nous )\",\n",
       "  'length': '02:27',\n",
       "  'artist': 'serge reggiani',\n",
       "  'album': 'enfants , soyez meilleurs que nous',\n",
       "  'year': '2000',\n",
       "  'language': ''}]"
      ]
     },
     "execution_count": 38,
     "metadata": {},
     "output_type": "execute_result"
    }
   ],
   "source": [
    "[row_dict[valid_id_list[neighbor]] for neighbor, distance in neighbor_distance_list[0] if distance <= distance_threshold]"
   ]
  },
  {
   "cell_type": "code",
   "execution_count": 39,
   "metadata": {},
   "outputs": [
    {
     "name": "stderr",
     "output_type": "stream",
     "text": [
      "<ipython-input-39-89dae2ab332b>:3: TqdmDeprecationWarning: This function will be removed in tqdm==5.0.0\n",
      "Please use `tqdm.notebook.tqdm` instead of `tqdm.tqdm_notebook`\n",
      "  for i, neighbor_distance in tqdm.tqdm_notebook(enumerate(neighbor_distance_list), total=len(neighbor_distance_list)):\n"
     ]
    },
    {
     "data": {
      "application/vnd.jupyter.widget-view+json": {
       "model_id": "b8a4e32d579744a3bb3d6e59977fe8c6",
       "version_major": 2,
       "version_minor": 0
      },
      "text/plain": [
       "HBox(children=(HTML(value=''), FloatProgress(value=0.0, max=12381.0), HTML(value='')))"
      ]
     },
     "metadata": {},
     "output_type": "display_data"
    },
    {
     "name": "stdout",
     "output_type": "stream",
     "text": [
      "\n"
     ]
    },
    {
     "data": {
      "text/plain": [
       "22033"
      ]
     },
     "execution_count": 39,
     "metadata": {},
     "output_type": "execute_result"
    }
   ],
   "source": [
    "found_pair_set = set()\n",
    "\n",
    "for i, neighbor_distance in tqdm.tqdm_notebook(enumerate(neighbor_distance_list), total=len(neighbor_distance_list)):\n",
    "    for j, distance in neighbor_distance:\n",
    "        if i != j and distance <= distance_threshold:\n",
    "            pair = tuple(sorted([valid_id_list[i], valid_id_list[j]]))\n",
    "            found_pair_set.add(pair)\n",
    "\n",
    "len(found_pair_set)"
   ]
  },
  {
   "cell_type": "code",
   "execution_count": 40,
   "metadata": {},
   "outputs": [
    {
     "data": {
      "text/plain": [
       "1.7795816169937808"
      ]
     },
     "execution_count": 40,
     "metadata": {},
     "output_type": "execute_result"
    }
   ],
   "source": [
    "def pe_ratio(found_pair_set, valid_id_list):\n",
    "    return len(found_pair_set) / len(valid_id_list)\n",
    "\n",
    "pe_ratio(found_pair_set, valid_id_list)"
   ]
  },
  {
   "cell_type": "code",
   "execution_count": 41,
   "metadata": {},
   "outputs": [
    {
     "data": {
      "text/plain": [
       "(0.5039259292878864, 0.9869333333333333)"
      ]
     },
     "execution_count": 41,
     "metadata": {},
     "output_type": "execute_result"
    }
   ],
   "source": [
    "precision_and_recall(found_pair_set, valid_pair_set)"
   ]
  },
  {
   "cell_type": "code",
   "execution_count": 42,
   "metadata": {},
   "outputs": [
    {
     "data": {
      "text/plain": [
       "10930"
      ]
     },
     "execution_count": 42,
     "metadata": {},
     "output_type": "execute_result"
    }
   ],
   "source": [
    "false_positives = list(found_pair_set - valid_pair_set)\n",
    "len(false_positives)"
   ]
  },
  {
   "cell_type": "code",
   "execution_count": 43,
   "metadata": {},
   "outputs": [
    {
     "data": {
      "text/plain": [
       "147"
      ]
     },
     "execution_count": 43,
     "metadata": {},
     "output_type": "execute_result"
    }
   ],
   "source": [
    "false_negatives = list(valid_pair_set - found_pair_set)\n",
    "len(false_negatives)"
   ]
  },
  {
   "cell_type": "code",
   "execution_count": 44,
   "metadata": {},
   "outputs": [],
   "source": [
    "cos_similarity = lambda a, b: np.dot(a, b)"
   ]
  },
  {
   "cell_type": "code",
   "execution_count": 45,
   "metadata": {},
   "outputs": [
    {
     "data": {
      "text/plain": [
       "(0.014535156,\n",
       " {'TID': '490',\n",
       "  'CID': 266,\n",
       "  'CTID': '1',\n",
       "  'SourceID': '3',\n",
       "  'id': 489,\n",
       "  'number': '5',\n",
       "  'title': 'onriman - sakurada zhan di ju ge yao quan ji',\n",
       "  'length': '5.715',\n",
       "  'artist': 'tachibanamaria',\n",
       "  'album': '',\n",
       "  'year': '',\n",
       "  'language': 'Japanese'},\n",
       " {'TID': '1355',\n",
       "  'CID': 266,\n",
       "  'CTID': '2',\n",
       "  'SourceID': '4',\n",
       "  'id': 1354,\n",
       "  'number': '5',\n",
       "  'title': '005 -',\n",
       "  'length': '5m 42sec',\n",
       "  'artist': '',\n",
       "  'album': '( unknown )',\n",
       "  'year': 'null',\n",
       "  'language': 'Jap.'})"
      ]
     },
     "metadata": {},
     "output_type": "display_data"
    },
    {
     "data": {
      "text/plain": [
       "(0.09722456,\n",
       " {'TID': '561',\n",
       "  'CID': 298,\n",
       "  'CTID': '1',\n",
       "  'SourceID': '3',\n",
       "  'id': 560,\n",
       "  'number': '6',\n",
       "  'title': \"prikhodi - zn @ menatel '\",\n",
       "  'length': '4.055',\n",
       "  'artist': 'splin',\n",
       "  'album': '',\n",
       "  'year': \"'00\",\n",
       "  'language': 'Russian'},\n",
       " {'TID': '2355',\n",
       "  'CID': 298,\n",
       "  'CTID': '2',\n",
       "  'SourceID': '4',\n",
       "  'id': 2354,\n",
       "  'number': '6',\n",
       "  'title': '006 -',\n",
       "  'length': '4m 3sec',\n",
       "  'artist': '',\n",
       "  'album': '@ ( 2000 )',\n",
       "  'year': 'null',\n",
       "  'language': 'Rus.'})"
      ]
     },
     "metadata": {},
     "output_type": "display_data"
    },
    {
     "data": {
      "text/plain": [
       "(0.0596832,\n",
       " {'TID': '2355',\n",
       "  'CID': 298,\n",
       "  'CTID': '2',\n",
       "  'SourceID': '4',\n",
       "  'id': 2354,\n",
       "  'number': '6',\n",
       "  'title': '006 -',\n",
       "  'length': '4m 3sec',\n",
       "  'artist': '',\n",
       "  'album': '@ ( 2000 )',\n",
       "  'year': 'null',\n",
       "  'language': 'Rus.'},\n",
       " {'TID': '3390',\n",
       "  'CID': 298,\n",
       "  'CTID': '3',\n",
       "  'SourceID': '5',\n",
       "  'id': 3389,\n",
       "  'number': '6',\n",
       "  'title': 'prikhodi',\n",
       "  'length': '243293',\n",
       "  'artist': 'splin',\n",
       "  'album': \"zn @ menatel '\",\n",
       "  'year': '2000',\n",
       "  'language': 'Russian'})"
      ]
     },
     "metadata": {},
     "output_type": "display_data"
    },
    {
     "data": {
      "text/plain": [
       "(0.1449579,\n",
       " {'TID': '831',\n",
       "  'CID': 442,\n",
       "  'CTID': '1',\n",
       "  'SourceID': '3',\n",
       "  'id': 830,\n",
       "  'number': '13',\n",
       "  'title': '19841031',\n",
       "  'length': '8.667',\n",
       "  'artist': 'u2',\n",
       "  'album': '',\n",
       "  'year': '',\n",
       "  'language': 'English'},\n",
       " {'TID': '6047',\n",
       "  'CID': 442,\n",
       "  'CTID': '2',\n",
       "  'SourceID': '4',\n",
       "  'id': 6046,\n",
       "  'number': '13',\n",
       "  'title': '013 - bad',\n",
       "  'length': '8m 40sec',\n",
       "  'artist': 'u2',\n",
       "  'album': '1984 - 10 - 31 : sportpaleis ahoy , rotterdam , netherlands ( unknown )',\n",
       "  'year': 'null',\n",
       "  'language': 'nEg.'})"
      ]
     },
     "metadata": {},
     "output_type": "display_data"
    },
    {
     "data": {
      "text/plain": [
       "(0.22457673,\n",
       " {'TID': '831',\n",
       "  'CID': 442,\n",
       "  'CTID': '1',\n",
       "  'SourceID': '3',\n",
       "  'id': 830,\n",
       "  'number': '13',\n",
       "  'title': '19841031',\n",
       "  'length': '8.667',\n",
       "  'artist': 'u2',\n",
       "  'album': '',\n",
       "  'year': '',\n",
       "  'language': 'English'},\n",
       " {'TID': '11882',\n",
       "  'CID': 442,\n",
       "  'CTID': '3',\n",
       "  'SourceID': '5',\n",
       "  'id': 11881,\n",
       "  'number': '13',\n",
       "  'title': 'bad',\n",
       "  'length': '520000',\n",
       "  'artist': 'u2',\n",
       "  'album': '1984 - 10 - 31 : sportpaleis ahoy , rotterdam , netherlands',\n",
       "  'year': '',\n",
       "  'language': 'English'})"
      ]
     },
     "metadata": {},
     "output_type": "display_data"
    },
    {
     "data": {
      "text/plain": [
       "(0.24256386,\n",
       " {'TID': '831',\n",
       "  'CID': 442,\n",
       "  'CTID': '1',\n",
       "  'SourceID': '3',\n",
       "  'id': 830,\n",
       "  'number': '13',\n",
       "  'title': '19841031',\n",
       "  'length': '8.667',\n",
       "  'artist': 'u2',\n",
       "  'album': '',\n",
       "  'year': '',\n",
       "  'language': 'English'},\n",
       " {'TID': '18004',\n",
       "  'CID': 442,\n",
       "  'CTID': '4',\n",
       "  'SourceID': '1',\n",
       "  'id': 18003,\n",
       "  'number': '013',\n",
       "  'title': 'bad ( 1984 - 10 - 31 : sportpaleis ahoy , rotterdam , netherlands )',\n",
       "  'length': '08:40',\n",
       "  'artist': 'u2',\n",
       "  'album': '1984 - 10 - 31 : sportpaleis ahoy , rotterdam , netherlands',\n",
       "  'year': '',\n",
       "  'language': ''})"
      ]
     },
     "metadata": {},
     "output_type": "display_data"
    },
    {
     "data": {
      "text/plain": [
       "(-0.10132472,\n",
       " {'TID': '887',\n",
       "  'CID': 470,\n",
       "  'CTID': '1',\n",
       "  'SourceID': '1',\n",
       "  'id': 886,\n",
       "  'number': '006',\n",
       "  'title': \"sweet and slow ( guy ' s all - star shoe band )\",\n",
       "  'length': '03:04',\n",
       "  'artist': \"guy ' s all star shoe band\",\n",
       "  'album': \"guy ' s all - star shoe band\",\n",
       "  'year': '',\n",
       "  'language': ''},\n",
       " {'TID': '17706',\n",
       "  'CID': 470,\n",
       "  'CTID': '2',\n",
       "  'SourceID': '2',\n",
       "  'id': 17705,\n",
       "  'number': 'MBox10988814-HH',\n",
       "  'title': '6',\n",
       "  'length': \"Guy's All Star Shoe Band - Sweet and Slow\",\n",
       "  'artist': '1184',\n",
       "  'album': '',\n",
       "  'year': \"Guy's All-Star Shoe Band\",\n",
       "  'language': ''})"
      ]
     },
     "metadata": {},
     "output_type": "display_data"
    },
    {
     "data": {
      "text/plain": [
       "(0.3220865,\n",
       " {'TID': '948',\n",
       "  'CID': 502,\n",
       "  'CTID': '1',\n",
       "  'SourceID': '3',\n",
       "  'id': 947,\n",
       "  'number': '16',\n",
       "  'title': \"let ' s get together - subarashikikonosekai original soundtrack\",\n",
       "  'length': '0.267',\n",
       "  'artist': 'shi yuan zhang qing',\n",
       "  'album': '',\n",
       "  'year': \"'07\",\n",
       "  'language': 'Japanese'},\n",
       " {'TID': '7146',\n",
       "  'CID': 502,\n",
       "  'CTID': '2',\n",
       "  'SourceID': '4',\n",
       "  'id': 7145,\n",
       "  'number': '16',\n",
       "  'title': '',\n",
       "  'length': '0m 16sec',\n",
       "  'artist': '',\n",
       "  'album': 'soundtrack',\n",
       "  'year': 'null',\n",
       "  'language': 'Jap.'})"
      ]
     },
     "metadata": {},
     "output_type": "display_data"
    },
    {
     "data": {
      "text/plain": [
       "(0.4551689,\n",
       " {'TID': '984',\n",
       "  'CID': 521,\n",
       "  'CTID': '1',\n",
       "  'SourceID': '2',\n",
       "  'id': 983,\n",
       "  'number': '11',\n",
       "  'title': \"al martino - you ' re the love of my life\",\n",
       "  'length': '178',\n",
       "  'artist': '',\n",
       "  'album': 'best of jose carreras gala',\n",
       "  'year': '04',\n",
       "  'language': '[Multiple languages]'},\n",
       " {'TID': '2803',\n",
       "  'CID': 521,\n",
       "  'CTID': '2',\n",
       "  'SourceID': '3',\n",
       "  'id': 2802,\n",
       "  'number': '11',\n",
       "  'title': \"you ' re\",\n",
       "  'length': '2.967',\n",
       "  'artist': 'al martino',\n",
       "  'album': '',\n",
       "  'year': \"'04\",\n",
       "  'language': ''})"
      ]
     },
     "metadata": {},
     "output_type": "display_data"
    },
    {
     "data": {
      "text/plain": [
       "(0.40416634,\n",
       " {'TID': '1110',\n",
       "  'CID': 587,\n",
       "  'CTID': '1',\n",
       "  'SourceID': '4',\n",
       "  'id': 1109,\n",
       "  'number': '21',\n",
       "  'title': '21z -',\n",
       "  'length': '0m 43sec',\n",
       "  'artist': '',\n",
       "  'album': '3 () ( 1999 )',\n",
       "  'year': 'null',\n",
       "  'language': 'Jap.'},\n",
       " {'TID': '2482',\n",
       "  'CID': 587,\n",
       "  'CTID': '2',\n",
       "  'SourceID': '5',\n",
       "  'id': 2481,\n",
       "  'number': '21',\n",
       "  'title': 'ran se ti sanpuru',\n",
       "  'length': '41888',\n",
       "  'artist': 'da gu xing',\n",
       "  'album': 'gamera 3 xie shen ( irisu ) jue xing',\n",
       "  'year': '1999',\n",
       "  'language': 'Japanesee'})"
      ]
     },
     "metadata": {},
     "output_type": "display_data"
    }
   ],
   "source": [
    "for (id_left, id_right) in false_negatives[:10]:\n",
    "    i = valid_id_to_index[id_left]\n",
    "    j = valid_id_to_index[id_right]\n",
    "    display((cos_similarity(valid_embed_matrix[i], valid_embed_matrix[j]), row_dict[id_left], row_dict[id_right]))"
   ]
  }
 ],
 "metadata": {
  "kernelspec": {
   "display_name": "Python 3",
   "language": "python",
   "name": "python3"
  },
  "language_info": {
   "codemirror_mode": {
    "name": "ipython",
    "version": 3
   },
   "file_extension": ".py",
   "mimetype": "text/x-python",
   "name": "python",
   "nbconvert_exporter": "python",
   "pygments_lexer": "ipython3",
   "version": "3.8.6"
  }
 },
 "nbformat": 4,
 "nbformat_minor": 4
}
