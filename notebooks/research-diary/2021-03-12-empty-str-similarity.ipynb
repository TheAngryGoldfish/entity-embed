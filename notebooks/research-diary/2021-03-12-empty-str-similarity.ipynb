{
 "cells": [
  {
   "cell_type": "markdown",
   "metadata": {},
   "source": [
    "# Deduplication Example"
   ]
  },
  {
   "cell_type": "markdown",
   "metadata": {},
   "source": [
    "## Boilerplate"
   ]
  },
  {
   "cell_type": "code",
   "execution_count": 1,
   "metadata": {},
   "outputs": [],
   "source": [
    "%load_ext autoreload\n",
    "%autoreload 2"
   ]
  },
  {
   "cell_type": "code",
   "execution_count": 2,
   "metadata": {},
   "outputs": [],
   "source": [
    "from importlib import reload\n",
    "import logging\n",
    "reload(logging)\n",
    "logging.basicConfig(format='%(asctime)s %(levelname)s:%(message)s', level=logging.INFO, datefmt='%H:%M:%S')"
   ]
  },
  {
   "cell_type": "code",
   "execution_count": 3,
   "metadata": {},
   "outputs": [],
   "source": [
    "import sys\n",
    "\n",
    "sys.path.insert(0, '..')"
   ]
  },
  {
   "cell_type": "code",
   "execution_count": 4,
   "metadata": {},
   "outputs": [],
   "source": [
    "import entity_embed  # force n2 import to avoid libgomp issue https://github.com/kakao/n2/issues/42"
   ]
  },
  {
   "cell_type": "code",
   "execution_count": 5,
   "metadata": {},
   "outputs": [],
   "source": [
    "import torch\n",
    "import numpy as np\n",
    "\n",
    "random_seed = 42\n",
    "torch.manual_seed(random_seed)\n",
    "np.random.seed(random_seed)"
   ]
  },
  {
   "cell_type": "markdown",
   "metadata": {},
   "source": [
    "## Load Dataset"
   ]
  },
  {
   "cell_type": "markdown",
   "metadata": {},
   "source": [
    "We'll use the [Music Brainz 20K from Database Group Leipzig](https://dbs.uni-leipzig.de/research/projects/object_matching/benchmark_datasets_for_entity_resolution). From the site: \"The Music Brainz dataset is based on real records about songs from the MusicBrainz database but uses the DAPO data generator to create duplicates with modified attribute values. The generated dataset consists of five sources and contains duplicates for 50% of the original records in two to five sources. All duplicates are generated with a high degree of corruption to stress-test the ER and clustering approaches.\"\n",
    "\n",
    "Here is it's [README](https://www.informatik.uni-leipzig.de/~saeedi/musicBrainz_readme.txt):"
   ]
  },
  {
   "cell_type": "markdown",
   "metadata": {},
   "source": [
    "```\n",
    "5 sources\n",
    "---------- \n",
    "TID: a unique record's id (in the complete dataset).\n",
    "CID: cluster id (records having the same CID are duplicate)\n",
    "CTID: a unique id within a cluster (if two records belong to the same cluster they will have the same CID but different CTIDs). These ids (CTID) start with 1 and grow until cluster size.\n",
    "SourceID: identifies to which source a record belongs (there are five sources). The sources are deduplicated.\n",
    "Id: the original id from the source. Each source has its own Id-Format. Uniqueness is not guaranteed!! (can be ignored).\n",
    "number: track or song number in the album.\n",
    "length: the length of the track.\n",
    "artist: the interpreter (artist or band) of the track.\n",
    "year: date of publication.\n",
    "language: language of the track.\n",
    "```"
   ]
  },
  {
   "cell_type": "markdown",
   "metadata": {},
   "source": [
    "Let's download the CSV dataset to a temporary directory:"
   ]
  },
  {
   "cell_type": "code",
   "execution_count": 6,
   "metadata": {},
   "outputs": [],
   "source": [
    "import urllib\n",
    "import tempfile\n",
    "\n",
    "dataset_url = 'https://www.informatik.uni-leipzig.de/~saeedi/musicbrainz-20-A01.csv.dapo'\n",
    "tf = tempfile.NamedTemporaryFile(mode='r', delete=False)\n",
    "tf.close()\n",
    "\n",
    "urllib.request.urlretrieve(dataset_url, tf.name);"
   ]
  },
  {
   "cell_type": "markdown",
   "metadata": {},
   "source": [
    "Now we must read the CSV dataset into a `dict` called `row_dict`.\n",
    "\n",
    "`row_dict` will contain all rows from the dataset, and each row will have the indication of the true cluster it belongs to in the attr `CID`.\n",
    "\n",
    "So `CID` is our `cluster_attr`. entity-embed needs that to train, validate, and test.\n",
    "\n",
    "We'll dynamically attribute an ID for each row using `enumerate`. entity-embed needs that too."
   ]
  },
  {
   "cell_type": "code",
   "execution_count": 7,
   "metadata": {},
   "outputs": [],
   "source": [
    "import csv\n",
    "\n",
    "row_dict = {}\n",
    "cluster_attr = 'CID'\n",
    "\n",
    "with open(tf.name, newline='') as f:\n",
    "    for current_row_id, row in enumerate(csv.DictReader(f)):\n",
    "        row['id'] = current_row_id\n",
    "        row[cluster_attr] = int(row[cluster_attr])  # convert cluster_attr to int\n",
    "        row_dict[current_row_id] = row"
   ]
  },
  {
   "cell_type": "markdown",
   "metadata": {},
   "source": [
    "Here's an example of a row:"
   ]
  },
  {
   "cell_type": "code",
   "execution_count": 8,
   "metadata": {},
   "outputs": [
    {
     "data": {
      "text/plain": [
       "{'TID': '84',\n",
       " 'CID': 9369,\n",
       " 'CTID': '4',\n",
       " 'SourceID': '4',\n",
       " 'id': 83,\n",
       " 'number': '1',\n",
       " 'title': '001-Berimbou',\n",
       " 'length': '2m 23sec',\n",
       " 'artist': 'Astrud Gilberto',\n",
       " 'album': 'Look to the Rainbow (2008)',\n",
       " 'year': 'null',\n",
       " 'language': ' Eng.'}"
      ]
     },
     "execution_count": 8,
     "metadata": {},
     "output_type": "execute_result"
    }
   ],
   "source": [
    "row_dict[83]"
   ]
  },
  {
   "cell_type": "markdown",
   "metadata": {},
   "source": [
    "That's a great song, but it's actually called \"Berimbau\", not \"Berimbou\"! And it's a Brazilian song, in Portuguese. This a small example on how noisy is this dataset..."
   ]
  },
  {
   "cell_type": "markdown",
   "metadata": {},
   "source": [
    "## Preprocessing"
   ]
  },
  {
   "cell_type": "markdown",
   "metadata": {},
   "source": [
    "We'll perform a very minimal preprocessing of the dataset. We want to simply force ASCII chars, lowercase all chars, and strip leading and trailing whitespace.\n",
    "\n",
    "The fields we'll clean are the ones we'll use:"
   ]
  },
  {
   "cell_type": "code",
   "execution_count": 9,
   "metadata": {},
   "outputs": [],
   "source": [
    "attr_list = ['number', 'title', 'artist', 'album', 'year', 'language']"
   ]
  },
  {
   "cell_type": "code",
   "execution_count": 10,
   "metadata": {},
   "outputs": [],
   "source": [
    "import unidecode\n",
    "\n",
    "def clean_str(s):\n",
    "    return unidecode.unidecode(s).lower().strip()\n",
    "\n",
    "for row in row_dict.values():\n",
    "    for attr in attr_list:\n",
    "        row[attr] = clean_str(row[attr])"
   ]
  },
  {
   "cell_type": "code",
   "execution_count": 11,
   "metadata": {},
   "outputs": [
    {
     "data": {
      "text/plain": [
       "{'number': '1',\n",
       " 'title': '001-berimbou',\n",
       " 'artist': 'astrud gilberto',\n",
       " 'album': 'look to the rainbow (2008)',\n",
       " 'year': 'null',\n",
       " 'language': 'eng.'}"
      ]
     },
     "execution_count": 11,
     "metadata": {},
     "output_type": "execute_result"
    }
   ],
   "source": [
    "{k: v for k, v in row_dict[83].items() if k in attr_list}"
   ]
  },
  {
   "cell_type": "markdown",
   "metadata": {},
   "source": [
    "Forcing ASCII chars in this dataset is useful to improve recall because there's little difference between accented and not-accented chars here. Also, this dataset contains mostly latin chars.\n",
    "\n",
    "It's worth noting you can use any alphabet you need, so this accent removal is optional."
   ]
  },
  {
   "cell_type": "markdown",
   "metadata": {},
   "source": [
    "## Configure entity-embed attributes"
   ]
  },
  {
   "cell_type": "markdown",
   "metadata": {},
   "source": [
    "Now we will define how row fields (entity attributes) will be numericalized and encoded by the neural network. First we set an `alphabet`, here we'll use ASCII numbers, letters, symbols and space:"
   ]
  },
  {
   "cell_type": "code",
   "execution_count": 12,
   "metadata": {},
   "outputs": [],
   "source": [
    "alphabet = list('0123456789abcdefghijklmnopqrstuvwxyz!\"#$%&\\'()*+,-./:;<=>?@[\\\\]^_`{|}~ ')"
   ]
  },
  {
   "cell_type": "markdown",
   "metadata": {},
   "source": [
    "Then we set an `attr_config_dict`. It defines types, which determine how attributes are processed in the neural network:"
   ]
  },
  {
   "cell_type": "code",
   "execution_count": 13,
   "metadata": {},
   "outputs": [],
   "source": [
    "attr_config_dict = {\n",
    "    'number': {\n",
    "        'field_type': \"STRING\",\n",
    "        'alphabet': alphabet,\n",
    "        'max_str_len': None,  # compute\n",
    "    },\n",
    "    'title': {\n",
    "        'field_type': \"MULTITOKEN\",\n",
    "        'tokenizer': \"entity_embed.default_tokenizer\",\n",
    "        'alphabet': alphabet,\n",
    "        'max_str_len': None,  # compute\n",
    "    },\n",
    "    'title_semantic': {\n",
    "        'source_attr': 'title',\n",
    "        'field_type': \"SEMANTIC_MULTITOKEN\",\n",
    "        'tokenizer': \"entity_embed.default_tokenizer\",\n",
    "        'vocab': \"fasttext.en.300d\",\n",
    "    },\n",
    "    'artist': {\n",
    "        'field_type': \"MULTITOKEN\",\n",
    "        'tokenizer': \"entity_embed.default_tokenizer\",\n",
    "        'alphabet': alphabet,\n",
    "        'max_str_len': None,  # compute\n",
    "    },\n",
    "    'album': {\n",
    "        'field_type': \"MULTITOKEN\",\n",
    "        'tokenizer': \"entity_embed.default_tokenizer\",\n",
    "        'alphabet': alphabet,\n",
    "        'max_str_len': None,  # compute\n",
    "    },\n",
    "    'album_semantic': {\n",
    "        'source_attr': 'album',\n",
    "        'field_type': \"SEMANTIC_MULTITOKEN\",\n",
    "        'tokenizer': \"entity_embed.default_tokenizer\",\n",
    "        'vocab': \"fasttext.en.300d\",\n",
    "    },\n",
    "    'year': {\n",
    "        'field_type': \"STRING\",\n",
    "        'alphabet': alphabet,\n",
    "        'max_str_len': None,  # compute\n",
    "    },\n",
    "    'language': {\n",
    "        'field_type': \"STRING\",\n",
    "        'alphabet': alphabet,\n",
    "        'max_str_len': None,  # compute\n",
    "    },\n",
    "}"
   ]
  },
  {
   "cell_type": "markdown",
   "metadata": {},
   "source": [
    "Then we use our `attr_config_dict` to get a `row_numericalizer`.\n",
    "\n",
    "The same `row_numericalizer` must be used on ALL data: train, valid, test. This ensures numericalization will be consistent. Also, one must keep this `row_numericalizer` to use on production data:"
   ]
  },
  {
   "cell_type": "code",
   "execution_count": 14,
   "metadata": {},
   "outputs": [
    {
     "name": "stderr",
     "output_type": "stream",
     "text": [
      "12:01:39 INFO:For attr=number, computing actual max_str_len\n",
      "12:01:39 INFO:For attr=number, using actual_max_str_len=56\n",
      "12:01:39 INFO:For attr=title, computing actual max_str_len\n",
      "12:01:39 INFO:For attr=title, using actual_max_str_len=38\n",
      "12:01:39 INFO:Loading vectors from .vector_cache/wiki.en.vec.pt\n",
      "12:01:43 INFO:For attr=artist, computing actual max_str_len\n",
      "12:01:43 INFO:actual_max_str_len=31 must be even to enable NN pooling. Updating to 32\n",
      "12:01:43 INFO:For attr=artist, using actual_max_str_len=32\n",
      "12:01:43 INFO:For attr=album, computing actual max_str_len\n",
      "12:01:43 INFO:For attr=album, using actual_max_str_len=40\n",
      "12:01:43 INFO:Loading vectors from .vector_cache/wiki.en.vec.pt\n",
      "12:01:46 INFO:For attr=year, computing actual max_str_len\n",
      "12:01:46 INFO:For attr=year, using actual_max_str_len=68\n",
      "12:01:46 INFO:For attr=language, computing actual max_str_len\n",
      "12:01:46 INFO:For attr=language, using actual_max_str_len=72\n"
     ]
    },
    {
     "data": {
      "text/plain": [
       "<RowNumericalizer with attr_config_dict={'number': AttrConfig(source_attr='number', field_type=<FieldType.STRING: 'string'>, tokenizer='entity_embed.data_utils.numericalizer.default_tokenizer', alphabet=['0', '1', '2', '3', '4', '5', '6', '7', '8', '9', 'a', 'b', 'c', 'd', 'e', 'f', 'g', 'h', 'i', 'j', 'k', 'l', 'm', 'n', 'o', 'p', 'q', 'r', 's', 't', 'u', 'v', 'w', 'x', 'y', 'z', '!', '\"', '#', '$', '%', '&', \"'\", '(', ')', '*', '+', ',', '-', '.', '/', ':', ';', '<', '=', '>', '?', '@', '[', '\\\\', ']', '^', '_', '`', '{', '|', '}', '~', ' '], max_str_len=56, vocab=None, n_channels=8, embed_dropout_p=0.2, use_attention=True, use_mask=True), 'title': AttrConfig(source_attr='title', field_type=<FieldType.MULTITOKEN: 'multitoken'>, tokenizer='entity_embed.data_utils.numericalizer.default_tokenizer', alphabet=['0', '1', '2', '3', '4', '5', '6', '7', '8', '9', 'a', 'b', 'c', 'd', 'e', 'f', 'g', 'h', 'i', 'j', 'k', 'l', 'm', 'n', 'o', 'p', 'q', 'r', 's', 't', 'u', 'v', 'w', 'x', 'y', 'z', '!', '\"', '#', '$', '%', '&', \"'\", '(', ')', '*', '+', ',', '-', '.', '/', ':', ';', '<', '=', '>', '?', '@', '[', '\\\\', ']', '^', '_', '`', '{', '|', '}', '~', ' '], max_str_len=38, vocab=None, n_channels=8, embed_dropout_p=0.2, use_attention=True, use_mask=True), 'title_semantic': AttrConfig(source_attr='title', field_type=<FieldType.SEMANTIC_MULTITOKEN: 'semantic_multitoken'>, tokenizer='entity_embed.data_utils.numericalizer.default_tokenizer', alphabet=['0', '1', '2', '3', '4', '5', '6', '7', '8', '9', 'a', 'b', 'c', 'd', 'e', 'f', 'g', 'h', 'i', 'j', 'k', 'l', 'm', 'n', 'o', 'p', 'q', 'r', 's', 't', 'u', 'v', 'w', 'x', 'y', 'z', '!', '\"', '#', '$', '%', '&', \"'\", '(', ')', '*', '+', ',', '-', '.', '/', ':', ';', '<', '=', '>', '?', '@', '[', '\\\\', ']', '^', '_', '`', '{', '|', '}', '~', ' '], max_str_len=None, vocab=<torchtext.vocab.Vocab object at 0x7f224be79f70>, n_channels=8, embed_dropout_p=0.2, use_attention=True, use_mask=True), 'artist': AttrConfig(source_attr='artist', field_type=<FieldType.MULTITOKEN: 'multitoken'>, tokenizer='entity_embed.data_utils.numericalizer.default_tokenizer', alphabet=['0', '1', '2', '3', '4', '5', '6', '7', '8', '9', 'a', 'b', 'c', 'd', 'e', 'f', 'g', 'h', 'i', 'j', 'k', 'l', 'm', 'n', 'o', 'p', 'q', 'r', 's', 't', 'u', 'v', 'w', 'x', 'y', 'z', '!', '\"', '#', '$', '%', '&', \"'\", '(', ')', '*', '+', ',', '-', '.', '/', ':', ';', '<', '=', '>', '?', '@', '[', '\\\\', ']', '^', '_', '`', '{', '|', '}', '~', ' '], max_str_len=32, vocab=None, n_channels=8, embed_dropout_p=0.2, use_attention=True, use_mask=True), 'album': AttrConfig(source_attr='album', field_type=<FieldType.MULTITOKEN: 'multitoken'>, tokenizer='entity_embed.data_utils.numericalizer.default_tokenizer', alphabet=['0', '1', '2', '3', '4', '5', '6', '7', '8', '9', 'a', 'b', 'c', 'd', 'e', 'f', 'g', 'h', 'i', 'j', 'k', 'l', 'm', 'n', 'o', 'p', 'q', 'r', 's', 't', 'u', 'v', 'w', 'x', 'y', 'z', '!', '\"', '#', '$', '%', '&', \"'\", '(', ')', '*', '+', ',', '-', '.', '/', ':', ';', '<', '=', '>', '?', '@', '[', '\\\\', ']', '^', '_', '`', '{', '|', '}', '~', ' '], max_str_len=40, vocab=None, n_channels=8, embed_dropout_p=0.2, use_attention=True, use_mask=True), 'album_semantic': AttrConfig(source_attr='album', field_type=<FieldType.SEMANTIC_MULTITOKEN: 'semantic_multitoken'>, tokenizer='entity_embed.data_utils.numericalizer.default_tokenizer', alphabet=['0', '1', '2', '3', '4', '5', '6', '7', '8', '9', 'a', 'b', 'c', 'd', 'e', 'f', 'g', 'h', 'i', 'j', 'k', 'l', 'm', 'n', 'o', 'p', 'q', 'r', 's', 't', 'u', 'v', 'w', 'x', 'y', 'z', '!', '\"', '#', '$', '%', '&', \"'\", '(', ')', '*', '+', ',', '-', '.', '/', ':', ';', '<', '=', '>', '?', '@', '[', '\\\\', ']', '^', '_', '`', '{', '|', '}', '~', ' '], max_str_len=None, vocab=<torchtext.vocab.Vocab object at 0x7f224bdf0520>, n_channels=8, embed_dropout_p=0.2, use_attention=True, use_mask=True), 'year': AttrConfig(source_attr='year', field_type=<FieldType.STRING: 'string'>, tokenizer='entity_embed.data_utils.numericalizer.default_tokenizer', alphabet=['0', '1', '2', '3', '4', '5', '6', '7', '8', '9', 'a', 'b', 'c', 'd', 'e', 'f', 'g', 'h', 'i', 'j', 'k', 'l', 'm', 'n', 'o', 'p', 'q', 'r', 's', 't', 'u', 'v', 'w', 'x', 'y', 'z', '!', '\"', '#', '$', '%', '&', \"'\", '(', ')', '*', '+', ',', '-', '.', '/', ':', ';', '<', '=', '>', '?', '@', '[', '\\\\', ']', '^', '_', '`', '{', '|', '}', '~', ' '], max_str_len=68, vocab=None, n_channels=8, embed_dropout_p=0.2, use_attention=True, use_mask=True), 'language': AttrConfig(source_attr='language', field_type=<FieldType.STRING: 'string'>, tokenizer='entity_embed.data_utils.numericalizer.default_tokenizer', alphabet=['0', '1', '2', '3', '4', '5', '6', '7', '8', '9', 'a', 'b', 'c', 'd', 'e', 'f', 'g', 'h', 'i', 'j', 'k', 'l', 'm', 'n', 'o', 'p', 'q', 'r', 's', 't', 'u', 'v', 'w', 'x', 'y', 'z', '!', '\"', '#', '$', '%', '&', \"'\", '(', ')', '*', '+', ',', '-', '.', '/', ':', ';', '<', '=', '>', '?', '@', '[', '\\\\', ']', '^', '_', '`', '{', '|', '}', '~', ' '], max_str_len=72, vocab=None, n_channels=8, embed_dropout_p=0.2, use_attention=True, use_mask=True)}>"
      ]
     },
     "execution_count": 14,
     "metadata": {},
     "output_type": "execute_result"
    }
   ],
   "source": [
    "from entity_embed import AttrConfigDictParser\n",
    "\n",
    "row_numericalizer = AttrConfigDictParser.from_dict(attr_config_dict, row_dict=row_dict)\n",
    "row_numericalizer"
   ]
  },
  {
   "cell_type": "markdown",
   "metadata": {},
   "source": [
    "## Initialize Data Module"
   ]
  },
  {
   "cell_type": "markdown",
   "metadata": {},
   "source": [
    "Under the hoods entity-embed uses [pytorch-lightning](https://www.pytorchlightning.ai/), so we need to create a datamodule object to split our dataset between train, valid, and test data."
   ]
  },
  {
   "cell_type": "code",
   "execution_count": 15,
   "metadata": {},
   "outputs": [
    {
     "data": {
      "text/plain": [
       "10000"
      ]
     },
     "execution_count": 15,
     "metadata": {},
     "output_type": "execute_result"
    }
   ],
   "source": [
    "clusters_total = len(set(row[cluster_attr] for row in row_dict.values()))\n",
    "clusters_total"
   ]
  },
  {
   "cell_type": "markdown",
   "metadata": {},
   "source": [
    "Since there's a lot of clusters, we'll use only 2000 for training, and other 2000 for validation. We want to simulate a real dataset behavior. It's difficult to have a lot of training data for deduplication."
   ]
  },
  {
   "cell_type": "code",
   "execution_count": 16,
   "metadata": {},
   "outputs": [],
   "source": [
    "from entity_embed import DeduplicationDataModule\n",
    "\n",
    "train_cluster_len = 2000\n",
    "valid_cluster_len = 2000\n",
    "batch_size = 20\n",
    "eval_batch_size = 50\n",
    "datamodule = DeduplicationDataModule(\n",
    "    row_dict=row_dict,\n",
    "    cluster_attr=cluster_attr,\n",
    "    row_numericalizer=row_numericalizer,\n",
    "    batch_size=batch_size,\n",
    "    eval_batch_size=eval_batch_size,\n",
    "    train_cluster_len=train_cluster_len,\n",
    "    valid_cluster_len=valid_cluster_len,\n",
    "    test_cluster_len=clusters_total - valid_cluster_len - train_cluster_len,\n",
    "    only_plural_clusters=True,\n",
    "    random_seed=random_seed\n",
    ")"
   ]
  },
  {
   "cell_type": "markdown",
   "metadata": {},
   "source": [
    "We've used `DeduplicationDataModule` because we're doing Deduplication of a single dataset/table (a.k.a. Entity Clustering, Entity Resolution, etc.).\n",
    "\n",
    "We're NOT doing Record Linkage of two datasets here. Check the other notebook Record-Linkage-Example if you want to learn how to do it with entity-embed."
   ]
  },
  {
   "cell_type": "markdown",
   "metadata": {},
   "source": [
    "## Training"
   ]
  },
  {
   "cell_type": "markdown",
   "metadata": {},
   "source": [
    "Now the training process! Thanks to pytorch-lightining, it's easy to train, validate, and test with the same datamodule.\n",
    "\n",
    "We must choose the approximate nearest neighbors K, i.e., the top N our model will use to find duplicates in the embedding space. Below we're setting it on `ann_k` and initializing the `EntityEmbed` model object:"
   ]
  },
  {
   "cell_type": "code",
   "execution_count": 17,
   "metadata": {},
   "outputs": [],
   "source": [
    "from entity_embed import EntityEmbed\n",
    "\n",
    "ann_k = 10\n",
    "model = EntityEmbed(\n",
    "    row_numericalizer,\n",
    "    ann_k=ann_k,\n",
    ")"
   ]
  },
  {
   "cell_type": "markdown",
   "metadata": {},
   "source": [
    "Inspecting the model will reveal it's built based on the attributes we set on `attr_config_dict`: "
   ]
  },
  {
   "cell_type": "code",
   "execution_count": 18,
   "metadata": {},
   "outputs": [
    {
     "data": {
      "text/plain": [
       "EntityEmbed(\n",
       "  (blocker_net): BlockerNet(\n",
       "    (embedding_net_dict): ModuleDict(\n",
       "      (number): StringEmbedCNN(\n",
       "        (conv1): Conv1d(1, 8, kernel_size=(3,), stride=(1,), padding=(1,), bias=False)\n",
       "        (dense_net): Sequential(\n",
       "          (0): Linear(in_features=15456, out_features=300, bias=True)\n",
       "          (1): Dropout(p=0.2, inplace=False)\n",
       "        )\n",
       "      )\n",
       "      (title): MultitokenAttentionEmbed(\n",
       "        (embedding_net): StringEmbedCNN(\n",
       "          (conv1): Conv1d(1, 8, kernel_size=(3,), stride=(1,), padding=(1,), bias=False)\n",
       "          (dense_net): Sequential(\n",
       "            (0): Linear(in_features=10488, out_features=300, bias=True)\n",
       "            (1): Dropout(p=0.2, inplace=False)\n",
       "          )\n",
       "        )\n",
       "        (gru): GRU(300, 150, batch_first=True, bidirectional=True)\n",
       "        (attention_net): MaskedAttention()\n",
       "      )\n",
       "      (title_semantic): MultitokenAttentionEmbed(\n",
       "        (embedding_net): SemanticEmbedNet(\n",
       "          (dense_net): Sequential(\n",
       "            (0): Embedding(20725, 300)\n",
       "            (1): Dropout(p=0.2, inplace=False)\n",
       "          )\n",
       "        )\n",
       "        (gru): GRU(300, 150, batch_first=True, bidirectional=True)\n",
       "        (attention_net): MaskedAttention()\n",
       "      )\n",
       "      (artist): MultitokenAttentionEmbed(\n",
       "        (embedding_net): StringEmbedCNN(\n",
       "          (conv1): Conv1d(1, 8, kernel_size=(3,), stride=(1,), padding=(1,), bias=False)\n",
       "          (dense_net): Sequential(\n",
       "            (0): Linear(in_features=8832, out_features=300, bias=True)\n",
       "            (1): Dropout(p=0.2, inplace=False)\n",
       "          )\n",
       "        )\n",
       "        (gru): GRU(300, 150, batch_first=True, bidirectional=True)\n",
       "        (attention_net): MaskedAttention()\n",
       "      )\n",
       "      (album): MultitokenAttentionEmbed(\n",
       "        (embedding_net): StringEmbedCNN(\n",
       "          (conv1): Conv1d(1, 8, kernel_size=(3,), stride=(1,), padding=(1,), bias=False)\n",
       "          (dense_net): Sequential(\n",
       "            (0): Linear(in_features=11040, out_features=300, bias=True)\n",
       "            (1): Dropout(p=0.2, inplace=False)\n",
       "          )\n",
       "        )\n",
       "        (gru): GRU(300, 150, batch_first=True, bidirectional=True)\n",
       "        (attention_net): MaskedAttention()\n",
       "      )\n",
       "      (album_semantic): MultitokenAttentionEmbed(\n",
       "        (embedding_net): SemanticEmbedNet(\n",
       "          (dense_net): Sequential(\n",
       "            (0): Embedding(11799, 300)\n",
       "            (1): Dropout(p=0.2, inplace=False)\n",
       "          )\n",
       "        )\n",
       "        (gru): GRU(300, 150, batch_first=True, bidirectional=True)\n",
       "        (attention_net): MaskedAttention()\n",
       "      )\n",
       "      (year): StringEmbedCNN(\n",
       "        (conv1): Conv1d(1, 8, kernel_size=(3,), stride=(1,), padding=(1,), bias=False)\n",
       "        (dense_net): Sequential(\n",
       "          (0): Linear(in_features=18768, out_features=300, bias=True)\n",
       "          (1): Dropout(p=0.2, inplace=False)\n",
       "        )\n",
       "      )\n",
       "      (language): StringEmbedCNN(\n",
       "        (conv1): Conv1d(1, 8, kernel_size=(3,), stride=(1,), padding=(1,), bias=False)\n",
       "        (dense_net): Sequential(\n",
       "          (0): Linear(in_features=19872, out_features=300, bias=True)\n",
       "          (1): Dropout(p=0.2, inplace=False)\n",
       "        )\n",
       "      )\n",
       "    )\n",
       "    (tuple_signature): TupleSignature()\n",
       "  )\n",
       "  (losser): SupConLoss(\n",
       "    (distance): DotProductSimilarity()\n",
       "    (reducer): AvgNonZeroReducer()\n",
       "  )\n",
       ")"
      ]
     },
     "execution_count": 18,
     "metadata": {},
     "output_type": "execute_result"
    }
   ],
   "source": [
    "model"
   ]
  },
  {
   "cell_type": "markdown",
   "metadata": {},
   "source": [
    "To train, we use a [pytorch-lightning Trainer](https://pytorch-lightning.readthedocs.io/en/1.1.6/trainer.html).\n",
    "\n",
    "As Entity Embed focus is on recall, we'll define an `EarlyStopping` by `valid_recall_at_0.3`.\n",
    "\n",
    "`0.3` here is the threshold for cosine similarity of embedding vectors. Note we're using a validation metric, as the training process will run validation on every epoch due to `check_val_every_n_epoch=1`.\n",
    "\n",
    "We also set a `TensorBoardLogger`, thus you can use `tensorboard --logdir notebooks/tb_logs` to check the train and valid metrics."
   ]
  },
  {
   "cell_type": "code",
   "execution_count": 19,
   "metadata": {
    "scrolled": false
   },
   "outputs": [
    {
     "name": "stderr",
     "output_type": "stream",
     "text": [
      "12:01:46 INFO:GPU available: True, used: True\n",
      "12:01:46 INFO:TPU available: None, using: 0 TPU cores\n",
      "12:01:46 INFO:LOCAL_RANK: 0 - CUDA_VISIBLE_DEVICES: [0]\n"
     ]
    }
   ],
   "source": [
    "import pytorch_lightning as pl\n",
    "from pytorch_lightning.callbacks.early_stopping import EarlyStopping\n",
    "from pytorch_lightning.loggers import TensorBoardLogger\n",
    "\n",
    "max_epochs = 50\n",
    "early_stop_callback = EarlyStoppingMinEpochs(\n",
    "   monitor='valid_recall_at_0.5',\n",
    "   min_delta=0.00,\n",
    "   patience=10,\n",
    "   verbose=True,\n",
    "   mode='max'\n",
    ")\n",
    "tb_save_dir = 'tb_logs'\n",
    "tb_name = 'music'\n",
    "trainer = pl.Trainer(\n",
    "    gpus=1,\n",
    "    max_epochs=max_epochs,\n",
    "    check_val_every_n_epoch=1,\n",
    "    callbacks=[early_stop_callback],\n",
    "    logger=TensorBoardLogger(tb_save_dir, name=tb_name),\n","    reload_dataloaders_every_epoch=True\n",
    ")"
   ]
  },
  {
   "cell_type": "markdown",
   "metadata": {},
   "source": [
    "OK, all set, call `fit`!"
   ]
  },
  {
   "cell_type": "code",
   "execution_count": 20,
   "metadata": {},
   "outputs": [
    {
     "name": "stderr",
     "output_type": "stream",
     "text": [
      "12:01:46 INFO:Train pair count: 6445\n",
      "12:01:46 INFO:Valid pair count: 6611\n",
      "12:01:46 INFO:Test pair count: 3194\n",
      "12:01:48 INFO:\n",
      "  | Name        | Type       | Params\n",
      "-------------------------------------------\n",
      "0 | blocker_net | BlockerNet | 37.1 M\n",
      "1 | losser      | SupConLoss | 0     \n",
      "-------------------------------------------\n",
      "27.4 M    Trainable params\n",
      "9.8 M     Non-trainable params\n",
      "37.1 M    Total params\n"
     ]
    },
    {
     "data": {
      "application/vnd.jupyter.widget-view+json": {
       "model_id": "",
       "version_major": 2,
       "version_minor": 0
      },
      "text/plain": [
       "HBox(children=(HTML(value='Validation sanity check'), FloatProgress(value=1.0, bar_style='info', layout=Layout…"
      ]
     },
     "metadata": {},
     "output_type": "display_data"
    },
    {
     "data": {
      "application/vnd.jupyter.widget-view+json": {
       "model_id": "7c1674e123e34419964beb4ff662b532",
       "version_major": 2,
       "version_minor": 0
      },
      "text/plain": [
       "HBox(children=(HTML(value='Training'), FloatProgress(value=1.0, bar_style='info', layout=Layout(flex='2'), max…"
      ]
     },
     "metadata": {},
     "output_type": "display_data"
    },
    {
     "data": {
      "application/vnd.jupyter.widget-view+json": {
       "model_id": "",
       "version_major": 2,
       "version_minor": 0
      },
      "text/plain": [
       "HBox(children=(HTML(value='Validating'), FloatProgress(value=1.0, bar_style='info', layout=Layout(flex='2'), m…"
      ]
     },
     "metadata": {},
     "output_type": "display_data"
    },
    {
     "data": {
      "application/vnd.jupyter.widget-view+json": {
       "model_id": "",
       "version_major": 2,
       "version_minor": 0
      },
      "text/plain": [
       "HBox(children=(HTML(value='Validating'), FloatProgress(value=1.0, bar_style='info', layout=Layout(flex='2'), m…"
      ]
     },
     "metadata": {},
     "output_type": "display_data"
    },
    {
     "data": {
      "application/vnd.jupyter.widget-view+json": {
       "model_id": "",
       "version_major": 2,
       "version_minor": 0
      },
      "text/plain": [
       "HBox(children=(HTML(value='Validating'), FloatProgress(value=1.0, bar_style='info', layout=Layout(flex='2'), m…"
      ]
     },
     "metadata": {},
     "output_type": "display_data"
    },
    {
     "data": {
      "application/vnd.jupyter.widget-view+json": {
       "model_id": "",
       "version_major": 2,
       "version_minor": 0
      },
      "text/plain": [
       "HBox(children=(HTML(value='Validating'), FloatProgress(value=1.0, bar_style='info', layout=Layout(flex='2'), m…"
      ]
     },
     "metadata": {},
     "output_type": "display_data"
    },
    {
     "data": {
      "application/vnd.jupyter.widget-view+json": {
       "model_id": "",
       "version_major": 2,
       "version_minor": 0
      },
      "text/plain": [
       "HBox(children=(HTML(value='Validating'), FloatProgress(value=1.0, bar_style='info', layout=Layout(flex='2'), m…"
      ]
     },
     "metadata": {},
     "output_type": "display_data"
    },
    {
     "data": {
      "application/vnd.jupyter.widget-view+json": {
       "model_id": "",
       "version_major": 2,
       "version_minor": 0
      },
      "text/plain": [
       "HBox(children=(HTML(value='Validating'), FloatProgress(value=1.0, bar_style='info', layout=Layout(flex='2'), m…"
      ]
     },
     "metadata": {},
     "output_type": "display_data"
    },
    {
     "data": {
      "application/vnd.jupyter.widget-view+json": {
       "model_id": "",
       "version_major": 2,
       "version_minor": 0
      },
      "text/plain": [
       "HBox(children=(HTML(value='Validating'), FloatProgress(value=1.0, bar_style='info', layout=Layout(flex='2'), m…"
      ]
     },
     "metadata": {},
     "output_type": "display_data"
    },
    {
     "data": {
      "application/vnd.jupyter.widget-view+json": {
       "model_id": "",
       "version_major": 2,
       "version_minor": 0
      },
      "text/plain": [
       "HBox(children=(HTML(value='Validating'), FloatProgress(value=1.0, bar_style='info', layout=Layout(flex='2'), m…"
      ]
     },
     "metadata": {},
     "output_type": "display_data"
    },
    {
     "data": {
      "application/vnd.jupyter.widget-view+json": {
       "model_id": "",
       "version_major": 2,
       "version_minor": 0
      },
      "text/plain": [
       "HBox(children=(HTML(value='Validating'), FloatProgress(value=1.0, bar_style='info', layout=Layout(flex='2'), m…"
      ]
     },
     "metadata": {},
     "output_type": "display_data"
    },
    {
     "data": {
      "application/vnd.jupyter.widget-view+json": {
       "model_id": "",
       "version_major": 2,
       "version_minor": 0
      },
      "text/plain": [
       "HBox(children=(HTML(value='Validating'), FloatProgress(value=1.0, bar_style='info', layout=Layout(flex='2'), m…"
      ]
     },
     "metadata": {},
     "output_type": "display_data"
    },
    {
     "data": {
      "application/vnd.jupyter.widget-view+json": {
       "model_id": "",
       "version_major": 2,
       "version_minor": 0
      },
      "text/plain": [
       "HBox(children=(HTML(value='Validating'), FloatProgress(value=1.0, bar_style='info', layout=Layout(flex='2'), m…"
      ]
     },
     "metadata": {},
     "output_type": "display_data"
    },
    {
     "name": "stdout",
     "output_type": "stream",
     "text": [
      "\n"
     ]
    },
    {
     "data": {
      "text/plain": [
       "1"
      ]
     },
     "execution_count": 20,
     "metadata": {},
     "output_type": "execute_result"
    }
   ],
   "source": [
    "trainer.fit(model, datamodule)"
   ]
  },
  {
   "cell_type": "markdown",
   "metadata": {},
   "source": [
    "Now training is done, we can easily check which attributes are most important for the final embedding:"
   ]
  },
  {
   "cell_type": "code",
   "execution_count": 21,
   "metadata": {},
   "outputs": [
    {
     "data": {
      "text/plain": [
       "{'number': 0.09433826804161072,\n",
       " 'title': 0.19264604151248932,\n",
       " 'title_semantic': 0.16569261252880096,\n",
       " 'artist': 0.11421024054288864,\n",
       " 'album': 0.16919216513633728,\n",
       " 'album_semantic': 0.15727759897708893,\n",
       " 'year': 0.06217905133962631,\n",
       " 'language': 0.04446407034993172}"
      ]
     },
     "execution_count": 21,
     "metadata": {},
     "output_type": "execute_result"
    }
   ],
   "source": [
    "model.blocker_net.get_signature_weights()"
   ]
  },
  {
   "cell_type": "markdown",
   "metadata": {},
   "source": [
    "And we can check the best validation model:"
   ]
  },
  {
   "cell_type": "code",
   "execution_count": 22,
   "metadata": {},
   "outputs": [
    {
     "data": {
      "text/plain": [
       "{'valid_f1_at_0.3': 0.3071371291098636,\n",
       " 'valid_f1_at_0.5': 0.7991798185659251,\n",
       " 'valid_f1_at_0.7': 0.9589978993231153,\n",
       " 'valid_f1_at_0.9': 0.6803712204370821,\n",
       " 'valid_pair_entity_ratio_at_0.3': 6.182964754664824,\n",
       " 'valid_pair_entity_ratio_at_0.5': 1.638389771941949,\n",
       " 'valid_pair_entity_ratio_at_0.7': 1.0784381478921907,\n",
       " 'valid_pair_entity_ratio_at_0.9': 0.5891499654457498,\n",
       " 'valid_precision_at_0.3': 0.1819375750971023,\n",
       " 'valid_precision_at_0.5': 0.6781609195402298,\n",
       " 'valid_precision_at_0.7': 0.9873438000640821,\n",
       " 'valid_precision_at_0.9': 0.9997067448680352,\n",
       " 'valid_recall_at_0.3': 0.9848736953562245,\n",
       " 'valid_recall_at_0.5': 0.9727726516412041,\n",
       " 'valid_recall_at_0.7': 0.9322341551958856,\n",
       " 'valid_recall_at_0.9': 0.5156557253063077}"
      ]
     },
     "execution_count": 22,
     "metadata": {},
     "output_type": "execute_result"
    }
   ],
   "source": [
    "from entity_embed import validate_best\n",
    "\n",
    "validate_best(trainer)"
   ]
  },
  {
   "cell_type": "markdown",
   "metadata": {},
   "source": [
    "## Testing"
   ]
  },
  {
   "cell_type": "markdown",
   "metadata": {},
   "source": [
    "With the best validation model (`ckpt_path='best'`), we can check the performance on the test set: "
   ]
  },
  {
   "cell_type": "code",
   "execution_count": 23,
   "metadata": {},
   "outputs": [
    {
     "name": "stderr",
     "output_type": "stream",
     "text": [
      "12:05:38 INFO:Train pair count: 6445\n",
      "12:05:38 INFO:Valid pair count: 6611\n",
      "12:05:38 INFO:Test pair count: 3194\n"
     ]
    },
    {
     "data": {
      "application/vnd.jupyter.widget-view+json": {
       "model_id": "927b89d346f0432aa41482a1fce4bc2f",
       "version_major": 2,
       "version_minor": 0
      },
      "text/plain": [
       "HBox(children=(HTML(value='Testing'), FloatProgress(value=1.0, bar_style='info', layout=Layout(flex='2'), max=…"
      ]
     },
     "metadata": {},
     "output_type": "display_data"
    },
    {
     "name": "stdout",
     "output_type": "stream",
     "text": [
      "\n"
     ]
    },
    {
     "data": {
      "text/plain": [
       "[{'test_f1_at_0.3': 0.3274998709410975,\n",
       "  'test_f1_at_0.5': 0.8667767685108726,\n",
       "  'test_f1_at_0.7': 0.9683838870165302,\n",
       "  'test_f1_at_0.9': 0.7128752770501712,\n",
       "  'test_pair_entity_ratio_at_0.3': 5.648393854748603,\n",
       "  'test_pair_entity_ratio_at_0.5': 1.4217877094972067,\n",
       "  'test_pair_entity_ratio_at_0.7': 1.0604050279329609,\n",
       "  'test_pair_entity_ratio_at_0.9': 0.6176675977653632,\n",
       "  'test_precision_at_0.3': 0.196080855535637,\n",
       "  'test_precision_at_0.5': 0.7733300589390962,\n",
       "  'test_precision_at_0.7': 0.9934145538360224,\n",
       "  'test_precision_at_0.9': 1.0,\n",
       "  'test_recall_at_0.3': 0.9931120851596744,\n",
       "  'test_recall_at_0.5': 0.9859110832811522,\n",
       "  'test_recall_at_0.7': 0.9445835942391985,\n",
       "  'test_recall_at_0.9': 0.5538509705698184}]"
      ]
     },
     "execution_count": 23,
     "metadata": {},
     "output_type": "execute_result"
    }
   ],
   "source": [
    "trainer.test(ckpt_path='best', verbose=False)"
   ]
  },
  {
   "cell_type": "markdown",
   "metadata": {},
   "source": [
    "## Testing manually (like a production run)"
   ]
  },
  {
   "cell_type": "markdown",
   "metadata": {},
   "source": [
    "When running in production, you only have access to the trained `model` object and the production `row_dict` (without the `cluster_attr` filled, of course).\n",
    "\n",
    "So let's simulate that by removing `cluster_attr` from the test_row_dict:"
   ]
  },
  {
   "cell_type": "code",
   "execution_count": 24,
   "metadata": {},
   "outputs": [],
   "source": [
    "import copy\n",
    "\n",
    "test_row_dict_with_cluster = datamodule.test_row_dict\n",
    "test_row_dict = copy.deepcopy(test_row_dict_with_cluster)\n",
    "\n",
    "for row in test_row_dict.values():\n",
    "    del row[cluster_attr]"
   ]
  },
  {
   "cell_type": "markdown",
   "metadata": {},
   "source": [
    "Keep the `test_pos_pair_set` in a variable for evaluation:"
   ]
  },
  {
   "cell_type": "code",
   "execution_count": 25,
   "metadata": {},
   "outputs": [],
   "source": [
    "test_pos_pair_set = datamodule.test_pos_pair_set"
   ]
  },
  {
   "cell_type": "markdown",
   "metadata": {},
   "source": [
    "Before testing manually, do some cleanup:"
   ]
  },
  {
   "cell_type": "code",
   "execution_count": 26,
   "metadata": {},
   "outputs": [],
   "source": [
    "import gc\n",
    "del trainer\n",
    "del datamodule\n",
    "gc.collect()\n",
    "torch.cuda.empty_cache()"
   ]
  },
  {
   "cell_type": "markdown",
   "metadata": {},
   "source": [
    "Then call `predict`:"
   ]
  },
  {
   "cell_type": "code",
   "execution_count": 27,
   "metadata": {},
   "outputs": [
    {
     "data": {
      "application/vnd.jupyter.widget-view+json": {
       "model_id": "e01e6cd14e514fb289cc499abc73159c",
       "version_major": 2,
       "version_minor": 0
      },
      "text/plain": [
       "HBox(children=(HTML(value='# batch embedding'), FloatProgress(value=0.0, max=58.0), HTML(value='')))"
      ]
     },
     "metadata": {},
     "output_type": "display_data"
    },
    {
     "name": "stdout",
     "output_type": "stream",
     "text": [
      "\n"
     ]
    }
   ],
   "source": [
    "test_vector_dict = model.predict(\n",
    "    row_dict=test_row_dict,\n",
    "    batch_size=eval_batch_size\n",
    ")"
   ]
  },
  {
   "cell_type": "markdown",
   "metadata": {},
   "source": [
    "Double-check if returned embeddings on `test_vector_dict` have the same length of `test_row_dict`:"
   ]
  },
  {
   "cell_type": "code",
   "execution_count": 28,
   "metadata": {},
   "outputs": [],
   "source": [
    "assert len(test_vector_dict) == len(test_row_dict)"
   ]
  },
  {
   "cell_type": "markdown",
   "metadata": {},
   "source": [
    "Now init an `ANNEntityIndex`, insert all embeddings from `test_vector_dict` on it, and build it:"
   ]
  },
  {
   "cell_type": "code",
   "execution_count": 29,
   "metadata": {
    "scrolled": true
   },
   "outputs": [
    {
     "name": "stdout",
     "output_type": "stream",
     "text": [
      "CPU times: user 821 ms, sys: 23.2 ms, total: 844 ms\n",
      "Wall time: 159 ms\n"
     ]
    }
   ],
   "source": [
    "%%time\n",
    "\n",
    "from entity_embed import ANNEntityIndex\n",
    "\n",
    "ann_index = ANNEntityIndex(embedding_size=model.embedding_size)\n",
    "ann_index.insert_vector_dict(test_vector_dict)\n",
    "ann_index.build()"
   ]
  },
  {
   "cell_type": "markdown",
   "metadata": {},
   "source": [
    "With the index built, we can now search on it and find the candidate duplicate pairs:"
   ]
  },
  {
   "cell_type": "code",
   "execution_count": 30,
   "metadata": {},
   "outputs": [
    {
     "name": "stdout",
     "output_type": "stream",
     "text": [
      "CPU times: user 1.17 s, sys: 1.11 ms, total: 1.17 s\n",
      "Wall time: 122 ms\n"
     ]
    }
   ],
   "source": [
    "%%time\n",
    "\n",
    "sim_threshold = 0.3\n",
    "found_pair_set = ann_index.search_pairs(\n",
    "    k=ann_k,\n",
    "    sim_threshold=sim_threshold\n",
    ")"
   ]
  },
  {
   "cell_type": "markdown",
   "metadata": {},
   "source": [
    "Let's check now the metrics of the found duplicate pairs:"
   ]
  },
  {
   "cell_type": "code",
   "execution_count": 31,
   "metadata": {},
   "outputs": [
    {
     "data": {
      "text/plain": [
       "5.648393854748603"
      ]
     },
     "execution_count": 31,
     "metadata": {},
     "output_type": "execute_result"
    }
   ],
   "source": [
    "from entity_embed.evaluation import pair_entity_ratio\n",
    "\n",
    "pair_entity_ratio(len(found_pair_set), len(test_row_dict))"
   ]
  },
  {
   "cell_type": "code",
   "execution_count": 32,
   "metadata": {},
   "outputs": [
    {
     "data": {
      "text/plain": [
       "(0.1960190393768931, 0.9927989981214778)"
      ]
     },
     "execution_count": 32,
     "metadata": {},
     "output_type": "execute_result"
    }
   ],
   "source": [
    "from entity_embed.evaluation import precision_and_recall\n",
    "\n",
    "precision_and_recall(found_pair_set, test_pos_pair_set)"
   ]
  },
  {
   "cell_type": "markdown",
   "metadata": {},
   "source": [
    "Same numbers of the `trainer.test`, so our manual testing is fine."
   ]
  },
  {
   "cell_type": "markdown",
   "metadata": {},
   "source": [
    "Finally, we can check the false positives and negatives to see if they're really difficult:"
   ]
  },
  {
   "cell_type": "code",
   "execution_count": 33,
   "metadata": {},
   "outputs": [
    {
     "data": {
      "text/plain": [
       "13006"
      ]
     },
     "execution_count": 33,
     "metadata": {},
     "output_type": "execute_result"
    }
   ],
   "source": [
    "false_positives = list(found_pair_set - test_pos_pair_set)\n",
    "len(false_positives)"
   ]
  },
  {
   "cell_type": "code",
   "execution_count": 34,
   "metadata": {},
   "outputs": [
    {
     "data": {
      "text/plain": [
       "23"
      ]
     },
     "execution_count": 34,
     "metadata": {},
     "output_type": "execute_result"
    }
   ],
   "source": [
    "false_negatives = list(test_pos_pair_set - found_pair_set)\n",
    "len(false_negatives)"
   ]
  },
  {
   "cell_type": "code",
   "execution_count": 35,
   "metadata": {},
   "outputs": [],
   "source": [
    "cos_similarity = lambda a, b: np.dot(a, b)"
   ]
  },
  {
   "cell_type": "code",
   "execution_count": 36,
   "metadata": {
    "scrolled": true
   },
   "outputs": [
    {
     "data": {
      "text/plain": [
       "(0.3307814,\n",
       " {'TID': '4226',\n",
       "  'CID': 5514,\n",
       "  'CTID': '4',\n",
       "  'SourceID': '2',\n",
       "  'id': 4225,\n",
       "  'number': '1',\n",
       "  'title': 'paul hardcastle - awakening thoughts',\n",
       "  'length': '96',\n",
       "  'artist': '',\n",
       "  'album': 'jazzmasters 6',\n",
       "  'year': '',\n",
       "  'language': 'english'},\n",
       " {'TID': '7595',\n",
       "  'CID': 3583,\n",
       "  'CTID': '2',\n",
       "  'SourceID': '2',\n",
       "  'id': 7594,\n",
       "  'number': '1',\n",
       "  'title': 'krokus -',\n",
       "  'length': '270',\n",
       "  'artist': '',\n",
       "  'album': 'headhunter',\n",
       "  'year': '83',\n",
       "  'language': 'english'})"
      ]
     },
     "metadata": {},
     "output_type": "display_data"
    },
    {
     "data": {
      "text/plain": [
       "(0.38442078,\n",
       " {'TID': '1079',\n",
       "  'CID': 1914,\n",
       "  'CTID': '2',\n",
       "  'SourceID': '1',\n",
       "  'id': 1078,\n",
       "  'number': '005',\n",
       "  'title': 'le aquile (gioielli rubati)',\n",
       "  'length': '02:55',\n",
       "  'artist': 'alice',\n",
       "  'album': 'gioielli rubati',\n",
       "  'year': '1985',\n",
       "  'language': ''},\n",
       " {'TID': '4385',\n",
       "  'CID': 2277,\n",
       "  'CTID': '1',\n",
       "  'SourceID': '3',\n",
       "  'id': 4384,\n",
       "  'number': '7',\n",
       "  'title': 'futuri coniugali - sono uscite le materie',\n",
       "  'length': '2.683',\n",
       "  'artist': 'marcilo agro e il duo maravilha',\n",
       "  'album': '',\n",
       "  'year': \"'09\",\n",
       "  'language': 'italian'})"
      ]
     },
     "metadata": {},
     "output_type": "display_data"
    },
    {
     "data": {
      "text/plain": [
       "(0.3392095,\n",
       " {'TID': '3353',\n",
       "  'CID': 5648,\n",
       "  'CTID': '3',\n",
       "  'SourceID': '2',\n",
       "  'id': 3352,\n",
       "  'number': '10',\n",
       "  'title': '- vertical',\n",
       "  'length': '270',\n",
       "  'artist': '',\n",
       "  'album': 'departure',\n",
       "  'year': '13',\n",
       "  'language': 'english'},\n",
       " {'TID': '11871',\n",
       "  'CID': 6185,\n",
       "  'CTID': '1',\n",
       "  'SourceID': '3',\n",
       "  'id': 11870,\n",
       "  'number': '26',\n",
       "  'title': 'control - fabriclive 71: dj ez',\n",
       "  'length': '2.617',\n",
       "  'artist': 'disclosure feat. ria ritchie',\n",
       "  'album': '',\n",
       "  'year': \"'13\",\n",
       "  'language': 'english'})"
      ]
     },
     "metadata": {},
     "output_type": "display_data"
    }
   ],
   "source": [
    "for (id_left, id_right) in false_positives[:3]:\n",
    "    display(\n",
    "        (\n",
    "            cos_similarity(test_vector_dict[id_left], test_vector_dict[id_right]),\n",
    "            row_dict[id_left], row_dict[id_right]\n",
    "        )\n",
    "    )"
   ]
  },
  {
   "cell_type": "code",
   "execution_count": 37,
   "metadata": {
    "scrolled": true
   },
   "outputs": [
    {
     "data": {
      "text/plain": [
       "(-0.0059844656,\n",
       " {'TID': '10010',\n",
       "  'CID': 500,\n",
       "  'CTID': '3',\n",
       "  'SourceID': '2',\n",
       "  'id': 10009,\n",
       "  'number': 'mbox4691812-hh',\n",
       "  'title': '6',\n",
       "  'length': 'Panzerchrits - Death Approaches',\n",
       "  'artist': '216',\n",
       "  'album': '',\n",
       "  'year': 'room service',\n",
       "  'language': '03'},\n",
       " {'TID': '10466',\n",
       "  'CID': 500,\n",
       "  'CTID': '2',\n",
       "  'SourceID': '1',\n",
       "  'id': 10465,\n",
       "  'number': '006',\n",
       "  'title': 'death approaches (room service)',\n",
       "  'length': '03:36',\n",
       "  'artist': 'panzerchrist',\n",
       "  'album': 'room service',\n",
       "  'year': '2003',\n",
       "  'language': ''})"
      ]
     },
     "metadata": {},
     "output_type": "display_data"
    },
    {
     "data": {
      "text/plain": [
       "(0.29673195,\n",
       " {'TID': '1054',\n",
       "  'CID': 5139,\n",
       "  'CTID': '4',\n",
       "  'SourceID': '3',\n",
       "  'id': 1053,\n",
       "  'number': '2',\n",
       "  'title': 'yu gui ri - iro~zebura huina~rebox',\n",
       "  'length': '3.933',\n",
       "  'artist': 'iero~zebura',\n",
       "  'album': '',\n",
       "  'year': \"'11\",\n",
       "  'language': ''},\n",
       " {'TID': '14027',\n",
       "  'CID': 5139,\n",
       "  'CTID': '5',\n",
       "  'SourceID': '4',\n",
       "  'id': 14026,\n",
       "  'number': '2',\n",
       "  'title': '002-',\n",
       "  'length': '3m 56sec',\n",
       "  'artist': '',\n",
       "  'album': 'box (2011)',\n",
       "  'year': 'null',\n",
       "  'language': 'unknown'})"
      ]
     },
     "metadata": {},
     "output_type": "display_data"
    },
    {
     "data": {
      "text/plain": [
       "(0.2822885,\n",
       " {'TID': '9897',\n",
       "  'CID': 5139,\n",
       "  'CTID': '1',\n",
       "  'SourceID': '5',\n",
       "  'id': 9896,\n",
       "  'number': '2',\n",
       "  'title': 'yu gui ri',\n",
       "  'length': '236000',\n",
       "  'artist': 'iero~zebura',\n",
       "  'album': 'iero~zebura huina~rebox',\n",
       "  'year': '2011',\n",
       "  'language': ''},\n",
       " {'TID': '14027',\n",
       "  'CID': 5139,\n",
       "  'CTID': '5',\n",
       "  'SourceID': '4',\n",
       "  'id': 14026,\n",
       "  'number': '2',\n",
       "  'title': '002-',\n",
       "  'length': '3m 56sec',\n",
       "  'artist': '',\n",
       "  'album': 'box (2011)',\n",
       "  'year': 'null',\n",
       "  'language': 'unknown'})"
      ]
     },
     "metadata": {},
     "output_type": "display_data"
    }
   ],
   "source": [
    "for (id_left, id_right) in false_negatives[:3]:\n",
    "    display(\n",
    "        (\n",
    "            cos_similarity(test_vector_dict[id_left], test_vector_dict[id_right]),\n",
    "            row_dict[id_left], row_dict[id_right]\n",
    "        )\n",
    "    )"
   ]
  },
  {
   "cell_type": "markdown",
   "metadata": {},
   "source": [
    "## t-sne visualization"
   ]
  },
  {
   "cell_type": "markdown",
   "metadata": {},
   "source": [
    "Let's visualize a small sample of the test embeddings and see if they look properly clustered:"
   ]
  },
  {
   "cell_type": "code",
   "execution_count": 38,
   "metadata": {},
   "outputs": [],
   "source": [
    "vis_sample_size = 10"
   ]
  },
  {
   "cell_type": "code",
   "execution_count": 39,
   "metadata": {},
   "outputs": [],
   "source": [
    "from entity_embed.data_utils.utils import row_dict_to_cluster_dict\n",
    "\n",
    "test_cluster_dict = row_dict_to_cluster_dict(test_row_dict_with_cluster, cluster_attr)\n",
    "vis_cluster_dict = dict(sorted(test_cluster_dict.items(), key=lambda x: len(x[1]), reverse=True)[:vis_sample_size])"
   ]
  },
  {
   "cell_type": "code",
   "execution_count": 40,
   "metadata": {},
   "outputs": [],
   "source": [
    "vis_x = np.stack([test_vector_dict[id_] for cluster in vis_cluster_dict.values() for id_ in cluster])\n",
    "vis_y = np.array([cluster_id for cluster_id, cluster in vis_cluster_dict.items() for __ in cluster])"
   ]
  },
  {
   "cell_type": "code",
   "execution_count": 41,
   "metadata": {},
   "outputs": [],
   "source": [
    "from sklearn.manifold import TSNE\n",
    "\n",
    "tnse = TSNE(metric='cosine', perplexity=15, random_state=random_seed)\n",
    "tsne_results = tnse.fit_transform(vis_x)"
   ]
  },
  {
   "cell_type": "code",
   "execution_count": 42,
   "metadata": {
    "scrolled": false
   },
   "outputs": [
    {
     "data": {
      "image/png": "[encoded data removed]",
      "text/plain": [
       "<Figure size 1152x720 with 1 Axes>"
      ]
     },
     "metadata": {
      "needs_background": "light"
     },
     "output_type": "display_data"
    }
   ],
   "source": [
    "%matplotlib inline\n",
    "import matplotlib.pyplot as plt\n",
    "import seaborn as sns\n",
    "import itertools\n",
    "\n",
    "plt.figure(figsize=(16,10))\n",
    "ax = sns.scatterplot(\n",
    "    x=tsne_results[:,0],\n",
    "    y=tsne_results[:,1],\n",
    "    hue=vis_y,\n",
    "    palette=sns.color_palette(\"hls\", len(vis_cluster_dict.keys())),\n",
    "    legend=\"full\",\n",
    "    alpha=0.8\n",
    ")\n",
    "for id_, (x, y) in zip(itertools.chain.from_iterable(vis_cluster_dict.values()), tsne_results):\n",
    "    # text = id_\n",
    "    text = test_row_dict[id_]['title'][:30]\n",
    "    ax.text(x + 2, y + 2, text)"
   ]
  },
  {
   "cell_type": "markdown",
   "metadata": {},
   "source": [
    "## Empty attrs t-sne visualization"
   ]
  },
  {
   "cell_type": "code",
   "execution_count": 43,
   "metadata": {},
   "outputs": [],
   "source": [
    "import os\n",
    "\n",
    "large_dataset_filepath = f'{os.environ[\"HOME\"]}/Downloads/musicbrainz-2000-A01.csv.dapo'\n",
    "\n",
    "large_row_dict = {}\n",
    "cluster_attr = 'CID'\n",
    "\n",
    "with open(large_dataset_filepath, newline='') as f:\n",
    "    for current_row_id, row in enumerate(csv.DictReader(f)):\n",
    "        row['id'] = current_row_id\n",
    "        row[cluster_attr] = int(row[cluster_attr])  # convert cluster_attr to int\n",
    "        large_row_dict[current_row_id] = row"
   ]
  },
  {
   "cell_type": "code",
   "execution_count": 44,
   "metadata": {},
   "outputs": [],
   "source": [
    "for attr in attr_list:\n",
    "    attr_config = row_numericalizer.attr_config_dict[attr]\n",
    "    \n",
    "    for row in large_row_dict.values():\n",
    "        row[attr] = clean_str(row[attr])[:attr_config.max_str_len]"
   ]
  },
  {
   "cell_type": "code",
   "execution_count": 45,
   "metadata": {},
   "outputs": [
    {
     "data": {
      "application/vnd.jupyter.widget-view+json": {
       "model_id": "f06d9953b215451085f356526f9b622e",
       "version_major": 2,
       "version_minor": 0
      },
      "text/plain": [
       "HBox(children=(HTML(value='# batch embedding'), FloatProgress(value=0.0, max=38750.0), HTML(value='')))"
      ]
     },
     "metadata": {},
     "output_type": "display_data"
    },
    {
     "name": "stdout",
     "output_type": "stream",
     "text": [
      "\n"
     ]
    },
    {
     "data": {
      "text/plain": [
       "1937500"
      ]
     },
     "execution_count": 45,
     "metadata": {},
     "output_type": "execute_result"
    }
   ],
   "source": [
    "large_vector_dict = model.predict(\n",
    "    row_dict=large_row_dict,\n",
    "    batch_size=eval_batch_size\n",
    ")\n",
    "len(large_vector_dict)"
   ]
  },
  {
   "cell_type": "code",
   "execution_count": 46,
   "metadata": {
    "scrolled": true
   },
   "outputs": [
    {
     "data": {
      "application/vnd.jupyter.widget-view+json": {
       "model_id": "02bd5e77b1c347cabdaa3022f1b2eedd",
       "version_major": 2,
       "version_minor": 0
      },
      "text/plain": [
       "HBox(children=(HTML(value='# batch embedding'), FloatProgress(value=0.0, max=1.0), HTML(value='')))"
      ]
     },
     "metadata": {},
     "output_type": "display_data"
    },
    {
     "name": "stdout",
     "output_type": "stream",
     "text": [
      "\n"
     ]
    }
   ],
   "source": [
    "empty_row = {attr: \"\" for attr in attr_list}\n",
    "[empty_x] = model.predict(row_dict={-1: empty_row}, batch_size=1).values()"
   ]
  },
  {
   "cell_type": "code",
   "execution_count": 47,
   "metadata": {},
   "outputs": [],
   "source": [
    "large_ann_index = ANNEntityIndex(embedding_size=model.embedding_size)\n",
    "large_ann_index.insert_vector_dict(large_vector_dict)\n",
    "large_ann_index.build()"
   ]
  },
  {
   "cell_type": "code",
   "execution_count": 61,
   "metadata": {},
   "outputs": [],
   "source": [
    "# large_ann_index.approx_knn_index.save(f'{os.environ[\"HOME\"]}/Desktop/large_ann_index.pickle')"
   ]
  },
  {
   "cell_type": "code",
   "execution_count": 94,
   "metadata": {},
   "outputs": [
    {
     "data": {
      "text/plain": [
       "50"
      ]
     },
     "execution_count": 94,
     "metadata": {},
     "output_type": "execute_result"
    }
   ],
   "source": [
    "e_ann_k = 50\n",
    "\n",
    "[empty_neighbors] = large_ann_index.approx_knn_index.batch_search_by_vectors(\n",
    "    vs=[empty_x],\n",
    "    k=e_ann_k,\n",
    "    include_distances=True,\n",
    ")\n",
    "empty_neighbors = [id_ for id_, dis in empty_neighbors if dis <= (1 - sim_threshold)]\n",
    "len(empty_neighbors)"
   ]
  },
  {
   "cell_type": "code",
   "execution_count": 95,
   "metadata": {},
   "outputs": [
    {
     "data": {
      "application/vnd.jupyter.widget-view+json": {
       "model_id": "48f2988f6d744a0492ffeb2f169dbc76",
       "version_major": 2,
       "version_minor": 0
      },
      "text/plain": [
       "HBox(children=(HTML(value='# batch embedding'), FloatProgress(value=0.0, max=2.0), HTML(value='')))"
      ]
     },
     "metadata": {},
     "output_type": "display_data"
    },
    {
     "name": "stdout",
     "output_type": "stream",
     "text": [
      "\n"
     ]
    }
   ],
   "source": [
    "e_row_dict = {**{-1: empty_row}, **{id_: large_row_dict[id_] for id_ in empty_neighbors}}\n",
    "e_vis_x = np.stack(list(model.predict(row_dict=e_row_dict, batch_size=eval_batch_size).values()))\n",
    "e_vis_y = np.array([-1] + [large_row_dict[id_][cluster_attr] for id_ in empty_neighbors])"
   ]
  },
  {
   "cell_type": "code",
   "execution_count": 96,
   "metadata": {},
   "outputs": [],
   "source": [
    "e_tnse = TSNE(metric='cosine', perplexity=15, random_state=random_seed)\n",
    "e_tsne_results = tnse.fit_transform(e_vis_x)"
   ]
  },
  {
   "cell_type": "code",
   "execution_count": 97,
   "metadata": {},
   "outputs": [
    {
     "data": {
      "text/plain": [
       "51"
      ]
     },
     "execution_count": 97,
     "metadata": {},
     "output_type": "execute_result"
    }
   ],
   "source": [
    "len(e_row_dict.keys())"
   ]
  },
  {
   "cell_type": "code",
   "execution_count": 98,
   "metadata": {},
   "outputs": [
    {
     "data": {
      "image/png": "[encoded data removed]",
      "text/plain": [
       "<Figure size 1152x720 with 1 Axes>"
      ]
     },
     "metadata": {
      "needs_background": "light"
     },
     "output_type": "display_data"
    }
   ],
   "source": [
    "%matplotlib inline\n",
    "plt.figure(figsize=(16,10))\n",
    "ax = sns.scatterplot(\n",
    "    x=e_tsne_results[:,0],\n",
    "    y=e_tsne_results[:,1],\n",
    "    hue=e_vis_y,\n",
    "    palette=sns.color_palette(\"hls\", len(set(e_vis_y))),\n",
    "    legend=\"full\",\n",
    "    alpha=0.8\n",
    ")\n",
    "for id_, (x, y) in zip(e_row_dict.keys(), e_tsne_results):\n",
    "    if id_ != -1:\n",
    "        row = large_row_dict[id_]\n",
    "    else:\n",
    "        row = empty_row\n",
    "    text = f\"{row['number']} - {row['title']} - {row['artist']} - {row['album']}\"[:30]\n",
    "    if text.replace('-', '').strip() == \"\":\n",
    "        text = \"<EMPTY>\"\n",
    "    ax.text(x + 2, y + 2, text)"
   ]
  },
  {
   "cell_type": "code",
   "execution_count": 102,
   "metadata": {},
   "outputs": [
    {
     "data": {
      "text/plain": [
       "(0.87669206,\n",
       " {'number': '',\n",
       "  'title': '',\n",
       "  'artist': '',\n",
       "  'album': '',\n",
       "  'year': '08',\n",
       "  'language': ''},\n",
       " {'number': '',\n",
       "  'title': '',\n",
       "  'artist': '',\n",
       "  'album': '',\n",
       "  'year': '84',\n",
       "  'language': ''})"
      ]
     },
     "metadata": {},
     "output_type": "display_data"
    },
    {
     "data": {
      "text/plain": [
       "(0.8073148,\n",
       " {'number': '',\n",
       "  'title': '',\n",
       "  'artist': '',\n",
       "  'album': '',\n",
       "  'year': '93',\n",
       "  'language': ''},\n",
       " {'number': '',\n",
       "  'title': '',\n",
       "  'artist': '',\n",
       "  'album': '',\n",
       "  'year': '84',\n",
       "  'language': ''})"
      ]
     },
     "metadata": {},
     "output_type": "display_data"
    },
    {
     "data": {
      "text/plain": [
       "(0.85570186,\n",
       " {'number': '',\n",
       "  'title': '',\n",
       "  'artist': '',\n",
       "  'album': '',\n",
       "  'year': '93',\n",
       "  'language': ''},\n",
       " {'number': '',\n",
       "  'title': '',\n",
       "  'artist': '',\n",
       "  'album': '',\n",
       "  'year': '2003',\n",
       "  'language': ''})"
      ]
     },
     "metadata": {},
     "output_type": "display_data"
    },
    {
     "data": {
      "text/plain": [
       "(0.8693726,\n",
       " {'number': '',\n",
       "  'title': '',\n",
       "  'artist': '',\n",
       "  'album': '',\n",
       "  'year': '2002',\n",
       "  'language': ''},\n",
       " {'number': '',\n",
       "  'title': '',\n",
       "  'artist': '',\n",
       "  'album': '',\n",
       "  'year': '2003',\n",
       "  'language': ''})"
      ]
     },
     "metadata": {},
     "output_type": "display_data"
    },
    {
     "data": {
      "text/plain": [
       "(1.0,\n",
       " {'number': '3',\n",
       "  'title': '',\n",
       "  'artist': '',\n",
       "  'album': '',\n",
       "  'year': '',\n",
       "  'language': ''},\n",
       " {'number': '3',\n",
       "  'title': '',\n",
       "  'artist': '',\n",
       "  'album': '',\n",
       "  'year': '',\n",
       "  'language': ''})"
      ]
     },
     "metadata": {},
     "output_type": "display_data"
    },
    {
     "data": {
      "text/plain": [
       "(0.8370414,\n",
       " {'number': '3',\n",
       "  'title': '',\n",
       "  'artist': '',\n",
       "  'album': '',\n",
       "  'year': '',\n",
       "  'language': ''},\n",
       " {'number': '003',\n",
       "  'title': '',\n",
       "  'artist': '',\n",
       "  'album': '',\n",
       "  'year': '',\n",
       "  'language': ''})"
      ]
     },
     "metadata": {},
     "output_type": "display_data"
    },
    {
     "data": {
      "text/plain": [
       "(0.8370414,\n",
       " {'number': '3',\n",
       "  'title': '',\n",
       "  'artist': '',\n",
       "  'album': '',\n",
       "  'year': '',\n",
       "  'language': ''},\n",
       " {'number': '003',\n",
       "  'title': '',\n",
       "  'artist': '',\n",
       "  'album': '',\n",
       "  'year': '',\n",
       "  'language': ''})"
      ]
     },
     "metadata": {},
     "output_type": "display_data"
    },
    {
     "data": {
      "text/plain": [
       "(0.8052467,\n",
       " {'number': '0',\n",
       "  'title': '',\n",
       "  'artist': '',\n",
       "  'album': '',\n",
       "  'year': '',\n",
       "  'language': ''},\n",
       " {'number': '10',\n",
       "  'title': '',\n",
       "  'artist': '',\n",
       "  'album': '',\n",
       "  'year': '',\n",
       "  'language': ''})"
      ]
     },
     "metadata": {},
     "output_type": "display_data"
    },
    {
     "data": {
      "text/plain": [
       "(1.0000001,\n",
       " {'number': '1',\n",
       "  'title': '',\n",
       "  'artist': '',\n",
       "  'album': '',\n",
       "  'year': '',\n",
       "  'language': ''},\n",
       " {'number': '1',\n",
       "  'title': '',\n",
       "  'artist': '',\n",
       "  'album': '',\n",
       "  'year': '',\n",
       "  'language': ''})"
      ]
     },
     "metadata": {},
     "output_type": "display_data"
    },
    {
     "data": {
      "text/plain": [
       "(1.0000001,\n",
       " {'number': '1',\n",
       "  'title': '',\n",
       "  'artist': '',\n",
       "  'album': '',\n",
       "  'year': '',\n",
       "  'language': ''},\n",
       " {'number': '1',\n",
       "  'title': '',\n",
       "  'artist': '',\n",
       "  'album': '',\n",
       "  'year': '',\n",
       "  'language': ''})"
      ]
     },
     "metadata": {},
     "output_type": "display_data"
    },
    {
     "data": {
      "text/plain": [
       "(1.0000001,\n",
       " {'number': '1',\n",
       "  'title': '',\n",
       "  'artist': '',\n",
       "  'album': '',\n",
       "  'year': '',\n",
       "  'language': ''},\n",
       " {'number': '1',\n",
       "  'title': '',\n",
       "  'artist': '',\n",
       "  'album': '',\n",
       "  'year': '',\n",
       "  'language': ''})"
      ]
     },
     "metadata": {},
     "output_type": "display_data"
    },
    {
     "data": {
      "text/plain": [
       "(1.0000001,\n",
       " {'number': '1',\n",
       "  'title': '',\n",
       "  'artist': '',\n",
       "  'album': '',\n",
       "  'year': '',\n",
       "  'language': ''},\n",
       " {'number': '1',\n",
       "  'title': '',\n",
       "  'artist': '',\n",
       "  'album': '',\n",
       "  'year': '',\n",
       "  'language': ''})"
      ]
     },
     "metadata": {},
     "output_type": "display_data"
    },
    {
     "data": {
      "text/plain": [
       "(0.9299215,\n",
       " {'number': '1',\n",
       "  'title': '',\n",
       "  'artist': '',\n",
       "  'album': '',\n",
       "  'year': '',\n",
       "  'language': ''},\n",
       " {'number': '11',\n",
       "  'title': '',\n",
       "  'artist': '',\n",
       "  'album': '',\n",
       "  'year': '',\n",
       "  'language': ''})"
      ]
     },
     "metadata": {},
     "output_type": "display_data"
    },
    {
     "data": {
      "text/plain": [
       "(0.9299215,\n",
       " {'number': '1',\n",
       "  'title': '',\n",
       "  'artist': '',\n",
       "  'album': '',\n",
       "  'year': '',\n",
       "  'language': ''},\n",
       " {'number': '11',\n",
       "  'title': '',\n",
       "  'artist': '',\n",
       "  'album': '',\n",
       "  'year': '',\n",
       "  'language': ''})"
      ]
     },
     "metadata": {},
     "output_type": "display_data"
    },
    {
     "data": {
      "text/plain": [
       "(0.9299215,\n",
       " {'number': '1',\n",
       "  'title': '',\n",
       "  'artist': '',\n",
       "  'album': '',\n",
       "  'year': '',\n",
       "  'language': ''},\n",
       " {'number': '11',\n",
       "  'title': '',\n",
       "  'artist': '',\n",
       "  'album': '',\n",
       "  'year': '',\n",
       "  'language': ''})"
      ]
     },
     "metadata": {},
     "output_type": "display_data"
    },
    {
     "data": {
      "text/plain": [
       "(0.9299215,\n",
       " {'number': '1',\n",
       "  'title': '',\n",
       "  'artist': '',\n",
       "  'album': '',\n",
       "  'year': '',\n",
       "  'language': ''},\n",
       " {'number': '11',\n",
       "  'title': '',\n",
       "  'artist': '',\n",
       "  'album': '',\n",
       "  'year': '',\n",
       "  'language': ''})"
      ]
     },
     "metadata": {},
     "output_type": "display_data"
    },
    {
     "data": {
      "text/plain": [
       "(1.0000001,\n",
       " {'number': '1',\n",
       "  'title': '',\n",
       "  'artist': '',\n",
       "  'album': '',\n",
       "  'year': '',\n",
       "  'language': ''},\n",
       " {'number': '1',\n",
       "  'title': '',\n",
       "  'artist': '',\n",
       "  'album': '',\n",
       "  'year': '',\n",
       "  'language': ''})"
      ]
     },
     "metadata": {},
     "output_type": "display_data"
    },
    {
     "data": {
      "text/plain": [
       "(1.0000001,\n",
       " {'number': '1',\n",
       "  'title': '',\n",
       "  'artist': '',\n",
       "  'album': '',\n",
       "  'year': '',\n",
       "  'language': ''},\n",
       " {'number': '1',\n",
       "  'title': '',\n",
       "  'artist': '',\n",
       "  'album': '',\n",
       "  'year': '',\n",
       "  'language': ''})"
      ]
     },
     "metadata": {},
     "output_type": "display_data"
    },
    {
     "data": {
      "text/plain": [
       "(1.0000001,\n",
       " {'number': '1',\n",
       "  'title': '',\n",
       "  'artist': '',\n",
       "  'album': '',\n",
       "  'year': '',\n",
       "  'language': ''},\n",
       " {'number': '1',\n",
       "  'title': '',\n",
       "  'artist': '',\n",
       "  'album': '',\n",
       "  'year': '',\n",
       "  'language': ''})"
      ]
     },
     "metadata": {},
     "output_type": "display_data"
    },
    {
     "data": {
      "text/plain": [
       "(0.9299215,\n",
       " {'number': '1',\n",
       "  'title': '',\n",
       "  'artist': '',\n",
       "  'album': '',\n",
       "  'year': '',\n",
       "  'language': ''},\n",
       " {'number': '11',\n",
       "  'title': '',\n",
       "  'artist': '',\n",
       "  'album': '',\n",
       "  'year': '',\n",
       "  'language': ''})"
      ]
     },
     "metadata": {},
     "output_type": "display_data"
    },
    {
     "data": {
      "text/plain": [
       "(0.9299215,\n",
       " {'number': '1',\n",
       "  'title': '',\n",
       "  'artist': '',\n",
       "  'album': '',\n",
       "  'year': '',\n",
       "  'language': ''},\n",
       " {'number': '11',\n",
       "  'title': '',\n",
       "  'artist': '',\n",
       "  'album': '',\n",
       "  'year': '',\n",
       "  'language': ''})"
      ]
     },
     "metadata": {},
     "output_type": "display_data"
    },
    {
     "data": {
      "text/plain": [
       "(0.9299215,\n",
       " {'number': '1',\n",
       "  'title': '',\n",
       "  'artist': '',\n",
       "  'album': '',\n",
       "  'year': '',\n",
       "  'language': ''},\n",
       " {'number': '11',\n",
       "  'title': '',\n",
       "  'artist': '',\n",
       "  'album': '',\n",
       "  'year': '',\n",
       "  'language': ''})"
      ]
     },
     "metadata": {},
     "output_type": "display_data"
    },
    {
     "data": {
      "text/plain": [
       "(0.9299215,\n",
       " {'number': '1',\n",
       "  'title': '',\n",
       "  'artist': '',\n",
       "  'album': '',\n",
       "  'year': '',\n",
       "  'language': ''},\n",
       " {'number': '11',\n",
       "  'title': '',\n",
       "  'artist': '',\n",
       "  'album': '',\n",
       "  'year': '',\n",
       "  'language': ''})"
      ]
     },
     "metadata": {},
     "output_type": "display_data"
    },
    {
     "data": {
      "text/plain": [
       "(1.0000001,\n",
       " {'number': '1',\n",
       "  'title': '',\n",
       "  'artist': '',\n",
       "  'album': '',\n",
       "  'year': '',\n",
       "  'language': ''},\n",
       " {'number': '1',\n",
       "  'title': '',\n",
       "  'artist': '',\n",
       "  'album': '',\n",
       "  'year': '',\n",
       "  'language': ''})"
      ]
     },
     "metadata": {},
     "output_type": "display_data"
    },
    {
     "data": {
      "text/plain": [
       "(1.0000001,\n",
       " {'number': '1',\n",
       "  'title': '',\n",
       "  'artist': '',\n",
       "  'album': '',\n",
       "  'year': '',\n",
       "  'language': ''},\n",
       " {'number': '1',\n",
       "  'title': '',\n",
       "  'artist': '',\n",
       "  'album': '',\n",
       "  'year': '',\n",
       "  'language': ''})"
      ]
     },
     "metadata": {},
     "output_type": "display_data"
    },
    {
     "data": {
      "text/plain": [
       "(0.9299215,\n",
       " {'number': '1',\n",
       "  'title': '',\n",
       "  'artist': '',\n",
       "  'album': '',\n",
       "  'year': '',\n",
       "  'language': ''},\n",
       " {'number': '11',\n",
       "  'title': '',\n",
       "  'artist': '',\n",
       "  'album': '',\n",
       "  'year': '',\n",
       "  'language': ''})"
      ]
     },
     "metadata": {},
     "output_type": "display_data"
    },
    {
     "data": {
      "text/plain": [
       "(0.9299215,\n",
       " {'number': '1',\n",
       "  'title': '',\n",
       "  'artist': '',\n",
       "  'album': '',\n",
       "  'year': '',\n",
       "  'language': ''},\n",
       " {'number': '11',\n",
       "  'title': '',\n",
       "  'artist': '',\n",
       "  'album': '',\n",
       "  'year': '',\n",
       "  'language': ''})"
      ]
     },
     "metadata": {},
     "output_type": "display_data"
    },
    {
     "data": {
      "text/plain": [
       "(0.9299215,\n",
       " {'number': '1',\n",
       "  'title': '',\n",
       "  'artist': '',\n",
       "  'album': '',\n",
       "  'year': '',\n",
       "  'language': ''},\n",
       " {'number': '11',\n",
       "  'title': '',\n",
       "  'artist': '',\n",
       "  'album': '',\n",
       "  'year': '',\n",
       "  'language': ''})"
      ]
     },
     "metadata": {},
     "output_type": "display_data"
    },
    {
     "data": {
      "text/plain": [
       "(0.9299215,\n",
       " {'number': '1',\n",
       "  'title': '',\n",
       "  'artist': '',\n",
       "  'album': '',\n",
       "  'year': '',\n",
       "  'language': ''},\n",
       " {'number': '11',\n",
       "  'title': '',\n",
       "  'artist': '',\n",
       "  'album': '',\n",
       "  'year': '',\n",
       "  'language': ''})"
      ]
     },
     "metadata": {},
     "output_type": "display_data"
    },
    {
     "data": {
      "text/plain": [
       "(1.0000001,\n",
       " {'number': '1',\n",
       "  'title': '',\n",
       "  'artist': '',\n",
       "  'album': '',\n",
       "  'year': '',\n",
       "  'language': ''},\n",
       " {'number': '1',\n",
       "  'title': '',\n",
       "  'artist': '',\n",
       "  'album': '',\n",
       "  'year': '',\n",
       "  'language': ''})"
      ]
     },
     "metadata": {},
     "output_type": "display_data"
    },
    {
     "data": {
      "text/plain": [
       "(0.9299215,\n",
       " {'number': '1',\n",
       "  'title': '',\n",
       "  'artist': '',\n",
       "  'album': '',\n",
       "  'year': '',\n",
       "  'language': ''},\n",
       " {'number': '11',\n",
       "  'title': '',\n",
       "  'artist': '',\n",
       "  'album': '',\n",
       "  'year': '',\n",
       "  'language': ''})"
      ]
     },
     "metadata": {},
     "output_type": "display_data"
    },
    {
     "data": {
      "text/plain": [
       "(0.9299215,\n",
       " {'number': '1',\n",
       "  'title': '',\n",
       "  'artist': '',\n",
       "  'album': '',\n",
       "  'year': '',\n",
       "  'language': ''},\n",
       " {'number': '11',\n",
       "  'title': '',\n",
       "  'artist': '',\n",
       "  'album': '',\n",
       "  'year': '',\n",
       "  'language': ''})"
      ]
     },
     "metadata": {},
     "output_type": "display_data"
    },
    {
     "data": {
      "text/plain": [
       "(0.9299215,\n",
       " {'number': '1',\n",
       "  'title': '',\n",
       "  'artist': '',\n",
       "  'album': '',\n",
       "  'year': '',\n",
       "  'language': ''},\n",
       " {'number': '11',\n",
       "  'title': '',\n",
       "  'artist': '',\n",
       "  'album': '',\n",
       "  'year': '',\n",
       "  'language': ''})"
      ]
     },
     "metadata": {},
     "output_type": "display_data"
    },
    {
     "data": {
      "text/plain": [
       "(0.9299215,\n",
       " {'number': '1',\n",
       "  'title': '',\n",
       "  'artist': '',\n",
       "  'album': '',\n",
       "  'year': '',\n",
       "  'language': ''},\n",
       " {'number': '11',\n",
       "  'title': '',\n",
       "  'artist': '',\n",
       "  'album': '',\n",
       "  'year': '',\n",
       "  'language': ''})"
      ]
     },
     "metadata": {},
     "output_type": "display_data"
    },
    {
     "data": {
      "text/plain": [
       "(0.9299215,\n",
       " {'number': '1',\n",
       "  'title': '',\n",
       "  'artist': '',\n",
       "  'album': '',\n",
       "  'year': '',\n",
       "  'language': ''},\n",
       " {'number': '11',\n",
       "  'title': '',\n",
       "  'artist': '',\n",
       "  'album': '',\n",
       "  'year': '',\n",
       "  'language': ''})"
      ]
     },
     "metadata": {},
     "output_type": "display_data"
    },
    {
     "data": {
      "text/plain": [
       "(0.9299215,\n",
       " {'number': '1',\n",
       "  'title': '',\n",
       "  'artist': '',\n",
       "  'album': '',\n",
       "  'year': '',\n",
       "  'language': ''},\n",
       " {'number': '11',\n",
       "  'title': '',\n",
       "  'artist': '',\n",
       "  'album': '',\n",
       "  'year': '',\n",
       "  'language': ''})"
      ]
     },
     "metadata": {},
     "output_type": "display_data"
    },
    {
     "data": {
      "text/plain": [
       "(0.9299215,\n",
       " {'number': '1',\n",
       "  'title': '',\n",
       "  'artist': '',\n",
       "  'album': '',\n",
       "  'year': '',\n",
       "  'language': ''},\n",
       " {'number': '11',\n",
       "  'title': '',\n",
       "  'artist': '',\n",
       "  'album': '',\n",
       "  'year': '',\n",
       "  'language': ''})"
      ]
     },
     "metadata": {},
     "output_type": "display_data"
    },
    {
     "data": {
      "text/plain": [
       "(0.9299215,\n",
       " {'number': '1',\n",
       "  'title': '',\n",
       "  'artist': '',\n",
       "  'album': '',\n",
       "  'year': '',\n",
       "  'language': ''},\n",
       " {'number': '11',\n",
       "  'title': '',\n",
       "  'artist': '',\n",
       "  'album': '',\n",
       "  'year': '',\n",
       "  'language': ''})"
      ]
     },
     "metadata": {},
     "output_type": "display_data"
    },
    {
     "data": {
      "text/plain": [
       "(1.0,\n",
       " {'number': '2',\n",
       "  'title': '',\n",
       "  'artist': '',\n",
       "  'album': '',\n",
       "  'year': '',\n",
       "  'language': ''},\n",
       " {'number': '2',\n",
       "  'title': '',\n",
       "  'artist': '',\n",
       "  'album': '',\n",
       "  'year': '',\n",
       "  'language': ''})"
      ]
     },
     "metadata": {},
     "output_type": "display_data"
    },
    {
     "data": {
      "text/plain": [
       "(1.0,\n",
       " {'number': '2',\n",
       "  'title': '',\n",
       "  'artist': '',\n",
       "  'album': '',\n",
       "  'year': '',\n",
       "  'language': ''},\n",
       " {'number': '2',\n",
       "  'title': '',\n",
       "  'artist': '',\n",
       "  'album': '',\n",
       "  'year': '',\n",
       "  'language': ''})"
      ]
     },
     "metadata": {},
     "output_type": "display_data"
    },
    {
     "data": {
      "text/plain": [
       "(1.0,\n",
       " {'number': '2',\n",
       "  'title': '',\n",
       "  'artist': '',\n",
       "  'album': '',\n",
       "  'year': '',\n",
       "  'language': ''},\n",
       " {'number': '2',\n",
       "  'title': '',\n",
       "  'artist': '',\n",
       "  'album': '',\n",
       "  'year': '',\n",
       "  'language': ''})"
      ]
     },
     "metadata": {},
     "output_type": "display_data"
    },
    {
     "data": {
      "text/plain": [
       "(1.0,\n",
       " {'number': '2',\n",
       "  'title': '',\n",
       "  'artist': '',\n",
       "  'album': '',\n",
       "  'year': '',\n",
       "  'language': ''},\n",
       " {'number': '2',\n",
       "  'title': '',\n",
       "  'artist': '',\n",
       "  'album': '',\n",
       "  'year': '',\n",
       "  'language': ''})"
      ]
     },
     "metadata": {},
     "output_type": "display_data"
    },
    {
     "data": {
      "text/plain": [
       "(1.0,\n",
       " {'number': '2',\n",
       "  'title': '',\n",
       "  'artist': '',\n",
       "  'album': '',\n",
       "  'year': '',\n",
       "  'language': ''},\n",
       " {'number': '2',\n",
       "  'title': '',\n",
       "  'artist': '',\n",
       "  'album': '',\n",
       "  'year': '',\n",
       "  'language': ''})"
      ]
     },
     "metadata": {},
     "output_type": "display_data"
    },
    {
     "data": {
      "text/plain": [
       "(0.90034354,\n",
       " {'number': '2',\n",
       "  'title': '',\n",
       "  'artist': '',\n",
       "  'album': '',\n",
       "  'year': '',\n",
       "  'language': ''},\n",
       " {'number': '20',\n",
       "  'title': '',\n",
       "  'artist': '',\n",
       "  'album': '',\n",
       "  'year': '',\n",
       "  'language': ''})"
      ]
     },
     "metadata": {},
     "output_type": "display_data"
    },
    {
     "data": {
      "text/plain": [
       "(0.8675939,\n",
       " {'number': '2',\n",
       "  'title': '',\n",
       "  'artist': '',\n",
       "  'album': '',\n",
       "  'year': '',\n",
       "  'language': ''},\n",
       " {'number': '21',\n",
       "  'title': '',\n",
       "  'artist': '',\n",
       "  'album': '',\n",
       "  'year': '',\n",
       "  'language': ''})"
      ]
     },
     "metadata": {},
     "output_type": "display_data"
    },
    {
     "data": {
      "text/plain": [
       "(1.0,\n",
       " {'number': '2',\n",
       "  'title': '',\n",
       "  'artist': '',\n",
       "  'album': '',\n",
       "  'year': '',\n",
       "  'language': ''},\n",
       " {'number': '2',\n",
       "  'title': '',\n",
       "  'artist': '',\n",
       "  'album': '',\n",
       "  'year': '',\n",
       "  'language': ''})"
      ]
     },
     "metadata": {},
     "output_type": "display_data"
    },
    {
     "data": {
      "text/plain": [
       "(1.0,\n",
       " {'number': '2',\n",
       "  'title': '',\n",
       "  'artist': '',\n",
       "  'album': '',\n",
       "  'year': '',\n",
       "  'language': ''},\n",
       " {'number': '2',\n",
       "  'title': '',\n",
       "  'artist': '',\n",
       "  'album': '',\n",
       "  'year': '',\n",
       "  'language': ''})"
      ]
     },
     "metadata": {},
     "output_type": "display_data"
    },
    {
     "data": {
      "text/plain": [
       "(1.0,\n",
       " {'number': '2',\n",
       "  'title': '',\n",
       "  'artist': '',\n",
       "  'album': '',\n",
       "  'year': '',\n",
       "  'language': ''},\n",
       " {'number': '2',\n",
       "  'title': '',\n",
       "  'artist': '',\n",
       "  'album': '',\n",
       "  'year': '',\n",
       "  'language': ''})"
      ]
     },
     "metadata": {},
     "output_type": "display_data"
    },
    {
     "data": {
      "text/plain": [
       "(1.0,\n",
       " {'number': '2',\n",
       "  'title': '',\n",
       "  'artist': '',\n",
       "  'album': '',\n",
       "  'year': '',\n",
       "  'language': ''},\n",
       " {'number': '2',\n",
       "  'title': '',\n",
       "  'artist': '',\n",
       "  'album': '',\n",
       "  'year': '',\n",
       "  'language': ''})"
      ]
     },
     "metadata": {},
     "output_type": "display_data"
    },
    {
     "data": {
      "text/plain": [
       "(0.90034354,\n",
       " {'number': '2',\n",
       "  'title': '',\n",
       "  'artist': '',\n",
       "  'album': '',\n",
       "  'year': '',\n",
       "  'language': ''},\n",
       " {'number': '20',\n",
       "  'title': '',\n",
       "  'artist': '',\n",
       "  'album': '',\n",
       "  'year': '',\n",
       "  'language': ''})"
      ]
     },
     "metadata": {},
     "output_type": "display_data"
    },
    {
     "data": {
      "text/plain": [
       "(0.8675939,\n",
       " {'number': '2',\n",
       "  'title': '',\n",
       "  'artist': '',\n",
       "  'album': '',\n",
       "  'year': '',\n",
       "  'language': ''},\n",
       " {'number': '21',\n",
       "  'title': '',\n",
       "  'artist': '',\n",
       "  'album': '',\n",
       "  'year': '',\n",
       "  'language': ''})"
      ]
     },
     "metadata": {},
     "output_type": "display_data"
    },
    {
     "data": {
      "text/plain": [
       "(1.0,\n",
       " {'number': '2',\n",
       "  'title': '',\n",
       "  'artist': '',\n",
       "  'album': '',\n",
       "  'year': '',\n",
       "  'language': ''},\n",
       " {'number': '2',\n",
       "  'title': '',\n",
       "  'artist': '',\n",
       "  'album': '',\n",
       "  'year': '',\n",
       "  'language': ''})"
      ]
     },
     "metadata": {},
     "output_type": "display_data"
    },
    {
     "data": {
      "text/plain": [
       "(1.0,\n",
       " {'number': '2',\n",
       "  'title': '',\n",
       "  'artist': '',\n",
       "  'album': '',\n",
       "  'year': '',\n",
       "  'language': ''},\n",
       " {'number': '2',\n",
       "  'title': '',\n",
       "  'artist': '',\n",
       "  'album': '',\n",
       "  'year': '',\n",
       "  'language': ''})"
      ]
     },
     "metadata": {},
     "output_type": "display_data"
    },
    {
     "data": {
      "text/plain": [
       "(1.0,\n",
       " {'number': '2',\n",
       "  'title': '',\n",
       "  'artist': '',\n",
       "  'album': '',\n",
       "  'year': '',\n",
       "  'language': ''},\n",
       " {'number': '2',\n",
       "  'title': '',\n",
       "  'artist': '',\n",
       "  'album': '',\n",
       "  'year': '',\n",
       "  'language': ''})"
      ]
     },
     "metadata": {},
     "output_type": "display_data"
    },
    {
     "data": {
      "text/plain": [
       "(0.90034354,\n",
       " {'number': '2',\n",
       "  'title': '',\n",
       "  'artist': '',\n",
       "  'album': '',\n",
       "  'year': '',\n",
       "  'language': ''},\n",
       " {'number': '20',\n",
       "  'title': '',\n",
       "  'artist': '',\n",
       "  'album': '',\n",
       "  'year': '',\n",
       "  'language': ''})"
      ]
     },
     "metadata": {},
     "output_type": "display_data"
    },
    {
     "data": {
      "text/plain": [
       "(0.8675939,\n",
       " {'number': '2',\n",
       "  'title': '',\n",
       "  'artist': '',\n",
       "  'album': '',\n",
       "  'year': '',\n",
       "  'language': ''},\n",
       " {'number': '21',\n",
       "  'title': '',\n",
       "  'artist': '',\n",
       "  'album': '',\n",
       "  'year': '',\n",
       "  'language': ''})"
      ]
     },
     "metadata": {},
     "output_type": "display_data"
    },
    {
     "data": {
      "text/plain": [
       "(1.0,\n",
       " {'number': '2',\n",
       "  'title': '',\n",
       "  'artist': '',\n",
       "  'album': '',\n",
       "  'year': '',\n",
       "  'language': ''},\n",
       " {'number': '2',\n",
       "  'title': '',\n",
       "  'artist': '',\n",
       "  'album': '',\n",
       "  'year': '',\n",
       "  'language': ''})"
      ]
     },
     "metadata": {},
     "output_type": "display_data"
    },
    {
     "data": {
      "text/plain": [
       "(1.0,\n",
       " {'number': '2',\n",
       "  'title': '',\n",
       "  'artist': '',\n",
       "  'album': '',\n",
       "  'year': '',\n",
       "  'language': ''},\n",
       " {'number': '2',\n",
       "  'title': '',\n",
       "  'artist': '',\n",
       "  'album': '',\n",
       "  'year': '',\n",
       "  'language': ''})"
      ]
     },
     "metadata": {},
     "output_type": "display_data"
    },
    {
     "data": {
      "text/plain": [
       "(0.90034354,\n",
       " {'number': '2',\n",
       "  'title': '',\n",
       "  'artist': '',\n",
       "  'album': '',\n",
       "  'year': '',\n",
       "  'language': ''},\n",
       " {'number': '20',\n",
       "  'title': '',\n",
       "  'artist': '',\n",
       "  'album': '',\n",
       "  'year': '',\n",
       "  'language': ''})"
      ]
     },
     "metadata": {},
     "output_type": "display_data"
    },
    {
     "data": {
      "text/plain": [
       "(0.8675939,\n",
       " {'number': '2',\n",
       "  'title': '',\n",
       "  'artist': '',\n",
       "  'album': '',\n",
       "  'year': '',\n",
       "  'language': ''},\n",
       " {'number': '21',\n",
       "  'title': '',\n",
       "  'artist': '',\n",
       "  'album': '',\n",
       "  'year': '',\n",
       "  'language': ''})"
      ]
     },
     "metadata": {},
     "output_type": "display_data"
    },
    {
     "data": {
      "text/plain": [
       "(1.0,\n",
       " {'number': '2',\n",
       "  'title': '',\n",
       "  'artist': '',\n",
       "  'album': '',\n",
       "  'year': '',\n",
       "  'language': ''},\n",
       " {'number': '2',\n",
       "  'title': '',\n",
       "  'artist': '',\n",
       "  'album': '',\n",
       "  'year': '',\n",
       "  'language': ''})"
      ]
     },
     "metadata": {},
     "output_type": "display_data"
    },
    {
     "data": {
      "text/plain": [
       "(0.90034354,\n",
       " {'number': '2',\n",
       "  'title': '',\n",
       "  'artist': '',\n",
       "  'album': '',\n",
       "  'year': '',\n",
       "  'language': ''},\n",
       " {'number': '20',\n",
       "  'title': '',\n",
       "  'artist': '',\n",
       "  'album': '',\n",
       "  'year': '',\n",
       "  'language': ''})"
      ]
     },
     "metadata": {},
     "output_type": "display_data"
    },
    {
     "data": {
      "text/plain": [
       "(0.8675939,\n",
       " {'number': '2',\n",
       "  'title': '',\n",
       "  'artist': '',\n",
       "  'album': '',\n",
       "  'year': '',\n",
       "  'language': ''},\n",
       " {'number': '21',\n",
       "  'title': '',\n",
       "  'artist': '',\n",
       "  'album': '',\n",
       "  'year': '',\n",
       "  'language': ''})"
      ]
     },
     "metadata": {},
     "output_type": "display_data"
    },
    {
     "data": {
      "text/plain": [
       "(0.90034354,\n",
       " {'number': '2',\n",
       "  'title': '',\n",
       "  'artist': '',\n",
       "  'album': '',\n",
       "  'year': '',\n",
       "  'language': ''},\n",
       " {'number': '20',\n",
       "  'title': '',\n",
       "  'artist': '',\n",
       "  'album': '',\n",
       "  'year': '',\n",
       "  'language': ''})"
      ]
     },
     "metadata": {},
     "output_type": "display_data"
    },
    {
     "data": {
      "text/plain": [
       "(0.8675939,\n",
       " {'number': '2',\n",
       "  'title': '',\n",
       "  'artist': '',\n",
       "  'album': '',\n",
       "  'year': '',\n",
       "  'language': ''},\n",
       " {'number': '21',\n",
       "  'title': '',\n",
       "  'artist': '',\n",
       "  'album': '',\n",
       "  'year': '',\n",
       "  'language': ''})"
      ]
     },
     "metadata": {},
     "output_type": "display_data"
    },
    {
     "data": {
      "text/plain": [
       "(1.0,\n",
       " {'number': '19',\n",
       "  'title': '',\n",
       "  'artist': '',\n",
       "  'album': '',\n",
       "  'year': '',\n",
       "  'language': ''},\n",
       " {'number': '19',\n",
       "  'title': '',\n",
       "  'artist': '',\n",
       "  'album': '',\n",
       "  'year': '',\n",
       "  'language': ''})"
      ]
     },
     "metadata": {},
     "output_type": "display_data"
    },
    {
     "data": {
      "text/plain": [
       "(0.88364255,\n",
       " {'number': '19',\n",
       "  'title': '',\n",
       "  'artist': '',\n",
       "  'album': '',\n",
       "  'year': '',\n",
       "  'language': ''},\n",
       " {'number': '9',\n",
       "  'title': '',\n",
       "  'artist': '',\n",
       "  'album': '',\n",
       "  'year': '',\n",
       "  'language': ''})"
      ]
     },
     "metadata": {},
     "output_type": "display_data"
    },
    {
     "data": {
      "text/plain": [
       "(0.88364255,\n",
       " {'number': '19',\n",
       "  'title': '',\n",
       "  'artist': '',\n",
       "  'album': '',\n",
       "  'year': '',\n",
       "  'language': ''},\n",
       " {'number': '9',\n",
       "  'title': '',\n",
       "  'artist': '',\n",
       "  'album': '',\n",
       "  'year': '',\n",
       "  'language': ''})"
      ]
     },
     "metadata": {},
     "output_type": "display_data"
    },
    {
     "data": {
      "text/plain": [
       "(0.88364255,\n",
       " {'number': '19',\n",
       "  'title': '',\n",
       "  'artist': '',\n",
       "  'album': '',\n",
       "  'year': '',\n",
       "  'language': ''},\n",
       " {'number': '9',\n",
       "  'title': '',\n",
       "  'artist': '',\n",
       "  'album': '',\n",
       "  'year': '',\n",
       "  'language': ''})"
      ]
     },
     "metadata": {},
     "output_type": "display_data"
    },
    {
     "data": {
      "text/plain": [
       "(0.88364255,\n",
       " {'number': '19',\n",
       "  'title': '',\n",
       "  'artist': '',\n",
       "  'album': '',\n",
       "  'year': '',\n",
       "  'language': ''},\n",
       " {'number': '9',\n",
       "  'title': '',\n",
       "  'artist': '',\n",
       "  'album': '',\n",
       "  'year': '',\n",
       "  'language': ''})"
      ]
     },
     "metadata": {},
     "output_type": "display_data"
    },
    {
     "data": {
      "text/plain": [
       "(0.88364255,\n",
       " {'number': '19',\n",
       "  'title': '',\n",
       "  'artist': '',\n",
       "  'album': '',\n",
       "  'year': '',\n",
       "  'language': ''},\n",
       " {'number': '9',\n",
       "  'title': '',\n",
       "  'artist': '',\n",
       "  'album': '',\n",
       "  'year': '',\n",
       "  'language': ''})"
      ]
     },
     "metadata": {},
     "output_type": "display_data"
    },
    {
     "data": {
      "text/plain": [
       "(0.88364255,\n",
       " {'number': '19',\n",
       "  'title': '',\n",
       "  'artist': '',\n",
       "  'album': '',\n",
       "  'year': '',\n",
       "  'language': ''},\n",
       " {'number': '9',\n",
       "  'title': '',\n",
       "  'artist': '',\n",
       "  'album': '',\n",
       "  'year': '',\n",
       "  'language': ''})"
      ]
     },
     "metadata": {},
     "output_type": "display_data"
    },
    {
     "data": {
      "text/plain": [
       "(0.88364255,\n",
       " {'number': '19',\n",
       "  'title': '',\n",
       "  'artist': '',\n",
       "  'album': '',\n",
       "  'year': '',\n",
       "  'language': ''},\n",
       " {'number': '9',\n",
       "  'title': '',\n",
       "  'artist': '',\n",
       "  'album': '',\n",
       "  'year': '',\n",
       "  'language': ''})"
      ]
     },
     "metadata": {},
     "output_type": "display_data"
    },
    {
     "data": {
      "text/plain": [
       "(0.8534796,\n",
       " {'number': '19',\n",
       "  'title': '',\n",
       "  'artist': '',\n",
       "  'album': '',\n",
       "  'year': '',\n",
       "  'language': ''},\n",
       " {'number': '29',\n",
       "  'title': '',\n",
       "  'artist': '',\n",
       "  'album': '',\n",
       "  'year': '',\n",
       "  'language': ''})"
      ]
     },
     "metadata": {},
     "output_type": "display_data"
    },
    {
     "data": {
      "text/plain": [
       "(0.88364255,\n",
       " {'number': '19',\n",
       "  'title': '',\n",
       "  'artist': '',\n",
       "  'album': '',\n",
       "  'year': '',\n",
       "  'language': ''},\n",
       " {'number': '9',\n",
       "  'title': '',\n",
       "  'artist': '',\n",
       "  'album': '',\n",
       "  'year': '',\n",
       "  'language': ''})"
      ]
     },
     "metadata": {},
     "output_type": "display_data"
    },
    {
     "data": {
      "text/plain": [
       "(0.88364255,\n",
       " {'number': '19',\n",
       "  'title': '',\n",
       "  'artist': '',\n",
       "  'album': '',\n",
       "  'year': '',\n",
       "  'language': ''},\n",
       " {'number': '9',\n",
       "  'title': '',\n",
       "  'artist': '',\n",
       "  'album': '',\n",
       "  'year': '',\n",
       "  'language': ''})"
      ]
     },
     "metadata": {},
     "output_type": "display_data"
    },
    {
     "data": {
      "text/plain": [
       "(0.88364255,\n",
       " {'number': '19',\n",
       "  'title': '',\n",
       "  'artist': '',\n",
       "  'album': '',\n",
       "  'year': '',\n",
       "  'language': ''},\n",
       " {'number': '9',\n",
       "  'title': '',\n",
       "  'artist': '',\n",
       "  'album': '',\n",
       "  'year': '',\n",
       "  'language': ''})"
      ]
     },
     "metadata": {},
     "output_type": "display_data"
    },
    {
     "data": {
      "text/plain": [
       "(0.88364255,\n",
       " {'number': '19',\n",
       "  'title': '',\n",
       "  'artist': '',\n",
       "  'album': '',\n",
       "  'year': '',\n",
       "  'language': ''},\n",
       " {'number': '9',\n",
       "  'title': '',\n",
       "  'artist': '',\n",
       "  'album': '',\n",
       "  'year': '',\n",
       "  'language': ''})"
      ]
     },
     "metadata": {},
     "output_type": "display_data"
    },
    {
     "data": {
      "text/plain": [
       "(0.88364255,\n",
       " {'number': '19',\n",
       "  'title': '',\n",
       "  'artist': '',\n",
       "  'album': '',\n",
       "  'year': '',\n",
       "  'language': ''},\n",
       " {'number': '9',\n",
       "  'title': '',\n",
       "  'artist': '',\n",
       "  'album': '',\n",
       "  'year': '',\n",
       "  'language': ''})"
      ]
     },
     "metadata": {},
     "output_type": "display_data"
    },
    {
     "data": {
      "text/plain": [
       "(0.88364255,\n",
       " {'number': '19',\n",
       "  'title': '',\n",
       "  'artist': '',\n",
       "  'album': '',\n",
       "  'year': '',\n",
       "  'language': ''},\n",
       " {'number': '9',\n",
       "  'title': '',\n",
       "  'artist': '',\n",
       "  'album': '',\n",
       "  'year': '',\n",
       "  'language': ''})"
      ]
     },
     "metadata": {},
     "output_type": "display_data"
    },
    {
     "data": {
      "text/plain": [
       "(0.88364255,\n",
       " {'number': '19',\n",
       "  'title': '',\n",
       "  'artist': '',\n",
       "  'album': '',\n",
       "  'year': '',\n",
       "  'language': ''},\n",
       " {'number': '9',\n",
       "  'title': '',\n",
       "  'artist': '',\n",
       "  'album': '',\n",
       "  'year': '',\n",
       "  'language': ''})"
      ]
     },
     "metadata": {},
     "output_type": "display_data"
    },
    {
     "data": {
      "text/plain": [
       "(0.8534796,\n",
       " {'number': '19',\n",
       "  'title': '',\n",
       "  'artist': '',\n",
       "  'album': '',\n",
       "  'year': '',\n",
       "  'language': ''},\n",
       " {'number': '29',\n",
       "  'title': '',\n",
       "  'artist': '',\n",
       "  'album': '',\n",
       "  'year': '',\n",
       "  'language': ''})"
      ]
     },
     "metadata": {},
     "output_type": "display_data"
    },
    {
     "data": {
      "text/plain": [
       "(0.9999997,\n",
       " {'number': '9',\n",
       "  'title': '',\n",
       "  'artist': '',\n",
       "  'album': '',\n",
       "  'year': '',\n",
       "  'language': ''},\n",
       " {'number': '9',\n",
       "  'title': '',\n",
       "  'artist': '',\n",
       "  'album': '',\n",
       "  'year': '',\n",
       "  'language': ''})"
      ]
     },
     "metadata": {},
     "output_type": "display_data"
    },
    {
     "data": {
      "text/plain": [
       "(0.9999997,\n",
       " {'number': '9',\n",
       "  'title': '',\n",
       "  'artist': '',\n",
       "  'album': '',\n",
       "  'year': '',\n",
       "  'language': ''},\n",
       " {'number': '9',\n",
       "  'title': '',\n",
       "  'artist': '',\n",
       "  'album': '',\n",
       "  'year': '',\n",
       "  'language': ''})"
      ]
     },
     "metadata": {},
     "output_type": "display_data"
    },
    {
     "data": {
      "text/plain": [
       "(0.9999997,\n",
       " {'number': '9',\n",
       "  'title': '',\n",
       "  'artist': '',\n",
       "  'album': '',\n",
       "  'year': '',\n",
       "  'language': ''},\n",
       " {'number': '9',\n",
       "  'title': '',\n",
       "  'artist': '',\n",
       "  'album': '',\n",
       "  'year': '',\n",
       "  'language': ''})"
      ]
     },
     "metadata": {},
     "output_type": "display_data"
    },
    {
     "data": {
      "text/plain": [
       "(0.9999997,\n",
       " {'number': '9',\n",
       "  'title': '',\n",
       "  'artist': '',\n",
       "  'album': '',\n",
       "  'year': '',\n",
       "  'language': ''},\n",
       " {'number': '9',\n",
       "  'title': '',\n",
       "  'artist': '',\n",
       "  'album': '',\n",
       "  'year': '',\n",
       "  'language': ''})"
      ]
     },
     "metadata": {},
     "output_type": "display_data"
    },
    {
     "data": {
      "text/plain": [
       "(0.9999997,\n",
       " {'number': '9',\n",
       "  'title': '',\n",
       "  'artist': '',\n",
       "  'album': '',\n",
       "  'year': '',\n",
       "  'language': ''},\n",
       " {'number': '9',\n",
       "  'title': '',\n",
       "  'artist': '',\n",
       "  'album': '',\n",
       "  'year': '',\n",
       "  'language': ''})"
      ]
     },
     "metadata": {},
     "output_type": "display_data"
    },
    {
     "data": {
      "text/plain": [
       "(0.9999997,\n",
       " {'number': '9',\n",
       "  'title': '',\n",
       "  'artist': '',\n",
       "  'album': '',\n",
       "  'year': '',\n",
       "  'language': ''},\n",
       " {'number': '9',\n",
       "  'title': '',\n",
       "  'artist': '',\n",
       "  'album': '',\n",
       "  'year': '',\n",
       "  'language': ''})"
      ]
     },
     "metadata": {},
     "output_type": "display_data"
    },
    {
     "data": {
      "text/plain": [
       "(0.8362748,\n",
       " {'number': '9',\n",
       "  'title': '',\n",
       "  'artist': '',\n",
       "  'album': '',\n",
       "  'year': '',\n",
       "  'language': ''},\n",
       " {'number': '29',\n",
       "  'title': '',\n",
       "  'artist': '',\n",
       "  'album': '',\n",
       "  'year': '',\n",
       "  'language': ''})"
      ]
     },
     "metadata": {},
     "output_type": "display_data"
    },
    {
     "data": {
      "text/plain": [
       "(0.9999997,\n",
       " {'number': '9',\n",
       "  'title': '',\n",
       "  'artist': '',\n",
       "  'album': '',\n",
       "  'year': '',\n",
       "  'language': ''},\n",
       " {'number': '9',\n",
       "  'title': '',\n",
       "  'artist': '',\n",
       "  'album': '',\n",
       "  'year': '',\n",
       "  'language': ''})"
      ]
     },
     "metadata": {},
     "output_type": "display_data"
    },
    {
     "data": {
      "text/plain": [
       "(0.9999997,\n",
       " {'number': '9',\n",
       "  'title': '',\n",
       "  'artist': '',\n",
       "  'album': '',\n",
       "  'year': '',\n",
       "  'language': ''},\n",
       " {'number': '9',\n",
       "  'title': '',\n",
       "  'artist': '',\n",
       "  'album': '',\n",
       "  'year': '',\n",
       "  'language': ''})"
      ]
     },
     "metadata": {},
     "output_type": "display_data"
    },
    {
     "data": {
      "text/plain": [
       "(0.9999997,\n",
       " {'number': '9',\n",
       "  'title': '',\n",
       "  'artist': '',\n",
       "  'album': '',\n",
       "  'year': '',\n",
       "  'language': ''},\n",
       " {'number': '9',\n",
       "  'title': '',\n",
       "  'artist': '',\n",
       "  'album': '',\n",
       "  'year': '',\n",
       "  'language': ''})"
      ]
     },
     "metadata": {},
     "output_type": "display_data"
    },
    {
     "data": {
      "text/plain": [
       "(0.9999997,\n",
       " {'number': '9',\n",
       "  'title': '',\n",
       "  'artist': '',\n",
       "  'album': '',\n",
       "  'year': '',\n",
       "  'language': ''},\n",
       " {'number': '9',\n",
       "  'title': '',\n",
       "  'artist': '',\n",
       "  'album': '',\n",
       "  'year': '',\n",
       "  'language': ''})"
      ]
     },
     "metadata": {},
     "output_type": "display_data"
    },
    {
     "data": {
      "text/plain": [
       "(0.9999997,\n",
       " {'number': '9',\n",
       "  'title': '',\n",
       "  'artist': '',\n",
       "  'album': '',\n",
       "  'year': '',\n",
       "  'language': ''},\n",
       " {'number': '9',\n",
       "  'title': '',\n",
       "  'artist': '',\n",
       "  'album': '',\n",
       "  'year': '',\n",
       "  'language': ''})"
      ]
     },
     "metadata": {},
     "output_type": "display_data"
    },
    {
     "data": {
      "text/plain": [
       "(0.8362748,\n",
       " {'number': '9',\n",
       "  'title': '',\n",
       "  'artist': '',\n",
       "  'album': '',\n",
       "  'year': '',\n",
       "  'language': ''},\n",
       " {'number': '29',\n",
       "  'title': '',\n",
       "  'artist': '',\n",
       "  'album': '',\n",
       "  'year': '',\n",
       "  'language': ''})"
      ]
     },
     "metadata": {},
     "output_type": "display_data"
    },
    {
     "data": {
      "text/plain": [
       "(0.9999997,\n",
       " {'number': '9',\n",
       "  'title': '',\n",
       "  'artist': '',\n",
       "  'album': '',\n",
       "  'year': '',\n",
       "  'language': ''},\n",
       " {'number': '9',\n",
       "  'title': '',\n",
       "  'artist': '',\n",
       "  'album': '',\n",
       "  'year': '',\n",
       "  'language': ''})"
      ]
     },
     "metadata": {},
     "output_type": "display_data"
    },
    {
     "data": {
      "text/plain": [
       "(0.9999997,\n",
       " {'number': '9',\n",
       "  'title': '',\n",
       "  'artist': '',\n",
       "  'album': '',\n",
       "  'year': '',\n",
       "  'language': ''},\n",
       " {'number': '9',\n",
       "  'title': '',\n",
       "  'artist': '',\n",
       "  'album': '',\n",
       "  'year': '',\n",
       "  'language': ''})"
      ]
     },
     "metadata": {},
     "output_type": "display_data"
    },
    {
     "data": {
      "text/plain": [
       "(0.9999997,\n",
       " {'number': '9',\n",
       "  'title': '',\n",
       "  'artist': '',\n",
       "  'album': '',\n",
       "  'year': '',\n",
       "  'language': ''},\n",
       " {'number': '9',\n",
       "  'title': '',\n",
       "  'artist': '',\n",
       "  'album': '',\n",
       "  'year': '',\n",
       "  'language': ''})"
      ]
     },
     "metadata": {},
     "output_type": "display_data"
    },
    {
     "data": {
      "text/plain": [
       "(0.9999997,\n",
       " {'number': '9',\n",
       "  'title': '',\n",
       "  'artist': '',\n",
       "  'album': '',\n",
       "  'year': '',\n",
       "  'language': ''},\n",
       " {'number': '9',\n",
       "  'title': '',\n",
       "  'artist': '',\n",
       "  'album': '',\n",
       "  'year': '',\n",
       "  'language': ''})"
      ]
     },
     "metadata": {},
     "output_type": "display_data"
    },
    {
     "data": {
      "text/plain": [
       "(0.8362748,\n",
       " {'number': '9',\n",
       "  'title': '',\n",
       "  'artist': '',\n",
       "  'album': '',\n",
       "  'year': '',\n",
       "  'language': ''},\n",
       " {'number': '29',\n",
       "  'title': '',\n",
       "  'artist': '',\n",
       "  'album': '',\n",
       "  'year': '',\n",
       "  'language': ''})"
      ]
     },
     "metadata": {},
     "output_type": "display_data"
    },
    {
     "data": {
      "text/plain": [
       "(0.9999997,\n",
       " {'number': '9',\n",
       "  'title': '',\n",
       "  'artist': '',\n",
       "  'album': '',\n",
       "  'year': '',\n",
       "  'language': ''},\n",
       " {'number': '9',\n",
       "  'title': '',\n",
       "  'artist': '',\n",
       "  'album': '',\n",
       "  'year': '',\n",
       "  'language': ''})"
      ]
     },
     "metadata": {},
     "output_type": "display_data"
    },
    {
     "data": {
      "text/plain": [
       "(0.9999997,\n",
       " {'number': '9',\n",
       "  'title': '',\n",
       "  'artist': '',\n",
       "  'album': '',\n",
       "  'year': '',\n",
       "  'language': ''},\n",
       " {'number': '9',\n",
       "  'title': '',\n",
       "  'artist': '',\n",
       "  'album': '',\n",
       "  'year': '',\n",
       "  'language': ''})"
      ]
     },
     "metadata": {},
     "output_type": "display_data"
    },
    {
     "data": {
      "text/plain": [
       "(0.9999997,\n",
       " {'number': '9',\n",
       "  'title': '',\n",
       "  'artist': '',\n",
       "  'album': '',\n",
       "  'year': '',\n",
       "  'language': ''},\n",
       " {'number': '9',\n",
       "  'title': '',\n",
       "  'artist': '',\n",
       "  'album': '',\n",
       "  'year': '',\n",
       "  'language': ''})"
      ]
     },
     "metadata": {},
     "output_type": "display_data"
    },
    {
     "data": {
      "text/plain": [
       "(0.8362748,\n",
       " {'number': '9',\n",
       "  'title': '',\n",
       "  'artist': '',\n",
       "  'album': '',\n",
       "  'year': '',\n",
       "  'language': ''},\n",
       " {'number': '29',\n",
       "  'title': '',\n",
       "  'artist': '',\n",
       "  'album': '',\n",
       "  'year': '',\n",
       "  'language': ''})"
      ]
     },
     "metadata": {},
     "output_type": "display_data"
    },
    {
     "data": {
      "text/plain": [
       "(0.9999997,\n",
       " {'number': '9',\n",
       "  'title': '',\n",
       "  'artist': '',\n",
       "  'album': '',\n",
       "  'year': '',\n",
       "  'language': ''},\n",
       " {'number': '9',\n",
       "  'title': '',\n",
       "  'artist': '',\n",
       "  'album': '',\n",
       "  'year': '',\n",
       "  'language': ''})"
      ]
     },
     "metadata": {},
     "output_type": "display_data"
    },
    {
     "data": {
      "text/plain": [
       "(0.9999997,\n",
       " {'number': '9',\n",
       "  'title': '',\n",
       "  'artist': '',\n",
       "  'album': '',\n",
       "  'year': '',\n",
       "  'language': ''},\n",
       " {'number': '9',\n",
       "  'title': '',\n",
       "  'artist': '',\n",
       "  'album': '',\n",
       "  'year': '',\n",
       "  'language': ''})"
      ]
     },
     "metadata": {},
     "output_type": "display_data"
    },
    {
     "data": {
      "text/plain": [
       "(0.8362748,\n",
       " {'number': '9',\n",
       "  'title': '',\n",
       "  'artist': '',\n",
       "  'album': '',\n",
       "  'year': '',\n",
       "  'language': ''},\n",
       " {'number': '29',\n",
       "  'title': '',\n",
       "  'artist': '',\n",
       "  'album': '',\n",
       "  'year': '',\n",
       "  'language': ''})"
      ]
     },
     "metadata": {},
     "output_type": "display_data"
    },
    {
     "data": {
      "text/plain": [
       "(0.9999997,\n",
       " {'number': '9',\n",
       "  'title': '',\n",
       "  'artist': '',\n",
       "  'album': '',\n",
       "  'year': '',\n",
       "  'language': ''},\n",
       " {'number': '9',\n",
       "  'title': '',\n",
       "  'artist': '',\n",
       "  'album': '',\n",
       "  'year': '',\n",
       "  'language': ''})"
      ]
     },
     "metadata": {},
     "output_type": "display_data"
    },
    {
     "data": {
      "text/plain": [
       "(0.8362748,\n",
       " {'number': '9',\n",
       "  'title': '',\n",
       "  'artist': '',\n",
       "  'album': '',\n",
       "  'year': '',\n",
       "  'language': ''},\n",
       " {'number': '29',\n",
       "  'title': '',\n",
       "  'artist': '',\n",
       "  'album': '',\n",
       "  'year': '',\n",
       "  'language': ''})"
      ]
     },
     "metadata": {},
     "output_type": "display_data"
    },
    {
     "data": {
      "text/plain": [
       "(0.8362748,\n",
       " {'number': '9',\n",
       "  'title': '',\n",
       "  'artist': '',\n",
       "  'album': '',\n",
       "  'year': '',\n",
       "  'language': ''},\n",
       " {'number': '29',\n",
       "  'title': '',\n",
       "  'artist': '',\n",
       "  'album': '',\n",
       "  'year': '',\n",
       "  'language': ''})"
      ]
     },
     "metadata": {},
     "output_type": "display_data"
    },
    {
     "data": {
      "text/plain": [
       "(1.0000002,\n",
       " {'number': '11',\n",
       "  'title': '',\n",
       "  'artist': '',\n",
       "  'album': '',\n",
       "  'year': '',\n",
       "  'language': ''},\n",
       " {'number': '11',\n",
       "  'title': '',\n",
       "  'artist': '',\n",
       "  'album': '',\n",
       "  'year': '',\n",
       "  'language': ''})"
      ]
     },
     "metadata": {},
     "output_type": "display_data"
    },
    {
     "data": {
      "text/plain": [
       "(1.0000002,\n",
       " {'number': '11',\n",
       "  'title': '',\n",
       "  'artist': '',\n",
       "  'album': '',\n",
       "  'year': '',\n",
       "  'language': ''},\n",
       " {'number': '11',\n",
       "  'title': '',\n",
       "  'artist': '',\n",
       "  'album': '',\n",
       "  'year': '',\n",
       "  'language': ''})"
      ]
     },
     "metadata": {},
     "output_type": "display_data"
    },
    {
     "data": {
      "text/plain": [
       "(1.0000002,\n",
       " {'number': '11',\n",
       "  'title': '',\n",
       "  'artist': '',\n",
       "  'album': '',\n",
       "  'year': '',\n",
       "  'language': ''},\n",
       " {'number': '11',\n",
       "  'title': '',\n",
       "  'artist': '',\n",
       "  'album': '',\n",
       "  'year': '',\n",
       "  'language': ''})"
      ]
     },
     "metadata": {},
     "output_type": "display_data"
    },
    {
     "data": {
      "text/plain": [
       "(1.0000002,\n",
       " {'number': '11',\n",
       "  'title': '',\n",
       "  'artist': '',\n",
       "  'album': '',\n",
       "  'year': '',\n",
       "  'language': ''},\n",
       " {'number': '11',\n",
       "  'title': '',\n",
       "  'artist': '',\n",
       "  'album': '',\n",
       "  'year': '',\n",
       "  'language': ''})"
      ]
     },
     "metadata": {},
     "output_type": "display_data"
    },
    {
     "data": {
      "text/plain": [
       "(1.0000002,\n",
       " {'number': '11',\n",
       "  'title': '',\n",
       "  'artist': '',\n",
       "  'album': '',\n",
       "  'year': '',\n",
       "  'language': ''},\n",
       " {'number': '11',\n",
       "  'title': '',\n",
       "  'artist': '',\n",
       "  'album': '',\n",
       "  'year': '',\n",
       "  'language': ''})"
      ]
     },
     "metadata": {},
     "output_type": "display_data"
    },
    {
     "data": {
      "text/plain": [
       "(1.0000002,\n",
       " {'number': '11',\n",
       "  'title': '',\n",
       "  'artist': '',\n",
       "  'album': '',\n",
       "  'year': '',\n",
       "  'language': ''},\n",
       " {'number': '11',\n",
       "  'title': '',\n",
       "  'artist': '',\n",
       "  'album': '',\n",
       "  'year': '',\n",
       "  'language': ''})"
      ]
     },
     "metadata": {},
     "output_type": "display_data"
    }
   ],
   "source": [
    "def pluck(row):\n",
    "    return {k: v for k, v in row.items() if k in attr_list}\n",
    "\n",
    "count = 0\n",
    "for ((id_left, vec_left), (id_right, vec_right)) in itertools.combinations(\n",
    "        list(zip(empty_neighbors, e_vis_x[1:])), 2):\n",
    "    sim = cos_similarity(vec_left, vec_right)\n",
    "    if sim >= 0.8:\n",
    "        display((sim, pluck(large_row_dict[id_left]), pluck(large_row_dict[id_right])))\n",
    "        count += 1"
   ]
  },
  {
   "cell_type": "code",
   "execution_count": 105,
   "metadata": {},
   "outputs": [
    {
     "data": {
      "text/plain": [
       "0.0946938775510204"
      ]
     },
     "execution_count": 105,
     "metadata": {},
     "output_type": "execute_result"
    }
   ],
   "source": [
    "count / ((e_ann_k * (e_ann_k - 1)) // 2)"
   ]
  }
 ],
 "metadata": {
  "kernelspec": {
   "display_name": "Python 3",
   "language": "python",
   "name": "python3"
  },
  "language_info": {
   "codemirror_mode": {
    "name": "ipython",
    "version": 3
   },
   "file_extension": ".py",
   "mimetype": "text/x-python",
   "name": "python",
   "nbconvert_exporter": "python",
   "pygments_lexer": "ipython3",
   "version": "3.8.6"
  }
 },
 "nbformat": 4,
 "nbformat_minor": 4
}
