{
 "cells": [
  {
   "cell_type": "markdown",
   "id": "14315d5a",
   "metadata": {},
   "source": [
    "# End to End Matching Baseline"
   ]
  },
  {
   "cell_type": "markdown",
   "id": "2eae51fb",
   "metadata": {},
   "source": [
    "## Boilerplate"
   ]
  },
  {
   "cell_type": "code",
   "execution_count": 1,
   "id": "e6be39ff",
   "metadata": {},
   "outputs": [],
   "source": [
    "%load_ext autoreload\n",
    "%autoreload 2"
   ]
  },
  {
   "cell_type": "code",
   "execution_count": 2,
   "id": "41394338",
   "metadata": {},
   "outputs": [],
   "source": [
    "from importlib import reload\n",
    "import logging\n",
    "reload(logging)\n",
    "logging.basicConfig(format='%(asctime)s %(levelname)s:%(message)s', level=logging.INFO, datefmt='%H:%M:%S')"
   ]
  },
  {
   "cell_type": "code",
   "execution_count": 3,
   "id": "96e239b1",
   "metadata": {},
   "outputs": [],
   "source": [
    "import sys\n",
    "\n",
    "sys.path.insert(0, '..')"
   ]
  },
  {
   "cell_type": "code",
   "execution_count": 4,
   "id": "23bdf412",
   "metadata": {},
   "outputs": [],
   "source": [
    "import entity_embed"
   ]
  },
  {
   "cell_type": "code",
   "execution_count": 5,
   "id": "d581925f",
   "metadata": {},
   "outputs": [],
   "source": [
    "import torch\n",
    "import numpy as np\n",
    "\n",
    "random_seed = 42\n",
    "torch.manual_seed(random_seed)\n",
    "np.random.seed(random_seed)"
   ]
  },
  {
   "cell_type": "markdown",
   "id": "a81e6680",
   "metadata": {},
   "source": [
    "## Loading Test Data"
   ]
  },
  {
   "cell_type": "code",
   "execution_count": 6,
   "id": "105a7df5",
   "metadata": {},
   "outputs": [
    {
     "name": "stderr",
     "output_type": "stream",
     "text": [
      "17:22:36 INFO:Extracting Amazon-Google...\n",
      "17:22:36 INFO:Reading Amazon-Google record_dict...\n",
      "17:22:36 INFO:Reading Amazon-Google train.csv...\n",
      "17:22:36 INFO:Reading Amazon-Google valid.csv...\n",
      "17:22:36 INFO:Reading Amazon-Google test.csv...\n"
     ]
    },
    {
     "data": {
      "text/plain": [
       "<AmazonGoogleBenchmark> from http://pages.cs.wisc.edu/~anhai/data1/deepmatcher_data/Structured/Amazon-Google/amazon_google_exp_data.zip"
      ]
     },
     "execution_count": 6,
     "metadata": {},
     "output_type": "execute_result"
    }
   ],
   "source": [
    "from entity_embed.benchmarks import AmazonGoogleBenchmark\n",
    "\n",
    "benchmark = AmazonGoogleBenchmark(data_dir_path=\"data/\")\n",
    "benchmark"
   ]
  },
  {
   "cell_type": "code",
   "execution_count": 7,
   "id": "59a621a5",
   "metadata": {},
   "outputs": [],
   "source": [
    "record_dict = benchmark.record_dict\n",
    "train_record_dict = benchmark.train_record_dict\n",
    "valid_record_dict = benchmark.valid_record_dict\n",
    "test_record_dict = benchmark.test_record_dict\n",
    "train_pos_pair_set = benchmark.train_pos_pair_set\n",
    "valid_pos_pair_set = benchmark.valid_pos_pair_set\n",
    "test_pos_pair_set = benchmark.test_pos_pair_set\n",
    "train_found_pair_set = benchmark.train_pos_pair_set | benchmark.train_neg_pair_set\n",
    "valid_found_pair_set = benchmark.valid_pos_pair_set | benchmark.valid_neg_pair_set\n",
    "test_found_pair_set = benchmark.test_pos_pair_set | benchmark.test_neg_pair_set"
   ]
  },
  {
   "cell_type": "markdown",
   "id": "7349c70b",
   "metadata": {},
   "source": [
    "## Preprocess"
   ]
  },
  {
   "cell_type": "code",
   "execution_count": 8,
   "id": "eb0246aa",
   "metadata": {},
   "outputs": [],
   "source": [
    "field_list = ['title', 'manufacturer', 'price']"
   ]
  },
  {
   "cell_type": "code",
   "execution_count": 9,
   "id": "af785670",
   "metadata": {},
   "outputs": [],
   "source": [
    "import unidecode\n",
    "import itertools\n",
    "from entity_embed import default_tokenizer\n",
    "\n",
    "def clean_str(s):\n",
    "    max_tokens = 100\n",
    "    max_chars = 1000\n",
    "    s = unidecode.unidecode(s).lower().strip()\n",
    "    s_tokens = default_tokenizer(s)[:max_tokens]\n",
    "    return ' '.join(s_tokens)[:max_chars]\n",
    "\n",
    "for record in record_dict.values():\n",
    "    for field in field_list:\n",
    "        record[field] = clean_str(record[field])"
   ]
  },
  {
   "cell_type": "markdown",
   "id": "9e6925ac",
   "metadata": {},
   "source": [
    "## Matching: Compare"
   ]
  },
  {
   "cell_type": "markdown",
   "id": "93d29e62",
   "metadata": {},
   "source": [
    "Make a dataframe `df` with all records (train, valid, test) to add additional features:"
   ]
  },
  {
   "cell_type": "code",
   "execution_count": 10,
   "id": "14577317",
   "metadata": {},
   "outputs": [],
   "source": [
    "record_dict = {**train_record_dict, **valid_record_dict, **test_record_dict}"
   ]
  },
  {
   "cell_type": "code",
   "execution_count": 11,
   "id": "cc03d21f",
   "metadata": {},
   "outputs": [],
   "source": [
    "import pandas as pd\n",
    "\n",
    "df = pd.DataFrame.from_dict(record_dict, orient='index')\n",
    "df = df.drop(columns='id')"
   ]
  },
  {
   "cell_type": "code",
   "execution_count": 12,
   "id": "8e3e72de",
   "metadata": {},
   "outputs": [
    {
     "data": {
      "text/html": [
       "<div>\n",
       "<style scoped>\n",
       "    .dataframe tbody tr th:only-of-type {\n",
       "        vertical-align: middle;\n",
       "    }\n",
       "\n",
       "    .dataframe tbody tr th {\n",
       "        vertical-align: top;\n",
       "    }\n",
       "\n",
       "    .dataframe thead th {\n",
       "        text-align: right;\n",
       "    }\n",
       "</style>\n",
       "<table border=\"1\" class=\"dataframe\">\n",
       "  <thead>\n",
       "    <tr style=\"text-align: right;\">\n",
       "      <th></th>\n",
       "      <th>title</th>\n",
       "      <th>manufacturer</th>\n",
       "      <th>price</th>\n",
       "      <th>__source</th>\n",
       "      <th>cluster</th>\n",
       "      <th>all</th>\n",
       "    </tr>\n",
       "  </thead>\n",
       "  <tbody>\n",
       "    <tr>\n",
       "      <th>465</th>\n",
       "      <td>adobe creative suite cs3 web standard upgrade ...</td>\n",
       "      <td>adobe</td>\n",
       "      <td>399.00</td>\n",
       "      <td>left</td>\n",
       "      <td>50</td>\n",
       "      <td>adobe creative suite cs3 web standard upgrade ...</td>\n",
       "    </tr>\n",
       "    <tr>\n",
       "      <th>1789</th>\n",
       "      <td>adobe cs3 production premium upgrade</td>\n",
       "      <td></td>\n",
       "      <td>822.99</td>\n",
       "      <td>right</td>\n",
       "      <td>364</td>\n",
       "      <td>adobe cs3 production premium upgrade -  - 822 ...</td>\n",
       "    </tr>\n",
       "    <tr>\n",
       "      <th>204</th>\n",
       "      <td>cisco ios enterprise services complete package...</td>\n",
       "      <td>cisco systems enterprise</td>\n",
       "      <td>NaN</td>\n",
       "      <td>left</td>\n",
       "      <td>1062</td>\n",
       "      <td>cisco ios enterprise services complete package...</td>\n",
       "    </tr>\n",
       "  </tbody>\n",
       "</table>\n",
       "</div>"
      ],
      "text/plain": [
       "                                                  title  \\\n",
       "465   adobe creative suite cs3 web standard upgrade ...   \n",
       "1789               adobe cs3 production premium upgrade   \n",
       "204   cisco ios enterprise services complete package...   \n",
       "\n",
       "                  manufacturer   price __source  cluster  \\\n",
       "465                      adobe  399.00     left       50   \n",
       "1789                            822.99    right      364   \n",
       "204   cisco systems enterprise     NaN     left     1062   \n",
       "\n",
       "                                                    all  \n",
       "465   adobe creative suite cs3 web standard upgrade ...  \n",
       "1789  adobe cs3 production premium upgrade -  - 822 ...  \n",
       "204   cisco ios enterprise services complete package...  "
      ]
     },
     "execution_count": 12,
     "metadata": {},
     "output_type": "execute_result"
    }
   ],
   "source": [
    "df['all'] = df.agg('{0[title]} - {0[manufacturer]} - {0[price]}'.format, axis=1)\n",
    "df['price'] = pd.to_numeric(df['price'].str.replace(' ', ''), errors='coerce')\n",
    "df.head(3)"
   ]
  },
  {
   "cell_type": "markdown",
   "id": "e1789693",
   "metadata": {},
   "source": [
    "Replace all `record_dict`s (train, valid, test) to add additional features:"
   ]
  },
  {
   "cell_type": "code",
   "execution_count": 13,
   "id": "f1732a76",
   "metadata": {},
   "outputs": [],
   "source": [
    "train_record_dict = df.loc[train_record_dict.keys()].to_dict(orient='index')\n",
    "valid_record_dict = df.loc[valid_record_dict.keys()].to_dict(orient='index')\n",
    "test_record_dict = df.loc[test_record_dict.keys()].to_dict(orient='index')\n",
    "\n",
    "del df"
   ]
  },
  {
   "cell_type": "code",
   "execution_count": 14,
   "id": "986bef99",
   "metadata": {},
   "outputs": [],
   "source": [
    "import textdistance as td\n",
    "import math\n",
    "\n",
    "def exact_eq(x, y):\n",
    "    return float(x == y)\n",
    "\n",
    "def token_ops(func):\n",
    "    def new_func(x, y):\n",
    "        return func(x.split(), y.split())    \n",
    "    return new_func\n",
    "\n",
    "def abs_diff(x, y):\n",
    "    return abs(x - y)\n",
    "\n",
    "def abs_diff_log10(x, y):\n",
    "    diff = abs_diff(x, y)\n",
    "    if diff > 1:\n",
    "        return math.log10(diff)\n",
    "    else:\n",
    "        return 0.0\n",
    "\n",
    "SIM_FUNC_DICT = {\n",
    "    (\"all\", \"jaccard\"): token_ops(td.jaccard.normalized_similarity),\n",
    "    (\"all\", \"overlap\"): token_ops(td.overlap.normalized_similarity),\n",
    "    (\"all\", \"damerau_levenshtein\"): td.damerau_levenshtein.normalized_similarity,\n",
    "    (\"all\", \"jaro_winkler\"): td.jaro_winkler.normalized_similarity,\n",
    "    (\"manufacturer\", \"jaccard\"): token_ops(td.jaccard.normalized_similarity),\n",
    "    (\"manufacturer\", \"overlap\"): token_ops(td.overlap.normalized_similarity),\n",
    "    (\"manufacturer\", \"damerau_levenshtein\"): td.damerau_levenshtein.normalized_similarity,\n",
    "    (\"manufacturer\", \"jaro_winkler\"): td.jaro_winkler.normalized_similarity,\n",
    "    (\"title\", \"jaccard\"): token_ops(td.jaccard.normalized_similarity),\n",
    "    (\"title\", \"overlap\"): token_ops(td.overlap.normalized_similarity),\n",
    "    (\"title\", \"damerau_levenshtein\"): td.damerau_levenshtein.normalized_similarity,\n",
    "    (\"title\", \"jaro_winkler\"): td.jaro_winkler.normalized_similarity,\n",
    "    (\"price\", \"abs_diff\"): abs_diff,\n",
    "    (\"price\", \"abs_diff_log10\"): abs_diff_log10,\n",
    "}\n",
    "\n",
    "def record_sim_func(record_pair):\n",
    "    record_left, record_right = record_pair\n",
    "    feature_dict = {}\n",
    "    \n",
    "    for (field, sim_func_name), sim_func in SIM_FUNC_DICT.items():\n",
    "        x = record_left[field]\n",
    "        y = record_right[field]\n",
    "        if x and y:\n",
    "            if sim_func_name.startswith('abs_diff') and (math.isnan(x) or math.isnan(y)):\n",
    "                sim = -1.0\n",
    "            else:\n",
    "                sim = sim_func(x, y)\n",
    "        else:\n",
    "            sim = -1.0\n",
    "        feature_dict[f\"{field}_{sim_func_name}\"] = sim\n",
    "    \n",
    "    return feature_dict"
   ]
  },
  {
   "cell_type": "code",
   "execution_count": 15,
   "id": "9789cd55",
   "metadata": {},
   "outputs": [
    {
     "name": "stdout",
     "output_type": "stream",
     "text": [
      "CPU times: user 630 µs, sys: 547 µs, total: 1.18 ms\n",
      "Wall time: 938 µs\n"
     ]
    },
    {
     "data": {
      "text/plain": [
       "{'all_jaccard': 0.65,\n",
       " 'all_overlap': 0.8666666666666667,\n",
       " 'all_damerau_levenshtein': 0.7254901960784313,\n",
       " 'all_jaro_winkler': 0.7564400305576777,\n",
       " 'manufacturer_jaccard': 1.0,\n",
       " 'manufacturer_overlap': 1.0,\n",
       " 'manufacturer_damerau_levenshtein': 1.0,\n",
       " 'manufacturer_jaro_winkler': 1.0,\n",
       " 'title_jaccard': 0.625,\n",
       " 'title_overlap': 1.0,\n",
       " 'title_damerau_levenshtein': 0.5737704918032787,\n",
       " 'title_jaro_winkler': 0.7055425448868071,\n",
       " 'price_abs_diff': 10.08999999999999,\n",
       " 'price_abs_diff_log10': 1.00389116623691}"
      ]
     },
     "execution_count": 15,
     "metadata": {},
     "output_type": "execute_result"
    }
   ],
   "source": [
    "%%time\n",
    "\n",
    "pair = next(iter(test_pos_pair_set))\n",
    "id_left, id_right = pair\n",
    "feature_dict = record_sim_func((test_record_dict[id_left], test_record_dict[id_right]))\n",
    "\n",
    "# display(test_record_dict[id_left], test_record_dict[id_right])\n",
    "feature_dict"
   ]
  },
  {
   "cell_type": "code",
   "execution_count": 16,
   "id": "29ad8dfb",
   "metadata": {},
   "outputs": [],
   "source": [
    "from collections import defaultdict\n",
    "import multiprocessing\n",
    "from tqdm.auto import tqdm\n",
    "\n",
    "def compare_pairs(record_dict, found_pair_set):\n",
    "    all_feature_dict = defaultdict(list)\n",
    "    chunksize = 100\n",
    "    tasks = (\n",
    "        (record_dict[id_left], record_dict[id_right])\n",
    "        for (id_left, id_right)\n",
    "        in found_pair_set\n",
    "    )\n",
    "\n",
    "    with multiprocessing.Pool() as pool:\n",
    "        for feature_dict in tqdm(\n",
    "            pool.imap(record_sim_func, tasks, chunksize=chunksize),\n",
    "            total=len(found_pair_set)\n",
    "        ):\n",
    "            for feature, val in feature_dict.items():\n",
    "                all_feature_dict[feature].append(val)\n",
    "\n",
    "        pool.close()\n",
    "        pool.join()\n",
    "    \n",
    "    return pd.DataFrame(all_feature_dict, index=pd.MultiIndex.from_tuples(found_pair_set))"
   ]
  },
  {
   "cell_type": "code",
   "execution_count": 17,
   "id": "c73ff3a8",
   "metadata": {},
   "outputs": [
    {
     "data": {
      "application/vnd.jupyter.widget-view+json": {
       "model_id": "07276e216836405f8142f9da7c949ae8",
       "version_major": 2,
       "version_minor": 0
      },
      "text/plain": [
       "  0%|          | 0/6874 [00:00<?, ?it/s]"
      ]
     },
     "metadata": {},
     "output_type": "display_data"
    },
    {
     "name": "stdout",
     "output_type": "stream",
     "text": [
      "CPU times: user 214 ms, sys: 104 ms, total: 319 ms\n",
      "Wall time: 470 ms\n"
     ]
    },
    {
     "data": {
      "text/plain": [
       "6874"
      ]
     },
     "execution_count": 17,
     "metadata": {},
     "output_type": "execute_result"
    }
   ],
   "source": [
    "%%time\n",
    "\n",
    "train_feature_df = compare_pairs(train_record_dict, train_found_pair_set)\n",
    "assert len(train_feature_df) == len(train_found_pair_set)\n",
    "len(train_found_pair_set)"
   ]
  },
  {
   "cell_type": "code",
   "execution_count": 18,
   "id": "1bf8bb26",
   "metadata": {},
   "outputs": [
    {
     "data": {
      "application/vnd.jupyter.widget-view+json": {
       "model_id": "c40a5612138a4a4faace09460d1b5ede",
       "version_major": 2,
       "version_minor": 0
      },
      "text/plain": [
       "  0%|          | 0/2293 [00:00<?, ?it/s]"
      ]
     },
     "metadata": {},
     "output_type": "display_data"
    },
    {
     "name": "stdout",
     "output_type": "stream",
     "text": [
      "CPU times: user 75.4 ms, sys: 90.9 ms, total: 166 ms\n",
      "Wall time: 225 ms\n"
     ]
    },
    {
     "data": {
      "text/plain": [
       "2293"
      ]
     },
     "execution_count": 18,
     "metadata": {},
     "output_type": "execute_result"
    }
   ],
   "source": [
    "%%time\n",
    "\n",
    "valid_feature_df = compare_pairs(valid_record_dict, valid_found_pair_set)\n",
    "assert len(valid_feature_df) == len(valid_found_pair_set)\n",
    "len(valid_found_pair_set)"
   ]
  },
  {
   "cell_type": "code",
   "execution_count": 19,
   "id": "d7e8c66d",
   "metadata": {},
   "outputs": [
    {
     "data": {
      "application/vnd.jupyter.widget-view+json": {
       "model_id": "bc1054aa18f84fd1bd5ff4ff91bc8f97",
       "version_major": 2,
       "version_minor": 0
      },
      "text/plain": [
       "  0%|          | 0/2293 [00:00<?, ?it/s]"
      ]
     },
     "metadata": {},
     "output_type": "display_data"
    },
    {
     "name": "stdout",
     "output_type": "stream",
     "text": [
      "CPU times: user 65.7 ms, sys: 85 ms, total: 151 ms\n",
      "Wall time: 213 ms\n"
     ]
    },
    {
     "data": {
      "text/plain": [
       "2293"
      ]
     },
     "execution_count": 19,
     "metadata": {},
     "output_type": "execute_result"
    }
   ],
   "source": [
    "%%time\n",
    "\n",
    "test_feature_df = compare_pairs(test_record_dict, test_found_pair_set)\n",
    "assert len(test_feature_df) == len(test_found_pair_set)\n",
    "len(test_found_pair_set)"
   ]
  },
  {
   "cell_type": "markdown",
   "id": "dbe58af0",
   "metadata": {},
   "source": [
    "## Matching: Compare - TFIDF Feature"
   ]
  },
  {
   "cell_type": "code",
   "execution_count": 20,
   "id": "871df4b0",
   "metadata": {},
   "outputs": [
    {
     "data": {
      "text/plain": [
       "TfidfVectorizer(analyzer='char', min_df=2, ngram_range=(2, 4))"
      ]
     },
     "execution_count": 20,
     "metadata": {},
     "output_type": "execute_result"
    }
   ],
   "source": [
    "from sklearn.feature_extraction.text import TfidfVectorizer\n",
    "\n",
    "def get_tfidf_vectorizer(train_record_dict, valid_record_dict, field='all'):\n",
    "    tfidf_vectorizer = TfidfVectorizer(\n",
    "        analyzer='char',\n",
    "        ngram_range=(2,4),\n",
    "        min_df=2\n",
    "    )\n",
    "    train_valid_record_dict = {**train_record_dict, **valid_record_dict}\n",
    "    tfidf_vectorizer.fit(record[field] for record in train_valid_record_dict.values())\n",
    "    return tfidf_vectorizer\n",
    "\n",
    "tfidf_vectorizer = get_tfidf_vectorizer(train_record_dict, valid_record_dict)\n",
    "tfidf_vectorizer"
   ]
  },
  {
   "cell_type": "code",
   "execution_count": 21,
   "id": "bef71ffb",
   "metadata": {},
   "outputs": [],
   "source": [
    "import numpy as np\n",
    "\n",
    "def add_tfidf_feature(tfidf_vectorizer, feature_df, record_dict, found_pair_set, field='all'):\n",
    "    tfidf_matrix = tfidf_vectorizer.transform(record[field] for record in record_dict.values())\n",
    "\n",
    "    id_to_idx = {id_: idx for idx, id_ in enumerate(record_dict.keys())}\n",
    "    left_idx = [id_to_idx[left_id] for left_id, __ in found_pair_set]\n",
    "    right_idx = [id_to_idx[right_id] for __, right_id in found_pair_set]\n",
    "    tfidf_sim = tfidf_matrix[left_idx].multiply(tfidf_matrix[right_idx]).sum(axis=1)\n",
    "\n",
    "    feature_df[f'{field}_tfidf'] = tfidf_sim"
   ]
  },
  {
   "cell_type": "code",
   "execution_count": 22,
   "id": "3c6f5af1",
   "metadata": {},
   "outputs": [
    {
     "name": "stdout",
     "output_type": "stream",
     "text": [
      "CPU times: user 258 ms, sys: 15.9 ms, total: 274 ms\n",
      "Wall time: 273 ms\n"
     ]
    }
   ],
   "source": [
    "%%time\n",
    "\n",
    "add_tfidf_feature(tfidf_vectorizer, train_feature_df, train_record_dict, train_found_pair_set)"
   ]
  },
  {
   "cell_type": "code",
   "execution_count": 23,
   "id": "4bfc48a2",
   "metadata": {},
   "outputs": [
    {
     "name": "stdout",
     "output_type": "stream",
     "text": [
      "CPU times: user 157 ms, sys: 138 µs, total: 157 ms\n",
      "Wall time: 157 ms\n"
     ]
    }
   ],
   "source": [
    "%%time\n",
    "\n",
    "add_tfidf_feature(tfidf_vectorizer, valid_feature_df, valid_record_dict, valid_found_pair_set)"
   ]
  },
  {
   "cell_type": "code",
   "execution_count": 24,
   "id": "bdb7247c",
   "metadata": {},
   "outputs": [
    {
     "name": "stdout",
     "output_type": "stream",
     "text": [
      "CPU times: user 149 ms, sys: 5.22 ms, total: 154 ms\n",
      "Wall time: 154 ms\n"
     ]
    }
   ],
   "source": [
    "%%time\n",
    "\n",
    "add_tfidf_feature(tfidf_vectorizer, test_feature_df, test_record_dict, test_found_pair_set)"
   ]
  },
  {
   "cell_type": "markdown",
   "id": "4dd1185e",
   "metadata": {},
   "source": [
    "## Matching: Classify"
   ]
  },
  {
   "cell_type": "code",
   "execution_count": 25,
   "id": "f6f60ac7",
   "metadata": {},
   "outputs": [
    {
     "data": {
      "text/html": [
       "<div>\n",
       "<style scoped>\n",
       "    .dataframe tbody tr th:only-of-type {\n",
       "        vertical-align: middle;\n",
       "    }\n",
       "\n",
       "    .dataframe tbody tr th {\n",
       "        vertical-align: top;\n",
       "    }\n",
       "\n",
       "    .dataframe thead th {\n",
       "        text-align: right;\n",
       "    }\n",
       "</style>\n",
       "<table border=\"1\" class=\"dataframe\">\n",
       "  <thead>\n",
       "    <tr style=\"text-align: right;\">\n",
       "      <th></th>\n",
       "      <th></th>\n",
       "      <th>all_jaccard</th>\n",
       "      <th>all_overlap</th>\n",
       "      <th>all_damerau_levenshtein</th>\n",
       "      <th>all_jaro_winkler</th>\n",
       "      <th>manufacturer_jaccard</th>\n",
       "      <th>manufacturer_overlap</th>\n",
       "      <th>manufacturer_damerau_levenshtein</th>\n",
       "      <th>manufacturer_jaro_winkler</th>\n",
       "      <th>title_jaccard</th>\n",
       "      <th>title_overlap</th>\n",
       "      <th>title_damerau_levenshtein</th>\n",
       "      <th>title_jaro_winkler</th>\n",
       "      <th>price_abs_diff</th>\n",
       "      <th>price_abs_diff_log10</th>\n",
       "      <th>all_tfidf</th>\n",
       "    </tr>\n",
       "  </thead>\n",
       "  <tbody>\n",
       "    <tr>\n",
       "      <th>465</th>\n",
       "      <th>1789</th>\n",
       "      <td>0.300000</td>\n",
       "      <td>0.6000</td>\n",
       "      <td>0.380282</td>\n",
       "      <td>0.677204</td>\n",
       "      <td>-1.0</td>\n",
       "      <td>-1.0</td>\n",
       "      <td>-1.0</td>\n",
       "      <td>-1.0</td>\n",
       "      <td>0.250000</td>\n",
       "      <td>0.600000</td>\n",
       "      <td>0.339623</td>\n",
       "      <td>0.677568</td>\n",
       "      <td>423.99</td>\n",
       "      <td>2.627356</td>\n",
       "      <td>0.301006</td>\n",
       "    </tr>\n",
       "    <tr>\n",
       "      <th>204</th>\n",
       "      <th>1376</th>\n",
       "      <td>0.375000</td>\n",
       "      <td>0.5625</td>\n",
       "      <td>0.336957</td>\n",
       "      <td>0.677550</td>\n",
       "      <td>-1.0</td>\n",
       "      <td>-1.0</td>\n",
       "      <td>-1.0</td>\n",
       "      <td>-1.0</td>\n",
       "      <td>0.437500</td>\n",
       "      <td>0.636364</td>\n",
       "      <td>0.409091</td>\n",
       "      <td>0.737375</td>\n",
       "      <td>-1.00</td>\n",
       "      <td>-1.000000</td>\n",
       "      <td>0.478299</td>\n",
       "    </tr>\n",
       "    <tr>\n",
       "      <th>551</th>\n",
       "      <th>1420</th>\n",
       "      <td>0.321429</td>\n",
       "      <td>0.5000</td>\n",
       "      <td>0.470588</td>\n",
       "      <td>0.669510</td>\n",
       "      <td>-1.0</td>\n",
       "      <td>-1.0</td>\n",
       "      <td>-1.0</td>\n",
       "      <td>-1.0</td>\n",
       "      <td>0.238095</td>\n",
       "      <td>0.416667</td>\n",
       "      <td>0.488636</td>\n",
       "      <td>0.656027</td>\n",
       "      <td>250.09</td>\n",
       "      <td>2.398096</td>\n",
       "      <td>0.379999</td>\n",
       "    </tr>\n",
       "  </tbody>\n",
       "</table>\n",
       "</div>"
      ],
      "text/plain": [
       "          all_jaccard  all_overlap  all_damerau_levenshtein  all_jaro_winkler  \\\n",
       "465 1789     0.300000       0.6000                 0.380282          0.677204   \n",
       "204 1376     0.375000       0.5625                 0.336957          0.677550   \n",
       "551 1420     0.321429       0.5000                 0.470588          0.669510   \n",
       "\n",
       "          manufacturer_jaccard  manufacturer_overlap  \\\n",
       "465 1789                  -1.0                  -1.0   \n",
       "204 1376                  -1.0                  -1.0   \n",
       "551 1420                  -1.0                  -1.0   \n",
       "\n",
       "          manufacturer_damerau_levenshtein  manufacturer_jaro_winkler  \\\n",
       "465 1789                              -1.0                       -1.0   \n",
       "204 1376                              -1.0                       -1.0   \n",
       "551 1420                              -1.0                       -1.0   \n",
       "\n",
       "          title_jaccard  title_overlap  title_damerau_levenshtein  \\\n",
       "465 1789       0.250000       0.600000                   0.339623   \n",
       "204 1376       0.437500       0.636364                   0.409091   \n",
       "551 1420       0.238095       0.416667                   0.488636   \n",
       "\n",
       "          title_jaro_winkler  price_abs_diff  price_abs_diff_log10  all_tfidf  \n",
       "465 1789            0.677568          423.99              2.627356   0.301006  \n",
       "204 1376            0.737375           -1.00             -1.000000   0.478299  \n",
       "551 1420            0.656027          250.09              2.398096   0.379999  "
      ]
     },
     "execution_count": 25,
     "metadata": {},
     "output_type": "execute_result"
    }
   ],
   "source": [
    "train_valid_feature_df = pd.concat([train_feature_df, valid_feature_df])\n",
    "train_valid_feature_df.head(3)"
   ]
  },
  {
   "cell_type": "code",
   "execution_count": 26,
   "id": "f4e3eda5",
   "metadata": {},
   "outputs": [],
   "source": [
    "train_true_y = np.array([pair in train_pos_pair_set for pair in train_found_pair_set], dtype='i4')\n",
    "valid_true_y = np.array([pair in valid_pos_pair_set for pair in valid_found_pair_set], dtype='i4')\n",
    "test_true_y = np.array([pair in test_pos_pair_set for pair in test_found_pair_set], dtype='i4')"
   ]
  },
  {
   "cell_type": "code",
   "execution_count": 27,
   "id": "471adca2",
   "metadata": {},
   "outputs": [],
   "source": [
    "train_valid_true_y = np.concatenate([train_true_y, valid_true_y])"
   ]
  },
  {
   "cell_type": "code",
   "execution_count": 28,
   "id": "d98c3077",
   "metadata": {
    "scrolled": true
   },
   "outputs": [
    {
     "name": "stdout",
     "output_type": "stream",
     "text": [
      "CPU times: user 1.58 s, sys: 30.8 ms, total: 1.61 s\n",
      "Wall time: 354 ms\n"
     ]
    },
    {
     "data": {
      "text/plain": [
       "RandomForestClassifier(n_jobs=-1, oob_score=True, random_state=42)"
      ]
     },
     "execution_count": 28,
     "metadata": {},
     "output_type": "execute_result"
    }
   ],
   "source": [
    "%%time\n",
    "\n",
    "from sklearn.ensemble import RandomForestClassifier\n",
    "\n",
    "clf = RandomForestClassifier(oob_score=True, n_jobs=-1, random_state=random_seed)\n",
    "clf.fit(train_valid_feature_df, train_valid_true_y)"
   ]
  },
  {
   "cell_type": "code",
   "execution_count": 29,
   "id": "8f8f2c87",
   "metadata": {},
   "outputs": [
    {
     "data": {
      "text/plain": [
       "0.9311661394131122"
      ]
     },
     "execution_count": 29,
     "metadata": {},
     "output_type": "execute_result"
    }
   ],
   "source": [
    "clf.oob_score_"
   ]
  },
  {
   "cell_type": "code",
   "execution_count": 30,
   "id": "8b20dd9c",
   "metadata": {
    "scrolled": false
   },
   "outputs": [
    {
     "data": {
      "text/plain": [
       "[('all_tfidf', 0.20493084214031287),\n",
       " ('all_overlap', 0.10844985614430383),\n",
       " ('title_overlap', 0.09344688498972392),\n",
       " ('all_jaccard', 0.08996189958769406),\n",
       " ('price_abs_diff', 0.07707568362016141),\n",
       " ('price_abs_diff_log10', 0.07160800444037303),\n",
       " ('all_damerau_levenshtein', 0.06915843153239842),\n",
       " ('title_damerau_levenshtein', 0.06566052230345464),\n",
       " ('all_jaro_winkler', 0.06514336809713366),\n",
       " ('title_jaccard', 0.06473058057373733),\n",
       " ('title_jaro_winkler', 0.06436450205371522),\n",
       " ('manufacturer_damerau_levenshtein', 0.008483753898369558),\n",
       " ('manufacturer_jaccard', 0.0068630437323289085),\n",
       " ('manufacturer_jaro_winkler', 0.006097925522013797),\n",
       " ('manufacturer_overlap', 0.004024701364279286)]"
      ]
     },
     "execution_count": 30,
     "metadata": {},
     "output_type": "execute_result"
    }
   ],
   "source": [
    "feature_importances = dict(zip(train_valid_feature_df.columns, clf.feature_importances_))\n",
    "sorted(feature_importances.items(), key=lambda kv: kv[1], reverse=True)"
   ]
  },
  {
   "cell_type": "code",
   "execution_count": 31,
   "id": "dde175ac",
   "metadata": {},
   "outputs": [
    {
     "data": {
      "text/plain": [
       "0.9966183047889168"
      ]
     },
     "execution_count": 31,
     "metadata": {},
     "output_type": "execute_result"
    }
   ],
   "source": [
    "from sklearn.metrics import accuracy_score\n",
    "\n",
    "cls_threshold = 0.3\n",
    "train_valid_pred_y = clf.predict_proba(train_valid_feature_df)\n",
    "train_valid_pred_y[train_valid_pred_y >= cls_threshold] = 1\n",
    "train_valid_pred_y[train_valid_pred_y < cls_threshold] = 0\n",
    "train_valid_pred_y = train_valid_pred_y[:, 1]\n",
    "accuracy_score(train_valid_pred_y, train_valid_true_y)"
   ]
  },
  {
   "cell_type": "code",
   "execution_count": 32,
   "id": "e6a1a542",
   "metadata": {},
   "outputs": [
    {
     "data": {
      "text/plain": [
       "(array([0.64963504]), array([0.76068376]), array([0.7007874]), array([234]))"
      ]
     },
     "execution_count": 32,
     "metadata": {},
     "output_type": "execute_result"
    }
   ],
   "source": [
    "from sklearn.metrics import precision_recall_fscore_support\n",
    "\n",
    "pred_y = clf.predict_proba(test_feature_df)\n",
    "pred_y[pred_y >= cls_threshold] = 1\n",
    "pred_y[pred_y < cls_threshold] = 0\n",
    "pred_y = pred_y[:, 1]\n",
    "precision_recall_fscore_support(test_true_y, pred_y, labels=[1])"
   ]
  },
  {
   "cell_type": "code",
   "execution_count": 33,
   "id": "e378f9fb",
   "metadata": {},
   "outputs": [
    {
     "data": {
      "text/plain": [
       "(0.6496350364963503, 0.7606837606837606)"
      ]
     },
     "execution_count": 33,
     "metadata": {},
     "output_type": "execute_result"
    }
   ],
   "source": [
    "from ordered_set import OrderedSet\n",
    "from entity_embed.evaluation import precision_and_recall\n",
    "\n",
    "cls_found_pair_set = OrderedSet(test_feature_df[pred_y.astype(bool)].index)\n",
    "\n",
    "precision_and_recall(cls_found_pair_set, test_pos_pair_set)"
   ]
  },
  {
   "cell_type": "markdown",
   "id": "b137b59d",
   "metadata": {},
   "source": [
    "False negatives:"
   ]
  },
  {
   "cell_type": "code",
   "execution_count": 34,
   "id": "0df0cb98",
   "metadata": {},
   "outputs": [
    {
     "data": {
      "text/plain": [
       "((620, 1553), 'adobe premiere pro cs3', 'adobe premiere pro cs3')"
      ]
     },
     "metadata": {},
     "output_type": "display_data"
    },
    {
     "data": {
      "text/plain": [
       "((207, 2888),\n",
       " 'crystal reports 11 professional full product french',\n",
       " 'crystal reports xi professional edition complete package')"
      ]
     },
     "metadata": {},
     "output_type": "display_data"
    },
    {
     "data": {
      "text/plain": [
       "((345, 2883),\n",
       " 'portfolio media kit be syst recovery 7 . 0 win small business ed',\n",
       " 'symantec 11859201 be sys recovery 7 . 0 win sbs ed media cd m / l')"
      ]
     },
     "metadata": {},
     "output_type": "display_data"
    },
    {
     "data": {
      "text/plain": [
       "((97, 3000),\n",
       " 'tournament poker 2005',\n",
       " \"eagle games egl 150 tournament poker no limit texas hold ' em\")"
      ]
     },
     "metadata": {},
     "output_type": "display_data"
    },
    {
     "data": {
      "text/plain": [
       "((243, 1504),\n",
       " 'money premium 2007 win32 eng na mini box us only cd',\n",
       " 'money prem 2007 cd minibox')"
      ]
     },
     "metadata": {},
     "output_type": "display_data"
    },
    {
     "data": {
      "text/plain": [
       "((486, 3809),\n",
       " 'pcanywhere 11 . 0 host only cd - rom xp 98 nt w2k me',\n",
       " 'symantec pcanywhere 11 . 0 windows')"
      ]
     },
     "metadata": {},
     "output_type": "display_data"
    },
    {
     "data": {
      "text/plain": [
       "((1255, 2441),\n",
       " 'sony acid pro 5',\n",
       " 'sony media software acid pro 5 music production software')"
      ]
     },
     "metadata": {},
     "output_type": "display_data"
    },
    {
     "data": {
      "text/plain": [
       "((501, 2171),\n",
       " 'microsoft digital image suite plus [ lb ]',\n",
       " 'microsoft digital image suite plus full version of photo editing software for windows .')"
      ]
     },
     "metadata": {},
     "output_type": "display_data"
    },
    {
     "data": {
      "text/plain": [
       "((984, 3597),\n",
       " 'serious magic visual communicator 2 . 0 web',\n",
       " 'serious magic visual communicator 2 web presentation software ( windows ) presentation software')"
      ]
     },
     "metadata": {},
     "output_type": "display_data"
    },
    {
     "data": {
      "text/plain": [
       "((3, 3242),\n",
       " 'peachtree by sage premium accounting for nonprofits 2007',\n",
       " 'sage ( ptree ) vernfp2007rt premium accounting for nonprofits 2007')"
      ]
     },
     "metadata": {},
     "output_type": "display_data"
    }
   ],
   "source": [
    "for x, y in list(test_pos_pair_set - cls_found_pair_set)[:10]:\n",
    "    display(((x, y), test_record_dict[x]['title'], test_record_dict[y]['title']))"
   ]
  },
  {
   "cell_type": "code",
   "execution_count": 35,
   "id": "edcef2d2",
   "metadata": {},
   "outputs": [
    {
     "data": {
      "text/plain": [
       "array([[0.87, 0.13]])"
      ]
     },
     "execution_count": 35,
     "metadata": {},
     "output_type": "execute_result"
    }
   ],
   "source": [
    "pair = (620, 1553)\n",
    "clf.predict_proba(test_feature_df.loc[[pair]])"
   ]
  },
  {
   "cell_type": "code",
   "execution_count": 36,
   "id": "01227cba",
   "metadata": {},
   "outputs": [
    {
     "data": {
      "text/plain": [
       "<Figure size 1152x720 with 0 Axes>"
      ]
     },
     "metadata": {},
     "output_type": "display_data"
    },
    {
     "data": {
      "image/png": "[encoded data removed]",
      "text/plain": [
       "<Figure size 432x288 with 1 Axes>"
      ]
     },
     "metadata": {
      "needs_background": "light"
     },
     "output_type": "display_data"
    }
   ],
   "source": [
    "%matplotlib inline\n",
    "import matplotlib.pyplot as plt\n",
    "from sklearn.metrics import plot_precision_recall_curve\n",
    "from sklearn.metrics import average_precision_score\n",
    "\n",
    "plt.figure(figsize=(16,10))\n",
    "\n",
    "disp = plot_precision_recall_curve(clf, test_feature_df, test_true_y)"
   ]
  }
 ],
 "metadata": {
  "kernelspec": {
   "display_name": "Python 3",
   "language": "python",
   "name": "python3"
  },
  "language_info": {
   "codemirror_mode": {
    "name": "ipython",
    "version": 3
   },
   "file_extension": ".py",
   "mimetype": "text/x-python",
   "name": "python",
   "nbconvert_exporter": "python",
   "pygments_lexer": "ipython3",
   "version": "3.8.6"
  }
 },
 "nbformat": 4,
 "nbformat_minor": 5
}
