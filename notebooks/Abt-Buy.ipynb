{
 "cells": [
  {
   "cell_type": "markdown",
   "id": "dying-lloyd",
   "metadata": {},
   "source": [
    "## Load Dataset"
   ]
  },
  {
   "cell_type": "code",
   "execution_count": 1,
   "id": "operating-amsterdam",
   "metadata": {},
   "outputs": [],
   "source": [
    "%load_ext autoreload\n",
    "%autoreload 2"
   ]
  },
  {
   "cell_type": "code",
   "execution_count": 2,
   "id": "blind-collaboration",
   "metadata": {},
   "outputs": [],
   "source": [
    "from importlib import reload\n",
    "import logging\n",
    "reload(logging)\n",
    "logging.basicConfig(format='%(asctime)s %(levelname)s:%(message)s', level=logging.INFO, datefmt='%H:%M:%S')"
   ]
  },
  {
   "cell_type": "code",
   "execution_count": 3,
   "id": "alleged-diving",
   "metadata": {},
   "outputs": [],
   "source": [
    "# libgomp issue, must import n2 before torch\n",
    "from n2 import HnswIndex"
   ]
  },
  {
   "cell_type": "code",
   "execution_count": 4,
   "id": "fifth-assignment",
   "metadata": {},
   "outputs": [],
   "source": [
    "import sys\n",
    "\n",
    "sys.path.insert(0, '..')"
   ]
  },
  {
   "cell_type": "code",
   "execution_count": 5,
   "id": "bright-edgar",
   "metadata": {},
   "outputs": [],
   "source": [
    "import os\n",
    "home_dir = os.getenv('HOME')"
   ]
  },
  {
   "cell_type": "code",
   "execution_count": 6,
   "id": "positive-parker",
   "metadata": {},
   "outputs": [],
   "source": [
    "from collections import defaultdict\n",
    "import itertools\n",
    "\n",
    "def Enumerator(start=0, initial=()):\n",
    "    return defaultdict(itertools.count(start).__next__, initial)"
   ]
  },
  {
   "cell_type": "code",
   "execution_count": 7,
   "id": "mature-mustang",
   "metadata": {},
   "outputs": [
    {
     "data": {
      "application/vnd.jupyter.widget-view+json": {
       "model_id": "f03088629ec241dea24d0e9ed0837f96",
       "version_major": 2,
       "version_minor": 0
      },
      "text/plain": [
       "HBox(children=(HTML(value=''), FloatProgress(value=0.0, max=2173.0), HTML(value='')))"
      ]
     },
     "metadata": {},
     "output_type": "display_data"
    },
    {
     "name": "stdout",
     "output_type": "stream",
     "text": [
      "\n"
     ]
    }
   ],
   "source": [
    "import glob\n",
    "import csv\n",
    "from tqdm.auto import tqdm\n",
    "\n",
    "id_enumerator = Enumerator()\n",
    "row_dict = {}\n",
    "left_id_set = set()\n",
    "right_id_set = set()\n",
    "rows_total = 1081 + 1092\n",
    "clusters_total = 1097\n",
    "\n",
    "with tqdm(total=rows_total) as pbar:\n",
    "    with open(f'{home_dir}/Downloads/Abt-Buy/Abt.csv', encoding=\"latin1\") as f:\n",
    "        for row in csv.DictReader(f):\n",
    "            row['id'] = id_enumerator[row[\"id\"]]\n",
    "            row['source'] = 'abt'\n",
    "            row_dict[row['id']] = row\n",
    "            left_id_set.add(row['id'])\n",
    "            pbar.update(1)\n",
    "    \n",
    "    with open(f'{home_dir}/Downloads/Abt-Buy/Buy.csv', encoding=\"latin1\") as f:\n",
    "        for row in csv.DictReader(f):\n",
    "            row['id'] = id_enumerator[row[\"id\"]]\n",
    "            row['source'] = 'buy'\n",
    "            row_dict[row['id']] = row\n",
    "            right_id_set.add(row['id'])\n",
    "            pbar.update(1)"
   ]
  },
  {
   "cell_type": "code",
   "execution_count": 8,
   "id": "neutral-berry",
   "metadata": {},
   "outputs": [
    {
     "data": {
      "text/plain": [
       "1097"
      ]
     },
     "execution_count": 8,
     "metadata": {},
     "output_type": "execute_result"
    }
   ],
   "source": [
    "true_pair_set = set()\n",
    "\n",
    "with open(f'{home_dir}/Downloads/Abt-Buy/abt_buy_perfectMapping.csv') as f:\n",
    "    for row in csv.DictReader(f):\n",
    "        id_left = id_enumerator[row['idAbt']]\n",
    "        id_right = id_enumerator[row['idBuy']]\n",
    "        true_pair_set.add((id_left, id_right))\n",
    "\n",
    "len(true_pair_set)"
   ]
  },
  {
   "cell_type": "code",
   "execution_count": 9,
   "id": "blocked-landing",
   "metadata": {},
   "outputs": [
    {
     "data": {
      "text/plain": [
       "2173"
      ]
     },
     "execution_count": 9,
     "metadata": {},
     "output_type": "execute_result"
    }
   ],
   "source": [
    "from entity_embed.data_utils.utils import id_pairs_to_cluster_mapping_and_dict\n",
    "\n",
    "cluster_mapping, cluster_dict = id_pairs_to_cluster_mapping_and_dict(true_pair_set)\n",
    "len(cluster_mapping)"
   ]
  },
  {
   "cell_type": "code",
   "execution_count": 10,
   "id": "blessed-capability",
   "metadata": {},
   "outputs": [
    {
     "data": {
      "text/plain": [
       "1076"
      ]
     },
     "execution_count": 10,
     "metadata": {},
     "output_type": "execute_result"
    }
   ],
   "source": [
    "len(cluster_dict)"
   ]
  },
  {
   "cell_type": "code",
   "execution_count": 11,
   "id": "initial-bristol",
   "metadata": {},
   "outputs": [
    {
     "data": {
      "application/vnd.jupyter.widget-view+json": {
       "model_id": "6c0a9f9af3a14a7fafab738732dcd7bc",
       "version_major": 2,
       "version_minor": 0
      },
      "text/plain": [
       "HBox(children=(HTML(value=''), FloatProgress(value=0.0, max=2173.0), HTML(value='')))"
      ]
     },
     "metadata": {},
     "output_type": "display_data"
    },
    {
     "name": "stdout",
     "output_type": "stream",
     "text": [
      "\n"
     ]
    }
   ],
   "source": [
    "cluster_attr = 'cluster_id'\n",
    "max_cluster_id = max(cluster_mapping.values())\n",
    "\n",
    "for row_id, row in tqdm(row_dict.items()):\n",
    "    try:\n",
    "        row[cluster_attr] = cluster_mapping[row_id]\n",
    "    except KeyError:\n",
    "        row[cluster_attr] = max_cluster_id\n",
    "        max_cluster_id += 1"
   ]
  },
  {
   "cell_type": "code",
   "execution_count": 12,
   "id": "decent-convergence",
   "metadata": {},
   "outputs": [
    {
     "data": {
      "text/plain": [
       "[{'id': 305,\n",
       "  'name': 'TiVo HD Digital Video Recorder (180 Hour) - TCD652160',\n",
       "  'description': 'TiVo HD Digital Video Recorder - TCD652160/ Search, Record And Watch Shows In HD/ Record Up To 20 Hours In HD (Or 180 Hours In Standard Definition)/ Record Two Shows At Once In HD/ Replaces Your Cable Box And Works With Over-The-Air Antenna/ USB Connectivity/ Remote Control/ Netflix Instant Streaming/ TiVo Service Required And Sold Separately',\n",
       "  'price': '',\n",
       "  'source': 'abt',\n",
       "  'cluster_id': 305},\n",
       " {'id': 1508,\n",
       "  'name': 'Tivo TIV652160 Tivo High Definition',\n",
       "  'description': '',\n",
       "  'manufacturer': 'TiVo',\n",
       "  'price': '',\n",
       "  'source': 'buy',\n",
       "  'cluster_id': 305}]"
      ]
     },
     "execution_count": 12,
     "metadata": {},
     "output_type": "execute_result"
    }
   ],
   "source": [
    "[row_dict[row_id] for row_id in next(iter(true_pair_set))]"
   ]
  },
  {
   "cell_type": "markdown",
   "id": "breathing-alignment",
   "metadata": {},
   "source": [
    "## Preprocess"
   ]
  },
  {
   "cell_type": "code",
   "execution_count": 13,
   "id": "applied-divide",
   "metadata": {},
   "outputs": [],
   "source": [
    "attr_list = ['name', 'description', 'price']"
   ]
  },
  {
   "cell_type": "code",
   "execution_count": 14,
   "id": "olympic-symposium",
   "metadata": {},
   "outputs": [
    {
     "data": {
      "application/vnd.jupyter.widget-view+json": {
       "model_id": "219f33adb67349fe817834f2aa6b48ad",
       "version_major": 2,
       "version_minor": 0
      },
      "text/plain": [
       "HBox(children=(HTML(value=''), FloatProgress(value=0.0, max=2173.0), HTML(value='')))"
      ]
     },
     "metadata": {},
     "output_type": "display_data"
    },
    {
     "name": "stdout",
     "output_type": "stream",
     "text": [
      "\n"
     ]
    }
   ],
   "source": [
    "import unidecode\n",
    "from entity_embed import default_tokenizer\n",
    "\n",
    "def clean_str(s):\n",
    "    s = unidecode.unidecode(s).lower().strip()\n",
    "    s_tokens = itertools.islice((s_part[:30] for s_part in default_tokenizer(s)), 0, 30)\n",
    "    return ' '.join(s_tokens)[:300]\n",
    "\n",
    "for row in tqdm(row_dict.values()):\n",
    "    for attr in attr_list:\n",
    "        row[attr] = clean_str(row[attr])"
   ]
  },
  {
   "cell_type": "markdown",
   "id": "finished-heart",
   "metadata": {},
   "source": [
    "## Init Data Module"
   ]
  },
  {
   "cell_type": "code",
   "execution_count": 15,
   "id": "varied-squad",
   "metadata": {},
   "outputs": [],
   "source": [
    "import torch\n",
    "import numpy as np\n",
    "\n",
    "random_seed = 42\n",
    "torch.manual_seed(random_seed)\n",
    "np.random.seed(random_seed)"
   ]
  },
  {
   "cell_type": "code",
   "execution_count": 16,
   "id": "increasing-produce",
   "metadata": {},
   "outputs": [],
   "source": [
    "alphabet = list('0123456789abcdefghijklmnopqrstuvwxyz!\"#$%&\\'()*+,-./:;<=>?@[\\\\]^_`{|}~ ')"
   ]
  },
  {
   "cell_type": "code",
   "execution_count": 17,
   "id": "integral-category",
   "metadata": {},
   "outputs": [],
   "source": [
    "attr_info_dict = {\n",
    "    'name': {\n",
    "        'field_type': \"MULTITOKEN\",\n",
    "        'tokenizer': \"entity_embed.default_tokenizer\",\n",
    "        'alphabet': alphabet,\n",
    "        'max_str_len': None,  # compute\n",
    "    },\n",
    "    'description': {\n",
    "        'field_type': \"MULTITOKEN\",\n",
    "        'tokenizer': \"entity_embed.default_tokenizer\",\n",
    "        'alphabet': alphabet,\n",
    "        'max_str_len': None,  # compute\n",
    "    },\n",
    "    'price': {\n",
    "        'field_type': \"STRING\",\n",
    "        'tokenizer': \"entity_embed.default_tokenizer\",\n",
    "        'alphabet': alphabet,\n",
    "        'max_str_len': None,  # compute\n",
    "    }\n",
    "}"
   ]
  },
  {
   "cell_type": "code",
   "execution_count": 18,
   "id": "continued-qatar",
   "metadata": {},
   "outputs": [
    {
     "name": "stderr",
     "output_type": "stream",
     "text": [
      "14:06:35 INFO:For attr='name', computing actual alphabet and max_str_len\n",
      "14:06:35 INFO:actual_max_str_len=15 must be pair to enable NN pooling. Updating to 16\n",
      "14:06:35 INFO:For attr='name', using actual_max_str_len=16\n",
      "14:06:35 INFO:For attr='description', computing actual alphabet and max_str_len\n",
      "14:06:35 INFO:actual_max_str_len=15 must be pair to enable NN pooling. Updating to 16\n",
      "14:06:35 INFO:For attr='description', using actual_max_str_len=16\n",
      "14:06:35 INFO:For attr='price', computing actual alphabet and max_str_len\n",
      "14:06:35 INFO:For attr='price', using actual_max_str_len=14\n"
     ]
    },
    {
     "data": {
      "text/plain": [
       "{'name': NumericalizeInfo(field_type=<FieldType.MULTITOKEN: 'multitoken'>, tokenizer=<function default_tokenizer at 0x7f990071c160>, alphabet=['0', '1', '2', '3', '4', '5', '6', '7', '8', '9', 'a', 'b', 'c', 'd', 'e', 'f', 'g', 'h', 'i', 'j', 'k', 'l', 'm', 'n', 'o', 'p', 'q', 'r', 's', 't', 'u', 'v', 'w', 'x', 'y', 'z', '!', '\"', '#', '$', '%', '&', \"'\", '(', ')', '*', '+', ',', '-', '.', '/', ':', ';', '<', '=', '>', '?', '@', '[', '\\\\', ']', '^', '_', '`', '{', '|', '}', '~', ' '], max_str_len=16, vocab=None),\n",
       " 'description': NumericalizeInfo(field_type=<FieldType.MULTITOKEN: 'multitoken'>, tokenizer=<function default_tokenizer at 0x7f990071c160>, alphabet=['0', '1', '2', '3', '4', '5', '6', '7', '8', '9', 'a', 'b', 'c', 'd', 'e', 'f', 'g', 'h', 'i', 'j', 'k', 'l', 'm', 'n', 'o', 'p', 'q', 'r', 's', 't', 'u', 'v', 'w', 'x', 'y', 'z', '!', '\"', '#', '$', '%', '&', \"'\", '(', ')', '*', '+', ',', '-', '.', '/', ':', ';', '<', '=', '>', '?', '@', '[', '\\\\', ']', '^', '_', '`', '{', '|', '}', '~', ' '], max_str_len=16, vocab=None),\n",
       " 'price': NumericalizeInfo(field_type=<FieldType.STRING: 'string'>, tokenizer=<function default_tokenizer at 0x7f990071c160>, alphabet=['0', '1', '2', '3', '4', '5', '6', '7', '8', '9', 'a', 'b', 'c', 'd', 'e', 'f', 'g', 'h', 'i', 'j', 'k', 'l', 'm', 'n', 'o', 'p', 'q', 'r', 's', 't', 'u', 'v', 'w', 'x', 'y', 'z', '!', '\"', '#', '$', '%', '&', \"'\", '(', ')', '*', '+', ',', '-', '.', '/', ':', ';', '<', '=', '>', '?', '@', '[', '\\\\', ']', '^', '_', '`', '{', '|', '}', '~', ' '], max_str_len=14, vocab=None)}"
      ]
     },
     "execution_count": 18,
     "metadata": {},
     "output_type": "execute_result"
    }
   ],
   "source": [
    "from entity_embed import build_row_numericalizer\n",
    "\n",
    "row_numericalizer = build_row_numericalizer(attr_info_dict, row_dict=row_dict)\n",
    "row_numericalizer.attr_info_dict"
   ]
  },
  {
   "cell_type": "code",
   "execution_count": 19,
   "id": "subtle-albert",
   "metadata": {},
   "outputs": [],
   "source": [
    "from entity_embed import LinkageDataModule\n",
    "\n",
    "train_cluster_len = 200\n",
    "valid_cluster_len = 200\n",
    "datamodule = LinkageDataModule(\n",
    "    row_dict=row_dict,\n",
    "    cluster_attr=cluster_attr,\n",
    "    row_numericalizer=row_numericalizer,\n",
    "    pos_pair_batch_size=10,\n",
    "    neg_pair_batch_size=435,\n",
    "    row_batch_size=16,\n",
    "    train_cluster_len=train_cluster_len,\n",
    "    valid_cluster_len=valid_cluster_len,\n",
    "    test_cluster_len=clusters_total - valid_cluster_len - train_cluster_len,\n",
    "    only_plural_clusters=True,\n",
    "    left_id_set=left_id_set,\n",
    "    right_id_set=right_id_set,\n",
    "    random_seed=random_seed\n",
    ")"
   ]
  },
  {
   "cell_type": "markdown",
   "id": "armed-playback",
   "metadata": {},
   "source": [
    "## Training"
   ]
  },
  {
   "cell_type": "code",
   "execution_count": 20,
   "id": "ruled-rouge",
   "metadata": {},
   "outputs": [],
   "source": [
    "from entity_embed import LinkageEmbed\n",
    "\n",
    "ann_k = 100\n",
    "model = LinkageEmbed(\n",
    "    datamodule,\n",
    "    ann_k=ann_k,\n",
    "    use_mask=True\n",
    ")"
   ]
  },
  {
   "cell_type": "code",
   "execution_count": 21,
   "id": "native-driving",
   "metadata": {},
   "outputs": [
    {
     "name": "stderr",
     "output_type": "stream",
     "text": [
      "14:06:35 INFO:GPU available: True, used: True\n",
      "14:06:35 INFO:TPU available: None, using: 0 TPU cores\n",
      "14:06:35 INFO:LOCAL_RANK: 0 - CUDA_VISIBLE_DEVICES: [0]\n"
     ]
    }
   ],
   "source": [
    "import pytorch_lightning as pl\n",
    "from pytorch_lightning.callbacks.early_stopping import EarlyStopping\n",
    "from pytorch_lightning.loggers import TensorBoardLogger\n",
    "\n",
    "max_epochs = 50\n",
    "early_stop_callback = EarlyStopping(\n",
    "   monitor='valid_recall_at_0.3',\n",
    "   min_delta=0.00,\n",
    "   patience=10,\n",
    "   verbose=True,\n",
    "   mode='max'\n",
    ")\n",
    "tb_log_dir = 'tb_logs'\n",
    "tb_name = 'abt-buy'\n",
    "trainer = pl.Trainer(\n",
    "    gpus=1,\n",
    "    max_epochs=max_epochs,\n",
    "    check_val_every_n_epoch=1,\n",
    "    callbacks=[early_stop_callback],\n",
    "    logger=TensorBoardLogger(tb_log_dir, name=tb_name),\n",
    ")"
   ]
  },
  {
   "cell_type": "code",
   "execution_count": 22,
   "id": "protected-chocolate",
   "metadata": {},
   "outputs": [
    {
     "name": "stderr",
     "output_type": "stream",
     "text": [
      "14:06:35 INFO:Train pair count: 214\n",
      "14:06:35 INFO:Valid pair count: 200\n",
      "14:06:35 INFO:Test pair count: 704\n",
      "14:06:37 INFO:\n",
      "  | Name        | Type           | Params\n",
      "-----------------------------------------------\n",
      "0 | blocker_net | BlockerNet     | 1.8 M \n",
      "1 | losser      | NTXentLoss     | 0     \n",
      "2 | miner       | BatchHardMiner | 0     \n",
      "-----------------------------------------------\n",
      "1.8 M     Trainable params\n",
      "0         Non-trainable params\n",
      "1.8 M     Total params\n"
     ]
    },
    {
     "data": {
      "application/vnd.jupyter.widget-view+json": {
       "model_id": "",
       "version_major": 2,
       "version_minor": 0
      },
      "text/plain": [
       "HBox(children=(HTML(value='Validation sanity check'), FloatProgress(value=1.0, bar_style='info', layout=Layout…"
      ]
     },
     "metadata": {},
     "output_type": "display_data"
    },
    {
     "data": {
      "application/vnd.jupyter.widget-view+json": {
       "model_id": "4f4a74fb9f5840f79b64c4624c239c16",
       "version_major": 2,
       "version_minor": 0
      },
      "text/plain": [
       "HBox(children=(HTML(value='Training'), FloatProgress(value=1.0, bar_style='info', layout=Layout(flex='2'), max…"
      ]
     },
     "metadata": {},
     "output_type": "display_data"
    },
    {
     "data": {
      "application/vnd.jupyter.widget-view+json": {
       "model_id": "",
       "version_major": 2,
       "version_minor": 0
      },
      "text/plain": [
       "HBox(children=(HTML(value='Validating'), FloatProgress(value=1.0, bar_style='info', layout=Layout(flex='2'), m…"
      ]
     },
     "metadata": {},
     "output_type": "display_data"
    },
    {
     "data": {
      "application/vnd.jupyter.widget-view+json": {
       "model_id": "",
       "version_major": 2,
       "version_minor": 0
      },
      "text/plain": [
       "HBox(children=(HTML(value='Validating'), FloatProgress(value=1.0, bar_style='info', layout=Layout(flex='2'), m…"
      ]
     },
     "metadata": {},
     "output_type": "display_data"
    },
    {
     "data": {
      "application/vnd.jupyter.widget-view+json": {
       "model_id": "",
       "version_major": 2,
       "version_minor": 0
      },
      "text/plain": [
       "HBox(children=(HTML(value='Validating'), FloatProgress(value=1.0, bar_style='info', layout=Layout(flex='2'), m…"
      ]
     },
     "metadata": {},
     "output_type": "display_data"
    },
    {
     "data": {
      "application/vnd.jupyter.widget-view+json": {
       "model_id": "",
       "version_major": 2,
       "version_minor": 0
      },
      "text/plain": [
       "HBox(children=(HTML(value='Validating'), FloatProgress(value=1.0, bar_style='info', layout=Layout(flex='2'), m…"
      ]
     },
     "metadata": {},
     "output_type": "display_data"
    },
    {
     "data": {
      "application/vnd.jupyter.widget-view+json": {
       "model_id": "",
       "version_major": 2,
       "version_minor": 0
      },
      "text/plain": [
       "HBox(children=(HTML(value='Validating'), FloatProgress(value=1.0, bar_style='info', layout=Layout(flex='2'), m…"
      ]
     },
     "metadata": {},
     "output_type": "display_data"
    },
    {
     "data": {
      "application/vnd.jupyter.widget-view+json": {
       "model_id": "",
       "version_major": 2,
       "version_minor": 0
      },
      "text/plain": [
       "HBox(children=(HTML(value='Validating'), FloatProgress(value=1.0, bar_style='info', layout=Layout(flex='2'), m…"
      ]
     },
     "metadata": {},
     "output_type": "display_data"
    },
    {
     "data": {
      "application/vnd.jupyter.widget-view+json": {
       "model_id": "",
       "version_major": 2,
       "version_minor": 0
      },
      "text/plain": [
       "HBox(children=(HTML(value='Validating'), FloatProgress(value=1.0, bar_style='info', layout=Layout(flex='2'), m…"
      ]
     },
     "metadata": {},
     "output_type": "display_data"
    },
    {
     "data": {
      "application/vnd.jupyter.widget-view+json": {
       "model_id": "",
       "version_major": 2,
       "version_minor": 0
      },
      "text/plain": [
       "HBox(children=(HTML(value='Validating'), FloatProgress(value=1.0, bar_style='info', layout=Layout(flex='2'), m…"
      ]
     },
     "metadata": {},
     "output_type": "display_data"
    },
    {
     "data": {
      "application/vnd.jupyter.widget-view+json": {
       "model_id": "",
       "version_major": 2,
       "version_minor": 0
      },
      "text/plain": [
       "HBox(children=(HTML(value='Validating'), FloatProgress(value=1.0, bar_style='info', layout=Layout(flex='2'), m…"
      ]
     },
     "metadata": {},
     "output_type": "display_data"
    },
    {
     "data": {
      "application/vnd.jupyter.widget-view+json": {
       "model_id": "",
       "version_major": 2,
       "version_minor": 0
      },
      "text/plain": [
       "HBox(children=(HTML(value='Validating'), FloatProgress(value=1.0, bar_style='info', layout=Layout(flex='2'), m…"
      ]
     },
     "metadata": {},
     "output_type": "display_data"
    },
    {
     "data": {
      "application/vnd.jupyter.widget-view+json": {
       "model_id": "",
       "version_major": 2,
       "version_minor": 0
      },
      "text/plain": [
       "HBox(children=(HTML(value='Validating'), FloatProgress(value=1.0, bar_style='info', layout=Layout(flex='2'), m…"
      ]
     },
     "metadata": {},
     "output_type": "display_data"
    },
    {
     "data": {
      "application/vnd.jupyter.widget-view+json": {
       "model_id": "",
       "version_major": 2,
       "version_minor": 0
      },
      "text/plain": [
       "HBox(children=(HTML(value='Validating'), FloatProgress(value=1.0, bar_style='info', layout=Layout(flex='2'), m…"
      ]
     },
     "metadata": {},
     "output_type": "display_data"
    },
    {
     "name": "stdout",
     "output_type": "stream",
     "text": [
      "\n"
     ]
    },
    {
     "data": {
      "text/plain": [
       "1"
      ]
     },
     "execution_count": 22,
     "metadata": {},
     "output_type": "execute_result"
    }
   ],
   "source": [
    "trainer.fit(model, datamodule)"
   ]
  },
  {
   "cell_type": "code",
   "execution_count": 23,
   "id": "subject-forty",
   "metadata": {},
   "outputs": [
    {
     "data": {
      "text/plain": [
       "{'name': 0.3902282118797302,\n",
       " 'description': 0.3410254716873169,\n",
       " 'price': 0.26874637603759766}"
      ]
     },
     "execution_count": 23,
     "metadata": {},
     "output_type": "execute_result"
    }
   ],
   "source": [
    "model.blocker_net.get_signature_weights()"
   ]
  },
  {
   "cell_type": "markdown",
   "id": "prepared-dominican",
   "metadata": {},
   "source": [
    "## Testing"
   ]
  },
  {
   "cell_type": "code",
   "execution_count": 24,
   "id": "surrounded-escape",
   "metadata": {},
   "outputs": [
    {
     "name": "stderr",
     "output_type": "stream",
     "text": [
      "14:07:23 INFO:Train pair count: 214\n",
      "14:07:23 INFO:Valid pair count: 200\n",
      "14:07:23 INFO:Test pair count: 704\n"
     ]
    },
    {
     "data": {
      "application/vnd.jupyter.widget-view+json": {
       "model_id": "088716e68e2f4b82aa01bd1b394692fc",
       "version_major": 2,
       "version_minor": 0
      },
      "text/plain": [
       "HBox(children=(HTML(value='Testing'), FloatProgress(value=1.0, bar_style='info', layout=Layout(flex='2'), max=…"
      ]
     },
     "metadata": {},
     "output_type": "display_data"
    },
    {
     "name": "stdout",
     "output_type": "stream",
     "text": [
      "\n",
      "--------------------------------------------------------------------------------\n",
      "DATALOADER:0 TEST RESULTS\n",
      "{'test_f1_at_0.3': 0.035161403225372215,\n",
      " 'test_f1_at_0.5': 0.17895239611526825,\n",
      " 'test_f1_at_0.7': 0.41814837522992027,\n",
      " 'test_f1_at_0.9': 0.20129032258064516,\n",
      " 'test_pair_entity_ratio_at_0.3': 26.685944363103953,\n",
      " 'test_pair_entity_ratio_at_0.5': 4.092972181551977,\n",
      " 'test_pair_entity_ratio_at_0.7': 0.6888726207906296,\n",
      " 'test_pair_entity_ratio_at_0.9': 0.06222547584187409,\n",
      " 'test_precision_at_0.3': 0.017913477628727404,\n",
      " 'test_precision_at_0.5': 0.10051869075299588,\n",
      " 'test_precision_at_0.7': 0.36238044633368754,\n",
      " 'test_precision_at_0.9': 0.9176470588235294,\n",
      " 'test_recall_at_0.3': 0.946376811594203,\n",
      " 'test_recall_at_0.5': 0.8144927536231884,\n",
      " 'test_recall_at_0.7': 0.49420289855072463,\n",
      " 'test_recall_at_0.9': 0.11304347826086956}\n",
      "--------------------------------------------------------------------------------\n"
     ]
    },
    {
     "data": {
      "text/plain": [
       "[{'test_precision_at_0.3': 0.017913477628727404,\n",
       "  'test_recall_at_0.3': 0.946376811594203,\n",
       "  'test_f1_at_0.3': 0.035161403225372215,\n",
       "  'test_pair_entity_ratio_at_0.3': 26.685944363103953,\n",
       "  'test_precision_at_0.5': 0.10051869075299588,\n",
       "  'test_recall_at_0.5': 0.8144927536231884,\n",
       "  'test_f1_at_0.5': 0.17895239611526825,\n",
       "  'test_pair_entity_ratio_at_0.5': 4.092972181551977,\n",
       "  'test_precision_at_0.7': 0.36238044633368754,\n",
       "  'test_recall_at_0.7': 0.49420289855072463,\n",
       "  'test_f1_at_0.7': 0.41814837522992027,\n",
       "  'test_pair_entity_ratio_at_0.7': 0.6888726207906296,\n",
       "  'test_precision_at_0.9': 0.9176470588235294,\n",
       "  'test_recall_at_0.9': 0.11304347826086956,\n",
       "  'test_f1_at_0.9': 0.20129032258064516,\n",
       "  'test_pair_entity_ratio_at_0.9': 0.06222547584187409}]"
      ]
     },
     "execution_count": 24,
     "metadata": {},
     "output_type": "execute_result"
    }
   ],
   "source": [
    "trainer.test(ckpt_path='best')"
   ]
  },
  {
   "cell_type": "markdown",
   "id": "military-graphic",
   "metadata": {},
   "source": [
    "## Testing manually"
   ]
  },
  {
   "cell_type": "code",
   "execution_count": 25,
   "id": "previous-device",
   "metadata": {},
   "outputs": [
    {
     "data": {
      "application/vnd.jupyter.widget-view+json": {
       "model_id": "8f839ea16b7b452e8fc9af3ecc24f703",
       "version_major": 2,
       "version_minor": 0
      },
      "text/plain": [
       "HBox(children=(HTML(value='# batch embedding'), FloatProgress(value=0.0, max=86.0), HTML(value='')))"
      ]
     },
     "metadata": {},
     "output_type": "display_data"
    },
    {
     "name": "stdout",
     "output_type": "stream",
     "text": [
      "\n"
     ]
    }
   ],
   "source": [
    "test_row_dict = datamodule.test_row_dict\n",
    "test_left_vector_dict, test_right_vector_dict = model.predict(\n",
    "    row_dict=test_row_dict,\n",
    "    left_id_set=left_id_set,\n",
    "    right_id_set=right_id_set,\n",
    "    batch_size=16\n",
    ")"
   ]
  },
  {
   "cell_type": "code",
   "execution_count": 26,
   "id": "fixed-coupon",
   "metadata": {},
   "outputs": [],
   "source": [
    "embedding_size = model.blocker_net.embedding_size\n",
    "test_true_pair_set = datamodule.test_true_pair_set"
   ]
  },
  {
   "cell_type": "code",
   "execution_count": 27,
   "id": "interim-express",
   "metadata": {},
   "outputs": [],
   "source": [
    "assert (len(test_left_vector_dict) + len(test_right_vector_dict)) == len(test_row_dict)"
   ]
  },
  {
   "cell_type": "code",
   "execution_count": 28,
   "id": "medieval-forum",
   "metadata": {},
   "outputs": [
    {
     "name": "stdout",
     "output_type": "stream",
     "text": [
      "CPU times: user 625 ms, sys: 0 ns, total: 625 ms\n",
      "Wall time: 89.3 ms\n"
     ]
    }
   ],
   "source": [
    "%%time\n",
    "\n",
    "from entity_embed import ANNLinkageIndex\n",
    "\n",
    "ann_index = ANNLinkageIndex(embedding_size=embedding_size)\n",
    "ann_index.insert_vector_dict(left_vector_dict=test_left_vector_dict, right_vector_dict=test_right_vector_dict)\n",
    "ann_index.build()"
   ]
  },
  {
   "cell_type": "code",
   "execution_count": 29,
   "id": "finished-casting",
   "metadata": {},
   "outputs": [
    {
     "name": "stdout",
     "output_type": "stream",
     "text": [
      "CPU times: user 638 ms, sys: 4.56 ms, total: 643 ms\n",
      "Wall time: 100 ms\n"
     ]
    }
   ],
   "source": [
    "%%time\n",
    "\n",
    "sim_threshold = 0.3\n",
    "found_pair_set = ann_index.search_pairs(\n",
    "    k=ann_k,\n",
    "    sim_threshold=sim_threshold,\n",
    "    left_vector_dict=test_left_vector_dict,\n",
    "    right_vector_dict=test_right_vector_dict,\n",
    ")"
   ]
  },
  {
   "cell_type": "code",
   "execution_count": 30,
   "id": "nervous-mauritius",
   "metadata": {},
   "outputs": [
    {
     "data": {
      "text/plain": [
       "26.685944363103953"
      ]
     },
     "execution_count": 30,
     "metadata": {},
     "output_type": "execute_result"
    }
   ],
   "source": [
    "from entity_embed.evaluation import pair_entity_ratio\n",
    "\n",
    "pair_entity_ratio(len(found_pair_set), len(test_row_dict))"
   ]
  },
  {
   "cell_type": "code",
   "execution_count": 31,
   "id": "accredited-bullet",
   "metadata": {},
   "outputs": [
    {
     "data": {
      "text/plain": [
       "(0.017913477628727404, 0.946376811594203)"
      ]
     },
     "execution_count": 31,
     "metadata": {},
     "output_type": "execute_result"
    }
   ],
   "source": [
    "from entity_embed.evaluation import precision_and_recall\n",
    "\n",
    "precision_and_recall(found_pair_set, test_true_pair_set)"
   ]
  },
  {
   "cell_type": "code",
   "execution_count": 32,
   "id": "thrown-grain",
   "metadata": {},
   "outputs": [
    {
     "data": {
      "text/plain": [
       "35800"
      ]
     },
     "execution_count": 32,
     "metadata": {},
     "output_type": "execute_result"
    }
   ],
   "source": [
    "false_positives = list(found_pair_set - test_true_pair_set)\n",
    "len(false_positives)"
   ]
  },
  {
   "cell_type": "code",
   "execution_count": 33,
   "id": "intensive-breakdown",
   "metadata": {},
   "outputs": [
    {
     "data": {
      "text/plain": [
       "37"
      ]
     },
     "execution_count": 33,
     "metadata": {},
     "output_type": "execute_result"
    }
   ],
   "source": [
    "false_negatives = list(test_true_pair_set - found_pair_set)\n",
    "len(false_negatives)"
   ]
  },
  {
   "cell_type": "code",
   "execution_count": 34,
   "id": "ultimate-snapshot",
   "metadata": {},
   "outputs": [],
   "source": [
    "cos_similarity = lambda a, b: np.dot(a, b)"
   ]
  },
  {
   "cell_type": "code",
   "execution_count": 35,
   "id": "complex-joint",
   "metadata": {},
   "outputs": [
    {
     "data": {
      "text/plain": [
       "(0.202635,\n",
       " {'id': 22,\n",
       "  'name': 'sony xplod 10 - disc add - on cd / mp3 changer - cdx565mxrf',\n",
       "  'description': 'sony xplod 10 - disc add - on cd / mp3 changer - cdx565mxrf / cd / cd - r / cd - rw and mp3 playback / mp3 decoding',\n",
       "  'price': '',\n",
       "  'source': 'abt',\n",
       "  'cluster_id': 22},\n",
       " {'id': 1143,\n",
       "  'name': 'sony cdx - 565mxrf 10 - disc cd / mp3 changer',\n",
       "  'description': '',\n",
       "  'manufacturer': 'Sony',\n",
       "  'price': '$ 134 . 12',\n",
       "  'source': 'buy',\n",
       "  'cluster_id': 22})"
      ]
     },
     "metadata": {},
     "output_type": "display_data"
    },
    {
     "data": {
      "text/plain": [
       "(0.21609841,\n",
       " {'id': 491,\n",
       "  'name': 'canon black eos rebel xsi digital slr camera - xsireb1855',\n",
       "  'description': 'canon black eos rebel xsi digital slr camera - xsireb1855 / 12 . 2 megapixel / digic iii image processor / extensive noise reduction technology / auto optimization / 3',\n",
       "  'price': '',\n",
       "  'source': 'abt',\n",
       "  'cluster_id': 491},\n",
       " {'id': 1817,\n",
       "  'name': 'canon eos rebel xsi digital slr camera - silver - 2757b001',\n",
       "  'description': \"12 . 2 megapixel - 3 ' active matrix tft color lcd\",\n",
       "  'manufacturer': 'Canon',\n",
       "  'price': '',\n",
       "  'source': 'buy',\n",
       "  'cluster_id': 491})"
      ]
     },
     "metadata": {},
     "output_type": "display_data"
    },
    {
     "data": {
      "text/plain": [
       "(0.1513691,\n",
       " {'id': 607,\n",
       "  'name': 'denon blu - ray disc dvd / cd digital player / transport - dvd2500btci',\n",
       "  'description': 'denon blu - ray disc dvd / cd digital player / transport - dvd2500btci / hdmi 1 . 3a with high definition output up to 1080p / full 10 -',\n",
       "  'price': '',\n",
       "  'source': 'abt',\n",
       "  'cluster_id': 607},\n",
       " {'id': 1653,\n",
       "  'name': 'denon dvd - 2500btci blu - ray disc player',\n",
       "  'description': 'bd - r , dvd - rw , cd - rw , secure digital ( sd ), mini secure digital ( minisd ) - bd video , dvd video ,',\n",
       "  'manufacturer': 'Denon',\n",
       "  'price': '$ 655 . 97',\n",
       "  'source': 'buy',\n",
       "  'cluster_id': 607})"
      ]
     },
     "metadata": {},
     "output_type": "display_data"
    },
    {
     "data": {
      "text/plain": [
       "(0.29346603,\n",
       " {'id': 128,\n",
       "  'name': 'sony playstation 2 8mb memory card ( 2 pack ) - red / blue finish - 711719706700',\n",
       "  'description': 'sony playstation 2 8mb memory card ( 2 pack ) - 711719706700 / save and load high scores , positions and replays / magicgate encryption / red / blue finish',\n",
       "  'price': '$ 34 . 99',\n",
       "  'source': 'abt',\n",
       "  'cluster_id': 128},\n",
       " {'id': 1109,\n",
       "  'name': 'sony 7 - 11719 - 70670 - 0 ps2 8 mb memory card 2 - pk - 97067',\n",
       "  'description': '',\n",
       "  'manufacturer': 'Sony',\n",
       "  'price': '',\n",
       "  'source': 'buy',\n",
       "  'cluster_id': 128})"
      ]
     },
     "metadata": {},
     "output_type": "display_data"
    },
    {
     "data": {
      "text/plain": [
       "(0.18179855,\n",
       " {'id': 940,\n",
       "  'name': 'canon black eos 50d digital slr camera body - eos50dbody',\n",
       "  'description': \"canon black eos 50d digital slr camera body - eos50dbody / 15 . 1 megapixel cmos sensor / digic 4 image processor / 3 . 0 ' clear view lcd\",\n",
       "  'price': '',\n",
       "  'source': 'abt',\n",
       "  'cluster_id': 940},\n",
       " {'id': 2098,\n",
       "  'name': \"canon eos 50d 15 megapixel slr digital camera with live view & face detection , 3 ' lcd , 6 . 3fps & digic 4 image processor - body only\",\n",
       "  'description': '',\n",
       "  'manufacturer': 'Canon',\n",
       "  'price': '$ 1 , 127 . 95',\n",
       "  'source': 'buy',\n",
       "  'cluster_id': 940})"
      ]
     },
     "metadata": {},
     "output_type": "display_data"
    },
    {
     "data": {
      "text/plain": [
       "(0.06297217,\n",
       " {'id': 1060,\n",
       "  'name': 'canon eos rebel xsi silver digital slr camera - xsireb1855s',\n",
       "  'description': 'canon eos rebel xsi silver digital slr camera - xsireb1855s / 12 . 2 megapixel / digic iii image processor / extensive noise reduction technology / auto optimization / 3',\n",
       "  'price': '$ 799 . 00',\n",
       "  'source': 'abt',\n",
       "  'cluster_id': 1060},\n",
       " {'id': 1742,\n",
       "  'name': 'canon eos rebel xsi digital slr camera with ef - s 18 - 55mm f / 3 . 5 - 5 . 6 is lens - silver - 2757b003',\n",
       "  'description': 'canon eos rebel xsi 12 megapixel digital slr camera with 18 - 55mm is lens - silver',\n",
       "  'manufacturer': 'Canon',\n",
       "  'price': '$ 649 . 88',\n",
       "  'source': 'buy',\n",
       "  'cluster_id': 1060})"
      ]
     },
     "metadata": {},
     "output_type": "display_data"
    },
    {
     "data": {
      "text/plain": [
       "(0.29186222,\n",
       " {'id': 702,\n",
       "  'name': 'lg lfx25971sw 24 . 7 cu . ft . smooth white french door bottom freezer refrigerator - lfx25971wh',\n",
       "  'description': 'lg lfx25971sw 24 . 7 cu . ft . smooth white french door bottom freezer refrigerator - lfx25971wh / 3 slide out tempered glass shelves / digital led display /',\n",
       "  'price': '',\n",
       "  'source': 'abt',\n",
       "  'cluster_id': 702},\n",
       " {'id': 1854,\n",
       "  'name': 'lg 25 cf refrigerator 3 door white tall',\n",
       "  'description': '',\n",
       "  'manufacturer': 'LG Electronics',\n",
       "  'price': '',\n",
       "  'source': 'buy',\n",
       "  'cluster_id': 702})"
      ]
     },
     "metadata": {},
     "output_type": "display_data"
    },
    {
     "data": {
      "text/plain": [
       "(-0.21566762,\n",
       " {'id': 186,\n",
       "  'name': 'universal mrf - 350 rf black base station - mrf350',\n",
       "  'description': 'universal mrf - 350 rf black base station - mrf350 / no more pointing / rf addressable / ir routing / expand operating range up to 100 feet / compatible',\n",
       "  'price': '$ 250 . 00',\n",
       "  'source': 'abt',\n",
       "  'cluster_id': 186},\n",
       " {'id': 1437,\n",
       "  'name': 'universal remote control mrf - 350 addressable narrow band rf base station with rfx - 250 antenna',\n",
       "  'description': '',\n",
       "  'manufacturer': 'UNIVERSAL REMOTE CONTROL, INC',\n",
       "  'price': '$ 174 . 72',\n",
       "  'source': 'buy',\n",
       "  'cluster_id': 186})"
      ]
     },
     "metadata": {},
     "output_type": "display_data"
    },
    {
     "data": {
      "text/plain": [
       "(0.13197073,\n",
       " {'id': 255,\n",
       "  'name': 'whirlpool white front load washer - wfw9200swh',\n",
       "  'description': 'whirlpool duet wfw9200sq white front load washer - wfw9200swh / 4 . 0 cu . ft . capacity / 6th sense technology / quiet wash plus noise reduction / built',\n",
       "  'price': '',\n",
       "  'source': 'abt',\n",
       "  'cluster_id': 255},\n",
       " {'id': 1952,\n",
       "  'name': \"whirlpool 27 ' duet washer horiz axis wp\",\n",
       "  'description': '',\n",
       "  'manufacturer': 'Whirlpool',\n",
       "  'price': '$ 910 . 91',\n",
       "  'source': 'buy',\n",
       "  'cluster_id': 255})"
      ]
     },
     "metadata": {},
     "output_type": "display_data"
    },
    {
     "data": {
      "text/plain": [
       "(0.16630988,\n",
       " {'id': 904,\n",
       "  'name': 'olympus stylus 1050 sw black digital camera - stylus1050swb',\n",
       "  'description': 'olympus stylus 1050 sw black digital camera - stylus1050swb / 10 . 1 megapixel / shockproof / waterproof up to 10 ft ./ freezeproof / 3x optical zoom / 2',\n",
       "  'price': '',\n",
       "  'source': 'abt',\n",
       "  'cluster_id': 904},\n",
       " {'id': 2013,\n",
       "  'name': \"olympus stylus 1050 sw 10 megapixel digital camera w / 3x optical zoom , 2 . 7 ' lcd , waterproof , shockproof & freezeproof , tap control , &\",\n",
       "  'description': '',\n",
       "  'manufacturer': 'Olympus',\n",
       "  'price': '$ 228 . 95',\n",
       "  'source': 'buy',\n",
       "  'cluster_id': 904})"
      ]
     },
     "metadata": {},
     "output_type": "display_data"
    }
   ],
   "source": [
    "for (id_left, id_right) in false_negatives[:10]:\n",
    "    display(\n",
    "        (\n",
    "            cos_similarity(test_left_vector_dict[id_left], test_right_vector_dict[id_right]),\n",
    "            row_dict[id_left], row_dict[id_right]\n",
    "        )\n",
    "    )"
   ]
  }
 ],
 "metadata": {
  "kernelspec": {
   "display_name": "Python 3",
   "language": "python",
   "name": "python3"
  },
  "language_info": {
   "codemirror_mode": {
    "name": "ipython",
    "version": 3
   },
   "file_extension": ".py",
   "mimetype": "text/x-python",
   "name": "python",
   "nbconvert_exporter": "python",
   "pygments_lexer": "ipython3",
   "version": "3.8.6"
  }
 },
 "nbformat": 4,
 "nbformat_minor": 5
}
